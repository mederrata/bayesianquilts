{
 "cells": [
  {
   "cell_type": "code",
   "execution_count": null,
   "metadata": {},
   "outputs": [],
   "source": []
  }
 ],
 "metadata": {
  "kernelspec": {
   "display_name": "Python 3",
   "language": "python",
   "name": "python3"
  },
  "language_info": {
   "name": "python",
   "version": "3.8.7 (default, Jan 17 2021, 13:09:36) \n[Clang 12.0.0 (clang-1200.0.32.28)]"
  },
  "orig_nbformat": 4,
  "vscode": {
   "interpreter": {
    "hash": "5c97245a7df8a8777b7317196bccce36114e7f0b649cc220670a5db11626c1a0"
   }
  }
 },
 "nbformat": 4,
 "nbformat_minor": 2
}
