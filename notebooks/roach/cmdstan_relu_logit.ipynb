{
 "cells": [
  {
   "cell_type": "code",
   "execution_count": 1,
   "metadata": {},
   "outputs": [],
   "source": [
    "\n",
    "%matplotlib inline\n",
    "from itertools import chain, combinations\n",
    "import matplotlib\n",
    "from matplotlib import pyplot as plt\n",
    "matplotlib.rcParams['pdf.fonttype'] = 42\n",
    "matplotlib.rcParams['ps.fonttype'] = 42\n",
    "matplotlib.rcParams['text.usetex'] = True\n",
    "from abc import ABC\n",
    "from cmdstanpy import CmdStanModel\n",
    "import numpy as np\n",
    "import pandas as pd\n",
    "from pathlib import Path\n",
    "import importlib\n",
    "\n",
    "from tqdm import tqdm\n",
    "import nest_asyncio\n",
    "nest_asyncio.apply()\n",
    "from collections import defaultdict\n",
    "from typing import Any\n",
    "import os\n",
    "\n",
    "from sklearn import metrics\n",
    "from matplotlib import pyplot as plt\n",
    "import importlib"
   ]
  },
  {
   "cell_type": "code",
   "execution_count": 2,
   "metadata": {},
   "outputs": [
    {
     "name": "stderr",
     "output_type": "stream",
     "text": [
      "2024-12-09 19:21:36.503244: I external/local_tsl/tsl/cuda/cudart_stub.cc:31] Could not find cuda drivers on your machine, GPU will not be used.\n",
      "2024-12-09 19:21:36.527686: E external/local_xla/xla/stream_executor/cuda/cuda_dnn.cc:9261] Unable to register cuDNN factory: Attempting to register factory for plugin cuDNN when one has already been registered\n",
      "2024-12-09 19:21:36.527711: E external/local_xla/xla/stream_executor/cuda/cuda_fft.cc:607] Unable to register cuFFT factory: Attempting to register factory for plugin cuFFT when one has already been registered\n",
      "2024-12-09 19:21:36.528665: E external/local_xla/xla/stream_executor/cuda/cuda_blas.cc:1515] Unable to register cuBLAS factory: Attempting to register factory for plugin cuBLAS when one has already been registered\n",
      "2024-12-09 19:21:36.533202: I external/local_tsl/tsl/cuda/cudart_stub.cc:31] Could not find cuda drivers on your machine, GPU will not be used.\n",
      "2024-12-09 19:21:36.533639: I tensorflow/core/platform/cpu_feature_guard.cc:182] This TensorFlow binary is optimized to use available CPU instructions in performance-critical operations.\n",
      "To enable the following instructions: AVX2 FMA, in other operations, rebuild TensorFlow with the appropriate compiler flags.\n"
     ]
    },
    {
     "name": "stderr",
     "output_type": "stream",
     "text": [
      "2024-12-09 19:21:37.091572: W tensorflow/compiler/tf2tensorrt/utils/py_utils.cc:38] TF-TRT Warning: Could not find TensorRT\n"
     ]
    }
   ],
   "source": [
    "\n",
    "import tensorflow as tf\n",
    "import tensorflow_probability as tfp\n",
    "import tensorflow_probability.python.bijectors as tfb\n",
    "\n",
    "# pip install github:https://github.com/mederrata/bayesianquilts\n",
    "from bayesianquilts.models.logistic_regression_reparam import LogisticRegression2\n",
    "from bayesianquilts.models.logistic_relunet import ShallowGaussianRelunet\n",
    "from bayesianquilts.metrics.classification import classification_metrics, auroc, auprc\n",
    "from bayesianquilts.sampler import psis, nppsis\n"
   ]
  },
  {
   "cell_type": "code",
   "execution_count": 3,
   "metadata": {},
   "outputs": [],
   "source": [
    "with importlib.resources.path('bayesianquilts', 'data') as data_path:\n",
    "    roach_path = data_path / \"roachdata.csv\"\n",
    "    df = pd.read_csv(roach_path)"
   ]
  },
  {
   "cell_type": "code",
   "execution_count": 4,
   "metadata": {},
   "outputs": [
    {
     "name": "stdout",
     "output_type": "stream",
     "text": [
      "(262, 4)\n"
     ]
    }
   ],
   "source": [
    "\n",
    "\n",
    "y_ = (df['y']>10).astype(int)\n",
    "X_ = df.iloc[:, 2:]\n",
    "X_scaled = (X_ - X_.mean())/X_.std()\n",
    "X_scaled = X_scaled.fillna(0).to_numpy()\n",
    "y_ = y_.to_numpy()\n",
    "N = X_scaled.shape[0]\n",
    "d = X_scaled.shape[1]\n",
    "\n",
    "print((N, d))"
   ]
  },
  {
   "cell_type": "code",
   "execution_count": 5,
   "metadata": {},
   "outputs": [],
   "source": [
    "logistic_relu_horseshoe_code = \"\"\"\n",
    "data {\n",
    "  int<lower=0> N;               // number of observations\n",
    "  int<lower=0> D_in;            // number of input features\n",
    "  int<lower=0> D_hidden;        // number of hidden units\n",
    "  matrix[N, D_in] X;            // input data (N x D_in matrix)\n",
    "  array[N] int<lower=0, upper=1> y;   // binary target labels (0 or 1)\n",
    "}\n",
    "\n",
    "parameters {\n",
    "  matrix[D_in, D_hidden] w_0;    // weights for the first layer\n",
    "  vector[D_hidden] b_0;          // biases for the first layer\n",
    "  \n",
    "  vector[D_hidden] w_1;          // weights for the output layer\n",
    "  real b_1;                      // bias for the output layer\n",
    "}\n",
    "\n",
    "transformed parameters {\n",
    "  vector[N] z_output;           // pre-activation output (logits)\n",
    "  vector[D_hidden] z_hidden;    // hidden layer (latent outputs)\n",
    "  for (n in 1:N) {\n",
    "    // Compute hidden layer activations with ReLU\n",
    "    for (j in 1:D_hidden) {\n",
    "      z_hidden[j] = X[n] * w_0[, j] + b_0[j];\n",
    "      z_hidden[j] = fmax(0, z_hidden[j]);  // ReLU activation\n",
    "    }\n",
    "    \n",
    "    // Compute the output logits (before applying sigmoid)\n",
    "    z_output[n] = dot_product(w_1, z_hidden) + b_1;\n",
    "  }\n",
    "}\n",
    "\n",
    "model {\n",
    "  // Priors on weights and biases (adjust based on your problem)\n",
    "  to_vector(w_0) ~ normal(0, 1);\n",
    "  b_0 ~ normal(0, 1);\n",
    "  w_1 ~ normal(0, 1);\n",
    "  b_1 ~ normal(0, 1);\n",
    "\n",
    "  // Likelihood (logistic sigmoid output)\n",
    "  y ~ bernoulli_logit(z_output);\n",
    "}\n",
    "\n",
    "\n",
    "\"\"\"\n",
    "\n",
    "with open(importlib.resources.path('bayesianquilts', 'stanmodels') / \"ovarian_relu_model.stan\", 'w') as f:\n",
    "  f.writelines(logistic_relu_horseshoe_code)\n"
   ]
  },
  {
   "cell_type": "code",
   "execution_count": 6,
   "metadata": {},
   "outputs": [
    {
     "name": "stderr",
     "output_type": "stream",
     "text": [
      "19:21:38 - cmdstanpy - INFO - compiling stan file /home/josh/workspace/bayesianquilts/bayesianquilts/stanmodels/ovarian_relu_model.stan to exe file /home/josh/workspace/bayesianquilts/bayesianquilts/stanmodels/ovarian_relu_model\n"
     ]
    },
    {
     "name": "stderr",
     "output_type": "stream",
     "text": [
      "19:21:51 - cmdstanpy - INFO - compiled model executable: /home/josh/workspace/bayesianquilts/bayesianquilts/stanmodels/ovarian_relu_model\n"
     ]
    }
   ],
   "source": [
    "with importlib.resources.path('bayesianquilts', 'stanmodels') as data_path:\n",
    "    model_path = data_path /  \"ovarian_relu_model.stan\"\n",
    "    sm = CmdStanModel(stan_file=model_path)"
   ]
  },
  {
   "cell_type": "code",
   "execution_count": 7,
   "metadata": {},
   "outputs": [],
   "source": [
    "d_hiden = 3\n",
    "\n",
    "# shuffle\n",
    "\n",
    "# shuffled_ndx = np.random.shuffle(np.arange(N))\n",
    "\n",
    "roach_data = {\n",
    "    \"N\": N,\n",
    "    \"D_in\": d,\n",
    "    \"D_hidden\": d_hiden,\n",
    "    \"y\": y_.astype(int).tolist(),\n",
    "    \"X\": X_scaled.tolist()\n",
    "}\n",
    "\n",
    "import json\n",
    "\n",
    "with open(importlib.resources.path('bayesianquilts', 'data')/ \"roach_relu_logit_data.json\", \"w\") as f:\n",
    "    json.dump(roach_data, f)"
   ]
  },
  {
   "cell_type": "code",
   "execution_count": 8,
   "metadata": {},
   "outputs": [
    {
     "name": "stdout",
     "output_type": "stream",
     "text": [
      "4\n"
     ]
    }
   ],
   "source": [
    "print(d)"
   ]
  },
  {
   "cell_type": "code",
   "execution_count": 9,
   "metadata": {},
   "outputs": [],
   "source": [
    "S = 2000\n",
    "if not os.path.isfile(importlib.resources.path('bayesianquilts', 'data')/'roach_relunet_params.npy'):\n",
    "    fit = sm.sample(\n",
    "        data=importlib.resources.path('bayesianquilts', 'data')/\"roach_relu_logit_data.json\",\n",
    "        iter_warmup=30000,\n",
    "        iter_sampling=S,\n",
    "        thin=2,\n",
    "        # **control\n",
    "    )\n",
    "    print(fit)\n",
    "    print(fit.diagnose())"
   ]
  },
  {
   "cell_type": "code",
   "execution_count": 10,
   "metadata": {},
   "outputs": [],
   "source": [
    "if not os.path.isfile(importlib.resources.path('bayesianquilts', 'data')/'roach_relunet_params.npy'):\n",
    "    params = fit.stan_variables()\n",
    "    {k: p.shape for k, p in params.items()}\n",
    "    params['b_1'] = params['b_1'][..., tf.newaxis]\n",
    "    params['w_1'] = params['w_1'][..., tf.newaxis]\n",
    "    np.save(importlib.resources.path('bayesianquilts', 'data')/'roach_relunet_params.npy', params)\n",
    "else:\n",
    "    params = np.load(importlib.resources.path('bayesianquilts', 'data')/'roach_relunet_params.npy', allow_pickle=True).tolist()"
   ]
  },
  {
   "cell_type": "code",
   "execution_count": 11,
   "metadata": {},
   "outputs": [],
   "source": [
    "nn_model = ShallowGaussianRelunet(\n",
    "    dim_regressors=d,\n",
    "    hidden_size=d_hiden\n",
    ")"
   ]
  },
  {
   "cell_type": "code",
   "execution_count": 12,
   "metadata": {},
   "outputs": [],
   "source": [
    "params = {k: tf.cast(v, nn_model.dtype) for k, v in params.items()}"
   ]
  },
  {
   "cell_type": "code",
   "execution_count": 13,
   "metadata": {},
   "outputs": [],
   "source": [
    "tfdata = tf.data.Dataset.from_tensor_slices({'X': X_scaled, 'y':y_})\n",
    "batch_size = N\n",
    "def data_factory_factory(batch_size=batch_size, repeat=False, shuffle=False):\n",
    "    def data_factory(batch_size=batch_size):\n",
    "        if shuffle:\n",
    "            out = tfdata.shuffle(batch_size*10)\n",
    "        else:\n",
    "            out = tfdata\n",
    "        \n",
    "        if repeat:\n",
    "            out = out.repeat()\n",
    "        return out.batch(batch_size)\n",
    "    return data_factory\n",
    "\n",
    "batch = next(iter(data_factory_factory()()))"
   ]
  },
  {
   "cell_type": "code",
   "execution_count": 14,
   "metadata": {},
   "outputs": [
    {
     "name": "stderr",
     "output_type": "stream",
     "text": [
      "1it [00:00, 23.79it/s]\n"
     ]
    },
    {
     "data": {
      "text/plain": [
       "(0.0, 1.0)"
      ]
     },
     "execution_count": 14,
     "metadata": {},
     "output_type": "execute_result"
    },
    {
     "data": {
      "image/png": "[encoded data removed]",
      "text/plain": [
       "<Figure size 900x200 with 2 Axes>"
      ]
     },
     "metadata": {},
     "output_type": "display_data"
    }
   ],
   "source": [
    "def prediction_fn(data):\n",
    "    pred = nn_model.predictive_distribution(data, **params)[\"logits\"][..., 1]\n",
    "    return tf.reduce_mean(pred, axis=0)\n",
    "\n",
    "bench = classification_metrics(\n",
    "    data_factory=data_factory_factory(),\n",
    "    prediction_fn=prediction_fn,\n",
    "    outcome_label='y',\n",
    "    by_vars=[]\n",
    ")\n",
    "\n",
    "fig, ax = plt.subplots(1, 2, figsize=(9, 2))\n",
    "ax[0].plot(bench['auroc']['fpr'], bench['auroc']['tpr'])\n",
    "ax[0].text(0.5, 0.1, f\"AUROC: {round(bench['auroc']['auroc'], 2)}\")\n",
    "ax[0].set_xlim((0, 1))\n",
    "ax[0].set_ylim((0, 1))\n",
    "ax[0].set_title(\"ROC\")\n",
    "\n",
    "ax[1].plot(bench['auprc']['recall'], bench['auprc']['precision'])\n",
    "ax[1].text(0.5, 0.8, f\"AUPRC: {round(bench['auprc']['auprc'], 2)}\")\n",
    "ax[1].set_title(\"Precision-Recall\")\n",
    "ax[1].set_xlim((0, 1))\n",
    "ax[1].set_ylim((0, 1))"
   ]
  },
  {
   "cell_type": "code",
   "execution_count": 15,
   "metadata": {},
   "outputs": [
    {
     "name": "stdout",
     "output_type": "stream",
     "text": [
      "I: 0.0008257510987200439 entropy: 5.748531146076027 khat>0.7: 13\n",
      "KL: 0.0008257758267346353 entropy: 5.748530118120903 khat>0.7: 13\n",
      "Var: 0.0008257824545108327 entropy: 5.748528947459313 khat>0.7: 13\n",
      "MM1: 0.000825750342112251 entropy: 5.748643793669039 khat>0.7: 13\n",
      "MM2: 0.004896915570872997 entropy: 5.9703238638948815 khat>0.7: 7\n"
     ]
    }
   ],
   "source": [
    "def entropy(probs):\n",
    "    return -tf.math.xlogy(probs, probs)\n",
    "\n",
    "\n",
    "def heaviside(x):\n",
    "    out = tf.where(x > 0, tf.ones_like(x), tf.zeros_like(x))\n",
    "    return out\n",
    "\n",
    "\n",
    "def adaptive_is_loo(\n",
    "    self: ShallowGaussianRelunet,\n",
    "    data: dict[str, tf.Tensor],\n",
    "    params,\n",
    "    hbar=1.0,\n",
    "    variational=True,\n",
    "    approx_jacobians=True,\n",
    ") -> dict[str, Any]:\n",
    "    \"\"\"_summary_\n",
    "\n",
    "    Args:\n",
    "        data (_type_): _description_\n",
    "        params (_type_): _description_\n",
    "        hbar (float, optional): _description_. Defaults to 1.0.\n",
    "        variational (bool, optional):\n",
    "            Should we trust the variational approximation?\n",
    "            If False, assumes that one is passing in all the data at once in a single batch.\n",
    "            Defaults to True.\n",
    "\n",
    "    Returns:\n",
    "        _type_: _description_\n",
    "    \"\"\"\n",
    "\n",
    "    # scaled (theta - bar(theta))/Sigma\n",
    "\n",
    "    _X = tf.cast(data[\"X\"], self.dtype)\n",
    "    _y = tf.cast(data[\"y\"], self.dtype)\n",
    "    mu = self.eval(_X, params)[..., 0]\n",
    "    sigma = tf.math.sigmoid(mu)\n",
    "    ell = _y * (sigma) + (1 - _y) * (1 - sigma)\n",
    "    log_ell = tf.math.xlogy(_y, sigma) + tf.math.xlogy(1 - _y, 1 - sigma)\n",
    "    log_ell_prime = _y * (1 - sigma) - (1 - _y) * sigma\n",
    "    log_ell_doubleprime = -sigma * (1 - sigma)\n",
    "    _, khat0 = nppsis.psislw(-log_ell)\n",
    "\n",
    "    \"\"\"\n",
    "    sigma.shape is samples x datapoints\n",
    "    \"\"\"\n",
    "\n",
    "    ndx_to_transform = np.where(khat0 > 0.7)[0]\n",
    "    ndx_to_leave = np.where((khat0 <= 0.7))[0]\n",
    "\n",
    "    def IS(T, X, y):\n",
    "        mu = self.eval(X, params)[..., 0]\n",
    "        sigma = tf.math.sigmoid(mu)\n",
    "        ell = y * (sigma) + (1 - y) * (1 - sigma)\n",
    "        log_ell = tf.math.xlogy(y, sigma) + tf.math.xlogy(1 - y, 1 - sigma)\n",
    "        log_ell_prime = y * (1 - sigma) - (1 - y) * sigma\n",
    "        log_ell_doubleprime = -sigma * (1 - sigma)\n",
    "        # compute # \\nabla\\log\\pi(\\btheta|\\calD)\n",
    "        if variational:\n",
    "            # \\nabla\\log\\pi = -\\Sigma^{-1}(theta - \\bar{\\theta})\n",
    "            grad_log_pi = {\n",
    "                \"b_0\": -(\n",
    "                    params[\"b_0\"] - self.surrogate_distribution.model[\"b_0\"].mean()\n",
    "                )\n",
    "                / self.surrogate_distribution.model[\"b_0\"].variance(),\n",
    "                \"b_1\": -(\n",
    "                    params[\"b_1\"] - self.surrogate_distribution.model[\"b_1\"].mean()\n",
    "                )\n",
    "                / self.surrogate_distribution.model[\"b_1\"].variance(),\n",
    "                \"w_0\": -(\n",
    "                    params[\"w_0\"] - self.surrogate_distribution.model[\"w_0\"].mean()\n",
    "                )\n",
    "                / self.surrogate_distribution.model[\"w_0\"].variance(),\n",
    "                \"w_1\": -(\n",
    "                    params[\"w_1\"] - self.surrogate_distribution.model[\"w_1\"].mean()\n",
    "                )\n",
    "                / self.surrogate_distribution.model[\"w_1\"].variance(),\n",
    "            }\n",
    "            b0_sd = self.surrogate_distribution.model[\"b_0\"].variance() ** 0.5\n",
    "            b1_sd = self.surrogate_distribution.model[\"b_1\"].variance() ** 0.5\n",
    "            w0_sd = self.surrogate_distribution.model[\"w_0\"].variance() ** 0.5\n",
    "            w1_sd = self.surrogate_distribution.model[\"w_1\"].variance() ** 0.5\n",
    "            log_pi = (\n",
    "                self.surrogate_distribution.model[\"b_0\"].log_prob(params[\"b_0\"])\n",
    "                + self.surrogate_distribution.model[\"b_1\"].log_prob(params[\"b_1\"])\n",
    "                + self.surrogate_distribution.model[\"w_1\"].log_prob(params[\"w_1\"])\n",
    "                + self.surrogate_distribution.model[\"w_0\"].log_prob(params[\"w_0\"])\n",
    "            )\n",
    "            log_pi -= tf.reduce_max(log_pi, axis=0)\n",
    "            # log_pi.shape: [samples]\n",
    "        else:\n",
    "            \"\"\"\n",
    "            Recall Bayes rule:\n",
    "            \\log pi(\\btheta|\\calD) = \\sum_i\\log ell_i(\\btheta) + \\log\\pi(\\btheta) + const\n",
    "\n",
    "            so\n",
    "            \\nabla\\log\\pi(\\btheta|\\calD) = \\sum_i (ell_i)'x + grad\\log\\pi(\\btheta)\n",
    "\n",
    "            \"\"\"\n",
    "            log_prior = self.prior_distribution.log_prob(params)\n",
    "\n",
    "            log_pi = tf.reduce_sum(log_ell, axis=1, keepdims=True)[:, 0]\n",
    "            z1 = tf.nn.relu(tf.matmul(X, params[\"w_0\"]))\n",
    "            # pi \\propto #@TODO\n",
    "\n",
    "            grad_log_pi = {\n",
    "                \"b_0\": (\n",
    "                    tf.reduce_sum(\n",
    "                        (\n",
    "                            params[\"w_1\"][..., tf.newaxis, :, :]\n",
    "                            * log_ell_prime[..., tf.newaxis, tf.newaxis]\n",
    "                        )\n",
    "                        * heaviside(z1)[..., tf.newaxis],\n",
    "                        axis=1,\n",
    "                        keepdims=False,\n",
    "                    )[..., 0]\n",
    "                    - 0.5 * params[\"b_0\"] ** 2\n",
    "                ),\n",
    "                \"b_1\": tf.reduce_sum(\n",
    "                    log_ell_prime[..., tf.newaxis], axis=1, keepdims=False\n",
    "                )\n",
    "                - 0.5 * params[\"b_1\"] ** 2,\n",
    "                \"w_0\": (\n",
    "                    tf.reduce_sum(\n",
    "                        (\n",
    "                            (\n",
    "                                params[\"w_1\"][..., tf.newaxis, :, :]\n",
    "                                * log_ell_prime[..., tf.newaxis, tf.newaxis]\n",
    "                                * heaviside(z1)[..., tf.newaxis]\n",
    "                            )[..., tf.newaxis, :, 0]\n",
    "                            * X[..., tf.newaxis]\n",
    "                        ),\n",
    "                        axis=1,\n",
    "                        keepdims=False,\n",
    "                    )  # want S x N x k\n",
    "                    - 0.5 * params[\"w_0\"] ** 2\n",
    "                ),\n",
    "                \"w_1\": tf.reduce_sum(\n",
    "                    log_ell_prime[..., tf.newaxis, tf.newaxis] * z1[..., tf.newaxis],\n",
    "                    axis=1,\n",
    "                    keepdims=False,\n",
    "                )\n",
    "                - 0.5 * params[\"w_1\"] ** 2,\n",
    "            }\n",
    "\n",
    "            grad_log_prior = {\n",
    "                \"b_0\": -0.5 * params[\"b_0\"] ** 2\n",
    "                - 0.5 * tf.cast(tf.math.sqrt(2 * np.pi), self.dtype),\n",
    "                \"b_1\": -0.5 * params[\"b_1\"] ** 2\n",
    "                - 0.5 * tf.cast(tf.math.sqrt(2 * np.pi), self.dtype),\n",
    "                \"w_0\": -0.5 * params[\"w_0\"] ** 2\n",
    "                - 0.5 * tf.cast(tf.math.sqrt(2 * np.pi), self.dtype),\n",
    "                \"w_1\": -0.5 * params[\"w_1\"] ** 2\n",
    "                - 0.5 * tf.cast(tf.math.sqrt(2 * np.pi), self.dtype),\n",
    "            }\n",
    "            # grad_log_pi += grad_log_prior[:, tf.newaxis, :]\n",
    "\n",
    "            b0_sd = tf.math.reduce_std(params[\"b_0\"], 0, keepdims=True)\n",
    "            b1_sd = tf.math.reduce_std(params[\"b_1\"], 0, keepdims=True)\n",
    "            w0_sd = tf.math.reduce_std(params[\"w_0\"], 0, keepdims=True)\n",
    "            w1_sd = tf.math.reduce_std(params[\"w_1\"], 0, keepdims=True)\n",
    "\n",
    "        b0_adj, b1_adj, w0_adj, w1_adj, logJ = T(\n",
    "            X,\n",
    "            y,\n",
    "            log_pi=log_pi,\n",
    "            grad_log_pi=grad_log_pi,\n",
    "            b0_sd=b0_sd,\n",
    "            b1_sd=b1_sd,\n",
    "            w0_sd=w0_sd,\n",
    "            w1_sd=w1_sd,\n",
    "        )\n",
    "        transformed = {\"b_0\": b0_adj, \"b_1\": b1_adj, \"w_0\": w0_adj, \"w_1\": w1_adj}\n",
    "        mu_new = self.nn.eval(X[:, tf.newaxis, :], [w0_adj, b0_adj, w1_adj, b1_adj])[\n",
    "            ..., 0, 0\n",
    "        ]\n",
    "        sigma_new = tf.math.sigmoid(mu_new)\n",
    "        ell_new = y * (sigma_new) + (1 - y) * (1 - sigma_new)\n",
    "        log_ell_new = tf.math.xlogy(y, sigma_new) + tf.math.xlogy(1 - y, 1 - sigma_new)\n",
    "\n",
    "        if variational:\n",
    "            # We trust the variational approximation, so \\hat{pi} = pi\n",
    "            # N_samples x N_data\n",
    "            delta_log_pi = (\n",
    "                self.surrogate_distribution.log_prob(transformed)\n",
    "                - log_pi[:, tf.newaxis]\n",
    "            )\n",
    "            delta_log_pi = delta_log_pi - tf.reduce_max(\n",
    "                delta_log_pi, axis=0, keepdims=True\n",
    "            )\n",
    "\n",
    "        else:\n",
    "            # we don't trust the variational approximation\n",
    "            # Need to compute log_pi directly by summing over the likelihood\n",
    "\n",
    "            ell_cross = tf.math.sigmoid(\n",
    "                self.nn.eval(X, [w0_adj, b0_adj, w1_adj, b1_adj])[..., 0]\n",
    "            )\n",
    "            ell_cross = tf.math.xlogy(y, ell_cross) + tf.math.xlogy(\n",
    "                1 - y, 1 - ell_cross\n",
    "            )\n",
    "            ell_cross = tf.math.reduce_sum(ell_cross, axis=-1)\n",
    "\n",
    "            log_prior_new = self.prior_distribution.log_prob(transformed)\n",
    "\n",
    "            log_pi_new = ell_cross\n",
    "            delta_log_prior = log_prior_new - log_prior[:, tf.newaxis]\n",
    "            # Incorporate the prior\n",
    "            delta_log_pi = log_pi_new - log_pi[:, tf.newaxis] + delta_log_prior\n",
    "\n",
    "        # regularize delta_log_pi\n",
    "\n",
    "        def regularize(tensor):\n",
    "            min_finite = tf.reduce_min(\n",
    "                tf.where(\n",
    "                    tf.math.is_finite(tensor),\n",
    "                    tensor,\n",
    "                    tf.zeros_like(tensor),\n",
    "                )\n",
    "            )\n",
    "            return tf.where(\n",
    "                tf.math.is_finite(tensor),\n",
    "                tensor,\n",
    "                min_finite * tf.ones_like(tensor),\n",
    "            )\n",
    "\n",
    "        delta_log_pi = regularize(delta_log_pi)\n",
    "        delta_log_pi -= tf.reduce_max(delta_log_pi, axis=0)\n",
    "        log_eta_weights = delta_log_pi - regularize(log_ell_new) + logJ\n",
    "        log_eta_weights = log_eta_weights - tf.reduce_max(log_eta_weights, axis=0)\n",
    "        psis_weights, khat = nppsis.psislw(log_eta_weights)\n",
    "\n",
    "        eta_weights = tf.math.exp(log_eta_weights)\n",
    "        eta_weights = eta_weights / tf.reduce_sum(eta_weights, axis=0, keepdims=True)\n",
    "\n",
    "        psis_weights = tf.math.exp(psis_weights)\n",
    "        psis_weights = psis_weights / tf.math.reduce_sum(\n",
    "            psis_weights, axis=0, keepdims=True\n",
    "        )\n",
    "\n",
    "        weight_entropy = entropy(eta_weights)\n",
    "        psis_entropy = entropy(psis_weights)\n",
    "\n",
    "        p_loo_new = tf.reduce_sum(sigma_new * eta_weights, axis=0)\n",
    "        p_loo_psis = tf.reduce_sum(sigma_new * psis_weights, axis=0)\n",
    "        p_loo_sd = tf.math.reduce_std(sigma_new * eta_weights, axis=0)\n",
    "        ll_loo_new = tf.reduce_sum(eta_weights * ell_new, axis=0)\n",
    "        ll_loo_psis = tf.reduce_sum(psis_weights * ell_new, axis=0)\n",
    "        ll_loo_sd = tf.math.reduce_std(eta_weights * ell_new, axis=0)\n",
    "        out = (\n",
    "            eta_weights,\n",
    "            psis_weights,\n",
    "            p_loo_new,\n",
    "            p_loo_sd,\n",
    "            ll_loo_new,\n",
    "            ll_loo_sd,\n",
    "            weight_entropy,\n",
    "            khat,\n",
    "            p_loo_psis,\n",
    "            ll_loo_psis,\n",
    "        )\n",
    "        return out\n",
    "\n",
    "    def T_kl(X, y, log_pi, grad_log_pi, b0_sd, b1_sd, w0_sd, w1_sd, **kwargs):\n",
    "        log_pi_ = log_pi - tf.reduce_max(log_pi, axis=0, keepdims=True)\n",
    "        mu = self.eval(X, params)[..., 0]\n",
    "        sigma = tf.math.sigmoid(mu)\n",
    "        pre = ((-1) ** y * tf.math.exp(log_pi_[..., tf.newaxis] + mu * (1 - 2 * y)))[\n",
    "            ..., tf.newaxis\n",
    "        ]\n",
    "        z1 = tf.nn.relu(tf.matmul(X, params[\"w_0\"]))\n",
    "        Q_b1 = pre\n",
    "        Q_w1 = (pre * z1)[..., tf.newaxis]\n",
    "        Q_b0 = (\n",
    "            pre[..., tf.newaxis]\n",
    "            * heaviside(z1)[..., tf.newaxis]\n",
    "            * params[\"w_1\"][..., tf.newaxis, :, :]\n",
    "        )\n",
    "        Q_w0 = (\n",
    "            pre[..., tf.newaxis, :]\n",
    "            * heaviside(z1)[..., tf.newaxis, :]\n",
    "            * X[..., tf.newaxis]\n",
    "            * params[\"w_1\"][..., tf.newaxis, tf.newaxis, :, 0]\n",
    "        )\n",
    "\n",
    "        standardized = tf.concat(\n",
    "            [\n",
    "                tf.reduce_max(tf.math.abs(Q_b0 / tf.transpose(b0_sd)), axis=-1),\n",
    "                tf.math.abs(Q_b1 / b1_sd),\n",
    "                tf.reduce_max(tf.math.abs(Q_w0 / w0_sd), axis=-1),\n",
    "                (Q_w1 / w1_sd)[..., 0],\n",
    "            ],\n",
    "            axis=-1,\n",
    "        )\n",
    "        standardized = tf.reduce_max(tf.math.abs(standardized), axis=-1)\n",
    "        standardized = tf.reduce_max(standardized, axis=0, keepdims=True)[\n",
    "            ..., tf.newaxis\n",
    "        ]\n",
    "\n",
    "        h = hbar / standardized\n",
    "\n",
    "        b0_adj = params[\"b_0\"][..., tf.newaxis, :] + h * Q_b0[..., 0]\n",
    "        b1_adj = params[\"b_1\"][..., tf.newaxis, :] + h * Q_b1\n",
    "        w0_adj = params[\"w_0\"][..., tf.newaxis, :, :] + h[..., tf.newaxis] * Q_w0\n",
    "        w1_adj = params[\"w_1\"][..., tf.newaxis, :, :] + h[..., tf.newaxis] * Q_w1\n",
    "\n",
    "        eigen_plus = tf.reduce_sum(\n",
    "            heaviside(z1)[..., tf.newaxis] * X[:, tf.newaxis] ** 2, axis=-1\n",
    "        )\n",
    "        eigen_plus = tf.math.sqrt(eigen_plus)\n",
    "\n",
    "        u_k = heaviside(z1)[..., tf.newaxis] * X[:, tf.newaxis]\n",
    "        u_k = tf.math.sqrt(tf.math.reduce_sum(u_k**2, axis=-1))  # norm |u_k|\n",
    "\n",
    "        #\n",
    "        Jpre = (-1) ** y[tf.newaxis, :] * tf.math.exp(\n",
    "            log_pi_[..., tf.newaxis] + mu * (1 - 2 * y[tf.newaxis, :])\n",
    "        )\n",
    "\n",
    "        # assumeble the Jacobian approximation\n",
    "        # |J| = | 1 + h\\nabla\\cdot Q|\n",
    "\n",
    "        dQ_b0 = (grad_log_pi[\"b_0\"] * tf.math.exp(log_pi_)[:, tf.newaxis])[\n",
    "            :, tf.newaxis, :, tf.newaxis\n",
    "        ] + (1 - 2 * y[ tf.newaxis, :, tf.newaxis, tf.newaxis]) * (\n",
    "            heaviside(z1)[..., tf.newaxis] * params[\"w_1\"][..., tf.newaxis, :, :]\n",
    "        )\n",
    "\n",
    "        dQ_w0 = (\n",
    "            grad_log_pi[\"w_0\"][..., tf.newaxis, :, :]\n",
    "            * tf.math.exp(log_pi_)[:, tf.newaxis, tf.newaxis, tf.newaxis]\n",
    "            + (1 - 2 * y[tf.newaxis, :, tf.newaxis, tf.newaxis])\n",
    "            * heaviside(z1)[..., tf.newaxis, :]\n",
    "            * X[tf.newaxis, :, :, tf.newaxis]\n",
    "            * params[\"w_1\"][..., 0][..., tf.newaxis, tf.newaxis, :]\n",
    "        )\n",
    "\n",
    "        dQ_b1 = (grad_log_pi[\"b_1\"] * tf.math.exp(log_pi_)[:, tf.newaxis])[\n",
    "            :, tf.newaxis, :\n",
    "        ] + (1 - 2 * y[tf.newaxis, :, tf.newaxis]) \n",
    "\n",
    "        dQ_w1 = (\n",
    "            grad_log_pi[\"w_1\"][..., tf.newaxis, :, :]\n",
    "            * tf.math.exp(log_pi_)[:, tf.newaxis, tf.newaxis, tf.newaxis]\n",
    "            + (1 - 2 * y[tf.newaxis, :, tf.newaxis, tf.newaxis])\n",
    "            * z1[..., tf.newaxis]\n",
    "        )\n",
    "        \n",
    "        dQ_b0 = tf.reduce_sum(h[..., tf.newaxis]*dQ_b0*Q_b0, axis=[-1, -2])\n",
    "        dQ_b1 = tf.reduce_sum(h*dQ_b1*Q_b1, axis=[-1])\n",
    "        dQ_w0 = tf.reduce_sum(h[..., tf.newaxis]*dQ_w0*Q_w0, axis=[-1, -2])\n",
    "        dQ_w1 = tf.reduce_sum(h[..., tf.newaxis]*dQ_w1*Q_w1, axis=[-1, -2])\n",
    "\n",
    "        logJ = tf.math.log1p(dQ_b0 + dQ_b1 + dQ_w0 + dQ_w1)\n",
    "        return b0_adj, b1_adj, w0_adj, w1_adj, logJ\n",
    "\n",
    "    def T_I(X, y, **kwargs):\n",
    "        mu = self.eval(X, params)[..., 0]\n",
    "        sigma = tf.math.sigmoid(mu)\n",
    "\n",
    "        log_ell = tf.math.xlogy(y, sigma) + tf.math.xlogy(1 - y, 1 - sigma)\n",
    "        Q = tf.zeros_like(log_ell)\n",
    "        out = (\n",
    "            params[\"b_0\"][..., tf.newaxis, :] + Q[..., tf.newaxis],\n",
    "            params[\"b_1\"][..., tf.newaxis, :] + Q[..., tf.newaxis],\n",
    "            params[\"w_0\"][..., tf.newaxis, :, :] + Q[..., tf.newaxis, tf.newaxis],\n",
    "            params[\"w_1\"][..., tf.newaxis, :, :] + Q[..., tf.newaxis, tf.newaxis],\n",
    "            tf.zeros_like(Q),\n",
    "        )\n",
    "        return out\n",
    "\n",
    "    def T_var(X, y, log_pi, grad_log_pi, b0_sd, b1_sd, w0_sd, w1_sd, **kwargs):\n",
    "        log_pi_ = log_pi - tf.reduce_max(log_pi, axis=0, keepdims=True)\n",
    "        mu = self.eval(X, params)[..., 0]\n",
    "        sigma = tf.math.sigmoid(mu)\n",
    "        pre = ((-1) ** y * tf.math.exp(log_pi_[..., tf.newaxis] + 2* mu * (1 - 2 * y)))[\n",
    "            ..., tf.newaxis\n",
    "        ]\n",
    "        z1 = tf.nn.relu(tf.matmul(X, params[\"w_0\"]))\n",
    "        Q_b1 = pre\n",
    "        Q_w1 = (pre * z1)[..., tf.newaxis]\n",
    "        Q_b0 = (\n",
    "            pre[..., tf.newaxis]\n",
    "            * heaviside(z1)[..., tf.newaxis]\n",
    "            * params[\"w_1\"][..., tf.newaxis, :, :]\n",
    "        )\n",
    "        Q_w0 = (\n",
    "            pre[..., tf.newaxis, :]\n",
    "            * heaviside(z1)[..., tf.newaxis, :]\n",
    "            * X[..., tf.newaxis]\n",
    "            * params[\"w_1\"][..., tf.newaxis, tf.newaxis, :, 0]\n",
    "        )\n",
    "\n",
    "        standardized = tf.concat(\n",
    "            [\n",
    "                tf.reduce_max(tf.math.abs(Q_b0 / tf.transpose(b0_sd)), axis=-1),\n",
    "                tf.math.abs(Q_b1 / b1_sd),\n",
    "                tf.reduce_max(tf.math.abs(Q_w0 / w0_sd), axis=-1),\n",
    "                (Q_w1 / w1_sd)[..., 0],\n",
    "            ],\n",
    "            axis=-1,\n",
    "        )\n",
    "        standardized = tf.reduce_max(tf.math.abs(standardized), axis=-1)\n",
    "        standardized = tf.reduce_max(standardized, axis=0, keepdims=True)[\n",
    "            ..., tf.newaxis\n",
    "        ]\n",
    "\n",
    "        h = hbar / standardized\n",
    "\n",
    "        b0_adj = params[\"b_0\"][..., tf.newaxis, :] + h * Q_b0[..., 0]\n",
    "        b1_adj = params[\"b_1\"][..., tf.newaxis, :] + h * Q_b1\n",
    "        w0_adj = params[\"w_0\"][..., tf.newaxis, :, :] + h[..., tf.newaxis] * Q_w0\n",
    "        w1_adj = params[\"w_1\"][..., tf.newaxis, :, :] + h[..., tf.newaxis] * Q_w1\n",
    "\n",
    "        eigen_plus = tf.reduce_sum(\n",
    "            heaviside(z1)[..., tf.newaxis] * X[:, tf.newaxis] ** 2, axis=-1\n",
    "        )\n",
    "        eigen_plus = tf.math.sqrt(eigen_plus)\n",
    "\n",
    "        u_k = heaviside(z1)[..., tf.newaxis] * X[:, tf.newaxis]\n",
    "        u_k = tf.math.sqrt(tf.math.reduce_sum(u_k**2, axis=-1))  # norm |u_k|\n",
    "\n",
    "        #\n",
    "        Jpre = (-1) ** y[tf.newaxis, :] * tf.math.exp(\n",
    "            log_pi_[..., tf.newaxis] + mu * (1 - 2 * y[tf.newaxis, :])\n",
    "        )\n",
    "\n",
    "        # assumeble the Jacobian approximation\n",
    "        # |J| = | 1 + h\\nabla\\cdot Q|\n",
    "\n",
    "        dQ_b0 = (grad_log_pi[\"b_0\"] * tf.math.exp(log_pi_)[:, tf.newaxis])[\n",
    "            :, tf.newaxis, :, tf.newaxis\n",
    "        ] + 2*(1 - 2 * y[ tf.newaxis, :, tf.newaxis, tf.newaxis]) * (\n",
    "            heaviside(z1)[..., tf.newaxis] * params[\"w_1\"][..., tf.newaxis, :, :]\n",
    "        )\n",
    "\n",
    "        dQ_w0 = (\n",
    "            grad_log_pi[\"w_0\"][..., tf.newaxis, :, :]\n",
    "            * tf.math.exp(log_pi_)[:, tf.newaxis, tf.newaxis, tf.newaxis]\n",
    "            + 2*(1 - 2 * y[tf.newaxis, :, tf.newaxis, tf.newaxis])\n",
    "            * heaviside(z1)[..., tf.newaxis, :]\n",
    "            * X[tf.newaxis, :, :, tf.newaxis]\n",
    "            * params[\"w_1\"][..., 0][..., tf.newaxis, tf.newaxis, :]\n",
    "        )\n",
    "\n",
    "        dQ_b1 = (grad_log_pi[\"b_1\"] * tf.math.exp(log_pi_)[:, tf.newaxis])[\n",
    "            :, tf.newaxis, :\n",
    "        ] + 2*(1 - 2 * y[tf.newaxis, :, tf.newaxis])\n",
    "\n",
    "        dQ_w1 = (\n",
    "            grad_log_pi[\"w_1\"][..., tf.newaxis, :, :]\n",
    "            * tf.math.exp(log_pi_)[:, tf.newaxis, tf.newaxis, tf.newaxis]\n",
    "            + 2*(1 - 2 * y[tf.newaxis, :, tf.newaxis, tf.newaxis])\n",
    "            * z1[..., tf.newaxis]\n",
    "        )\n",
    "        \n",
    "        dQ_b0 = tf.reduce_sum(h[..., tf.newaxis]*dQ_b0*Q_b0, axis=[-1, -2])\n",
    "        dQ_b1 = tf.reduce_sum(h*dQ_b1*Q_b1, axis=[-1])\n",
    "        dQ_w0 = tf.reduce_sum(h[..., tf.newaxis]*dQ_w0*Q_w0, axis=[-1, -2])\n",
    "        dQ_w1 = tf.reduce_sum(h[..., tf.newaxis]*dQ_w1*Q_w1, axis=[-1, -2])\n",
    "\n",
    "        logJ = tf.math.log1p(dQ_b0 + dQ_b1 + dQ_w0 + dQ_w1)\n",
    "        return b0_adj, b1_adj, w0_adj, w1_adj, logJ\n",
    "\n",
    "    def T_MM1(X, y, **kwargs):\n",
    "        # need to transform b_0, b_1, w_0, w_1\n",
    "        mu = self.eval(X, params)[..., 0]\n",
    "        sigma = tf.math.sigmoid(mu)\n",
    "        ell = y * (sigma) + (1 - y) * (1 - sigma)  # S x N\n",
    "\n",
    "        weights = (\n",
    "            1\n",
    "            / ell[..., tf.newaxis]\n",
    "            / tf.reduce_sum(1 / ell[..., tf.newaxis], axis=0, keepdims=True)\n",
    "        )\n",
    "\n",
    "        def theta_bar(param, weights):  # param is S x K\n",
    "            hat = tf.reduce_mean(param[:, tf.newaxis, ...], axis=0, keepdims=True)\n",
    "            if len(param.shape) > 2:\n",
    "                weights = weights[..., tf.newaxis]\n",
    "            hat_w = param[:, tf.newaxis, ...] * weights\n",
    "            hat_w = tf.reduce_sum(hat_w, axis=0, keepdims=True)\n",
    "            v = tf.reduce_mean((param[:, tf.newaxis, ...] - hat) ** 2)\n",
    "            v_w = tf.reduce_sum(\n",
    "                weights * (param[:, tf.newaxis, ...] - hat) ** 2, axis=0, keepdims=True\n",
    "            )\n",
    "            return hat, hat_w, v, v_w\n",
    "\n",
    "        bar_b0, bar_b0_w, b0_v, b0_v_w = theta_bar(params[\"b_0\"], weights)\n",
    "        bar_b1, bar_b1_w, b1_v, b1_v_w = theta_bar(params[\"b_1\"], weights)\n",
    "\n",
    "        bar_w0, bar_w0_w, w0_v, w0_v_w = theta_bar(params[\"w_0\"], weights)\n",
    "        bar_w1, bar_w1_w, w1_v, w1_v_w = theta_bar(params[\"w_1\"], weights)\n",
    "\n",
    "        # tf.math.exp(0.5*(tf.math.log(beta_v_w) - tf.math.log(beta_v)))-tf.math.sqrt(beta_v_w / beta_v)\n",
    "\n",
    "        b0_adj = params[\"b_0\"][:, tf.newaxis, ...] + hbar * (-bar_b0 + bar_b0_w)\n",
    "        b1_adj = params[\"b_1\"][:, tf.newaxis, ...] + hbar * (-bar_b1 + bar_b1_w)\n",
    "        w0_adj = params[\"w_0\"][:, tf.newaxis, ...] + hbar * (-bar_w0 + bar_w0_w)\n",
    "        w1_adj = params[\"w_1\"][:, tf.newaxis, ...] + hbar * (-bar_w1 + bar_w1_w)\n",
    "\n",
    "        return b0_adj, b1_adj, w0_adj, w1_adj, tf.zeros_like(ell)\n",
    "\n",
    "    def T_MM2(X, y, **kwargs):\n",
    "\n",
    "        mu = self.eval(X, params)[..., 0]\n",
    "        sigma = tf.math.sigmoid(mu)\n",
    "        ell = y * (sigma) + (1 - y) * (1 - sigma)  # S x N\n",
    "\n",
    "        weights = (\n",
    "            1\n",
    "            / ell[..., tf.newaxis]\n",
    "            / tf.reduce_sum(1 / ell[..., tf.newaxis], axis=0, keepdims=True)\n",
    "        )\n",
    "\n",
    "        def theta_bar(param, weights):  # param is S x K\n",
    "            hat = tf.reduce_mean(param[:, tf.newaxis, ...], axis=0, keepdims=True)\n",
    "            if len(param.shape) > 2:\n",
    "                weights = weights[..., tf.newaxis]\n",
    "            hat_w = param[:, tf.newaxis, ...] * weights\n",
    "            hat_w = tf.reduce_sum(hat_w, axis=0, keepdims=True)\n",
    "            v = tf.reduce_mean((param[:, tf.newaxis, ...] - hat) ** 2)\n",
    "            v_w = tf.reduce_sum(\n",
    "                weights * (param[:, tf.newaxis, ...] - hat) ** 2, axis=0, keepdims=True\n",
    "            )\n",
    "            return hat, hat_w, v, v_w\n",
    "\n",
    "        bar_b0, bar_b0_w, b0_v, b0_v_w = theta_bar(params[\"b_0\"], weights)\n",
    "        bar_b1, bar_b1_w, b1_v, b1_v_w = theta_bar(params[\"b_1\"], weights)\n",
    "\n",
    "        bar_w0, bar_w0_w, w0_v, w0_v_w = theta_bar(params[\"w_0\"], weights)\n",
    "        bar_w1, bar_w1_w, w1_v, w1_v_w = theta_bar(params[\"w_1\"], weights)\n",
    "\n",
    "        # tf.math.exp(0.5*(tf.math.log(beta_v_w) - tf.math.log(beta_v)))-tf.math.sqrt(beta_v_w / beta_v)\n",
    "\n",
    "        b0_adj = params[\"b_0\"][:, tf.newaxis, ...] + hbar * (\n",
    "            (tf.math.sqrt(b0_v_w / b0_v) - 1) * params[\"b_0\"][:, tf.newaxis, ...]\n",
    "            - tf.math.sqrt(b0_v_w / b0_v) * bar_b0\n",
    "            + bar_b0_w\n",
    "        )\n",
    "        b1_adj = params[\"b_1\"][:, tf.newaxis, ...] + hbar * (\n",
    "            (tf.math.sqrt(b1_v_w / b1_v) - 1) * params[\"b_1\"][:, tf.newaxis, ...]\n",
    "            - tf.math.sqrt(b1_v_w / b1_v) * bar_b1\n",
    "            + bar_b0_w\n",
    "        )\n",
    "        w0_adj = params[\"w_0\"][:, tf.newaxis, ...] + hbar * (\n",
    "            (tf.math.sqrt(w0_v_w / w0_v) - 1) * params[\"w_0\"][:, tf.newaxis, ...]\n",
    "            - tf.math.sqrt(w0_v_w / w0_v) * bar_w0\n",
    "            + bar_w0_w\n",
    "        )\n",
    "        w1_adj = params[\"w_1\"][:, tf.newaxis, ...] + hbar * (\n",
    "            (tf.math.sqrt(w1_v_w / w1_v) - 1) * params[\"w_1\"][:, tf.newaxis, ...]\n",
    "            - tf.math.sqrt(w1_v_w / w1_v) * bar_w1\n",
    "            + bar_w1_w\n",
    "        )\n",
    "\n",
    "        # piece together the Jacobian\n",
    "        # every component gets multiplied by something like (sqrt(beta0_v_w/beta0_v)-1)\n",
    "\n",
    "        J_b0 = tf.math.sqrt(b0_v_w / b0_v) - 1\n",
    "        J_b1 = tf.math.sqrt(b1_v_w / b1_v) - 1\n",
    "        J_w0 = tf.math.sqrt(w0_v_w / w0_v) - 1\n",
    "        J_w1 = tf.math.sqrt(w1_v_w / w1_v) - 1\n",
    "\n",
    "        J_b0 = tf.reduce_sum(tf.math.log1p(hbar * J_b0), axis=-1)\n",
    "        J_b1 = tf.reduce_sum(tf.math.log1p(hbar * J_b1), axis=-1)\n",
    "        J_w0 = tf.reduce_sum(tf.math.log1p(hbar * J_w0), axis=[-1, -2])\n",
    "        J_w1 = tf.reduce_sum(tf.math.log1p(hbar * J_w1), axis=[-1, -2])\n",
    "        # shift by mean\n",
    "        return (\n",
    "            b0_adj,\n",
    "            b1_adj,\n",
    "            w0_adj,\n",
    "            w1_adj,\n",
    "            tf.zeros_like(ell) + J_b0 + J_b1 + J_w0 + J_w1,\n",
    "        )\n",
    "\n",
    "    X_ = tf.gather(_X, ndx_to_leave)\n",
    "    y_ = tf.gather(_y, ndx_to_leave)\n",
    "    (\n",
    "        eta_I,\n",
    "        eta_I_psis,\n",
    "        p_loo_I,\n",
    "        p_loo_I_sd,\n",
    "        ll_loo_I,\n",
    "        ll_loo_I_sd,\n",
    "        S_I,\n",
    "        k_I,\n",
    "        p_psis_I,\n",
    "        ll_psis_I,\n",
    "    ) = IS(T_I, X_, y_)\n",
    "\n",
    "    out = {\n",
    "        \"I0\": {\n",
    "            \"p_loo\": p_loo_I,\n",
    "            \"p_loo_sd\": p_loo_I_sd,\n",
    "            \"ll_loo\": ll_loo_I,\n",
    "            \"ll_loo_sd\": ll_loo_I_sd,\n",
    "            \"S\": S_I,\n",
    "            \"khat\": k_I,\n",
    "            \"p_psis\": p_psis_I,\n",
    "            \"ll_psis\": ll_psis_I,\n",
    "            \"ndx\": ndx_to_leave,\n",
    "        }\n",
    "    }\n",
    "\n",
    "    transforms = {\n",
    "        \"MM1\": T_MM1,\n",
    "        \"MM2\": T_MM2,\n",
    "        \"I\": T_I,\n",
    "        \"KL\": T_kl,\n",
    "        \"Var\": T_var,\n",
    "        # \"LL\": T_ll,\n",
    "    }\n",
    "\n",
    "    X_ = tf.gather(_X, ndx_to_transform)\n",
    "    y_ = tf.gather(_y, ndx_to_transform)\n",
    "    for lab, fun in transforms.items():\n",
    "        (\n",
    "            eta_,\n",
    "            eta_psis_,\n",
    "            p_loo_,\n",
    "            p_loo_sd_,\n",
    "            ll_loo_,\n",
    "            ll_loo_s_d,\n",
    "            S_,\n",
    "            k_,\n",
    "            p_psis_,\n",
    "            ll_psis_,\n",
    "        ) = IS(fun, X_, y_)\n",
    "\n",
    "        out = {\n",
    "            **out,\n",
    "            lab: {\n",
    "                \"p_loo\": p_loo_,\n",
    "                \"p_loo_sd\": p_loo_sd_,\n",
    "                \"ll_loo\": ll_loo_,\n",
    "                \"ll_loo_sd\": ll_loo_s_d,\n",
    "                \"S\": S_,\n",
    "                \"khat\": k_,\n",
    "                \"p_psis\": p_psis_,\n",
    "                \"ll_psis\": ll_psis_,\n",
    "                \"ndx\": ndx_to_transform,\n",
    "            },\n",
    "        }\n",
    "\n",
    "    return {**out, \"ndx_transformed\": ndx_to_transform}\n",
    "\n",
    "\n",
    "nparams = 64\n",
    "loo = adaptive_is_loo(\n",
    "    nn_model,\n",
    "    batch,\n",
    "    {k: v[:nparams, ...] for k, v in params.items()},\n",
    "    1e-5,\n",
    "    variational=False,\n",
    ")\n",
    "\n",
    "# loo = adaptive_is_loo(lr_model, test_batch, param_test, 0.01, variational=False)\n",
    "\n",
    "\n",
    "for T in [\"I\", \"KL\", \"Var\", \"MM1\", \"MM2\"]:\n",
    "    print(\n",
    "        f\"{T}: {np.sqrt(np.sum(loo[T]['p_loo_sd']**2))} entropy: {np.sqrt(np.sum(loo[T]['S']))} khat>0.7: {np.sum(loo[T]['khat']>0.7)}\"\n",
    "    )"
   ]
  },
  {
   "cell_type": "code",
   "execution_count": 16,
   "metadata": {},
   "outputs": [
    {
     "name": "stderr",
     "output_type": "stream",
     "text": [
      "  0%|          | 0/1 [00:00<?, ?it/s]2024-12-09 19:21:54.018221: W external/local_tsl/tsl/framework/cpu_allocator_impl.cc:83] Allocation of 1548384000 exceeds 10% of free system memory.\n",
      "2024-12-09 19:21:54.105951: W external/local_tsl/tsl/framework/cpu_allocator_impl.cc:83] Allocation of 1548384000 exceeds 10% of free system memory.\n",
      "2024-12-09 19:21:54.296283: W external/local_tsl/tsl/framework/cpu_allocator_impl.cc:83] Allocation of 1548384000 exceeds 10% of free system memory.\n",
      "2024-12-09 19:21:55.393760: W external/local_tsl/tsl/framework/cpu_allocator_impl.cc:83] Allocation of 1548384000 exceeds 10% of free system memory.\n",
      "2024-12-09 19:21:55.484312: W external/local_tsl/tsl/framework/cpu_allocator_impl.cc:83] Allocation of 1548384000 exceeds 10% of free system memory.\n",
      "100%|██████████| 1/1 [00:14<00:00, 14.02s/it]"
     ]
    },
    {
     "name": "stdout",
     "output_type": "stream",
     "text": [
      "{1000: {64: {'I0': [0, 1, 2, 3, 4, 5, 6, 7, 8, 9, 10, 11, 12, 13, 14, 15, 16, 17, 18, 19, 20, 21, 22, 23, 24, 25, 26, 27, 28, 29, 30, 31, 32, 33, 34, 35, 36, 37, 40, 41, 42, 43, 44, 45, 46, 47, 48, 49, 50, 51, 52, 53, 54, 55, 56, 57, 58, 59, 60, 62, 63, 64, 65, 66, 67, 68, 69, 70, 71, 72, 73, 74, 75, 76, 77, 78, 79, 80, 81, 82, 83, 84, 85, 86, 87, 88, 89, 90, 91, 92, 93, 94, 95, 96, 97, 98, 99, 100, 101, 102, 103, 104, 105, 106, 107, 108, 109, 110, 111, 112, 113, 114, 115, 116, 117, 118, 119, 120, 121, 122, 123, 124, 125, 126, 127, 128, 129, 130, 131, 132, 133, 134, 135, 136, 137, 138, 139, 140, 141, 142, 143, 144, 145, 146, 147, 148, 149, 150, 151, 152, 153, 154, 155, 156, 157, 158, 159, 161, 162, 163, 164, 165, 166, 167, 168, 169, 170, 171, 172, 173, 174, 175, 176, 177, 178, 179, 180, 181, 182, 183, 184, 185, 186, 187, 188, 189, 190, 191, 192, 193, 194, 195, 197, 198, 199, 200, 202, 203, 204, 205, 206, 207, 208, 209, 210, 211, 212, 213, 214, 215, 216, 217, 218, 219, 220, 221, 223, 224, 225, 226, 227, 228, 229, 230, 231, 232, 233, 234, 235, 236, 237, 238, 239, 240, 241, 242, 243, 244, 245, 246, 247, 248, 249, 250, 251, 252, 254, 255, 256, 257, 258, 259, 260, 261], 'I': [], 'KL': [], 'Var': [], 'MM1': [], 'MM2': []}, 16: {'I0': [0, 1, 2, 3, 4, 5, 6, 7, 8, 9, 10, 11, 12, 13, 14, 15, 16, 17, 18, 19, 20, 21, 22, 23, 24, 25, 26, 27, 28, 29, 30, 31, 32, 33, 34, 35, 36, 37, 40, 41, 42, 43, 44, 45, 46, 47, 48, 49, 50, 51, 52, 53, 54, 55, 56, 57, 58, 59, 60, 62, 63, 64, 65, 66, 67, 68, 69, 70, 71, 72, 73, 74, 75, 76, 77, 78, 79, 80, 81, 82, 83, 84, 85, 86, 87, 88, 89, 90, 91, 92, 93, 94, 95, 96, 97, 98, 99, 100, 101, 102, 103, 104, 105, 106, 107, 108, 109, 110, 111, 112, 113, 114, 115, 116, 117, 118, 119, 120, 121, 122, 123, 124, 125, 126, 127, 128, 129, 130, 131, 132, 133, 134, 135, 136, 137, 138, 139, 140, 141, 142, 143, 144, 145, 146, 147, 148, 149, 150, 151, 152, 153, 154, 155, 156, 157, 158, 159, 161, 162, 163, 164, 165, 166, 167, 168, 169, 170, 171, 172, 173, 174, 175, 176, 177, 178, 179, 180, 181, 182, 183, 184, 185, 186, 187, 188, 189, 190, 191, 192, 193, 194, 195, 197, 198, 199, 200, 202, 203, 204, 205, 206, 207, 208, 209, 210, 211, 212, 213, 214, 215, 216, 217, 218, 219, 220, 221, 223, 224, 225, 226, 227, 228, 229, 230, 231, 232, 233, 234, 235, 236, 237, 238, 239, 240, 241, 242, 243, 244, 245, 246, 247, 248, 249, 250, 251, 252, 254, 255, 256, 257, 258, 259, 260, 261], 'I': [], 'KL': [], 'Var': [], 'MM1': [], 'MM2': []}, 4: {'I0': [0, 1, 2, 3, 4, 5, 6, 7, 8, 9, 10, 11, 12, 13, 14, 15, 16, 17, 18, 19, 20, 21, 22, 23, 24, 25, 26, 27, 28, 29, 30, 31, 32, 33, 34, 35, 36, 37, 40, 41, 42, 43, 44, 45, 46, 47, 48, 49, 50, 51, 52, 53, 54, 55, 56, 57, 58, 59, 60, 62, 63, 64, 65, 66, 67, 68, 69, 70, 71, 72, 73, 74, 75, 76, 77, 78, 79, 80, 81, 82, 83, 84, 85, 86, 87, 88, 89, 90, 91, 92, 93, 94, 95, 96, 97, 98, 99, 100, 101, 102, 103, 104, 105, 106, 107, 108, 109, 110, 111, 112, 113, 114, 115, 116, 117, 118, 119, 120, 121, 122, 123, 124, 125, 126, 127, 128, 129, 130, 131, 132, 133, 134, 135, 136, 137, 138, 139, 140, 141, 142, 143, 144, 145, 146, 147, 148, 149, 150, 151, 152, 153, 154, 155, 156, 157, 158, 159, 161, 162, 163, 164, 165, 166, 167, 168, 169, 170, 171, 172, 173, 174, 175, 176, 177, 178, 179, 180, 181, 182, 183, 184, 185, 186, 187, 188, 189, 190, 191, 192, 193, 194, 195, 197, 198, 199, 200, 202, 203, 204, 205, 206, 207, 208, 209, 210, 211, 212, 213, 214, 215, 216, 217, 218, 219, 220, 221, 223, 224, 225, 226, 227, 228, 229, 230, 231, 232, 233, 234, 235, 236, 237, 238, 239, 240, 241, 242, 243, 244, 245, 246, 247, 248, 249, 250, 251, 252, 254, 255, 256, 257, 258, 259, 260, 261], 'I': [], 'KL': [], 'Var': [], 'MM1': [], 'MM2': []}, 1: {'I0': [0, 1, 2, 3, 4, 5, 6, 7, 8, 9, 10, 11, 12, 13, 14, 15, 16, 17, 18, 19, 20, 21, 22, 23, 24, 25, 26, 27, 28, 29, 30, 31, 32, 33, 34, 35, 36, 37, 40, 41, 42, 43, 44, 45, 46, 47, 48, 49, 50, 51, 52, 53, 54, 55, 56, 57, 58, 59, 60, 62, 63, 64, 65, 66, 67, 68, 69, 70, 71, 72, 73, 74, 75, 76, 77, 78, 79, 80, 81, 82, 83, 84, 85, 86, 87, 88, 89, 90, 91, 92, 93, 94, 95, 96, 97, 98, 99, 100, 101, 102, 103, 104, 105, 106, 107, 108, 109, 110, 111, 112, 113, 114, 115, 116, 117, 118, 119, 120, 121, 122, 123, 124, 125, 126, 127, 128, 129, 130, 131, 132, 133, 134, 135, 136, 137, 138, 139, 140, 141, 142, 143, 144, 145, 146, 147, 148, 149, 150, 151, 152, 153, 154, 155, 156, 157, 158, 159, 161, 162, 163, 164, 165, 166, 167, 168, 169, 170, 171, 172, 173, 174, 175, 176, 177, 178, 179, 180, 181, 182, 183, 184, 185, 186, 187, 188, 189, 190, 191, 192, 193, 194, 195, 197, 198, 199, 200, 202, 203, 204, 205, 206, 207, 208, 209, 210, 211, 212, 213, 214, 215, 216, 217, 218, 219, 220, 221, 223, 224, 225, 226, 227, 228, 229, 230, 231, 232, 233, 234, 235, 236, 237, 238, 239, 240, 241, 242, 243, 244, 245, 246, 247, 248, 249, 250, 251, 252, 254, 255, 256, 257, 258, 259, 260, 261], 'I': [], 'KL': [], 'Var': [], 'MM1': [222], 'MM2': [222]}, 0.25: {'I0': [0, 1, 2, 3, 4, 5, 6, 7, 8, 9, 10, 11, 12, 13, 14, 15, 16, 17, 18, 19, 20, 21, 22, 23, 24, 25, 26, 27, 28, 29, 30, 31, 32, 33, 34, 35, 36, 37, 40, 41, 42, 43, 44, 45, 46, 47, 48, 49, 50, 51, 52, 53, 54, 55, 56, 57, 58, 59, 60, 62, 63, 64, 65, 66, 67, 68, 69, 70, 71, 72, 73, 74, 75, 76, 77, 78, 79, 80, 81, 82, 83, 84, 85, 86, 87, 88, 89, 90, 91, 92, 93, 94, 95, 96, 97, 98, 99, 100, 101, 102, 103, 104, 105, 106, 107, 108, 109, 110, 111, 112, 113, 114, 115, 116, 117, 118, 119, 120, 121, 122, 123, 124, 125, 126, 127, 128, 129, 130, 131, 132, 133, 134, 135, 136, 137, 138, 139, 140, 141, 142, 143, 144, 145, 146, 147, 148, 149, 150, 151, 152, 153, 154, 155, 156, 157, 158, 159, 161, 162, 163, 164, 165, 166, 167, 168, 169, 170, 171, 172, 173, 174, 175, 176, 177, 178, 179, 180, 181, 182, 183, 184, 185, 186, 187, 188, 189, 190, 191, 192, 193, 194, 195, 197, 198, 199, 200, 202, 203, 204, 205, 206, 207, 208, 209, 210, 211, 212, 213, 214, 215, 216, 217, 218, 219, 220, 221, 223, 224, 225, 226, 227, 228, 229, 230, 231, 232, 233, 234, 235, 236, 237, 238, 239, 240, 241, 242, 243, 244, 245, 246, 247, 248, 249, 250, 251, 252, 254, 255, 256, 257, 258, 259, 260, 261], 'I': [], 'KL': [], 'Var': [61], 'MM1': [61, 222], 'MM2': [38, 39, 61, 222]}, 0.0625: {'I0': [0, 1, 2, 3, 4, 5, 6, 7, 8, 9, 10, 11, 12, 13, 14, 15, 16, 17, 18, 19, 20, 21, 22, 23, 24, 25, 26, 27, 28, 29, 30, 31, 32, 33, 34, 35, 36, 37, 40, 41, 42, 43, 44, 45, 46, 47, 48, 49, 50, 51, 52, 53, 54, 55, 56, 57, 58, 59, 60, 62, 63, 64, 65, 66, 67, 68, 69, 70, 71, 72, 73, 74, 75, 76, 77, 78, 79, 80, 81, 82, 83, 84, 85, 86, 87, 88, 89, 90, 91, 92, 93, 94, 95, 96, 97, 98, 99, 100, 101, 102, 103, 104, 105, 106, 107, 108, 109, 110, 111, 112, 113, 114, 115, 116, 117, 118, 119, 120, 121, 122, 123, 124, 125, 126, 127, 128, 129, 130, 131, 132, 133, 134, 135, 136, 137, 138, 139, 140, 141, 142, 143, 144, 145, 146, 147, 148, 149, 150, 151, 152, 153, 154, 155, 156, 157, 158, 159, 161, 162, 163, 164, 165, 166, 167, 168, 169, 170, 171, 172, 173, 174, 175, 176, 177, 178, 179, 180, 181, 182, 183, 184, 185, 186, 187, 188, 189, 190, 191, 192, 193, 194, 195, 197, 198, 199, 200, 202, 203, 204, 205, 206, 207, 208, 209, 210, 211, 212, 213, 214, 215, 216, 217, 218, 219, 220, 221, 223, 224, 225, 226, 227, 228, 229, 230, 231, 232, 233, 234, 235, 236, 237, 238, 239, 240, 241, 242, 243, 244, 245, 246, 247, 248, 249, 250, 251, 252, 254, 255, 256, 257, 258, 259, 260, 261], 'I': [], 'KL': [], 'Var': [], 'MM1': [39, 61], 'MM2': [39, 222]}, 0.015625: {'I0': [0, 1, 2, 3, 4, 5, 6, 7, 8, 9, 10, 11, 12, 13, 14, 15, 16, 17, 18, 19, 20, 21, 22, 23, 24, 25, 26, 27, 28, 29, 30, 31, 32, 33, 34, 35, 36, 37, 40, 41, 42, 43, 44, 45, 46, 47, 48, 49, 50, 51, 52, 53, 54, 55, 56, 57, 58, 59, 60, 62, 63, 64, 65, 66, 67, 68, 69, 70, 71, 72, 73, 74, 75, 76, 77, 78, 79, 80, 81, 82, 83, 84, 85, 86, 87, 88, 89, 90, 91, 92, 93, 94, 95, 96, 97, 98, 99, 100, 101, 102, 103, 104, 105, 106, 107, 108, 109, 110, 111, 112, 113, 114, 115, 116, 117, 118, 119, 120, 121, 122, 123, 124, 125, 126, 127, 128, 129, 130, 131, 132, 133, 134, 135, 136, 137, 138, 139, 140, 141, 142, 143, 144, 145, 146, 147, 148, 149, 150, 151, 152, 153, 154, 155, 156, 157, 158, 159, 161, 162, 163, 164, 165, 166, 167, 168, 169, 170, 171, 172, 173, 174, 175, 176, 177, 178, 179, 180, 181, 182, 183, 184, 185, 186, 187, 188, 189, 190, 191, 192, 193, 194, 195, 197, 198, 199, 200, 202, 203, 204, 205, 206, 207, 208, 209, 210, 211, 212, 213, 214, 215, 216, 217, 218, 219, 220, 221, 223, 224, 225, 226, 227, 228, 229, 230, 231, 232, 233, 234, 235, 236, 237, 238, 239, 240, 241, 242, 243, 244, 245, 246, 247, 248, 249, 250, 251, 252, 254, 255, 256, 257, 258, 259, 260, 261], 'I': [], 'KL': [], 'Var': [], 'MM1': [39], 'MM2': [39, 196, 222]}, 0.00390625: {'I0': [0, 1, 2, 3, 4, 5, 6, 7, 8, 9, 10, 11, 12, 13, 14, 15, 16, 17, 18, 19, 20, 21, 22, 23, 24, 25, 26, 27, 28, 29, 30, 31, 32, 33, 34, 35, 36, 37, 40, 41, 42, 43, 44, 45, 46, 47, 48, 49, 50, 51, 52, 53, 54, 55, 56, 57, 58, 59, 60, 62, 63, 64, 65, 66, 67, 68, 69, 70, 71, 72, 73, 74, 75, 76, 77, 78, 79, 80, 81, 82, 83, 84, 85, 86, 87, 88, 89, 90, 91, 92, 93, 94, 95, 96, 97, 98, 99, 100, 101, 102, 103, 104, 105, 106, 107, 108, 109, 110, 111, 112, 113, 114, 115, 116, 117, 118, 119, 120, 121, 122, 123, 124, 125, 126, 127, 128, 129, 130, 131, 132, 133, 134, 135, 136, 137, 138, 139, 140, 141, 142, 143, 144, 145, 146, 147, 148, 149, 150, 151, 152, 153, 154, 155, 156, 157, 158, 159, 161, 162, 163, 164, 165, 166, 167, 168, 169, 170, 171, 172, 173, 174, 175, 176, 177, 178, 179, 180, 181, 182, 183, 184, 185, 186, 187, 188, 189, 190, 191, 192, 193, 194, 195, 197, 198, 199, 200, 202, 203, 204, 205, 206, 207, 208, 209, 210, 211, 212, 213, 214, 215, 216, 217, 218, 219, 220, 221, 223, 224, 225, 226, 227, 228, 229, 230, 231, 232, 233, 234, 235, 236, 237, 238, 239, 240, 241, 242, 243, 244, 245, 246, 247, 248, 249, 250, 251, 252, 254, 255, 256, 257, 258, 259, 260, 261], 'I': [], 'KL': [], 'Var': [], 'MM1': [], 'MM2': [39, 196, 222]}, 0.0009765625: {'I0': [0, 1, 2, 3, 4, 5, 6, 7, 8, 9, 10, 11, 12, 13, 14, 15, 16, 17, 18, 19, 20, 21, 22, 23, 24, 25, 26, 27, 28, 29, 30, 31, 32, 33, 34, 35, 36, 37, 40, 41, 42, 43, 44, 45, 46, 47, 48, 49, 50, 51, 52, 53, 54, 55, 56, 57, 58, 59, 60, 62, 63, 64, 65, 66, 67, 68, 69, 70, 71, 72, 73, 74, 75, 76, 77, 78, 79, 80, 81, 82, 83, 84, 85, 86, 87, 88, 89, 90, 91, 92, 93, 94, 95, 96, 97, 98, 99, 100, 101, 102, 103, 104, 105, 106, 107, 108, 109, 110, 111, 112, 113, 114, 115, 116, 117, 118, 119, 120, 121, 122, 123, 124, 125, 126, 127, 128, 129, 130, 131, 132, 133, 134, 135, 136, 137, 138, 139, 140, 141, 142, 143, 144, 145, 146, 147, 148, 149, 150, 151, 152, 153, 154, 155, 156, 157, 158, 159, 161, 162, 163, 164, 165, 166, 167, 168, 169, 170, 171, 172, 173, 174, 175, 176, 177, 178, 179, 180, 181, 182, 183, 184, 185, 186, 187, 188, 189, 190, 191, 192, 193, 194, 195, 197, 198, 199, 200, 202, 203, 204, 205, 206, 207, 208, 209, 210, 211, 212, 213, 214, 215, 216, 217, 218, 219, 220, 221, 223, 224, 225, 226, 227, 228, 229, 230, 231, 232, 233, 234, 235, 236, 237, 238, 239, 240, 241, 242, 243, 244, 245, 246, 247, 248, 249, 250, 251, 252, 254, 255, 256, 257, 258, 259, 260, 261], 'I': [], 'KL': [], 'Var': [], 'MM1': [], 'MM2': [39]}, 0.000244140625: {'I0': [0, 1, 2, 3, 4, 5, 6, 7, 8, 9, 10, 11, 12, 13, 14, 15, 16, 17, 18, 19, 20, 21, 22, 23, 24, 25, 26, 27, 28, 29, 30, 31, 32, 33, 34, 35, 36, 37, 40, 41, 42, 43, 44, 45, 46, 47, 48, 49, 50, 51, 52, 53, 54, 55, 56, 57, 58, 59, 60, 62, 63, 64, 65, 66, 67, 68, 69, 70, 71, 72, 73, 74, 75, 76, 77, 78, 79, 80, 81, 82, 83, 84, 85, 86, 87, 88, 89, 90, 91, 92, 93, 94, 95, 96, 97, 98, 99, 100, 101, 102, 103, 104, 105, 106, 107, 108, 109, 110, 111, 112, 113, 114, 115, 116, 117, 118, 119, 120, 121, 122, 123, 124, 125, 126, 127, 128, 129, 130, 131, 132, 133, 134, 135, 136, 137, 138, 139, 140, 141, 142, 143, 144, 145, 146, 147, 148, 149, 150, 151, 152, 153, 154, 155, 156, 157, 158, 159, 161, 162, 163, 164, 165, 166, 167, 168, 169, 170, 171, 172, 173, 174, 175, 176, 177, 178, 179, 180, 181, 182, 183, 184, 185, 186, 187, 188, 189, 190, 191, 192, 193, 194, 195, 197, 198, 199, 200, 202, 203, 204, 205, 206, 207, 208, 209, 210, 211, 212, 213, 214, 215, 216, 217, 218, 219, 220, 221, 223, 224, 225, 226, 227, 228, 229, 230, 231, 232, 233, 234, 235, 236, 237, 238, 239, 240, 241, 242, 243, 244, 245, 246, 247, 248, 249, 250, 251, 252, 254, 255, 256, 257, 258, 259, 260, 261], 'I': [], 'KL': [], 'Var': [], 'MM1': [], 'MM2': [39]}}}\n"
     ]
    },
    {
     "name": "stderr",
     "output_type": "stream",
     "text": [
      "\n"
     ]
    }
   ],
   "source": [
    "base = 4\n",
    "h_vals = [base**-r for r in range(-3, 7)]\n",
    "\n",
    "loo_output = []\n",
    "\n",
    "for _ in tqdm(range(1)):\n",
    "    loo_khat = {}\n",
    "    reduced_ndx = {}\n",
    "    high_khat_ndx = {}\n",
    "    n_sample = [1000]\n",
    "    records = []\n",
    "    for n_samples in n_sample:\n",
    "        sample_ndx = np.random.choice(range(params['w_0'].shape[0]), size=n_samples, replace=False)\n",
    "        reduced_ndx[n_samples] = {}\n",
    "        high_khat_ndx[n_samples] = {}\n",
    "        # print(f\"Samples: {n_samples}\")\n",
    "        loo_khat[n_samples] = {}\n",
    "        params_ = {k: v.numpy()[sample_ndx] for k, v in params.items()}\n",
    "        params_ = {k: tf.cast(v, nn_model.dtype) for k, v in params_.items()}\n",
    "\n",
    "        for h in h_vals:\n",
    "            loo_khat[n_samples][h] = {}\n",
    "            loo = adaptive_is_loo(nn_model, batch, params_, h, variational=False)\n",
    "            reduced_ndx[n_samples][h] = {}\n",
    "            # print(f\"rho={h}\\n\")\n",
    "            for T in [\"I0\", \"I\", \"KL\", \"Var\", \"MM1\", \"MM2\"]:\n",
    "                loo_khat[n_samples][h][T] = np.array(loo[T][\"khat\"])\n",
    "\n",
    "                records += [\n",
    "                    {\n",
    "                        \"h\": h,\n",
    "                        \"T\": T,\n",
    "                        \"S\": n_samples,\n",
    "                        \"khat\": loo[T][\"khat\"],\n",
    "                        \"p_psis\": loo[T][\"p_psis\"].numpy(),\n",
    "                        \"n>0.7\": (np.where((loo[T][\"khat\"] > 0.7))[0]).shape,\n",
    "                        \"ndx\": loo[T][\"ndx\"]\n",
    "                    }\n",
    "                ]\n",
    "                reduced_ndx[n_samples][h][T] = [loo[T][\"ndx\"][k] for k in np.where((loo[T][\"khat\"] <= 0.7))[0]]\n",
    "                # print(reduced_ndx[n_samples][h])\n",
    "\n",
    "\n",
    "print(reduced_ndx)"
   ]
  },
  {
   "cell_type": "markdown",
   "metadata": {},
   "source": [
    "## Look at S=2000 case"
   ]
  },
  {
   "cell_type": "code",
   "execution_count": 17,
   "metadata": {},
   "outputs": [],
   "source": [
    "df = pd.DataFrame(records)\n",
    "df['rho_rank'] = np.emath.logn(base, df['h']) \n",
    "df.head()\n",
    "I0_ = df.loc[(df['S']==n_sample[-1]) & (df['T']==\"I0\")]\n",
    "\n",
    "kl_ = df.loc[(df['S']==n_sample[-1]) & (df['T']==\"KL\")]\n",
    "var_ = df.loc[(df['S']==n_sample[-1]) & (df['T']==\"Var\")]\n",
    "ll_ = df.loc[(df['S']==n_sample[-1]) & (df['T']==\"LL\")]\n",
    "mm1_ = df.loc[(df['S']==n_sample[-1]) & (df['T']==\"MM1\")]\n",
    "I_ = df.loc[(df['S']==n_sample[-1]) & (df['T']==\"I\")]\n",
    "\n",
    "kl_ = kl_.explode(['khat', 'ndx'])\n",
    "var_ = var_.explode(['khat', 'ndx'])\n",
    "ll_ = ll_.explode(['khat', 'ndx'])\n",
    "I_ = I_.explode(['khat', 'ndx'])\n",
    "mm1_ = mm1_.explode(['khat', 'ndx'])\n",
    "\n",
    "original = I_[['khat', 'ndx']].drop_duplicates()\n"
   ]
  },
  {
   "cell_type": "code",
   "execution_count": 18,
   "metadata": {},
   "outputs": [
    {
     "data": {
      "image/png": "[encoded data removed]",
      "text/plain": [
       "<Figure size 400x700 with 1 Axes>"
      ]
     },
     "metadata": {},
     "output_type": "display_data"
    }
   ],
   "source": [
    "fig = plt.figure(figsize=(4, 7))\n",
    "ndx_high_khat = loo['KL']['ndx'].tolist()\n",
    "ymax = (len(ndx_high_khat))\n",
    "_ = plt.scatter(original.khat, np.array([ndx_high_khat.index(i) for i in original['ndx']]) ,color=\"black\", s=12, alpha=0.6)\n",
    "_ = plt.scatter(kl_.khat, np.array([ndx_high_khat.index(i) for i in kl_['ndx']]) + 0.2, s=1, color='green', alpha=0.2)\n",
    "_ = plt.scatter(var_.khat, np.array([ndx_high_khat.index(i) for i in var_['ndx']]) - 0.2, s=1, color='purple', alpha=0.2)\n",
    "\n",
    "kl_ = kl_[kl_.khat<3]\n",
    "ll_ = ll_[ll_.khat<3]\n",
    "var_ = var_[var_.khat<3]\n",
    "_ = plt.axvline(x=0.7, linestyle='dashed', linewidth=2, color='red', alpha=0.5)\n",
    "\n",
    "kl_vals = defaultdict(list)\n",
    "var_vals = defaultdict(list)\n",
    "ll_vals = defaultdict(list)\n",
    "\n",
    "for x, y, s in zip( kl_.khat, kl_['ndx'], kl_['rho_rank'].values.astype('int')):\n",
    "    kl_vals[y] += [x]\n",
    "    \n",
    "for x, y, s in zip( var_.khat, var_['ndx'], var_['rho_rank'].values.astype('int')):\n",
    "    var_vals[y] += [x]\n",
    "\n",
    "for x, v in kl_vals.items():\n",
    "    plt.plot(min(v), ndx_high_khat.index(x)+0.2, color='green', alpha=0.3)\n",
    "    plt.text(min(v), ndx_high_khat.index(x) + 0.2, \"KL\",  ha='center', va='center', color='green', fontsize=8)\n",
    "    \n",
    "for x, v in var_vals.items():\n",
    "    plt.plot(min(v), ndx_high_khat.index(x)-0.2, color='purple', alpha=0.3)\n",
    "    plt.text(min(v), ndx_high_khat.index(x)-0.2, \"Var\",  ha='center', va='center', color='blue', fontsize=8)\n",
    "    \n",
    "    \n",
    "#for x, v in var_vals.items():\n",
    "#    plt.text(min(v), x, \"LL\",  ha='center', va='center', color='purple', fontsize=8)\n",
    "\n",
    "_ = plt.ylabel(\"observation\")\n",
    "_ = plt.ylim(-0.5, ymax - 0.5)\n",
    "_ = plt.xlabel(r'estimated Pareto tail shape $\\hat{k}$')\n",
    "_ = plt.yticks(ticks=np.arange(ymax), labels=loo['KL']['ndx'])\n",
    "_ = plt.xlim((-0.5, 3))\n",
    "_ = plt.xticks([-0.5, 0, 0.7, 1.5, 2])\n",
    "\n",
    "\n",
    "for y0, y1 in zip(np.arange(ymax+ 1)[::2]-0.5, np.arange(ymax + 1)[::2] + 0.5):\n",
    "    plt.axhspan(y0, y1, color='black', alpha=0.1, zorder=0)\n",
    "#_ = plt.xlim((-0.1, 2))\n",
    "# _ = plt.savefig(\"khat_relu.pdf\", bbox_inches='tight')"
   ]
  },
  {
   "cell_type": "code",
   "execution_count": 19,
   "metadata": {},
   "outputs": [
    {
     "data": {
      "text/plain": [
       "8"
      ]
     },
     "execution_count": 19,
     "metadata": {},
     "output_type": "execute_result"
    }
   ],
   "source": [
    "len(ndx_high_khat)"
   ]
  },
  {
   "cell_type": "code",
   "execution_count": 20,
   "metadata": {},
   "outputs": [
    {
     "data": {
      "image/png": "[encoded data removed]",
      "text/plain": [
       "<Figure size 600x900 with 1 Axes>"
      ]
     },
     "metadata": {},
     "output_type": "display_data"
    }
   ],
   "source": [
    "fig = plt.figure(figsize=(6, 9))\n",
    "\n",
    "_ = plt.scatter(original.khat, np.array([ndx_high_khat.index(i) for i in original['ndx']]) ,color=\"black\", s=12, alpha=0.6)\n",
    "_ = plt.scatter(kl_.khat, np.array([ndx_high_khat.index(i) for i in kl_['ndx']]), s=0, color='green', alpha=0.2)\n",
    "_ = plt.scatter(var_.khat, np.array([ndx_high_khat.index(i) for i in var_['ndx']]), s=0, color='purple', alpha=0.2)\n",
    "_ = plt.scatter(ll_.khat, np.array([ndx_high_khat.index(i) for i in ll_['ndx']]), s=0, color='green', alpha=0.2)\n",
    "_ = plt.scatter(mm1_.khat, np.array([ndx_high_khat.index(i) for i in mm1_['ndx']]), s=0, color='purple', alpha=0.2)\n",
    "\n",
    "kl_ = kl_[kl_.khat<2]\n",
    "ll_ = ll_[ll_.khat<2]\n",
    "var_ = var_[var_.khat<2]\n",
    "mm1_ = mm1_[mm1_.khat<2]\n",
    "_ = plt.axvline(x=0.7, linestyle='dotted', linewidth=2, color='red')\n",
    "\n",
    "for x, y, s in zip( kl_.khat, kl_['ndx'], kl_['rho_rank'].values.astype('int')):\n",
    "    if s > 7:\n",
    "        continue\n",
    "    plt.text(x, ndx_high_khat.index(y) + 0.2, str(s),  ha='center', va='center', color='green', fontsize=8)\n",
    "    \n",
    "for x, y, s in zip( var_.khat, var_['ndx'], var_['rho_rank'].values.astype('int')):\n",
    "    if s > 7:\n",
    "        continue\n",
    "    plt.text(x, ndx_high_khat.index(y) + 0.1, str(s),  ha='center', va='center', color='blue', fontsize=8)\n",
    "\n",
    "for x, y, s in zip( ll_.khat, ll_['ndx'], ll_['rho_rank'].values.astype('int')):\n",
    "    if s > 3:\n",
    "        continue\n",
    "    plt.text(x, ndx_high_khat.index(y) - 0.1, str(s),  ha='center', va='center', color='orange', fontsize=8)\n",
    "\n",
    "for x, y, s in zip( mm1_.khat, mm1_['ndx'], mm1_['rho_rank'].values.astype('int')):\n",
    "    if s > 3:\n",
    "        continue\n",
    "    plt.text(x, ndx_high_khat.index(y) - 0.2, str(s),  ha='center', va='center', color='red', fontsize=8)\n",
    "    \n",
    "_ = plt.ylabel(\"observation\")\n",
    "_ = plt.ylim(-0.5, ymax - 0.5)\n",
    "_ = plt.xlabel(r'estimated Pareto tail shape $\\hat{k}$')\n",
    "_ = plt.yticks(ticks=np.arange(ymax), labels=loo['KL']['ndx'])\n",
    "_ = plt.xlim((-0.5, 3))\n",
    "_ = plt.xticks([-0.5, 0, 0.7, 1.5, 2])\n",
    "\n",
    "\n",
    "for y0, y1 in zip(np.arange(ymax+ 1)[::2]-0.5, np.arange(ymax + 1)[::2] + 0.5):\n",
    "    plt.axhspan(y0, y1, color='black', alpha=0.1, zorder=0)\n",
    "#_ = plt.xlim((-0.1, 2))\n",
    "_ = plt.savefig(\"khat_detailed_relu.pdf\", bbox_inches='tight')"
   ]
  },
  {
   "cell_type": "code",
   "execution_count": 22,
   "metadata": {},
   "outputs": [],
   "source": [
    "df_ = df.explode(['khat', \"p_psis\", 'ndx'])[['ndx', 'p_psis', 'khat', 'T']]\n",
    "#df_ = df_[df_['p_psis']!=1]\n",
    "#df_ = df_[df_['p_psis']>1e-5]\n",
    "df_ = df_[df_['T']!=\"MM2\"]\n",
    "\n",
    "df_ = df_.groupby(['ndx'])[['khat', 'p_psis']].min()\n",
    "\n",
    "pd.set_option('display.max_rows', 500)\n",
    "\n",
    "df_ = df_.reset_index()\n",
    "df_['y'] = [y_.tolist()[i] for i in df_['ndx'].values]\n"
   ]
  },
  {
   "cell_type": "code",
   "execution_count": 23,
   "metadata": {},
   "outputs": [],
   "source": [
    "fpr, tpr, thresholds = metrics.roc_curve(df_['y'], df_.p_psis, pos_label=1)\n",
    "precision, recall, thresholds_pr = metrics.precision_recall_curve(df_['y'], df_.p_psis)"
   ]
  },
  {
   "cell_type": "code",
   "execution_count": 24,
   "metadata": {},
   "outputs": [
    {
     "data": {
      "text/plain": [
       "[<matplotlib.lines.Line2D at 0x7fd2e26fcac0>]"
      ]
     },
     "execution_count": 24,
     "metadata": {},
     "output_type": "execute_result"
    },
    {
     "data": {
      "image/png": "[encoded data removed]",
      "text/plain": [
       "<Figure size 640x480 with 1 Axes>"
      ]
     },
     "metadata": {},
     "output_type": "display_data"
    }
   ],
   "source": [
    "plt.plot(fpr, tpr)\n",
    "plt.plot(recall, precision)"
   ]
  },
  {
   "cell_type": "markdown",
   "metadata": {},
   "source": [
    "# Cross-tabulations"
   ]
  },
  {
   "cell_type": "code",
   "execution_count": 25,
   "metadata": {},
   "outputs": [],
   "source": [
    "df__ = df.explode(['khat', 'ndx'])[['ndx', 'khat', 'T']]\n",
    "transforms = [\"KL\", \"Var\", \"LL\", \"MM1\", \"MM2\"]\n"
   ]
  },
  {
   "cell_type": "code",
   "execution_count": 26,
   "metadata": {},
   "outputs": [
    {
     "name": "stdout",
     "output_type": "stream",
     "text": [
      "KL: 0\n",
      "Var: 1\n",
      "LL: 0\n",
      "MM1: 3\n",
      "MM2: 5\n",
      "8\n"
     ]
    }
   ],
   "source": [
    "for T in transforms:\n",
    "    _df__ = df__.loc[(df__['T']==T) & (df__['khat']<0.7)]\n",
    "    print(f\"{T}: {_df__.groupby('ndx').min().shape[0]}\")\n",
    "print(len(df__[df__['T']!=\"I0\"].ndx.unique()))"
   ]
  },
  {
   "cell_type": "code",
   "execution_count": 27,
   "metadata": {},
   "outputs": [
    {
     "name": "stdout",
     "output_type": "stream",
     "text": [
      "1\n"
     ]
    }
   ],
   "source": [
    "print(f\"{df__.loc[((df__['T']=='KL') | (df__['T']=='Var')) & (df__['khat']<0.7)].groupby('ndx').min().shape[0]}\")"
   ]
  },
  {
   "cell_type": "code",
   "execution_count": 28,
   "metadata": {},
   "outputs": [
    {
     "name": "stdout",
     "output_type": "stream",
     "text": [
      "3\n"
     ]
    }
   ],
   "source": [
    "print(f\"{df__.loc[((df__['T']=='LL') | (df__['T']=='MM1')) &(df__['T']!='I0') & (df__['khat']<0.7)].groupby('ndx').min().shape[0]}\")"
   ]
  },
  {
   "cell_type": "code",
   "execution_count": 29,
   "metadata": {},
   "outputs": [
    {
     "name": "stdout",
     "output_type": "stream",
     "text": [
      "5\n"
     ]
    }
   ],
   "source": [
    "print(f\"{df__.loc[(df__['T']!='MM1') &(df__['T']!='I0') & (df__['khat']<0.7)].groupby('ndx').min().shape[0]}\")"
   ]
  },
  {
   "cell_type": "code",
   "execution_count": 30,
   "metadata": {},
   "outputs": [
    {
     "data": {
      "text/plain": [
       "8"
      ]
     },
     "execution_count": 30,
     "metadata": {},
     "output_type": "execute_result"
    }
   ],
   "source": [
    "len(df__[df__['T']!=\"I0\"].ndx.unique())"
   ]
  },
  {
   "cell_type": "markdown",
   "metadata": {},
   "source": [
    "# Compare with variational model"
   ]
  },
  {
   "cell_type": "code",
   "execution_count": 31,
   "metadata": {},
   "outputs": [],
   "source": [
    "lr_model2 = ShallowGaussianRelunet(\n",
    "    dim_regressors=d,\n",
    "    hidden_size=3\n",
    ")"
   ]
  },
  {
   "cell_type": "code",
   "execution_count": 32,
   "metadata": {},
   "outputs": [
    {
     "name": "stdout",
     "output_type": "stream",
     "text": [
      "Running optimization for 12000 steps of 9 accumulated batches, checking every 50 steps\n",
      "Saved a checkpoint: /tmp/tfcheckpoints/f11754f3-0e3b-4895-80d0-00219880cc04/f11754f3-0e3b-4895-80d0-00219880cc04-1\n"
     ]
    },
    {
     "name": "stderr",
     "output_type": "stream",
     "text": [
      "  0%|          | 0/12000 [00:00<?, ?it/s]"
     ]
    },
    {
     "name": "stderr",
     "output_type": "stream",
     "text": [
      "  0%|          | 48/12000 [00:02<06:01, 33.09it/s] "
     ]
    },
    {
     "name": "stdout",
     "output_type": "stream",
     "text": [
      "Step 50: average-batch loss:253.03620934205017 rel loss: 3.952003559491426e+305\n",
      "Saved a checkpoint: /tmp/tfcheckpoints/f11754f3-0e3b-4895-80d0-00219880cc04/f11754f3-0e3b-4895-80d0-00219880cc04-2\n"
     ]
    },
    {
     "name": "stderr",
     "output_type": "stream",
     "text": [
      "  1%|          | 96/12000 [00:03<05:56, 33.36it/s]"
     ]
    },
    {
     "name": "stdout",
     "output_type": "stream",
     "text": [
      "Step 100: average-batch loss:251.54507476263012 rel loss: 0.0059279021098988085\n",
      "Saved a checkpoint: /tmp/tfcheckpoints/f11754f3-0e3b-4895-80d0-00219880cc04/f11754f3-0e3b-4895-80d0-00219880cc04-3\n"
     ]
    },
    {
     "name": "stderr",
     "output_type": "stream",
     "text": [
      "  1%|          | 148/12000 [00:05<05:50, 33.78it/s]"
     ]
    },
    {
     "name": "stdout",
     "output_type": "stream",
     "text": [
      "Step 150: average-batch loss:250.0451788146241 rel loss: 0.005998499771587241\n",
      "Saved a checkpoint: /tmp/tfcheckpoints/f11754f3-0e3b-4895-80d0-00219880cc04/f11754f3-0e3b-4895-80d0-00219880cc04-4\n"
     ]
    },
    {
     "name": "stderr",
     "output_type": "stream",
     "text": [
      "  2%|▏         | 196/12000 [00:06<05:54, 33.26it/s]"
     ]
    },
    {
     "name": "stdout",
     "output_type": "stream",
     "text": [
      "Step 200: average-batch loss:248.07202696208435 rel loss: 0.007953947394646542\n",
      "Saved a checkpoint: /tmp/tfcheckpoints/f11754f3-0e3b-4895-80d0-00219880cc04/f11754f3-0e3b-4895-80d0-00219880cc04-5\n"
     ]
    },
    {
     "name": "stderr",
     "output_type": "stream",
     "text": [
      "  2%|▏         | 248/12000 [00:08<05:50, 33.50it/s]"
     ]
    },
    {
     "name": "stdout",
     "output_type": "stream",
     "text": [
      "Step 250: average-batch loss:246.09614030939943 rel loss: 0.008028921746601863\n",
      "Saved a checkpoint: /tmp/tfcheckpoints/f11754f3-0e3b-4895-80d0-00219880cc04/f11754f3-0e3b-4895-80d0-00219880cc04-6\n"
     ]
    },
    {
     "name": "stderr",
     "output_type": "stream",
     "text": [
      "  2%|▏         | 296/12000 [00:09<05:40, 34.39it/s]"
     ]
    },
    {
     "name": "stdout",
     "output_type": "stream",
     "text": [
      "Step 300: average-batch loss:243.98187374566544 rel loss: 0.008665670655263396\n",
      "Saved a checkpoint: /tmp/tfcheckpoints/f11754f3-0e3b-4895-80d0-00219880cc04/f11754f3-0e3b-4895-80d0-00219880cc04-7\n"
     ]
    },
    {
     "name": "stderr",
     "output_type": "stream",
     "text": [
      "  3%|▎         | 348/12000 [00:11<05:46, 33.67it/s]"
     ]
    },
    {
     "name": "stdout",
     "output_type": "stream",
     "text": [
      "Step 350: average-batch loss:241.7510358294661 rel loss: 0.00922783188309891\n",
      "Saved a checkpoint: /tmp/tfcheckpoints/f11754f3-0e3b-4895-80d0-00219880cc04/f11754f3-0e3b-4895-80d0-00219880cc04-8\n"
     ]
    },
    {
     "name": "stderr",
     "output_type": "stream",
     "text": [
      "  3%|▎         | 396/12000 [00:12<05:40, 34.07it/s]"
     ]
    },
    {
     "name": "stdout",
     "output_type": "stream",
     "text": [
      "Step 400: average-batch loss:240.0257960981652 rel loss: 0.007187726316696946\n",
      "Saved a checkpoint: /tmp/tfcheckpoints/f11754f3-0e3b-4895-80d0-00219880cc04/f11754f3-0e3b-4895-80d0-00219880cc04-9\n"
     ]
    },
    {
     "name": "stderr",
     "output_type": "stream",
     "text": [
      "  4%|▎         | 448/12000 [00:14<05:40, 33.94it/s]"
     ]
    },
    {
     "name": "stdout",
     "output_type": "stream",
     "text": [
      "Step 450: average-batch loss:237.72539853910212 rel loss: 0.009676700820357199\n",
      "Saved a checkpoint: /tmp/tfcheckpoints/f11754f3-0e3b-4895-80d0-00219880cc04/f11754f3-0e3b-4895-80d0-00219880cc04-10\n"
     ]
    },
    {
     "name": "stderr",
     "output_type": "stream",
     "text": [
      "  4%|▍         | 496/12000 [00:15<05:38, 33.95it/s]"
     ]
    },
    {
     "name": "stdout",
     "output_type": "stream",
     "text": [
      "Step 500: average-batch loss:236.01513626429954 rel loss: 0.007246409284900063\n",
      "Saved a checkpoint: /tmp/tfcheckpoints/f11754f3-0e3b-4895-80d0-00219880cc04/f11754f3-0e3b-4895-80d0-00219880cc04-11\n"
     ]
    },
    {
     "name": "stderr",
     "output_type": "stream",
     "text": [
      "  5%|▍         | 548/12000 [00:17<05:41, 33.54it/s]"
     ]
    },
    {
     "name": "stdout",
     "output_type": "stream",
     "text": [
      "Step 550: average-batch loss:234.16637012429996 rel loss: 0.007895096716997504\n",
      "Saved a checkpoint: /tmp/tfcheckpoints/f11754f3-0e3b-4895-80d0-00219880cc04/f11754f3-0e3b-4895-80d0-00219880cc04-12\n"
     ]
    },
    {
     "name": "stderr",
     "output_type": "stream",
     "text": [
      "  5%|▍         | 596/12000 [00:18<05:44, 33.12it/s]"
     ]
    },
    {
     "name": "stdout",
     "output_type": "stream",
     "text": [
      "Step 600: average-batch loss:232.01634201894052 rel loss: 0.009266709778503114\n",
      "Saved a checkpoint: /tmp/tfcheckpoints/f11754f3-0e3b-4895-80d0-00219880cc04/f11754f3-0e3b-4895-80d0-00219880cc04-13\n"
     ]
    },
    {
     "name": "stderr",
     "output_type": "stream",
     "text": [
      "  5%|▌         | 648/12000 [00:20<05:41, 33.28it/s]"
     ]
    },
    {
     "name": "stdout",
     "output_type": "stream",
     "text": [
      "Step 650: average-batch loss:230.42449314553122 rel loss: 0.006908331886419412\n",
      "Saved a checkpoint: /tmp/tfcheckpoints/f11754f3-0e3b-4895-80d0-00219880cc04/f11754f3-0e3b-4895-80d0-00219880cc04-14\n"
     ]
    },
    {
     "name": "stderr",
     "output_type": "stream",
     "text": [
      "  6%|▌         | 696/12000 [00:21<05:36, 33.60it/s]"
     ]
    },
    {
     "name": "stdout",
     "output_type": "stream",
     "text": [
      "Step 700: average-batch loss:228.612913678188 rel loss: 0.007924221944405695\n",
      "Saved a checkpoint: /tmp/tfcheckpoints/f11754f3-0e3b-4895-80d0-00219880cc04/f11754f3-0e3b-4895-80d0-00219880cc04-15\n"
     ]
    },
    {
     "name": "stderr",
     "output_type": "stream",
     "text": [
      "  6%|▌         | 748/12000 [00:23<05:35, 33.50it/s]"
     ]
    },
    {
     "name": "stdout",
     "output_type": "stream",
     "text": [
      "Step 750: average-batch loss:226.62525396235478 rel loss: 0.00877068941382584\n",
      "Saved a checkpoint: /tmp/tfcheckpoints/f11754f3-0e3b-4895-80d0-00219880cc04/f11754f3-0e3b-4895-80d0-00219880cc04-16\n"
     ]
    },
    {
     "name": "stderr",
     "output_type": "stream",
     "text": [
      "  7%|▋         | 796/12000 [00:24<05:37, 33.22it/s]"
     ]
    },
    {
     "name": "stdout",
     "output_type": "stream",
     "text": [
      "Step 800: average-batch loss:224.76807457235336 rel loss: 0.00826264759145583\n",
      "Saved a checkpoint: /tmp/tfcheckpoints/f11754f3-0e3b-4895-80d0-00219880cc04/f11754f3-0e3b-4895-80d0-00219880cc04-17\n"
     ]
    },
    {
     "name": "stderr",
     "output_type": "stream",
     "text": [
      "  7%|▋         | 848/12000 [00:26<05:33, 33.43it/s]"
     ]
    },
    {
     "name": "stdout",
     "output_type": "stream",
     "text": [
      "Step 850: average-batch loss:223.10686163352952 rel loss: 0.007445817339103221\n",
      "Saved a checkpoint: /tmp/tfcheckpoints/f11754f3-0e3b-4895-80d0-00219880cc04/f11754f3-0e3b-4895-80d0-00219880cc04-18\n"
     ]
    },
    {
     "name": "stderr",
     "output_type": "stream",
     "text": [
      "  7%|▋         | 896/12000 [00:27<05:30, 33.55it/s]"
     ]
    },
    {
     "name": "stdout",
     "output_type": "stream",
     "text": [
      "Step 900: average-batch loss:221.22787281888583 rel loss: 0.008493454241102684\n",
      "Saved a checkpoint: /tmp/tfcheckpoints/f11754f3-0e3b-4895-80d0-00219880cc04/f11754f3-0e3b-4895-80d0-00219880cc04-19\n"
     ]
    },
    {
     "name": "stderr",
     "output_type": "stream",
     "text": [
      "  8%|▊         | 948/12000 [00:29<05:29, 33.57it/s]"
     ]
    },
    {
     "name": "stdout",
     "output_type": "stream",
     "text": [
      "Step 950: average-batch loss:219.41987103421707 rel loss: 0.008239918181279102\n",
      "Saved a checkpoint: /tmp/tfcheckpoints/f11754f3-0e3b-4895-80d0-00219880cc04/f11754f3-0e3b-4895-80d0-00219880cc04-20\n"
     ]
    },
    {
     "name": "stderr",
     "output_type": "stream",
     "text": [
      "  8%|▊         | 996/12000 [00:30<05:27, 33.58it/s]"
     ]
    },
    {
     "name": "stdout",
     "output_type": "stream",
     "text": [
      "Step 1000: average-batch loss:217.89123990357882 rel loss: 0.007015569470873154\n",
      "Saved a checkpoint: /tmp/tfcheckpoints/f11754f3-0e3b-4895-80d0-00219880cc04/f11754f3-0e3b-4895-80d0-00219880cc04-21\n"
     ]
    },
    {
     "name": "stderr",
     "output_type": "stream",
     "text": [
      "  9%|▊         | 1048/12000 [00:32<05:29, 33.24it/s]"
     ]
    },
    {
     "name": "stdout",
     "output_type": "stream",
     "text": [
      "Step 1050: average-batch loss:216.23757520454535 rel loss: 0.007647443777841206\n",
      "Saved a checkpoint: /tmp/tfcheckpoints/f11754f3-0e3b-4895-80d0-00219880cc04/f11754f3-0e3b-4895-80d0-00219880cc04-22\n"
     ]
    },
    {
     "name": "stderr",
     "output_type": "stream",
     "text": [
      "  9%|▉         | 1096/12000 [00:33<05:34, 32.63it/s]"
     ]
    },
    {
     "name": "stdout",
     "output_type": "stream",
     "text": [
      "Step 1100: average-batch loss:214.72259057238136 rel loss: 0.007055543751244456\n",
      "Saved a checkpoint: /tmp/tfcheckpoints/f11754f3-0e3b-4895-80d0-00219880cc04/f11754f3-0e3b-4895-80d0-00219880cc04-23\n"
     ]
    },
    {
     "name": "stderr",
     "output_type": "stream",
     "text": [
      " 10%|▉         | 1148/12000 [00:35<05:22, 33.69it/s]"
     ]
    },
    {
     "name": "stdout",
     "output_type": "stream",
     "text": [
      "Step 1150: average-batch loss:212.77144098702013 rel loss: 0.009170166711801625\n",
      "Saved a checkpoint: /tmp/tfcheckpoints/f11754f3-0e3b-4895-80d0-00219880cc04/f11754f3-0e3b-4895-80d0-00219880cc04-24\n"
     ]
    },
    {
     "name": "stderr",
     "output_type": "stream",
     "text": [
      " 10%|▉         | 1196/12000 [00:36<05:22, 33.51it/s]"
     ]
    },
    {
     "name": "stdout",
     "output_type": "stream",
     "text": [
      "Step 1200: average-batch loss:211.79035623425847 rel loss: 0.004632339121600492\n",
      "Saved a checkpoint: /tmp/tfcheckpoints/f11754f3-0e3b-4895-80d0-00219880cc04/f11754f3-0e3b-4895-80d0-00219880cc04-25\n"
     ]
    },
    {
     "name": "stderr",
     "output_type": "stream",
     "text": [
      " 10%|█         | 1248/12000 [00:38<05:16, 33.96it/s]"
     ]
    },
    {
     "name": "stdout",
     "output_type": "stream",
     "text": [
      "Step 1250: average-batch loss:209.82758419124713 rel loss: 0.009354213606264346\n",
      "Saved a checkpoint: /tmp/tfcheckpoints/f11754f3-0e3b-4895-80d0-00219880cc04/f11754f3-0e3b-4895-80d0-00219880cc04-26\n"
     ]
    },
    {
     "name": "stderr",
     "output_type": "stream",
     "text": [
      " 11%|█         | 1296/12000 [00:39<05:16, 33.79it/s]"
     ]
    },
    {
     "name": "stdout",
     "output_type": "stream",
     "text": [
      "Step 1300: average-batch loss:208.53736668301877 rel loss: 0.006186984753622165\n",
      "Saved a checkpoint: /tmp/tfcheckpoints/f11754f3-0e3b-4895-80d0-00219880cc04/f11754f3-0e3b-4895-80d0-00219880cc04-27\n"
     ]
    },
    {
     "name": "stderr",
     "output_type": "stream",
     "text": [
      " 11%|█         | 1348/12000 [00:41<05:19, 33.35it/s]"
     ]
    },
    {
     "name": "stdout",
     "output_type": "stream",
     "text": [
      "Step 1350: average-batch loss:207.19668991903643 rel loss: 0.006470551071574663\n",
      "Saved a checkpoint: /tmp/tfcheckpoints/f11754f3-0e3b-4895-80d0-00219880cc04/f11754f3-0e3b-4895-80d0-00219880cc04-28\n"
     ]
    },
    {
     "name": "stderr",
     "output_type": "stream",
     "text": [
      " 12%|█▏        | 1396/12000 [00:42<05:15, 33.64it/s]"
     ]
    },
    {
     "name": "stdout",
     "output_type": "stream",
     "text": [
      "Step 1400: average-batch loss:205.6199534829275 rel loss: 0.007668207337863404\n",
      "Saved a checkpoint: /tmp/tfcheckpoints/f11754f3-0e3b-4895-80d0-00219880cc04/f11754f3-0e3b-4895-80d0-00219880cc04-29\n"
     ]
    },
    {
     "name": "stderr",
     "output_type": "stream",
     "text": [
      " 12%|█▏        | 1448/12000 [00:44<05:15, 33.43it/s]"
     ]
    },
    {
     "name": "stdout",
     "output_type": "stream",
     "text": [
      "Step 1450: average-batch loss:204.26369975483672 rel loss: 0.006639719782411692\n",
      "Saved a checkpoint: /tmp/tfcheckpoints/f11754f3-0e3b-4895-80d0-00219880cc04/f11754f3-0e3b-4895-80d0-00219880cc04-30\n"
     ]
    },
    {
     "name": "stderr",
     "output_type": "stream",
     "text": [
      " 12%|█▏        | 1496/12000 [00:45<05:10, 33.88it/s]"
     ]
    },
    {
     "name": "stdout",
     "output_type": "stream",
     "text": [
      "Step 1500: average-batch loss:202.95833316034427 rel loss: 0.006431697453196804\n",
      "Saved a checkpoint: /tmp/tfcheckpoints/f11754f3-0e3b-4895-80d0-00219880cc04/f11754f3-0e3b-4895-80d0-00219880cc04-31\n"
     ]
    },
    {
     "name": "stderr",
     "output_type": "stream",
     "text": [
      " 13%|█▎        | 1548/12000 [00:47<05:11, 33.50it/s]"
     ]
    },
    {
     "name": "stdout",
     "output_type": "stream",
     "text": [
      "Step 1550: average-batch loss:201.55853508800087 rel loss: 0.006944871234216137\n",
      "Saved a checkpoint: /tmp/tfcheckpoints/f11754f3-0e3b-4895-80d0-00219880cc04/f11754f3-0e3b-4895-80d0-00219880cc04-32\n"
     ]
    },
    {
     "name": "stderr",
     "output_type": "stream",
     "text": [
      " 13%|█▎        | 1596/12000 [00:48<05:10, 33.47it/s]"
     ]
    },
    {
     "name": "stdout",
     "output_type": "stream",
     "text": [
      "Step 1600: average-batch loss:200.3873573300365 rel loss: 0.005844569106400445\n",
      "Saved a checkpoint: /tmp/tfcheckpoints/f11754f3-0e3b-4895-80d0-00219880cc04/f11754f3-0e3b-4895-80d0-00219880cc04-33\n"
     ]
    },
    {
     "name": "stderr",
     "output_type": "stream",
     "text": [
      " 14%|█▎        | 1648/12000 [00:50<05:12, 33.16it/s]"
     ]
    },
    {
     "name": "stdout",
     "output_type": "stream",
     "text": [
      "Step 1650: average-batch loss:199.20422318900182 rel loss: 0.005939302501193191\n",
      "Saved a checkpoint: /tmp/tfcheckpoints/f11754f3-0e3b-4895-80d0-00219880cc04/f11754f3-0e3b-4895-80d0-00219880cc04-34\n"
     ]
    },
    {
     "name": "stderr",
     "output_type": "stream",
     "text": [
      " 14%|█▍        | 1696/12000 [00:51<05:08, 33.45it/s]"
     ]
    },
    {
     "name": "stdout",
     "output_type": "stream",
     "text": [
      "Step 1700: average-batch loss:197.65872475556137 rel loss: 0.007819024610989113\n",
      "Saved a checkpoint: /tmp/tfcheckpoints/f11754f3-0e3b-4895-80d0-00219880cc04/f11754f3-0e3b-4895-80d0-00219880cc04-35\n"
     ]
    },
    {
     "name": "stderr",
     "output_type": "stream",
     "text": [
      " 15%|█▍        | 1748/12000 [00:53<05:11, 32.89it/s]"
     ]
    },
    {
     "name": "stdout",
     "output_type": "stream",
     "text": [
      "Step 1750: average-batch loss:196.59319872565698 rel loss: 0.0054199536749555445\n",
      "Saved a checkpoint: /tmp/tfcheckpoints/f11754f3-0e3b-4895-80d0-00219880cc04/f11754f3-0e3b-4895-80d0-00219880cc04-36\n"
     ]
    },
    {
     "name": "stderr",
     "output_type": "stream",
     "text": [
      " 15%|█▍        | 1796/12000 [00:54<05:04, 33.46it/s]"
     ]
    },
    {
     "name": "stdout",
     "output_type": "stream",
     "text": [
      "Step 1800: average-batch loss:195.45379558774943 rel loss: 0.005829526791645304\n",
      "Saved a checkpoint: /tmp/tfcheckpoints/f11754f3-0e3b-4895-80d0-00219880cc04/f11754f3-0e3b-4895-80d0-00219880cc04-37\n"
     ]
    },
    {
     "name": "stderr",
     "output_type": "stream",
     "text": [
      " 15%|█▌        | 1848/12000 [00:56<05:04, 33.39it/s]"
     ]
    },
    {
     "name": "stdout",
     "output_type": "stream",
     "text": [
      "Step 1850: average-batch loss:194.25993289892367 rel loss: 0.006145697010237024\n",
      "Saved a checkpoint: /tmp/tfcheckpoints/f11754f3-0e3b-4895-80d0-00219880cc04/f11754f3-0e3b-4895-80d0-00219880cc04-38\n"
     ]
    },
    {
     "name": "stderr",
     "output_type": "stream",
     "text": [
      " 16%|█▌        | 1896/12000 [00:58<05:06, 32.99it/s]"
     ]
    },
    {
     "name": "stdout",
     "output_type": "stream",
     "text": [
      "Step 1900: average-batch loss:193.439033274792 rel loss: 0.004243712399893622\n",
      "Saved a checkpoint: /tmp/tfcheckpoints/f11754f3-0e3b-4895-80d0-00219880cc04/f11754f3-0e3b-4895-80d0-00219880cc04-39\n"
     ]
    },
    {
     "name": "stderr",
     "output_type": "stream",
     "text": [
      " 16%|█▌        | 1948/12000 [00:59<04:59, 33.53it/s]"
     ]
    },
    {
     "name": "stdout",
     "output_type": "stream",
     "text": [
      "Step 1950: average-batch loss:192.2956674042053 rel loss: 0.005945874319588034\n",
      "Saved a checkpoint: /tmp/tfcheckpoints/f11754f3-0e3b-4895-80d0-00219880cc04/f11754f3-0e3b-4895-80d0-00219880cc04-40\n"
     ]
    },
    {
     "name": "stderr",
     "output_type": "stream",
     "text": [
      " 17%|█▋        | 1996/12000 [01:01<04:59, 33.36it/s]"
     ]
    },
    {
     "name": "stdout",
     "output_type": "stream",
     "text": [
      "Step 2000: average-batch loss:190.77302993213178 rel loss: 0.007981408444449388\n",
      "Saved a checkpoint: /tmp/tfcheckpoints/f11754f3-0e3b-4895-80d0-00219880cc04/f11754f3-0e3b-4895-80d0-00219880cc04-41\n"
     ]
    },
    {
     "name": "stderr",
     "output_type": "stream",
     "text": [
      " 17%|█▋        | 2048/12000 [01:02<04:59, 33.23it/s]"
     ]
    },
    {
     "name": "stdout",
     "output_type": "stream",
     "text": [
      "Step 2050: average-batch loss:190.00610990274697 rel loss: 0.00403629141072015\n",
      "Saved a checkpoint: /tmp/tfcheckpoints/f11754f3-0e3b-4895-80d0-00219880cc04/f11754f3-0e3b-4895-80d0-00219880cc04-42\n"
     ]
    },
    {
     "name": "stderr",
     "output_type": "stream",
     "text": [
      " 17%|█▋        | 2096/12000 [01:04<04:52, 33.86it/s]"
     ]
    },
    {
     "name": "stdout",
     "output_type": "stream",
     "text": [
      "Step 2100: average-batch loss:188.7805593015642 rel loss: 0.006491932250423235\n",
      "Saved a checkpoint: /tmp/tfcheckpoints/f11754f3-0e3b-4895-80d0-00219880cc04/f11754f3-0e3b-4895-80d0-00219880cc04-43\n"
     ]
    },
    {
     "name": "stderr",
     "output_type": "stream",
     "text": [
      " 18%|█▊        | 2148/12000 [01:05<04:56, 33.22it/s]"
     ]
    },
    {
     "name": "stdout",
     "output_type": "stream",
     "text": [
      "Step 2150: average-batch loss:187.74917167170557 rel loss: 0.005493433716246194\n",
      "Saved a checkpoint: /tmp/tfcheckpoints/f11754f3-0e3b-4895-80d0-00219880cc04/f11754f3-0e3b-4895-80d0-00219880cc04-44\n"
     ]
    },
    {
     "name": "stderr",
     "output_type": "stream",
     "text": [
      " 18%|█▊        | 2196/12000 [01:07<04:50, 33.80it/s]"
     ]
    },
    {
     "name": "stdout",
     "output_type": "stream",
     "text": [
      "Step 2200: average-batch loss:187.16618623030354 rel loss: 0.003114801092782222\n",
      "Saved a checkpoint: /tmp/tfcheckpoints/f11754f3-0e3b-4895-80d0-00219880cc04/f11754f3-0e3b-4895-80d0-00219880cc04-45\n"
     ]
    },
    {
     "name": "stderr",
     "output_type": "stream",
     "text": [
      " 19%|█▊        | 2248/12000 [01:08<04:47, 33.91it/s]"
     ]
    },
    {
     "name": "stdout",
     "output_type": "stream",
     "text": [
      "Step 2250: average-batch loss:186.11105723445544 rel loss: 0.0056693514696382775\n",
      "Saved a checkpoint: /tmp/tfcheckpoints/f11754f3-0e3b-4895-80d0-00219880cc04/f11754f3-0e3b-4895-80d0-00219880cc04-46\n"
     ]
    },
    {
     "name": "stderr",
     "output_type": "stream",
     "text": [
      " 19%|█▉        | 2296/12000 [01:10<05:04, 31.86it/s]"
     ]
    },
    {
     "name": "stdout",
     "output_type": "stream",
     "text": [
      "Step 2300: average-batch loss:184.92513032449276 rel loss: 0.006413011081196552\n",
      "Saved a checkpoint: /tmp/tfcheckpoints/f11754f3-0e3b-4895-80d0-00219880cc04/f11754f3-0e3b-4895-80d0-00219880cc04-47\n"
     ]
    },
    {
     "name": "stderr",
     "output_type": "stream",
     "text": [
      " 20%|█▉        | 2348/12000 [01:11<04:44, 33.92it/s]"
     ]
    },
    {
     "name": "stdout",
     "output_type": "stream",
     "text": [
      "Step 2350: average-batch loss:184.13305810715076 rel loss: 0.004301629623079812\n",
      "Saved a checkpoint: /tmp/tfcheckpoints/f11754f3-0e3b-4895-80d0-00219880cc04/f11754f3-0e3b-4895-80d0-00219880cc04-48\n"
     ]
    },
    {
     "name": "stderr",
     "output_type": "stream",
     "text": [
      " 20%|█▉        | 2396/12000 [01:13<04:46, 33.50it/s]"
     ]
    },
    {
     "name": "stdout",
     "output_type": "stream",
     "text": [
      "Step 2400: average-batch loss:183.24192293005777 rel loss: 0.004863162112925062\n",
      "Saved a checkpoint: /tmp/tfcheckpoints/f11754f3-0e3b-4895-80d0-00219880cc04/f11754f3-0e3b-4895-80d0-00219880cc04-49\n"
     ]
    },
    {
     "name": "stderr",
     "output_type": "stream",
     "text": [
      " 20%|██        | 2448/12000 [01:14<04:45, 33.41it/s]"
     ]
    },
    {
     "name": "stdout",
     "output_type": "stream",
     "text": [
      "Step 2450: average-batch loss:182.81057486652222 rel loss: 0.0023595356223265387\n",
      "Saved a checkpoint: /tmp/tfcheckpoints/f11754f3-0e3b-4895-80d0-00219880cc04/f11754f3-0e3b-4895-80d0-00219880cc04-50\n"
     ]
    },
    {
     "name": "stderr",
     "output_type": "stream",
     "text": [
      " 21%|██        | 2496/12000 [01:16<04:44, 33.42it/s]"
     ]
    },
    {
     "name": "stdout",
     "output_type": "stream",
     "text": [
      "Step 2500: average-batch loss:182.16708214960389 rel loss: 0.0035324313774201294\n",
      "Saved a checkpoint: /tmp/tfcheckpoints/f11754f3-0e3b-4895-80d0-00219880cc04/f11754f3-0e3b-4895-80d0-00219880cc04-51\n"
     ]
    },
    {
     "name": "stderr",
     "output_type": "stream",
     "text": [
      " 21%|██        | 2548/12000 [01:17<04:41, 33.63it/s]"
     ]
    },
    {
     "name": "stdout",
     "output_type": "stream",
     "text": [
      "Step 2550: average-batch loss:180.9650785700381 rel loss: 0.006642185271677107\n",
      "Saved a checkpoint: /tmp/tfcheckpoints/f11754f3-0e3b-4895-80d0-00219880cc04/f11754f3-0e3b-4895-80d0-00219880cc04-52\n"
     ]
    },
    {
     "name": "stderr",
     "output_type": "stream",
     "text": [
      " 22%|██▏       | 2596/12000 [01:19<04:44, 33.06it/s]"
     ]
    },
    {
     "name": "stdout",
     "output_type": "stream",
     "text": [
      "Step 2600: average-batch loss:180.51603242411198 rel loss: 0.00248756933052404\n",
      "Saved a checkpoint: /tmp/tfcheckpoints/f11754f3-0e3b-4895-80d0-00219880cc04/f11754f3-0e3b-4895-80d0-00219880cc04-53\n"
     ]
    },
    {
     "name": "stderr",
     "output_type": "stream",
     "text": [
      " 22%|██▏       | 2648/12000 [01:20<04:42, 33.15it/s]"
     ]
    },
    {
     "name": "stdout",
     "output_type": "stream",
     "text": [
      "Step 2650: average-batch loss:179.39806022560444 rel loss: 0.006231796470383368\n",
      "Saved a checkpoint: /tmp/tfcheckpoints/f11754f3-0e3b-4895-80d0-00219880cc04/f11754f3-0e3b-4895-80d0-00219880cc04-54\n"
     ]
    },
    {
     "name": "stderr",
     "output_type": "stream",
     "text": [
      " 22%|██▏       | 2696/12000 [01:22<04:45, 32.60it/s]"
     ]
    },
    {
     "name": "stdout",
     "output_type": "stream",
     "text": [
      "Step 2700: average-batch loss:179.06558393204426 rel loss: 0.001856729172962417\n",
      "Saved a checkpoint: /tmp/tfcheckpoints/f11754f3-0e3b-4895-80d0-00219880cc04/f11754f3-0e3b-4895-80d0-00219880cc04-55\n"
     ]
    },
    {
     "name": "stderr",
     "output_type": "stream",
     "text": [
      " 23%|██▎       | 2748/12000 [01:23<04:45, 32.43it/s]"
     ]
    },
    {
     "name": "stdout",
     "output_type": "stream",
     "text": [
      "Step 2750: average-batch loss:178.5498202652874 rel loss: 0.002888626076411346\n",
      "Saved a checkpoint: /tmp/tfcheckpoints/f11754f3-0e3b-4895-80d0-00219880cc04/f11754f3-0e3b-4895-80d0-00219880cc04-56\n"
     ]
    },
    {
     "name": "stderr",
     "output_type": "stream",
     "text": [
      " 23%|██▎       | 2796/12000 [01:25<04:39, 32.87it/s]"
     ]
    },
    {
     "name": "stdout",
     "output_type": "stream",
     "text": [
      "Step 2800: average-batch loss:177.7217228312193 rel loss: 0.004659517254705746\n",
      "Saved a checkpoint: /tmp/tfcheckpoints/f11754f3-0e3b-4895-80d0-00219880cc04/f11754f3-0e3b-4895-80d0-00219880cc04-57\n"
     ]
    },
    {
     "name": "stderr",
     "output_type": "stream",
     "text": [
      " 24%|██▎       | 2848/12000 [01:26<04:42, 32.42it/s]"
     ]
    },
    {
     "name": "stdout",
     "output_type": "stream",
     "text": [
      "Step 2850: average-batch loss:177.1813392513859 rel loss: 0.0030498899157020668\n",
      "Saved a checkpoint: /tmp/tfcheckpoints/f11754f3-0e3b-4895-80d0-00219880cc04/f11754f3-0e3b-4895-80d0-00219880cc04-58\n"
     ]
    },
    {
     "name": "stderr",
     "output_type": "stream",
     "text": [
      " 24%|██▍       | 2896/12000 [01:28<04:32, 33.42it/s]"
     ]
    },
    {
     "name": "stdout",
     "output_type": "stream",
     "text": [
      "Step 2900: average-batch loss:176.72573639839914 rel loss: 0.002578022093848798\n",
      "Saved a checkpoint: /tmp/tfcheckpoints/f11754f3-0e3b-4895-80d0-00219880cc04/f11754f3-0e3b-4895-80d0-00219880cc04-59\n"
     ]
    },
    {
     "name": "stderr",
     "output_type": "stream",
     "text": [
      " 25%|██▍       | 2948/12000 [01:29<04:30, 33.48it/s]"
     ]
    },
    {
     "name": "stdout",
     "output_type": "stream",
     "text": [
      "Step 2950: average-batch loss:176.28946080690562 rel loss: 0.0024747684262950696\n",
      "Saved a checkpoint: /tmp/tfcheckpoints/f11754f3-0e3b-4895-80d0-00219880cc04/f11754f3-0e3b-4895-80d0-00219880cc04-60\n"
     ]
    },
    {
     "name": "stderr",
     "output_type": "stream",
     "text": [
      " 25%|██▍       | 2996/12000 [01:31<04:35, 32.73it/s]"
     ]
    },
    {
     "name": "stdout",
     "output_type": "stream",
     "text": [
      "Step 3000: average-batch loss:175.61598843761607 rel loss: 0.0038349148917542477\n",
      "Saved a checkpoint: /tmp/tfcheckpoints/f11754f3-0e3b-4895-80d0-00219880cc04/f11754f3-0e3b-4895-80d0-00219880cc04-61\n"
     ]
    },
    {
     "name": "stderr",
     "output_type": "stream",
     "text": [
      " 25%|██▌       | 3048/12000 [01:33<04:32, 32.86it/s]"
     ]
    },
    {
     "name": "stdout",
     "output_type": "stream",
     "text": [
      "Step 3050: average-batch loss:174.78891336155377 rel loss: 0.0047318508946358724\n",
      "Saved a checkpoint: /tmp/tfcheckpoints/f11754f3-0e3b-4895-80d0-00219880cc04/f11754f3-0e3b-4895-80d0-00219880cc04-62\n"
     ]
    },
    {
     "name": "stderr",
     "output_type": "stream",
     "text": [
      " 26%|██▌       | 3096/12000 [01:34<04:28, 33.14it/s]"
     ]
    },
    {
     "name": "stdout",
     "output_type": "stream",
     "text": [
      "Step 3100: average-batch loss:174.4012894963763 rel loss: 0.002222597472167853\n",
      "Saved a checkpoint: /tmp/tfcheckpoints/f11754f3-0e3b-4895-80d0-00219880cc04/f11754f3-0e3b-4895-80d0-00219880cc04-63\n"
     ]
    },
    {
     "name": "stderr",
     "output_type": "stream",
     "text": [
      " 26%|██▌       | 3148/12000 [01:36<04:22, 33.71it/s]"
     ]
    },
    {
     "name": "stdout",
     "output_type": "stream",
     "text": [
      "Step 3150: average-batch loss:173.86530457323948 rel loss: 0.0030827595215297443\n",
      "Saved a checkpoint: /tmp/tfcheckpoints/f11754f3-0e3b-4895-80d0-00219880cc04/f11754f3-0e3b-4895-80d0-00219880cc04-64\n"
     ]
    },
    {
     "name": "stderr",
     "output_type": "stream",
     "text": [
      " 27%|██▋       | 3196/12000 [01:37<04:24, 33.26it/s]"
     ]
    },
    {
     "name": "stdout",
     "output_type": "stream",
     "text": [
      "Step 3200: average-batch loss:173.26347511803863 rel loss: 0.0034734929262549455\n",
      "Saved a checkpoint: /tmp/tfcheckpoints/f11754f3-0e3b-4895-80d0-00219880cc04/f11754f3-0e3b-4895-80d0-00219880cc04-65\n"
     ]
    },
    {
     "name": "stderr",
     "output_type": "stream",
     "text": [
      " 27%|██▋       | 3248/12000 [01:39<04:28, 32.58it/s]"
     ]
    },
    {
     "name": "stdout",
     "output_type": "stream",
     "text": [
      "Step 3250: average-batch loss:173.04819030064544 rel loss: 0.0012440743645984258\n",
      "Saved a checkpoint: /tmp/tfcheckpoints/f11754f3-0e3b-4895-80d0-00219880cc04/f11754f3-0e3b-4895-80d0-00219880cc04-66\n"
     ]
    },
    {
     "name": "stderr",
     "output_type": "stream",
     "text": [
      " 27%|██▋       | 3296/12000 [01:40<04:23, 32.98it/s]"
     ]
    },
    {
     "name": "stdout",
     "output_type": "stream",
     "text": [
      "Step 3300: average-batch loss:172.02254024540554 rel loss: 0.005962300369339541\n",
      "Saved a checkpoint: /tmp/tfcheckpoints/f11754f3-0e3b-4895-80d0-00219880cc04/f11754f3-0e3b-4895-80d0-00219880cc04-67\n"
     ]
    },
    {
     "name": "stderr",
     "output_type": "stream",
     "text": [
      " 28%|██▊       | 3348/12000 [01:42<04:22, 32.94it/s]"
     ]
    },
    {
     "name": "stdout",
     "output_type": "stream",
     "text": [
      "Step 3350: average-batch loss:171.70202877844682 rel loss: 0.001866672567813905\n",
      "Saved a checkpoint: /tmp/tfcheckpoints/f11754f3-0e3b-4895-80d0-00219880cc04/f11754f3-0e3b-4895-80d0-00219880cc04-68\n"
     ]
    },
    {
     "name": "stderr",
     "output_type": "stream",
     "text": [
      " 28%|██▊       | 3396/12000 [01:43<04:17, 33.42it/s]"
     ]
    },
    {
     "name": "stdout",
     "output_type": "stream",
     "text": [
      "Step 3400: average-batch loss:171.367358517943 rel loss: 0.0019529405331225073\n",
      "Saved a checkpoint: /tmp/tfcheckpoints/f11754f3-0e3b-4895-80d0-00219880cc04/f11754f3-0e3b-4895-80d0-00219880cc04-69\n"
     ]
    },
    {
     "name": "stderr",
     "output_type": "stream",
     "text": [
      " 29%|██▊       | 3448/12000 [01:45<04:15, 33.51it/s]"
     ]
    },
    {
     "name": "stdout",
     "output_type": "stream",
     "text": [
      "Step 3450: average-batch loss:170.95493918013716 rel loss: 0.0024124447049246028\n",
      "Saved a checkpoint: /tmp/tfcheckpoints/f11754f3-0e3b-4895-80d0-00219880cc04/f11754f3-0e3b-4895-80d0-00219880cc04-70\n"
     ]
    },
    {
     "name": "stderr",
     "output_type": "stream",
     "text": [
      " 29%|██▉       | 3496/12000 [01:46<04:21, 32.57it/s]"
     ]
    },
    {
     "name": "stdout",
     "output_type": "stream",
     "text": [
      "Step 3500: average-batch loss:170.46465602398666 rel loss: 0.0028761572491690438\n",
      "Saved a checkpoint: /tmp/tfcheckpoints/f11754f3-0e3b-4895-80d0-00219880cc04/f11754f3-0e3b-4895-80d0-00219880cc04-71\n"
     ]
    },
    {
     "name": "stderr",
     "output_type": "stream",
     "text": [
      " 30%|██▉       | 3548/12000 [01:48<04:22, 32.17it/s]"
     ]
    },
    {
     "name": "stdout",
     "output_type": "stream",
     "text": [
      "Step 3550: average-batch loss:170.1762062298913 rel loss: 0.0016950066080665192\n",
      "Saved a checkpoint: /tmp/tfcheckpoints/f11754f3-0e3b-4895-80d0-00219880cc04/f11754f3-0e3b-4895-80d0-00219880cc04-72\n"
     ]
    },
    {
     "name": "stderr",
     "output_type": "stream",
     "text": [
      " 30%|██▉       | 3596/12000 [01:49<04:11, 33.38it/s]"
     ]
    },
    {
     "name": "stdout",
     "output_type": "stream",
     "text": [
      "Step 3600: average-batch loss:169.45021163986507 rel loss: 0.0042844124123562555\n",
      "Saved a checkpoint: /tmp/tfcheckpoints/f11754f3-0e3b-4895-80d0-00219880cc04/f11754f3-0e3b-4895-80d0-00219880cc04-73\n"
     ]
    },
    {
     "name": "stderr",
     "output_type": "stream",
     "text": [
      " 30%|███       | 3648/12000 [01:51<04:08, 33.59it/s]"
     ]
    },
    {
     "name": "stdout",
     "output_type": "stream",
     "text": [
      "Step 3650: average-batch loss:169.39108612527855 rel loss: 0.00034904737869617295\n",
      "Saved a checkpoint: /tmp/tfcheckpoints/f11754f3-0e3b-4895-80d0-00219880cc04/f11754f3-0e3b-4895-80d0-00219880cc04-74\n"
     ]
    },
    {
     "name": "stderr",
     "output_type": "stream",
     "text": [
      " 31%|███       | 3696/12000 [01:52<04:12, 32.86it/s]"
     ]
    },
    {
     "name": "stdout",
     "output_type": "stream",
     "text": [
      "Step 3700: average-batch loss:168.65558016643843 rel loss: 0.004360993915020688\n",
      "Saved a checkpoint: /tmp/tfcheckpoints/f11754f3-0e3b-4895-80d0-00219880cc04/f11754f3-0e3b-4895-80d0-00219880cc04-75\n"
     ]
    },
    {
     "name": "stderr",
     "output_type": "stream",
     "text": [
      " 31%|███       | 3748/12000 [01:54<04:09, 33.08it/s]"
     ]
    },
    {
     "name": "stdout",
     "output_type": "stream",
     "text": [
      "Step 3750: average-batch loss:168.35392256914827 rel loss: 0.0017918061705171073\n",
      "Saved a checkpoint: /tmp/tfcheckpoints/f11754f3-0e3b-4895-80d0-00219880cc04/f11754f3-0e3b-4895-80d0-00219880cc04-76\n"
     ]
    },
    {
     "name": "stderr",
     "output_type": "stream",
     "text": [
      " 32%|███▏      | 3796/12000 [01:55<04:16, 32.02it/s]"
     ]
    },
    {
     "name": "stdout",
     "output_type": "stream",
     "text": [
      "Step 3800: average-batch loss:168.0184323419963 rel loss: 0.0019967465621218224\n",
      "Saved a checkpoint: /tmp/tfcheckpoints/f11754f3-0e3b-4895-80d0-00219880cc04/f11754f3-0e3b-4895-80d0-00219880cc04-77\n"
     ]
    },
    {
     "name": "stderr",
     "output_type": "stream",
     "text": [
      " 32%|███▏      | 3848/12000 [01:57<04:06, 33.01it/s]"
     ]
    },
    {
     "name": "stdout",
     "output_type": "stream",
     "text": [
      "Step 3850: average-batch loss:167.45209790704047 rel loss: 0.0033820683170551593\n",
      "Saved a checkpoint: /tmp/tfcheckpoints/f11754f3-0e3b-4895-80d0-00219880cc04/f11754f3-0e3b-4895-80d0-00219880cc04-78\n"
     ]
    },
    {
     "name": "stderr",
     "output_type": "stream",
     "text": [
      " 32%|███▏      | 3896/12000 [01:58<04:01, 33.53it/s]"
     ]
    },
    {
     "name": "stdout",
     "output_type": "stream",
     "text": [
      "Step 3900: average-batch loss:167.1634708130776 rel loss: 0.0017266158243723964\n",
      "Saved a checkpoint: /tmp/tfcheckpoints/f11754f3-0e3b-4895-80d0-00219880cc04/f11754f3-0e3b-4895-80d0-00219880cc04-79\n"
     ]
    },
    {
     "name": "stderr",
     "output_type": "stream",
     "text": [
      " 33%|███▎      | 3948/12000 [02:00<04:01, 33.36it/s]"
     ]
    },
    {
     "name": "stdout",
     "output_type": "stream",
     "text": [
      "Step 3950: average-batch loss:166.77342060894466 rel loss: 0.002338803166048472\n",
      "Saved a checkpoint: /tmp/tfcheckpoints/f11754f3-0e3b-4895-80d0-00219880cc04/f11754f3-0e3b-4895-80d0-00219880cc04-80\n"
     ]
    },
    {
     "name": "stderr",
     "output_type": "stream",
     "text": [
      " 33%|███▎      | 3996/12000 [02:02<04:09, 32.08it/s]"
     ]
    },
    {
     "name": "stdout",
     "output_type": "stream",
     "text": [
      "Step 4000: average-batch loss:166.50569994405882 rel loss: 0.001607876877342875\n",
      "Saved a checkpoint: /tmp/tfcheckpoints/f11754f3-0e3b-4895-80d0-00219880cc04/f11754f3-0e3b-4895-80d0-00219880cc04-81\n"
     ]
    },
    {
     "name": "stderr",
     "output_type": "stream",
     "text": [
      " 34%|███▎      | 4048/12000 [02:03<04:06, 32.29it/s]"
     ]
    },
    {
     "name": "stdout",
     "output_type": "stream",
     "text": [
      "Step 4050: average-batch loss:165.8814441507617 rel loss: 0.0037632647611252263\n",
      "Saved a checkpoint: /tmp/tfcheckpoints/f11754f3-0e3b-4895-80d0-00219880cc04/f11754f3-0e3b-4895-80d0-00219880cc04-82\n"
     ]
    },
    {
     "name": "stderr",
     "output_type": "stream",
     "text": [
      " 34%|███▍      | 4096/12000 [02:05<04:03, 32.40it/s]"
     ]
    },
    {
     "name": "stdout",
     "output_type": "stream",
     "text": [
      "Step 4100: average-batch loss:165.50694919775216 rel loss: 0.0022627143743799813\n",
      "Saved a checkpoint: /tmp/tfcheckpoints/f11754f3-0e3b-4895-80d0-00219880cc04/f11754f3-0e3b-4895-80d0-00219880cc04-83\n"
     ]
    },
    {
     "name": "stderr",
     "output_type": "stream",
     "text": [
      " 35%|███▍      | 4148/12000 [02:06<03:57, 33.08it/s]"
     ]
    },
    {
     "name": "stdout",
     "output_type": "stream",
     "text": [
      "Step 4150: average-batch loss:165.29409774427546 rel loss: 0.0012877135746613413\n",
      "Saved a checkpoint: /tmp/tfcheckpoints/f11754f3-0e3b-4895-80d0-00219880cc04/f11754f3-0e3b-4895-80d0-00219880cc04-84\n"
     ]
    },
    {
     "name": "stderr",
     "output_type": "stream",
     "text": [
      " 35%|███▍      | 4196/12000 [02:08<03:59, 32.64it/s]"
     ]
    },
    {
     "name": "stdout",
     "output_type": "stream",
     "text": [
      "Step 4200: average-batch loss:164.7565972569302 rel loss: 0.003262391286869372\n",
      "Saved a checkpoint: /tmp/tfcheckpoints/f11754f3-0e3b-4895-80d0-00219880cc04/f11754f3-0e3b-4895-80d0-00219880cc04-85\n"
     ]
    },
    {
     "name": "stderr",
     "output_type": "stream",
     "text": [
      " 35%|███▌      | 4248/12000 [02:09<04:01, 32.11it/s]"
     ]
    },
    {
     "name": "stdout",
     "output_type": "stream",
     "text": [
      "Step 4250: average-batch loss:164.30035378870176 rel loss: 0.002776886706009177\n",
      "Saved a checkpoint: /tmp/tfcheckpoints/f11754f3-0e3b-4895-80d0-00219880cc04/f11754f3-0e3b-4895-80d0-00219880cc04-86\n"
     ]
    },
    {
     "name": "stderr",
     "output_type": "stream",
     "text": [
      " 36%|███▌      | 4296/12000 [02:11<03:53, 33.04it/s]"
     ]
    },
    {
     "name": "stdout",
     "output_type": "stream",
     "text": [
      "Step 4300: average-batch loss:163.83395799343256 rel loss: 0.0028467590051623423\n",
      "Saved a checkpoint: /tmp/tfcheckpoints/f11754f3-0e3b-4895-80d0-00219880cc04/f11754f3-0e3b-4895-80d0-00219880cc04-87\n"
     ]
    },
    {
     "name": "stderr",
     "output_type": "stream",
     "text": [
      " 36%|███▌      | 4348/12000 [02:12<03:54, 32.62it/s]"
     ]
    },
    {
     "name": "stdout",
     "output_type": "stream",
     "text": [
      "Step 4350: average-batch loss:163.6992177898223 rel loss: 0.0008230961969729499\n",
      "Saved a checkpoint: /tmp/tfcheckpoints/f11754f3-0e3b-4895-80d0-00219880cc04/f11754f3-0e3b-4895-80d0-00219880cc04-88\n"
     ]
    },
    {
     "name": "stderr",
     "output_type": "stream",
     "text": [
      " 37%|███▋      | 4396/12000 [02:14<03:51, 32.78it/s]"
     ]
    },
    {
     "name": "stdout",
     "output_type": "stream",
     "text": [
      "Step 4400: average-batch loss:163.31114697407935 rel loss: 0.0023762665496713346\n",
      "Saved a checkpoint: /tmp/tfcheckpoints/f11754f3-0e3b-4895-80d0-00219880cc04/f11754f3-0e3b-4895-80d0-00219880cc04-89\n"
     ]
    },
    {
     "name": "stderr",
     "output_type": "stream",
     "text": [
      " 37%|███▋      | 4448/12000 [02:16<03:48, 33.03it/s]"
     ]
    },
    {
     "name": "stdout",
     "output_type": "stream",
     "text": [
      "Step 4450: average-batch loss:163.11141257896895 rel loss: 0.0012245274070794862\n",
      "Saved a checkpoint: /tmp/tfcheckpoints/f11754f3-0e3b-4895-80d0-00219880cc04/f11754f3-0e3b-4895-80d0-00219880cc04-90\n"
     ]
    },
    {
     "name": "stderr",
     "output_type": "stream",
     "text": [
      " 37%|███▋      | 4496/12000 [02:17<03:47, 33.03it/s]"
     ]
    },
    {
     "name": "stdout",
     "output_type": "stream",
     "text": [
      "Step 4500: average-batch loss:162.5627370118763 rel loss: 0.003375161966254136\n",
      "Saved a checkpoint: /tmp/tfcheckpoints/f11754f3-0e3b-4895-80d0-00219880cc04/f11754f3-0e3b-4895-80d0-00219880cc04-91\n"
     ]
    },
    {
     "name": "stderr",
     "output_type": "stream",
     "text": [
      " 38%|███▊      | 4548/12000 [02:19<03:46, 32.91it/s]"
     ]
    },
    {
     "name": "stdout",
     "output_type": "stream",
     "text": [
      "Step 4550: average-batch loss:162.5024269431916 rel loss: 0.0003711333413239994\n",
      "Saved a checkpoint: /tmp/tfcheckpoints/f11754f3-0e3b-4895-80d0-00219880cc04/f11754f3-0e3b-4895-80d0-00219880cc04-92\n"
     ]
    },
    {
     "name": "stderr",
     "output_type": "stream",
     "text": [
      " 38%|███▊      | 4596/12000 [02:20<03:41, 33.39it/s]"
     ]
    },
    {
     "name": "stdout",
     "output_type": "stream",
     "text": [
      "Step 4600: average-batch loss:161.8002572139963 rel loss: 0.004339731847685619\n",
      "Saved a checkpoint: /tmp/tfcheckpoints/f11754f3-0e3b-4895-80d0-00219880cc04/f11754f3-0e3b-4895-80d0-00219880cc04-93\n"
     ]
    },
    {
     "name": "stderr",
     "output_type": "stream",
     "text": [
      " 39%|███▊      | 4648/12000 [02:22<03:42, 33.11it/s]"
     ]
    },
    {
     "name": "stdout",
     "output_type": "stream",
     "text": [
      "Step 4650: average-batch loss:161.90649005490667 rel loss: 0.0006561370138673216\n",
      "New learning rate: <tf.Variable 'learning_rate:0' shape=() dtype=float32, numpy=0.0005>\n"
     ]
    },
    {
     "name": "stderr",
     "output_type": "stream",
     "text": [
      " 39%|███▉      | 4696/12000 [02:23<03:49, 31.88it/s]"
     ]
    },
    {
     "name": "stdout",
     "output_type": "stream",
     "text": [
      "Step 4700: average-batch loss:161.29855744681794 rel loss: 0.003110379752427619\n",
      "Saved a checkpoint: /tmp/tfcheckpoints/f11754f3-0e3b-4895-80d0-00219880cc04/f11754f3-0e3b-4895-80d0-00219880cc04-94\n"
     ]
    },
    {
     "name": "stderr",
     "output_type": "stream",
     "text": [
      " 40%|███▉      | 4748/12000 [02:25<03:39, 33.10it/s]"
     ]
    },
    {
     "name": "stdout",
     "output_type": "stream",
     "text": [
      "Step 4750: average-batch loss:161.204868813534 rel loss: 0.0005811774419313725\n",
      "Saved a checkpoint: /tmp/tfcheckpoints/f11754f3-0e3b-4895-80d0-00219880cc04/f11754f3-0e3b-4895-80d0-00219880cc04-95\n"
     ]
    },
    {
     "name": "stderr",
     "output_type": "stream",
     "text": [
      " 40%|███▉      | 4796/12000 [02:26<03:37, 33.20it/s]"
     ]
    },
    {
     "name": "stdout",
     "output_type": "stream",
     "text": [
      "Step 4800: average-batch loss:160.9128743891545 rel loss: 0.001814611947539671\n",
      "Saved a checkpoint: /tmp/tfcheckpoints/f11754f3-0e3b-4895-80d0-00219880cc04/f11754f3-0e3b-4895-80d0-00219880cc04-96\n"
     ]
    },
    {
     "name": "stderr",
     "output_type": "stream",
     "text": [
      " 40%|████      | 4848/12000 [02:28<03:32, 33.59it/s]"
     ]
    },
    {
     "name": "stdout",
     "output_type": "stream",
     "text": [
      "Step 4850: average-batch loss:160.62186789506015 rel loss: 0.0018117489100828521\n",
      "Saved a checkpoint: /tmp/tfcheckpoints/f11754f3-0e3b-4895-80d0-00219880cc04/f11754f3-0e3b-4895-80d0-00219880cc04-97\n"
     ]
    },
    {
     "name": "stderr",
     "output_type": "stream",
     "text": [
      " 41%|████      | 4896/12000 [02:29<03:30, 33.67it/s]"
     ]
    },
    {
     "name": "stdout",
     "output_type": "stream",
     "text": [
      "Step 4900: average-batch loss:160.36242741695332 rel loss: 0.0016178383071756694\n",
      "Saved a checkpoint: /tmp/tfcheckpoints/f11754f3-0e3b-4895-80d0-00219880cc04/f11754f3-0e3b-4895-80d0-00219880cc04-98\n"
     ]
    },
    {
     "name": "stderr",
     "output_type": "stream",
     "text": [
      " 41%|████      | 4948/12000 [02:31<03:30, 33.44it/s]"
     ]
    },
    {
     "name": "stdout",
     "output_type": "stream",
     "text": [
      "Step 4950: average-batch loss:159.73593417901512 rel loss: 0.0039220557425488165\n",
      "Saved a checkpoint: /tmp/tfcheckpoints/f11754f3-0e3b-4895-80d0-00219880cc04/f11754f3-0e3b-4895-80d0-00219880cc04-99\n"
     ]
    },
    {
     "name": "stderr",
     "output_type": "stream",
     "text": [
      " 42%|████▏     | 4996/12000 [02:32<03:30, 33.29it/s]"
     ]
    },
    {
     "name": "stdout",
     "output_type": "stream",
     "text": [
      "Step 5000: average-batch loss:159.5072280315245 rel loss: 0.0014338293650580632\n",
      "Saved a checkpoint: /tmp/tfcheckpoints/f11754f3-0e3b-4895-80d0-00219880cc04/f11754f3-0e3b-4895-80d0-00219880cc04-100\n"
     ]
    },
    {
     "name": "stderr",
     "output_type": "stream",
     "text": [
      " 42%|████▏     | 5048/12000 [02:34<03:28, 33.40it/s]"
     ]
    },
    {
     "name": "stdout",
     "output_type": "stream",
     "text": [
      "Step 5050: average-batch loss:159.40878331545667 rel loss: 0.0006175614293035383\n",
      "Saved a checkpoint: /tmp/tfcheckpoints/f11754f3-0e3b-4895-80d0-00219880cc04/f11754f3-0e3b-4895-80d0-00219880cc04-101\n"
     ]
    },
    {
     "name": "stderr",
     "output_type": "stream",
     "text": [
      " 42%|████▏     | 5096/12000 [02:35<03:30, 32.82it/s]"
     ]
    },
    {
     "name": "stdout",
     "output_type": "stream",
     "text": [
      "Step 5100: average-batch loss:159.0702045967015 rel loss: 0.0021284860958945013\n",
      "Saved a checkpoint: /tmp/tfcheckpoints/f11754f3-0e3b-4895-80d0-00219880cc04/f11754f3-0e3b-4895-80d0-00219880cc04-102\n"
     ]
    },
    {
     "name": "stderr",
     "output_type": "stream",
     "text": [
      " 43%|████▎     | 5148/12000 [02:37<03:27, 33.05it/s]"
     ]
    },
    {
     "name": "stdout",
     "output_type": "stream",
     "text": [
      "Step 5150: average-batch loss:159.14946690327577 rel loss: 0.0004980368964882353\n",
      "New learning rate: <tf.Variable 'learning_rate:0' shape=() dtype=float32, numpy=0.0005>\n"
     ]
    },
    {
     "name": "stderr",
     "output_type": "stream",
     "text": [
      " 43%|████▎     | 5196/12000 [02:38<03:24, 33.32it/s]"
     ]
    },
    {
     "name": "stdout",
     "output_type": "stream",
     "text": [
      "Step 5200: average-batch loss:158.930945783657 rel loss: 0.0008762221375947187\n",
      "Saved a checkpoint: /tmp/tfcheckpoints/f11754f3-0e3b-4895-80d0-00219880cc04/f11754f3-0e3b-4895-80d0-00219880cc04-103\n"
     ]
    },
    {
     "name": "stderr",
     "output_type": "stream",
     "text": [
      " 44%|████▎     | 5248/12000 [02:40<03:23, 33.12it/s]"
     ]
    },
    {
     "name": "stdout",
     "output_type": "stream",
     "text": [
      "Step 5250: average-batch loss:158.56049308814877 rel loss: 0.0023363492903763473\n",
      "Saved a checkpoint: /tmp/tfcheckpoints/f11754f3-0e3b-4895-80d0-00219880cc04/f11754f3-0e3b-4895-80d0-00219880cc04-104\n"
     ]
    },
    {
     "name": "stderr",
     "output_type": "stream",
     "text": [
      " 44%|████▍     | 5296/12000 [02:41<03:21, 33.23it/s]"
     ]
    },
    {
     "name": "stdout",
     "output_type": "stream",
     "text": [
      "Step 5300: average-batch loss:158.4122602142651 rel loss: 0.0009357411710632414\n",
      "Saved a checkpoint: /tmp/tfcheckpoints/f11754f3-0e3b-4895-80d0-00219880cc04/f11754f3-0e3b-4895-80d0-00219880cc04-105\n"
     ]
    },
    {
     "name": "stderr",
     "output_type": "stream",
     "text": [
      " 45%|████▍     | 5348/12000 [02:43<03:19, 33.33it/s]"
     ]
    },
    {
     "name": "stdout",
     "output_type": "stream",
     "text": [
      "Step 5350: average-batch loss:158.2422568133088 rel loss: 0.001074323662843463\n",
      "Saved a checkpoint: /tmp/tfcheckpoints/f11754f3-0e3b-4895-80d0-00219880cc04/f11754f3-0e3b-4895-80d0-00219880cc04-106\n"
     ]
    },
    {
     "name": "stderr",
     "output_type": "stream",
     "text": [
      " 45%|████▍     | 5396/12000 [02:44<03:22, 32.53it/s]"
     ]
    },
    {
     "name": "stdout",
     "output_type": "stream",
     "text": [
      "Step 5400: average-batch loss:158.0431056744292 rel loss: 0.0012601064629156806\n",
      "Saved a checkpoint: /tmp/tfcheckpoints/f11754f3-0e3b-4895-80d0-00219880cc04/f11754f3-0e3b-4895-80d0-00219880cc04-107\n"
     ]
    },
    {
     "name": "stderr",
     "output_type": "stream",
     "text": [
      " 45%|████▌     | 5448/12000 [02:46<03:14, 33.60it/s]"
     ]
    },
    {
     "name": "stdout",
     "output_type": "stream",
     "text": [
      "Step 5450: average-batch loss:157.6191399506662 rel loss: 0.0026898111732857346\n",
      "Saved a checkpoint: /tmp/tfcheckpoints/f11754f3-0e3b-4895-80d0-00219880cc04/f11754f3-0e3b-4895-80d0-00219880cc04-108\n"
     ]
    },
    {
     "name": "stderr",
     "output_type": "stream",
     "text": [
      " 46%|████▌     | 5496/12000 [02:48<03:16, 33.11it/s]"
     ]
    },
    {
     "name": "stdout",
     "output_type": "stream",
     "text": [
      "Step 5500: average-batch loss:157.6288627421069 rel loss: 6.168154278057158e-05\n",
      "New learning rate: <tf.Variable 'learning_rate:0' shape=() dtype=float32, numpy=0.0005>\n"
     ]
    },
    {
     "name": "stderr",
     "output_type": "stream",
     "text": [
      " 46%|████▌     | 5548/12000 [02:49<03:12, 33.43it/s]"
     ]
    },
    {
     "name": "stdout",
     "output_type": "stream",
     "text": [
      "Step 5550: average-batch loss:157.44366038883976 rel loss: 0.001114554637468834\n",
      "Saved a checkpoint: /tmp/tfcheckpoints/f11754f3-0e3b-4895-80d0-00219880cc04/f11754f3-0e3b-4895-80d0-00219880cc04-109\n"
     ]
    },
    {
     "name": "stderr",
     "output_type": "stream",
     "text": [
      " 47%|████▋     | 5596/12000 [02:51<03:12, 33.27it/s]"
     ]
    },
    {
     "name": "stdout",
     "output_type": "stream",
     "text": [
      "Step 5600: average-batch loss:157.19347780886378 rel loss: 0.001591558272412477\n",
      "Saved a checkpoint: /tmp/tfcheckpoints/f11754f3-0e3b-4895-80d0-00219880cc04/f11754f3-0e3b-4895-80d0-00219880cc04-110\n"
     ]
    },
    {
     "name": "stderr",
     "output_type": "stream",
     "text": [
      " 47%|████▋     | 5648/12000 [02:52<03:09, 33.44it/s]"
     ]
    },
    {
     "name": "stdout",
     "output_type": "stream",
     "text": [
      "Step 5650: average-batch loss:156.72026737811464 rel loss: 0.003019459056992497\n",
      "Saved a checkpoint: /tmp/tfcheckpoints/f11754f3-0e3b-4895-80d0-00219880cc04/f11754f3-0e3b-4895-80d0-00219880cc04-111\n"
     ]
    },
    {
     "name": "stderr",
     "output_type": "stream",
     "text": [
      " 47%|████▋     | 5696/12000 [02:54<03:14, 32.37it/s]"
     ]
    },
    {
     "name": "stdout",
     "output_type": "stream",
     "text": [
      "Step 5700: average-batch loss:156.85773835126017 rel loss: 0.0008764054269205333\n",
      "New learning rate: <tf.Variable 'learning_rate:0' shape=() dtype=float32, numpy=0.0005>\n"
     ]
    },
    {
     "name": "stderr",
     "output_type": "stream",
     "text": [
      " 48%|████▊     | 5748/12000 [02:55<03:07, 33.27it/s]"
     ]
    },
    {
     "name": "stdout",
     "output_type": "stream",
     "text": [
      "Step 5750: average-batch loss:156.79345514061959 rel loss: 0.0004667781728472363\n",
      "New learning rate: <tf.Variable 'learning_rate:0' shape=() dtype=float32, numpy=0.0005>\n"
     ]
    },
    {
     "name": "stderr",
     "output_type": "stream",
     "text": [
      " 48%|████▊     | 5796/12000 [02:57<03:09, 32.65it/s]"
     ]
    },
    {
     "name": "stdout",
     "output_type": "stream",
     "text": [
      "Step 5800: average-batch loss:156.6883483578227 rel loss: 0.00020371023516732297\n",
      "Saved a checkpoint: /tmp/tfcheckpoints/f11754f3-0e3b-4895-80d0-00219880cc04/f11754f3-0e3b-4895-80d0-00219880cc04-112\n"
     ]
    },
    {
     "name": "stderr",
     "output_type": "stream",
     "text": [
      " 49%|████▊     | 5848/12000 [02:58<03:06, 33.02it/s]"
     ]
    },
    {
     "name": "stdout",
     "output_type": "stream",
     "text": [
      "Step 5850: average-batch loss:156.41252444411842 rel loss: 0.0017634387954835158\n",
      "Saved a checkpoint: /tmp/tfcheckpoints/f11754f3-0e3b-4895-80d0-00219880cc04/f11754f3-0e3b-4895-80d0-00219880cc04-113\n"
     ]
    },
    {
     "name": "stderr",
     "output_type": "stream",
     "text": [
      " 49%|████▉     | 5896/12000 [03:00<03:06, 32.74it/s]"
     ]
    },
    {
     "name": "stdout",
     "output_type": "stream",
     "text": [
      "Step 5900: average-batch loss:156.33530741105676 rel loss: 0.0004939193477173305\n",
      "Saved a checkpoint: /tmp/tfcheckpoints/f11754f3-0e3b-4895-80d0-00219880cc04/f11754f3-0e3b-4895-80d0-00219880cc04-114\n"
     ]
    },
    {
     "name": "stderr",
     "output_type": "stream",
     "text": [
      " 50%|████▉     | 5948/12000 [03:01<03:02, 33.11it/s]"
     ]
    },
    {
     "name": "stdout",
     "output_type": "stream",
     "text": [
      "Step 5950: average-batch loss:155.81076982527668 rel loss: 0.003366504037996139\n",
      "Saved a checkpoint: /tmp/tfcheckpoints/f11754f3-0e3b-4895-80d0-00219880cc04/f11754f3-0e3b-4895-80d0-00219880cc04-115\n"
     ]
    },
    {
     "name": "stderr",
     "output_type": "stream",
     "text": [
      " 50%|████▉     | 5996/12000 [03:03<02:59, 33.39it/s]"
     ]
    },
    {
     "name": "stdout",
     "output_type": "stream",
     "text": [
      "Step 6000: average-batch loss:155.7339830724375 rel loss: 0.0004930635647035814\n",
      "Saved a checkpoint: /tmp/tfcheckpoints/f11754f3-0e3b-4895-80d0-00219880cc04/f11754f3-0e3b-4895-80d0-00219880cc04-116\n"
     ]
    },
    {
     "name": "stderr",
     "output_type": "stream",
     "text": [
      " 50%|█████     | 6048/12000 [03:04<03:03, 32.51it/s]"
     ]
    },
    {
     "name": "stdout",
     "output_type": "stream",
     "text": [
      "Step 6050: average-batch loss:156.28686586179148 rel loss: 0.003537615181578441\n",
      "New learning rate: <tf.Variable 'learning_rate:0' shape=() dtype=float32, numpy=0.0005>\n"
     ]
    },
    {
     "name": "stderr",
     "output_type": "stream",
     "text": [
      " 51%|█████     | 6096/12000 [03:06<02:57, 33.21it/s]"
     ]
    },
    {
     "name": "stdout",
     "output_type": "stream",
     "text": [
      "Step 6100: average-batch loss:155.68557876471834 rel loss: 0.00031091067074558344\n",
      "Saved a checkpoint: /tmp/tfcheckpoints/f11754f3-0e3b-4895-80d0-00219880cc04/f11754f3-0e3b-4895-80d0-00219880cc04-117\n"
     ]
    },
    {
     "name": "stderr",
     "output_type": "stream",
     "text": [
      " 51%|█████     | 6148/12000 [03:07<03:03, 31.96it/s]"
     ]
    },
    {
     "name": "stdout",
     "output_type": "stream",
     "text": [
      "Step 6150: average-batch loss:155.46375455076156 rel loss: 0.0014268548614291303\n",
      "Saved a checkpoint: /tmp/tfcheckpoints/f11754f3-0e3b-4895-80d0-00219880cc04/f11754f3-0e3b-4895-80d0-00219880cc04-118\n"
     ]
    },
    {
     "name": "stderr",
     "output_type": "stream",
     "text": [
      " 52%|█████▏    | 6196/12000 [03:09<02:58, 32.43it/s]"
     ]
    },
    {
     "name": "stdout",
     "output_type": "stream",
     "text": [
      "Step 6200: average-batch loss:154.94320100047582 rel loss: 0.0033596411260674907\n",
      "Saved a checkpoint: /tmp/tfcheckpoints/f11754f3-0e3b-4895-80d0-00219880cc04/f11754f3-0e3b-4895-80d0-00219880cc04-119\n"
     ]
    },
    {
     "name": "stderr",
     "output_type": "stream",
     "text": [
      " 52%|█████▏    | 6248/12000 [03:11<02:54, 32.98it/s]"
     ]
    },
    {
     "name": "stdout",
     "output_type": "stream",
     "text": [
      "Step 6250: average-batch loss:155.341695359569 rel loss: 0.002565276232957185\n",
      "New learning rate: <tf.Variable 'learning_rate:0' shape=() dtype=float32, numpy=0.0005>\n"
     ]
    },
    {
     "name": "stderr",
     "output_type": "stream",
     "text": [
      " 52%|█████▏    | 6296/12000 [03:12<02:54, 32.73it/s]"
     ]
    },
    {
     "name": "stdout",
     "output_type": "stream",
     "text": [
      "Step 6300: average-batch loss:155.04143850125158 rel loss: 0.0006336209320900975\n",
      "New learning rate: <tf.Variable 'learning_rate:0' shape=() dtype=float32, numpy=0.0005>\n"
     ]
    },
    {
     "name": "stderr",
     "output_type": "stream",
     "text": [
      " 53%|█████▎    | 6348/12000 [03:14<02:51, 33.01it/s]"
     ]
    },
    {
     "name": "stdout",
     "output_type": "stream",
     "text": [
      "Step 6350: average-batch loss:155.02254048919042 rel loss: 0.0005117932428679772\n",
      "New learning rate: <tf.Variable 'learning_rate:0' shape=() dtype=float32, numpy=0.0005>\n"
     ]
    },
    {
     "name": "stderr",
     "output_type": "stream",
     "text": [
      " 53%|█████▎    | 6396/12000 [03:15<02:50, 32.92it/s]"
     ]
    },
    {
     "name": "stdout",
     "output_type": "stream",
     "text": [
      "Step 6400: average-batch loss:154.89986601062415 rel loss: 0.00027976131269668214\n",
      "Saved a checkpoint: /tmp/tfcheckpoints/f11754f3-0e3b-4895-80d0-00219880cc04/f11754f3-0e3b-4895-80d0-00219880cc04-120\n"
     ]
    },
    {
     "name": "stderr",
     "output_type": "stream",
     "text": [
      " 54%|█████▎    | 6448/12000 [03:17<02:47, 33.20it/s]"
     ]
    },
    {
     "name": "stdout",
     "output_type": "stream",
     "text": [
      "Step 6450: average-batch loss:154.95628630085474 rel loss: 0.0003641045586304787\n",
      "New learning rate: <tf.Variable 'learning_rate:0' shape=() dtype=float32, numpy=0.0005>\n"
     ]
    },
    {
     "name": "stderr",
     "output_type": "stream",
     "text": [
      " 54%|█████▍    | 6496/12000 [03:18<02:46, 33.12it/s]"
     ]
    },
    {
     "name": "stdout",
     "output_type": "stream",
     "text": [
      "Step 6500: average-batch loss:154.75959665134815 rel loss: 0.0009063693774804275\n",
      "Saved a checkpoint: /tmp/tfcheckpoints/f11754f3-0e3b-4895-80d0-00219880cc04/f11754f3-0e3b-4895-80d0-00219880cc04-121\n"
     ]
    },
    {
     "name": "stderr",
     "output_type": "stream",
     "text": [
      " 55%|█████▍    | 6548/12000 [03:20<02:46, 32.69it/s]"
     ]
    },
    {
     "name": "stdout",
     "output_type": "stream",
     "text": [
      "Step 6550: average-batch loss:154.4571271537278 rel loss: 0.001958274785981841\n",
      "Saved a checkpoint: /tmp/tfcheckpoints/f11754f3-0e3b-4895-80d0-00219880cc04/f11754f3-0e3b-4895-80d0-00219880cc04-122\n"
     ]
    },
    {
     "name": "stderr",
     "output_type": "stream",
     "text": [
      " 55%|█████▍    | 6596/12000 [03:21<02:47, 32.28it/s]"
     ]
    },
    {
     "name": "stdout",
     "output_type": "stream",
     "text": [
      "Step 6600: average-batch loss:154.32722902447486 rel loss: 0.0008417058355421503\n",
      "Saved a checkpoint: /tmp/tfcheckpoints/f11754f3-0e3b-4895-80d0-00219880cc04/f11754f3-0e3b-4895-80d0-00219880cc04-123\n"
     ]
    },
    {
     "name": "stderr",
     "output_type": "stream",
     "text": [
      " 55%|█████▌    | 6648/12000 [03:23<02:42, 32.90it/s]"
     ]
    },
    {
     "name": "stdout",
     "output_type": "stream",
     "text": [
      "Step 6650: average-batch loss:154.63539282566478 rel loss: 0.001992841325383656\n"
     ]
    },
    {
     "name": "stderr",
     "output_type": "stream",
     "text": []
    },
    {
     "name": "stdout",
     "output_type": "stream",
     "text": [
      "Terminating because the loss converged\n"
     ]
    },
    {
     "name": "stderr",
     "output_type": "stream",
     "text": [
      " 55%|█████▌    | 6650/12000 [03:23<02:43, 32.71it/s]\n"
     ]
    }
   ],
   "source": [
    "\n",
    "losses = lr_model2.fit(\n",
    "    data_factory_factory(shuffle=True, repeat=True),\n",
    "    dataset_size=N,\n",
    "    batches_per_step=9,\n",
    "    check_every=int(N/batch_size)*50,\n",
    "    batch_size=batch_size,\n",
    "    num_steps=12000,\n",
    "    max_decay_steps=10,\n",
    "    max_plateau_epochs=100,\n",
    "    sample_size=36,\n",
    "    learning_rate=0.0005,\n",
    "    lr_decay_factor=0.9\n",
    "    )\n",
    "\n"
   ]
  },
  {
   "cell_type": "code",
   "execution_count": 33,
   "metadata": {},
   "outputs": [
    {
     "data": {
      "text/plain": [
       "{'w_1': TensorShape([5, 3, 1]),\n",
       " 'w_0': TensorShape([5, 4, 3]),\n",
       " 'b_1': TensorShape([5, 1]),\n",
       " 'b_0': TensorShape([5, 3])}"
      ]
     },
     "execution_count": 33,
     "metadata": {},
     "output_type": "execute_result"
    }
   ],
   "source": [
    "p_ = lr_model2.sample(5)\n",
    "{k: p.shape for k, p in p_.items()}"
   ]
  },
  {
   "cell_type": "code",
   "execution_count": 34,
   "metadata": {},
   "outputs": [
    {
     "name": "stderr",
     "output_type": "stream",
     "text": [
      "100%|██████████| 1/1 [00:12<00:00, 12.60s/it]"
     ]
    },
    {
     "name": "stdout",
     "output_type": "stream",
     "text": [
      "{1000: {1: {'I0': [0, 1, 2, 3, 4, 5, 6, 7, 8, 9, 10, 11, 12, 13, 14, 15, 16, 17, 18, 19, 20, 21, 22, 23, 24, 25, 26, 27, 28, 29, 30, 31, 32, 33, 34, 35, 36, 37, 38, 39, 40, 41, 42, 43, 44, 45, 46, 47, 48, 49, 50, 51, 52, 53, 54, 55, 56, 57, 58, 59, 60, 61, 62, 63, 64, 65, 66, 67, 68, 69, 70, 71, 72, 73, 74, 75, 76, 77, 78, 79, 80, 81, 82, 83, 84, 85, 86, 87, 88, 89, 90, 91, 92, 93, 94, 95, 96, 97, 98, 99, 100, 101, 102, 103, 104, 105, 106, 107, 108, 109, 110, 111, 112, 113, 114, 115, 116, 117, 118, 119, 120, 121, 122, 123, 124, 125, 126, 127, 128, 129, 130, 131, 132, 133, 134, 135, 136, 137, 138, 139, 140, 141, 142, 143, 144, 145, 146, 147, 148, 149, 150, 151, 152, 153, 154, 155, 156, 157, 158, 159, 160, 161, 162, 163, 164, 165, 166, 167, 168, 169, 170, 171, 172, 173, 174, 175, 176, 177, 178, 179, 180, 181, 182, 183, 184, 185, 186, 187, 188, 189, 190, 191, 192, 193, 194, 195, 196, 197, 198, 199, 200, 201, 202, 203, 204, 205, 206, 207, 208, 209, 210, 211, 212, 213, 214, 215, 216, 217, 218, 219, 220, 221, 222, 223, 224, 225, 226, 227, 228, 229, 230, 231, 232, 233, 234, 235, 236, 237, 238, 239, 240, 241, 242, 243, 244, 245, 246, 247, 248, 249, 250, 251, 252, 253, 254, 255, 256, 257, 258, 259, 260, 261], 'I': [], 'KL': [], 'Var': [], 'MM1': [], 'MM2': []}, 0.25: {'I0': [0, 1, 2, 3, 4, 5, 6, 7, 8, 9, 10, 11, 12, 13, 14, 15, 16, 17, 18, 19, 20, 21, 22, 23, 24, 25, 26, 27, 28, 29, 30, 31, 32, 33, 34, 35, 36, 37, 38, 39, 40, 41, 42, 43, 44, 45, 46, 47, 48, 49, 50, 51, 52, 53, 54, 55, 56, 57, 58, 59, 60, 61, 62, 63, 64, 65, 66, 67, 68, 69, 70, 71, 72, 73, 74, 75, 76, 77, 78, 79, 80, 81, 82, 83, 84, 85, 86, 87, 88, 89, 90, 91, 92, 93, 94, 95, 96, 97, 98, 99, 100, 101, 102, 103, 104, 105, 106, 107, 108, 109, 110, 111, 112, 113, 114, 115, 116, 117, 118, 119, 120, 121, 122, 123, 124, 125, 126, 127, 128, 129, 130, 131, 132, 133, 134, 135, 136, 137, 138, 139, 140, 141, 142, 143, 144, 145, 146, 147, 148, 149, 150, 151, 152, 153, 154, 155, 156, 157, 158, 159, 160, 161, 162, 163, 164, 165, 166, 167, 168, 169, 170, 171, 172, 173, 174, 175, 176, 177, 178, 179, 180, 181, 182, 183, 184, 185, 186, 187, 188, 189, 190, 191, 192, 193, 194, 195, 196, 197, 198, 199, 200, 201, 202, 203, 204, 205, 206, 207, 208, 209, 210, 211, 212, 213, 214, 215, 216, 217, 218, 219, 220, 221, 222, 223, 224, 225, 226, 227, 228, 229, 230, 231, 232, 233, 234, 235, 236, 237, 238, 239, 240, 241, 242, 243, 244, 245, 246, 247, 248, 249, 250, 251, 252, 253, 254, 255, 256, 257, 258, 259, 260, 261], 'I': [], 'KL': [], 'Var': [], 'MM1': [], 'MM2': []}, 0.0625: {'I0': [0, 1, 2, 3, 4, 5, 6, 7, 8, 9, 10, 11, 12, 13, 14, 15, 16, 17, 18, 19, 20, 21, 22, 23, 24, 25, 26, 27, 28, 29, 30, 31, 32, 33, 34, 35, 36, 37, 38, 39, 40, 41, 42, 43, 44, 45, 46, 47, 48, 49, 50, 51, 52, 53, 54, 55, 56, 57, 58, 59, 60, 61, 62, 63, 64, 65, 66, 67, 68, 69, 70, 71, 72, 73, 74, 75, 76, 77, 78, 79, 80, 81, 82, 83, 84, 85, 86, 87, 88, 89, 90, 91, 92, 93, 94, 95, 96, 97, 98, 99, 100, 101, 102, 103, 104, 105, 106, 107, 108, 109, 110, 111, 112, 113, 114, 115, 116, 117, 118, 119, 120, 121, 122, 123, 124, 125, 126, 127, 128, 129, 130, 131, 132, 133, 134, 135, 136, 137, 138, 139, 140, 141, 142, 143, 144, 145, 146, 147, 148, 149, 150, 151, 152, 153, 154, 155, 156, 157, 158, 159, 160, 161, 162, 163, 164, 165, 166, 167, 168, 169, 170, 171, 172, 173, 174, 175, 176, 177, 178, 179, 180, 181, 182, 183, 184, 185, 186, 187, 188, 189, 190, 191, 192, 193, 194, 195, 196, 197, 198, 199, 200, 201, 202, 203, 204, 205, 206, 207, 208, 209, 210, 211, 212, 213, 214, 215, 216, 217, 218, 219, 220, 221, 222, 223, 224, 225, 226, 227, 228, 229, 230, 231, 232, 233, 234, 235, 236, 237, 238, 239, 240, 241, 242, 243, 244, 245, 246, 247, 248, 249, 250, 251, 252, 253, 254, 255, 256, 257, 258, 259, 260, 261], 'I': [], 'KL': [], 'Var': [], 'MM1': [], 'MM2': []}, 0.015625: {'I0': [0, 1, 2, 3, 4, 5, 6, 7, 8, 9, 10, 11, 12, 13, 14, 15, 16, 17, 18, 19, 20, 21, 22, 23, 24, 25, 26, 27, 28, 29, 30, 31, 32, 33, 34, 35, 36, 37, 38, 39, 40, 41, 42, 43, 44, 45, 46, 47, 48, 49, 50, 51, 52, 53, 54, 55, 56, 57, 58, 59, 60, 61, 62, 63, 64, 65, 66, 67, 68, 69, 70, 71, 72, 73, 74, 75, 76, 77, 78, 79, 80, 81, 82, 83, 84, 85, 86, 87, 88, 89, 90, 91, 92, 93, 94, 95, 96, 97, 98, 99, 100, 101, 102, 103, 104, 105, 106, 107, 108, 109, 110, 111, 112, 113, 114, 115, 116, 117, 118, 119, 120, 121, 122, 123, 124, 125, 126, 127, 128, 129, 130, 131, 132, 133, 134, 135, 136, 137, 138, 139, 140, 141, 142, 143, 144, 145, 146, 147, 148, 149, 150, 151, 152, 153, 154, 155, 156, 157, 158, 159, 160, 161, 162, 163, 164, 165, 166, 167, 168, 169, 170, 171, 172, 173, 174, 175, 176, 177, 178, 179, 180, 181, 182, 183, 184, 185, 186, 187, 188, 189, 190, 191, 192, 193, 194, 195, 196, 197, 198, 199, 200, 201, 202, 203, 204, 205, 206, 207, 208, 209, 210, 211, 212, 213, 214, 215, 216, 217, 218, 219, 220, 221, 222, 223, 224, 225, 226, 227, 228, 229, 230, 231, 232, 233, 234, 235, 236, 237, 238, 239, 240, 241, 242, 243, 244, 245, 246, 247, 248, 249, 250, 251, 252, 253, 254, 255, 256, 257, 258, 259, 260, 261], 'I': [], 'KL': [], 'Var': [], 'MM1': [], 'MM2': []}, 0.00390625: {'I0': [0, 1, 2, 3, 4, 5, 6, 7, 8, 9, 10, 11, 12, 13, 14, 15, 16, 17, 18, 19, 20, 21, 22, 23, 24, 25, 26, 27, 28, 29, 30, 31, 32, 33, 34, 35, 36, 37, 38, 39, 40, 41, 42, 43, 44, 45, 46, 47, 48, 49, 50, 51, 52, 53, 54, 55, 56, 57, 58, 59, 60, 61, 62, 63, 64, 65, 66, 67, 68, 69, 70, 71, 72, 73, 74, 75, 76, 77, 78, 79, 80, 81, 82, 83, 84, 85, 86, 87, 88, 89, 90, 91, 92, 93, 94, 95, 96, 97, 98, 99, 100, 101, 102, 103, 104, 105, 106, 107, 108, 109, 110, 111, 112, 113, 114, 115, 116, 117, 118, 119, 120, 121, 122, 123, 124, 125, 126, 127, 128, 129, 130, 131, 132, 133, 134, 135, 136, 137, 138, 139, 140, 141, 142, 143, 144, 145, 146, 147, 148, 149, 150, 151, 152, 153, 154, 155, 156, 157, 158, 159, 160, 161, 162, 163, 164, 165, 166, 167, 168, 169, 170, 171, 172, 173, 174, 175, 176, 177, 178, 179, 180, 181, 182, 183, 184, 185, 186, 187, 188, 189, 190, 191, 192, 193, 194, 195, 196, 197, 198, 199, 200, 201, 202, 203, 204, 205, 206, 207, 208, 209, 210, 211, 212, 213, 214, 215, 216, 217, 218, 219, 220, 221, 222, 223, 224, 225, 226, 227, 228, 229, 230, 231, 232, 233, 234, 235, 236, 237, 238, 239, 240, 241, 242, 243, 244, 245, 246, 247, 248, 249, 250, 251, 252, 253, 254, 255, 256, 257, 258, 259, 260, 261], 'I': [], 'KL': [], 'Var': [], 'MM1': [], 'MM2': []}, 0.0009765625: {'I0': [0, 1, 2, 3, 4, 5, 6, 7, 8, 9, 10, 11, 12, 13, 14, 15, 16, 17, 18, 19, 20, 21, 22, 23, 24, 25, 26, 27, 28, 29, 30, 31, 32, 33, 34, 35, 36, 37, 38, 39, 40, 41, 42, 43, 44, 45, 46, 47, 48, 49, 50, 51, 52, 53, 54, 55, 56, 57, 58, 59, 60, 61, 62, 63, 64, 65, 66, 67, 68, 69, 70, 71, 72, 73, 74, 75, 76, 77, 78, 79, 80, 81, 82, 83, 84, 85, 86, 87, 88, 89, 90, 91, 92, 93, 94, 95, 96, 97, 98, 99, 100, 101, 102, 103, 104, 105, 106, 107, 108, 109, 110, 111, 112, 113, 114, 115, 116, 117, 118, 119, 120, 121, 122, 123, 124, 125, 126, 127, 128, 129, 130, 131, 132, 133, 134, 135, 136, 137, 138, 139, 140, 141, 142, 143, 144, 145, 146, 147, 148, 149, 150, 151, 152, 153, 154, 155, 156, 157, 158, 159, 160, 161, 162, 163, 164, 165, 166, 167, 168, 169, 170, 171, 172, 173, 174, 175, 176, 177, 178, 179, 180, 181, 182, 183, 184, 185, 186, 187, 188, 189, 190, 191, 192, 193, 194, 195, 196, 197, 198, 199, 200, 201, 202, 203, 204, 205, 206, 207, 208, 209, 210, 211, 212, 213, 214, 215, 216, 217, 218, 219, 220, 221, 222, 223, 224, 225, 226, 227, 228, 229, 230, 231, 232, 233, 234, 235, 236, 237, 238, 239, 240, 241, 242, 243, 244, 245, 246, 247, 248, 249, 250, 251, 252, 253, 254, 255, 256, 257, 258, 259, 260, 261], 'I': [], 'KL': [], 'Var': [], 'MM1': [], 'MM2': []}, 0.000244140625: {'I0': [0, 1, 2, 3, 4, 5, 6, 7, 8, 9, 10, 11, 12, 13, 14, 15, 16, 17, 18, 19, 20, 21, 22, 23, 24, 25, 26, 27, 28, 29, 30, 31, 32, 33, 34, 35, 36, 37, 38, 39, 40, 41, 42, 43, 44, 45, 46, 47, 48, 49, 50, 51, 52, 53, 54, 55, 56, 57, 58, 59, 60, 61, 62, 63, 64, 65, 66, 67, 68, 69, 70, 71, 72, 73, 74, 75, 76, 77, 78, 79, 80, 81, 82, 83, 84, 85, 86, 87, 88, 89, 90, 91, 92, 93, 94, 95, 96, 97, 98, 99, 100, 101, 102, 103, 104, 105, 106, 107, 108, 109, 110, 111, 112, 113, 114, 115, 116, 117, 118, 119, 120, 121, 122, 123, 124, 125, 126, 127, 128, 129, 130, 131, 132, 133, 134, 135, 136, 137, 138, 139, 140, 141, 142, 143, 144, 145, 146, 147, 148, 149, 150, 151, 152, 153, 154, 155, 156, 157, 158, 159, 160, 161, 162, 163, 164, 165, 166, 167, 168, 169, 170, 171, 172, 173, 174, 175, 176, 177, 178, 179, 180, 181, 182, 183, 184, 185, 186, 187, 188, 189, 190, 191, 192, 193, 194, 195, 196, 197, 198, 199, 200, 201, 202, 203, 204, 205, 206, 207, 208, 209, 210, 211, 212, 213, 214, 215, 216, 217, 218, 219, 220, 221, 222, 223, 224, 225, 226, 227, 228, 229, 230, 231, 232, 233, 234, 235, 236, 237, 238, 239, 240, 241, 242, 243, 244, 245, 246, 247, 248, 249, 250, 251, 252, 253, 254, 255, 256, 257, 258, 259, 260, 261], 'I': [], 'KL': [], 'Var': [], 'MM1': [], 'MM2': []}, 6.103515625e-05: {'I0': [0, 1, 2, 3, 4, 5, 6, 7, 8, 9, 10, 11, 12, 13, 14, 15, 16, 17, 18, 19, 20, 21, 22, 23, 24, 25, 26, 27, 28, 29, 30, 31, 32, 33, 34, 35, 36, 37, 38, 39, 40, 41, 42, 43, 44, 45, 46, 47, 48, 49, 50, 51, 52, 53, 54, 55, 56, 57, 58, 59, 60, 61, 62, 63, 64, 65, 66, 67, 68, 69, 70, 71, 72, 73, 74, 75, 76, 77, 78, 79, 80, 81, 82, 83, 84, 85, 86, 87, 88, 89, 90, 91, 92, 93, 94, 95, 96, 97, 98, 99, 100, 101, 102, 103, 104, 105, 106, 107, 108, 109, 110, 111, 112, 113, 114, 115, 116, 117, 118, 119, 120, 121, 122, 123, 124, 125, 126, 127, 128, 129, 130, 131, 132, 133, 134, 135, 136, 137, 138, 139, 140, 141, 142, 143, 144, 145, 146, 147, 148, 149, 150, 151, 152, 153, 154, 155, 156, 157, 158, 159, 160, 161, 162, 163, 164, 165, 166, 167, 168, 169, 170, 171, 172, 173, 174, 175, 176, 177, 178, 179, 180, 181, 182, 183, 184, 185, 186, 187, 188, 189, 190, 191, 192, 193, 194, 195, 196, 197, 198, 199, 200, 201, 202, 203, 204, 205, 206, 207, 208, 209, 210, 211, 212, 213, 214, 215, 216, 217, 218, 219, 220, 221, 222, 223, 224, 225, 226, 227, 228, 229, 230, 231, 232, 233, 234, 235, 236, 237, 238, 239, 240, 241, 242, 243, 244, 245, 246, 247, 248, 249, 250, 251, 252, 253, 254, 255, 256, 257, 258, 259, 260, 261], 'I': [], 'KL': [], 'Var': [], 'MM1': [], 'MM2': []}, 1.52587890625e-05: {'I0': [0, 1, 2, 3, 4, 5, 6, 7, 8, 9, 10, 11, 12, 13, 14, 15, 16, 17, 18, 19, 20, 21, 22, 23, 24, 25, 26, 27, 28, 29, 30, 31, 32, 33, 34, 35, 36, 37, 38, 39, 40, 41, 42, 43, 44, 45, 46, 47, 48, 49, 50, 51, 52, 53, 54, 55, 56, 57, 58, 59, 60, 61, 62, 63, 64, 65, 66, 67, 68, 69, 70, 71, 72, 73, 74, 75, 76, 77, 78, 79, 80, 81, 82, 83, 84, 85, 86, 87, 88, 89, 90, 91, 92, 93, 94, 95, 96, 97, 98, 99, 100, 101, 102, 103, 104, 105, 106, 107, 108, 109, 110, 111, 112, 113, 114, 115, 116, 117, 118, 119, 120, 121, 122, 123, 124, 125, 126, 127, 128, 129, 130, 131, 132, 133, 134, 135, 136, 137, 138, 139, 140, 141, 142, 143, 144, 145, 146, 147, 148, 149, 150, 151, 152, 153, 154, 155, 156, 157, 158, 159, 160, 161, 162, 163, 164, 165, 166, 167, 168, 169, 170, 171, 172, 173, 174, 175, 176, 177, 178, 179, 180, 181, 182, 183, 184, 185, 186, 187, 188, 189, 190, 191, 192, 193, 194, 195, 196, 197, 198, 199, 200, 201, 202, 203, 204, 205, 206, 207, 208, 209, 210, 211, 212, 213, 214, 215, 216, 217, 218, 219, 220, 221, 222, 223, 224, 225, 226, 227, 228, 229, 230, 231, 232, 233, 234, 235, 236, 237, 238, 239, 240, 241, 242, 243, 244, 245, 246, 247, 248, 249, 250, 251, 252, 253, 254, 255, 256, 257, 258, 259, 260, 261], 'I': [], 'KL': [], 'Var': [], 'MM1': [], 'MM2': []}}}\n"
     ]
    },
    {
     "name": "stderr",
     "output_type": "stream",
     "text": [
      "\n"
     ]
    }
   ],
   "source": [
    "base = 4\n",
    "h_vals = [4**-r for r in range(9)]\n",
    "\n",
    "loo_output = []\n",
    "\n",
    "for _ in tqdm(range(1)):\n",
    "    loo_khat_advi = {}\n",
    "    reduced_ndx_advi = {}\n",
    "    n_sample = [1000]\n",
    "    records_advi = []\n",
    "    for n_samples in n_sample:\n",
    "        reduced_ndx_advi[n_samples] = {}\n",
    "        # print(f\"Samples: {n_samples}\")\n",
    "        loo_khat_advi[n_samples] = {}\n",
    "        params_ = lr_model2.sample(n_samples)\n",
    "\n",
    "        for h in h_vals:\n",
    "            loo_khat_advi[n_samples][h] = {}\n",
    "            loo = adaptive_is_loo(lr_model2, batch, params_, h, variational=False)\n",
    "            reduced_ndx_advi[n_samples][h] = {}\n",
    "            # print(f\"rho={h}\\n\")\n",
    "            for T in [\"I0\", \"I\", \"KL\", \"Var\", \"MM1\", \"MM2\"]:\n",
    "                loo_khat_advi[n_samples][h][T] = np.array(loo[T][\"khat\"])\n",
    "\n",
    "                records_advi += [\n",
    "                    {\n",
    "                        \"h\": h,\n",
    "                        \"T\": T,\n",
    "                        \"S\": n_samples,\n",
    "                        \"khat\": loo[T][\"khat\"],\n",
    "                        \"p_psis\": loo[T][\"p_psis\"].numpy(),\n",
    "                        \"n>0.7\": (np.where((loo[T][\"khat\"] > 0.7))[0]).shape,\n",
    "                        \"ndx\": loo[T][\"ndx\"]\n",
    "                    }\n",
    "                ]\n",
    "                reduced_ndx_advi[n_samples][h][T] = [loo[T][\"ndx\"][k] for k in np.where((loo[T][\"khat\"] <= 0.7))[0]]\n",
    "                # print(reduced_ndx[n_samples][h])\n",
    "\n",
    "\n",
    "print(reduced_ndx_advi)"
   ]
  },
  {
   "cell_type": "code",
   "execution_count": 35,
   "metadata": {},
   "outputs": [],
   "source": [
    "df_advi = pd.DataFrame(records_advi)\n",
    "df_advi['rho_rank'] = np.emath.logn(base, df_advi['h']) \n",
    "\n",
    "I0_advi = df_advi.loc[(df_advi['S']==n_sample[-1]) & (df_advi['T']==\"I0\")]\n",
    "\n",
    "kl_advi = df_advi.loc[(df_advi['S']==n_sample[-1]) & (df_advi['T']==\"KL\")]\n",
    "var_advi = df_advi.loc[(df_advi['S']==n_sample[-1]) & (df_advi['T']==\"Var\")]\n",
    "ll_advi = df_advi.loc[(df_advi['S']==n_sample[-1]) & (df_advi['T']==\"LL\")]\n",
    "mm1_advi = df_advi.loc[(df_advi['S']==n_sample[-1]) & (df_advi['T']==\"MM1\")]\n",
    "I_advi = df_advi.loc[(df_advi['S']==n_sample[-1]) & (df_advi['T']==\"I\")]\n",
    "\n",
    "kl_advi = kl_advi.explode(['khat', 'ndx'])\n",
    "var_advi = var_advi.explode(['khat', 'ndx'])\n",
    "ll_advi = ll_advi.explode(['khat', 'ndx'])\n",
    "I_advi = I_advi.explode(['khat', 'ndx'])\n",
    "mm1_advi = mm1_advi.explode(['khat', 'ndx'])\n",
    "\n",
    "original_advi = I_advi[['khat', 'ndx']].drop_duplicates()\n"
   ]
  },
  {
   "cell_type": "code",
   "execution_count": 37,
   "metadata": {},
   "outputs": [],
   "source": [
    "df_advi_ = df_advi.explode(['khat', \"p_psis\", 'ndx'])[['ndx', 'p_psis', 'khat', 'T']]\n",
    "#df_ = df_[df_['p_psis']!=1]\n",
    "#df_ = df_[df_['p_psis']>1e-5]\n",
    "df_advi_ = df_advi_[df_advi_['T']!=\"MM2\"]\n",
    "\n",
    "df_advi_ = df_advi_.groupby(['ndx'])[['khat', 'p_psis']].min()\n",
    "\n",
    "pd.set_option('display.max_rows', 500)\n",
    "\n",
    "df_advi_ = df_advi_.reset_index()\n",
    "df_advi_['y'] = [y_.tolist()[i] for i in df_advi_['ndx'].values]"
   ]
  },
  {
   "cell_type": "code",
   "execution_count": 38,
   "metadata": {},
   "outputs": [],
   "source": [
    "fpr_advi, tpr_advi, thresholds_advi = metrics.roc_curve(df_advi_['y'], df_advi_.p_psis, pos_label=1)\n",
    "precision_advi, recall_advi, thresholds_pr_advi = metrics.precision_recall_curve(df_advi_['y'], df_advi_.p_psis)"
   ]
  },
  {
   "cell_type": "code",
   "execution_count": 39,
   "metadata": {},
   "outputs": [
    {
     "data": {
      "text/plain": [
       "(0.0, 1.0)"
      ]
     },
     "execution_count": 39,
     "metadata": {},
     "output_type": "execute_result"
    },
    {
     "data": {
      "image/png": "[encoded data removed]",
      "text/plain": [
       "<Figure size 900x200 with 2 Axes>"
      ]
     },
     "metadata": {},
     "output_type": "display_data"
    }
   ],
   "source": [
    "fig, ax = plt.subplots(1, 2, figsize=(9, 2))\n",
    "ax[0].plot(fpr, tpr, linewidth=3, color=\"blue\")\n",
    "ax[0].text(0.5, 0.25, f\"MCMC-AUROC: {metrics.auc(fpr, tpr):.3f}\", color=\"blue\")\n",
    "\n",
    "ax[0].plot(fpr_advi, tpr_advi, color=\"red\")\n",
    "ax[0].text(0.5, 0.1, f\"ADVI-AUROC: {metrics.auc(fpr_advi, tpr_advi):.3f}\", color=\"red\")\n",
    "\n",
    "ax[0].set_xlim((0, 1))\n",
    "ax[0].set_ylim((0, 1))\n",
    "ax[0].set_title(\"ROC\")\n",
    "\n",
    "ax[1].plot(recall, precision, linewidth=3, color=\"blue\")\n",
    "ax[1].plot(recall_advi, precision_advi, color=\"red\")\n",
    "ax[1].text(0.5, 0.8, f\"MCMC-AUPRC: {metrics.auc(recall, precision):.3f}\", color=\"blue\")\n",
    "ax[1].text(0.5, 0.65, f\"ADVI-AUPRC: {metrics.auc(recall_advi, precision_advi):.3f}\", color=\"red\")\n",
    "ax[1].set_title(\"Precision-Recall\")\n",
    "ax[1].set_xlim((0, 1))\n",
    "ax[1].set_ylim((0, 1))\n",
    "\n",
    "# _ = plt.savefig(\"roccurve_relu.pdf\", bbox_inches='tight')"
   ]
  },
  {
   "cell_type": "code",
   "execution_count": 41,
   "metadata": {},
   "outputs": [],
   "source": [
    "def powerset(iterable):\n",
    "    \"powerset([1,2,3]) --> () (1,) (2,) (3,) (1,2) (1,3) (2,3) (1,2,3)\"\n",
    "    s = list(iterable)  # allows duplicate elements\n",
    "    return chain.from_iterable(combinations(s, r) for r in range(len(s)+1))"
   ]
  },
  {
   "cell_type": "code",
   "execution_count": 42,
   "metadata": {},
   "outputs": [
    {
     "name": "stderr",
     "output_type": "stream",
     "text": [
      "100%|██████████| 10/10 [02:21<00:00, 14.11s/it]\n"
     ]
    }
   ],
   "source": [
    "base = 4\n",
    "h_vals = [base**-r for r in range(-2, 8)]\n",
    "\n",
    "loo_output = []\n",
    "success = []\n",
    "\n",
    "for _ in tqdm(range(10)):\n",
    "    loo_khat = {}\n",
    "    reduced_ndx = {}\n",
    "    high_khat_ndx = {}\n",
    "    n_sample = [1000]\n",
    "    records = []\n",
    "    for n_samples in n_sample:\n",
    "        sample_ndx = np.random.choice(\n",
    "            range(params[\"b_0\"].shape[0]), size=n_samples, replace=False\n",
    "        )\n",
    "        reduced_ndx[n_samples] = {}\n",
    "        high_khat_ndx[n_samples] = {}\n",
    "        # print(f\"Samples: {n_samples}\")\n",
    "        loo_khat[n_samples] = {}\n",
    "\n",
    "        params_ = {k: v.numpy()[sample_ndx] for k, v in params.items()}\n",
    "\n",
    "        for h in h_vals:\n",
    "            loo_khat[n_samples][h] = {}\n",
    "            loo = adaptive_is_loo(nn_model, batch, params_, h, variational=False)\n",
    "            reduced_ndx[n_samples][h] = {}\n",
    "            # print(f\"rho={h}\\n\")\n",
    "            for T in [\"I0\", \"I\",  \"KL\", \"Var\", \"MM1\", \"MM2\"]:\n",
    "                loo_khat[n_samples][h][T] = np.array(loo[T][\"khat\"])\n",
    "\n",
    "                records += [\n",
    "                    {\n",
    "                        \"h\": h,\n",
    "                        \"T\": T,\n",
    "                        \"S\": n_samples,\n",
    "                        \"khat\": loo[T][\"khat\"],\n",
    "                        \"p_psis\": loo[T][\"p_psis\"].numpy(),\n",
    "                        \"n>0.7\": (np.where((loo[T][\"khat\"] > 0.7))[0]).shape,\n",
    "                        \"ndx\": loo[T][\"ndx\"],\n",
    "                    }\n",
    "                ]\n",
    "                reduced_ndx[n_samples][h][T] = [\n",
    "                    loo[T][\"ndx\"][k] for k in np.where((loo[T][\"khat\"] <= 0.7))[0]\n",
    "                ]\n",
    "                # print(reduced_ndx[n_samples][h])\n",
    "\n",
    "    df = pd.DataFrame(records)\n",
    "    df[\"rho_rank\"] = np.emath.logn(base, df[\"h\"])\n",
    "    __df__ = df.explode([\"khat\", \"ndx\"])[[\"ndx\", \"khat\", \"T\"]]\n",
    "\n",
    "    counts = {}\n",
    "    counts[\"n\"] = len(__df__[__df__[\"T\"] != \"I0\"].ndx.unique())\n",
    "    for T in transforms:\n",
    "        ___df__ = __df__.loc[(__df__[\"T\"] == T) & (__df__[\"khat\"] < 0.7)]\n",
    "        counts[T] = ___df__.groupby(\"ndx\").min().shape[0]\n",
    "    ___df__ = __df__.loc[\n",
    "        ((__df__[\"T\"] == \"KL\") | (__df__[\"T\"] == \"Var\")) & (__df__[\"khat\"] < 0.7)\n",
    "    ]\n",
    "    counts[(\"KL\", \"Var\")] = ___df__.groupby(\"ndx\").min().shape[0]\n",
    "    ___df__ = __df__.loc[\n",
    "        ((__df__[\"T\"] == \"MM1\") | (__df__[\"T\"] == \"MM2\") | (__df__[\"T\"] == \"LL\"))\n",
    "        & (__df__[\"khat\"] < 0.7)\n",
    "    ]\n",
    "    counts[(\"MM1\", \"MM2\")] = ___df__.groupby(\"ndx\").min().shape[0]\n",
    "    ___df__ = __df__.loc[\n",
    "        ((__df__[\"T\"] == \"MM1\") | (__df__[\"T\"] == \"MM2\") |  (__df__[\"T\"] == \"KL\") | (__df__[\"T\"] == \"Var\"))\n",
    "        & (__df__[\"khat\"] < 0.7)\n",
    "    ]\n",
    "    counts[(\"KL\", \"Var\", \"MM1\", \"MM2\")] = ___df__.groupby(\"ndx\").min().shape[0]\n",
    "    success += [counts]"
   ]
  },
  {
   "cell_type": "code",
   "execution_count": 43,
   "metadata": {},
   "outputs": [
    {
     "name": "stderr",
     "output_type": "stream",
     "text": [
      "/tmp/ipykernel_757445/438181115.py:3: RuntimeWarning: '<' not supported between instances of 'int' and 'tuple', sort order is undefined for incomparable objects.\n",
      "  success_.iloc[:, 1:] = -success_.iloc[:, 1:].sub(success_.iloc[:, 0], axis=1)\n",
      "/tmp/ipykernel_757445/438181115.py:3: FutureWarning: Setting an item of incompatible dtype is deprecated and will raise in a future error of pandas. Value '0   NaN\n",
      "1   NaN\n",
      "2   NaN\n",
      "3   NaN\n",
      "4   NaN\n",
      "5   NaN\n",
      "6   NaN\n",
      "7   NaN\n",
      "8   NaN\n",
      "9   NaN\n",
      "Name: KL, dtype: float64' has dtype incompatible with int64, please explicitly cast to a compatible dtype first.\n",
      "  success_.iloc[:, 1:] = -success_.iloc[:, 1:].sub(success_.iloc[:, 0], axis=1)\n",
      "/tmp/ipykernel_757445/438181115.py:3: FutureWarning: Setting an item of incompatible dtype is deprecated and will raise in a future error of pandas. Value '0   NaN\n",
      "1   NaN\n",
      "2   NaN\n",
      "3   NaN\n",
      "4   NaN\n",
      "5   NaN\n",
      "6   NaN\n",
      "7   NaN\n",
      "8   NaN\n",
      "9   NaN\n",
      "Name: Var, dtype: float64' has dtype incompatible with int64, please explicitly cast to a compatible dtype first.\n",
      "  success_.iloc[:, 1:] = -success_.iloc[:, 1:].sub(success_.iloc[:, 0], axis=1)\n",
      "/tmp/ipykernel_757445/438181115.py:3: FutureWarning: Setting an item of incompatible dtype is deprecated and will raise in a future error of pandas. Value '0   NaN\n",
      "1   NaN\n",
      "2   NaN\n",
      "3   NaN\n",
      "4   NaN\n",
      "5   NaN\n",
      "6   NaN\n",
      "7   NaN\n",
      "8   NaN\n",
      "9   NaN\n",
      "Name: LL, dtype: float64' has dtype incompatible with int64, please explicitly cast to a compatible dtype first.\n",
      "  success_.iloc[:, 1:] = -success_.iloc[:, 1:].sub(success_.iloc[:, 0], axis=1)\n",
      "/tmp/ipykernel_757445/438181115.py:3: FutureWarning: Setting an item of incompatible dtype is deprecated and will raise in a future error of pandas. Value '0   NaN\n",
      "1   NaN\n",
      "2   NaN\n",
      "3   NaN\n",
      "4   NaN\n",
      "5   NaN\n",
      "6   NaN\n",
      "7   NaN\n",
      "8   NaN\n",
      "9   NaN\n",
      "Name: MM1, dtype: float64' has dtype incompatible with int64, please explicitly cast to a compatible dtype first.\n",
      "  success_.iloc[:, 1:] = -success_.iloc[:, 1:].sub(success_.iloc[:, 0], axis=1)\n",
      "/tmp/ipykernel_757445/438181115.py:3: FutureWarning: Setting an item of incompatible dtype is deprecated and will raise in a future error of pandas. Value '0   NaN\n",
      "1   NaN\n",
      "2   NaN\n",
      "3   NaN\n",
      "4   NaN\n",
      "5   NaN\n",
      "6   NaN\n",
      "7   NaN\n",
      "8   NaN\n",
      "9   NaN\n",
      "Name: MM2, dtype: float64' has dtype incompatible with int64, please explicitly cast to a compatible dtype first.\n",
      "  success_.iloc[:, 1:] = -success_.iloc[:, 1:].sub(success_.iloc[:, 0], axis=1)\n",
      "/tmp/ipykernel_757445/438181115.py:3: FutureWarning: Setting an item of incompatible dtype is deprecated and will raise in a future error of pandas. Value '0   NaN\n",
      "1   NaN\n",
      "2   NaN\n",
      "3   NaN\n",
      "4   NaN\n",
      "5   NaN\n",
      "6   NaN\n",
      "7   NaN\n",
      "8   NaN\n",
      "9   NaN\n",
      "Name: (KL, Var), dtype: float64' has dtype incompatible with int64, please explicitly cast to a compatible dtype first.\n",
      "  success_.iloc[:, 1:] = -success_.iloc[:, 1:].sub(success_.iloc[:, 0], axis=1)\n",
      "/tmp/ipykernel_757445/438181115.py:3: FutureWarning: Setting an item of incompatible dtype is deprecated and will raise in a future error of pandas. Value '0   NaN\n",
      "1   NaN\n",
      "2   NaN\n",
      "3   NaN\n",
      "4   NaN\n",
      "5   NaN\n",
      "6   NaN\n",
      "7   NaN\n",
      "8   NaN\n",
      "9   NaN\n",
      "Name: (MM1, MM2), dtype: float64' has dtype incompatible with int64, please explicitly cast to a compatible dtype first.\n",
      "  success_.iloc[:, 1:] = -success_.iloc[:, 1:].sub(success_.iloc[:, 0], axis=1)\n",
      "/tmp/ipykernel_757445/438181115.py:3: FutureWarning: Setting an item of incompatible dtype is deprecated and will raise in a future error of pandas. Value '0   NaN\n",
      "1   NaN\n",
      "2   NaN\n",
      "3   NaN\n",
      "4   NaN\n",
      "5   NaN\n",
      "6   NaN\n",
      "7   NaN\n",
      "8   NaN\n",
      "9   NaN\n",
      "Name: (KL, Var, MM1, MM2), dtype: float64' has dtype incompatible with int64, please explicitly cast to a compatible dtype first.\n",
      "  success_.iloc[:, 1:] = -success_.iloc[:, 1:].sub(success_.iloc[:, 0], axis=1)\n"
     ]
    }
   ],
   "source": [
    "success = pd.DataFrame(success)\n",
    "success_ = success.copy()\n",
    "success_.iloc[:, 1:] = -success_.iloc[:, 1:].sub(success_.iloc[:, 0], axis=1)"
   ]
  },
  {
   "cell_type": "code",
   "execution_count": 44,
   "metadata": {},
   "outputs": [
    {
     "data": {
      "text/html": [
       "<div>\n",
       "<style scoped>\n",
       "    .dataframe tbody tr th:only-of-type {\n",
       "        vertical-align: middle;\n",
       "    }\n",
       "\n",
       "    .dataframe tbody tr th {\n",
       "        vertical-align: top;\n",
       "    }\n",
       "\n",
       "    .dataframe thead th {\n",
       "        text-align: right;\n",
       "    }\n",
       "</style>\n",
       "<table border=\"1\" class=\"dataframe\">\n",
       "  <thead>\n",
       "    <tr style=\"text-align: right;\">\n",
       "      <th></th>\n",
       "      <th>n</th>\n",
       "      <th>KL</th>\n",
       "      <th>Var</th>\n",
       "      <th>LL</th>\n",
       "      <th>MM1</th>\n",
       "      <th>MM2</th>\n",
       "      <th>(KL, Var)</th>\n",
       "      <th>(MM1, MM2)</th>\n",
       "      <th>(KL, Var, MM1, MM2)</th>\n",
       "    </tr>\n",
       "  </thead>\n",
       "  <tbody>\n",
       "    <tr>\n",
       "      <th>mean</th>\n",
       "      <td>7.000000</td>\n",
       "      <td>0.0</td>\n",
       "      <td>0.600000</td>\n",
       "      <td>0.0</td>\n",
       "      <td>2.90000</td>\n",
       "      <td>4.10000</td>\n",
       "      <td>0.600000</td>\n",
       "      <td>4.300000</td>\n",
       "      <td>4.300000</td>\n",
       "    </tr>\n",
       "    <tr>\n",
       "      <th>std</th>\n",
       "      <td>2.108185</td>\n",
       "      <td>0.0</td>\n",
       "      <td>0.516398</td>\n",
       "      <td>0.0</td>\n",
       "      <td>1.72884</td>\n",
       "      <td>2.13177</td>\n",
       "      <td>0.516398</td>\n",
       "      <td>2.002776</td>\n",
       "      <td>2.002776</td>\n",
       "    </tr>\n",
       "  </tbody>\n",
       "</table>\n",
       "</div>"
      ],
      "text/plain": [
       "             n   KL       Var   LL      MM1      MM2  (KL, Var)  (MM1, MM2)  \\\n",
       "mean  7.000000  0.0  0.600000  0.0  2.90000  4.10000   0.600000    4.300000   \n",
       "std   2.108185  0.0  0.516398  0.0  1.72884  2.13177   0.516398    2.002776   \n",
       "\n",
       "      (KL, Var, MM1, MM2)  \n",
       "mean             4.300000  \n",
       "std              2.002776  "
      ]
     },
     "execution_count": 44,
     "metadata": {},
     "output_type": "execute_result"
    }
   ],
   "source": [
    "success.agg(['mean','std'])"
   ]
  },
  {
   "cell_type": "code",
   "execution_count": 45,
   "metadata": {},
   "outputs": [
    {
     "data": {
      "text/html": [
       "<div>\n",
       "<style scoped>\n",
       "    .dataframe tbody tr th:only-of-type {\n",
       "        vertical-align: middle;\n",
       "    }\n",
       "\n",
       "    .dataframe tbody tr th {\n",
       "        vertical-align: top;\n",
       "    }\n",
       "\n",
       "    .dataframe thead th {\n",
       "        text-align: right;\n",
       "    }\n",
       "</style>\n",
       "<table border=\"1\" class=\"dataframe\">\n",
       "  <thead>\n",
       "    <tr style=\"text-align: right;\">\n",
       "      <th></th>\n",
       "      <th>KL</th>\n",
       "      <th>Var</th>\n",
       "      <th>LL</th>\n",
       "      <th>MM1</th>\n",
       "      <th>MM2</th>\n",
       "      <th>(KL, Var)</th>\n",
       "      <th>(MM1, MM2)</th>\n",
       "      <th>(KL, Var, MM1, MM2)</th>\n",
       "    </tr>\n",
       "  </thead>\n",
       "  <tbody>\n",
       "    <tr>\n",
       "      <th>mean</th>\n",
       "      <td>7.000000</td>\n",
       "      <td>6.400000</td>\n",
       "      <td>7.000000</td>\n",
       "      <td>4.100000</td>\n",
       "      <td>2.900000</td>\n",
       "      <td>6.400000</td>\n",
       "      <td>2.700000</td>\n",
       "      <td>2.700000</td>\n",
       "    </tr>\n",
       "    <tr>\n",
       "      <th>std</th>\n",
       "      <td>2.108185</td>\n",
       "      <td>2.319004</td>\n",
       "      <td>2.108185</td>\n",
       "      <td>1.449138</td>\n",
       "      <td>0.875595</td>\n",
       "      <td>2.319004</td>\n",
       "      <td>0.948683</td>\n",
       "      <td>0.948683</td>\n",
       "    </tr>\n",
       "  </tbody>\n",
       "</table>\n",
       "</div>"
      ],
      "text/plain": [
       "            KL       Var        LL       MM1       MM2  (KL, Var)  (MM1, MM2)  \\\n",
       "mean  7.000000  6.400000  7.000000  4.100000  2.900000   6.400000    2.700000   \n",
       "std   2.108185  2.319004  2.108185  1.449138  0.875595   2.319004    0.948683   \n",
       "\n",
       "      (KL, Var, MM1, MM2)  \n",
       "mean             2.700000  \n",
       "std              0.948683  "
      ]
     },
     "execution_count": 45,
     "metadata": {},
     "output_type": "execute_result"
    }
   ],
   "source": [
    "(-success.iloc[:, 1:].sub(success.iloc[:, 0], axis=0)).agg(['mean','std'])"
   ]
  },
  {
   "cell_type": "code",
   "execution_count": 46,
   "metadata": {},
   "outputs": [],
   "source": [
    "_df = df.explode(['khat','ndx'])[['rho_rank', 'T', 'ndx', 'khat']]\n",
    "_df['rho_rank'] *= -1"
   ]
  },
  {
   "cell_type": "code",
   "execution_count": 47,
   "metadata": {},
   "outputs": [],
   "source": [
    "base_khat = _df[_df['T']==\"I\"][['ndx', 'khat']].drop_duplicates().to_dict(orient='records')\n",
    "base_khat = {r['ndx']: r['khat'] for r in base_khat}\n"
   ]
  },
  {
   "cell_type": "code",
   "execution_count": 48,
   "metadata": {},
   "outputs": [],
   "source": [
    "_df = _df[(_df[\"T\"]!=\"I\") & (_df[\"T\"]!=\"I0\")]\n",
    "_df[r'$\\log(\\hat{k}/\\hat{k}_0)$'] = _df.apply(lambda x: x.khat/base_khat[x.ndx], axis=1)\n",
    "_df[r'$-log_4(\\rho)$'] = _df['rho_rank']"
   ]
  },
  {
   "cell_type": "code",
   "execution_count": 49,
   "metadata": {},
   "outputs": [],
   "source": [
    "_df = _df[_df[r'$\\log(\\hat{k}/\\hat{k}_0)$']<4]"
   ]
  },
  {
   "cell_type": "code",
   "execution_count": 50,
   "metadata": {},
   "outputs": [
    {
     "data": {
      "image/png": "[encoded data removed]"
     },
     "metadata": {
      "image/png": {
       "height": 1600,
       "width": 1500
      }
     },
     "output_type": "display_data"
    },
    {
     "name": "stderr",
     "output_type": "stream",
     "text": [
      "/home/josh/workspace/readmission/env/lib/python3.10/site-packages/plotnine/ggplot.py:606: PlotnineWarning: Saving 15 x 16 in image.\n",
      "/home/josh/workspace/readmission/env/lib/python3.10/site-packages/plotnine/ggplot.py:607: PlotnineWarning: Filename: rho_rank_relu.pdf\n"
     ]
    }
   ],
   "source": [
    "from plotnine import ggplot, geom_line, geom_point, aes, stat_smooth, facet_wrap, theme, ylim\n",
    "from plotnine.data import mtcars\n",
    "\n",
    "\n",
    "plot = (\n",
    "    ggplot(_df, aes(r'$-log_4(\\rho)$', r'$\\log(\\hat{k}/\\hat{k}_0)$', color=\"T\"))\n",
    "    + geom_line()\n",
    "    + facet_wrap(\"ndx\", ncol=4)\n",
    "    + theme(figure_size=(15, 16), legend_position=(.5, .0), legend_direction='horizontal') + ylim((0, 2))\n",
    "    \n",
    ")\n",
    "plot.show()\n",
    "plot.save(\"rho_rank_relu.pdf\")"
   ]
  },
  {
   "cell_type": "code",
   "execution_count": null,
   "metadata": {},
   "outputs": [],
   "source": []
  },
  {
   "cell_type": "code",
   "execution_count": null,
   "metadata": {},
   "outputs": [],
   "source": []
  }
 ],
 "metadata": {
  "kernelspec": {
   "display_name": "env",
   "language": "python",
   "name": "python3"
  },
  "language_info": {
   "codemirror_mode": {
    "name": "ipython",
    "version": 3
   },
   "file_extension": ".py",
   "mimetype": "text/x-python",
   "name": "python",
   "nbconvert_exporter": "python",
   "pygments_lexer": "ipython3",
   "version": "3.10.12"
  }
 },
 "nbformat": 4,
 "nbformat_minor": 2
}
