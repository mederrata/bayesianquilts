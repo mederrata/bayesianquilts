{
 "cells": [
  {
   "cell_type": "code",
   "execution_count": 34,
   "metadata": {},
   "outputs": [],
   "source": [
    "\n",
    "\n",
    "%matplotlib inline\n",
    "from itertools import chain\n",
    "\n",
    "from cmdstanpy import CmdStanModel\n",
    "import numpy as np\n",
    "import pandas as pd\n",
    "from pathlib import Path\n",
    "import nest_asyncio\n",
    "nest_asyncio.apply()\n",
    "import importlib\n",
    "from matplotlib import pyplot as plt\n",
    "from typing import Any\n",
    "from pathlib import Path\n",
    "from tqdm import tqdm\n",
    "import nest_asyncio\n",
    "nest_asyncio.apply()\n",
    "from collections import defaultdict\n",
    "\n",
    "from sklearn import metrics\n"
   ]
  },
  {
   "cell_type": "code",
   "execution_count": 2,
   "metadata": {},
   "outputs": [
    {
     "name": "stderr",
     "output_type": "stream",
     "text": [
      "2024-12-03 15:48:39.715031: I external/local_xla/xla/tsl/cuda/cudart_stub.cc:32] Could not find cuda drivers on your machine, GPU will not be used.\n",
      "2024-12-03 15:48:39.717534: I external/local_xla/xla/tsl/cuda/cudart_stub.cc:32] Could not find cuda drivers on your machine, GPU will not be used.\n",
      "2024-12-03 15:48:39.724145: E external/local_xla/xla/stream_executor/cuda/cuda_fft.cc:477] Unable to register cuFFT factory: Attempting to register factory for plugin cuFFT when one has already been registered\n",
      "WARNING: All log messages before absl::InitializeLog() is called are written to STDERR\n",
      "E0000 00:00:1733240919.734904 1348661 cuda_dnn.cc:8310] Unable to register cuDNN factory: Attempting to register factory for plugin cuDNN when one has already been registered\n",
      "E0000 00:00:1733240919.738055 1348661 cuda_blas.cc:1418] Unable to register cuBLAS factory: Attempting to register factory for plugin cuBLAS when one has already been registered\n",
      "2024-12-03 15:48:39.750650: I tensorflow/core/platform/cpu_feature_guard.cc:210] This TensorFlow binary is optimized to use available CPU instructions in performance-critical operations.\n",
      "To enable the following instructions: AVX2 FMA, in other operations, rebuild TensorFlow with the appropriate compiler flags.\n",
      "2024-12-03 15:48:41.267423: E external/local_xla/xla/stream_executor/cuda/cuda_driver.cc:152] failed call to cuInit: INTERNAL: CUDA error: Failed call to cuInit: UNKNOWN ERROR (303)\n"
     ]
    }
   ],
   "source": [
    "\n",
    "from tensorflow_probability.substrates.jax import tf2jax as tf\n",
    "import tensorflow_probability as tfp\n",
    "import tensorflow_probability.python.bijectors as tfb\n",
    "\n",
    "from bayesianquilts.models.logistic_regression_reparam import LogisticRegression2\n",
    "from bayesianquilts.metrics.classification import classification_metrics\n",
    "from bayesianquilts.sampler import psis, nppsis"
   ]
  },
  {
   "cell_type": "code",
   "execution_count": 3,
   "metadata": {},
   "outputs": [],
   "source": [
    "with importlib.resources.path('bayesianquilts', 'data') as data_path:\n",
    "    roach_path = data_path / \"roachdata.csv\"\n",
    "    df = pd.read_csv(roach_path)"
   ]
  },
  {
   "cell_type": "code",
   "execution_count": 4,
   "metadata": {},
   "outputs": [
    {
     "name": "stdout",
     "output_type": "stream",
     "text": [
      "(262, 4)\n"
     ]
    }
   ],
   "source": [
    "\n",
    "\n",
    "y_ = (df['y']>0).astype(int)\n",
    "X_ = df.iloc[:, 2:]\n",
    "X_scaled = (X_ - X_.mean())/X_.std()\n",
    "X_scaled = X_scaled.fillna(0).to_numpy()\n",
    "y_ = y_.to_numpy()\n",
    "N = X_scaled.shape[0]\n",
    "d = X_scaled.shape[1]\n",
    "\n",
    "print((N, d))"
   ]
  },
  {
   "cell_type": "code",
   "execution_count": 5,
   "metadata": {},
   "outputs": [],
   "source": [
    "with importlib.resources.path('bayesianquilts', 'stanmodels') as data_path:\n",
    "    model_path = data_path / \"horseshoe_logistic.stan\"\n",
    "    sm = CmdStanModel(stan_file=model_path)"
   ]
  },
  {
   "cell_type": "code",
   "execution_count": 9,
   "metadata": {},
   "outputs": [],
   "source": [
    "guessnumrelevcov = 10 # 20.\n",
    "slab_scale = 2.5/100\n",
    "scale_icept = 5.0\n",
    "nu_global = 1\n",
    "nu_local = 1\n",
    "slab_df = 1\n",
    "scale_global = guessnumrelevcov / ((d - guessnumrelevcov) * np.sqrt(N))/10000\n",
    "\n",
    "control = {\"adapt_delta\": 0.9995, \"max_treedepth\": 15}\n",
    "\n",
    "roach_data = {\n",
    "    \"N\": N,\n",
    "    \"d\": d,\n",
    "    \"slab_df\": slab_df,\n",
    "    \"slab_scale\": slab_scale,\n",
    "    \"scale_icept\": scale_icept,\n",
    "    \"nu_global\": 1,\n",
    "    \"nu_local\": 1,\n",
    "    \"scale_global\": np.abs(scale_global),\n",
    "    \"y\": y_.astype(int)[:].tolist(),\n",
    "    \"x\": X_scaled.tolist(),\n",
    "}\n",
    "\n",
    "import json\n",
    "with open(f\"{importlib.resources.path('bayesianquilts', 'data')}/roach_data.json\", 'w') as f:\n",
    "    json.dump(roach_data, f)"
   ]
  },
  {
   "cell_type": "code",
   "execution_count": 10,
   "metadata": {},
   "outputs": [
    {
     "name": "stderr",
     "output_type": "stream",
     "text": [
      "15:48:56 - cmdstanpy - INFO - CmdStan start processing\n",
      "chain 1 |\u001b[33m          \u001b[0m| 00:00 Status\n",
      "\u001b[A\n",
      "\n",
      "chain 1 |\u001b[33m          \u001b[0m| 00:00 Iteration:     1 / 22000 [  0%]  (Warmup)\n",
      "\u001b[A\n",
      "\n",
      "\u001b[A\u001b[A\n",
      "chain 1 |\u001b[33m▏         \u001b[0m| 00:00 Iteration:   200 / 22000 [  0%]  (Warmup)\n",
      "\n",
      "\u001b[A\u001b[A\n",
      "chain 1 |\u001b[33m▏         \u001b[0m| 00:00 Iteration:   300 / 22000 [  1%]  (Warmup)\n",
      "chain 1 |\u001b[33m▎         \u001b[0m| 00:01 Iteration:   400 / 22000 [  1%]  (Warmup)\n",
      "\n",
      "\u001b[A\u001b[A\n",
      "\u001b[A\n",
      "\n",
      "chain 1 |\u001b[33m▎         \u001b[0m| 00:01 Iteration:   500 / 22000 [  2%]  (Warmup)\n",
      "\u001b[A\n",
      "\n",
      "chain 1 |\u001b[33m▎         \u001b[0m| 00:01 Iteration:   600 / 22000 [  2%]  (Warmup)\n",
      "\u001b[A\n",
      "\n",
      "chain 1 |\u001b[33m▍         \u001b[0m| 00:01 Iteration:   700 / 22000 [  3%]  (Warmup)\n",
      "\u001b[A\n",
      "\n",
      "chain 1 |\u001b[33m▍         \u001b[0m| 00:01 Iteration:   800 / 22000 [  3%]  (Warmup)\n",
      "\n",
      "chain 1 |\u001b[33m▍         \u001b[0m| 00:02 Iteration:   900 / 22000 [  4%]  (Warmup)\n",
      "\u001b[A\n",
      "\n",
      "chain 1 |\u001b[33m▌         \u001b[0m| 00:02 Iteration:  1000 / 22000 [  4%]  (Warmup)\n",
      "\u001b[A\n",
      "\n",
      "chain 1 |\u001b[33m▌         \u001b[0m| 00:02 Iteration:  1100 / 22000 [  5%]  (Warmup)\n",
      "\u001b[A\n",
      "\n",
      "chain 1 |\u001b[33m▋         \u001b[0m| 00:02 Iteration:  1200 / 22000 [  5%]  (Warmup)\n",
      "\n",
      "\u001b[A\u001b[A\n",
      "chain 1 |\u001b[33m▋         \u001b[0m| 00:02 Iteration:  1300 / 22000 [  5%]  (Warmup)\n",
      "\n",
      "\u001b[A\u001b[A\n",
      "chain 1 |\u001b[33m▋         \u001b[0m| 00:03 Iteration:  1400 / 22000 [  6%]  (Warmup)\n",
      "\n",
      "\u001b[A\u001b[A\n",
      "chain 1 |\u001b[33m▊         \u001b[0m| 00:03 Iteration:  1500 / 22000 [  6%]  (Warmup)\n",
      "\n",
      "\u001b[A\u001b[A\n",
      "\u001b[A\n",
      "\n",
      "\u001b[A\u001b[A\n",
      "chain 1 |\u001b[33m▊         \u001b[0m| 00:03 Iteration:  1600 / 22000 [  7%]  (Warmup)\n",
      "\n",
      "chain 1 |\u001b[33m▊         \u001b[0m| 00:03 Iteration:  1700 / 22000 [  7%]  (Warmup)\n",
      "\n",
      "\u001b[A\u001b[A\n",
      "chain 1 |\u001b[33m▉         \u001b[0m| 00:03 Iteration:  1800 / 22000 [  8%]  (Warmup)\n",
      "\n",
      "\u001b[A\u001b[A\n",
      "chain 1 |\u001b[33m▉         \u001b[0m| 00:04 Iteration:  1900 / 22000 [  8%]  (Warmup)\n",
      "\n",
      "\u001b[A\u001b[A\n",
      "chain 1 |\u001b[33m▉         \u001b[0m| 00:04 Iteration:  2000 / 22000 [  9%]  (Warmup)\n",
      "\n",
      "chain 1 |\u001b[33m█         \u001b[0m| 00:04 Iteration:  2100 / 22000 [  9%]  (Warmup)\n",
      "\u001b[A\n",
      "\n",
      "chain 1 |\u001b[33m█         \u001b[0m| 00:04 Iteration:  2200 / 22000 [ 10%]  (Warmup)\n",
      "chain 1 |\u001b[33m█▏        \u001b[0m| 00:04 Iteration:  2300 / 22000 [ 10%]  (Warmup)\n",
      "\n",
      "\u001b[A\u001b[A\n",
      "chain 1 |\u001b[33m█▏        \u001b[0m| 00:05 Iteration:  2400 / 22000 [ 10%]  (Warmup)\n",
      "\n",
      "\u001b[A\u001b[A\n",
      "chain 1 |\u001b[33m█▏        \u001b[0m| 00:05 Iteration:  2500 / 22000 [ 11%]  (Warmup)\n",
      "\n",
      "\u001b[A\u001b[A\n",
      "chain 1 |\u001b[33m█▎        \u001b[0m| 00:05 Iteration:  2600 / 22000 [ 11%]  (Warmup)\n",
      "\n",
      "\u001b[A\u001b[A\n",
      "chain 1 |\u001b[33m█▎        \u001b[0m| 00:05 Iteration:  2700 / 22000 [ 12%]  (Warmup)\n",
      "\n",
      "\u001b[A\u001b[A\n",
      "chain 1 |\u001b[33m█▎        \u001b[0m| 00:05 Iteration:  2800 / 22000 [ 12%]  (Warmup)\n",
      "\n",
      "\u001b[A\u001b[A\n",
      "chain 1 |\u001b[33m█▍        \u001b[0m| 00:05 Iteration:  2900 / 22000 [ 13%]  (Warmup)\n",
      "\n",
      "\u001b[A\u001b[A\n",
      "chain 1 |\u001b[33m█▍        \u001b[0m| 00:06 Iteration:  3000 / 22000 [ 13%]  (Warmup)\n",
      "\n",
      "\u001b[A\u001b[A\n",
      "chain 1 |\u001b[33m█▍        \u001b[0m| 00:06 Iteration:  3100 / 22000 [ 14%]  (Warmup)\n",
      "\n",
      "\u001b[A\u001b[A\n",
      "\u001b[A\n",
      "\n",
      "chain 1 |\u001b[33m█▌        \u001b[0m| 00:06 Iteration:  3200 / 22000 [ 14%]  (Warmup)\n",
      "chain 1 |\u001b[33m█▌        \u001b[0m| 00:06 Iteration:  3300 / 22000 [ 15%]  (Warmup)\n",
      "\u001b[A\n",
      "\n",
      "chain 1 |\u001b[33m█▌        \u001b[0m| 00:07 Iteration:  3400 / 22000 [ 15%]  (Warmup)\n",
      "\n",
      "\u001b[A\u001b[A\n",
      "chain 1 |\u001b[33m█▋        \u001b[0m| 00:07 Iteration:  3500 / 22000 [ 15%]  (Warmup)\n",
      "\u001b[A\n",
      "\n",
      "chain 1 |\u001b[33m█▋        \u001b[0m| 00:07 Iteration:  3600 / 22000 [ 16%]  (Warmup)\n",
      "\u001b[A\n",
      "\n",
      "chain 1 |\u001b[33m█▊        \u001b[0m| 00:07 Iteration:  3700 / 22000 [ 16%]  (Warmup)\n",
      "\u001b[A\n",
      "\n",
      "chain 1 |\u001b[33m█▊        \u001b[0m| 00:07 Iteration:  3800 / 22000 [ 17%]  (Warmup)\n",
      "\n",
      "\u001b[A\u001b[A\n",
      "chain 1 |\u001b[33m█▊        \u001b[0m| 00:07 Iteration:  3900 / 22000 [ 17%]  (Warmup)\n",
      "\n",
      "\u001b[A\u001b[A\n",
      "chain 1 |\u001b[33m█▉        \u001b[0m| 00:08 Iteration:  4000 / 22000 [ 18%]  (Warmup)\n",
      "\n",
      "\u001b[A\u001b[A\n",
      "chain 1 |\u001b[33m█▉        \u001b[0m| 00:08 Iteration:  4100 / 22000 [ 18%]  (Warmup)\n",
      "\n",
      "\u001b[A\u001b[A\n",
      "chain 1 |\u001b[33m█▉        \u001b[0m| 00:08 Iteration:  4200 / 22000 [ 19%]  (Warmup)\n",
      "\n",
      "\u001b[A\u001b[A\n",
      "chain 1 |\u001b[33m██        \u001b[0m| 00:08 Iteration:  4300 / 22000 [ 19%]  (Warmup)\n",
      "\n",
      "\u001b[A\u001b[A\n",
      "\u001b[A\n",
      "\n",
      "chain 1 |\u001b[33m██        \u001b[0m| 00:08 Iteration:  4400 / 22000 [ 20%]  (Warmup)\n",
      "\u001b[A\n",
      "\n",
      "chain 1 |\u001b[33m██        \u001b[0m| 00:09 Iteration:  4500 / 22000 [ 20%]  (Warmup)\n",
      "\u001b[A\n",
      "\n",
      "chain 1 |\u001b[33m██▏       \u001b[0m| 00:09 Iteration:  4600 / 22000 [ 20%]  (Warmup)\n",
      "\u001b[A\n",
      "\n",
      "chain 1 |\u001b[33m██▏       \u001b[0m| 00:09 Iteration:  4700 / 22000 [ 21%]  (Warmup)\n",
      "\u001b[A\n",
      "\n",
      "chain 1 |\u001b[33m██▎       \u001b[0m| 00:09 Iteration:  4800 / 22000 [ 21%]  (Warmup)\n",
      "\u001b[A\n",
      "\n",
      "chain 1 |\u001b[33m██▎       \u001b[0m| 00:10 Iteration:  4900 / 22000 [ 22%]  (Warmup)\n",
      "\u001b[A\n",
      "\n",
      "chain 1 |\u001b[33m██▎       \u001b[0m| 00:10 Iteration:  5000 / 22000 [ 22%]  (Warmup)\n",
      "\u001b[A\n",
      "\n",
      "chain 1 |\u001b[33m██▍       \u001b[0m| 00:10 Iteration:  5100 / 22000 [ 23%]  (Warmup)\n",
      "\u001b[A\n",
      "\n",
      "chain 1 |\u001b[33m██▍       \u001b[0m| 00:10 Iteration:  5200 / 22000 [ 23%]  (Warmup)\n",
      "\u001b[A\n",
      "\n",
      "chain 1 |\u001b[33m██▍       \u001b[0m| 00:11 Iteration:  5300 / 22000 [ 24%]  (Warmup)\n",
      "\u001b[A\n",
      "\n",
      "\u001b[A\u001b[A\n",
      "chain 1 |\u001b[33m██▌       \u001b[0m| 00:11 Iteration:  5400 / 22000 [ 24%]  (Warmup)\n",
      "\n",
      "chain 1 |\u001b[33m██▌       \u001b[0m| 00:11 Iteration:  5500 / 22000 [ 25%]  (Warmup)\n",
      "\u001b[A\n",
      "\n",
      "\u001b[A\u001b[A\n",
      "chain 1 |\u001b[33m██▌       \u001b[0m| 00:11 Iteration:  5600 / 22000 [ 25%]  (Warmup)\n",
      "chain 1 |\u001b[33m██▋       \u001b[0m| 00:11 Iteration:  5700 / 22000 [ 25%]  (Warmup)\n",
      "\n",
      "\u001b[A\u001b[A\n",
      "chain 1 |\u001b[33m██▋       \u001b[0m| 00:12 Iteration:  5800 / 22000 [ 26%]  (Warmup)\n",
      "\n",
      "\u001b[A\u001b[A\n",
      "chain 1 |\u001b[33m██▋       \u001b[0m| 00:12 Iteration:  5900 / 22000 [ 26%]  (Warmup)\n",
      "\n",
      "\u001b[A\u001b[A\n",
      "chain 1 |\u001b[33m██▊       \u001b[0m| 00:12 Iteration:  6000 / 22000 [ 27%]  (Warmup)\n",
      "\n",
      "\u001b[A\u001b[A\n",
      "chain 1 |\u001b[33m██▊       \u001b[0m| 00:12 Iteration:  6100 / 22000 [ 27%]  (Warmup)\n",
      "\n",
      "\u001b[A\u001b[A\n",
      "chain 1 |\u001b[33m██▉       \u001b[0m| 00:13 Iteration:  6200 / 22000 [ 28%]  (Warmup)\n",
      "\u001b[A\n",
      "\n",
      "chain 1 |\u001b[33m██▉       \u001b[0m| 00:13 Iteration:  6300 / 22000 [ 28%]  (Warmup)\n",
      "\n",
      "\u001b[A\u001b[A\n",
      "chain 1 |\u001b[33m██▉       \u001b[0m| 00:13 Iteration:  6400 / 22000 [ 29%]  (Warmup)\n",
      "\n",
      "\u001b[A\u001b[A\n",
      "chain 1 |\u001b[33m███       \u001b[0m| 00:13 Iteration:  6500 / 22000 [ 29%]  (Warmup)\n",
      "\u001b[A\n",
      "\n",
      "chain 1 |\u001b[33m███       \u001b[0m| 00:14 Iteration:  6600 / 22000 [ 30%]  (Warmup)\n",
      "\u001b[A\n",
      "\n",
      "\u001b[A\u001b[A\n",
      "chain 1 |\u001b[33m███       \u001b[0m| 00:14 Iteration:  6700 / 22000 [ 30%]  (Warmup)\n",
      "\n",
      "\u001b[A\u001b[A\n",
      "chain 1 |\u001b[33m███▏      \u001b[0m| 00:14 Iteration:  6800 / 22000 [ 30%]  (Warmup)\n",
      "\n",
      "\u001b[A\u001b[A\n",
      "chain 1 |\u001b[33m███▏      \u001b[0m| 00:14 Iteration:  6900 / 22000 [ 31%]  (Warmup)\n",
      "\n",
      "\u001b[A\u001b[A\n",
      "chain 1 |\u001b[33m███▏      \u001b[0m| 00:15 Iteration:  7000 / 22000 [ 31%]  (Warmup)\n",
      "\n",
      "\u001b[A\u001b[A\n",
      "chain 1 |\u001b[33m███▎      \u001b[0m| 00:15 Iteration:  7100 / 22000 [ 32%]  (Warmup)\n",
      "\n",
      "\u001b[A\u001b[A\n",
      "chain 1 |\u001b[33m███▎      \u001b[0m| 00:15 Iteration:  7200 / 22000 [ 32%]  (Warmup)\n",
      "\n",
      "\u001b[A\u001b[A\n",
      "chain 1 |\u001b[33m███▍      \u001b[0m| 00:15 Iteration:  7300 / 22000 [ 33%]  (Warmup)\n",
      "\n",
      "chain 1 |\u001b[33m███▍      \u001b[0m| 00:16 Iteration:  7400 / 22000 [ 33%]  (Warmup)\n",
      "\u001b[A\n",
      "\n",
      "chain 1 |\u001b[33m███▍      \u001b[0m| 00:16 Iteration:  7500 / 22000 [ 34%]  (Warmup)\n",
      "chain 1 |\u001b[33m███▌      \u001b[0m| 00:16 Iteration:  7600 / 22000 [ 34%]  (Warmup)\n",
      "\u001b[A\n",
      "\n",
      "chain 1 |\u001b[33m███▌      \u001b[0m| 00:16 Iteration:  7700 / 22000 [ 35%]  (Warmup)\n",
      "\u001b[A\n",
      "\n",
      "chain 1 |\u001b[33m███▌      \u001b[0m| 00:17 Iteration:  7800 / 22000 [ 35%]  (Warmup)\n",
      "\u001b[A\n",
      "\n",
      "chain 1 |\u001b[33m███▋      \u001b[0m| 00:17 Iteration:  7900 / 22000 [ 35%]  (Warmup)\n",
      "\u001b[A\n",
      "\n",
      "chain 1 |\u001b[33m███▋      \u001b[0m| 00:17 Iteration:  8000 / 22000 [ 36%]  (Warmup)\n",
      "chain 1 |\u001b[33m███▋      \u001b[0m| 00:17 Iteration:  8100 / 22000 [ 36%]  (Warmup)\n",
      "\n",
      "\u001b[A\u001b[A\n",
      "chain 1 |\u001b[33m███▊      \u001b[0m| 00:18 Iteration:  8200 / 22000 [ 37%]  (Warmup)\n",
      "\u001b[A\n",
      "\n",
      "chain 1 |\u001b[33m███▊      \u001b[0m| 00:18 Iteration:  8300 / 22000 [ 37%]  (Warmup)\n",
      "\u001b[A\n",
      "\n",
      "chain 1 |\u001b[33m███▊      \u001b[0m| 00:18 Iteration:  8400 / 22000 [ 38%]  (Warmup)\n",
      "\u001b[A\n",
      "\n",
      "\u001b[A\u001b[A\n",
      "chain 1 |\u001b[33m███▉      \u001b[0m| 00:19 Iteration:  8500 / 22000 [ 38%]  (Warmup)\n",
      "\n",
      "\u001b[A\u001b[A\n",
      "chain 1 |\u001b[33m███▉      \u001b[0m| 00:19 Iteration:  8600 / 22000 [ 39%]  (Warmup)\n",
      "\u001b[A\n",
      "\n",
      "chain 1 |\u001b[33m████      \u001b[0m| 00:19 Iteration:  8700 / 22000 [ 39%]  (Warmup)\n",
      "chain 1 |\u001b[33m████      \u001b[0m| 00:20 Iteration:  8800 / 22000 [ 40%]  (Warmup)\n",
      "\n",
      "\u001b[A\u001b[A\n",
      "chain 1 |\u001b[33m████      \u001b[0m| 00:20 Iteration:  8900 / 22000 [ 40%]  (Warmup)\n",
      "\n",
      "\u001b[A\u001b[A\n",
      "chain 1 |\u001b[33m████▏     \u001b[0m| 00:20 Iteration:  9000 / 22000 [ 40%]  (Warmup)\n",
      "\n",
      "\u001b[A\u001b[A\n",
      "chain 1 |\u001b[33m████▏     \u001b[0m| 00:21 Iteration:  9100 / 22000 [ 41%]  (Warmup)\n",
      "\n",
      "\u001b[A\u001b[A\n",
      "chain 1 |\u001b[33m████▏     \u001b[0m| 00:21 Iteration:  9200 / 22000 [ 41%]  (Warmup)\n",
      "\u001b[A\n",
      "\n",
      "chain 1 |\u001b[33m████▎     \u001b[0m| 00:21 Iteration:  9300 / 22000 [ 42%]  (Warmup)\n",
      "\u001b[A\n",
      "\n",
      "chain 1 |\u001b[33m████▎     \u001b[0m| 00:22 Iteration:  9400 / 22000 [ 42%]  (Warmup)\n",
      "\u001b[A\n",
      "\n",
      "chain 1 |\u001b[33m████▎     \u001b[0m| 00:22 Iteration:  9500 / 22000 [ 43%]  (Warmup)\n",
      "\u001b[A\n",
      "\n",
      "chain 1 |\u001b[33m████▍     \u001b[0m| 00:22 Iteration:  9600 / 22000 [ 43%]  (Warmup)\n",
      "chain 1 |\u001b[33m████▍     \u001b[0m| 00:22 Iteration:  9700 / 22000 [ 44%]  (Warmup)\n",
      "\n",
      "\u001b[A\u001b[A\n",
      "chain 1 |\u001b[33m████▌     \u001b[0m| 00:23 Iteration:  9800 / 22000 [ 44%]  (Warmup)\n",
      "\u001b[A\n",
      "\n",
      "chain 1 |\u001b[33m████▌     \u001b[0m| 00:23 Iteration:  9900 / 22000 [ 45%]  (Warmup)\n",
      "\u001b[A\n",
      "\n",
      "chain 1 |\u001b[33m████▌     \u001b[0m| 00:23 Iteration: 10000 / 22000 [ 45%]  (Warmup)\n",
      "\u001b[A\n",
      "\n",
      "chain 1 |\u001b[33m████▋     \u001b[0m| 00:24 Iteration: 10100 / 22000 [ 45%]  (Warmup)\n",
      "\u001b[A\n",
      "\n",
      "chain 1 |\u001b[33m████▋     \u001b[0m| 00:24 Iteration: 10200 / 22000 [ 46%]  (Warmup)\n",
      "chain 1 |\u001b[33m████▋     \u001b[0m| 00:24 Iteration: 10300 / 22000 [ 46%]  (Warmup)\n",
      "\n",
      "\u001b[A\u001b[A\n",
      "chain 1 |\u001b[33m████▊     \u001b[0m| 00:25 Iteration: 10400 / 22000 [ 47%]  (Warmup)\n",
      "\n",
      "\u001b[A\u001b[A\n",
      "chain 1 |\u001b[33m████▊     \u001b[0m| 00:25 Iteration: 10500 / 22000 [ 47%]  (Warmup)\n",
      "\n",
      "\u001b[A\u001b[A\n",
      "chain 1 |\u001b[33m████▊     \u001b[0m| 00:25 Iteration: 10600 / 22000 [ 48%]  (Warmup)\n",
      "\n",
      "\u001b[A\u001b[A\n",
      "chain 1 |\u001b[33m████▉     \u001b[0m| 00:26 Iteration: 10700 / 22000 [ 48%]  (Warmup)\n",
      "\n",
      "\u001b[A\u001b[A\n",
      "chain 1 |\u001b[33m████▉     \u001b[0m| 00:26 Iteration: 10800 / 22000 [ 49%]  (Warmup)\n",
      "\n",
      "\u001b[A\u001b[A\n",
      "chain 1 |\u001b[33m█████     \u001b[0m| 00:26 Iteration: 10900 / 22000 [ 49%]  (Warmup)\n",
      "\u001b[A\n",
      "\n",
      "chain 1 |\u001b[33m█████     \u001b[0m| 00:27 Iteration: 11000 / 22000 [ 50%]  (Warmup)\n",
      "chain 1 |\u001b[33m█████     \u001b[0m| 00:27 Iteration: 11100 / 22000 [ 50%]  (Warmup)\n",
      "\n",
      "chain 1 |\u001b[33m█████▏    \u001b[0m| 00:27 Iteration: 11200 / 22000 [ 50%]  (Warmup)\n",
      "\u001b[A\n",
      "\n",
      "chain 1 |\u001b[33m█████▏    \u001b[0m| 00:28 Iteration: 11300 / 22000 [ 51%]  (Warmup)\n",
      "\u001b[A\n",
      "\n",
      "\u001b[A\u001b[A\n",
      "chain 1 |\u001b[33m█████▏    \u001b[0m| 00:28 Iteration: 11400 / 22000 [ 51%]  (Warmup)\n",
      "\n",
      "chain 1 |\u001b[33m█████▎    \u001b[0m| 00:28 Iteration: 11500 / 22000 [ 52%]  (Warmup)\n",
      "chain 1 |\u001b[33m█████▎    \u001b[0m| 00:29 Iteration: 11600 / 22000 [ 52%]  (Warmup)\n",
      "\n",
      "\u001b[A\u001b[A\n",
      "chain 1 |\u001b[33m█████▎    \u001b[0m| 00:29 Iteration: 11700 / 22000 [ 53%]  (Warmup)\n",
      "\u001b[A\n",
      "\n",
      "chain 1 |\u001b[33m█████▍    \u001b[0m| 00:29 Iteration: 11800 / 22000 [ 53%]  (Warmup)\n",
      "\u001b[A\n",
      "\n",
      "chain 1 |\u001b[33m█████▍    \u001b[0m| 00:30 Iteration: 11900 / 22000 [ 54%]  (Warmup)\n",
      "\u001b[A\n",
      "\n",
      "chain 1 |\u001b[33m█████▍    \u001b[0m| 00:30 Iteration: 12000 / 22000 [ 54%]  (Warmup)\n",
      "chain 1 |\u001b[33m█████▌    \u001b[0m| 00:30 Iteration: 12100 / 22000 [ 55%]  (Warmup)\n",
      "\n",
      "\u001b[A\u001b[A\n",
      "chain 1 |\u001b[33m█████▌    \u001b[0m| 00:31 Iteration: 12200 / 22000 [ 55%]  (Warmup)\n",
      "\n",
      "\u001b[A\u001b[A\n",
      "chain 1 |\u001b[33m█████▋    \u001b[0m| 00:31 Iteration: 12300 / 22000 [ 55%]  (Warmup)\n",
      "\n",
      "\u001b[A\u001b[A\n",
      "chain 1 |\u001b[33m█████▋    \u001b[0m| 00:31 Iteration: 12400 / 22000 [ 56%]  (Warmup)\n",
      "\n",
      "chain 1 |\u001b[33m█████▋    \u001b[0m| 00:32 Iteration: 12500 / 22000 [ 56%]  (Warmup)\n",
      "\u001b[A\n",
      "\n",
      "chain 1 |\u001b[33m█████▊    \u001b[0m| 00:32 Iteration: 12600 / 22000 [ 57%]  (Warmup)\n",
      "\u001b[A\n",
      "\n",
      "chain 1 |\u001b[33m█████▊    \u001b[0m| 00:32 Iteration: 12700 / 22000 [ 57%]  (Warmup)\n",
      "chain 1 |\u001b[33m█████▊    \u001b[0m| 00:33 Iteration: 12800 / 22000 [ 58%]  (Warmup)\n",
      "\n",
      "\u001b[A\u001b[A\n",
      "chain 1 |\u001b[33m█████▉    \u001b[0m| 00:33 Iteration: 12900 / 22000 [ 58%]  (Warmup)\n",
      "\u001b[A\n",
      "\n",
      "chain 1 |\u001b[33m█████▉    \u001b[0m| 00:33 Iteration: 13000 / 22000 [ 59%]  (Warmup)\n",
      "\u001b[A\n",
      "\n",
      "chain 1 |\u001b[33m█████▉    \u001b[0m| 00:34 Iteration: 13100 / 22000 [ 59%]  (Warmup)\n",
      "\u001b[A\n",
      "\n",
      "chain 1 |\u001b[33m██████    \u001b[0m| 00:34 Iteration: 13200 / 22000 [ 60%]  (Warmup)\n",
      "\u001b[A\n",
      "\n",
      "chain 1 |\u001b[33m██████    \u001b[0m| 00:34 Iteration: 13300 / 22000 [ 60%]  (Warmup)\n",
      "chain 1 |\u001b[33m██████▏   \u001b[0m| 00:35 Iteration: 13400 / 22000 [ 60%]  (Warmup)\n",
      "\n",
      "\u001b[A\u001b[A\n",
      "chain 1 |\u001b[33m██████▏   \u001b[0m| 00:35 Iteration: 13500 / 22000 [ 61%]  (Warmup)\n",
      "\n",
      "\u001b[A\u001b[A\n",
      "chain 1 |\u001b[33m██████▏   \u001b[0m| 00:35 Iteration: 13600 / 22000 [ 61%]  (Warmup)\n",
      "\n",
      "\u001b[A\u001b[A\n",
      "chain 1 |\u001b[33m██████▎   \u001b[0m| 00:36 Iteration: 13700 / 22000 [ 62%]  (Warmup)\n",
      "\n",
      "chain 1 |\u001b[33m██████▎   \u001b[0m| 00:36 Iteration: 13800 / 22000 [ 62%]  (Warmup)\n",
      "\u001b[A\n",
      "\n",
      "chain 1 |\u001b[33m██████▎   \u001b[0m| 00:36 Iteration: 13900 / 22000 [ 63%]  (Warmup)\n",
      "\u001b[A\n",
      "\n",
      "chain 1 |\u001b[33m██████▍   \u001b[0m| 00:37 Iteration: 14000 / 22000 [ 63%]  (Warmup)\n",
      "\u001b[A\n",
      "\n",
      "chain 1 |\u001b[33m██████▍   \u001b[0m| 00:37 Iteration: 14100 / 22000 [ 64%]  (Warmup)\n",
      "\u001b[A\n",
      "\n",
      "chain 1 |\u001b[33m██████▍   \u001b[0m| 00:37 Iteration: 14200 / 22000 [ 64%]  (Warmup)\n",
      "\u001b[A\n",
      "\n",
      "chain 1 |\u001b[33m██████▌   \u001b[0m| 00:38 Iteration: 14300 / 22000 [ 65%]  (Warmup)\n",
      "\u001b[A\n",
      "\n",
      "chain 1 |\u001b[33m██████▌   \u001b[0m| 00:38 Iteration: 14400 / 22000 [ 65%]  (Warmup)\n",
      "chain 1 |\u001b[33m██████▌   \u001b[0m| 00:38 Iteration: 14500 / 22000 [ 65%]  (Warmup)\n",
      "\n",
      "\u001b[A\u001b[A\n",
      "chain 1 |\u001b[33m██████▋   \u001b[0m| 00:39 Iteration: 14600 / 22000 [ 66%]  (Warmup)\n",
      "\n",
      "\u001b[A\u001b[A\n",
      "chain 1 |\u001b[33m██████▋   \u001b[0m| 00:39 Iteration: 14700 / 22000 [ 66%]  (Warmup)\n",
      "\n",
      "\u001b[A\u001b[A\n",
      "chain 1 |\u001b[33m██████▊   \u001b[0m| 00:40 Iteration: 14800 / 22000 [ 67%]  (Warmup)\n",
      "\n",
      "\u001b[A\u001b[A\n",
      "chain 1 |\u001b[33m██████▊   \u001b[0m| 00:40 Iteration: 14900 / 22000 [ 67%]  (Warmup)\n",
      "\n",
      "chain 1 |\u001b[33m██████▊   \u001b[0m| 00:40 Iteration: 15000 / 22000 [ 68%]  (Warmup)\n",
      "\u001b[A\n",
      "\n",
      "chain 1 |\u001b[33m██████▉   \u001b[0m| 00:41 Iteration: 15100 / 22000 [ 68%]  (Warmup)\n",
      "chain 1 |\u001b[33m██████▉   \u001b[0m| 00:41 Iteration: 15200 / 22000 [ 69%]  (Warmup)\n",
      "\u001b[A\n",
      "\n",
      "chain 1 |\u001b[33m██████▉   \u001b[0m| 00:41 Iteration: 15300 / 22000 [ 69%]  (Warmup)\n",
      "\u001b[A\n",
      "\n",
      "chain 1 |\u001b[33m███████   \u001b[0m| 00:42 Iteration: 15400 / 22000 [ 70%]  (Warmup)\n",
      "\u001b[A\n",
      "\n",
      "chain 1 |\u001b[33m███████   \u001b[0m| 00:42 Iteration: 15500 / 22000 [ 70%]  (Warmup)\n",
      "\u001b[A\n",
      "\n",
      "chain 1 |\u001b[33m███████   \u001b[0m| 00:42 Iteration: 15600 / 22000 [ 70%]  (Warmup)\n",
      "\u001b[A\n",
      "\n",
      "chain 1 |\u001b[33m███████▏  \u001b[0m| 00:43 Iteration: 15700 / 22000 [ 71%]  (Warmup)\n",
      "\u001b[A\n",
      "\n",
      "chain 1 |\u001b[33m███████▏  \u001b[0m| 00:43 Iteration: 15800 / 22000 [ 71%]  (Warmup)\n",
      "chain 1 |\u001b[33m███████▎  \u001b[0m| 00:43 Iteration: 15900 / 22000 [ 72%]  (Warmup)\n",
      "\n",
      "\u001b[A\u001b[A\n",
      "chain 1 |\u001b[33m███████▎  \u001b[0m| 00:44 Iteration: 16000 / 22000 [ 72%]  (Warmup)\n",
      "\n",
      "\u001b[A\u001b[A\n",
      "chain 1 |\u001b[33m███████▎  \u001b[0m| 00:44 Iteration: 16100 / 22000 [ 73%]  (Warmup)\n",
      "\n",
      "\u001b[A\u001b[A\n",
      "chain 1 |\u001b[33m███████▍  \u001b[0m| 00:45 Iteration: 16200 / 22000 [ 73%]  (Warmup)\n",
      "\u001b[A\n",
      "\n",
      "chain 1 |\u001b[33m███████▍  \u001b[0m| 00:45 Iteration: 16300 / 22000 [ 74%]  (Warmup)\n",
      "\u001b[A\n",
      "\n",
      "chain 1 |\u001b[33m███████▍  \u001b[0m| 00:45 Iteration: 16400 / 22000 [ 74%]  (Warmup)\n",
      "\u001b[A\n",
      "\n",
      "chain 1 |\u001b[33m███████▌  \u001b[0m| 00:46 Iteration: 16500 / 22000 [ 75%]  (Warmup)\n",
      "\u001b[A\n",
      "\n",
      "chain 1 |\u001b[33m███████▌  \u001b[0m| 00:46 Iteration: 16600 / 22000 [ 75%]  (Warmup)\n",
      "\u001b[A\n",
      "\n",
      "chain 1 |\u001b[33m███████▌  \u001b[0m| 00:46 Iteration: 16700 / 22000 [ 75%]  (Warmup)\n",
      "chain 1 |\u001b[33m███████▋  \u001b[0m| 00:47 Iteration: 16800 / 22000 [ 76%]  (Warmup)\n",
      "\n",
      "\u001b[A\u001b[A\n",
      "chain 1 |\u001b[33m███████▋  \u001b[0m| 00:47 Iteration: 16900 / 22000 [ 76%]  (Warmup)\n",
      "\n",
      "\u001b[A\u001b[A\n",
      "chain 1 |\u001b[33m███████▋  \u001b[0m| 00:48 Iteration: 17000 / 22000 [ 77%]  (Warmup)\n",
      "\n",
      "\u001b[A\u001b[A\n",
      "chain 1 |\u001b[33m███████▊  \u001b[0m| 00:48 Iteration: 17100 / 22000 [ 77%]  (Warmup)\n",
      "\n",
      "\u001b[A\u001b[A\n",
      "chain 1 |\u001b[33m███████▊  \u001b[0m| 00:48 Iteration: 17200 / 22000 [ 78%]  (Warmup)\n",
      "\n",
      "\u001b[A\u001b[A\n",
      "chain 1 |\u001b[33m███████▉  \u001b[0m| 00:49 Iteration: 17300 / 22000 [ 78%]  (Warmup)\n",
      "\n",
      "\u001b[A\u001b[A\n",
      "chain 1 |\u001b[33m███████▉  \u001b[0m| 00:49 Iteration: 17400 / 22000 [ 79%]  (Warmup)\n",
      "\n",
      "\u001b[A\u001b[A\n",
      "chain 1 |\u001b[33m███████▉  \u001b[0m| 00:49 Iteration: 17500 / 22000 [ 79%]  (Warmup)\n",
      "\n",
      "chain 1 |\u001b[33m████████  \u001b[0m| 00:50 Iteration: 17600 / 22000 [ 80%]  (Warmup)\n",
      "\u001b[A\n",
      "\n",
      "chain 1 |\u001b[33m████████  \u001b[0m| 00:50 Iteration: 17700 / 22000 [ 80%]  (Warmup)\n",
      "\u001b[A\n",
      "\n",
      "chain 1 |\u001b[33m████████  \u001b[0m| 00:51 Iteration: 17800 / 22000 [ 80%]  (Warmup)\n",
      "chain 1 |\u001b[33m████████▏ \u001b[0m| 00:51 Iteration: 17900 / 22000 [ 81%]  (Warmup)\n",
      "\n",
      "\u001b[A\u001b[A\n",
      "chain 1 |\u001b[33m████████▏ \u001b[0m| 00:51 Iteration: 18000 / 22000 [ 81%]  (Warmup)\n",
      "\n",
      "\u001b[A\u001b[A\n",
      "chain 1 |\u001b[33m████████▏ \u001b[0m| 00:52 Iteration: 18100 / 22000 [ 82%]  (Warmup)\n",
      "\n",
      "\u001b[A\u001b[A\n",
      "chain 1 |\u001b[33m████████▎ \u001b[0m| 00:52 Iteration: 18200 / 22000 [ 82%]  (Warmup)\n",
      "\u001b[A\n",
      "\n",
      "chain 1 |\u001b[33m████████▎ \u001b[0m| 00:52 Iteration: 18300 / 22000 [ 83%]  (Warmup)\n",
      "\u001b[A\n",
      "\n",
      "chain 1 |\u001b[33m████████▍ \u001b[0m| 00:53 Iteration: 18400 / 22000 [ 83%]  (Warmup)\n",
      "\u001b[A\n",
      "\n",
      "chain 1 |\u001b[33m████████▍ \u001b[0m| 00:53 Iteration: 18500 / 22000 [ 84%]  (Warmup)\n",
      "\u001b[A\n",
      "\n",
      "chain 1 |\u001b[33m████████▍ \u001b[0m| 00:54 Iteration: 18600 / 22000 [ 84%]  (Warmup)\n",
      "\u001b[A\n",
      "\n",
      "chain 1 |\u001b[33m████████▌ \u001b[0m| 00:54 Iteration: 18700 / 22000 [ 85%]  (Warmup)\n",
      "\u001b[A\n",
      "\n",
      "chain 1 |\u001b[33m████████▌ \u001b[0m| 00:54 Iteration: 18800 / 22000 [ 85%]  (Warmup)\n",
      "chain 1 |\u001b[33m████████▌ \u001b[0m| 00:55 Iteration: 18900 / 22000 [ 85%]  (Warmup)\n",
      "\n",
      "\u001b[A\u001b[A\n",
      "chain 1 |\u001b[33m████████▋ \u001b[0m| 00:55 Iteration: 19000 / 22000 [ 86%]  (Warmup)\n",
      "\n",
      "\u001b[A\u001b[A\n",
      "chain 1 |\u001b[33m████████▋ \u001b[0m| 00:56 Iteration: 19100 / 22000 [ 86%]  (Warmup)\n",
      "\n",
      "\u001b[A\u001b[A\n",
      "chain 1 |\u001b[33m████████▋ \u001b[0m| 00:56 Iteration: 19200 / 22000 [ 87%]  (Warmup)\n",
      "\n",
      "\u001b[A\u001b[A\n",
      "chain 1 |\u001b[33m████████▊ \u001b[0m| 00:56 Iteration: 19300 / 22000 [ 87%]  (Warmup)\n",
      "\n",
      "\u001b[A\u001b[A\n",
      "chain 1 |\u001b[33m████████▊ \u001b[0m| 00:57 Iteration: 19400 / 22000 [ 88%]  (Warmup)\n",
      "\u001b[A\n",
      "\n",
      "chain 1 |\u001b[33m████████▊ \u001b[0m| 00:57 Iteration: 19500 / 22000 [ 88%]  (Warmup)\n",
      "\u001b[A\n",
      "\n",
      "chain 1 |\u001b[33m████████▉ \u001b[0m| 00:57 Iteration: 19600 / 22000 [ 89%]  (Warmup)\n",
      "\u001b[A\n",
      "\n",
      "chain 1 |\u001b[33m████████▉ \u001b[0m| 00:58 Iteration: 19700 / 22000 [ 89%]  (Warmup)\n",
      "\u001b[A\n",
      "\n",
      "chain 1 |\u001b[33m█████████ \u001b[0m| 00:58 Iteration: 19800 / 22000 [ 90%]  (Warmup)\n",
      "\u001b[A\n",
      "\n",
      "\u001b[A\u001b[A\n",
      "\u001b[A\n",
      "\n",
      "chain 1 |\u001b[33m█████████ \u001b[0m| 00:59 Iteration: 19900 / 22000 [ 90%]  (Warmup)\n",
      "\u001b[A\n",
      "\n",
      "\u001b[A\u001b[A\n",
      "chain 1 |\u001b[34m█████████▏\u001b[0m| 01:00 Iteration: 20001 / 22000 [ 90%]  (Sampling)\n",
      "\n",
      "\u001b[A\u001b[A\n",
      "\u001b[A\n",
      "\n",
      "\u001b[A\u001b[A\n",
      "chain 1 |\u001b[34m█████████▏\u001b[0m| 01:01 Iteration: 20100 / 22000 [ 91%]  (Sampling)\n",
      "\n",
      "\u001b[A\u001b[A\n",
      "\u001b[A\n",
      "\u001b[A\n",
      "\n",
      "\u001b[A\u001b[A\n",
      "chain 1 |\u001b[34m█████████▏\u001b[0m| 01:01 Iteration: 20200 / 22000 [ 91%]  (Sampling)\n",
      "\u001b[A\n",
      "\n",
      "\u001b[A\u001b[A\n",
      "\u001b[A\n",
      "\u001b[A\n",
      "\n",
      "chain 1 |\u001b[34m█████████▎\u001b[0m| 01:02 Iteration: 20300 / 22000 [ 92%]  (Sampling)\n",
      "\u001b[A\n",
      "\u001b[A\n",
      "\n",
      "\u001b[A\u001b[A\n",
      "\u001b[A\n",
      "chain 1 |\u001b[34m█████████▎\u001b[0m| 01:03 Iteration: 20400 / 22000 [ 92%]  (Sampling)\n",
      "\n",
      "\u001b[A\u001b[A\n",
      "\u001b[A\n",
      "\u001b[A\n",
      "\n",
      "\u001b[A\u001b[A\n",
      "chain 1 |\u001b[34m█████████▎\u001b[0m| 01:04 Iteration: 20500 / 22000 [ 93%]  (Sampling)\n",
      "\u001b[A\n",
      "\n",
      "\u001b[A\u001b[A\n",
      "\u001b[A\n",
      "\u001b[A\n",
      "\n",
      "\u001b[A\u001b[A\n",
      "chain 1 |\u001b[34m█████████▍\u001b[0m| 01:04 Iteration: 20600 / 22000 [ 93%]  (Sampling)\n",
      "\u001b[A\n",
      "\n",
      "\u001b[A\u001b[A\n",
      "\u001b[A\n",
      "\u001b[A\n",
      "\n",
      "\u001b[A\u001b[A\n",
      "chain 1 |\u001b[34m█████████▍\u001b[0m| 01:05 Iteration: 20700 / 22000 [ 94%]  (Sampling)\n",
      "\n",
      "\u001b[A\u001b[A\n",
      "\n",
      "chain 1 |\u001b[34m█████████▌\u001b[0m| 01:06 Iteration: 20800 / 22000 [ 94%]  (Sampling)\n",
      "\n",
      "\u001b[A\u001b[A\n",
      "\n",
      "\u001b[A\u001b[A\n",
      "\n",
      "\u001b[A\u001b[A\n",
      "\n",
      "chain 1 |\u001b[34m█████████▌\u001b[0m| 01:07 Iteration: 20900 / 22000 [ 95%]  (Sampling)\n",
      "\n",
      "\u001b[A\u001b[A\n",
      "\n",
      "\u001b[A\u001b[A\n",
      "\n",
      "\u001b[A\u001b[A\n",
      "\n",
      "\u001b[A\u001b[A\n",
      "\n",
      "chain 1 |\u001b[34m█████████▌\u001b[0m| 01:08 Iteration: 21000 / 22000 [ 95%]  (Sampling)\n",
      "\n",
      "\u001b[A\u001b[A\n",
      "\n",
      "\u001b[A\u001b[A\n",
      "\n",
      "\u001b[A\u001b[A\n",
      "\n",
      "chain 1 |\u001b[34m█████████▋\u001b[0m| 01:08 Iteration: 21100 / 22000 [ 95%]  (Sampling)\n",
      "\n",
      "\u001b[A\u001b[A\n",
      "\n",
      "\u001b[A\u001b[A\n",
      "\n",
      "\u001b[A\u001b[A\n",
      "\n",
      "chain 1 |\u001b[34m█████████▋\u001b[0m| 01:09 Iteration: 21200 / 22000 [ 96%]  (Sampling)\n",
      "\n",
      "\u001b[A\u001b[A\n",
      "\n",
      "\u001b[A\u001b[A\n",
      "\n",
      "\u001b[A\u001b[A\n",
      "\n",
      "chain 1 |\u001b[34m██████████\u001b[0m| 01:15 Sampling completed                         \n",
      "chain 2 |\u001b[34m██████████\u001b[0m| 01:15 Sampling completed                         \n",
      "chain 3 |\u001b[34m██████████\u001b[0m| 01:15 Sampling completed                         \n",
      "chain 4 |\u001b[34m██████████\u001b[0m| 01:15 Sampling completed                         "
     ]
    },
    {
     "name": "stdout",
     "output_type": "stream",
     "text": [
      "                                                                                                                                                                                                                                                                                                                                "
     ]
    },
    {
     "name": "stderr",
     "output_type": "stream",
     "text": [
      "\n",
      "15:50:11 - cmdstanpy - INFO - CmdStan done processing.\n"
     ]
    },
    {
     "name": "stdout",
     "output_type": "stream",
     "text": [
      "\n"
     ]
    }
   ],
   "source": [
    "fit = sm.sample(\n",
    "    data=f\"{importlib.resources.path('bayesianquilts', 'data')}/roach_data.json\",\n",
    "    iter_warmup=20000,\n",
    "    iter_sampling=2000,\n",
    "    thin=2,\n",
    "    adapt_delta=0.9995,\n",
    "    max_treedepth=15,\n",
    ")"
   ]
  },
  {
   "cell_type": "code",
   "execution_count": 13,
   "metadata": {},
   "outputs": [],
   "source": [
    "params = fit.stan_variables()\n",
    "params.keys()\n",
    "params['c'] = params['c'][:, tf.newaxis]\n",
    "params['tau'] = params['tau'][:, tf.newaxis]\n",
    "params['caux'] = params['caux'][:, tf.newaxis]\n",
    "params['beta0'] = params['beta0'][:, tf.newaxis]\n"
   ]
  },
  {
   "cell_type": "code",
   "execution_count": 14,
   "metadata": {},
   "outputs": [],
   "source": [
    "lr_model = LogisticRegression2(\n",
    "    dim_regressors=d,\n",
    "    slab_df=slab_df,\n",
    "    slab_scale=slab_scale,\n",
    "    scale_icept=scale_icept,\n",
    "    nu_global=1,\n",
    "    nu_local=1,\n",
    "    scale_global=scale_global,\n",
    ")"
   ]
  },
  {
   "cell_type": "code",
   "execution_count": 15,
   "metadata": {},
   "outputs": [],
   "source": [
    "tfdata = tf.data.Dataset.from_tensor_slices({'X': X_scaled, 'y':y_})\n",
    "batch_size = N\n",
    "def data_factory_factory(batch_size=batch_size, repeat=False, shuffle=False):\n",
    "    def data_factory(batch_size=batch_size):\n",
    "        if shuffle:\n",
    "            out = tfdata.shuffle(batch_size*10)\n",
    "        else:\n",
    "            out = tfdata\n",
    "        \n",
    "        if repeat:\n",
    "            out = out.repeat()\n",
    "        return out.batch(batch_size)\n",
    "    return data_factory\n",
    "\n",
    "batch = next(iter(data_factory_factory()()))"
   ]
  },
  {
   "cell_type": "code",
   "execution_count": 20,
   "metadata": {},
   "outputs": [
    {
     "name": "stderr",
     "output_type": "stream",
     "text": [
      "1it [00:00, 61.20it/s]\n"
     ]
    },
    {
     "data": {
      "text/plain": [
       "(0.0, 1.0)"
      ]
     },
     "execution_count": 20,
     "metadata": {},
     "output_type": "execute_result"
    },
    {
     "data": {
      "image/png": "[encoded data removed]",
      "text/plain": [
       "<Figure size 900x200 with 2 Axes>"
      ]
     },
     "metadata": {},
     "output_type": "display_data"
    }
   ],
   "source": [
    "def prediction_fn(data):\n",
    "    pred = lr_model.predictive_distribution(data, **params)[\"logits\"]\n",
    "    return tf.reduce_mean(pred, axis=0)\n",
    "\n",
    "bench = classification_metrics(\n",
    "    data_factory=data_factory_factory(),\n",
    "    prediction_fn=prediction_fn,\n",
    "    outcome_label='y',\n",
    "    by_vars=[]\n",
    ")\n",
    "\n",
    "fig, ax = plt.subplots(1, 2, figsize=(9, 2))\n",
    "ax[0].plot(bench['auroc']['fpr'], bench['auroc']['tpr'])\n",
    "ax[0].text(0.5, 0.1, f\"AUROC: {round(bench['auroc']['auroc'], 2)}\")\n",
    "ax[0].set_xlim((0, 1))\n",
    "ax[0].set_ylim((0, 1))\n",
    "ax[0].set_title(\"ROC\")\n",
    "\n",
    "ax[1].plot(bench['auprc']['recall'], bench['auprc']['precision'])\n",
    "ax[1].text(0.5, 0.8, f\"AUPRC: {round(bench['auprc']['auprc'], 2)}\")\n",
    "ax[1].set_title(\"Precision-Recall\")\n",
    "ax[1].set_xlim((0, 1))\n",
    "ax[1].set_ylim((0, 1))"
   ]
  },
  {
   "cell_type": "code",
   "execution_count": 24,
   "metadata": {},
   "outputs": [
    {
     "name": "stdout",
     "output_type": "stream",
     "text": [
      "I: 0.004396029253299099 entropy: 2.0303335277562113 khat>0.7: 1\n",
      "LL: 0.004403387138502932 entropy: 2.030292506563469 khat>0.7: 1\n",
      "KL: 0.004403390526185325 entropy: 2.030292489096836 khat>0.7: 1\n",
      "Var: 0.004398148257397157 entropy: 2.030322319394685 khat>0.7: 1\n",
      "MM1: 0.004398640415284313 entropy: 2.0303182865752594 khat>0.7: 1\n",
      "MM2: 0.004416282534590426 entropy: 2.030202794048438 khat>0.7: 1\n"
     ]
    }
   ],
   "source": [
    "def entropy(probs):\n",
    "    return -tf.math.xlogy(probs, probs)\n",
    "\n",
    "\n",
    "def adaptive_is_loo(\n",
    "    self: LogisticRegression2,\n",
    "    data: dict[str, tf.Tensor],\n",
    "    params,\n",
    "    hbar=1.0,\n",
    "    variational=True,\n",
    ") -> dict[str, Any]:\n",
    "    \"\"\"_summary_\n",
    "\n",
    "    Args:\n",
    "        data (_type_): _description_\n",
    "        params (_type_): _description_\n",
    "        hbar (float, optional): _description_. Defaults to 1.0.\n",
    "        variational (bool, optional):\n",
    "            Should we trust the variational approximation?\n",
    "            If False, assumes that one is passing in all the data at once in a single batch.\n",
    "            Defaults to True.\n",
    "\n",
    "    Returns:\n",
    "        _type_: _description_\n",
    "    \"\"\"\n",
    "\n",
    "    # scaled (theta - bar(theta))/Sigma\n",
    "    c = self.slab_scale * tf.math.sqrt(params[\"caux\"])\n",
    "    lambda_tilde = tf.math.sqrt(\n",
    "        c**2\n",
    "        * params[\"lambda\"] ** 2\n",
    "        / (c**2 + params[\"tau\"] ** 2 * params[\"lambda\"] ** 2)\n",
    "    )\n",
    "    beta = params[\"z\"] * lambda_tilde * params[\"tau\"]\n",
    "    intercept = params[\"beta0\"]\n",
    "    _X = tf.cast(data[\"X\"], self.dtype)\n",
    "    _y = tf.cast(data[\"y\"], self.dtype)\n",
    "    mu = beta[..., tf.newaxis, :] * _X\n",
    "    mu = tf.reduce_sum(mu, -1) + params[\"beta0\"]\n",
    "    sigma = tf.math.sigmoid(mu)\n",
    "    ell = _y * (sigma) + (1 - _y) * (1 - sigma)\n",
    "    log_ell = tf.math.xlogy(_y, sigma) + tf.math.xlogy(1 - _y, 1 - sigma)\n",
    "    log_ell_prime = _y * (1 - sigma) - (1 - _y) * sigma\n",
    "    log_ell_doubleprime = -sigma * (1 - sigma)\n",
    "    _, khat0 = nppsis.psislw(-log_ell)\n",
    "\n",
    "    \"\"\"\n",
    "    sigma.shape is samples x datapoints\n",
    "    \"\"\"\n",
    "\n",
    "    ndx_to_transform = np.where(khat0 > 0.7)[0]\n",
    "    ndx_to_leave = np.where((khat0 <= 0.7))[0]\n",
    "\n",
    "    def IS(T, X, y):\n",
    "        mu = beta[..., tf.newaxis, :] * X\n",
    "        mu = tf.reduce_sum(mu, -1) + params[\"beta0\"]\n",
    "        sigma = tf.math.sigmoid(mu)\n",
    "        ell = y * (sigma) + (1 - y) * (1 - sigma)\n",
    "        log_ell = tf.math.xlogy(y, sigma) + tf.math.xlogy(1 - y, 1 - sigma)\n",
    "        log_ell_prime = y * (1 - sigma) - (1 - y) * sigma\n",
    "        log_ell_doubleprime = -sigma * (1 - sigma)\n",
    "        # compute # \\nabla\\log\\pi(\\btheta|\\calD)\n",
    "        if variational:\n",
    "            # \\nabla\\log\\pi = -\\Sigma^{-1}(theta - \\bar{\\theta})\n",
    "            grad_log_pi = tf.concat(\n",
    "                [\n",
    "                    -(\n",
    "                        intercept\n",
    "                        - self.surrogate_distribution.model[\"intercept__\"].mean()\n",
    "                    )\n",
    "                    / self.surrogate_distribution.model[\"intercept__\"].variance(),\n",
    "                    -(beta - self.surrogate_distribution.model[\"beta__\"].mean())\n",
    "                    / self.surrogate_distribution.model[\"beta__\"].variance(),\n",
    "                ],\n",
    "                axis=-1,\n",
    "            )\n",
    "            intercept_sd = (\n",
    "                self.surrogate_distribution.model[\"intercept__\"].variance() ** 0.5\n",
    "            )\n",
    "            beta_sd = self.surrogate_distribution.model[\"beta__\"].variance() ** 0.5\n",
    "\n",
    "            log_pi = self.surrogate_distribution.model[\"beta__\"].log_prob(\n",
    "                params[\"beta__\"]\n",
    "            ) + self.surrogate_distribution.model[\"intercept__\"].log_prob(\n",
    "                params[\"intercept__\"]\n",
    "            )\n",
    "            log_pi -= tf.reduce_max(log_pi, axis=0)\n",
    "            # log_pi.shape: [samples]\n",
    "        else:\n",
    "            \"\"\"\n",
    "            Recall Bayes rule:\n",
    "            \\log pi(\\btheta|\\calD) = \\sum_i\\log ell_i(\\btheta) + \\log\\pi(\\btheta) + const\n",
    "\n",
    "            so\n",
    "            \\nabla\\log\\pi(\\btheta|\\calD) = \\sum_i (ell_i)'x + grad\\log\\pi(\\btheta)\n",
    "\n",
    "            \"\"\"\n",
    "            log_prior = self.prior_distribution.log_prob_parts(params)\n",
    "            log_prior = log_prior[\"z\"] + log_prior[\"beta0\"]\n",
    "\n",
    "            log_pi = tf.reduce_sum(log_ell, axis=1, keepdims=True)[:, 0]\n",
    "\n",
    "            # pi \\propto\n",
    "            grad_log_pi = tf.concat(\n",
    "                [\n",
    "                    tf.reduce_sum(\n",
    "                        log_ell_prime[..., tf.newaxis], axis=1, keepdims=True\n",
    "                    ),\n",
    "                    tf.reduce_sum(\n",
    "                        log_ell_prime[..., tf.newaxis] * X, axis=1, keepdims=True\n",
    "                    ),\n",
    "                ],\n",
    "                axis=-1,\n",
    "            )\n",
    "\n",
    "            grad_log_prior = -0.5 * tf.concat(\n",
    "                [(params[\"beta0\"] / self.scale_icept) ** 2, (params[\"z\"]) ** 2],\n",
    "                axis=-1,\n",
    "            )\n",
    "            grad_log_pi += grad_log_prior[:, tf.newaxis, :]\n",
    "\n",
    "            intercept_sd = tf.math.reduce_std(intercept, 0, keepdims=True)\n",
    "            beta_sd = tf.math.reduce_std(beta, 0, keepdims=True)\n",
    "\n",
    "        beta_new, intercept_new, logJ = T(\n",
    "            X,\n",
    "            y,\n",
    "            log_pi=log_pi,\n",
    "            grad_log_pi=grad_log_pi,\n",
    "            beta_sd=beta_sd,\n",
    "            intercept_sd=intercept_sd,\n",
    "        )\n",
    "        mu_new = tf.reduce_sum(beta_new * X, axis=-1) + intercept_new[..., 0]\n",
    "        sigma_new = tf.math.sigmoid(mu_new)\n",
    "        ell_new = y * (sigma_new) + (1 - y) * (1 - sigma_new)\n",
    "        log_ell_new = tf.math.xlogy(y, sigma_new) + tf.math.xlogy(1 - y, 1 - sigma_new)\n",
    "        c = self.slab_scale * tf.math.sqrt(params[\"caux\"])\n",
    "        lambda_tilde = tf.math.sqrt(\n",
    "            c**2\n",
    "            * params[\"lambda\"] ** 2\n",
    "            / (c**2 + params[\"tau\"] ** 2 * params[\"lambda\"] ** 2)\n",
    "        )\n",
    "        transformed = params.copy()\n",
    "        transformed[\"z\"] = beta_new / (\n",
    "            lambda_tilde[:, tf.newaxis, :] * params[\"tau\"][..., tf.newaxis]\n",
    "        )\n",
    "        transformed[\"beta0\"] = intercept_new\n",
    "\n",
    "        if variational:\n",
    "            # We trust the variational approximation, so \\hat{pi} = pi\n",
    "            # N_samples x N_data\n",
    "            delta_log_pi = (\n",
    "                self.surrogate_distribution.log_prob(transformed)\n",
    "                - log_pi[:, tf.newaxis]\n",
    "            )\n",
    "            delta_log_pi = delta_log_pi - tf.reduce_max(\n",
    "                delta_log_pi, axis=0, keepdims=True\n",
    "            )\n",
    "            pass\n",
    "        else:\n",
    "            # we don't trust the variational approximation\n",
    "            # Need to compute log_pi directly by summing over the likelihood\n",
    "\n",
    "            ell_cross = tf.math.sigmoid(\n",
    "                tf.reduce_sum(beta_new[..., tf.newaxis, :] * X, -1) + intercept_new\n",
    "            )\n",
    "            ell_cross = tf.math.xlogy(y, ell_cross) + tf.math.xlogy(\n",
    "                1 - y, 1 - ell_cross\n",
    "            )\n",
    "            ell_cross = tf.math.reduce_sum(ell_cross, axis=-1)\n",
    "\n",
    "            log_prior_new = self.prior_distribution.log_prob_parts(transformed)\n",
    "            log_prior_new = log_prior_new[\"z\"] + log_prior_new[\"beta0\"]\n",
    "            log_pi_new = ell_cross\n",
    "            delta_log_prior = log_prior_new - log_prior[:, tf.newaxis]\n",
    "            # Incorporate the prior\n",
    "            delta_log_pi = log_pi_new - log_pi[:, tf.newaxis] + delta_log_prior\n",
    "\n",
    "        # regularize delta_log_pi\n",
    "\n",
    "        def regularize(tensor):\n",
    "            min_finite = tf.reduce_min(\n",
    "                tf.where(\n",
    "                    tf.math.is_finite(tensor),\n",
    "                    tensor,\n",
    "                    jnp.zeros_like(tensor),\n",
    "                )\n",
    "            )\n",
    "            return tf.where(\n",
    "                tf.math.is_finite(tensor),\n",
    "                tensor,\n",
    "                min_finite * jnp.ones_like(tensor),\n",
    "            )\n",
    "\n",
    "        delta_log_pi = regularize(delta_log_pi)\n",
    "        delta_log_pi -= tf.reduce_max(delta_log_pi, axis=0)\n",
    "        log_eta_weights = delta_log_pi - regularize(log_ell_new) + logJ\n",
    "        log_eta_weights = log_eta_weights - tf.reduce_max(log_eta_weights, axis=0)\n",
    "        psis_weights, khat = nppsis.psislw(log_eta_weights)\n",
    "\n",
    "        eta_weights = tf.math.exp(log_eta_weights)\n",
    "        eta_weights = eta_weights / tf.reduce_sum(eta_weights, axis=0, keepdims=True)\n",
    "\n",
    "        psis_weights = tf.math.exp(psis_weights)\n",
    "        psis_weights = psis_weights / tf.math.reduce_sum(\n",
    "            psis_weights, axis=0, keepdims=True\n",
    "        )\n",
    "\n",
    "        weight_entropy = self.entropy(eta_weights)\n",
    "        psis_entropy = self.entropy(psis_weights)\n",
    "\n",
    "        p_loo_new = tf.reduce_sum(sigma_new * eta_weights, axis=0)\n",
    "        p_loo_psis = tf.reduce_sum(sigma_new * psis_weights, axis=0)\n",
    "        p_loo_sd = tf.math.reduce_std(sigma_new * eta_weights, axis=0)\n",
    "        ll_loo_new = tf.reduce_sum(eta_weights * ell_new, axis=0)\n",
    "        ll_loo_psis = tf.reduce_sum(psis_weights * ell_new, axis=0)\n",
    "        ll_loo_sd = tf.math.reduce_std(eta_weights * ell_new, axis=0)\n",
    "        return (\n",
    "            eta_weights,\n",
    "            psis_weights,\n",
    "            p_loo_new,\n",
    "            p_loo_sd,\n",
    "            ll_loo_new,\n",
    "            ll_loo_sd,\n",
    "            weight_entropy,\n",
    "            khat,\n",
    "            p_loo_psis,\n",
    "            ll_loo_psis,\n",
    "        )\n",
    "\n",
    "    # log-likelihood descent\n",
    "\n",
    "    def T_ll(X, y, log_pi, beta_sd, intercept_sd, **kwargs):\n",
    "        mu = beta[..., tf.newaxis, :] * X\n",
    "        mu = tf.reduce_sum(mu, -1) + params[\"beta0\"]\n",
    "        sigma = tf.math.sigmoid(mu)\n",
    "\n",
    "        log_ell_prime = y * (1 - sigma) - (1 - y) * sigma\n",
    "\n",
    "        Q_beta = -log_ell_prime[..., tf.newaxis] * X\n",
    "        Q_intercept = -log_ell_prime[..., tf.newaxis]\n",
    "\n",
    "        standardized = tf.concat(\n",
    "            [Q_beta / beta_sd, Q_intercept / intercept_sd], axis=-1\n",
    "        )\n",
    "        standardized = tf.reduce_max(tf.math.abs(standardized), axis=-1)\n",
    "        standardized = tf.reduce_max(standardized, axis=0, keepdims=True)[\n",
    "            ..., tf.newaxis\n",
    "        ]\n",
    "\n",
    "        h = hbar / standardized\n",
    "        logJ = tf.math.log1p(\n",
    "            tf.math.abs(\n",
    "                h\n",
    "                * (1 + tf.math.reduce_sum(X**2, -1, keepdims=True))[tf.newaxis, :, :]\n",
    "                * (sigma * (1 - sigma))[..., tf.newaxis]\n",
    "            )[..., 0]\n",
    "        )\n",
    "        beta_ll = beta[..., tf.newaxis, :] + h * Q_beta\n",
    "        intercept_ll = intercept[..., tf.newaxis, :] + h * Q_intercept\n",
    "        return beta_ll, intercept_ll, logJ\n",
    "\n",
    "    def T_kl(X, y, log_pi, grad_log_pi, beta_sd, intercept_sd):\n",
    "        log_pi_ = log_pi - tf.reduce_max(log_pi, axis=0, keepdims=True)\n",
    "        mu = beta[..., tf.newaxis, :] * X\n",
    "        mu = tf.reduce_sum(mu, -1) + params[\"beta0\"]\n",
    "        Q_beta = ((-1) ** y * tf.math.exp(log_pi_[..., tf.newaxis] + mu * (1 - 2 * y)))[\n",
    "            ..., tf.newaxis\n",
    "        ] * X\n",
    "        Q_intercept = (\n",
    "            ((-1) ** y) * tf.math.exp(log_pi_[..., tf.newaxis] + mu * (1 - 2 * y))\n",
    "        )[..., tf.newaxis]\n",
    "\n",
    "        dQ = (-1) ** y[tf.newaxis, :] * tf.math.exp(\n",
    "            log_pi_[..., tf.newaxis] + mu * (1 - 2 * y[tf.newaxis, :])\n",
    "        )\n",
    "        dQ *= (\n",
    "            grad_log_pi[..., 0]\n",
    "            + (1 - 2 * y)[tf.newaxis, :]\n",
    "            + tf.reduce_sum(\n",
    "                X\n",
    "                * (\n",
    "                    grad_log_pi[..., 1:]\n",
    "                    + (1 - 2 * y)[:, tf.newaxis] * X[tf.newaxis, ...]\n",
    "                ),\n",
    "                axis=-1,\n",
    "            )\n",
    "        )\n",
    "\n",
    "        standardized = tf.concat(\n",
    "            [Q_beta / beta_sd, Q_intercept / intercept_sd], axis=-1\n",
    "        )\n",
    "        standardized = tf.reduce_max(tf.math.abs(standardized), axis=-1)\n",
    "        standardized = tf.reduce_max(standardized, axis=0, keepdims=True)[\n",
    "            ..., tf.newaxis\n",
    "        ]\n",
    "\n",
    "        h = hbar / standardized\n",
    "\n",
    "        intercept_kl = intercept[..., tf.newaxis] + h * Q_intercept\n",
    "        beta_kl = beta[..., tf.newaxis, :] + h * Q_beta\n",
    "\n",
    "        logJ = tf.math.log1p(tf.math.abs(h[..., 0] * dQ))\n",
    "        return beta_kl, intercept_kl, logJ\n",
    "\n",
    "    def T_I(X, y, **kwargs):\n",
    "        mu = beta[..., tf.newaxis, :] * X\n",
    "        mu = tf.reduce_sum(mu, -1) + params[\"beta0\"]\n",
    "        sigma = tf.math.sigmoid(mu)\n",
    "\n",
    "        log_ell = tf.math.xlogy(y, sigma) + tf.math.xlogy(1 - y, 1 - sigma)\n",
    "        Q = jnp.zeros_like(log_ell)\n",
    "        return (\n",
    "            beta[:, tf.newaxis, :] + Q[..., tf.newaxis],\n",
    "            intercept[..., tf.newaxis] + Q[..., tf.newaxis],\n",
    "            jnp.zeros_like(Q),\n",
    "        )\n",
    "\n",
    "    def T_var(X, y, log_pi, grad_log_pi, beta_sd, intercept_sd, **kwargs):\n",
    "        log_pi_ = log_pi - tf.reduce_max(log_pi, axis=0, keepdims=True)\n",
    "        mu = beta[..., tf.newaxis, :] * X\n",
    "        mu = tf.reduce_sum(mu, -1) + params[\"beta0\"]\n",
    "        Q_beta = (\n",
    "            (-1) ** y * tf.math.exp(log_pi_[..., tf.newaxis] + 2 * mu * (1 - 2 * y))\n",
    "        )[..., tf.newaxis] * X\n",
    "        Q_intercept = (\n",
    "            (-1) ** y * tf.math.exp(log_pi_[..., tf.newaxis] + 2 * mu * (1 - 2 * y))\n",
    "        )[..., tf.newaxis]\n",
    "\n",
    "        dQ = (\n",
    "            (-1) ** y[tf.newaxis, :]\n",
    "            * tf.math.exp(\n",
    "                log_pi_[..., tf.newaxis] + 2 * mu * (1 - 2 * y[tf.newaxis, :])\n",
    "            )\n",
    "            * (\n",
    "                grad_log_pi[..., 0]\n",
    "                + (1 - 2 * y)[tf.newaxis, :]\n",
    "                + tf.reduce_sum(\n",
    "                    X * (grad_log_pi[..., 1:] + 2 * (1 - 2 * y)[:, tf.newaxis] * X),\n",
    "                    axis=-1,\n",
    "                )\n",
    "            )\n",
    "        )\n",
    "\n",
    "        standardized = tf.concat(\n",
    "            [Q_beta / beta_sd, Q_intercept / intercept_sd], axis=-1\n",
    "        )\n",
    "        standardized = tf.reduce_max(tf.math.abs(standardized), axis=-1)\n",
    "        standardized = tf.reduce_max(standardized, axis=0, keepdims=True)[\n",
    "            ..., tf.newaxis\n",
    "        ]\n",
    "\n",
    "        h = hbar / standardized\n",
    "\n",
    "        intercept_kl = intercept[..., tf.newaxis, :] + h * Q_intercept\n",
    "        beta_kl = beta[..., tf.newaxis, :] + h * Q_beta\n",
    "\n",
    "        logJ = tf.math.log1p(tf.math.abs(h[..., 0] * dQ))\n",
    "        return beta_kl, intercept_kl, logJ\n",
    "\n",
    "    def T_MM1(X, y, **kwargs):\n",
    "        c = self.slab_scale * tf.math.sqrt(params[\"caux\"])\n",
    "        lambda_tilde = tf.math.abs(c) / tf.math.sqrt(\n",
    "            (c / params[\"lambda\"]) ** 2 + params[\"tau\"] ** 2\n",
    "        )\n",
    "        beta = params[\"z\"] * lambda_tilde * params[\"tau\"]\n",
    "        mu = beta[..., tf.newaxis, :] * X\n",
    "        mu = tf.reduce_sum(mu, -1) + params[\"beta0\"]\n",
    "        sigma = tf.math.sigmoid(mu)\n",
    "        ell = y * (sigma) + (1 - y) * (1 - sigma)  # S x N\n",
    "\n",
    "        weights = (\n",
    "            1\n",
    "            / ell[..., tf.newaxis]\n",
    "            / tf.reduce_sum(1 / ell[..., tf.newaxis], axis=0, keepdims=True)\n",
    "        )\n",
    "\n",
    "        def theta_hat(param):  # param is S x K\n",
    "            hat = tf.reduce_mean(param[:, tf.newaxis, ...], axis=0, keepdims=True)\n",
    "            hat_w = param[:, tf.newaxis, ...] * weights\n",
    "            hat_w = tf.reduce_sum(hat_w, axis=0, keepdims=True)\n",
    "            v = tf.reduce_mean((param[:, tf.newaxis, ...] - hat) ** 2)\n",
    "            v_w = tf.reduce_sum(\n",
    "                weights * (param[:, tf.newaxis, ...] - hat) ** 2, axis=0, keepdims=True\n",
    "            )\n",
    "            return hat, hat_w, v, v_w\n",
    "\n",
    "        beta_hat, beta_hat_w, beta_v, beta_v_w = theta_hat(beta)\n",
    "        beta0_hat, beta0_hat_w, beta0_v, beta0_v_w = theta_hat(params[\"beta0\"])\n",
    "\n",
    "        # tf.math.exp(0.5*(tf.math.log(beta_v_w) - tf.math.log(beta_v)))-tf.math.sqrt(beta_v_w / beta_v)\n",
    "\n",
    "        beta_adj = beta[:, tf.newaxis, ...] + hbar * (-beta_hat + beta_hat_w)\n",
    "        beta0_adj = params[\"beta0\"][:, tf.newaxis, ...] + hbar * (\n",
    "            -beta0_hat + beta0_hat_w\n",
    "        )\n",
    "\n",
    "        # shift by mean\n",
    "        return beta_adj, beta0_adj, jnp.zeros_like(ell)\n",
    "\n",
    "    def T_MM2(X, y, **kwargs):\n",
    "        c = self.slab_scale * tf.math.sqrt(params[\"caux\"])\n",
    "        lambda_tilde = tf.math.abs(c) / tf.math.sqrt(\n",
    "            (c / params[\"lambda\"]) ** 2 + params[\"tau\"] ** 2\n",
    "        )\n",
    "        beta = params[\"z\"] * lambda_tilde * params[\"tau\"]\n",
    "        mu = beta[..., tf.newaxis, :] * X\n",
    "        mu = tf.reduce_sum(mu, -1) + params[\"beta0\"]\n",
    "        sigma = tf.math.sigmoid(mu)\n",
    "        ell = y * (sigma) + (1 - y) * (1 - sigma)  # S x N\n",
    "\n",
    "        weights = (\n",
    "            1\n",
    "            / ell[..., tf.newaxis]\n",
    "            / tf.reduce_sum(1 / ell[..., tf.newaxis], axis=0, keepdims=True)\n",
    "        )\n",
    "\n",
    "        def theta_hat(param):  # param is S x K\n",
    "            hat = tf.reduce_mean(param[:, tf.newaxis, ...], axis=0, keepdims=True)\n",
    "            hat_w = param[:, tf.newaxis, ...] * weights\n",
    "            hat_w = tf.reduce_sum(hat_w, axis=0, keepdims=True)\n",
    "            v = tf.reduce_mean((param[:, tf.newaxis, ...] - hat) ** 2)\n",
    "            v_w = tf.reduce_sum(\n",
    "                weights * (param[:, tf.newaxis, ...] - hat) ** 2, axis=0, keepdims=True\n",
    "            )\n",
    "            return hat, hat_w, v, v_w\n",
    "\n",
    "        beta_hat, beta_hat_w, beta_v, beta_v_w = theta_hat(beta)\n",
    "        beta0_hat, beta0_hat_w, beta0_v, beta0_v_w = theta_hat(params[\"beta0\"])\n",
    "\n",
    "        # tf.math.exp(0.5*(tf.math.log(beta_v_w) - tf.math.log(beta_v)))-tf.math.sqrt(beta_v_w / beta_v)\n",
    "\n",
    "        beta_adj = beta[:, tf.newaxis, ...] + hbar * (\n",
    "            (tf.math.sqrt(beta_v_w / beta_v) - 1) * beta[:, tf.newaxis, ...]\n",
    "            - tf.math.sqrt(beta_v_w / beta_v) * beta_hat\n",
    "            + beta_hat_w\n",
    "        )\n",
    "        beta0_adj = params[\"beta0\"][:, tf.newaxis, ...] + hbar * (\n",
    "            (tf.math.sqrt(beta0_v_w / beta0_v) - 1)\n",
    "            * params[\"beta0\"][:, tf.newaxis, ...]\n",
    "            - tf.math.sqrt(beta0_v_w / beta0_v) * beta0_hat\n",
    "            + beta0_hat_w\n",
    "        )\n",
    "\n",
    "        lJ = tf.math.log(\n",
    "            1\n",
    "            + hbar\n",
    "            * (\n",
    "                beta.shape[-1]\n",
    "                * jnp.ones_like(ell)\n",
    "                * (tf.math.sqrt(beta0_v_w / beta0_v) - 1)[..., 0]\n",
    "            )\n",
    "        )\n",
    "        lJ += tf.math.log(1 + hbar * (tf.math.sqrt(beta0_v_w / beta0_v) - 1)[..., 0])\n",
    "\n",
    "        # shift by mean\n",
    "        return beta_adj, beta0_adj, lJ\n",
    "\n",
    "    X_ = tf.gather(_X, ndx_to_leave)\n",
    "    y_ = tf.gather(_y, ndx_to_leave)\n",
    "    (\n",
    "        eta_I,\n",
    "        eta_I_psis,\n",
    "        p_loo_I,\n",
    "        p_loo_I_sd,\n",
    "        ll_loo_I,\n",
    "        ll_loo_I_sd,\n",
    "        S_I,\n",
    "        k_I,\n",
    "        p_psis_I,\n",
    "        ll_psis_I,\n",
    "    ) = IS(T_I, X_, y_)\n",
    "\n",
    "    out = {\n",
    "        \"I0\": {\n",
    "            \"p_loo\": p_loo_I,\n",
    "            \"p_loo_sd\": p_loo_I_sd,\n",
    "            \"ll_loo\": ll_loo_I,\n",
    "            \"ll_loo_sd\": ll_loo_I_sd,\n",
    "            \"S\": S_I,\n",
    "            \"khat\": k_I,\n",
    "            \"p_psis\": p_psis_I,\n",
    "            \"ll_psis\": ll_psis_I,\n",
    "            \"ndx\": ndx_to_leave,\n",
    "        }\n",
    "    }\n",
    "\n",
    "    transforms = {\n",
    "        \"MM1\": T_MM1,\n",
    "        \"MM2\": T_MM2,\n",
    "        \"I\": T_I,\n",
    "        \"KL\": T_kl,\n",
    "        \"Var\": T_var,\n",
    "        \"LL\": T_ll,\n",
    "    }\n",
    "\n",
    "    X_ = tf.gather(_X, ndx_to_transform)\n",
    "    y_ = tf.gather(_y, ndx_to_transform)\n",
    "    for lab, fun in transforms.items():\n",
    "        (\n",
    "            eta_,\n",
    "            eta_psis_,\n",
    "            p_loo_,\n",
    "            p_loo_sd_,\n",
    "            ll_loo_,\n",
    "            ll_loo_s_d,\n",
    "            S_,\n",
    "            k_,\n",
    "            p_psis_,\n",
    "            ll_psis_,\n",
    "        ) = IS(fun, X_, y_)\n",
    "\n",
    "        out = {\n",
    "            **out,\n",
    "            lab: {\n",
    "                \"p_loo\": p_loo_,\n",
    "                \"p_loo_sd\": p_loo_sd_,\n",
    "                \"ll_loo\": ll_loo_,\n",
    "                \"ll_loo_sd\": ll_loo_s_d,\n",
    "                \"S\": S_,\n",
    "                \"khat\": k_,\n",
    "                \"p_psis\": p_psis_,\n",
    "                \"ll_psis\": ll_psis_,\n",
    "                \"ndx\": ndx_to_transform,\n",
    "            },\n",
    "        }\n",
    "\n",
    "    return {**out, \"ndx_transformed\": ndx_to_transform}\n",
    "\n",
    "\n",
    "nparams = 64\n",
    "loo = adaptive_is_loo(\n",
    "    lr_model,\n",
    "    batch,\n",
    "    {k: v[:nparams, ...] for k, v in params.items()},\n",
    "    1e-5,\n",
    "    variational=False,\n",
    ")\n",
    "\n",
    "# loo = adaptive_is_loo(lr_model, test_batch, param_test, 0.01, variational=False)\n",
    "\n",
    "\n",
    "for T in [\"I\", \"LL\", \"KL\", \"Var\", \"MM1\", \"MM2\"]:\n",
    "    print(\n",
    "        f\"{T}: {np.sqrt(np.sum(loo[T]['p_loo_sd']**2))} entropy: {np.sqrt(np.sum(loo[T]['S']))} khat>0.7: {np.sum(loo[T]['khat']>0.7)}\"\n",
    "    )"
   ]
  },
  {
   "cell_type": "code",
   "execution_count": 26,
   "metadata": {},
   "outputs": [
    {
     "name": "stderr",
     "output_type": "stream",
     "text": [
      "  0%|          | 0/1 [00:00<?, ?it/s]2024-12-03 16:18:40.267994: W external/local_xla/xla/tsl/framework/cpu_allocator_impl.cc:83] Allocation of 2179872000 exceeds 10% of free system memory.\n",
      "2024-12-03 16:18:41.598479: W external/local_xla/xla/tsl/framework/cpu_allocator_impl.cc:83] Allocation of 2179872000 exceeds 10% of free system memory.\n",
      "2024-12-03 16:18:42.678868: W external/local_xla/xla/tsl/framework/cpu_allocator_impl.cc:83] Allocation of 2179872000 exceeds 10% of free system memory.\n",
      "2024-12-03 16:18:43.742391: W external/local_xla/xla/tsl/framework/cpu_allocator_impl.cc:83] Allocation of 2179872000 exceeds 10% of free system memory.\n",
      "2024-12-03 16:18:44.805255: W external/local_xla/xla/tsl/framework/cpu_allocator_impl.cc:83] Allocation of 2179872000 exceeds 10% of free system memory.\n",
      "100%|██████████| 1/1 [00:12<00:00, 12.18s/it]"
     ]
    },
    {
     "name": "stdout",
     "output_type": "stream",
     "text": [
      "{1000: {1: {'I0': [np.int64(0), np.int64(1), np.int64(2), np.int64(3), np.int64(4), np.int64(5), np.int64(6), np.int64(7), np.int64(8), np.int64(9), np.int64(10), np.int64(11), np.int64(12), np.int64(13), np.int64(14), np.int64(16), np.int64(17), np.int64(18), np.int64(19), np.int64(20), np.int64(21), np.int64(22), np.int64(23), np.int64(24), np.int64(25), np.int64(26), np.int64(27), np.int64(28), np.int64(29), np.int64(30), np.int64(31), np.int64(32), np.int64(33), np.int64(34), np.int64(35), np.int64(36), np.int64(37), np.int64(38), np.int64(39), np.int64(40), np.int64(41), np.int64(42), np.int64(43), np.int64(44), np.int64(45), np.int64(46), np.int64(47), np.int64(48), np.int64(49), np.int64(50), np.int64(51), np.int64(52), np.int64(53), np.int64(54), np.int64(55), np.int64(56), np.int64(57), np.int64(58), np.int64(59), np.int64(60), np.int64(61), np.int64(62), np.int64(63), np.int64(64), np.int64(65), np.int64(66), np.int64(67), np.int64(68), np.int64(69), np.int64(70), np.int64(71), np.int64(72), np.int64(73), np.int64(74), np.int64(75), np.int64(76), np.int64(77), np.int64(78), np.int64(79), np.int64(80), np.int64(81), np.int64(82), np.int64(83), np.int64(84), np.int64(85), np.int64(86), np.int64(87), np.int64(88), np.int64(89), np.int64(90), np.int64(91), np.int64(92), np.int64(93), np.int64(94), np.int64(95), np.int64(96), np.int64(97), np.int64(98), np.int64(99), np.int64(100), np.int64(101), np.int64(102), np.int64(103), np.int64(104), np.int64(105), np.int64(106), np.int64(107), np.int64(108), np.int64(109), np.int64(110), np.int64(111), np.int64(112), np.int64(113), np.int64(114), np.int64(115), np.int64(116), np.int64(117), np.int64(118), np.int64(119), np.int64(120), np.int64(121), np.int64(122), np.int64(123), np.int64(124), np.int64(125), np.int64(126), np.int64(127), np.int64(128), np.int64(129), np.int64(130), np.int64(131), np.int64(132), np.int64(133), np.int64(134), np.int64(135), np.int64(136), np.int64(137), np.int64(138), np.int64(139), np.int64(140), np.int64(141), np.int64(142), np.int64(143), np.int64(144), np.int64(145), np.int64(146), np.int64(147), np.int64(148), np.int64(149), np.int64(150), np.int64(151), np.int64(152), np.int64(153), np.int64(154), np.int64(155), np.int64(156), np.int64(157), np.int64(158), np.int64(159), np.int64(160), np.int64(161), np.int64(162), np.int64(163), np.int64(164), np.int64(165), np.int64(166), np.int64(167), np.int64(168), np.int64(169), np.int64(170), np.int64(171), np.int64(172), np.int64(173), np.int64(174), np.int64(175), np.int64(176), np.int64(177), np.int64(178), np.int64(179), np.int64(180), np.int64(181), np.int64(182), np.int64(183), np.int64(184), np.int64(185), np.int64(186), np.int64(187), np.int64(188), np.int64(189), np.int64(190), np.int64(191), np.int64(192), np.int64(193), np.int64(194), np.int64(195), np.int64(196), np.int64(197), np.int64(198), np.int64(199), np.int64(200), np.int64(201), np.int64(202), np.int64(203), np.int64(204), np.int64(205), np.int64(206), np.int64(207), np.int64(208), np.int64(209), np.int64(210), np.int64(211), np.int64(212), np.int64(213), np.int64(214), np.int64(215), np.int64(216), np.int64(217), np.int64(218), np.int64(219), np.int64(220), np.int64(221), np.int64(222), np.int64(223), np.int64(224), np.int64(225), np.int64(226), np.int64(227), np.int64(228), np.int64(229), np.int64(230), np.int64(231), np.int64(232), np.int64(233), np.int64(234), np.int64(235), np.int64(236), np.int64(237), np.int64(238), np.int64(239), np.int64(240), np.int64(241), np.int64(242), np.int64(243), np.int64(244), np.int64(245), np.int64(246), np.int64(247), np.int64(248), np.int64(249), np.int64(250), np.int64(251), np.int64(252), np.int64(253), np.int64(254), np.int64(255), np.int64(256), np.int64(257), np.int64(258), np.int64(259), np.int64(260), np.int64(261)], 'I': [], 'LL': [], 'KL': [], 'Var': [], 'MM1': [], 'MM2': []}, 0.25: {'I0': [np.int64(0), np.int64(1), np.int64(2), np.int64(3), np.int64(4), np.int64(5), np.int64(6), np.int64(7), np.int64(8), np.int64(9), np.int64(10), np.int64(11), np.int64(12), np.int64(13), np.int64(14), np.int64(16), np.int64(17), np.int64(18), np.int64(19), np.int64(20), np.int64(21), np.int64(22), np.int64(23), np.int64(24), np.int64(25), np.int64(26), np.int64(27), np.int64(28), np.int64(29), np.int64(30), np.int64(31), np.int64(32), np.int64(33), np.int64(34), np.int64(35), np.int64(36), np.int64(37), np.int64(38), np.int64(39), np.int64(40), np.int64(41), np.int64(42), np.int64(43), np.int64(44), np.int64(45), np.int64(46), np.int64(47), np.int64(48), np.int64(49), np.int64(50), np.int64(51), np.int64(52), np.int64(53), np.int64(54), np.int64(55), np.int64(56), np.int64(57), np.int64(58), np.int64(59), np.int64(60), np.int64(61), np.int64(62), np.int64(63), np.int64(64), np.int64(65), np.int64(66), np.int64(67), np.int64(68), np.int64(69), np.int64(70), np.int64(71), np.int64(72), np.int64(73), np.int64(74), np.int64(75), np.int64(76), np.int64(77), np.int64(78), np.int64(79), np.int64(80), np.int64(81), np.int64(82), np.int64(83), np.int64(84), np.int64(85), np.int64(86), np.int64(87), np.int64(88), np.int64(89), np.int64(90), np.int64(91), np.int64(92), np.int64(93), np.int64(94), np.int64(95), np.int64(96), np.int64(97), np.int64(98), np.int64(99), np.int64(100), np.int64(101), np.int64(102), np.int64(103), np.int64(104), np.int64(105), np.int64(106), np.int64(107), np.int64(108), np.int64(109), np.int64(110), np.int64(111), np.int64(112), np.int64(113), np.int64(114), np.int64(115), np.int64(116), np.int64(117), np.int64(118), np.int64(119), np.int64(120), np.int64(121), np.int64(122), np.int64(123), np.int64(124), np.int64(125), np.int64(126), np.int64(127), np.int64(128), np.int64(129), np.int64(130), np.int64(131), np.int64(132), np.int64(133), np.int64(134), np.int64(135), np.int64(136), np.int64(137), np.int64(138), np.int64(139), np.int64(140), np.int64(141), np.int64(142), np.int64(143), np.int64(144), np.int64(145), np.int64(146), np.int64(147), np.int64(148), np.int64(149), np.int64(150), np.int64(151), np.int64(152), np.int64(153), np.int64(154), np.int64(155), np.int64(156), np.int64(157), np.int64(158), np.int64(159), np.int64(160), np.int64(161), np.int64(162), np.int64(163), np.int64(164), np.int64(165), np.int64(166), np.int64(167), np.int64(168), np.int64(169), np.int64(170), np.int64(171), np.int64(172), np.int64(173), np.int64(174), np.int64(175), np.int64(176), np.int64(177), np.int64(178), np.int64(179), np.int64(180), np.int64(181), np.int64(182), np.int64(183), np.int64(184), np.int64(185), np.int64(186), np.int64(187), np.int64(188), np.int64(189), np.int64(190), np.int64(191), np.int64(192), np.int64(193), np.int64(194), np.int64(195), np.int64(196), np.int64(197), np.int64(198), np.int64(199), np.int64(200), np.int64(201), np.int64(202), np.int64(203), np.int64(204), np.int64(205), np.int64(206), np.int64(207), np.int64(208), np.int64(209), np.int64(210), np.int64(211), np.int64(212), np.int64(213), np.int64(214), np.int64(215), np.int64(216), np.int64(217), np.int64(218), np.int64(219), np.int64(220), np.int64(221), np.int64(222), np.int64(223), np.int64(224), np.int64(225), np.int64(226), np.int64(227), np.int64(228), np.int64(229), np.int64(230), np.int64(231), np.int64(232), np.int64(233), np.int64(234), np.int64(235), np.int64(236), np.int64(237), np.int64(238), np.int64(239), np.int64(240), np.int64(241), np.int64(242), np.int64(243), np.int64(244), np.int64(245), np.int64(246), np.int64(247), np.int64(248), np.int64(249), np.int64(250), np.int64(251), np.int64(252), np.int64(253), np.int64(254), np.int64(255), np.int64(256), np.int64(257), np.int64(258), np.int64(259), np.int64(260), np.int64(261)], 'I': [], 'LL': [], 'KL': [], 'Var': [], 'MM1': [], 'MM2': []}, 0.0625: {'I0': [np.int64(0), np.int64(1), np.int64(2), np.int64(3), np.int64(4), np.int64(5), np.int64(6), np.int64(7), np.int64(8), np.int64(9), np.int64(10), np.int64(11), np.int64(12), np.int64(13), np.int64(14), np.int64(16), np.int64(17), np.int64(18), np.int64(19), np.int64(20), np.int64(21), np.int64(22), np.int64(23), np.int64(24), np.int64(25), np.int64(26), np.int64(27), np.int64(28), np.int64(29), np.int64(30), np.int64(31), np.int64(32), np.int64(33), np.int64(34), np.int64(35), np.int64(36), np.int64(37), np.int64(38), np.int64(39), np.int64(40), np.int64(41), np.int64(42), np.int64(43), np.int64(44), np.int64(45), np.int64(46), np.int64(47), np.int64(48), np.int64(49), np.int64(50), np.int64(51), np.int64(52), np.int64(53), np.int64(54), np.int64(55), np.int64(56), np.int64(57), np.int64(58), np.int64(59), np.int64(60), np.int64(61), np.int64(62), np.int64(63), np.int64(64), np.int64(65), np.int64(66), np.int64(67), np.int64(68), np.int64(69), np.int64(70), np.int64(71), np.int64(72), np.int64(73), np.int64(74), np.int64(75), np.int64(76), np.int64(77), np.int64(78), np.int64(79), np.int64(80), np.int64(81), np.int64(82), np.int64(83), np.int64(84), np.int64(85), np.int64(86), np.int64(87), np.int64(88), np.int64(89), np.int64(90), np.int64(91), np.int64(92), np.int64(93), np.int64(94), np.int64(95), np.int64(96), np.int64(97), np.int64(98), np.int64(99), np.int64(100), np.int64(101), np.int64(102), np.int64(103), np.int64(104), np.int64(105), np.int64(106), np.int64(107), np.int64(108), np.int64(109), np.int64(110), np.int64(111), np.int64(112), np.int64(113), np.int64(114), np.int64(115), np.int64(116), np.int64(117), np.int64(118), np.int64(119), np.int64(120), np.int64(121), np.int64(122), np.int64(123), np.int64(124), np.int64(125), np.int64(126), np.int64(127), np.int64(128), np.int64(129), np.int64(130), np.int64(131), np.int64(132), np.int64(133), np.int64(134), np.int64(135), np.int64(136), np.int64(137), np.int64(138), np.int64(139), np.int64(140), np.int64(141), np.int64(142), np.int64(143), np.int64(144), np.int64(145), np.int64(146), np.int64(147), np.int64(148), np.int64(149), np.int64(150), np.int64(151), np.int64(152), np.int64(153), np.int64(154), np.int64(155), np.int64(156), np.int64(157), np.int64(158), np.int64(159), np.int64(160), np.int64(161), np.int64(162), np.int64(163), np.int64(164), np.int64(165), np.int64(166), np.int64(167), np.int64(168), np.int64(169), np.int64(170), np.int64(171), np.int64(172), np.int64(173), np.int64(174), np.int64(175), np.int64(176), np.int64(177), np.int64(178), np.int64(179), np.int64(180), np.int64(181), np.int64(182), np.int64(183), np.int64(184), np.int64(185), np.int64(186), np.int64(187), np.int64(188), np.int64(189), np.int64(190), np.int64(191), np.int64(192), np.int64(193), np.int64(194), np.int64(195), np.int64(196), np.int64(197), np.int64(198), np.int64(199), np.int64(200), np.int64(201), np.int64(202), np.int64(203), np.int64(204), np.int64(205), np.int64(206), np.int64(207), np.int64(208), np.int64(209), np.int64(210), np.int64(211), np.int64(212), np.int64(213), np.int64(214), np.int64(215), np.int64(216), np.int64(217), np.int64(218), np.int64(219), np.int64(220), np.int64(221), np.int64(222), np.int64(223), np.int64(224), np.int64(225), np.int64(226), np.int64(227), np.int64(228), np.int64(229), np.int64(230), np.int64(231), np.int64(232), np.int64(233), np.int64(234), np.int64(235), np.int64(236), np.int64(237), np.int64(238), np.int64(239), np.int64(240), np.int64(241), np.int64(242), np.int64(243), np.int64(244), np.int64(245), np.int64(246), np.int64(247), np.int64(248), np.int64(249), np.int64(250), np.int64(251), np.int64(252), np.int64(253), np.int64(254), np.int64(255), np.int64(256), np.int64(257), np.int64(258), np.int64(259), np.int64(260), np.int64(261)], 'I': [], 'LL': [], 'KL': [], 'Var': [], 'MM1': [], 'MM2': [np.int64(15)]}, 0.015625: {'I0': [np.int64(0), np.int64(1), np.int64(2), np.int64(3), np.int64(4), np.int64(5), np.int64(6), np.int64(7), np.int64(8), np.int64(9), np.int64(10), np.int64(11), np.int64(12), np.int64(13), np.int64(14), np.int64(16), np.int64(17), np.int64(18), np.int64(19), np.int64(20), np.int64(21), np.int64(22), np.int64(23), np.int64(24), np.int64(25), np.int64(26), np.int64(27), np.int64(28), np.int64(29), np.int64(30), np.int64(31), np.int64(32), np.int64(33), np.int64(34), np.int64(35), np.int64(36), np.int64(37), np.int64(38), np.int64(39), np.int64(40), np.int64(41), np.int64(42), np.int64(43), np.int64(44), np.int64(45), np.int64(46), np.int64(47), np.int64(48), np.int64(49), np.int64(50), np.int64(51), np.int64(52), np.int64(53), np.int64(54), np.int64(55), np.int64(56), np.int64(57), np.int64(58), np.int64(59), np.int64(60), np.int64(61), np.int64(62), np.int64(63), np.int64(64), np.int64(65), np.int64(66), np.int64(67), np.int64(68), np.int64(69), np.int64(70), np.int64(71), np.int64(72), np.int64(73), np.int64(74), np.int64(75), np.int64(76), np.int64(77), np.int64(78), np.int64(79), np.int64(80), np.int64(81), np.int64(82), np.int64(83), np.int64(84), np.int64(85), np.int64(86), np.int64(87), np.int64(88), np.int64(89), np.int64(90), np.int64(91), np.int64(92), np.int64(93), np.int64(94), np.int64(95), np.int64(96), np.int64(97), np.int64(98), np.int64(99), np.int64(100), np.int64(101), np.int64(102), np.int64(103), np.int64(104), np.int64(105), np.int64(106), np.int64(107), np.int64(108), np.int64(109), np.int64(110), np.int64(111), np.int64(112), np.int64(113), np.int64(114), np.int64(115), np.int64(116), np.int64(117), np.int64(118), np.int64(119), np.int64(120), np.int64(121), np.int64(122), np.int64(123), np.int64(124), np.int64(125), np.int64(126), np.int64(127), np.int64(128), np.int64(129), np.int64(130), np.int64(131), np.int64(132), np.int64(133), np.int64(134), np.int64(135), np.int64(136), np.int64(137), np.int64(138), np.int64(139), np.int64(140), np.int64(141), np.int64(142), np.int64(143), np.int64(144), np.int64(145), np.int64(146), np.int64(147), np.int64(148), np.int64(149), np.int64(150), np.int64(151), np.int64(152), np.int64(153), np.int64(154), np.int64(155), np.int64(156), np.int64(157), np.int64(158), np.int64(159), np.int64(160), np.int64(161), np.int64(162), np.int64(163), np.int64(164), np.int64(165), np.int64(166), np.int64(167), np.int64(168), np.int64(169), np.int64(170), np.int64(171), np.int64(172), np.int64(173), np.int64(174), np.int64(175), np.int64(176), np.int64(177), np.int64(178), np.int64(179), np.int64(180), np.int64(181), np.int64(182), np.int64(183), np.int64(184), np.int64(185), np.int64(186), np.int64(187), np.int64(188), np.int64(189), np.int64(190), np.int64(191), np.int64(192), np.int64(193), np.int64(194), np.int64(195), np.int64(196), np.int64(197), np.int64(198), np.int64(199), np.int64(200), np.int64(201), np.int64(202), np.int64(203), np.int64(204), np.int64(205), np.int64(206), np.int64(207), np.int64(208), np.int64(209), np.int64(210), np.int64(211), np.int64(212), np.int64(213), np.int64(214), np.int64(215), np.int64(216), np.int64(217), np.int64(218), np.int64(219), np.int64(220), np.int64(221), np.int64(222), np.int64(223), np.int64(224), np.int64(225), np.int64(226), np.int64(227), np.int64(228), np.int64(229), np.int64(230), np.int64(231), np.int64(232), np.int64(233), np.int64(234), np.int64(235), np.int64(236), np.int64(237), np.int64(238), np.int64(239), np.int64(240), np.int64(241), np.int64(242), np.int64(243), np.int64(244), np.int64(245), np.int64(246), np.int64(247), np.int64(248), np.int64(249), np.int64(250), np.int64(251), np.int64(252), np.int64(253), np.int64(254), np.int64(255), np.int64(256), np.int64(257), np.int64(258), np.int64(259), np.int64(260), np.int64(261)], 'I': [], 'LL': [], 'KL': [], 'Var': [], 'MM1': [], 'MM2': []}, 0.00390625: {'I0': [np.int64(0), np.int64(1), np.int64(2), np.int64(3), np.int64(4), np.int64(5), np.int64(6), np.int64(7), np.int64(8), np.int64(9), np.int64(10), np.int64(11), np.int64(12), np.int64(13), np.int64(14), np.int64(16), np.int64(17), np.int64(18), np.int64(19), np.int64(20), np.int64(21), np.int64(22), np.int64(23), np.int64(24), np.int64(25), np.int64(26), np.int64(27), np.int64(28), np.int64(29), np.int64(30), np.int64(31), np.int64(32), np.int64(33), np.int64(34), np.int64(35), np.int64(36), np.int64(37), np.int64(38), np.int64(39), np.int64(40), np.int64(41), np.int64(42), np.int64(43), np.int64(44), np.int64(45), np.int64(46), np.int64(47), np.int64(48), np.int64(49), np.int64(50), np.int64(51), np.int64(52), np.int64(53), np.int64(54), np.int64(55), np.int64(56), np.int64(57), np.int64(58), np.int64(59), np.int64(60), np.int64(61), np.int64(62), np.int64(63), np.int64(64), np.int64(65), np.int64(66), np.int64(67), np.int64(68), np.int64(69), np.int64(70), np.int64(71), np.int64(72), np.int64(73), np.int64(74), np.int64(75), np.int64(76), np.int64(77), np.int64(78), np.int64(79), np.int64(80), np.int64(81), np.int64(82), np.int64(83), np.int64(84), np.int64(85), np.int64(86), np.int64(87), np.int64(88), np.int64(89), np.int64(90), np.int64(91), np.int64(92), np.int64(93), np.int64(94), np.int64(95), np.int64(96), np.int64(97), np.int64(98), np.int64(99), np.int64(100), np.int64(101), np.int64(102), np.int64(103), np.int64(104), np.int64(105), np.int64(106), np.int64(107), np.int64(108), np.int64(109), np.int64(110), np.int64(111), np.int64(112), np.int64(113), np.int64(114), np.int64(115), np.int64(116), np.int64(117), np.int64(118), np.int64(119), np.int64(120), np.int64(121), np.int64(122), np.int64(123), np.int64(124), np.int64(125), np.int64(126), np.int64(127), np.int64(128), np.int64(129), np.int64(130), np.int64(131), np.int64(132), np.int64(133), np.int64(134), np.int64(135), np.int64(136), np.int64(137), np.int64(138), np.int64(139), np.int64(140), np.int64(141), np.int64(142), np.int64(143), np.int64(144), np.int64(145), np.int64(146), np.int64(147), np.int64(148), np.int64(149), np.int64(150), np.int64(151), np.int64(152), np.int64(153), np.int64(154), np.int64(155), np.int64(156), np.int64(157), np.int64(158), np.int64(159), np.int64(160), np.int64(161), np.int64(162), np.int64(163), np.int64(164), np.int64(165), np.int64(166), np.int64(167), np.int64(168), np.int64(169), np.int64(170), np.int64(171), np.int64(172), np.int64(173), np.int64(174), np.int64(175), np.int64(176), np.int64(177), np.int64(178), np.int64(179), np.int64(180), np.int64(181), np.int64(182), np.int64(183), np.int64(184), np.int64(185), np.int64(186), np.int64(187), np.int64(188), np.int64(189), np.int64(190), np.int64(191), np.int64(192), np.int64(193), np.int64(194), np.int64(195), np.int64(196), np.int64(197), np.int64(198), np.int64(199), np.int64(200), np.int64(201), np.int64(202), np.int64(203), np.int64(204), np.int64(205), np.int64(206), np.int64(207), np.int64(208), np.int64(209), np.int64(210), np.int64(211), np.int64(212), np.int64(213), np.int64(214), np.int64(215), np.int64(216), np.int64(217), np.int64(218), np.int64(219), np.int64(220), np.int64(221), np.int64(222), np.int64(223), np.int64(224), np.int64(225), np.int64(226), np.int64(227), np.int64(228), np.int64(229), np.int64(230), np.int64(231), np.int64(232), np.int64(233), np.int64(234), np.int64(235), np.int64(236), np.int64(237), np.int64(238), np.int64(239), np.int64(240), np.int64(241), np.int64(242), np.int64(243), np.int64(244), np.int64(245), np.int64(246), np.int64(247), np.int64(248), np.int64(249), np.int64(250), np.int64(251), np.int64(252), np.int64(253), np.int64(254), np.int64(255), np.int64(256), np.int64(257), np.int64(258), np.int64(259), np.int64(260), np.int64(261)], 'I': [], 'LL': [], 'KL': [], 'Var': [], 'MM1': [], 'MM2': []}, 0.0009765625: {'I0': [np.int64(0), np.int64(1), np.int64(2), np.int64(3), np.int64(4), np.int64(5), np.int64(6), np.int64(7), np.int64(8), np.int64(9), np.int64(10), np.int64(11), np.int64(12), np.int64(13), np.int64(14), np.int64(16), np.int64(17), np.int64(18), np.int64(19), np.int64(20), np.int64(21), np.int64(22), np.int64(23), np.int64(24), np.int64(25), np.int64(26), np.int64(27), np.int64(28), np.int64(29), np.int64(30), np.int64(31), np.int64(32), np.int64(33), np.int64(34), np.int64(35), np.int64(36), np.int64(37), np.int64(38), np.int64(39), np.int64(40), np.int64(41), np.int64(42), np.int64(43), np.int64(44), np.int64(45), np.int64(46), np.int64(47), np.int64(48), np.int64(49), np.int64(50), np.int64(51), np.int64(52), np.int64(53), np.int64(54), np.int64(55), np.int64(56), np.int64(57), np.int64(58), np.int64(59), np.int64(60), np.int64(61), np.int64(62), np.int64(63), np.int64(64), np.int64(65), np.int64(66), np.int64(67), np.int64(68), np.int64(69), np.int64(70), np.int64(71), np.int64(72), np.int64(73), np.int64(74), np.int64(75), np.int64(76), np.int64(77), np.int64(78), np.int64(79), np.int64(80), np.int64(81), np.int64(82), np.int64(83), np.int64(84), np.int64(85), np.int64(86), np.int64(87), np.int64(88), np.int64(89), np.int64(90), np.int64(91), np.int64(92), np.int64(93), np.int64(94), np.int64(95), np.int64(96), np.int64(97), np.int64(98), np.int64(99), np.int64(100), np.int64(101), np.int64(102), np.int64(103), np.int64(104), np.int64(105), np.int64(106), np.int64(107), np.int64(108), np.int64(109), np.int64(110), np.int64(111), np.int64(112), np.int64(113), np.int64(114), np.int64(115), np.int64(116), np.int64(117), np.int64(118), np.int64(119), np.int64(120), np.int64(121), np.int64(122), np.int64(123), np.int64(124), np.int64(125), np.int64(126), np.int64(127), np.int64(128), np.int64(129), np.int64(130), np.int64(131), np.int64(132), np.int64(133), np.int64(134), np.int64(135), np.int64(136), np.int64(137), np.int64(138), np.int64(139), np.int64(140), np.int64(141), np.int64(142), np.int64(143), np.int64(144), np.int64(145), np.int64(146), np.int64(147), np.int64(148), np.int64(149), np.int64(150), np.int64(151), np.int64(152), np.int64(153), np.int64(154), np.int64(155), np.int64(156), np.int64(157), np.int64(158), np.int64(159), np.int64(160), np.int64(161), np.int64(162), np.int64(163), np.int64(164), np.int64(165), np.int64(166), np.int64(167), np.int64(168), np.int64(169), np.int64(170), np.int64(171), np.int64(172), np.int64(173), np.int64(174), np.int64(175), np.int64(176), np.int64(177), np.int64(178), np.int64(179), np.int64(180), np.int64(181), np.int64(182), np.int64(183), np.int64(184), np.int64(185), np.int64(186), np.int64(187), np.int64(188), np.int64(189), np.int64(190), np.int64(191), np.int64(192), np.int64(193), np.int64(194), np.int64(195), np.int64(196), np.int64(197), np.int64(198), np.int64(199), np.int64(200), np.int64(201), np.int64(202), np.int64(203), np.int64(204), np.int64(205), np.int64(206), np.int64(207), np.int64(208), np.int64(209), np.int64(210), np.int64(211), np.int64(212), np.int64(213), np.int64(214), np.int64(215), np.int64(216), np.int64(217), np.int64(218), np.int64(219), np.int64(220), np.int64(221), np.int64(222), np.int64(223), np.int64(224), np.int64(225), np.int64(226), np.int64(227), np.int64(228), np.int64(229), np.int64(230), np.int64(231), np.int64(232), np.int64(233), np.int64(234), np.int64(235), np.int64(236), np.int64(237), np.int64(238), np.int64(239), np.int64(240), np.int64(241), np.int64(242), np.int64(243), np.int64(244), np.int64(245), np.int64(246), np.int64(247), np.int64(248), np.int64(249), np.int64(250), np.int64(251), np.int64(252), np.int64(253), np.int64(254), np.int64(255), np.int64(256), np.int64(257), np.int64(258), np.int64(259), np.int64(260), np.int64(261)], 'I': [], 'LL': [], 'KL': [], 'Var': [], 'MM1': [], 'MM2': []}, 0.000244140625: {'I0': [np.int64(0), np.int64(1), np.int64(2), np.int64(3), np.int64(4), np.int64(5), np.int64(6), np.int64(7), np.int64(8), np.int64(9), np.int64(10), np.int64(11), np.int64(12), np.int64(13), np.int64(14), np.int64(16), np.int64(17), np.int64(18), np.int64(19), np.int64(20), np.int64(21), np.int64(22), np.int64(23), np.int64(24), np.int64(25), np.int64(26), np.int64(27), np.int64(28), np.int64(29), np.int64(30), np.int64(31), np.int64(32), np.int64(33), np.int64(34), np.int64(35), np.int64(36), np.int64(37), np.int64(38), np.int64(39), np.int64(40), np.int64(41), np.int64(42), np.int64(43), np.int64(44), np.int64(45), np.int64(46), np.int64(47), np.int64(48), np.int64(49), np.int64(50), np.int64(51), np.int64(52), np.int64(53), np.int64(54), np.int64(55), np.int64(56), np.int64(57), np.int64(58), np.int64(59), np.int64(60), np.int64(61), np.int64(62), np.int64(63), np.int64(64), np.int64(65), np.int64(66), np.int64(67), np.int64(68), np.int64(69), np.int64(70), np.int64(71), np.int64(72), np.int64(73), np.int64(74), np.int64(75), np.int64(76), np.int64(77), np.int64(78), np.int64(79), np.int64(80), np.int64(81), np.int64(82), np.int64(83), np.int64(84), np.int64(85), np.int64(86), np.int64(87), np.int64(88), np.int64(89), np.int64(90), np.int64(91), np.int64(92), np.int64(93), np.int64(94), np.int64(95), np.int64(96), np.int64(97), np.int64(98), np.int64(99), np.int64(100), np.int64(101), np.int64(102), np.int64(103), np.int64(104), np.int64(105), np.int64(106), np.int64(107), np.int64(108), np.int64(109), np.int64(110), np.int64(111), np.int64(112), np.int64(113), np.int64(114), np.int64(115), np.int64(116), np.int64(117), np.int64(118), np.int64(119), np.int64(120), np.int64(121), np.int64(122), np.int64(123), np.int64(124), np.int64(125), np.int64(126), np.int64(127), np.int64(128), np.int64(129), np.int64(130), np.int64(131), np.int64(132), np.int64(133), np.int64(134), np.int64(135), np.int64(136), np.int64(137), np.int64(138), np.int64(139), np.int64(140), np.int64(141), np.int64(142), np.int64(143), np.int64(144), np.int64(145), np.int64(146), np.int64(147), np.int64(148), np.int64(149), np.int64(150), np.int64(151), np.int64(152), np.int64(153), np.int64(154), np.int64(155), np.int64(156), np.int64(157), np.int64(158), np.int64(159), np.int64(160), np.int64(161), np.int64(162), np.int64(163), np.int64(164), np.int64(165), np.int64(166), np.int64(167), np.int64(168), np.int64(169), np.int64(170), np.int64(171), np.int64(172), np.int64(173), np.int64(174), np.int64(175), np.int64(176), np.int64(177), np.int64(178), np.int64(179), np.int64(180), np.int64(181), np.int64(182), np.int64(183), np.int64(184), np.int64(185), np.int64(186), np.int64(187), np.int64(188), np.int64(189), np.int64(190), np.int64(191), np.int64(192), np.int64(193), np.int64(194), np.int64(195), np.int64(196), np.int64(197), np.int64(198), np.int64(199), np.int64(200), np.int64(201), np.int64(202), np.int64(203), np.int64(204), np.int64(205), np.int64(206), np.int64(207), np.int64(208), np.int64(209), np.int64(210), np.int64(211), np.int64(212), np.int64(213), np.int64(214), np.int64(215), np.int64(216), np.int64(217), np.int64(218), np.int64(219), np.int64(220), np.int64(221), np.int64(222), np.int64(223), np.int64(224), np.int64(225), np.int64(226), np.int64(227), np.int64(228), np.int64(229), np.int64(230), np.int64(231), np.int64(232), np.int64(233), np.int64(234), np.int64(235), np.int64(236), np.int64(237), np.int64(238), np.int64(239), np.int64(240), np.int64(241), np.int64(242), np.int64(243), np.int64(244), np.int64(245), np.int64(246), np.int64(247), np.int64(248), np.int64(249), np.int64(250), np.int64(251), np.int64(252), np.int64(253), np.int64(254), np.int64(255), np.int64(256), np.int64(257), np.int64(258), np.int64(259), np.int64(260), np.int64(261)], 'I': [], 'LL': [], 'KL': [], 'Var': [], 'MM1': [np.int64(15)], 'MM2': []}, 6.103515625e-05: {'I0': [np.int64(0), np.int64(1), np.int64(2), np.int64(3), np.int64(4), np.int64(5), np.int64(6), np.int64(7), np.int64(8), np.int64(9), np.int64(10), np.int64(11), np.int64(12), np.int64(13), np.int64(14), np.int64(16), np.int64(17), np.int64(18), np.int64(19), np.int64(20), np.int64(21), np.int64(22), np.int64(23), np.int64(24), np.int64(25), np.int64(26), np.int64(27), np.int64(28), np.int64(29), np.int64(30), np.int64(31), np.int64(32), np.int64(33), np.int64(34), np.int64(35), np.int64(36), np.int64(37), np.int64(38), np.int64(39), np.int64(40), np.int64(41), np.int64(42), np.int64(43), np.int64(44), np.int64(45), np.int64(46), np.int64(47), np.int64(48), np.int64(49), np.int64(50), np.int64(51), np.int64(52), np.int64(53), np.int64(54), np.int64(55), np.int64(56), np.int64(57), np.int64(58), np.int64(59), np.int64(60), np.int64(61), np.int64(62), np.int64(63), np.int64(64), np.int64(65), np.int64(66), np.int64(67), np.int64(68), np.int64(69), np.int64(70), np.int64(71), np.int64(72), np.int64(73), np.int64(74), np.int64(75), np.int64(76), np.int64(77), np.int64(78), np.int64(79), np.int64(80), np.int64(81), np.int64(82), np.int64(83), np.int64(84), np.int64(85), np.int64(86), np.int64(87), np.int64(88), np.int64(89), np.int64(90), np.int64(91), np.int64(92), np.int64(93), np.int64(94), np.int64(95), np.int64(96), np.int64(97), np.int64(98), np.int64(99), np.int64(100), np.int64(101), np.int64(102), np.int64(103), np.int64(104), np.int64(105), np.int64(106), np.int64(107), np.int64(108), np.int64(109), np.int64(110), np.int64(111), np.int64(112), np.int64(113), np.int64(114), np.int64(115), np.int64(116), np.int64(117), np.int64(118), np.int64(119), np.int64(120), np.int64(121), np.int64(122), np.int64(123), np.int64(124), np.int64(125), np.int64(126), np.int64(127), np.int64(128), np.int64(129), np.int64(130), np.int64(131), np.int64(132), np.int64(133), np.int64(134), np.int64(135), np.int64(136), np.int64(137), np.int64(138), np.int64(139), np.int64(140), np.int64(141), np.int64(142), np.int64(143), np.int64(144), np.int64(145), np.int64(146), np.int64(147), np.int64(148), np.int64(149), np.int64(150), np.int64(151), np.int64(152), np.int64(153), np.int64(154), np.int64(155), np.int64(156), np.int64(157), np.int64(158), np.int64(159), np.int64(160), np.int64(161), np.int64(162), np.int64(163), np.int64(164), np.int64(165), np.int64(166), np.int64(167), np.int64(168), np.int64(169), np.int64(170), np.int64(171), np.int64(172), np.int64(173), np.int64(174), np.int64(175), np.int64(176), np.int64(177), np.int64(178), np.int64(179), np.int64(180), np.int64(181), np.int64(182), np.int64(183), np.int64(184), np.int64(185), np.int64(186), np.int64(187), np.int64(188), np.int64(189), np.int64(190), np.int64(191), np.int64(192), np.int64(193), np.int64(194), np.int64(195), np.int64(196), np.int64(197), np.int64(198), np.int64(199), np.int64(200), np.int64(201), np.int64(202), np.int64(203), np.int64(204), np.int64(205), np.int64(206), np.int64(207), np.int64(208), np.int64(209), np.int64(210), np.int64(211), np.int64(212), np.int64(213), np.int64(214), np.int64(215), np.int64(216), np.int64(217), np.int64(218), np.int64(219), np.int64(220), np.int64(221), np.int64(222), np.int64(223), np.int64(224), np.int64(225), np.int64(226), np.int64(227), np.int64(228), np.int64(229), np.int64(230), np.int64(231), np.int64(232), np.int64(233), np.int64(234), np.int64(235), np.int64(236), np.int64(237), np.int64(238), np.int64(239), np.int64(240), np.int64(241), np.int64(242), np.int64(243), np.int64(244), np.int64(245), np.int64(246), np.int64(247), np.int64(248), np.int64(249), np.int64(250), np.int64(251), np.int64(252), np.int64(253), np.int64(254), np.int64(255), np.int64(256), np.int64(257), np.int64(258), np.int64(259), np.int64(260), np.int64(261)], 'I': [], 'LL': [], 'KL': [], 'Var': [], 'MM1': [np.int64(15)], 'MM2': []}, 1.52587890625e-05: {'I0': [np.int64(0), np.int64(1), np.int64(2), np.int64(3), np.int64(4), np.int64(5), np.int64(6), np.int64(7), np.int64(8), np.int64(9), np.int64(10), np.int64(11), np.int64(12), np.int64(13), np.int64(14), np.int64(16), np.int64(17), np.int64(18), np.int64(19), np.int64(20), np.int64(21), np.int64(22), np.int64(23), np.int64(24), np.int64(25), np.int64(26), np.int64(27), np.int64(28), np.int64(29), np.int64(30), np.int64(31), np.int64(32), np.int64(33), np.int64(34), np.int64(35), np.int64(36), np.int64(37), np.int64(38), np.int64(39), np.int64(40), np.int64(41), np.int64(42), np.int64(43), np.int64(44), np.int64(45), np.int64(46), np.int64(47), np.int64(48), np.int64(49), np.int64(50), np.int64(51), np.int64(52), np.int64(53), np.int64(54), np.int64(55), np.int64(56), np.int64(57), np.int64(58), np.int64(59), np.int64(60), np.int64(61), np.int64(62), np.int64(63), np.int64(64), np.int64(65), np.int64(66), np.int64(67), np.int64(68), np.int64(69), np.int64(70), np.int64(71), np.int64(72), np.int64(73), np.int64(74), np.int64(75), np.int64(76), np.int64(77), np.int64(78), np.int64(79), np.int64(80), np.int64(81), np.int64(82), np.int64(83), np.int64(84), np.int64(85), np.int64(86), np.int64(87), np.int64(88), np.int64(89), np.int64(90), np.int64(91), np.int64(92), np.int64(93), np.int64(94), np.int64(95), np.int64(96), np.int64(97), np.int64(98), np.int64(99), np.int64(100), np.int64(101), np.int64(102), np.int64(103), np.int64(104), np.int64(105), np.int64(106), np.int64(107), np.int64(108), np.int64(109), np.int64(110), np.int64(111), np.int64(112), np.int64(113), np.int64(114), np.int64(115), np.int64(116), np.int64(117), np.int64(118), np.int64(119), np.int64(120), np.int64(121), np.int64(122), np.int64(123), np.int64(124), np.int64(125), np.int64(126), np.int64(127), np.int64(128), np.int64(129), np.int64(130), np.int64(131), np.int64(132), np.int64(133), np.int64(134), np.int64(135), np.int64(136), np.int64(137), np.int64(138), np.int64(139), np.int64(140), np.int64(141), np.int64(142), np.int64(143), np.int64(144), np.int64(145), np.int64(146), np.int64(147), np.int64(148), np.int64(149), np.int64(150), np.int64(151), np.int64(152), np.int64(153), np.int64(154), np.int64(155), np.int64(156), np.int64(157), np.int64(158), np.int64(159), np.int64(160), np.int64(161), np.int64(162), np.int64(163), np.int64(164), np.int64(165), np.int64(166), np.int64(167), np.int64(168), np.int64(169), np.int64(170), np.int64(171), np.int64(172), np.int64(173), np.int64(174), np.int64(175), np.int64(176), np.int64(177), np.int64(178), np.int64(179), np.int64(180), np.int64(181), np.int64(182), np.int64(183), np.int64(184), np.int64(185), np.int64(186), np.int64(187), np.int64(188), np.int64(189), np.int64(190), np.int64(191), np.int64(192), np.int64(193), np.int64(194), np.int64(195), np.int64(196), np.int64(197), np.int64(198), np.int64(199), np.int64(200), np.int64(201), np.int64(202), np.int64(203), np.int64(204), np.int64(205), np.int64(206), np.int64(207), np.int64(208), np.int64(209), np.int64(210), np.int64(211), np.int64(212), np.int64(213), np.int64(214), np.int64(215), np.int64(216), np.int64(217), np.int64(218), np.int64(219), np.int64(220), np.int64(221), np.int64(222), np.int64(223), np.int64(224), np.int64(225), np.int64(226), np.int64(227), np.int64(228), np.int64(229), np.int64(230), np.int64(231), np.int64(232), np.int64(233), np.int64(234), np.int64(235), np.int64(236), np.int64(237), np.int64(238), np.int64(239), np.int64(240), np.int64(241), np.int64(242), np.int64(243), np.int64(244), np.int64(245), np.int64(246), np.int64(247), np.int64(248), np.int64(249), np.int64(250), np.int64(251), np.int64(252), np.int64(253), np.int64(254), np.int64(255), np.int64(256), np.int64(257), np.int64(258), np.int64(259), np.int64(260), np.int64(261)], 'I': [], 'LL': [], 'KL': [], 'Var': [], 'MM1': [np.int64(15)], 'MM2': []}, 3.814697265625e-06: {'I0': [np.int64(0), np.int64(1), np.int64(2), np.int64(3), np.int64(4), np.int64(5), np.int64(6), np.int64(7), np.int64(8), np.int64(9), np.int64(10), np.int64(11), np.int64(12), np.int64(13), np.int64(14), np.int64(16), np.int64(17), np.int64(18), np.int64(19), np.int64(20), np.int64(21), np.int64(22), np.int64(23), np.int64(24), np.int64(25), np.int64(26), np.int64(27), np.int64(28), np.int64(29), np.int64(30), np.int64(31), np.int64(32), np.int64(33), np.int64(34), np.int64(35), np.int64(36), np.int64(37), np.int64(38), np.int64(39), np.int64(40), np.int64(41), np.int64(42), np.int64(43), np.int64(44), np.int64(45), np.int64(46), np.int64(47), np.int64(48), np.int64(49), np.int64(50), np.int64(51), np.int64(52), np.int64(53), np.int64(54), np.int64(55), np.int64(56), np.int64(57), np.int64(58), np.int64(59), np.int64(60), np.int64(61), np.int64(62), np.int64(63), np.int64(64), np.int64(65), np.int64(66), np.int64(67), np.int64(68), np.int64(69), np.int64(70), np.int64(71), np.int64(72), np.int64(73), np.int64(74), np.int64(75), np.int64(76), np.int64(77), np.int64(78), np.int64(79), np.int64(80), np.int64(81), np.int64(82), np.int64(83), np.int64(84), np.int64(85), np.int64(86), np.int64(87), np.int64(88), np.int64(89), np.int64(90), np.int64(91), np.int64(92), np.int64(93), np.int64(94), np.int64(95), np.int64(96), np.int64(97), np.int64(98), np.int64(99), np.int64(100), np.int64(101), np.int64(102), np.int64(103), np.int64(104), np.int64(105), np.int64(106), np.int64(107), np.int64(108), np.int64(109), np.int64(110), np.int64(111), np.int64(112), np.int64(113), np.int64(114), np.int64(115), np.int64(116), np.int64(117), np.int64(118), np.int64(119), np.int64(120), np.int64(121), np.int64(122), np.int64(123), np.int64(124), np.int64(125), np.int64(126), np.int64(127), np.int64(128), np.int64(129), np.int64(130), np.int64(131), np.int64(132), np.int64(133), np.int64(134), np.int64(135), np.int64(136), np.int64(137), np.int64(138), np.int64(139), np.int64(140), np.int64(141), np.int64(142), np.int64(143), np.int64(144), np.int64(145), np.int64(146), np.int64(147), np.int64(148), np.int64(149), np.int64(150), np.int64(151), np.int64(152), np.int64(153), np.int64(154), np.int64(155), np.int64(156), np.int64(157), np.int64(158), np.int64(159), np.int64(160), np.int64(161), np.int64(162), np.int64(163), np.int64(164), np.int64(165), np.int64(166), np.int64(167), np.int64(168), np.int64(169), np.int64(170), np.int64(171), np.int64(172), np.int64(173), np.int64(174), np.int64(175), np.int64(176), np.int64(177), np.int64(178), np.int64(179), np.int64(180), np.int64(181), np.int64(182), np.int64(183), np.int64(184), np.int64(185), np.int64(186), np.int64(187), np.int64(188), np.int64(189), np.int64(190), np.int64(191), np.int64(192), np.int64(193), np.int64(194), np.int64(195), np.int64(196), np.int64(197), np.int64(198), np.int64(199), np.int64(200), np.int64(201), np.int64(202), np.int64(203), np.int64(204), np.int64(205), np.int64(206), np.int64(207), np.int64(208), np.int64(209), np.int64(210), np.int64(211), np.int64(212), np.int64(213), np.int64(214), np.int64(215), np.int64(216), np.int64(217), np.int64(218), np.int64(219), np.int64(220), np.int64(221), np.int64(222), np.int64(223), np.int64(224), np.int64(225), np.int64(226), np.int64(227), np.int64(228), np.int64(229), np.int64(230), np.int64(231), np.int64(232), np.int64(233), np.int64(234), np.int64(235), np.int64(236), np.int64(237), np.int64(238), np.int64(239), np.int64(240), np.int64(241), np.int64(242), np.int64(243), np.int64(244), np.int64(245), np.int64(246), np.int64(247), np.int64(248), np.int64(249), np.int64(250), np.int64(251), np.int64(252), np.int64(253), np.int64(254), np.int64(255), np.int64(256), np.int64(257), np.int64(258), np.int64(259), np.int64(260), np.int64(261)], 'I': [], 'LL': [], 'KL': [], 'Var': [np.int64(15)], 'MM1': [np.int64(15)], 'MM2': []}, 9.5367431640625e-07: {'I0': [np.int64(0), np.int64(1), np.int64(2), np.int64(3), np.int64(4), np.int64(5), np.int64(6), np.int64(7), np.int64(8), np.int64(9), np.int64(10), np.int64(11), np.int64(12), np.int64(13), np.int64(14), np.int64(16), np.int64(17), np.int64(18), np.int64(19), np.int64(20), np.int64(21), np.int64(22), np.int64(23), np.int64(24), np.int64(25), np.int64(26), np.int64(27), np.int64(28), np.int64(29), np.int64(30), np.int64(31), np.int64(32), np.int64(33), np.int64(34), np.int64(35), np.int64(36), np.int64(37), np.int64(38), np.int64(39), np.int64(40), np.int64(41), np.int64(42), np.int64(43), np.int64(44), np.int64(45), np.int64(46), np.int64(47), np.int64(48), np.int64(49), np.int64(50), np.int64(51), np.int64(52), np.int64(53), np.int64(54), np.int64(55), np.int64(56), np.int64(57), np.int64(58), np.int64(59), np.int64(60), np.int64(61), np.int64(62), np.int64(63), np.int64(64), np.int64(65), np.int64(66), np.int64(67), np.int64(68), np.int64(69), np.int64(70), np.int64(71), np.int64(72), np.int64(73), np.int64(74), np.int64(75), np.int64(76), np.int64(77), np.int64(78), np.int64(79), np.int64(80), np.int64(81), np.int64(82), np.int64(83), np.int64(84), np.int64(85), np.int64(86), np.int64(87), np.int64(88), np.int64(89), np.int64(90), np.int64(91), np.int64(92), np.int64(93), np.int64(94), np.int64(95), np.int64(96), np.int64(97), np.int64(98), np.int64(99), np.int64(100), np.int64(101), np.int64(102), np.int64(103), np.int64(104), np.int64(105), np.int64(106), np.int64(107), np.int64(108), np.int64(109), np.int64(110), np.int64(111), np.int64(112), np.int64(113), np.int64(114), np.int64(115), np.int64(116), np.int64(117), np.int64(118), np.int64(119), np.int64(120), np.int64(121), np.int64(122), np.int64(123), np.int64(124), np.int64(125), np.int64(126), np.int64(127), np.int64(128), np.int64(129), np.int64(130), np.int64(131), np.int64(132), np.int64(133), np.int64(134), np.int64(135), np.int64(136), np.int64(137), np.int64(138), np.int64(139), np.int64(140), np.int64(141), np.int64(142), np.int64(143), np.int64(144), np.int64(145), np.int64(146), np.int64(147), np.int64(148), np.int64(149), np.int64(150), np.int64(151), np.int64(152), np.int64(153), np.int64(154), np.int64(155), np.int64(156), np.int64(157), np.int64(158), np.int64(159), np.int64(160), np.int64(161), np.int64(162), np.int64(163), np.int64(164), np.int64(165), np.int64(166), np.int64(167), np.int64(168), np.int64(169), np.int64(170), np.int64(171), np.int64(172), np.int64(173), np.int64(174), np.int64(175), np.int64(176), np.int64(177), np.int64(178), np.int64(179), np.int64(180), np.int64(181), np.int64(182), np.int64(183), np.int64(184), np.int64(185), np.int64(186), np.int64(187), np.int64(188), np.int64(189), np.int64(190), np.int64(191), np.int64(192), np.int64(193), np.int64(194), np.int64(195), np.int64(196), np.int64(197), np.int64(198), np.int64(199), np.int64(200), np.int64(201), np.int64(202), np.int64(203), np.int64(204), np.int64(205), np.int64(206), np.int64(207), np.int64(208), np.int64(209), np.int64(210), np.int64(211), np.int64(212), np.int64(213), np.int64(214), np.int64(215), np.int64(216), np.int64(217), np.int64(218), np.int64(219), np.int64(220), np.int64(221), np.int64(222), np.int64(223), np.int64(224), np.int64(225), np.int64(226), np.int64(227), np.int64(228), np.int64(229), np.int64(230), np.int64(231), np.int64(232), np.int64(233), np.int64(234), np.int64(235), np.int64(236), np.int64(237), np.int64(238), np.int64(239), np.int64(240), np.int64(241), np.int64(242), np.int64(243), np.int64(244), np.int64(245), np.int64(246), np.int64(247), np.int64(248), np.int64(249), np.int64(250), np.int64(251), np.int64(252), np.int64(253), np.int64(254), np.int64(255), np.int64(256), np.int64(257), np.int64(258), np.int64(259), np.int64(260), np.int64(261)], 'I': [], 'LL': [], 'KL': [], 'Var': [np.int64(15)], 'MM1': [], 'MM2': []}}}\n"
     ]
    },
    {
     "name": "stderr",
     "output_type": "stream",
     "text": [
      "\n"
     ]
    }
   ],
   "source": [
    "base = 4\n",
    "h_vals = [base**-r for r in range(11)]\n",
    "\n",
    "loo_output = []\n",
    "\n",
    "for _ in tqdm(range(1)):\n",
    "    loo_khat = {}\n",
    "    reduced_ndx = {}\n",
    "    high_khat_ndx = {}\n",
    "    n_sample = [1000]\n",
    "    records = []\n",
    "    for n_samples in n_sample:\n",
    "        sample_ndx = np.random.choice(range(fit.stan_variables()['beta0'].shape[0]), size=n_samples, replace=False)\n",
    "        reduced_ndx[n_samples] = {}\n",
    "        high_khat_ndx[n_samples] = {}\n",
    "        # print(f\"Samples: {n_samples}\")\n",
    "        loo_khat[n_samples] = {}\n",
    "        params_ = fit.stan_variables()\n",
    "        params_ = {k: v[sample_ndx] for k, v in params_.items()}\n",
    "\n",
    "        params_[\"c\"] = params_[\"c\"][:, tf.newaxis]\n",
    "        params_[\"tau\"] = params_[\"tau\"][:, tf.newaxis]\n",
    "        params_[\"caux\"] = params_[\"caux\"][:, tf.newaxis]\n",
    "        params_[\"beta0\"] = params_[\"beta0\"][:, tf.newaxis]\n",
    "\n",
    "        for h in h_vals:\n",
    "            loo_khat[n_samples][h] = {}\n",
    "            loo = adaptive_is_loo(lr_model, batch, params_, h, variational=False)\n",
    "            reduced_ndx[n_samples][h] = {}\n",
    "            # print(f\"rho={h}\\n\")\n",
    "            for T in [\"I0\", \"I\", \"LL\", \"KL\", \"Var\", \"MM1\", \"MM2\"]:\n",
    "                loo_khat[n_samples][h][T] = np.array(loo[T][\"khat\"])\n",
    "\n",
    "                records += [\n",
    "                    {\n",
    "                        \"h\": h,\n",
    "                        \"T\": T,\n",
    "                        \"S\": n_samples,\n",
    "                        \"khat\": loo[T][\"khat\"],\n",
    "                        \"p_psis\": loo[T][\"p_psis\"].numpy(),\n",
    "                        \"n>0.7\": (np.where((loo[T][\"khat\"] > 0.7))[0]).shape,\n",
    "                        \"ndx\": loo[T][\"ndx\"]\n",
    "                    }\n",
    "                ]\n",
    "                reduced_ndx[n_samples][h][T] = [loo[T][\"ndx\"][k] for k in np.where((loo[T][\"khat\"] <= 0.7))[0]]\n",
    "                # print(reduced_ndx[n_samples][h])\n",
    "\n",
    "\n",
    "print(reduced_ndx)"
   ]
  },
  {
   "cell_type": "code",
   "execution_count": 27,
   "metadata": {},
   "outputs": [],
   "source": [
    "df = pd.DataFrame(records)\n",
    "df['rho_rank'] = np.emath.logn(base, df['h']) \n",
    "df.head()\n",
    "I0_ = df.loc[(df['S']==n_sample[-1]) & (df['T']==\"I0\")]\n",
    "\n",
    "kl_ = df.loc[(df['S']==n_sample[-1]) & (df['T']==\"KL\")]\n",
    "var_ = df.loc[(df['S']==n_sample[-1]) & (df['T']==\"Var\")]\n",
    "ll_ = df.loc[(df['S']==n_sample[-1]) & (df['T']==\"LL\")]\n",
    "mm1_ = df.loc[(df['S']==n_sample[-1]) & (df['T']==\"MM1\")]\n",
    "I_ = df.loc[(df['S']==n_sample[-1]) & (df['T']==\"I\")]\n",
    "\n",
    "kl_ = kl_.explode(['khat', 'ndx'])\n",
    "var_ = var_.explode(['khat', 'ndx'])\n",
    "ll_ = ll_.explode(['khat', 'ndx'])\n",
    "I_ = I_.explode(['khat', 'ndx'])\n",
    "mm1_ = mm1_.explode(['khat', 'ndx'])\n",
    "\n",
    "original = I_[['khat', 'ndx']].drop_duplicates()\n"
   ]
  },
  {
   "cell_type": "code",
   "execution_count": 28,
   "metadata": {},
   "outputs": [
    {
     "data": {
      "image/png": "[encoded data removed]",
      "text/plain": [
       "<Figure size 400x700 with 1 Axes>"
      ]
     },
     "metadata": {},
     "output_type": "display_data"
    }
   ],
   "source": [
    "fig = plt.figure(figsize=(4, 7))\n",
    "ndx_high_khat = loo['KL']['ndx'].tolist()\n",
    "ymax = (len(ndx_high_khat))\n",
    "_ = plt.scatter(original.khat, np.array([ndx_high_khat.index(i) for i in original['ndx']]) ,color=\"black\", s=12, alpha=0.6)\n",
    "_ = plt.scatter(kl_.khat, np.array([ndx_high_khat.index(i) for i in kl_['ndx']]) + 0.2, s=1, color='green', alpha=0.2)\n",
    "_ = plt.scatter(var_.khat, np.array([ndx_high_khat.index(i) for i in var_['ndx']]) - 0.2, s=1, color='purple', alpha=0.2)\n",
    "\n",
    "kl_ = kl_[kl_.khat<3]\n",
    "ll_ = ll_[ll_.khat<3]\n",
    "var_ = var_[var_.khat<3]\n",
    "_ = plt.axvline(x=0.7, linestyle='dashed', linewidth=2, color='red', alpha=0.5)\n",
    "\n",
    "kl_vals = defaultdict(list)\n",
    "var_vals = defaultdict(list)\n",
    "ll_vals = defaultdict(list)\n",
    "\n",
    "for x, y, s in zip( kl_.khat, kl_['ndx'], kl_['rho_rank'].values.astype('int')):\n",
    "    kl_vals[y] += [x]\n",
    "    \n",
    "for x, y, s in zip( var_.khat, var_['ndx'], var_['rho_rank'].values.astype('int')):\n",
    "    var_vals[y] += [x]\n",
    "\n",
    "for x, v in kl_vals.items():\n",
    "    plt.plot(min(v), ndx_high_khat.index(x)+0.2, color='green', alpha=0.3)\n",
    "    plt.text(min(v), ndx_high_khat.index(x) + 0.2, \"KL\",  ha='center', va='center', color='green', fontsize=8)\n",
    "    \n",
    "for x, v in var_vals.items():\n",
    "    plt.plot(min(v), ndx_high_khat.index(x)-0.2, color='purple', alpha=0.3)\n",
    "    plt.text(min(v), ndx_high_khat.index(x)-0.2, \"Var\",  ha='center', va='center', color='blue', fontsize=8)\n",
    "    \n",
    "    \n",
    "#for x, v in var_vals.items():\n",
    "#    plt.text(min(v), x, \"LL\",  ha='center', va='center', color='purple', fontsize=8)\n",
    "\n",
    "_ = plt.ylabel(\"observation\")\n",
    "_ = plt.ylim(-0.5, ymax - 0.5)\n",
    "_ = plt.xlabel(r'estimated Pareto tail shape $\\hat{k}$')\n",
    "_ = plt.yticks(ticks=np.arange(ymax), labels=loo['KL']['ndx'])\n",
    "_ = plt.xlim((-0.5, 2))\n",
    "_ = plt.xticks([-0.5, 0, 0.7, 1.5, 2])\n",
    "\n",
    "\n",
    "for y0, y1 in zip(np.arange(ymax+ 1)[::2]-0.5, np.arange(ymax + 1)[::2] + 0.5):\n",
    "    plt.axhspan(y0, y1, color='black', alpha=0.1, zorder=0)\n",
    "#_ = plt.xlim((-0.1, 2))\n",
    "#_ = plt.savefig(\"khat.pdf\", bbox_inches='tight')"
   ]
  },
  {
   "cell_type": "code",
   "execution_count": 29,
   "metadata": {},
   "outputs": [
    {
     "data": {
      "image/png": "[encoded data removed]",
      "text/plain": [
       "<Figure size 600x900 with 1 Axes>"
      ]
     },
     "metadata": {},
     "output_type": "display_data"
    }
   ],
   "source": [
    "fig = plt.figure(figsize=(6, 9))\n",
    "\n",
    "_ = plt.scatter(original.khat, np.array([ndx_high_khat.index(i) for i in original['ndx']]) ,color=\"black\", s=12, alpha=0.6)\n",
    "_ = plt.scatter(kl_.khat, np.array([ndx_high_khat.index(i) for i in kl_['ndx']]), s=0, color='green', alpha=0.2)\n",
    "_ = plt.scatter(var_.khat, np.array([ndx_high_khat.index(i) for i in var_['ndx']]), s=0, color='purple', alpha=0.2)\n",
    "_ = plt.scatter(ll_.khat, np.array([ndx_high_khat.index(i) for i in ll_['ndx']]), s=0, color='green', alpha=0.2)\n",
    "_ = plt.scatter(mm1_.khat, np.array([ndx_high_khat.index(i) for i in mm1_['ndx']]), s=0, color='purple', alpha=0.2)\n",
    "\n",
    "kl_ = kl_[kl_.khat<2]\n",
    "ll_ = ll_[ll_.khat<2]\n",
    "var_ = var_[var_.khat<2]\n",
    "mm1_ = mm1_[mm1_.khat<2]\n",
    "_ = plt.axvline(x=0.7, linestyle='dotted', linewidth=2, color='red')\n",
    "\n",
    "for x, y, s in zip( kl_.khat, kl_['ndx'], kl_['rho_rank'].values.astype('int')):\n",
    "    if s > 7:\n",
    "        continue\n",
    "    plt.text(x, ndx_high_khat.index(y) + 0.2, str(s),  ha='center', va='center', color='green', fontsize=8)\n",
    "    \n",
    "for x, y, s in zip( var_.khat, var_['ndx'], var_['rho_rank'].values.astype('int')):\n",
    "    if s > 7:\n",
    "        continue\n",
    "    plt.text(x, ndx_high_khat.index(y) + 0.1, str(s),  ha='center', va='center', color='blue', fontsize=8)\n",
    "\n",
    "for x, y, s in zip( ll_.khat, ll_['ndx'], ll_['rho_rank'].values.astype('int')):\n",
    "    if s > 3:\n",
    "        continue\n",
    "    plt.text(x, ndx_high_khat.index(y) - 0.1, str(s),  ha='center', va='center', color='orange', fontsize=8)\n",
    "\n",
    "for x, y, s in zip( mm1_.khat, mm1_['ndx'], mm1_['rho_rank'].values.astype('int')):\n",
    "    if s > 3:\n",
    "        continue\n",
    "    plt.text(x, ndx_high_khat.index(y) - 0.2, str(s),  ha='center', va='center', color='red', fontsize=8)\n",
    "    \n",
    "_ = plt.ylabel(\"observation\")\n",
    "_ = plt.ylim(-0.5, ymax - 0.5)\n",
    "_ = plt.xlabel(r'estimated Pareto tail shape $\\hat{k}$')\n",
    "_ = plt.yticks(ticks=np.arange(ymax), labels=loo['KL']['ndx'])\n",
    "_ = plt.xlim((-0.5, 2))\n",
    "_ = plt.xticks([-0.5, 0, 0.7, 1.5, 2])\n",
    "\n",
    "\n",
    "for y0, y1 in zip(np.arange(ymax+ 1)[::2]-0.5, np.arange(ymax + 1)[::2] + 0.5):\n",
    "    plt.axhspan(y0, y1, color='black', alpha=0.1, zorder=0)\n",
    "#_ = plt.xlim((-0.1, 2))\n",
    "#_ = plt.savefig(\"khat_detailed.pdf\", bbox_inches='tight')"
   ]
  },
  {
   "cell_type": "code",
   "execution_count": 32,
   "metadata": {},
   "outputs": [],
   "source": [
    "df_ = df.explode(['khat', \"p_psis\", 'ndx'])[['ndx', 'p_psis', 'khat', 'T']]\n",
    "#df_ = df_[df_['p_psis']!=1]\n",
    "#df_ = df_[df_['p_psis']>1e-5]\n",
    "df_ = df_[df_['T']!=\"MM2\"]\n",
    "\n",
    "df_ = df_.groupby(['ndx'])[['khat', 'p_psis']].min()\n",
    "\n",
    "pd.set_option('display.max_rows', 500)\n",
    "\n",
    "df_ = df_.reset_index()\n",
    "df_['y'] = [y_.tolist()[i] for i in df_['ndx'].values]\n"
   ]
  },
  {
   "cell_type": "code",
   "execution_count": 35,
   "metadata": {},
   "outputs": [],
   "source": [
    "fpr, tpr, thresholds = metrics.roc_curve(df_['y'], df_.p_psis, pos_label=1)\n",
    "precision, recall, thresholds_pr = metrics.precision_recall_curve(df_['y'], df_.p_psis)"
   ]
  },
  {
   "cell_type": "code",
   "execution_count": 37,
   "metadata": {},
   "outputs": [],
   "source": [
    "lr_model2 = LogisticRegression2(\n",
    "    dim_regressors=d,\n",
    "    slab_df=slab_df,\n",
    "    slab_scale=slab_scale,\n",
    "    scale_icept=scale_icept,\n",
    "    nu_global=1,\n",
    "    nu_local=1,\n",
    "    scale_global=scale_global,\n",
    ")"
   ]
  },
  {
   "cell_type": "code",
   "execution_count": 38,
   "metadata": {},
   "outputs": [
    {
     "name": "stdout",
     "output_type": "stream",
     "text": [
      "Running optimization for 12000 steps of 9 accumulated batches, checking every 50 steps\n",
      "Saved a checkpoint: /tmp/tfcheckpoints/6999490a-fd4e-4c79-8bab-11d3308b409c/6999490a-fd4e-4c79-8bab-11d3308b409c-1\n"
     ]
    },
    {
     "name": "stderr",
     "output_type": "stream",
     "text": [
      "  0%|          | 49/12000 [00:02<07:14, 27.50it/s] "
     ]
    },
    {
     "name": "stdout",
     "output_type": "stream",
     "text": [
      "Step 50: average-batch loss:223.79298958087338 rel loss: 4.468415216548256e+305\n",
      "Saved a checkpoint: /tmp/tfcheckpoints/6999490a-fd4e-4c79-8bab-11d3308b409c/6999490a-fd4e-4c79-8bab-11d3308b409c-2\n"
     ]
    },
    {
     "name": "stderr",
     "output_type": "stream",
     "text": [
      "  1%|          | 97/12000 [00:04<07:15, 27.30it/s]"
     ]
    },
    {
     "name": "stdout",
     "output_type": "stream",
     "text": [
      "Step 100: average-batch loss:222.80795078987745 rel loss: 0.0044210217252295715\n",
      "Saved a checkpoint: /tmp/tfcheckpoints/6999490a-fd4e-4c79-8bab-11d3308b409c/6999490a-fd4e-4c79-8bab-11d3308b409c-3\n"
     ]
    },
    {
     "name": "stderr",
     "output_type": "stream",
     "text": [
      "  1%|          | 148/12000 [00:06<07:27, 26.46it/s]"
     ]
    },
    {
     "name": "stdout",
     "output_type": "stream",
     "text": [
      "Step 150: average-batch loss:221.3726575860752 rel loss: 0.0064836065097342395\n",
      "Saved a checkpoint: /tmp/tfcheckpoints/6999490a-fd4e-4c79-8bab-11d3308b409c/6999490a-fd4e-4c79-8bab-11d3308b409c-4\n"
     ]
    },
    {
     "name": "stderr",
     "output_type": "stream",
     "text": [
      "  2%|▏         | 199/12000 [00:08<07:16, 27.06it/s]"
     ]
    },
    {
     "name": "stdout",
     "output_type": "stream",
     "text": [
      "Step 200: average-batch loss:221.01830752612958 rel loss: 0.001603261123080215\n",
      "Saved a checkpoint: /tmp/tfcheckpoints/6999490a-fd4e-4c79-8bab-11d3308b409c/6999490a-fd4e-4c79-8bab-11d3308b409c-5\n"
     ]
    },
    {
     "name": "stderr",
     "output_type": "stream",
     "text": [
      "  2%|▏         | 247/12000 [00:09<07:04, 27.68it/s]"
     ]
    },
    {
     "name": "stdout",
     "output_type": "stream",
     "text": [
      "Step 250: average-batch loss:219.90656423717812 rel loss: 0.0050555257084204126\n",
      "Saved a checkpoint: /tmp/tfcheckpoints/6999490a-fd4e-4c79-8bab-11d3308b409c/6999490a-fd4e-4c79-8bab-11d3308b409c-6\n"
     ]
    },
    {
     "name": "stderr",
     "output_type": "stream",
     "text": [
      "  2%|▏         | 298/12000 [00:11<07:08, 27.34it/s]"
     ]
    },
    {
     "name": "stdout",
     "output_type": "stream",
     "text": [
      "Step 300: average-batch loss:219.03195494101385 rel loss: 0.003993067113882089\n",
      "Saved a checkpoint: /tmp/tfcheckpoints/6999490a-fd4e-4c79-8bab-11d3308b409c/6999490a-fd4e-4c79-8bab-11d3308b409c-7\n"
     ]
    },
    {
     "name": "stderr",
     "output_type": "stream",
     "text": [
      "  3%|▎         | 349/12000 [00:13<07:10, 27.05it/s]"
     ]
    },
    {
     "name": "stdout",
     "output_type": "stream",
     "text": [
      "Step 350: average-batch loss:218.11897556728093 rel loss: 0.004185694396181988\n",
      "Saved a checkpoint: /tmp/tfcheckpoints/6999490a-fd4e-4c79-8bab-11d3308b409c/6999490a-fd4e-4c79-8bab-11d3308b409c-8\n"
     ]
    },
    {
     "name": "stderr",
     "output_type": "stream",
     "text": [
      "  3%|▎         | 397/12000 [00:15<07:06, 27.20it/s]"
     ]
    },
    {
     "name": "stdout",
     "output_type": "stream",
     "text": [
      "Step 400: average-batch loss:217.18568860610347 rel loss: 0.004297184437737536\n",
      "Saved a checkpoint: /tmp/tfcheckpoints/6999490a-fd4e-4c79-8bab-11d3308b409c/6999490a-fd4e-4c79-8bab-11d3308b409c-9\n"
     ]
    },
    {
     "name": "stderr",
     "output_type": "stream",
     "text": [
      "  4%|▎         | 448/12000 [00:17<07:02, 27.34it/s]"
     ]
    },
    {
     "name": "stdout",
     "output_type": "stream",
     "text": [
      "Step 450: average-batch loss:216.57409890734544 rel loss: 0.0028239281698208708\n",
      "Saved a checkpoint: /tmp/tfcheckpoints/6999490a-fd4e-4c79-8bab-11d3308b409c/6999490a-fd4e-4c79-8bab-11d3308b409c-10\n"
     ]
    },
    {
     "name": "stderr",
     "output_type": "stream",
     "text": [
      "  4%|▍         | 499/12000 [00:19<06:59, 27.39it/s]"
     ]
    },
    {
     "name": "stdout",
     "output_type": "stream",
     "text": [
      "Step 500: average-batch loss:216.03159755439984 rel loss: 0.002511212984984741\n",
      "Saved a checkpoint: /tmp/tfcheckpoints/6999490a-fd4e-4c79-8bab-11d3308b409c/6999490a-fd4e-4c79-8bab-11d3308b409c-11\n"
     ]
    },
    {
     "name": "stderr",
     "output_type": "stream",
     "text": [
      "  5%|▍         | 547/12000 [00:21<07:00, 27.21it/s]"
     ]
    },
    {
     "name": "stdout",
     "output_type": "stream",
     "text": [
      "Step 550: average-batch loss:215.5253414049927 rel loss: 0.002348940250398826\n",
      "Saved a checkpoint: /tmp/tfcheckpoints/6999490a-fd4e-4c79-8bab-11d3308b409c/6999490a-fd4e-4c79-8bab-11d3308b409c-12\n"
     ]
    },
    {
     "name": "stderr",
     "output_type": "stream",
     "text": [
      "  5%|▍         | 598/12000 [00:23<07:04, 26.86it/s]"
     ]
    },
    {
     "name": "stdout",
     "output_type": "stream",
     "text": [
      "Step 600: average-batch loss:214.78756665451536 rel loss: 0.0034349043660616032\n",
      "Saved a checkpoint: /tmp/tfcheckpoints/6999490a-fd4e-4c79-8bab-11d3308b409c/6999490a-fd4e-4c79-8bab-11d3308b409c-13\n"
     ]
    },
    {
     "name": "stderr",
     "output_type": "stream",
     "text": [
      "  5%|▌         | 649/12000 [00:24<06:56, 27.23it/s]"
     ]
    },
    {
     "name": "stdout",
     "output_type": "stream",
     "text": [
      "Step 650: average-batch loss:214.3392543594981 rel loss: 0.0020916014490995616\n",
      "Saved a checkpoint: /tmp/tfcheckpoints/6999490a-fd4e-4c79-8bab-11d3308b409c/6999490a-fd4e-4c79-8bab-11d3308b409c-14\n"
     ]
    },
    {
     "name": "stderr",
     "output_type": "stream",
     "text": [
      "  6%|▌         | 697/12000 [00:26<06:48, 27.67it/s]"
     ]
    },
    {
     "name": "stdout",
     "output_type": "stream",
     "text": [
      "Step 700: average-batch loss:213.61854689503 rel loss: 0.003373805668766525\n",
      "Saved a checkpoint: /tmp/tfcheckpoints/6999490a-fd4e-4c79-8bab-11d3308b409c/6999490a-fd4e-4c79-8bab-11d3308b409c-15\n"
     ]
    },
    {
     "name": "stderr",
     "output_type": "stream",
     "text": [
      "  6%|▌         | 748/12000 [00:28<06:54, 27.16it/s]"
     ]
    },
    {
     "name": "stdout",
     "output_type": "stream",
     "text": [
      "Step 750: average-batch loss:213.3075606689761 rel loss: 0.00145792406550702\n",
      "Saved a checkpoint: /tmp/tfcheckpoints/6999490a-fd4e-4c79-8bab-11d3308b409c/6999490a-fd4e-4c79-8bab-11d3308b409c-16\n"
     ]
    },
    {
     "name": "stderr",
     "output_type": "stream",
     "text": [
      "  7%|▋         | 799/12000 [00:30<06:55, 26.95it/s]"
     ]
    },
    {
     "name": "stdout",
     "output_type": "stream",
     "text": [
      "Step 800: average-batch loss:212.81815745206296 rel loss: 0.0022996309279830584\n",
      "Saved a checkpoint: /tmp/tfcheckpoints/6999490a-fd4e-4c79-8bab-11d3308b409c/6999490a-fd4e-4c79-8bab-11d3308b409c-17\n"
     ]
    },
    {
     "name": "stderr",
     "output_type": "stream",
     "text": [
      "  7%|▋         | 847/12000 [00:32<06:52, 27.04it/s]"
     ]
    },
    {
     "name": "stdout",
     "output_type": "stream",
     "text": [
      "Step 850: average-batch loss:212.57256023754815 rel loss: 0.0011553570895526859\n",
      "Saved a checkpoint: /tmp/tfcheckpoints/6999490a-fd4e-4c79-8bab-11d3308b409c/6999490a-fd4e-4c79-8bab-11d3308b409c-18\n"
     ]
    },
    {
     "name": "stderr",
     "output_type": "stream",
     "text": [
      "  7%|▋         | 898/12000 [00:34<06:49, 27.10it/s]"
     ]
    },
    {
     "name": "stdout",
     "output_type": "stream",
     "text": [
      "Step 900: average-batch loss:212.00944696897906 rel loss: 0.0026560763051821784\n",
      "Saved a checkpoint: /tmp/tfcheckpoints/6999490a-fd4e-4c79-8bab-11d3308b409c/6999490a-fd4e-4c79-8bab-11d3308b409c-19\n"
     ]
    },
    {
     "name": "stderr",
     "output_type": "stream",
     "text": [
      "  8%|▊         | 949/12000 [00:36<06:46, 27.17it/s]"
     ]
    },
    {
     "name": "stdout",
     "output_type": "stream",
     "text": [
      "Step 950: average-batch loss:211.66547878350516 rel loss: 0.0016250556654338235\n",
      "Saved a checkpoint: /tmp/tfcheckpoints/6999490a-fd4e-4c79-8bab-11d3308b409c/6999490a-fd4e-4c79-8bab-11d3308b409c-20\n"
     ]
    },
    {
     "name": "stderr",
     "output_type": "stream",
     "text": [
      "  8%|▊         | 997/12000 [00:37<06:40, 27.50it/s]"
     ]
    },
    {
     "name": "stdout",
     "output_type": "stream",
     "text": [
      "Step 1000: average-batch loss:211.4287453390745 rel loss: 0.00111968428914904\n",
      "Saved a checkpoint: /tmp/tfcheckpoints/6999490a-fd4e-4c79-8bab-11d3308b409c/6999490a-fd4e-4c79-8bab-11d3308b409c-21\n"
     ]
    },
    {
     "name": "stderr",
     "output_type": "stream",
     "text": [
      "  9%|▊         | 1048/12000 [00:39<06:35, 27.69it/s]"
     ]
    },
    {
     "name": "stdout",
     "output_type": "stream",
     "text": [
      "Step 1050: average-batch loss:211.1066885207914 rel loss: 0.001525564256347013\n",
      "Saved a checkpoint: /tmp/tfcheckpoints/6999490a-fd4e-4c79-8bab-11d3308b409c/6999490a-fd4e-4c79-8bab-11d3308b409c-22\n"
     ]
    },
    {
     "name": "stderr",
     "output_type": "stream",
     "text": [
      "  9%|▉         | 1099/12000 [00:41<06:36, 27.51it/s]"
     ]
    },
    {
     "name": "stdout",
     "output_type": "stream",
     "text": [
      "Step 1100: average-batch loss:210.5992691681622 rel loss: 0.0024094069966787398\n",
      "Saved a checkpoint: /tmp/tfcheckpoints/6999490a-fd4e-4c79-8bab-11d3308b409c/6999490a-fd4e-4c79-8bab-11d3308b409c-23\n"
     ]
    },
    {
     "name": "stderr",
     "output_type": "stream",
     "text": [
      " 10%|▉         | 1147/12000 [00:43<06:41, 27.05it/s]"
     ]
    },
    {
     "name": "stdout",
     "output_type": "stream",
     "text": [
      "Step 1150: average-batch loss:210.37948192778575 rel loss: 0.0010447180417142844\n",
      "Saved a checkpoint: /tmp/tfcheckpoints/6999490a-fd4e-4c79-8bab-11d3308b409c/6999490a-fd4e-4c79-8bab-11d3308b409c-24\n"
     ]
    },
    {
     "name": "stderr",
     "output_type": "stream",
     "text": [
      " 10%|▉         | 1198/12000 [00:45<06:35, 27.35it/s]"
     ]
    },
    {
     "name": "stdout",
     "output_type": "stream",
     "text": [
      "Step 1200: average-batch loss:210.27630175238835 rel loss: 0.0004906885585181073\n",
      "Saved a checkpoint: /tmp/tfcheckpoints/6999490a-fd4e-4c79-8bab-11d3308b409c/6999490a-fd4e-4c79-8bab-11d3308b409c-25\n"
     ]
    },
    {
     "name": "stderr",
     "output_type": "stream",
     "text": [
      " 10%|█         | 1249/12000 [00:47<06:37, 27.04it/s]"
     ]
    },
    {
     "name": "stdout",
     "output_type": "stream",
     "text": [
      "Step 1250: average-batch loss:209.8675346473606 rel loss: 0.001947738632917181\n",
      "Saved a checkpoint: /tmp/tfcheckpoints/6999490a-fd4e-4c79-8bab-11d3308b409c/6999490a-fd4e-4c79-8bab-11d3308b409c-26\n"
     ]
    },
    {
     "name": "stderr",
     "output_type": "stream",
     "text": [
      " 11%|█         | 1297/12000 [00:48<06:29, 27.45it/s]"
     ]
    },
    {
     "name": "stdout",
     "output_type": "stream",
     "text": [
      "Step 1300: average-batch loss:209.63664302489713 rel loss: 0.0011013896193522467\n",
      "Saved a checkpoint: /tmp/tfcheckpoints/6999490a-fd4e-4c79-8bab-11d3308b409c/6999490a-fd4e-4c79-8bab-11d3308b409c-27\n"
     ]
    },
    {
     "name": "stderr",
     "output_type": "stream",
     "text": [
      " 11%|█         | 1348/12000 [00:50<06:30, 27.25it/s]"
     ]
    },
    {
     "name": "stdout",
     "output_type": "stream",
     "text": [
      "Step 1350: average-batch loss:209.2626403302123 rel loss: 0.0017872406373859392\n",
      "Saved a checkpoint: /tmp/tfcheckpoints/6999490a-fd4e-4c79-8bab-11d3308b409c/6999490a-fd4e-4c79-8bab-11d3308b409c-28\n"
     ]
    },
    {
     "name": "stderr",
     "output_type": "stream",
     "text": [
      " 12%|█▏        | 1399/12000 [00:52<06:28, 27.31it/s]"
     ]
    },
    {
     "name": "stdout",
     "output_type": "stream",
     "text": [
      "Step 1400: average-batch loss:209.143568522809 rel loss: 0.0005693304759228176\n",
      "Saved a checkpoint: /tmp/tfcheckpoints/6999490a-fd4e-4c79-8bab-11d3308b409c/6999490a-fd4e-4c79-8bab-11d3308b409c-29\n"
     ]
    },
    {
     "name": "stderr",
     "output_type": "stream",
     "text": [
      " 12%|█▏        | 1447/12000 [00:54<06:33, 26.80it/s]"
     ]
    },
    {
     "name": "stdout",
     "output_type": "stream",
     "text": [
      "Step 1450: average-batch loss:208.7054291731912 rel loss: 0.002099319367749795\n",
      "Saved a checkpoint: /tmp/tfcheckpoints/6999490a-fd4e-4c79-8bab-11d3308b409c/6999490a-fd4e-4c79-8bab-11d3308b409c-30\n"
     ]
    },
    {
     "name": "stderr",
     "output_type": "stream",
     "text": [
      " 12%|█▏        | 1498/12000 [00:56<06:26, 27.19it/s]"
     ]
    },
    {
     "name": "stdout",
     "output_type": "stream",
     "text": [
      "Step 1500: average-batch loss:208.50900949408117 rel loss: 0.0009420201054458405\n",
      "Saved a checkpoint: /tmp/tfcheckpoints/6999490a-fd4e-4c79-8bab-11d3308b409c/6999490a-fd4e-4c79-8bab-11d3308b409c-31\n"
     ]
    },
    {
     "name": "stderr",
     "output_type": "stream",
     "text": [
      " 13%|█▎        | 1549/12000 [00:58<06:26, 27.05it/s]"
     ]
    },
    {
     "name": "stdout",
     "output_type": "stream",
     "text": [
      "Step 1550: average-batch loss:208.46154232628993 rel loss: 0.0002277022766959229\n",
      "Saved a checkpoint: /tmp/tfcheckpoints/6999490a-fd4e-4c79-8bab-11d3308b409c/6999490a-fd4e-4c79-8bab-11d3308b409c-32\n"
     ]
    },
    {
     "name": "stderr",
     "output_type": "stream",
     "text": [
      " 13%|█▎        | 1597/12000 [01:00<06:22, 27.23it/s]"
     ]
    },
    {
     "name": "stdout",
     "output_type": "stream",
     "text": [
      "Step 1600: average-batch loss:207.84009882292887 rel loss: 0.002990007736141947\n",
      "Saved a checkpoint: /tmp/tfcheckpoints/6999490a-fd4e-4c79-8bab-11d3308b409c/6999490a-fd4e-4c79-8bab-11d3308b409c-33\n"
     ]
    },
    {
     "name": "stderr",
     "output_type": "stream",
     "text": [
      " 14%|█▎        | 1648/12000 [01:02<06:19, 27.26it/s]"
     ]
    },
    {
     "name": "stdout",
     "output_type": "stream",
     "text": [
      "Step 1650: average-batch loss:207.61886456494364 rel loss: 0.0010655787875962874\n",
      "Saved a checkpoint: /tmp/tfcheckpoints/6999490a-fd4e-4c79-8bab-11d3308b409c/6999490a-fd4e-4c79-8bab-11d3308b409c-34\n"
     ]
    },
    {
     "name": "stderr",
     "output_type": "stream",
     "text": [
      " 14%|█▍        | 1699/12000 [01:03<06:20, 27.08it/s]"
     ]
    },
    {
     "name": "stdout",
     "output_type": "stream",
     "text": [
      "Step 1700: average-batch loss:207.37815888526717 rel loss: 0.001160708924075451\n",
      "Saved a checkpoint: /tmp/tfcheckpoints/6999490a-fd4e-4c79-8bab-11d3308b409c/6999490a-fd4e-4c79-8bab-11d3308b409c-35\n"
     ]
    },
    {
     "name": "stderr",
     "output_type": "stream",
     "text": [
      " 15%|█▍        | 1747/12000 [01:05<06:19, 27.04it/s]"
     ]
    },
    {
     "name": "stdout",
     "output_type": "stream",
     "text": [
      "Step 1750: average-batch loss:207.12500091704155 rel loss: 0.001222247276305471\n",
      "Saved a checkpoint: /tmp/tfcheckpoints/6999490a-fd4e-4c79-8bab-11d3308b409c/6999490a-fd4e-4c79-8bab-11d3308b409c-36\n"
     ]
    },
    {
     "name": "stderr",
     "output_type": "stream",
     "text": [
      " 15%|█▍        | 1798/12000 [01:07<06:19, 26.89it/s]"
     ]
    },
    {
     "name": "stdout",
     "output_type": "stream",
     "text": [
      "Step 1800: average-batch loss:206.69377744990535 rel loss: 0.0020862914813229157\n",
      "Saved a checkpoint: /tmp/tfcheckpoints/6999490a-fd4e-4c79-8bab-11d3308b409c/6999490a-fd4e-4c79-8bab-11d3308b409c-37\n"
     ]
    },
    {
     "name": "stderr",
     "output_type": "stream",
     "text": [
      " 15%|█▌        | 1849/12000 [01:09<06:16, 26.97it/s]"
     ]
    },
    {
     "name": "stdout",
     "output_type": "stream",
     "text": [
      "Step 1850: average-batch loss:206.6285414850021 rel loss: 0.0003157161369596512\n",
      "Saved a checkpoint: /tmp/tfcheckpoints/6999490a-fd4e-4c79-8bab-11d3308b409c/6999490a-fd4e-4c79-8bab-11d3308b409c-38\n"
     ]
    },
    {
     "name": "stderr",
     "output_type": "stream",
     "text": [
      " 16%|█▌        | 1897/12000 [01:11<06:12, 27.14it/s]"
     ]
    },
    {
     "name": "stdout",
     "output_type": "stream",
     "text": [
      "Step 1900: average-batch loss:206.2415014234192 rel loss: 0.0018766352015072406\n",
      "Saved a checkpoint: /tmp/tfcheckpoints/6999490a-fd4e-4c79-8bab-11d3308b409c/6999490a-fd4e-4c79-8bab-11d3308b409c-39\n"
     ]
    },
    {
     "name": "stderr",
     "output_type": "stream",
     "text": [
      " 16%|█▌        | 1948/12000 [01:13<06:13, 26.95it/s]"
     ]
    },
    {
     "name": "stdout",
     "output_type": "stream",
     "text": [
      "Step 1950: average-batch loss:205.9345950383771 rel loss: 0.001490309993738147\n",
      "Saved a checkpoint: /tmp/tfcheckpoints/6999490a-fd4e-4c79-8bab-11d3308b409c/6999490a-fd4e-4c79-8bab-11d3308b409c-40\n"
     ]
    },
    {
     "name": "stderr",
     "output_type": "stream",
     "text": [
      " 17%|█▋        | 1999/12000 [01:15<06:09, 27.10it/s]"
     ]
    },
    {
     "name": "stdout",
     "output_type": "stream",
     "text": [
      "Step 2000: average-batch loss:205.7151822335251 rel loss: 0.0010665853753220999\n",
      "Saved a checkpoint: /tmp/tfcheckpoints/6999490a-fd4e-4c79-8bab-11d3308b409c/6999490a-fd4e-4c79-8bab-11d3308b409c-41\n"
     ]
    },
    {
     "name": "stderr",
     "output_type": "stream",
     "text": [
      " 17%|█▋        | 2047/12000 [01:16<06:11, 26.76it/s]"
     ]
    },
    {
     "name": "stdout",
     "output_type": "stream",
     "text": [
      "Step 2050: average-batch loss:205.7249695761123 rel loss: 4.7574888976135396e-05\n",
      "New learning rate: 0.00045000000000000004\n"
     ]
    },
    {
     "name": "stderr",
     "output_type": "stream",
     "text": [
      " 17%|█▋        | 2098/12000 [01:18<06:06, 27.02it/s]"
     ]
    },
    {
     "name": "stdout",
     "output_type": "stream",
     "text": [
      "Step 2100: average-batch loss:205.22895406381963 rel loss: 0.0023691986928621603\n",
      "Saved a checkpoint: /tmp/tfcheckpoints/6999490a-fd4e-4c79-8bab-11d3308b409c/6999490a-fd4e-4c79-8bab-11d3308b409c-42\n"
     ]
    },
    {
     "name": "stderr",
     "output_type": "stream",
     "text": [
      " 18%|█▊        | 2149/12000 [01:20<06:04, 27.00it/s]"
     ]
    },
    {
     "name": "stdout",
     "output_type": "stream",
     "text": [
      "Step 2150: average-batch loss:205.09300000190967 rel loss: 0.000662889820270269\n",
      "Saved a checkpoint: /tmp/tfcheckpoints/6999490a-fd4e-4c79-8bab-11d3308b409c/6999490a-fd4e-4c79-8bab-11d3308b409c-43\n"
     ]
    },
    {
     "name": "stderr",
     "output_type": "stream",
     "text": [
      " 18%|█▊        | 2197/12000 [01:22<06:01, 27.10it/s]"
     ]
    },
    {
     "name": "stdout",
     "output_type": "stream",
     "text": [
      "Step 2200: average-batch loss:205.0420846493042 rel loss: 0.0002483165965297092\n",
      "Saved a checkpoint: /tmp/tfcheckpoints/6999490a-fd4e-4c79-8bab-11d3308b409c/6999490a-fd4e-4c79-8bab-11d3308b409c-44\n"
     ]
    },
    {
     "name": "stderr",
     "output_type": "stream",
     "text": [
      " 19%|█▊        | 2248/12000 [01:24<05:56, 27.34it/s]"
     ]
    },
    {
     "name": "stdout",
     "output_type": "stream",
     "text": [
      "Step 2250: average-batch loss:204.31937934124295 rel loss: 0.0035371353925964513\n",
      "Saved a checkpoint: /tmp/tfcheckpoints/6999490a-fd4e-4c79-8bab-11d3308b409c/6999490a-fd4e-4c79-8bab-11d3308b409c-45\n"
     ]
    },
    {
     "name": "stderr",
     "output_type": "stream",
     "text": [
      " 19%|█▉        | 2299/12000 [01:26<05:57, 27.17it/s]"
     ]
    },
    {
     "name": "stdout",
     "output_type": "stream",
     "text": [
      "Step 2300: average-batch loss:204.3944025359224 rel loss: 0.00036705112150160074\n",
      "New learning rate: 0.00040500000000000003\n"
     ]
    },
    {
     "name": "stderr",
     "output_type": "stream",
     "text": [
      " 20%|█▉        | 2347/12000 [01:28<05:53, 27.28it/s]"
     ]
    },
    {
     "name": "stdout",
     "output_type": "stream",
     "text": [
      "Step 2350: average-batch loss:203.84027010008205 rel loss: 0.002350415062370474\n",
      "Saved a checkpoint: /tmp/tfcheckpoints/6999490a-fd4e-4c79-8bab-11d3308b409c/6999490a-fd4e-4c79-8bab-11d3308b409c-46\n"
     ]
    },
    {
     "name": "stderr",
     "output_type": "stream",
     "text": [
      " 20%|█▉        | 2398/12000 [01:29<05:52, 27.24it/s]"
     ]
    },
    {
     "name": "stdout",
     "output_type": "stream",
     "text": [
      "Step 2400: average-batch loss:203.7743303992438 rel loss: 0.0003235917924944262\n",
      "Saved a checkpoint: /tmp/tfcheckpoints/6999490a-fd4e-4c79-8bab-11d3308b409c/6999490a-fd4e-4c79-8bab-11d3308b409c-47\n"
     ]
    },
    {
     "name": "stderr",
     "output_type": "stream",
     "text": [
      " 20%|██        | 2449/12000 [01:31<05:52, 27.10it/s]"
     ]
    },
    {
     "name": "stdout",
     "output_type": "stream",
     "text": [
      "Step 2450: average-batch loss:203.5042908056746 rel loss: 0.0013269479110249733\n",
      "Saved a checkpoint: /tmp/tfcheckpoints/6999490a-fd4e-4c79-8bab-11d3308b409c/6999490a-fd4e-4c79-8bab-11d3308b409c-48\n"
     ]
    },
    {
     "name": "stderr",
     "output_type": "stream",
     "text": [
      " 21%|██        | 2497/12000 [01:33<05:49, 27.16it/s]"
     ]
    },
    {
     "name": "stdout",
     "output_type": "stream",
     "text": [
      "Step 2500: average-batch loss:203.21576826735682 rel loss: 0.001419784206598522\n",
      "Saved a checkpoint: /tmp/tfcheckpoints/6999490a-fd4e-4c79-8bab-11d3308b409c/6999490a-fd4e-4c79-8bab-11d3308b409c-49\n"
     ]
    },
    {
     "name": "stderr",
     "output_type": "stream",
     "text": [
      " 21%|██        | 2548/12000 [01:35<05:50, 26.98it/s]"
     ]
    },
    {
     "name": "stdout",
     "output_type": "stream",
     "text": [
      "Step 2550: average-batch loss:203.2559406370213 rel loss: 0.0001976442584584319\n",
      "New learning rate: 0.0003645000000000001\n"
     ]
    },
    {
     "name": "stderr",
     "output_type": "stream",
     "text": [
      " 22%|██▏       | 2599/12000 [01:37<05:47, 27.05it/s]"
     ]
    },
    {
     "name": "stdout",
     "output_type": "stream",
     "text": [
      "Step 2600: average-batch loss:202.8850221999656 rel loss: 0.0016302143145157603\n",
      "Saved a checkpoint: /tmp/tfcheckpoints/6999490a-fd4e-4c79-8bab-11d3308b409c/6999490a-fd4e-4c79-8bab-11d3308b409c-50\n"
     ]
    },
    {
     "name": "stderr",
     "output_type": "stream",
     "text": [
      " 22%|██▏       | 2647/12000 [01:39<05:47, 26.91it/s]"
     ]
    },
    {
     "name": "stdout",
     "output_type": "stream",
     "text": [
      "Step 2650: average-batch loss:202.73777183652763 rel loss: 0.0007263094691436857\n",
      "Saved a checkpoint: /tmp/tfcheckpoints/6999490a-fd4e-4c79-8bab-11d3308b409c/6999490a-fd4e-4c79-8bab-11d3308b409c-51\n"
     ]
    },
    {
     "name": "stderr",
     "output_type": "stream",
     "text": [
      " 22%|██▏       | 2698/12000 [01:41<05:40, 27.31it/s]"
     ]
    },
    {
     "name": "stdout",
     "output_type": "stream",
     "text": [
      "Step 2700: average-batch loss:202.4448823508239 rel loss: 0.0014467616187806647\n",
      "Saved a checkpoint: /tmp/tfcheckpoints/6999490a-fd4e-4c79-8bab-11d3308b409c/6999490a-fd4e-4c79-8bab-11d3308b409c-52\n"
     ]
    },
    {
     "name": "stderr",
     "output_type": "stream",
     "text": [
      " 23%|██▎       | 2749/12000 [01:43<05:46, 26.72it/s]"
     ]
    },
    {
     "name": "stdout",
     "output_type": "stream",
     "text": [
      "Step 2750: average-batch loss:202.39046367466932 rel loss: 0.0002688796456439946\n",
      "Saved a checkpoint: /tmp/tfcheckpoints/6999490a-fd4e-4c79-8bab-11d3308b409c/6999490a-fd4e-4c79-8bab-11d3308b409c-53\n"
     ]
    },
    {
     "name": "stderr",
     "output_type": "stream",
     "text": [
      " 23%|██▎       | 2797/12000 [01:44<05:37, 27.27it/s]"
     ]
    },
    {
     "name": "stdout",
     "output_type": "stream",
     "text": [
      "Step 2800: average-batch loss:202.16756911452018 rel loss: 0.0011025238178675532\n",
      "Saved a checkpoint: /tmp/tfcheckpoints/6999490a-fd4e-4c79-8bab-11d3308b409c/6999490a-fd4e-4c79-8bab-11d3308b409c-54\n"
     ]
    },
    {
     "name": "stderr",
     "output_type": "stream",
     "text": [
      " 24%|██▎       | 2848/12000 [01:46<05:51, 26.06it/s]"
     ]
    },
    {
     "name": "stdout",
     "output_type": "stream",
     "text": [
      "Step 2850: average-batch loss:202.11817137694698 rel loss: 0.0002444002794834097\n",
      "Saved a checkpoint: /tmp/tfcheckpoints/6999490a-fd4e-4c79-8bab-11d3308b409c/6999490a-fd4e-4c79-8bab-11d3308b409c-55\n"
     ]
    },
    {
     "name": "stderr",
     "output_type": "stream",
     "text": [
      " 24%|██▍       | 2899/12000 [01:48<05:37, 26.96it/s]"
     ]
    },
    {
     "name": "stdout",
     "output_type": "stream",
     "text": [
      "Step 2900: average-batch loss:201.8579304126253 rel loss: 0.0012892283389099412\n",
      "Saved a checkpoint: /tmp/tfcheckpoints/6999490a-fd4e-4c79-8bab-11d3308b409c/6999490a-fd4e-4c79-8bab-11d3308b409c-56\n"
     ]
    },
    {
     "name": "stderr",
     "output_type": "stream",
     "text": [
      " 25%|██▍       | 2947/12000 [01:50<05:32, 27.26it/s]"
     ]
    },
    {
     "name": "stdout",
     "output_type": "stream",
     "text": [
      "Step 2950: average-batch loss:201.54167367925535 rel loss: 0.0015691877892870076\n",
      "Saved a checkpoint: /tmp/tfcheckpoints/6999490a-fd4e-4c79-8bab-11d3308b409c/6999490a-fd4e-4c79-8bab-11d3308b409c-57\n"
     ]
    },
    {
     "name": "stderr",
     "output_type": "stream",
     "text": [
      " 25%|██▍       | 2998/12000 [01:52<05:36, 26.79it/s]"
     ]
    },
    {
     "name": "stdout",
     "output_type": "stream",
     "text": [
      "Step 3000: average-batch loss:201.65105317996165 rel loss: 0.0005424196848041343\n",
      "New learning rate: 0.00032805000000000003\n"
     ]
    },
    {
     "name": "stderr",
     "output_type": "stream",
     "text": [
      " 25%|██▌       | 3049/12000 [01:54<05:29, 27.15it/s]"
     ]
    },
    {
     "name": "stdout",
     "output_type": "stream",
     "text": [
      "Step 3050: average-batch loss:201.31213204472775 rel loss: 0.0011402275272540795\n",
      "Saved a checkpoint: /tmp/tfcheckpoints/6999490a-fd4e-4c79-8bab-11d3308b409c/6999490a-fd4e-4c79-8bab-11d3308b409c-58\n"
     ]
    },
    {
     "name": "stderr",
     "output_type": "stream",
     "text": [
      " 26%|██▌       | 3097/12000 [01:56<05:29, 26.99it/s]"
     ]
    },
    {
     "name": "stdout",
     "output_type": "stream",
     "text": [
      "Step 3100: average-batch loss:201.14181768113568 rel loss: 0.0008467377174748619\n",
      "Saved a checkpoint: /tmp/tfcheckpoints/6999490a-fd4e-4c79-8bab-11d3308b409c/6999490a-fd4e-4c79-8bab-11d3308b409c-59\n"
     ]
    },
    {
     "name": "stderr",
     "output_type": "stream",
     "text": [
      " 26%|██▌       | 3148/12000 [01:58<05:26, 27.09it/s]"
     ]
    },
    {
     "name": "stdout",
     "output_type": "stream",
     "text": [
      "Step 3150: average-batch loss:201.17429481283094 rel loss: 0.0001614377807337433\n",
      "New learning rate: 0.000295245\n"
     ]
    },
    {
     "name": "stderr",
     "output_type": "stream",
     "text": [
      " 27%|██▋       | 3199/12000 [01:59<05:32, 26.43it/s]"
     ]
    },
    {
     "name": "stdout",
     "output_type": "stream",
     "text": [
      "Step 3200: average-batch loss:200.74945000650916 rel loss: 0.001954514319286009\n",
      "Saved a checkpoint: /tmp/tfcheckpoints/6999490a-fd4e-4c79-8bab-11d3308b409c/6999490a-fd4e-4c79-8bab-11d3308b409c-60\n"
     ]
    },
    {
     "name": "stderr",
     "output_type": "stream",
     "text": [
      " 27%|██▋       | 3247/12000 [02:01<05:25, 26.86it/s]"
     ]
    },
    {
     "name": "stdout",
     "output_type": "stream",
     "text": [
      "Step 3250: average-batch loss:200.83649797092178 rel loss: 0.00043342701795777417\n",
      "New learning rate: 0.0002657205\n"
     ]
    },
    {
     "name": "stderr",
     "output_type": "stream",
     "text": [
      " 27%|██▋       | 3298/12000 [02:03<05:22, 27.01it/s]"
     ]
    },
    {
     "name": "stdout",
     "output_type": "stream",
     "text": [
      "Step 3300: average-batch loss:200.59151072035024 rel loss: 0.0007873677484742038\n",
      "Saved a checkpoint: /tmp/tfcheckpoints/6999490a-fd4e-4c79-8bab-11d3308b409c/6999490a-fd4e-4c79-8bab-11d3308b409c-61\n"
     ]
    },
    {
     "name": "stderr",
     "output_type": "stream",
     "text": [
      " 28%|██▊       | 3349/12000 [02:05<05:18, 27.14it/s]"
     ]
    },
    {
     "name": "stdout",
     "output_type": "stream",
     "text": [
      "Step 3350: average-batch loss:200.3322882904217 rel loss: 0.0012939623070283468\n",
      "Saved a checkpoint: /tmp/tfcheckpoints/6999490a-fd4e-4c79-8bab-11d3308b409c/6999490a-fd4e-4c79-8bab-11d3308b409c-62\n"
     ]
    },
    {
     "name": "stderr",
     "output_type": "stream",
     "text": [
      " 28%|██▊       | 3397/12000 [02:07<05:18, 27.05it/s]"
     ]
    },
    {
     "name": "stdout",
     "output_type": "stream",
     "text": [
      "Step 3400: average-batch loss:200.57193012823234 rel loss: 0.0011947924999147512\n",
      "New learning rate: 0.00023914845000000005\n"
     ]
    },
    {
     "name": "stderr",
     "output_type": "stream",
     "text": [
      " 29%|██▊       | 3448/12000 [02:09<05:15, 27.09it/s]"
     ]
    },
    {
     "name": "stdout",
     "output_type": "stream",
     "text": [
      "Step 3450: average-batch loss:200.2609847272637 rel loss: 0.00035605319356199044\n",
      "Saved a checkpoint: /tmp/tfcheckpoints/6999490a-fd4e-4c79-8bab-11d3308b409c/6999490a-fd4e-4c79-8bab-11d3308b409c-63\n"
     ]
    },
    {
     "name": "stderr",
     "output_type": "stream",
     "text": [
      " 29%|██▉       | 3499/12000 [02:11<05:14, 27.00it/s]"
     ]
    },
    {
     "name": "stdout",
     "output_type": "stream",
     "text": [
      "Step 3500: average-batch loss:200.08252372804935 rel loss: 0.0008919369662534853\n",
      "Saved a checkpoint: /tmp/tfcheckpoints/6999490a-fd4e-4c79-8bab-11d3308b409c/6999490a-fd4e-4c79-8bab-11d3308b409c-64\n"
     ]
    },
    {
     "name": "stderr",
     "output_type": "stream",
     "text": [
      " 30%|██▉       | 3547/12000 [02:12<05:11, 27.13it/s]"
     ]
    },
    {
     "name": "stdout",
     "output_type": "stream",
     "text": [
      "Step 3550: average-batch loss:199.83277516090826 rel loss: 0.0012497878135355718\n",
      "Saved a checkpoint: /tmp/tfcheckpoints/6999490a-fd4e-4c79-8bab-11d3308b409c/6999490a-fd4e-4c79-8bab-11d3308b409c-65\n"
     ]
    },
    {
     "name": "stderr",
     "output_type": "stream",
     "text": [
      " 30%|██▉       | 3598/12000 [02:14<05:08, 27.21it/s]"
     ]
    },
    {
     "name": "stdout",
     "output_type": "stream",
     "text": [
      "Step 3600: average-batch loss:199.78900835354423 rel loss: 0.00021906514139443187\n",
      "Saved a checkpoint: /tmp/tfcheckpoints/6999490a-fd4e-4c79-8bab-11d3308b409c/6999490a-fd4e-4c79-8bab-11d3308b409c-66\n"
     ]
    },
    {
     "name": "stderr",
     "output_type": "stream",
     "text": [
      " 30%|███       | 3649/12000 [02:16<05:06, 27.22it/s]"
     ]
    },
    {
     "name": "stdout",
     "output_type": "stream",
     "text": [
      "Step 3650: average-batch loss:199.78188976510177 rel loss: 3.5631800514232476e-05\n",
      "Saved a checkpoint: /tmp/tfcheckpoints/6999490a-fd4e-4c79-8bab-11d3308b409c/6999490a-fd4e-4c79-8bab-11d3308b409c-67\n"
     ]
    },
    {
     "name": "stderr",
     "output_type": "stream",
     "text": [
      " 31%|███       | 3697/12000 [02:18<05:05, 27.17it/s]"
     ]
    },
    {
     "name": "stdout",
     "output_type": "stream",
     "text": [
      "Step 3700: average-batch loss:199.59014759963378 rel loss: 0.0009606795113584927\n",
      "Saved a checkpoint: /tmp/tfcheckpoints/6999490a-fd4e-4c79-8bab-11d3308b409c/6999490a-fd4e-4c79-8bab-11d3308b409c-68\n"
     ]
    },
    {
     "name": "stderr",
     "output_type": "stream",
     "text": [
      " 31%|███       | 3748/12000 [02:20<05:03, 27.20it/s]"
     ]
    },
    {
     "name": "stdout",
     "output_type": "stream",
     "text": [
      "Step 3750: average-batch loss:199.53098310950233 rel loss: 0.00029651780996328567\n",
      "Saved a checkpoint: /tmp/tfcheckpoints/6999490a-fd4e-4c79-8bab-11d3308b409c/6999490a-fd4e-4c79-8bab-11d3308b409c-69\n"
     ]
    },
    {
     "name": "stderr",
     "output_type": "stream",
     "text": [
      " 32%|███▏      | 3799/12000 [02:22<04:57, 27.57it/s]"
     ]
    },
    {
     "name": "stdout",
     "output_type": "stream",
     "text": [
      "Step 3800: average-batch loss:199.17969811856034 rel loss: 0.001763658617119157\n",
      "Saved a checkpoint: /tmp/tfcheckpoints/6999490a-fd4e-4c79-8bab-11d3308b409c/6999490a-fd4e-4c79-8bab-11d3308b409c-70\n"
     ]
    },
    {
     "name": "stderr",
     "output_type": "stream",
     "text": [
      " 32%|███▏      | 3847/12000 [02:24<05:01, 27.08it/s]"
     ]
    },
    {
     "name": "stdout",
     "output_type": "stream",
     "text": [
      "Step 3850: average-batch loss:199.15464072590802 rel loss: 0.00012581877359714889\n",
      "Saved a checkpoint: /tmp/tfcheckpoints/6999490a-fd4e-4c79-8bab-11d3308b409c/6999490a-fd4e-4c79-8bab-11d3308b409c-71\n"
     ]
    },
    {
     "name": "stderr",
     "output_type": "stream",
     "text": [
      " 32%|███▏      | 3898/12000 [02:26<05:00, 26.98it/s]"
     ]
    },
    {
     "name": "stdout",
     "output_type": "stream",
     "text": [
      "Step 3900: average-batch loss:199.00886355749822 rel loss: 0.0007325159583542335\n",
      "Saved a checkpoint: /tmp/tfcheckpoints/6999490a-fd4e-4c79-8bab-11d3308b409c/6999490a-fd4e-4c79-8bab-11d3308b409c-72\n"
     ]
    },
    {
     "name": "stderr",
     "output_type": "stream",
     "text": [
      " 33%|███▎      | 3949/12000 [02:27<04:56, 27.17it/s]"
     ]
    },
    {
     "name": "stdout",
     "output_type": "stream",
     "text": [
      "Step 3950: average-batch loss:199.02116952031116 rel loss: 6.18324314072001e-05\n",
      "New learning rate: 0.00021523360500000005\n"
     ]
    },
    {
     "name": "stderr",
     "output_type": "stream",
     "text": [
      " 33%|███▎      | 3997/12000 [02:29<04:57, 26.91it/s]"
     ]
    },
    {
     "name": "stdout",
     "output_type": "stream",
     "text": [
      "Step 4000: average-batch loss:199.01925901158094 rel loss: 5.2233407632781445e-05\n",
      "New learning rate: 0.00019371024450000004\n"
     ]
    },
    {
     "name": "stderr",
     "output_type": "stream",
     "text": [
      " 34%|███▎      | 4048/12000 [02:31<04:50, 27.34it/s]"
     ]
    },
    {
     "name": "stdout",
     "output_type": "stream",
     "text": [
      "Step 4050: average-batch loss:198.88241386041705 rel loss: 0.0006358012990023221\n",
      "Saved a checkpoint: /tmp/tfcheckpoints/6999490a-fd4e-4c79-8bab-11d3308b409c/6999490a-fd4e-4c79-8bab-11d3308b409c-73\n"
     ]
    },
    {
     "name": "stderr",
     "output_type": "stream",
     "text": [
      " 34%|███▍      | 4099/12000 [02:33<04:51, 27.06it/s]"
     ]
    },
    {
     "name": "stdout",
     "output_type": "stream",
     "text": [
      "Step 4100: average-batch loss:198.76445506163714 rel loss: 0.0005934602278024528\n",
      "Saved a checkpoint: /tmp/tfcheckpoints/6999490a-fd4e-4c79-8bab-11d3308b409c/6999490a-fd4e-4c79-8bab-11d3308b409c-74\n"
     ]
    },
    {
     "name": "stderr",
     "output_type": "stream",
     "text": [
      " 35%|███▍      | 4147/12000 [02:35<04:48, 27.20it/s]"
     ]
    },
    {
     "name": "stdout",
     "output_type": "stream",
     "text": [
      "Step 4150: average-batch loss:198.69728554053046 rel loss: 0.0003380495154926327\n",
      "Saved a checkpoint: /tmp/tfcheckpoints/6999490a-fd4e-4c79-8bab-11d3308b409c/6999490a-fd4e-4c79-8bab-11d3308b409c-75\n"
     ]
    },
    {
     "name": "stderr",
     "output_type": "stream",
     "text": [
      " 35%|███▍      | 4198/12000 [02:37<04:48, 27.00it/s]"
     ]
    },
    {
     "name": "stdout",
     "output_type": "stream",
     "text": [
      "Step 4200: average-batch loss:198.52711130707488 rel loss: 0.0008571838492746893\n",
      "Saved a checkpoint: /tmp/tfcheckpoints/6999490a-fd4e-4c79-8bab-11d3308b409c/6999490a-fd4e-4c79-8bab-11d3308b409c-76\n"
     ]
    },
    {
     "name": "stderr",
     "output_type": "stream",
     "text": [
      " 35%|███▌      | 4249/12000 [02:39<04:48, 26.90it/s]"
     ]
    },
    {
     "name": "stdout",
     "output_type": "stream",
     "text": [
      "Step 4250: average-batch loss:198.42160807258313 rel loss: 0.000531712425459005\n",
      "Saved a checkpoint: /tmp/tfcheckpoints/6999490a-fd4e-4c79-8bab-11d3308b409c/6999490a-fd4e-4c79-8bab-11d3308b409c-77\n"
     ]
    },
    {
     "name": "stderr",
     "output_type": "stream",
     "text": [
      " 36%|███▌      | 4297/12000 [02:40<04:44, 27.03it/s]"
     ]
    },
    {
     "name": "stdout",
     "output_type": "stream",
     "text": [
      "Step 4300: average-batch loss:198.33312486933517 rel loss: 0.00044613426681122903\n",
      "Saved a checkpoint: /tmp/tfcheckpoints/6999490a-fd4e-4c79-8bab-11d3308b409c/6999490a-fd4e-4c79-8bab-11d3308b409c-78\n"
     ]
    },
    {
     "name": "stderr",
     "output_type": "stream",
     "text": [
      " 36%|███▌      | 4348/12000 [02:42<04:44, 26.93it/s]"
     ]
    },
    {
     "name": "stdout",
     "output_type": "stream",
     "text": [
      "Step 4350: average-batch loss:198.37204824650186 rel loss: 0.00019621402062819588\n",
      "New learning rate: 0.00017433922005000006\n"
     ]
    },
    {
     "name": "stderr",
     "output_type": "stream",
     "text": [
      " 37%|███▋      | 4399/12000 [02:44<04:38, 27.30it/s]"
     ]
    },
    {
     "name": "stdout",
     "output_type": "stream",
     "text": [
      "Step 4400: average-batch loss:198.20374628240347 rel loss: 0.000652755507190833\n",
      "Saved a checkpoint: /tmp/tfcheckpoints/6999490a-fd4e-4c79-8bab-11d3308b409c/6999490a-fd4e-4c79-8bab-11d3308b409c-79\n"
     ]
    },
    {
     "name": "stderr",
     "output_type": "stream",
     "text": [
      " 37%|███▋      | 4447/12000 [02:46<04:34, 27.54it/s]"
     ]
    },
    {
     "name": "stdout",
     "output_type": "stream",
     "text": [
      "Step 4450: average-batch loss:198.17541520647126 rel loss: 0.00014295958912308976\n",
      "Saved a checkpoint: /tmp/tfcheckpoints/6999490a-fd4e-4c79-8bab-11d3308b409c/6999490a-fd4e-4c79-8bab-11d3308b409c-80\n"
     ]
    },
    {
     "name": "stderr",
     "output_type": "stream",
     "text": [
      " 37%|███▋      | 4498/12000 [02:48<04:36, 27.13it/s]"
     ]
    },
    {
     "name": "stdout",
     "output_type": "stream",
     "text": [
      "Step 4500: average-batch loss:197.86889994117976 rel loss: 0.0015490825763048769\n",
      "Saved a checkpoint: /tmp/tfcheckpoints/6999490a-fd4e-4c79-8bab-11d3308b409c/6999490a-fd4e-4c79-8bab-11d3308b409c-81\n"
     ]
    },
    {
     "name": "stderr",
     "output_type": "stream",
     "text": [
      " 38%|███▊      | 4549/12000 [02:50<04:34, 27.19it/s]"
     ]
    },
    {
     "name": "stdout",
     "output_type": "stream",
     "text": [
      "Step 4550: average-batch loss:198.13978823589298 rel loss: 0.0013671574857580541\n"
     ]
    },
    {
     "name": "stderr",
     "output_type": "stream",
     "text": []
    },
    {
     "name": "stdout",
     "output_type": "stream",
     "text": [
      "Terminating because the loss converged\n"
     ]
    },
    {
     "name": "stderr",
     "output_type": "stream",
     "text": [
      " 38%|███▊      | 4550/12000 [02:50<04:38, 26.72it/s]\n"
     ]
    }
   ],
   "source": [
    "\n",
    "losses = lr_model2.fit(\n",
    "    data_factory_factory(shuffle=True, repeat=True),\n",
    "    dataset_size=N,\n",
    "    batches_per_step=9,\n",
    "    check_every=int(N/batch_size)*50,\n",
    "    batch_size=batch_size,\n",
    "    num_steps=12000,\n",
    "    max_decay_steps=10,\n",
    "    max_plateau_epochs=500,\n",
    "    sample_size=36,\n",
    "    learning_rate=0.0005,\n",
    "    lr_decay_factor=0.9\n",
    "    )\n",
    "\n"
   ]
  },
  {
   "cell_type": "code",
   "execution_count": 39,
   "metadata": {},
   "outputs": [
    {
     "name": "stderr",
     "output_type": "stream",
     "text": [
      "100%|██████████| 1/1 [00:09<00:00,  9.89s/it]"
     ]
    },
    {
     "name": "stdout",
     "output_type": "stream",
     "text": [
      "{1000: {1: {'I0': [np.int64(0), np.int64(1), np.int64(2), np.int64(3), np.int64(4), np.int64(5), np.int64(6), np.int64(7), np.int64(8), np.int64(9), np.int64(10), np.int64(11), np.int64(12), np.int64(13), np.int64(14), np.int64(15), np.int64(16), np.int64(17), np.int64(18), np.int64(19), np.int64(20), np.int64(21), np.int64(22), np.int64(23), np.int64(24), np.int64(25), np.int64(26), np.int64(27), np.int64(28), np.int64(29), np.int64(30), np.int64(31), np.int64(32), np.int64(33), np.int64(34), np.int64(35), np.int64(36), np.int64(37), np.int64(38), np.int64(39), np.int64(40), np.int64(41), np.int64(42), np.int64(43), np.int64(44), np.int64(45), np.int64(46), np.int64(47), np.int64(48), np.int64(49), np.int64(50), np.int64(51), np.int64(52), np.int64(53), np.int64(54), np.int64(55), np.int64(56), np.int64(57), np.int64(58), np.int64(59), np.int64(60), np.int64(61), np.int64(62), np.int64(63), np.int64(64), np.int64(65), np.int64(66), np.int64(67), np.int64(68), np.int64(69), np.int64(70), np.int64(71), np.int64(72), np.int64(73), np.int64(74), np.int64(75), np.int64(76), np.int64(77), np.int64(78), np.int64(79), np.int64(80), np.int64(81), np.int64(82), np.int64(83), np.int64(84), np.int64(85), np.int64(86), np.int64(87), np.int64(88), np.int64(89), np.int64(90), np.int64(91), np.int64(92), np.int64(93), np.int64(94), np.int64(95), np.int64(96), np.int64(97), np.int64(98), np.int64(99), np.int64(100), np.int64(101), np.int64(102), np.int64(103), np.int64(104), np.int64(105), np.int64(106), np.int64(107), np.int64(108), np.int64(109), np.int64(110), np.int64(111), np.int64(112), np.int64(113), np.int64(114), np.int64(115), np.int64(116), np.int64(117), np.int64(118), np.int64(119), np.int64(120), np.int64(121), np.int64(122), np.int64(123), np.int64(124), np.int64(125), np.int64(126), np.int64(127), np.int64(128), np.int64(129), np.int64(130), np.int64(131), np.int64(132), np.int64(133), np.int64(134), np.int64(135), np.int64(136), np.int64(137), np.int64(138), np.int64(139), np.int64(140), np.int64(141), np.int64(142), np.int64(143), np.int64(144), np.int64(145), np.int64(146), np.int64(147), np.int64(148), np.int64(149), np.int64(150), np.int64(151), np.int64(152), np.int64(153), np.int64(154), np.int64(155), np.int64(156), np.int64(157), np.int64(158), np.int64(159), np.int64(160), np.int64(161), np.int64(162), np.int64(163), np.int64(164), np.int64(165), np.int64(166), np.int64(167), np.int64(168), np.int64(169), np.int64(170), np.int64(171), np.int64(172), np.int64(173), np.int64(174), np.int64(175), np.int64(176), np.int64(177), np.int64(178), np.int64(179), np.int64(180), np.int64(181), np.int64(182), np.int64(183), np.int64(184), np.int64(185), np.int64(186), np.int64(187), np.int64(188), np.int64(189), np.int64(190), np.int64(191), np.int64(192), np.int64(193), np.int64(194), np.int64(195), np.int64(196), np.int64(197), np.int64(198), np.int64(199), np.int64(200), np.int64(201), np.int64(202), np.int64(203), np.int64(204), np.int64(205), np.int64(206), np.int64(207), np.int64(208), np.int64(209), np.int64(210), np.int64(211), np.int64(212), np.int64(213), np.int64(214), np.int64(215), np.int64(216), np.int64(217), np.int64(218), np.int64(219), np.int64(220), np.int64(221), np.int64(222), np.int64(223), np.int64(224), np.int64(225), np.int64(226), np.int64(227), np.int64(228), np.int64(229), np.int64(230), np.int64(231), np.int64(232), np.int64(233), np.int64(234), np.int64(235), np.int64(236), np.int64(237), np.int64(238), np.int64(239), np.int64(240), np.int64(241), np.int64(242), np.int64(243), np.int64(244), np.int64(245), np.int64(246), np.int64(247), np.int64(248), np.int64(249), np.int64(250), np.int64(251), np.int64(252), np.int64(253), np.int64(254), np.int64(255), np.int64(256), np.int64(257), np.int64(258), np.int64(259), np.int64(260), np.int64(261)], 'I': [], 'LL': [], 'KL': [], 'Var': [], 'MM1': [], 'MM2': []}, 0.25: {'I0': [np.int64(0), np.int64(1), np.int64(2), np.int64(3), np.int64(4), np.int64(5), np.int64(6), np.int64(7), np.int64(8), np.int64(9), np.int64(10), np.int64(11), np.int64(12), np.int64(13), np.int64(14), np.int64(15), np.int64(16), np.int64(17), np.int64(18), np.int64(19), np.int64(20), np.int64(21), np.int64(22), np.int64(23), np.int64(24), np.int64(25), np.int64(26), np.int64(27), np.int64(28), np.int64(29), np.int64(30), np.int64(31), np.int64(32), np.int64(33), np.int64(34), np.int64(35), np.int64(36), np.int64(37), np.int64(38), np.int64(39), np.int64(40), np.int64(41), np.int64(42), np.int64(43), np.int64(44), np.int64(45), np.int64(46), np.int64(47), np.int64(48), np.int64(49), np.int64(50), np.int64(51), np.int64(52), np.int64(53), np.int64(54), np.int64(55), np.int64(56), np.int64(57), np.int64(58), np.int64(59), np.int64(60), np.int64(61), np.int64(62), np.int64(63), np.int64(64), np.int64(65), np.int64(66), np.int64(67), np.int64(68), np.int64(69), np.int64(70), np.int64(71), np.int64(72), np.int64(73), np.int64(74), np.int64(75), np.int64(76), np.int64(77), np.int64(78), np.int64(79), np.int64(80), np.int64(81), np.int64(82), np.int64(83), np.int64(84), np.int64(85), np.int64(86), np.int64(87), np.int64(88), np.int64(89), np.int64(90), np.int64(91), np.int64(92), np.int64(93), np.int64(94), np.int64(95), np.int64(96), np.int64(97), np.int64(98), np.int64(99), np.int64(100), np.int64(101), np.int64(102), np.int64(103), np.int64(104), np.int64(105), np.int64(106), np.int64(107), np.int64(108), np.int64(109), np.int64(110), np.int64(111), np.int64(112), np.int64(113), np.int64(114), np.int64(115), np.int64(116), np.int64(117), np.int64(118), np.int64(119), np.int64(120), np.int64(121), np.int64(122), np.int64(123), np.int64(124), np.int64(125), np.int64(126), np.int64(127), np.int64(128), np.int64(129), np.int64(130), np.int64(131), np.int64(132), np.int64(133), np.int64(134), np.int64(135), np.int64(136), np.int64(137), np.int64(138), np.int64(139), np.int64(140), np.int64(141), np.int64(142), np.int64(143), np.int64(144), np.int64(145), np.int64(146), np.int64(147), np.int64(148), np.int64(149), np.int64(150), np.int64(151), np.int64(152), np.int64(153), np.int64(154), np.int64(155), np.int64(156), np.int64(157), np.int64(158), np.int64(159), np.int64(160), np.int64(161), np.int64(162), np.int64(163), np.int64(164), np.int64(165), np.int64(166), np.int64(167), np.int64(168), np.int64(169), np.int64(170), np.int64(171), np.int64(172), np.int64(173), np.int64(174), np.int64(175), np.int64(176), np.int64(177), np.int64(178), np.int64(179), np.int64(180), np.int64(181), np.int64(182), np.int64(183), np.int64(184), np.int64(185), np.int64(186), np.int64(187), np.int64(188), np.int64(189), np.int64(190), np.int64(191), np.int64(192), np.int64(193), np.int64(194), np.int64(195), np.int64(196), np.int64(197), np.int64(198), np.int64(199), np.int64(200), np.int64(201), np.int64(202), np.int64(203), np.int64(204), np.int64(205), np.int64(206), np.int64(207), np.int64(208), np.int64(209), np.int64(210), np.int64(211), np.int64(212), np.int64(213), np.int64(214), np.int64(215), np.int64(216), np.int64(217), np.int64(218), np.int64(219), np.int64(220), np.int64(221), np.int64(222), np.int64(223), np.int64(224), np.int64(225), np.int64(226), np.int64(227), np.int64(228), np.int64(229), np.int64(230), np.int64(231), np.int64(232), np.int64(233), np.int64(234), np.int64(235), np.int64(236), np.int64(237), np.int64(238), np.int64(239), np.int64(240), np.int64(241), np.int64(242), np.int64(243), np.int64(244), np.int64(245), np.int64(246), np.int64(247), np.int64(248), np.int64(249), np.int64(250), np.int64(251), np.int64(252), np.int64(253), np.int64(254), np.int64(255), np.int64(256), np.int64(257), np.int64(258), np.int64(259), np.int64(260), np.int64(261)], 'I': [], 'LL': [], 'KL': [], 'Var': [], 'MM1': [], 'MM2': []}, 0.0625: {'I0': [np.int64(0), np.int64(1), np.int64(2), np.int64(3), np.int64(4), np.int64(5), np.int64(6), np.int64(7), np.int64(8), np.int64(9), np.int64(10), np.int64(11), np.int64(12), np.int64(13), np.int64(14), np.int64(15), np.int64(16), np.int64(17), np.int64(18), np.int64(19), np.int64(20), np.int64(21), np.int64(22), np.int64(23), np.int64(24), np.int64(25), np.int64(26), np.int64(27), np.int64(28), np.int64(29), np.int64(30), np.int64(31), np.int64(32), np.int64(33), np.int64(34), np.int64(35), np.int64(36), np.int64(37), np.int64(38), np.int64(39), np.int64(40), np.int64(41), np.int64(42), np.int64(43), np.int64(44), np.int64(45), np.int64(46), np.int64(47), np.int64(48), np.int64(49), np.int64(50), np.int64(51), np.int64(52), np.int64(53), np.int64(54), np.int64(55), np.int64(56), np.int64(57), np.int64(58), np.int64(59), np.int64(60), np.int64(61), np.int64(62), np.int64(63), np.int64(64), np.int64(65), np.int64(66), np.int64(67), np.int64(68), np.int64(69), np.int64(70), np.int64(71), np.int64(72), np.int64(73), np.int64(74), np.int64(75), np.int64(76), np.int64(77), np.int64(78), np.int64(79), np.int64(80), np.int64(81), np.int64(82), np.int64(83), np.int64(84), np.int64(85), np.int64(86), np.int64(87), np.int64(88), np.int64(89), np.int64(90), np.int64(91), np.int64(92), np.int64(93), np.int64(94), np.int64(95), np.int64(96), np.int64(97), np.int64(98), np.int64(99), np.int64(100), np.int64(101), np.int64(102), np.int64(103), np.int64(104), np.int64(105), np.int64(106), np.int64(107), np.int64(108), np.int64(109), np.int64(110), np.int64(111), np.int64(112), np.int64(113), np.int64(114), np.int64(115), np.int64(116), np.int64(117), np.int64(118), np.int64(119), np.int64(120), np.int64(121), np.int64(122), np.int64(123), np.int64(124), np.int64(125), np.int64(126), np.int64(127), np.int64(128), np.int64(129), np.int64(130), np.int64(131), np.int64(132), np.int64(133), np.int64(134), np.int64(135), np.int64(136), np.int64(137), np.int64(138), np.int64(139), np.int64(140), np.int64(141), np.int64(142), np.int64(143), np.int64(144), np.int64(145), np.int64(146), np.int64(147), np.int64(148), np.int64(149), np.int64(150), np.int64(151), np.int64(152), np.int64(153), np.int64(154), np.int64(155), np.int64(156), np.int64(157), np.int64(158), np.int64(159), np.int64(160), np.int64(161), np.int64(162), np.int64(163), np.int64(164), np.int64(165), np.int64(166), np.int64(167), np.int64(168), np.int64(169), np.int64(170), np.int64(171), np.int64(172), np.int64(173), np.int64(174), np.int64(175), np.int64(176), np.int64(177), np.int64(178), np.int64(179), np.int64(180), np.int64(181), np.int64(182), np.int64(183), np.int64(184), np.int64(185), np.int64(186), np.int64(187), np.int64(188), np.int64(189), np.int64(190), np.int64(191), np.int64(192), np.int64(193), np.int64(194), np.int64(195), np.int64(196), np.int64(197), np.int64(198), np.int64(199), np.int64(200), np.int64(201), np.int64(202), np.int64(203), np.int64(204), np.int64(205), np.int64(206), np.int64(207), np.int64(208), np.int64(209), np.int64(210), np.int64(211), np.int64(212), np.int64(213), np.int64(214), np.int64(215), np.int64(216), np.int64(217), np.int64(218), np.int64(219), np.int64(220), np.int64(221), np.int64(222), np.int64(223), np.int64(224), np.int64(225), np.int64(226), np.int64(227), np.int64(228), np.int64(229), np.int64(230), np.int64(231), np.int64(232), np.int64(233), np.int64(234), np.int64(235), np.int64(236), np.int64(237), np.int64(238), np.int64(239), np.int64(240), np.int64(241), np.int64(242), np.int64(243), np.int64(244), np.int64(245), np.int64(246), np.int64(247), np.int64(248), np.int64(249), np.int64(250), np.int64(251), np.int64(252), np.int64(253), np.int64(254), np.int64(255), np.int64(256), np.int64(257), np.int64(258), np.int64(259), np.int64(260), np.int64(261)], 'I': [], 'LL': [], 'KL': [], 'Var': [], 'MM1': [], 'MM2': []}, 0.015625: {'I0': [np.int64(0), np.int64(1), np.int64(2), np.int64(3), np.int64(4), np.int64(5), np.int64(6), np.int64(7), np.int64(8), np.int64(9), np.int64(10), np.int64(11), np.int64(12), np.int64(13), np.int64(14), np.int64(15), np.int64(16), np.int64(17), np.int64(18), np.int64(19), np.int64(20), np.int64(21), np.int64(22), np.int64(23), np.int64(24), np.int64(25), np.int64(26), np.int64(27), np.int64(28), np.int64(29), np.int64(30), np.int64(31), np.int64(32), np.int64(33), np.int64(34), np.int64(35), np.int64(36), np.int64(37), np.int64(38), np.int64(39), np.int64(40), np.int64(41), np.int64(42), np.int64(43), np.int64(44), np.int64(45), np.int64(46), np.int64(47), np.int64(48), np.int64(49), np.int64(50), np.int64(51), np.int64(52), np.int64(53), np.int64(54), np.int64(55), np.int64(56), np.int64(57), np.int64(58), np.int64(59), np.int64(60), np.int64(61), np.int64(62), np.int64(63), np.int64(64), np.int64(65), np.int64(66), np.int64(67), np.int64(68), np.int64(69), np.int64(70), np.int64(71), np.int64(72), np.int64(73), np.int64(74), np.int64(75), np.int64(76), np.int64(77), np.int64(78), np.int64(79), np.int64(80), np.int64(81), np.int64(82), np.int64(83), np.int64(84), np.int64(85), np.int64(86), np.int64(87), np.int64(88), np.int64(89), np.int64(90), np.int64(91), np.int64(92), np.int64(93), np.int64(94), np.int64(95), np.int64(96), np.int64(97), np.int64(98), np.int64(99), np.int64(100), np.int64(101), np.int64(102), np.int64(103), np.int64(104), np.int64(105), np.int64(106), np.int64(107), np.int64(108), np.int64(109), np.int64(110), np.int64(111), np.int64(112), np.int64(113), np.int64(114), np.int64(115), np.int64(116), np.int64(117), np.int64(118), np.int64(119), np.int64(120), np.int64(121), np.int64(122), np.int64(123), np.int64(124), np.int64(125), np.int64(126), np.int64(127), np.int64(128), np.int64(129), np.int64(130), np.int64(131), np.int64(132), np.int64(133), np.int64(134), np.int64(135), np.int64(136), np.int64(137), np.int64(138), np.int64(139), np.int64(140), np.int64(141), np.int64(142), np.int64(143), np.int64(144), np.int64(145), np.int64(146), np.int64(147), np.int64(148), np.int64(149), np.int64(150), np.int64(151), np.int64(152), np.int64(153), np.int64(154), np.int64(155), np.int64(156), np.int64(157), np.int64(158), np.int64(159), np.int64(160), np.int64(161), np.int64(162), np.int64(163), np.int64(164), np.int64(165), np.int64(166), np.int64(167), np.int64(168), np.int64(169), np.int64(170), np.int64(171), np.int64(172), np.int64(173), np.int64(174), np.int64(175), np.int64(176), np.int64(177), np.int64(178), np.int64(179), np.int64(180), np.int64(181), np.int64(182), np.int64(183), np.int64(184), np.int64(185), np.int64(186), np.int64(187), np.int64(188), np.int64(189), np.int64(190), np.int64(191), np.int64(192), np.int64(193), np.int64(194), np.int64(195), np.int64(196), np.int64(197), np.int64(198), np.int64(199), np.int64(200), np.int64(201), np.int64(202), np.int64(203), np.int64(204), np.int64(205), np.int64(206), np.int64(207), np.int64(208), np.int64(209), np.int64(210), np.int64(211), np.int64(212), np.int64(213), np.int64(214), np.int64(215), np.int64(216), np.int64(217), np.int64(218), np.int64(219), np.int64(220), np.int64(221), np.int64(222), np.int64(223), np.int64(224), np.int64(225), np.int64(226), np.int64(227), np.int64(228), np.int64(229), np.int64(230), np.int64(231), np.int64(232), np.int64(233), np.int64(234), np.int64(235), np.int64(236), np.int64(237), np.int64(238), np.int64(239), np.int64(240), np.int64(241), np.int64(242), np.int64(243), np.int64(244), np.int64(245), np.int64(246), np.int64(247), np.int64(248), np.int64(249), np.int64(250), np.int64(251), np.int64(252), np.int64(253), np.int64(254), np.int64(255), np.int64(256), np.int64(257), np.int64(258), np.int64(259), np.int64(260), np.int64(261)], 'I': [], 'LL': [], 'KL': [], 'Var': [], 'MM1': [], 'MM2': []}, 0.00390625: {'I0': [np.int64(0), np.int64(1), np.int64(2), np.int64(3), np.int64(4), np.int64(5), np.int64(6), np.int64(7), np.int64(8), np.int64(9), np.int64(10), np.int64(11), np.int64(12), np.int64(13), np.int64(14), np.int64(15), np.int64(16), np.int64(17), np.int64(18), np.int64(19), np.int64(20), np.int64(21), np.int64(22), np.int64(23), np.int64(24), np.int64(25), np.int64(26), np.int64(27), np.int64(28), np.int64(29), np.int64(30), np.int64(31), np.int64(32), np.int64(33), np.int64(34), np.int64(35), np.int64(36), np.int64(37), np.int64(38), np.int64(39), np.int64(40), np.int64(41), np.int64(42), np.int64(43), np.int64(44), np.int64(45), np.int64(46), np.int64(47), np.int64(48), np.int64(49), np.int64(50), np.int64(51), np.int64(52), np.int64(53), np.int64(54), np.int64(55), np.int64(56), np.int64(57), np.int64(58), np.int64(59), np.int64(60), np.int64(61), np.int64(62), np.int64(63), np.int64(64), np.int64(65), np.int64(66), np.int64(67), np.int64(68), np.int64(69), np.int64(70), np.int64(71), np.int64(72), np.int64(73), np.int64(74), np.int64(75), np.int64(76), np.int64(77), np.int64(78), np.int64(79), np.int64(80), np.int64(81), np.int64(82), np.int64(83), np.int64(84), np.int64(85), np.int64(86), np.int64(87), np.int64(88), np.int64(89), np.int64(90), np.int64(91), np.int64(92), np.int64(93), np.int64(94), np.int64(95), np.int64(96), np.int64(97), np.int64(98), np.int64(99), np.int64(100), np.int64(101), np.int64(102), np.int64(103), np.int64(104), np.int64(105), np.int64(106), np.int64(107), np.int64(108), np.int64(109), np.int64(110), np.int64(111), np.int64(112), np.int64(113), np.int64(114), np.int64(115), np.int64(116), np.int64(117), np.int64(118), np.int64(119), np.int64(120), np.int64(121), np.int64(122), np.int64(123), np.int64(124), np.int64(125), np.int64(126), np.int64(127), np.int64(128), np.int64(129), np.int64(130), np.int64(131), np.int64(132), np.int64(133), np.int64(134), np.int64(135), np.int64(136), np.int64(137), np.int64(138), np.int64(139), np.int64(140), np.int64(141), np.int64(142), np.int64(143), np.int64(144), np.int64(145), np.int64(146), np.int64(147), np.int64(148), np.int64(149), np.int64(150), np.int64(151), np.int64(152), np.int64(153), np.int64(154), np.int64(155), np.int64(156), np.int64(157), np.int64(158), np.int64(159), np.int64(160), np.int64(161), np.int64(162), np.int64(163), np.int64(164), np.int64(165), np.int64(166), np.int64(167), np.int64(168), np.int64(169), np.int64(170), np.int64(171), np.int64(172), np.int64(173), np.int64(174), np.int64(175), np.int64(176), np.int64(177), np.int64(178), np.int64(179), np.int64(180), np.int64(181), np.int64(182), np.int64(183), np.int64(184), np.int64(185), np.int64(186), np.int64(187), np.int64(188), np.int64(189), np.int64(190), np.int64(191), np.int64(192), np.int64(193), np.int64(194), np.int64(195), np.int64(196), np.int64(197), np.int64(198), np.int64(199), np.int64(200), np.int64(201), np.int64(202), np.int64(203), np.int64(204), np.int64(205), np.int64(206), np.int64(207), np.int64(208), np.int64(209), np.int64(210), np.int64(211), np.int64(212), np.int64(213), np.int64(214), np.int64(215), np.int64(216), np.int64(217), np.int64(218), np.int64(219), np.int64(220), np.int64(221), np.int64(222), np.int64(223), np.int64(224), np.int64(225), np.int64(226), np.int64(227), np.int64(228), np.int64(229), np.int64(230), np.int64(231), np.int64(232), np.int64(233), np.int64(234), np.int64(235), np.int64(236), np.int64(237), np.int64(238), np.int64(239), np.int64(240), np.int64(241), np.int64(242), np.int64(243), np.int64(244), np.int64(245), np.int64(246), np.int64(247), np.int64(248), np.int64(249), np.int64(250), np.int64(251), np.int64(252), np.int64(253), np.int64(254), np.int64(255), np.int64(256), np.int64(257), np.int64(258), np.int64(259), np.int64(260), np.int64(261)], 'I': [], 'LL': [], 'KL': [], 'Var': [], 'MM1': [], 'MM2': []}, 0.0009765625: {'I0': [np.int64(0), np.int64(1), np.int64(2), np.int64(3), np.int64(4), np.int64(5), np.int64(6), np.int64(7), np.int64(8), np.int64(9), np.int64(10), np.int64(11), np.int64(12), np.int64(13), np.int64(14), np.int64(15), np.int64(16), np.int64(17), np.int64(18), np.int64(19), np.int64(20), np.int64(21), np.int64(22), np.int64(23), np.int64(24), np.int64(25), np.int64(26), np.int64(27), np.int64(28), np.int64(29), np.int64(30), np.int64(31), np.int64(32), np.int64(33), np.int64(34), np.int64(35), np.int64(36), np.int64(37), np.int64(38), np.int64(39), np.int64(40), np.int64(41), np.int64(42), np.int64(43), np.int64(44), np.int64(45), np.int64(46), np.int64(47), np.int64(48), np.int64(49), np.int64(50), np.int64(51), np.int64(52), np.int64(53), np.int64(54), np.int64(55), np.int64(56), np.int64(57), np.int64(58), np.int64(59), np.int64(60), np.int64(61), np.int64(62), np.int64(63), np.int64(64), np.int64(65), np.int64(66), np.int64(67), np.int64(68), np.int64(69), np.int64(70), np.int64(71), np.int64(72), np.int64(73), np.int64(74), np.int64(75), np.int64(76), np.int64(77), np.int64(78), np.int64(79), np.int64(80), np.int64(81), np.int64(82), np.int64(83), np.int64(84), np.int64(85), np.int64(86), np.int64(87), np.int64(88), np.int64(89), np.int64(90), np.int64(91), np.int64(92), np.int64(93), np.int64(94), np.int64(95), np.int64(96), np.int64(97), np.int64(98), np.int64(99), np.int64(100), np.int64(101), np.int64(102), np.int64(103), np.int64(104), np.int64(105), np.int64(106), np.int64(107), np.int64(108), np.int64(109), np.int64(110), np.int64(111), np.int64(112), np.int64(113), np.int64(114), np.int64(115), np.int64(116), np.int64(117), np.int64(118), np.int64(119), np.int64(120), np.int64(121), np.int64(122), np.int64(123), np.int64(124), np.int64(125), np.int64(126), np.int64(127), np.int64(128), np.int64(129), np.int64(130), np.int64(131), np.int64(132), np.int64(133), np.int64(134), np.int64(135), np.int64(136), np.int64(137), np.int64(138), np.int64(139), np.int64(140), np.int64(141), np.int64(142), np.int64(143), np.int64(144), np.int64(145), np.int64(146), np.int64(147), np.int64(148), np.int64(149), np.int64(150), np.int64(151), np.int64(152), np.int64(153), np.int64(154), np.int64(155), np.int64(156), np.int64(157), np.int64(158), np.int64(159), np.int64(160), np.int64(161), np.int64(162), np.int64(163), np.int64(164), np.int64(165), np.int64(166), np.int64(167), np.int64(168), np.int64(169), np.int64(170), np.int64(171), np.int64(172), np.int64(173), np.int64(174), np.int64(175), np.int64(176), np.int64(177), np.int64(178), np.int64(179), np.int64(180), np.int64(181), np.int64(182), np.int64(183), np.int64(184), np.int64(185), np.int64(186), np.int64(187), np.int64(188), np.int64(189), np.int64(190), np.int64(191), np.int64(192), np.int64(193), np.int64(194), np.int64(195), np.int64(196), np.int64(197), np.int64(198), np.int64(199), np.int64(200), np.int64(201), np.int64(202), np.int64(203), np.int64(204), np.int64(205), np.int64(206), np.int64(207), np.int64(208), np.int64(209), np.int64(210), np.int64(211), np.int64(212), np.int64(213), np.int64(214), np.int64(215), np.int64(216), np.int64(217), np.int64(218), np.int64(219), np.int64(220), np.int64(221), np.int64(222), np.int64(223), np.int64(224), np.int64(225), np.int64(226), np.int64(227), np.int64(228), np.int64(229), np.int64(230), np.int64(231), np.int64(232), np.int64(233), np.int64(234), np.int64(235), np.int64(236), np.int64(237), np.int64(238), np.int64(239), np.int64(240), np.int64(241), np.int64(242), np.int64(243), np.int64(244), np.int64(245), np.int64(246), np.int64(247), np.int64(248), np.int64(249), np.int64(250), np.int64(251), np.int64(252), np.int64(253), np.int64(254), np.int64(255), np.int64(256), np.int64(257), np.int64(258), np.int64(259), np.int64(260), np.int64(261)], 'I': [], 'LL': [], 'KL': [], 'Var': [], 'MM1': [], 'MM2': []}, 0.000244140625: {'I0': [np.int64(0), np.int64(1), np.int64(2), np.int64(3), np.int64(4), np.int64(5), np.int64(6), np.int64(7), np.int64(8), np.int64(9), np.int64(10), np.int64(11), np.int64(12), np.int64(13), np.int64(14), np.int64(15), np.int64(16), np.int64(17), np.int64(18), np.int64(19), np.int64(20), np.int64(21), np.int64(22), np.int64(23), np.int64(24), np.int64(25), np.int64(26), np.int64(27), np.int64(28), np.int64(29), np.int64(30), np.int64(31), np.int64(32), np.int64(33), np.int64(34), np.int64(35), np.int64(36), np.int64(37), np.int64(38), np.int64(39), np.int64(40), np.int64(41), np.int64(42), np.int64(43), np.int64(44), np.int64(45), np.int64(46), np.int64(47), np.int64(48), np.int64(49), np.int64(50), np.int64(51), np.int64(52), np.int64(53), np.int64(54), np.int64(55), np.int64(56), np.int64(57), np.int64(58), np.int64(59), np.int64(60), np.int64(61), np.int64(62), np.int64(63), np.int64(64), np.int64(65), np.int64(66), np.int64(67), np.int64(68), np.int64(69), np.int64(70), np.int64(71), np.int64(72), np.int64(73), np.int64(74), np.int64(75), np.int64(76), np.int64(77), np.int64(78), np.int64(79), np.int64(80), np.int64(81), np.int64(82), np.int64(83), np.int64(84), np.int64(85), np.int64(86), np.int64(87), np.int64(88), np.int64(89), np.int64(90), np.int64(91), np.int64(92), np.int64(93), np.int64(94), np.int64(95), np.int64(96), np.int64(97), np.int64(98), np.int64(99), np.int64(100), np.int64(101), np.int64(102), np.int64(103), np.int64(104), np.int64(105), np.int64(106), np.int64(107), np.int64(108), np.int64(109), np.int64(110), np.int64(111), np.int64(112), np.int64(113), np.int64(114), np.int64(115), np.int64(116), np.int64(117), np.int64(118), np.int64(119), np.int64(120), np.int64(121), np.int64(122), np.int64(123), np.int64(124), np.int64(125), np.int64(126), np.int64(127), np.int64(128), np.int64(129), np.int64(130), np.int64(131), np.int64(132), np.int64(133), np.int64(134), np.int64(135), np.int64(136), np.int64(137), np.int64(138), np.int64(139), np.int64(140), np.int64(141), np.int64(142), np.int64(143), np.int64(144), np.int64(145), np.int64(146), np.int64(147), np.int64(148), np.int64(149), np.int64(150), np.int64(151), np.int64(152), np.int64(153), np.int64(154), np.int64(155), np.int64(156), np.int64(157), np.int64(158), np.int64(159), np.int64(160), np.int64(161), np.int64(162), np.int64(163), np.int64(164), np.int64(165), np.int64(166), np.int64(167), np.int64(168), np.int64(169), np.int64(170), np.int64(171), np.int64(172), np.int64(173), np.int64(174), np.int64(175), np.int64(176), np.int64(177), np.int64(178), np.int64(179), np.int64(180), np.int64(181), np.int64(182), np.int64(183), np.int64(184), np.int64(185), np.int64(186), np.int64(187), np.int64(188), np.int64(189), np.int64(190), np.int64(191), np.int64(192), np.int64(193), np.int64(194), np.int64(195), np.int64(196), np.int64(197), np.int64(198), np.int64(199), np.int64(200), np.int64(201), np.int64(202), np.int64(203), np.int64(204), np.int64(205), np.int64(206), np.int64(207), np.int64(208), np.int64(209), np.int64(210), np.int64(211), np.int64(212), np.int64(213), np.int64(214), np.int64(215), np.int64(216), np.int64(217), np.int64(218), np.int64(219), np.int64(220), np.int64(221), np.int64(222), np.int64(223), np.int64(224), np.int64(225), np.int64(226), np.int64(227), np.int64(228), np.int64(229), np.int64(230), np.int64(231), np.int64(232), np.int64(233), np.int64(234), np.int64(235), np.int64(236), np.int64(237), np.int64(238), np.int64(239), np.int64(240), np.int64(241), np.int64(242), np.int64(243), np.int64(244), np.int64(245), np.int64(246), np.int64(247), np.int64(248), np.int64(249), np.int64(250), np.int64(251), np.int64(252), np.int64(253), np.int64(254), np.int64(255), np.int64(256), np.int64(257), np.int64(258), np.int64(259), np.int64(260), np.int64(261)], 'I': [], 'LL': [], 'KL': [], 'Var': [], 'MM1': [], 'MM2': []}, 6.103515625e-05: {'I0': [np.int64(0), np.int64(1), np.int64(2), np.int64(3), np.int64(4), np.int64(5), np.int64(6), np.int64(7), np.int64(8), np.int64(9), np.int64(10), np.int64(11), np.int64(12), np.int64(13), np.int64(14), np.int64(15), np.int64(16), np.int64(17), np.int64(18), np.int64(19), np.int64(20), np.int64(21), np.int64(22), np.int64(23), np.int64(24), np.int64(25), np.int64(26), np.int64(27), np.int64(28), np.int64(29), np.int64(30), np.int64(31), np.int64(32), np.int64(33), np.int64(34), np.int64(35), np.int64(36), np.int64(37), np.int64(38), np.int64(39), np.int64(40), np.int64(41), np.int64(42), np.int64(43), np.int64(44), np.int64(45), np.int64(46), np.int64(47), np.int64(48), np.int64(49), np.int64(50), np.int64(51), np.int64(52), np.int64(53), np.int64(54), np.int64(55), np.int64(56), np.int64(57), np.int64(58), np.int64(59), np.int64(60), np.int64(61), np.int64(62), np.int64(63), np.int64(64), np.int64(65), np.int64(66), np.int64(67), np.int64(68), np.int64(69), np.int64(70), np.int64(71), np.int64(72), np.int64(73), np.int64(74), np.int64(75), np.int64(76), np.int64(77), np.int64(78), np.int64(79), np.int64(80), np.int64(81), np.int64(82), np.int64(83), np.int64(84), np.int64(85), np.int64(86), np.int64(87), np.int64(88), np.int64(89), np.int64(90), np.int64(91), np.int64(92), np.int64(93), np.int64(94), np.int64(95), np.int64(96), np.int64(97), np.int64(98), np.int64(99), np.int64(100), np.int64(101), np.int64(102), np.int64(103), np.int64(104), np.int64(105), np.int64(106), np.int64(107), np.int64(108), np.int64(109), np.int64(110), np.int64(111), np.int64(112), np.int64(113), np.int64(114), np.int64(115), np.int64(116), np.int64(117), np.int64(118), np.int64(119), np.int64(120), np.int64(121), np.int64(122), np.int64(123), np.int64(124), np.int64(125), np.int64(126), np.int64(127), np.int64(128), np.int64(129), np.int64(130), np.int64(131), np.int64(132), np.int64(133), np.int64(134), np.int64(135), np.int64(136), np.int64(137), np.int64(138), np.int64(139), np.int64(140), np.int64(141), np.int64(142), np.int64(143), np.int64(144), np.int64(145), np.int64(146), np.int64(147), np.int64(148), np.int64(149), np.int64(150), np.int64(151), np.int64(152), np.int64(153), np.int64(154), np.int64(155), np.int64(156), np.int64(157), np.int64(158), np.int64(159), np.int64(160), np.int64(161), np.int64(162), np.int64(163), np.int64(164), np.int64(165), np.int64(166), np.int64(167), np.int64(168), np.int64(169), np.int64(170), np.int64(171), np.int64(172), np.int64(173), np.int64(174), np.int64(175), np.int64(176), np.int64(177), np.int64(178), np.int64(179), np.int64(180), np.int64(181), np.int64(182), np.int64(183), np.int64(184), np.int64(185), np.int64(186), np.int64(187), np.int64(188), np.int64(189), np.int64(190), np.int64(191), np.int64(192), np.int64(193), np.int64(194), np.int64(195), np.int64(196), np.int64(197), np.int64(198), np.int64(199), np.int64(200), np.int64(201), np.int64(202), np.int64(203), np.int64(204), np.int64(205), np.int64(206), np.int64(207), np.int64(208), np.int64(209), np.int64(210), np.int64(211), np.int64(212), np.int64(213), np.int64(214), np.int64(215), np.int64(216), np.int64(217), np.int64(218), np.int64(219), np.int64(220), np.int64(221), np.int64(222), np.int64(223), np.int64(224), np.int64(225), np.int64(226), np.int64(227), np.int64(228), np.int64(229), np.int64(230), np.int64(231), np.int64(232), np.int64(233), np.int64(234), np.int64(235), np.int64(236), np.int64(237), np.int64(238), np.int64(239), np.int64(240), np.int64(241), np.int64(242), np.int64(243), np.int64(244), np.int64(245), np.int64(246), np.int64(247), np.int64(248), np.int64(249), np.int64(250), np.int64(251), np.int64(252), np.int64(253), np.int64(254), np.int64(255), np.int64(256), np.int64(257), np.int64(258), np.int64(259), np.int64(260), np.int64(261)], 'I': [], 'LL': [], 'KL': [], 'Var': [], 'MM1': [], 'MM2': []}, 1.52587890625e-05: {'I0': [np.int64(0), np.int64(1), np.int64(2), np.int64(3), np.int64(4), np.int64(5), np.int64(6), np.int64(7), np.int64(8), np.int64(9), np.int64(10), np.int64(11), np.int64(12), np.int64(13), np.int64(14), np.int64(15), np.int64(16), np.int64(17), np.int64(18), np.int64(19), np.int64(20), np.int64(21), np.int64(22), np.int64(23), np.int64(24), np.int64(25), np.int64(26), np.int64(27), np.int64(28), np.int64(29), np.int64(30), np.int64(31), np.int64(32), np.int64(33), np.int64(34), np.int64(35), np.int64(36), np.int64(37), np.int64(38), np.int64(39), np.int64(40), np.int64(41), np.int64(42), np.int64(43), np.int64(44), np.int64(45), np.int64(46), np.int64(47), np.int64(48), np.int64(49), np.int64(50), np.int64(51), np.int64(52), np.int64(53), np.int64(54), np.int64(55), np.int64(56), np.int64(57), np.int64(58), np.int64(59), np.int64(60), np.int64(61), np.int64(62), np.int64(63), np.int64(64), np.int64(65), np.int64(66), np.int64(67), np.int64(68), np.int64(69), np.int64(70), np.int64(71), np.int64(72), np.int64(73), np.int64(74), np.int64(75), np.int64(76), np.int64(77), np.int64(78), np.int64(79), np.int64(80), np.int64(81), np.int64(82), np.int64(83), np.int64(84), np.int64(85), np.int64(86), np.int64(87), np.int64(88), np.int64(89), np.int64(90), np.int64(91), np.int64(92), np.int64(93), np.int64(94), np.int64(95), np.int64(96), np.int64(97), np.int64(98), np.int64(99), np.int64(100), np.int64(101), np.int64(102), np.int64(103), np.int64(104), np.int64(105), np.int64(106), np.int64(107), np.int64(108), np.int64(109), np.int64(110), np.int64(111), np.int64(112), np.int64(113), np.int64(114), np.int64(115), np.int64(116), np.int64(117), np.int64(118), np.int64(119), np.int64(120), np.int64(121), np.int64(122), np.int64(123), np.int64(124), np.int64(125), np.int64(126), np.int64(127), np.int64(128), np.int64(129), np.int64(130), np.int64(131), np.int64(132), np.int64(133), np.int64(134), np.int64(135), np.int64(136), np.int64(137), np.int64(138), np.int64(139), np.int64(140), np.int64(141), np.int64(142), np.int64(143), np.int64(144), np.int64(145), np.int64(146), np.int64(147), np.int64(148), np.int64(149), np.int64(150), np.int64(151), np.int64(152), np.int64(153), np.int64(154), np.int64(155), np.int64(156), np.int64(157), np.int64(158), np.int64(159), np.int64(160), np.int64(161), np.int64(162), np.int64(163), np.int64(164), np.int64(165), np.int64(166), np.int64(167), np.int64(168), np.int64(169), np.int64(170), np.int64(171), np.int64(172), np.int64(173), np.int64(174), np.int64(175), np.int64(176), np.int64(177), np.int64(178), np.int64(179), np.int64(180), np.int64(181), np.int64(182), np.int64(183), np.int64(184), np.int64(185), np.int64(186), np.int64(187), np.int64(188), np.int64(189), np.int64(190), np.int64(191), np.int64(192), np.int64(193), np.int64(194), np.int64(195), np.int64(196), np.int64(197), np.int64(198), np.int64(199), np.int64(200), np.int64(201), np.int64(202), np.int64(203), np.int64(204), np.int64(205), np.int64(206), np.int64(207), np.int64(208), np.int64(209), np.int64(210), np.int64(211), np.int64(212), np.int64(213), np.int64(214), np.int64(215), np.int64(216), np.int64(217), np.int64(218), np.int64(219), np.int64(220), np.int64(221), np.int64(222), np.int64(223), np.int64(224), np.int64(225), np.int64(226), np.int64(227), np.int64(228), np.int64(229), np.int64(230), np.int64(231), np.int64(232), np.int64(233), np.int64(234), np.int64(235), np.int64(236), np.int64(237), np.int64(238), np.int64(239), np.int64(240), np.int64(241), np.int64(242), np.int64(243), np.int64(244), np.int64(245), np.int64(246), np.int64(247), np.int64(248), np.int64(249), np.int64(250), np.int64(251), np.int64(252), np.int64(253), np.int64(254), np.int64(255), np.int64(256), np.int64(257), np.int64(258), np.int64(259), np.int64(260), np.int64(261)], 'I': [], 'LL': [], 'KL': [], 'Var': [], 'MM1': [], 'MM2': []}}}\n"
     ]
    },
    {
     "name": "stderr",
     "output_type": "stream",
     "text": [
      "\n"
     ]
    }
   ],
   "source": [
    "base = 4\n",
    "h_vals = [4**-r for r in range(9)]\n",
    "\n",
    "loo_output = []\n",
    "\n",
    "for _ in tqdm(range(1)):\n",
    "    loo_khat_advi = {}\n",
    "    reduced_ndx_advi = {}\n",
    "    n_sample = [1000]\n",
    "    records_advi = []\n",
    "    for n_samples in n_sample:\n",
    "        sample_ndx = np.random.choice(range(fit.stan_variables()['beta0'].shape[0]), size=n_samples, replace=False)\n",
    "        reduced_ndx_advi[n_samples] = {}\n",
    "        # print(f\"Samples: {n_samples}\")\n",
    "        loo_khat_advi[n_samples] = {}\n",
    "        params_ = lr_model2.sample(n_samples)\n",
    "\n",
    "        for h in h_vals:\n",
    "            loo_khat_advi[n_samples][h] = {}\n",
    "            loo = adaptive_is_loo(lr_model2, batch, params_, h, variational=False)\n",
    "            reduced_ndx_advi[n_samples][h] = {}\n",
    "            # print(f\"rho={h}\\n\")\n",
    "            for T in [\"I0\", \"I\", \"LL\", \"KL\", \"Var\", \"MM1\", \"MM2\"]:\n",
    "                loo_khat_advi[n_samples][h][T] = np.array(loo[T][\"khat\"])\n",
    "\n",
    "                records_advi += [\n",
    "                    {\n",
    "                        \"h\": h,\n",
    "                        \"T\": T,\n",
    "                        \"S\": n_samples,\n",
    "                        \"khat\": loo[T][\"khat\"],\n",
    "                        \"p_psis\": loo[T][\"p_psis\"].numpy(),\n",
    "                        \"n>0.7\": (np.where((loo[T][\"khat\"] > 0.7))[0]).shape,\n",
    "                        \"ndx\": loo[T][\"ndx\"]\n",
    "                    }\n",
    "                ]\n",
    "                reduced_ndx_advi[n_samples][h][T] = [loo[T][\"ndx\"][k] for k in np.where((loo[T][\"khat\"] <= 0.7))[0]]\n",
    "                # print(reduced_ndx[n_samples][h])\n",
    "\n",
    "\n",
    "print(reduced_ndx_advi)"
   ]
  },
  {
   "cell_type": "code",
   "execution_count": 41,
   "metadata": {},
   "outputs": [],
   "source": [
    "df_advi = pd.DataFrame(records_advi)\n",
    "df_advi['rho_rank'] = np.emath.logn(base, df_advi['h']) \n",
    "\n",
    "I0_advi = df_advi.loc[(df_advi['S']==n_sample[-1]) & (df_advi['T']==\"I0\")]\n",
    "\n",
    "kl_advi = df_advi.loc[(df_advi['S']==n_sample[-1]) & (df_advi['T']==\"KL\")]\n",
    "var_advi = df_advi.loc[(df_advi['S']==n_sample[-1]) & (df_advi['T']==\"Var\")]\n",
    "ll_advi = df_advi.loc[(df_advi['S']==n_sample[-1]) & (df_advi['T']==\"LL\")]\n",
    "mm1_advi = df_advi.loc[(df_advi['S']==n_sample[-1]) & (df_advi['T']==\"MM1\")]\n",
    "I_advi = df_advi.loc[(df_advi['S']==n_sample[-1]) & (df_advi['T']==\"I\")]\n",
    "\n",
    "kl_advi = kl_advi.explode(['khat', 'ndx'])\n",
    "var_advi = var_advi.explode(['khat', 'ndx'])\n",
    "ll_advi = ll_advi.explode(['khat', 'ndx'])\n",
    "I_advi = I_advi.explode(['khat', 'ndx'])\n",
    "mm1_advi = mm1_advi.explode(['khat', 'ndx'])\n",
    "\n",
    "original_advi = I_advi[['khat', 'ndx']].drop_duplicates()\n"
   ]
  },
  {
   "cell_type": "code",
   "execution_count": 44,
   "metadata": {},
   "outputs": [],
   "source": [
    "df_advi_ = df_advi.explode(['khat', \"p_psis\", 'ndx'])[['ndx', 'p_psis', 'khat', 'T']]\n",
    "#df_ = df_[df_['p_psis']!=1]\n",
    "#df_ = df_[df_['p_psis']>1e-5]\n",
    "df_advi_ = df_advi_[df_advi_['T']!=\"MM2\"]\n",
    "\n",
    "df_advi_ = df_advi_.groupby(['ndx'])[['khat', 'p_psis']].min()\n",
    "\n",
    "pd.set_option('display.max_rows', 500)\n",
    "\n",
    "df_advi_ = df_advi_.reset_index()\n",
    "df_advi_['y'] = [y_.tolist()[i] for i in df_advi_['ndx'].values]"
   ]
  },
  {
   "cell_type": "code",
   "execution_count": 45,
   "metadata": {},
   "outputs": [],
   "source": [
    "fpr_advi, tpr_advi, thresholds_advi = metrics.roc_curve(df_advi_['y'], df_advi_.p_psis, pos_label=1)\n",
    "precision_advi, recall_advi, thresholds_pr_advi = metrics.precision_recall_curve(df_advi_['y'], df_advi_.p_psis)"
   ]
  },
  {
   "cell_type": "code",
   "execution_count": 46,
   "metadata": {},
   "outputs": [
    {
     "data": {
      "text/plain": [
       "(0.0, 1.0)"
      ]
     },
     "execution_count": 46,
     "metadata": {},
     "output_type": "execute_result"
    },
    {
     "data": {
      "image/png": "[encoded data removed]",
      "text/plain": [
       "<Figure size 900x200 with 2 Axes>"
      ]
     },
     "metadata": {},
     "output_type": "display_data"
    }
   ],
   "source": [
    "fig, ax = plt.subplots(1, 2, figsize=(9, 2))\n",
    "ax[0].plot(fpr, tpr, linewidth=3, color=\"blue\")\n",
    "ax[0].text(0.5, 0.25, f\"MCMC-AUROC: {metrics.auc(fpr, tpr):.3f}\", color=\"blue\")\n",
    "\n",
    "ax[0].plot(fpr_advi, tpr_advi, color=\"red\")\n",
    "ax[0].text(0.5, 0.1, f\"ADVI-AUROC: {metrics.auc(fpr_advi, tpr_advi):.3f}\", color=\"red\")\n",
    "\n",
    "ax[0].set_xlim((0, 1))\n",
    "ax[0].set_ylim((0, 1))\n",
    "ax[0].set_title(\"ROC\")\n",
    "\n",
    "ax[1].plot(recall, precision, linewidth=3, color=\"blue\")\n",
    "ax[1].plot(recall_advi, precision_advi, color=\"red\")\n",
    "ax[1].text(0.5, 0.8, f\"MCMC-AUPRC: {metrics.auc(recall, precision):.3f}\", color=\"blue\")\n",
    "ax[1].text(0.5, 0.65, f\"ADVI-AUPRC: {metrics.auc(recall_advi, precision_advi):.3f}\", color=\"red\")\n",
    "ax[1].set_title(\"Precision-Recall\")\n",
    "ax[1].set_xlim((0, 1))\n",
    "ax[1].set_ylim((0, 1))\n",
    "\n",
    "#_ = plt.savefig(\"roccurve.pdf\", bbox_inches='tight')"
   ]
  },
  {
   "cell_type": "code",
   "execution_count": null,
   "metadata": {},
   "outputs": [],
   "source": []
  }
 ],
 "metadata": {
  "kernelspec": {
   "display_name": "env",
   "language": "python",
   "name": "python3"
  },
  "language_info": {
   "codemirror_mode": {
    "name": "ipython",
    "version": 3
   },
   "file_extension": ".py",
   "mimetype": "text/x-python",
   "name": "python",
   "nbconvert_exporter": "python",
   "pygments_lexer": "ipython3",
   "version": "3.10.12"
  }
 },
 "nbformat": 4,
 "nbformat_minor": 2
}
