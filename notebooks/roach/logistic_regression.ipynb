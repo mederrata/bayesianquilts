{
 "cells": [
  {
   "cell_type": "code",
   "execution_count": 1,
   "metadata": {},
   "outputs": [
    {
     "name": "stderr",
     "output_type": "stream",
     "text": [
      "/home/josh/workspace/bayesianquilts/env/lib/python3.10/site-packages/tqdm/auto.py:21: TqdmWarning: IProgress not found. Please update jupyter and ipywidgets. See https://ipywidgets.readthedocs.io/en/stable/user_install.html\n",
      "  from .autonotebook import tqdm as notebook_tqdm\n"
     ]
    }
   ],
   "source": [
    "\n",
    "%matplotlib inline\n",
    "from itertools import chain\n",
    "\n",
    "from cmdstanpy import CmdStanModel\n",
    "import numpy as np\n",
    "import pandas as pd\n",
    "from pathlib import Path\n",
    "import nest_asyncio\n",
    "nest_asyncio.apply()\n",
    "from random import choices\n",
    "\n"
   ]
  },
  {
   "cell_type": "code",
   "execution_count": 3,
   "metadata": {},
   "outputs": [],
   "source": [
    "\n",
    "import tensorflow as tf\n",
    "import tensorflow_probability as tfp\n",
    "import tensorflow_probability.python.bijectors as tfb\n",
    "\n",
    "from bayesianquilts.models.logistic_regression_reparam import LogisticRegression2\n",
    "from bayesianquilts.metrics.classification import classification_metrics\n",
    "from bayesianquilts.sampler import psis, nppsis"
   ]
  },
  {
   "cell_type": "code",
   "execution_count": 6,
   "metadata": {},
   "outputs": [
    {
     "name": "stdout",
     "output_type": "stream",
     "text": [
      "/home/josh/.local/share/jupyter/runtime\n"
     ]
    }
   ],
   "source": [
    "from ipykernel import get_connection_file\n",
    "import os\n",
    "\n",
    "connection_file = get_connection_file()\n",
    "notebook_path = os.path.dirname(connection_file)\n",
    "print(notebook_path)"
   ]
  },
  {
   "cell_type": "code",
   "execution_count": 8,
   "metadata": {},
   "outputs": [
    {
     "data": {
      "text/html": [
       "<div>\n",
       "<style scoped>\n",
       "    .dataframe tbody tr th:only-of-type {\n",
       "        vertical-align: middle;\n",
       "    }\n",
       "\n",
       "    .dataframe tbody tr th {\n",
       "        vertical-align: top;\n",
       "    }\n",
       "\n",
       "    .dataframe thead th {\n",
       "        text-align: right;\n",
       "    }\n",
       "</style>\n",
       "<table border=\"1\" class=\"dataframe\">\n",
       "  <thead>\n",
       "    <tr style=\"text-align: right;\">\n",
       "      <th></th>\n",
       "      <th>Unnamed: 0</th>\n",
       "      <th>y</th>\n",
       "      <th>roach1</th>\n",
       "      <th>treatment</th>\n",
       "      <th>senior</th>\n",
       "      <th>exposure2</th>\n",
       "    </tr>\n",
       "  </thead>\n",
       "  <tbody>\n",
       "    <tr>\n",
       "      <th>0</th>\n",
       "      <td>1</td>\n",
       "      <td>153</td>\n",
       "      <td>308.00</td>\n",
       "      <td>1</td>\n",
       "      <td>0</td>\n",
       "      <td>0.800000</td>\n",
       "    </tr>\n",
       "    <tr>\n",
       "      <th>1</th>\n",
       "      <td>2</td>\n",
       "      <td>127</td>\n",
       "      <td>331.25</td>\n",
       "      <td>1</td>\n",
       "      <td>0</td>\n",
       "      <td>0.600000</td>\n",
       "    </tr>\n",
       "    <tr>\n",
       "      <th>2</th>\n",
       "      <td>3</td>\n",
       "      <td>7</td>\n",
       "      <td>1.67</td>\n",
       "      <td>1</td>\n",
       "      <td>0</td>\n",
       "      <td>1.000000</td>\n",
       "    </tr>\n",
       "    <tr>\n",
       "      <th>3</th>\n",
       "      <td>4</td>\n",
       "      <td>7</td>\n",
       "      <td>3.00</td>\n",
       "      <td>1</td>\n",
       "      <td>0</td>\n",
       "      <td>1.000000</td>\n",
       "    </tr>\n",
       "    <tr>\n",
       "      <th>4</th>\n",
       "      <td>5</td>\n",
       "      <td>0</td>\n",
       "      <td>2.00</td>\n",
       "      <td>1</td>\n",
       "      <td>0</td>\n",
       "      <td>1.142857</td>\n",
       "    </tr>\n",
       "    <tr>\n",
       "      <th>...</th>\n",
       "      <td>...</td>\n",
       "      <td>...</td>\n",
       "      <td>...</td>\n",
       "      <td>...</td>\n",
       "      <td>...</td>\n",
       "      <td>...</td>\n",
       "    </tr>\n",
       "    <tr>\n",
       "      <th>257</th>\n",
       "      <td>258</td>\n",
       "      <td>0</td>\n",
       "      <td>0.00</td>\n",
       "      <td>0</td>\n",
       "      <td>1</td>\n",
       "      <td>1.485714</td>\n",
       "    </tr>\n",
       "    <tr>\n",
       "      <th>258</th>\n",
       "      <td>259</td>\n",
       "      <td>0</td>\n",
       "      <td>0.00</td>\n",
       "      <td>0</td>\n",
       "      <td>1</td>\n",
       "      <td>1.000000</td>\n",
       "    </tr>\n",
       "    <tr>\n",
       "      <th>259</th>\n",
       "      <td>260</td>\n",
       "      <td>0</td>\n",
       "      <td>0.00</td>\n",
       "      <td>0</td>\n",
       "      <td>1</td>\n",
       "      <td>1.000000</td>\n",
       "    </tr>\n",
       "    <tr>\n",
       "      <th>260</th>\n",
       "      <td>261</td>\n",
       "      <td>171</td>\n",
       "      <td>0.00</td>\n",
       "      <td>0</td>\n",
       "      <td>1</td>\n",
       "      <td>1.000000</td>\n",
       "    </tr>\n",
       "    <tr>\n",
       "      <th>261</th>\n",
       "      <td>262</td>\n",
       "      <td>8</td>\n",
       "      <td>0.00</td>\n",
       "      <td>0</td>\n",
       "      <td>1</td>\n",
       "      <td>1.000000</td>\n",
       "    </tr>\n",
       "  </tbody>\n",
       "</table>\n",
       "<p>262 rows × 6 columns</p>\n",
       "</div>"
      ],
      "text/plain": [
       "     Unnamed: 0    y  roach1  treatment  senior  exposure2\n",
       "0             1  153  308.00          1       0   0.800000\n",
       "1             2  127  331.25          1       0   0.600000\n",
       "2             3    7    1.67          1       0   1.000000\n",
       "3             4    7    3.00          1       0   1.000000\n",
       "4             5    0    2.00          1       0   1.142857\n",
       "..          ...  ...     ...        ...     ...        ...\n",
       "257         258    0    0.00          0       1   1.485714\n",
       "258         259    0    0.00          0       1   1.000000\n",
       "259         260    0    0.00          0       1   1.000000\n",
       "260         261  171    0.00          0       1   1.000000\n",
       "261         262    8    0.00          0       1   1.000000\n",
       "\n",
       "[262 rows x 6 columns]"
      ]
     },
     "execution_count": 8,
     "metadata": {},
     "output_type": "execute_result"
    }
   ],
   "source": [
    "roach = pd.read_csv(Path.home() / \"workspace\" / \"bayesianquilts\"/ \"notebooks\"/ \"roach\" / \"roachdata.csv\")\n",
    "roach"
   ]
  },
  {
   "cell_type": "code",
   "execution_count": 9,
   "metadata": {},
   "outputs": [
    {
     "name": "stdout",
     "output_type": "stream",
     "text": [
      "(262, 4)\n"
     ]
    }
   ],
   "source": [
    "\n",
    "roach = pd.read_csv(Path.home() / \"workspace\" / \"bayesianquilts\"/ \"notebooks\"/ \"roach\" / \"roachdata.csv\")\n",
    "y_ = (roach['y']>0).astype(int)\n",
    "X_ = roach.iloc[:, 2:]\n",
    "X_scaled = (X_ - X_.mean())/X_.std()\n",
    "X_scaled = X_scaled.fillna(0).to_numpy()\n",
    "y_ = y_.to_numpy()\n",
    "N = X_scaled.shape[0]\n",
    "d = X_scaled.shape[1]\n",
    "\n",
    "print((N, d))"
   ]
  },
  {
   "cell_type": "code",
   "execution_count": 10,
   "metadata": {},
   "outputs": [],
   "source": [
    "sm = CmdStanModel(stan_file=\"notebooks/ovarian/ovarian_model.stan\")"
   ]
  },
  {
   "cell_type": "code",
   "execution_count": 12,
   "metadata": {},
   "outputs": [],
   "source": [
    "guessnumrelevcov = 20 # 20.\n",
    "slab_scale = 2.5/100\n",
    "scale_icept = 5.0\n",
    "nu_global = 1\n",
    "nu_local = 1\n",
    "slab_df = 1\n",
    "scale_global = guessnumrelevcov / ((d - guessnumrelevcov) * np.sqrt(N))/10000\n",
    "\n",
    "control = {\"adapt_delta\": 0.9995, \"max_treedepth\": 15}\n",
    "\n",
    "roach_data = {\n",
    "    \"N\": N,\n",
    "    \"d\": d,\n",
    "    \"slab_df\": slab_df,\n",
    "    \"slab_scale\": slab_scale,\n",
    "    \"scale_icept\": scale_icept,\n",
    "    \"nu_global\": 1,\n",
    "    \"nu_local\": 1,\n",
    "    \"scale_global\": scale_global,\n",
    "    \"y\": y_.astype(int)[:].tolist(),\n",
    "    \"x\": X_scaled.tolist(),\n",
    "}\n",
    "\n",
    "import json\n",
    "with open(\"notebooks/roach/roach_data.json\", 'w') as f:\n",
    "    json.dump(roach_data, f)"
   ]
  },
  {
   "cell_type": "code",
   "execution_count": 14,
   "metadata": {},
   "outputs": [
    {
     "name": "stderr",
     "output_type": "stream",
     "text": [
      "02:49:06 - cmdstanpy - INFO - CmdStan start processing\n",
      "chain 1 |\u001b[33m          \u001b[0m| 00:00 Status\n",
      "\u001b[A\n",
      "\n",
      "\u001b[A\u001b[A02:49:06 - cmdstanpy - ERROR - Chain [2] error: error during processing Operation not permitted\n",
      "02:49:06 - cmdstanpy - ERROR - Chain [1] error: error during processing Operation not permitted\n",
      "02:49:06 - cmdstanpy - ERROR - Chain [3] error: error during processing Operation not permitted\n",
      "02:49:06 - cmdstanpy - ERROR - Chain [4] error: error during processing Operation not permitted\n",
      "chain 1 |\u001b[33m██████████\u001b[0m| 00:00 Sampling completed\n",
      "chain 2 |\u001b[33m██████████\u001b[0m| 00:00 Sampling completed\n",
      "chain 3 |\u001b[33m██████████\u001b[0m| 00:00 Sampling completed\n",
      "chain 4 |\u001b[33m██████████\u001b[0m| 00:00 Sampling completed"
     ]
    },
    {
     "name": "stdout",
     "output_type": "stream",
     "text": [
      "                                                                                                                                                                                                                                                                                                                                "
     ]
    },
    {
     "name": "stderr",
     "output_type": "stream",
     "text": [
      "\n",
      "02:49:06 - cmdstanpy - INFO - CmdStan done processing.\n"
     ]
    },
    {
     "name": "stdout",
     "output_type": "stream",
     "text": [
      "\n"
     ]
    },
    {
     "ename": "RuntimeError",
     "evalue": "Error during sampling:\nException: ovarian_model_model_namespace::ovarian_model_model: scale_global is -7.72253e-06, but must be greater than or equal to 0.000000 (in 'ovarian_model.stan', line 8, column 2 to column 31)\nException: ovarian_model_model_namespace::ovarian_model_model: scale_global is -7.72253e-06, but must be greater than or equal to 0.000000 (in 'ovarian_model.stan', line 8, column 2 to column 31)\nException: ovarian_model_model_namespace::ovarian_model_model: scale_global is -7.72253e-06, but must be greater than or equal to 0.000000 (in 'ovarian_model.stan', line 8, column 2 to column 31)\nException: ovarian_model_model_namespace::ovarian_model_model: scale_global is -7.72253e-06, but must be greater than or equal to 0.000000 (in 'ovarian_model.stan', line 8, column 2 to column 31)\nCommand and output files:\nRunSet: chains=4, chain_ids=[1, 2, 3, 4], num_processes=4\n cmd (chain 1):\n\t['/home/josh/workspace/bayesianquilts/notebooks/ovarian/ovarian_model', 'id=1', 'random', 'seed=17138', 'data', 'file=notebooks/roach/roach_data.json', 'output', 'file=/tmp/tmpy7v3he_h/ovarian_model7hrx7ucp/ovarian_model-20241203024906_1.csv', 'method=sample', 'num_samples=2000', 'num_warmup=20000', 'thin=2', 'algorithm=hmc', 'engine=nuts', 'max_depth=15', 'adapt', 'engaged=1', 'delta=0.9995']\n retcodes=[1, 1, 1, 1]\n per-chain output files (showing chain 1 only):\n csv_file:\n\t/tmp/tmpy7v3he_h/ovarian_model7hrx7ucp/ovarian_model-20241203024906_1.csv\n console_msgs (if any):\n\t/tmp/tmpy7v3he_h/ovarian_model7hrx7ucp/ovarian_model-20241203024906_0-stdout.txt\nConsider re-running with show_console=True if the above output is unclear!",
     "output_type": "error",
     "traceback": [
      "\u001b[0;31m---------------------------------------------------------------------------\u001b[0m",
      "\u001b[0;31mRuntimeError\u001b[0m                              Traceback (most recent call last)",
      "Cell \u001b[0;32mIn[14], line 1\u001b[0m\n\u001b[0;32m----> 1\u001b[0m fit \u001b[38;5;241m=\u001b[39m \u001b[43msm\u001b[49m\u001b[38;5;241;43m.\u001b[39;49m\u001b[43msample\u001b[49m\u001b[43m(\u001b[49m\n\u001b[1;32m      2\u001b[0m \u001b[43m    \u001b[49m\u001b[43mdata\u001b[49m\u001b[38;5;241;43m=\u001b[39;49m\u001b[38;5;124;43m\"\u001b[39;49m\u001b[38;5;124;43mnotebooks/roach/roach_data.json\u001b[39;49m\u001b[38;5;124;43m\"\u001b[39;49m\u001b[43m,\u001b[49m\n\u001b[1;32m      3\u001b[0m \u001b[43m    \u001b[49m\u001b[43miter_warmup\u001b[49m\u001b[38;5;241;43m=\u001b[39;49m\u001b[38;5;241;43m20000\u001b[39;49m\u001b[43m,\u001b[49m\n\u001b[1;32m      4\u001b[0m \u001b[43m    \u001b[49m\u001b[43miter_sampling\u001b[49m\u001b[38;5;241;43m=\u001b[39;49m\u001b[38;5;241;43m2000\u001b[39;49m\u001b[43m,\u001b[49m\n\u001b[1;32m      5\u001b[0m \u001b[43m    \u001b[49m\u001b[43mthin\u001b[49m\u001b[38;5;241;43m=\u001b[39;49m\u001b[38;5;241;43m2\u001b[39;49m\u001b[43m,\u001b[49m\n\u001b[1;32m      6\u001b[0m \u001b[43m    \u001b[49m\u001b[43madapt_delta\u001b[49m\u001b[38;5;241;43m=\u001b[39;49m\u001b[38;5;241;43m0.9995\u001b[39;49m\u001b[43m,\u001b[49m\n\u001b[1;32m      7\u001b[0m \u001b[43m    \u001b[49m\u001b[43mmax_treedepth\u001b[49m\u001b[38;5;241;43m=\u001b[39;49m\u001b[38;5;241;43m15\u001b[39;49m\u001b[43m,\u001b[49m\n\u001b[1;32m      8\u001b[0m \u001b[43m)\u001b[49m\n",
      "File \u001b[0;32m~/workspace/bayesianquilts/env/lib/python3.10/site-packages/cmdstanpy/model.py:1136\u001b[0m, in \u001b[0;36mCmdStanModel.sample\u001b[0;34m(self, data, chains, parallel_chains, threads_per_chain, seed, chain_ids, inits, iter_warmup, iter_sampling, save_warmup, thin, max_treedepth, metric, step_size, adapt_engaged, adapt_delta, adapt_init_phase, adapt_metric_window, adapt_step_size, fixed_param, output_dir, sig_figs, save_latent_dynamics, save_profile, show_progress, show_console, refresh, time_fmt, timeout, force_one_process_per_chain)\u001b[0m\n\u001b[1;32m   1131\u001b[0m     \u001b[38;5;28;01mif\u001b[39;00m \u001b[38;5;129;01mnot\u001b[39;00m show_console:\n\u001b[1;32m   1132\u001b[0m         msg \u001b[38;5;241m+\u001b[39m\u001b[38;5;241m=\u001b[39m (\n\u001b[1;32m   1133\u001b[0m             \u001b[38;5;124m'\u001b[39m\u001b[38;5;130;01m\\n\u001b[39;00m\u001b[38;5;124mConsider re-running with show_console=True if the\u001b[39m\u001b[38;5;124m'\u001b[39m\n\u001b[1;32m   1134\u001b[0m             \u001b[38;5;124m'\u001b[39m\u001b[38;5;124m above output is unclear!\u001b[39m\u001b[38;5;124m'\u001b[39m\n\u001b[1;32m   1135\u001b[0m         )\n\u001b[0;32m-> 1136\u001b[0m     \u001b[38;5;28;01mraise\u001b[39;00m \u001b[38;5;167;01mRuntimeError\u001b[39;00m(msg)\n\u001b[1;32m   1137\u001b[0m \u001b[38;5;28;01mif\u001b[39;00m errors:\n\u001b[1;32m   1138\u001b[0m     msg \u001b[38;5;241m=\u001b[39m \u001b[38;5;124mf\u001b[39m\u001b[38;5;124m'\u001b[39m\u001b[38;5;124mNon-fatal error during sampling:\u001b[39m\u001b[38;5;130;01m\\n\u001b[39;00m\u001b[38;5;132;01m{\u001b[39;00merrors\u001b[38;5;132;01m}\u001b[39;00m\u001b[38;5;124m'\u001b[39m\n",
      "\u001b[0;31mRuntimeError\u001b[0m: Error during sampling:\nException: ovarian_model_model_namespace::ovarian_model_model: scale_global is -7.72253e-06, but must be greater than or equal to 0.000000 (in 'ovarian_model.stan', line 8, column 2 to column 31)\nException: ovarian_model_model_namespace::ovarian_model_model: scale_global is -7.72253e-06, but must be greater than or equal to 0.000000 (in 'ovarian_model.stan', line 8, column 2 to column 31)\nException: ovarian_model_model_namespace::ovarian_model_model: scale_global is -7.72253e-06, but must be greater than or equal to 0.000000 (in 'ovarian_model.stan', line 8, column 2 to column 31)\nException: ovarian_model_model_namespace::ovarian_model_model: scale_global is -7.72253e-06, but must be greater than or equal to 0.000000 (in 'ovarian_model.stan', line 8, column 2 to column 31)\nCommand and output files:\nRunSet: chains=4, chain_ids=[1, 2, 3, 4], num_processes=4\n cmd (chain 1):\n\t['/home/josh/workspace/bayesianquilts/notebooks/ovarian/ovarian_model', 'id=1', 'random', 'seed=17138', 'data', 'file=notebooks/roach/roach_data.json', 'output', 'file=/tmp/tmpy7v3he_h/ovarian_model7hrx7ucp/ovarian_model-20241203024906_1.csv', 'method=sample', 'num_samples=2000', 'num_warmup=20000', 'thin=2', 'algorithm=hmc', 'engine=nuts', 'max_depth=15', 'adapt', 'engaged=1', 'delta=0.9995']\n retcodes=[1, 1, 1, 1]\n per-chain output files (showing chain 1 only):\n csv_file:\n\t/tmp/tmpy7v3he_h/ovarian_model7hrx7ucp/ovarian_model-20241203024906_1.csv\n console_msgs (if any):\n\t/tmp/tmpy7v3he_h/ovarian_model7hrx7ucp/ovarian_model-20241203024906_0-stdout.txt\nConsider re-running with show_console=True if the above output is unclear!"
     ]
    }
   ],
   "source": [
    "fit = sm.sample(\n",
    "    data=\"notebooks/roach/roach_data.json\",\n",
    "    iter_warmup=20000,\n",
    "    iter_sampling=2000,\n",
    "    thin=2,\n",
    "    adapt_delta=0.9995,\n",
    "    max_treedepth=15,\n",
    ")"
   ]
  },
  {
   "cell_type": "code",
   "execution_count": null,
   "metadata": {},
   "outputs": [],
   "source": []
  }
 ],
 "metadata": {
  "kernelspec": {
   "display_name": "env",
   "language": "python",
   "name": "python3"
  },
  "language_info": {
   "codemirror_mode": {
    "name": "ipython",
    "version": 3
   },
   "file_extension": ".py",
   "mimetype": "text/x-python",
   "name": "python",
   "nbconvert_exporter": "python",
   "pygments_lexer": "ipython3",
   "version": "3.10.12"
  }
 },
 "nbformat": 4,
 "nbformat_minor": 2
}
