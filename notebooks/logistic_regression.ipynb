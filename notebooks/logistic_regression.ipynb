{
 "cells": [
  {
   "cell_type": "code",
   "execution_count": 1,
   "metadata": {},
   "outputs": [],
   "source": [
    "%matplotlib inline\n",
    "from collections import defaultdict\n",
    "\n",
    "import matplotlib.pylab as plt\n",
    "from skimpy import skim\n",
    "import numpy as np\n",
    "import pandas as pd\n",
    "from IPython.display import display, HTML\n",
    "import seaborn as sns\n",
    "\n",
    "from tqdm import tqdm"
   ]
  },
  {
   "cell_type": "code",
   "execution_count": null,
   "metadata": {},
   "outputs": [],
   "source": []
  },
  {
   "cell_type": "code",
   "execution_count": 2,
   "metadata": {},
   "outputs": [
    {
     "name": "stderr",
     "output_type": "stream",
     "text": [
      "2024-01-11 21:23:38.690066: I external/local_tsl/tsl/cuda/cudart_stub.cc:31] Could not find cuda drivers on your machine, GPU will not be used.\n",
      "2024-01-11 21:23:38.715685: E external/local_xla/xla/stream_executor/cuda/cuda_dnn.cc:9261] Unable to register cuDNN factory: Attempting to register factory for plugin cuDNN when one has already been registered\n",
      "2024-01-11 21:23:38.715714: E external/local_xla/xla/stream_executor/cuda/cuda_fft.cc:607] Unable to register cuFFT factory: Attempting to register factory for plugin cuFFT when one has already been registered\n",
      "2024-01-11 21:23:38.716913: E external/local_xla/xla/stream_executor/cuda/cuda_blas.cc:1515] Unable to register cuBLAS factory: Attempting to register factory for plugin cuBLAS when one has already been registered\n",
      "2024-01-11 21:23:38.721968: I external/local_tsl/tsl/cuda/cudart_stub.cc:31] Could not find cuda drivers on your machine, GPU will not be used.\n",
      "2024-01-11 21:23:38.722692: I tensorflow/core/platform/cpu_feature_guard.cc:182] This TensorFlow binary is optimized to use available CPU instructions in performance-critical operations.\n",
      "To enable the following instructions: AVX2 FMA, in other operations, rebuild TensorFlow with the appropriate compiler flags.\n",
      "2024-01-11 21:23:39.280496: W tensorflow/compiler/tf2tensorrt/utils/py_utils.cc:38] TF-TRT Warning: Could not find TensorRT\n"
     ]
    }
   ],
   "source": [
    "\n",
    "import tensorflow as tf\n",
    "import tensorflow_probability as tfp\n",
    "\n",
    "from bayesianquilts.models.logistic_regression import LogisticRegression\n",
    "from bayesianquilts.metrics.classification import classification_metrics"
   ]
  },
  {
   "cell_type": "code",
   "execution_count": 3,
   "metadata": {},
   "outputs": [
    {
     "name": "stdout",
     "output_type": "stream",
     "text": [
      "2.15.0 0.23.0\n"
     ]
    }
   ],
   "source": [
    "print(tf.__version__, tfp.__version__)"
   ]
  },
  {
   "cell_type": "markdown",
   "metadata": {},
   "source": [
    "# Load the dataset\n",
    "\n",
    "Using the example from here: https://www.tensorflow.org/guide/core/logistic_regression_core"
   ]
  },
  {
   "cell_type": "code",
   "execution_count": 4,
   "metadata": {},
   "outputs": [],
   "source": [
    "from ucimlrepo import fetch_ucirepo \n"
   ]
  },
  {
   "cell_type": "code",
   "execution_count": 5,
   "metadata": {},
   "outputs": [],
   "source": [
    "# fetch dataset \n",
    "cdc_diabetes_health_indicators = fetch_ucirepo(id=891) \n",
    "  \n",
    "# data (as pandas dataframes) \n",
    "X = cdc_diabetes_health_indicators.data.features \n",
    "y = cdc_diabetes_health_indicators.data.targets "
   ]
  },
  {
   "cell_type": "code",
   "execution_count": 6,
   "metadata": {},
   "outputs": [],
   "source": [
    "X_scaled = (X - X.min())/X.max()\n",
    "n = X_scaled.shape[0]\n",
    "p = X_scaled.shape[1]"
   ]
  },
  {
   "cell_type": "markdown",
   "metadata": {},
   "source": [
    "Instantiate the model object"
   ]
  },
  {
   "cell_type": "code",
   "execution_count": 7,
   "metadata": {},
   "outputs": [],
   "source": [
    "lr_model = LogisticRegression(dim_regressors=p)"
   ]
  },
  {
   "cell_type": "markdown",
   "metadata": {},
   "source": [
    "Set up Bayesian minibatch ADVI inference"
   ]
  },
  {
   "cell_type": "code",
   "execution_count": 8,
   "metadata": {},
   "outputs": [],
   "source": [
    "batch_size = 1057\n"
   ]
  },
  {
   "cell_type": "code",
   "execution_count": 9,
   "metadata": {},
   "outputs": [],
   "source": [
    "tfdata = tf.data.Dataset.from_tensor_slices({'X': X_scaled, 'y':y})\n",
    "\n",
    "def data_factory():\n",
    "    out = tfdata.shuffle(batch_size*10).batch(batch_size)\n",
    "    return out"
   ]
  },
  {
   "cell_type": "code",
   "execution_count": 10,
   "metadata": {},
   "outputs": [
    {
     "name": "stdout",
     "output_type": "stream",
     "text": [
      "Running optimization for 4000 steps of 1 accumulated batches, checking every 240 steps\n",
      "Saved a checkpoint: /tmp/tfcheckpoints/e7cce4ee-07b4-44ec-bc66-0b187ce07aeb/e7cce4ee-07b4-44ec-bc66-0b187ce07aeb-1\n"
     ]
    },
    {
     "name": "stderr",
     "output_type": "stream",
     "text": [
      "  6%|▌         | 233/4000 [00:03<00:43, 85.64it/s]"
     ]
    },
    {
     "name": "stdout",
     "output_type": "stream",
     "text": [
      "Step 240: average-batch loss:406.54138145471643 rel loss: 2.4597741967170133e+305\n",
      "Saved a checkpoint: /tmp/tfcheckpoints/e7cce4ee-07b4-44ec-bc66-0b187ce07aeb/e7cce4ee-07b4-44ec-bc66-0b187ce07aeb-2\n"
     ]
    },
    {
     "name": "stderr",
     "output_type": "stream",
     "text": [
      " 12%|█▏        | 476/4000 [00:06<00:42, 83.44it/s]"
     ]
    },
    {
     "name": "stdout",
     "output_type": "stream",
     "text": [
      "Step 480: average-batch loss:434.7979749456453 rel loss: 0.06498786820352895\n",
      "New learning rate: <tf.Variable 'learning_rate:0' shape=() dtype=float32, numpy=0.0015>\n"
     ]
    },
    {
     "name": "stderr",
     "output_type": "stream",
     "text": [
      " 18%|█▊        | 719/4000 [00:09<00:38, 84.55it/s]"
     ]
    },
    {
     "name": "stdout",
     "output_type": "stream",
     "text": [
      "Step 720: average-batch loss:433.0160536382376 rel loss: 0.061140163190437746\n",
      "New learning rate: <tf.Variable 'learning_rate:0' shape=() dtype=float32, numpy=0.0015>\n"
     ]
    },
    {
     "name": "stderr",
     "output_type": "stream",
     "text": [
      " 24%|██▍       | 953/4000 [00:11<00:36, 83.91it/s]"
     ]
    },
    {
     "name": "stdout",
     "output_type": "stream",
     "text": [
      "Step 960: average-batch loss:419.69506358178126 rel loss: 0.03134104560298626\n",
      "New learning rate: <tf.Variable 'learning_rate:0' shape=() dtype=float32, numpy=0.0015>\n"
     ]
    },
    {
     "name": "stderr",
     "output_type": "stream",
     "text": [
      " 30%|██▉       | 1196/4000 [00:14<00:32, 85.09it/s]"
     ]
    },
    {
     "name": "stdout",
     "output_type": "stream",
     "text": [
      "Step 1200: average-batch loss:399.7258400191349 rel loss: 0.017050540028273498\n",
      "Saved a checkpoint: /tmp/tfcheckpoints/e7cce4ee-07b4-44ec-bc66-0b187ce07aeb/e7cce4ee-07b4-44ec-bc66-0b187ce07aeb-3\n"
     ]
    },
    {
     "name": "stderr",
     "output_type": "stream",
     "text": [
      " 36%|███▌      | 1439/4000 [00:17<00:30, 83.40it/s]"
     ]
    },
    {
     "name": "stdout",
     "output_type": "stream",
     "text": [
      "Step 1440: average-batch loss:425.1440098098191 rel loss: 0.05978719964102184\n",
      "New learning rate: <tf.Variable 'learning_rate:0' shape=() dtype=float32, numpy=0.0015>\n"
     ]
    },
    {
     "name": "stderr",
     "output_type": "stream",
     "text": [
      " 42%|████▏     | 1673/4000 [00:20<00:27, 84.90it/s]"
     ]
    },
    {
     "name": "stdout",
     "output_type": "stream",
     "text": [
      "Step 1680: average-batch loss:432.6100377017045 rel loss: 0.07601348747539716\n",
      "New learning rate: <tf.Variable 'learning_rate:0' shape=() dtype=float32, numpy=0.0015>\n"
     ]
    },
    {
     "name": "stderr",
     "output_type": "stream",
     "text": [
      " 48%|████▊     | 1916/4000 [00:23<00:25, 82.85it/s]"
     ]
    },
    {
     "name": "stdout",
     "output_type": "stream",
     "text": [
      "Step 1920: average-batch loss:390.02042149387324 rel loss: 0.02488438551009088\n",
      "Saved a checkpoint: /tmp/tfcheckpoints/e7cce4ee-07b4-44ec-bc66-0b187ce07aeb/e7cce4ee-07b4-44ec-bc66-0b187ce07aeb-4\n"
     ]
    },
    {
     "name": "stderr",
     "output_type": "stream",
     "text": [
      " 54%|█████▍    | 2159/4000 [00:26<00:21, 85.37it/s]"
     ]
    },
    {
     "name": "stdout",
     "output_type": "stream",
     "text": [
      "Step 2160: average-batch loss:408.1714417635119 rel loss: 0.044469108841169405\n",
      "New learning rate: <tf.Variable 'learning_rate:0' shape=() dtype=float32, numpy=0.0015>\n"
     ]
    },
    {
     "name": "stderr",
     "output_type": "stream",
     "text": [
      " 60%|█████▉    | 2393/4000 [00:28<00:18, 85.46it/s]"
     ]
    },
    {
     "name": "stdout",
     "output_type": "stream",
     "text": [
      "Step 2400: average-batch loss:417.21791554369156 rel loss: 0.06518774251191081\n",
      "New learning rate: <tf.Variable 'learning_rate:0' shape=() dtype=float32, numpy=0.0015>\n"
     ]
    },
    {
     "name": "stderr",
     "output_type": "stream",
     "text": [
      " 66%|██████▌   | 2636/4000 [00:31<00:16, 85.10it/s]"
     ]
    },
    {
     "name": "stdout",
     "output_type": "stream",
     "text": [
      "Step 2640: average-batch loss:445.84994268698205 rel loss: 0.12522042922478302\n",
      "New learning rate: <tf.Variable 'learning_rate:0' shape=() dtype=float32, numpy=0.0015>\n"
     ]
    },
    {
     "name": "stderr",
     "output_type": "stream",
     "text": [
      " 72%|███████▏  | 2879/4000 [00:34<00:13, 83.12it/s]"
     ]
    },
    {
     "name": "stdout",
     "output_type": "stream",
     "text": [
      "Step 2880: average-batch loss:427.0877810678668 rel loss: 0.08679096246048612\n",
      "New learning rate: <tf.Variable 'learning_rate:0' shape=() dtype=float32, numpy=0.0015>\n"
     ]
    },
    {
     "name": "stderr",
     "output_type": "stream",
     "text": [
      " 78%|███████▊  | 3113/4000 [00:37<00:10, 83.73it/s]"
     ]
    },
    {
     "name": "stdout",
     "output_type": "stream",
     "text": [
      "Step 3120: average-batch loss:423.6158273096496 rel loss: 0.07930630455698057\n",
      "New learning rate: <tf.Variable 'learning_rate:0' shape=() dtype=float32, numpy=0.0015>\n",
      "We are in a loss plateau\n",
      "Restoring from a checkpoint\n"
     ]
    },
    {
     "name": "stderr",
     "output_type": "stream",
     "text": [
      " 84%|████████▍ | 3356/4000 [00:40<00:07, 83.58it/s]"
     ]
    },
    {
     "name": "stdout",
     "output_type": "stream",
     "text": [
      "Step 3360: average-batch loss:419.4047634952361 rel loss: 0.07006201302169199\n",
      "New learning rate: <tf.Variable 'learning_rate:0' shape=() dtype=float32, numpy=0.0015>\n",
      "We are in a loss plateau\n",
      "Restoring from a checkpoint\n"
     ]
    },
    {
     "name": "stderr",
     "output_type": "stream",
     "text": [
      " 90%|████████▉ | 3599/4000 [00:43<00:04, 85.52it/s]"
     ]
    },
    {
     "name": "stdout",
     "output_type": "stream",
     "text": [
      "Step 3600: average-batch loss:381.61532732429964 rel loss: 0.022025043460665007\n",
      "Saved a checkpoint: /tmp/tfcheckpoints/e7cce4ee-07b4-44ec-bc66-0b187ce07aeb/e7cce4ee-07b4-44ec-bc66-0b187ce07aeb-5\n"
     ]
    },
    {
     "name": "stderr",
     "output_type": "stream",
     "text": [
      " 96%|█████████▌| 3833/4000 [00:46<00:01, 83.82it/s]"
     ]
    },
    {
     "name": "stdout",
     "output_type": "stream",
     "text": [
      "Step 3840: average-batch loss:406.55318489654354 rel loss: 0.061339717652414624\n",
      "New learning rate: <tf.Variable 'learning_rate:0' shape=() dtype=float32, numpy=0.0015>\n"
     ]
    },
    {
     "name": "stderr",
     "output_type": "stream",
     "text": [
      "100%|█████████▉| 3995/4000 [00:47<00:00, 84.07it/s]"
     ]
    },
    {
     "name": "stdout",
     "output_type": "stream",
     "text": [
      "Terminating because we are out of iterations\n"
     ]
    },
    {
     "name": "stderr",
     "output_type": "stream",
     "text": [
      "100%|██████████| 4000/4000 [00:48<00:00, 83.32it/s]\n"
     ]
    }
   ],
   "source": [
    "losses = lr_model.fit(\n",
    "    data_factory,\n",
    "    dataset_size=n,\n",
    "    batches_per_step=1,\n",
    "    check_every=int(n/batch_size),\n",
    "    batch_size=batch_size,\n",
    "    num_steps=4000,\n",
    "    max_decay_steps=100,\n",
    "    max_plateau_epochs=100,\n",
    "    sample_size=32,\n",
    "    learning_rate=0.0015)"
   ]
  },
  {
   "cell_type": "markdown",
   "metadata": {},
   "source": [
    "# Compute LOO AU ROC/PRC"
   ]
  },
  {
   "cell_type": "code",
   "execution_count": 21,
   "metadata": {},
   "outputs": [],
   "source": [
    "step_size = 1e-5\n",
    "def prediction_fn_stepaway(data):\n",
    "    params = lr_model.sample(100)\n",
    "    pred = lr_model.stepaway_loo(data, params, step_size)['p_loo_stepaway']\n",
    "    return pred\n",
    "\n",
    "def prediction_fn_loo(data):\n",
    "    params = lr_model.sample(100)\n",
    "    pred = lr_model.stepaway_loo(data, params, step_size)['p_loo']\n",
    "    return pred\n",
    "\n",
    "def prediction_fn(data):\n",
    "    params = lr_model.sample(100)\n",
    "    pred = lr_model.stepaway_loo(data, params, step_size)['p']\n",
    "    return pred"
   ]
  },
  {
   "cell_type": "code",
   "execution_count": 22,
   "metadata": {},
   "outputs": [],
   "source": [
    "bench_stepaway_loo = classification_metrics(\n",
    "    data_factory=data_factory,\n",
    "    prediction_fn=prediction_fn_stepaway,\n",
    "    outcome_label='y',\n",
    "    by_vars=[]\n",
    ")\n",
    "\n",
    "bench_loo = classification_metrics(\n",
    "    data_factory=data_factory,\n",
    "    prediction_fn=prediction_fn_loo,\n",
    "    outcome_label='y',\n",
    "    by_vars=[]\n",
    ")\n",
    "\n",
    "bench = classification_metrics(\n",
    "    data_factory=data_factory,\n",
    "    prediction_fn=prediction_fn,\n",
    "    outcome_label='y',\n",
    "    by_vars=[]\n",
    ")"
   ]
  },
  {
   "cell_type": "markdown",
   "metadata": {},
   "source": [
    "Step-away LOO"
   ]
  },
  {
   "cell_type": "code",
   "execution_count": 23,
   "metadata": {},
   "outputs": [
    {
     "data": {
      "text/plain": [
       "(0.0, 1.0)"
      ]
     },
     "execution_count": 23,
     "metadata": {},
     "output_type": "execute_result"
    },
    {
     "data": {
      "image/png": "[encoded data removed]",
      "text/plain": [
       "<Figure size 900x200 with 2 Axes>"
      ]
     },
     "metadata": {},
     "output_type": "display_data"
    }
   ],
   "source": [
    "fig, ax = plt.subplots(1, 2, figsize=(9, 2))\n",
    "ax[0].plot(bench_stepaway_loo['auroc']['fpr'], bench_stepaway_loo['auroc']['tpr'])\n",
    "ax[0].text(0.5, 0.1, f\"AUROC: {round(bench_stepaway_loo['auroc']['auroc'], 2)}\")\n",
    "ax[0].set_xlim((0, 1))\n",
    "ax[0].set_ylim((0, 1))\n",
    "ax[0].set_title(\"ROC\")\n",
    "\n",
    "ax[1].plot(bench_stepaway_loo['auprc']['recall'], bench_stepaway_loo['auprc']['precision'])\n",
    "ax[1].text(0.5, 0.8, f\"AUPRC: {round(bench_stepaway_loo['auprc']['auprc'], 2)}\")\n",
    "ax[1].set_title(\"Precision-Recall\")\n",
    "ax[1].set_xlim((0, 1))\n",
    "ax[1].set_ylim((0, 1))"
   ]
  },
  {
   "cell_type": "markdown",
   "metadata": {},
   "source": [
    "LOO w/o stepaway"
   ]
  },
  {
   "cell_type": "code",
   "execution_count": 24,
   "metadata": {},
   "outputs": [
    {
     "data": {
      "text/plain": [
       "(0.0, 1.0)"
      ]
     },
     "execution_count": 24,
     "metadata": {},
     "output_type": "execute_result"
    },
    {
     "data": {
      "image/png": "[encoded data removed]",
      "text/plain": [
       "<Figure size 900x200 with 2 Axes>"
      ]
     },
     "metadata": {},
     "output_type": "display_data"
    }
   ],
   "source": [
    "fig, ax = plt.subplots(1, 2, figsize=(9, 2))\n",
    "ax[0].plot(bench_loo['auroc']['fpr'], bench_loo['auroc']['tpr'])\n",
    "ax[0].text(0.5, 0.1, f\"AUROC: {round(bench_loo['auroc']['auroc'], 2)}\")\n",
    "ax[0].set_xlim((0, 1))\n",
    "ax[0].set_ylim((0, 1))\n",
    "ax[0].set_title(\"ROC\")\n",
    "\n",
    "ax[1].plot(bench_loo['auprc']['recall'], bench_loo['auprc']['precision'])\n",
    "ax[1].text(0.5, 0.8, f\"AUPRC: {round(bench_loo['auprc']['auprc'], 2)}\")\n",
    "ax[1].set_title(\"Precision-Recall\")\n",
    "ax[1].set_xlim((0, 1))\n",
    "ax[1].set_ylim((0, 1))"
   ]
  },
  {
   "cell_type": "markdown",
   "metadata": {},
   "source": [
    "Training data metrics"
   ]
  },
  {
   "cell_type": "code",
   "execution_count": 25,
   "metadata": {},
   "outputs": [
    {
     "data": {
      "text/plain": [
       "(0.0, 1.0)"
      ]
     },
     "execution_count": 25,
     "metadata": {},
     "output_type": "execute_result"
    },
    {
     "data": {
      "image/png": "[encoded data removed]",
      "text/plain": [
       "<Figure size 900x200 with 2 Axes>"
      ]
     },
     "metadata": {},
     "output_type": "display_data"
    }
   ],
   "source": [
    "fig, ax = plt.subplots(1, 2, figsize=(9, 2))\n",
    "ax[0].plot(bench['auroc']['fpr'], bench['auroc']['tpr'])\n",
    "ax[0].text(0.5, 0.1, f\"AUROC: {round(bench['auroc']['auroc'], 2)}\")\n",
    "ax[0].set_xlim((0, 1))\n",
    "ax[0].set_ylim((0, 1))\n",
    "ax[0].set_title(\"ROC\")\n",
    "\n",
    "ax[1].plot(bench['auprc']['recall'], bench['auprc']['precision'])\n",
    "ax[1].text(0.5, 0.8, f\"AUPRC: {round(bench['auprc']['auprc'], 2)}\")\n",
    "ax[1].set_title(\"Precision-Recall\")\n",
    "ax[1].set_xlim((0, 1))\n",
    "ax[1].set_ylim((0, 1))"
   ]
  },
  {
   "cell_type": "code",
   "execution_count": 26,
   "metadata": {},
   "outputs": [
    {
     "data": {
      "text/plain": [
       "0.7714904826482973"
      ]
     },
     "execution_count": 26,
     "metadata": {},
     "output_type": "execute_result"
    }
   ],
   "source": [
    "bench['auroc']['auroc']"
   ]
  },
  {
   "cell_type": "code",
   "execution_count": 27,
   "metadata": {},
   "outputs": [
    {
     "name": "stderr",
     "output_type": "stream",
     "text": [
      "0it [00:00, ?it/s]"
     ]
    },
    {
     "name": "stderr",
     "output_type": "stream",
     "text": [
      "240it [00:10, 23.67it/s]\n"
     ]
    }
   ],
   "source": [
    "params = lr_model.sample(128)\n",
    "loo_out = []\n",
    "for batch in tqdm(iter(data_factory())):\n",
    "    loo_out += [lr_model.stepaway_loo(batch, params, step_size)]"
   ]
  },
  {
   "cell_type": "code",
   "execution_count": 28,
   "metadata": {},
   "outputs": [],
   "source": [
    "eta_sd = tf.math.reduce_std(loo_out[0]['eta_weights'], axis=0)\n",
    "nu_sd = tf.math.reduce_std(loo_out[0]['nu_weights'], axis=0)"
   ]
  },
  {
   "cell_type": "code",
   "execution_count": 29,
   "metadata": {},
   "outputs": [
    {
     "data": {
      "text/plain": [
       "<matplotlib.collections.PathCollection at 0x7f479055fc70>"
      ]
     },
     "execution_count": 29,
     "metadata": {},
     "output_type": "execute_result"
    },
    {
     "data": {
      "image/png": "[encoded data removed]",
      "text/plain": [
       "<Figure size 640x480 with 1 Axes>"
      ]
     },
     "metadata": {},
     "output_type": "display_data"
    }
   ],
   "source": [
    "plt.scatter(eta_sd, nu_sd)"
   ]
  },
  {
   "cell_type": "code",
   "execution_count": 30,
   "metadata": {},
   "outputs": [
    {
     "data": {
      "text/plain": [
       "{'whiskers': [<matplotlib.lines.Line2D at 0x7f47907915d0>,\n",
       "  <matplotlib.lines.Line2D at 0x7f4790791e40>],\n",
       " 'caps': [<matplotlib.lines.Line2D at 0x7f4790791600>,\n",
       "  <matplotlib.lines.Line2D at 0x7f4790793310>],\n",
       " 'boxes': [<matplotlib.lines.Line2D at 0x7f4790224d30>],\n",
       " 'medians': [<matplotlib.lines.Line2D at 0x7f4790792800>],\n",
       " 'fliers': [<matplotlib.lines.Line2D at 0x7f47907923b0>],\n",
       " 'means': []}"
      ]
     },
     "execution_count": 30,
     "metadata": {},
     "output_type": "execute_result"
    },
    {
     "data": {
      "image/png": "[encoded data removed]",
      "text/plain": [
       "<Figure size 640x480 with 1 Axes>"
      ]
     },
     "metadata": {},
     "output_type": "display_data"
    }
   ],
   "source": [
    "plt.boxplot(eta_sd - nu_sd)"
   ]
  },
  {
   "cell_type": "code",
   "execution_count": null,
   "metadata": {},
   "outputs": [],
   "source": []
  },
  {
   "cell_type": "code",
   "execution_count": null,
   "metadata": {},
   "outputs": [],
   "source": []
  }
 ],
 "metadata": {
  "kernelspec": {
   "display_name": "env",
   "language": "python",
   "name": "python3"
  },
  "language_info": {
   "codemirror_mode": {
    "name": "ipython",
    "version": 3
   },
   "file_extension": ".py",
   "mimetype": "text/x-python",
   "name": "python",
   "nbconvert_exporter": "python",
   "pygments_lexer": "ipython3",
   "version": "3.10.12"
  }
 },
 "nbformat": 4,
 "nbformat_minor": 2
}
