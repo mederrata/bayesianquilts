{
 "cells": [
  {
   "cell_type": "code",
   "execution_count": 1,
   "metadata": {},
   "outputs": [],
   "source": [
    "%matplotlib inline\n",
    "from collections import defaultdict\n",
    "\n",
    "import matplotlib.pylab as plt\n",
    "from skimpy import skim\n",
    "import numpy as np\n",
    "import pandas as pd\n",
    "from IPython.display import display, HTML\n",
    "import seaborn as sns\n"
   ]
  },
  {
   "cell_type": "code",
   "execution_count": null,
   "metadata": {},
   "outputs": [],
   "source": []
  },
  {
   "cell_type": "code",
   "execution_count": 2,
   "metadata": {},
   "outputs": [
    {
     "name": "stderr",
     "output_type": "stream",
     "text": [
      "2024-01-04 02:42:48.785363: I external/local_tsl/tsl/cuda/cudart_stub.cc:31] Could not find cuda drivers on your machine, GPU will not be used.\n",
      "2024-01-04 02:42:48.811374: E external/local_xla/xla/stream_executor/cuda/cuda_dnn.cc:9261] Unable to register cuDNN factory: Attempting to register factory for plugin cuDNN when one has already been registered\n",
      "2024-01-04 02:42:48.811406: E external/local_xla/xla/stream_executor/cuda/cuda_fft.cc:607] Unable to register cuFFT factory: Attempting to register factory for plugin cuFFT when one has already been registered\n",
      "2024-01-04 02:42:48.812630: E external/local_xla/xla/stream_executor/cuda/cuda_blas.cc:1515] Unable to register cuBLAS factory: Attempting to register factory for plugin cuBLAS when one has already been registered\n",
      "2024-01-04 02:42:48.817765: I external/local_tsl/tsl/cuda/cudart_stub.cc:31] Could not find cuda drivers on your machine, GPU will not be used.\n",
      "2024-01-04 02:42:48.818596: I tensorflow/core/platform/cpu_feature_guard.cc:182] This TensorFlow binary is optimized to use available CPU instructions in performance-critical operations.\n",
      "To enable the following instructions: AVX2 FMA, in other operations, rebuild TensorFlow with the appropriate compiler flags.\n",
      "2024-01-04 02:42:49.386198: W tensorflow/compiler/tf2tensorrt/utils/py_utils.cc:38] TF-TRT Warning: Could not find TensorRT\n"
     ]
    }
   ],
   "source": [
    "\n",
    "import tensorflow as tf\n",
    "import tensorflow_probability as tfp\n",
    "\n",
    "from bayesianquilts.models.logistic_regression import LogisticRegression\n",
    "from bayesianquilts.metrics.classification import classification_metrics"
   ]
  },
  {
   "cell_type": "code",
   "execution_count": 3,
   "metadata": {},
   "outputs": [
    {
     "name": "stdout",
     "output_type": "stream",
     "text": [
      "2.15.0 0.23.0\n"
     ]
    }
   ],
   "source": [
    "print(tf.__version__, tfp.__version__)"
   ]
  },
  {
   "cell_type": "markdown",
   "metadata": {},
   "source": [
    "# Load the dataset\n",
    "\n",
    "Using the example from here: https://www.tensorflow.org/guide/core/logistic_regression_core"
   ]
  },
  {
   "cell_type": "code",
   "execution_count": 4,
   "metadata": {},
   "outputs": [],
   "source": [
    "from ucimlrepo import fetch_ucirepo \n"
   ]
  },
  {
   "cell_type": "code",
   "execution_count": 5,
   "metadata": {},
   "outputs": [],
   "source": [
    "# fetch dataset \n",
    "cdc_diabetes_health_indicators = fetch_ucirepo(id=891) \n",
    "  \n",
    "# data (as pandas dataframes) \n",
    "X = cdc_diabetes_health_indicators.data.features \n",
    "y = cdc_diabetes_health_indicators.data.targets "
   ]
  },
  {
   "cell_type": "code",
   "execution_count": 6,
   "metadata": {},
   "outputs": [],
   "source": [
    "X_scaled = (X - X.min())/X.max()\n",
    "n = X_scaled.shape[0]\n",
    "p = X_scaled.shape[1]"
   ]
  },
  {
   "cell_type": "code",
   "execution_count": 7,
   "metadata": {},
   "outputs": [],
   "source": [
    "lr_model = LogisticRegression(dim_regressors=p, regression_interact=None)"
   ]
  },
  {
   "cell_type": "code",
   "execution_count": 8,
   "metadata": {},
   "outputs": [],
   "source": [
    "batch_size = 1057\n"
   ]
  },
  {
   "cell_type": "code",
   "execution_count": 9,
   "metadata": {},
   "outputs": [],
   "source": [
    "tfdata = tf.data.Dataset.from_tensor_slices({'X': X_scaled, 'y':y})\n",
    "\n",
    "def data_factory():\n",
    "    out = tfdata.shuffle(batch_size*10).batch(batch_size)\n",
    "    return out"
   ]
  },
  {
   "cell_type": "code",
   "execution_count": 10,
   "metadata": {},
   "outputs": [
    {
     "name": "stdout",
     "output_type": "stream",
     "text": [
      "Running optimization for 4000 steps of 1 accumulated batches, checking every 240 steps\n",
      "Saved a checkpoint: /tmp/tfcheckpoints/5bd42b7c-5b6a-4dcd-a0c0-1bd856f476a9/5bd42b7c-5b6a-4dcd-a0c0-1bd856f476a9-1\n"
     ]
    },
    {
     "name": "stderr",
     "output_type": "stream",
     "text": [
      "  0%|          | 0/4000 [00:00<?, ?it/s]"
     ]
    },
    {
     "name": "stderr",
     "output_type": "stream",
     "text": [
      "  6%|▌         | 236/4000 [00:03<00:42, 87.78it/s]"
     ]
    },
    {
     "name": "stdout",
     "output_type": "stream",
     "text": [
      "Step 240: average-batch loss:432.2113182393455 rel loss: 2.3136830476203087e+305\n",
      "Saved a checkpoint: /tmp/tfcheckpoints/5bd42b7c-5b6a-4dcd-a0c0-1bd856f476a9/5bd42b7c-5b6a-4dcd-a0c0-1bd856f476a9-2\n"
     ]
    },
    {
     "name": "stderr",
     "output_type": "stream",
     "text": [
      " 12%|█▏        | 471/4000 [00:06<00:40, 86.18it/s]"
     ]
    },
    {
     "name": "stdout",
     "output_type": "stream",
     "text": [
      "Step 480: average-batch loss:398.9174034027828 rel loss: 0.08346067269205142\n",
      "Saved a checkpoint: /tmp/tfcheckpoints/5bd42b7c-5b6a-4dcd-a0c0-1bd856f476a9/5bd42b7c-5b6a-4dcd-a0c0-1bd856f476a9-3\n"
     ]
    },
    {
     "name": "stderr",
     "output_type": "stream",
     "text": [
      " 18%|█▊        | 716/4000 [00:08<00:38, 86.25it/s]"
     ]
    },
    {
     "name": "stdout",
     "output_type": "stream",
     "text": [
      "Step 720: average-batch loss:436.20189129643825 rel loss: 0.08547530085860476\n",
      "New learning rate: <tf.Variable 'learning_rate:0' shape=() dtype=float32, numpy=0.0015>\n"
     ]
    },
    {
     "name": "stderr",
     "output_type": "stream",
     "text": [
      " 24%|██▍       | 951/4000 [00:11<00:35, 85.84it/s]"
     ]
    },
    {
     "name": "stdout",
     "output_type": "stream",
     "text": [
      "Step 960: average-batch loss:408.3073790235468 rel loss: 0.02299732040900121\n",
      "New learning rate: <tf.Variable 'learning_rate:0' shape=() dtype=float32, numpy=0.0015>\n"
     ]
    },
    {
     "name": "stderr",
     "output_type": "stream",
     "text": [
      " 30%|██▉       | 1195/4000 [00:14<00:32, 86.30it/s]"
     ]
    },
    {
     "name": "stdout",
     "output_type": "stream",
     "text": [
      "Step 1200: average-batch loss:390.84267893245146 rel loss: 0.02065978181396832\n",
      "Saved a checkpoint: /tmp/tfcheckpoints/5bd42b7c-5b6a-4dcd-a0c0-1bd856f476a9/5bd42b7c-5b6a-4dcd-a0c0-1bd856f476a9-4\n"
     ]
    },
    {
     "name": "stderr",
     "output_type": "stream",
     "text": [
      " 36%|███▌      | 1439/4000 [00:17<00:29, 86.01it/s]"
     ]
    },
    {
     "name": "stdout",
     "output_type": "stream",
     "text": [
      "Step 1440: average-batch loss:400.15322969592944 rel loss: 0.02326746374270908\n",
      "New learning rate: <tf.Variable 'learning_rate:0' shape=() dtype=float32, numpy=0.0015>\n"
     ]
    },
    {
     "name": "stderr",
     "output_type": "stream",
     "text": [
      " 42%|████▏     | 1673/4000 [00:19<00:26, 88.06it/s]"
     ]
    },
    {
     "name": "stdout",
     "output_type": "stream",
     "text": [
      "Step 1680: average-batch loss:399.7165201224305 rel loss: 0.022200336346521365\n",
      "New learning rate: <tf.Variable 'learning_rate:0' shape=() dtype=float32, numpy=0.0015>\n"
     ]
    },
    {
     "name": "stderr",
     "output_type": "stream",
     "text": [
      " 48%|████▊     | 1917/4000 [00:22<00:24, 85.78it/s]"
     ]
    },
    {
     "name": "stdout",
     "output_type": "stream",
     "text": [
      "Step 1920: average-batch loss:371.34531873501555 rel loss: 0.05250466133208166\n",
      "Saved a checkpoint: /tmp/tfcheckpoints/5bd42b7c-5b6a-4dcd-a0c0-1bd856f476a9/5bd42b7c-5b6a-4dcd-a0c0-1bd856f476a9-5\n"
     ]
    },
    {
     "name": "stderr",
     "output_type": "stream",
     "text": [
      " 54%|█████▍    | 2152/4000 [00:25<00:20, 88.15it/s]"
     ]
    },
    {
     "name": "stdout",
     "output_type": "stream",
     "text": [
      "Step 2160: average-batch loss:440.2280764306798 rel loss: 0.15647061462812176\n",
      "New learning rate: <tf.Variable 'learning_rate:0' shape=() dtype=float32, numpy=0.0015>\n"
     ]
    },
    {
     "name": "stderr",
     "output_type": "stream",
     "text": [
      " 60%|█████▉    | 2396/4000 [00:28<00:18, 85.46it/s]"
     ]
    },
    {
     "name": "stdout",
     "output_type": "stream",
     "text": [
      "Step 2400: average-batch loss:406.54258239913963 rel loss: 0.08657706520289611\n",
      "New learning rate: <tf.Variable 'learning_rate:0' shape=() dtype=float32, numpy=0.0015>\n"
     ]
    },
    {
     "name": "stderr",
     "output_type": "stream",
     "text": [
      " 66%|██████▌   | 2639/4000 [00:31<00:15, 86.77it/s]"
     ]
    },
    {
     "name": "stdout",
     "output_type": "stream",
     "text": [
      "Step 2640: average-batch loss:391.19646518256206 rel loss: 0.05074469790590377\n",
      "New learning rate: <tf.Variable 'learning_rate:0' shape=() dtype=float32, numpy=0.0015>\n"
     ]
    },
    {
     "name": "stderr",
     "output_type": "stream",
     "text": [
      " 72%|███████▏  | 2873/4000 [00:33<00:13, 86.61it/s]"
     ]
    },
    {
     "name": "stdout",
     "output_type": "stream",
     "text": [
      "Step 2880: average-batch loss:402.33757852802563 rel loss: 0.07703048744886565\n",
      "New learning rate: <tf.Variable 'learning_rate:0' shape=() dtype=float32, numpy=0.0015>\n"
     ]
    },
    {
     "name": "stderr",
     "output_type": "stream",
     "text": [
      " 78%|███████▊  | 3116/4000 [00:36<00:10, 85.90it/s]"
     ]
    },
    {
     "name": "stdout",
     "output_type": "stream",
     "text": [
      "Step 3120: average-batch loss:399.40748715832535 rel loss: 0.07025949519115034\n",
      "New learning rate: <tf.Variable 'learning_rate:0' shape=() dtype=float32, numpy=0.0015>\n",
      "We are in a loss plateau\n",
      "Restoring from a checkpoint\n"
     ]
    },
    {
     "name": "stderr",
     "output_type": "stream",
     "text": [
      " 84%|████████▍ | 3351/4000 [00:39<00:07, 86.60it/s]"
     ]
    },
    {
     "name": "stdout",
     "output_type": "stream",
     "text": [
      "Step 3360: average-batch loss:389.5542642737331 rel loss: 0.046743027117583914\n",
      "New learning rate: <tf.Variable 'learning_rate:0' shape=() dtype=float32, numpy=0.0015>\n",
      "We are in a loss plateau\n",
      "Restoring from a checkpoint\n"
     ]
    },
    {
     "name": "stderr",
     "output_type": "stream",
     "text": [
      " 90%|████████▉ | 3594/4000 [00:42<00:04, 86.48it/s]"
     ]
    },
    {
     "name": "stdout",
     "output_type": "stream",
     "text": [
      "Step 3600: average-batch loss:360.08906122046915 rel loss: 0.03125964858914339\n",
      "Saved a checkpoint: /tmp/tfcheckpoints/5bd42b7c-5b6a-4dcd-a0c0-1bd856f476a9/5bd42b7c-5b6a-4dcd-a0c0-1bd856f476a9-6\n"
     ]
    },
    {
     "name": "stderr",
     "output_type": "stream",
     "text": [
      " 96%|█████████▌| 3837/4000 [00:45<00:01, 85.07it/s]"
     ]
    },
    {
     "name": "stdout",
     "output_type": "stream",
     "text": [
      "Step 3840: average-batch loss:409.6273936754295 rel loss: 0.12093510644020145\n",
      "New learning rate: <tf.Variable 'learning_rate:0' shape=() dtype=float32, numpy=0.0015>\n"
     ]
    },
    {
     "name": "stderr",
     "output_type": "stream",
     "text": [
      "100%|█████████▉| 3999/4000 [00:46<00:00, 85.74it/s]"
     ]
    },
    {
     "name": "stdout",
     "output_type": "stream",
     "text": [
      "Terminating because we are out of iterations\n"
     ]
    },
    {
     "name": "stderr",
     "output_type": "stream",
     "text": [
      "100%|██████████| 4000/4000 [00:46<00:00, 85.22it/s]\n"
     ]
    }
   ],
   "source": [
    "losses = lr_model.fit(\n",
    "    data_factory,\n",
    "    dataset_size=n,\n",
    "    batches_per_step=1,\n",
    "    check_every=int(n/batch_size),\n",
    "    batch_size=batch_size,\n",
    "    num_steps=4000,\n",
    "    max_decay_steps=100,\n",
    "    max_plateau_epochs=100,\n",
    "    sample_size=32,\n",
    "    learning_rate=0.0015)"
   ]
  },
  {
   "cell_type": "markdown",
   "metadata": {},
   "source": [
    "# Compute LOO AU ROC/PRC"
   ]
  },
  {
   "cell_type": "code",
   "execution_count": 11,
   "metadata": {},
   "outputs": [],
   "source": [
    "def prediction_fn_stepaway(data):\n",
    "    params = lr_model.sample(100)\n",
    "    pred = lr_model.stepaway_loo(data, params, 0.0001)['p_loo_stepaway']\n",
    "    return pred\n",
    "\n",
    "def prediction_fn_loo(data):\n",
    "    params = lr_model.sample(100)\n",
    "    pred = lr_model.stepaway_loo(data, params, 0.0001)['p_loo']\n",
    "    return pred\n",
    "\n",
    "def prediction_fn(data):\n",
    "    params = lr_model.sample(100)\n",
    "    pred = lr_model.stepaway_loo(data, params, 0.0001)['p']\n",
    "    return pred"
   ]
  },
  {
   "cell_type": "code",
   "execution_count": 12,
   "metadata": {},
   "outputs": [],
   "source": [
    "bench_stepaway_loo = classification_metrics(\n",
    "    data_factory=data_factory,\n",
    "    prediction_fn=prediction_fn_stepaway,\n",
    "    outcome_label='y',\n",
    "    by_vars=[]\n",
    ")\n",
    "\n",
    "bench_loo = classification_metrics(\n",
    "    data_factory=data_factory,\n",
    "    prediction_fn=prediction_fn_loo,\n",
    "    outcome_label='y',\n",
    "    by_vars=[]\n",
    ")\n",
    "\n",
    "bench = classification_metrics(\n",
    "    data_factory=data_factory,\n",
    "    prediction_fn=prediction_fn,\n",
    "    outcome_label='y',\n",
    "    by_vars=[]\n",
    ")"
   ]
  },
  {
   "cell_type": "code",
   "execution_count": 13,
   "metadata": {},
   "outputs": [
    {
     "data": {
      "text/plain": [
       "(0.0, 1.0)"
      ]
     },
     "execution_count": 13,
     "metadata": {},
     "output_type": "execute_result"
    },
    {
     "data": {
      "image/png": "[encoded data removed]",
      "text/plain": [
       "<Figure size 900x200 with 2 Axes>"
      ]
     },
     "metadata": {},
     "output_type": "display_data"
    }
   ],
   "source": [
    "fig, ax = plt.subplots(1, 2, figsize=(9, 2))\n",
    "ax[0].plot(bench_stepaway_loo['auroc']['fpr'], bench_stepaway_loo['auroc']['tpr'])\n",
    "ax[0].text(0.5, 0.1, f\"AUROC: {round(bench_stepaway_loo['auroc']['auroc'], 2)}\")\n",
    "ax[0].set_xlim((0, 1))\n",
    "ax[0].set_ylim((0, 1))\n",
    "ax[0].set_title(\"ROC\")\n",
    "\n",
    "ax[1].plot(bench_stepaway_loo['auprc']['recall'], bench_stepaway_loo['auprc']['precision'])\n",
    "ax[1].text(0.5, 0.8, f\"AUPRC: {round(bench_stepaway_loo['auprc']['auprc'], 2)}\")\n",
    "ax[1].set_title(\"Precision-Recall\")\n",
    "ax[1].set_xlim((0, 1))\n",
    "ax[1].set_ylim((0, 1))"
   ]
  },
  {
   "cell_type": "code",
   "execution_count": 14,
   "metadata": {},
   "outputs": [
    {
     "data": {
      "text/plain": [
       "(0.0, 1.0)"
      ]
     },
     "execution_count": 14,
     "metadata": {},
     "output_type": "execute_result"
    },
    {
     "data": {
      "image/png": "[encoded data removed]",
      "text/plain": [
       "<Figure size 900x200 with 2 Axes>"
      ]
     },
     "metadata": {},
     "output_type": "display_data"
    }
   ],
   "source": [
    "fig, ax = plt.subplots(1, 2, figsize=(9, 2))\n",
    "ax[0].plot(bench_loo['auroc']['fpr'], bench_loo['auroc']['tpr'])\n",
    "ax[0].text(0.5, 0.1, f\"AUROC: {round(bench_loo['auroc']['auroc'], 2)}\")\n",
    "ax[0].set_xlim((0, 1))\n",
    "ax[0].set_ylim((0, 1))\n",
    "ax[0].set_title(\"ROC\")\n",
    "\n",
    "ax[1].plot(bench_loo['auprc']['recall'], bench_loo['auprc']['precision'])\n",
    "ax[1].text(0.5, 0.8, f\"AUPRC: {round(bench_loo['auprc']['auprc'], 2)}\")\n",
    "ax[1].set_title(\"Precision-Recall\")\n",
    "ax[1].set_xlim((0, 1))\n",
    "ax[1].set_ylim((0, 1))"
   ]
  },
  {
   "cell_type": "code",
   "execution_count": 15,
   "metadata": {},
   "outputs": [
    {
     "data": {
      "text/plain": [
       "(0.0, 1.0)"
      ]
     },
     "execution_count": 15,
     "metadata": {},
     "output_type": "execute_result"
    },
    {
     "data": {
      "image/png": "[encoded data removed]",
      "text/plain": [
       "<Figure size 900x200 with 2 Axes>"
      ]
     },
     "metadata": {},
     "output_type": "display_data"
    }
   ],
   "source": [
    "fig, ax = plt.subplots(1, 2, figsize=(9, 2))\n",
    "ax[0].plot(bench['auroc']['fpr'], bench['auroc']['tpr'])\n",
    "ax[0].text(0.5, 0.1, f\"AUROC: {round(bench['auroc']['auroc'], 2)}\")\n",
    "ax[0].set_xlim((0, 1))\n",
    "ax[0].set_ylim((0, 1))\n",
    "ax[0].set_title(\"ROC\")\n",
    "\n",
    "ax[1].plot(bench['auprc']['recall'], bench['auprc']['precision'])\n",
    "ax[1].text(0.5, 0.8, f\"AUPRC: {round(bench['auprc']['auprc'], 2)}\")\n",
    "ax[1].set_title(\"Precision-Recall\")\n",
    "ax[1].set_xlim((0, 1))\n",
    "ax[1].set_ylim((0, 1))"
   ]
  },
  {
   "cell_type": "code",
   "execution_count": 16,
   "metadata": {},
   "outputs": [
    {
     "data": {
      "text/plain": [
       "0.7894034574667436"
      ]
     },
     "execution_count": 16,
     "metadata": {},
     "output_type": "execute_result"
    }
   ],
   "source": [
    "bench['auroc']['auroc']"
   ]
  },
  {
   "cell_type": "code",
   "execution_count": null,
   "metadata": {},
   "outputs": [],
   "source": []
  },
  {
   "cell_type": "code",
   "execution_count": null,
   "metadata": {},
   "outputs": [],
   "source": []
  }
 ],
 "metadata": {
  "kernelspec": {
   "display_name": "env",
   "language": "python",
   "name": "python3"
  },
  "language_info": {
   "codemirror_mode": {
    "name": "ipython",
    "version": 3
   },
   "file_extension": ".py",
   "mimetype": "text/x-python",
   "name": "python",
   "nbconvert_exporter": "python",
   "pygments_lexer": "ipython3",
   "version": "3.10.12"
  }
 },
 "nbformat": 4,
 "nbformat_minor": 2
}
