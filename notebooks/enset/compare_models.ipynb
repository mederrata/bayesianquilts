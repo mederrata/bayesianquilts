{
 "cells": [
  {
   "cell_type": "code",
   "execution_count": 46,
   "metadata": {},
   "outputs": [],
   "source": [
    "\n",
    "%matplotlib inline\n",
    "from itertools import chain, combinations\n",
    "import matplotlib\n",
    "import json\n",
    "import arviz\n",
    "\n",
    "import importlib\n",
    "from matplotlib import pyplot as plt\n",
    "matplotlib.rcParams['pdf.fonttype'] = 42\n",
    "matplotlib.rcParams['ps.fonttype'] = 42\n",
    "matplotlib.rcParams['text.usetex'] = True\n",
    "from abc import ABC\n",
    "from cmdstanpy import CmdStanModel\n",
    "import numpy as np\n",
    "import pandas as pd\n",
    "from pathlib import Path\n",
    "from tqdm import tqdm\n",
    "import nest_asyncio\n",
    "nest_asyncio.apply()\n",
    "from collections import defaultdict\n",
    "from typing import Any\n",
    "\n",
    "from sklearn import metrics\n",
    "from matplotlib import pyplot as plt\n"
   ]
  },
  {
   "cell_type": "code",
   "execution_count": 2,
   "metadata": {},
   "outputs": [
    {
     "name": "stderr",
     "output_type": "stream",
     "text": [
      "2024-12-15 03:51:12.931031: I external/local_xla/xla/tsl/cuda/cudart_stub.cc:32] Could not find cuda drivers on your machine, GPU will not be used.\n",
      "2024-12-15 03:51:12.933612: I external/local_xla/xla/tsl/cuda/cudart_stub.cc:32] Could not find cuda drivers on your machine, GPU will not be used.\n",
      "2024-12-15 03:51:12.940920: E external/local_xla/xla/stream_executor/cuda/cuda_fft.cc:477] Unable to register cuFFT factory: Attempting to register factory for plugin cuFFT when one has already been registered\n",
      "WARNING: All log messages before absl::InitializeLog() is called are written to STDERR\n",
      "E0000 00:00:1734234672.953751 3156539 cuda_dnn.cc:8310] Unable to register cuDNN factory: Attempting to register factory for plugin cuDNN when one has already been registered\n",
      "E0000 00:00:1734234672.957386 3156539 cuda_blas.cc:1418] Unable to register cuBLAS factory: Attempting to register factory for plugin cuBLAS when one has already been registered\n",
      "2024-12-15 03:51:12.970832: I tensorflow/core/platform/cpu_feature_guard.cc:210] This TensorFlow binary is optimized to use available CPU instructions in performance-critical operations.\n",
      "To enable the following instructions: AVX2 FMA, in other operations, rebuild TensorFlow with the appropriate compiler flags.\n",
      "2024-12-15 03:51:14.760799: E external/local_xla/xla/stream_executor/cuda/cuda_driver.cc:152] failed call to cuInit: INTERNAL: CUDA error: Failed call to cuInit: UNKNOWN ERROR (303)\n"
     ]
    }
   ],
   "source": [
    "\n",
    "import tensorflow as tf\n",
    "import tensorflow_probability as tfp\n",
    "import tensorflow_probability.python.bijectors as tfb\n",
    "\n",
    "# pip install github:https://github.com/mederrata/bayesianquilts\n",
    "from bayesianquilts.models.logistic_regression_reparam import LogisticRegression2\n",
    "from bayesianquilts.metrics.classification import classification_metrics, auroc, auprc\n",
    "from bayesianquilts.sampler import psis, nppsis\n"
   ]
  },
  {
   "cell_type": "code",
   "execution_count": 12,
   "metadata": {},
   "outputs": [],
   "source": [
    "df = pd.read_table(importlib.resources.path('bayesianquilts', 'data')/\"enset.csv\", header=None, names=['d10', 'kg'], sep=\",\")"
   ]
  },
  {
   "cell_type": "code",
   "execution_count": 18,
   "metadata": {},
   "outputs": [
    {
     "data": {
      "text/plain": [
       "<Axes: xlabel='d10', ylabel='kg'>"
      ]
     },
     "execution_count": 18,
     "metadata": {},
     "output_type": "execute_result"
    },
    {
     "data": {
      "image/png": "[encoded data removed]",
      "text/plain": [
       "<Figure size 640x480 with 1 Axes>"
      ]
     },
     "metadata": {},
     "output_type": "display_data"
    }
   ],
   "source": [
    "df.plot.scatter(x='d10', y='kg')"
   ]
  },
  {
   "cell_type": "code",
   "execution_count": 22,
   "metadata": {},
   "outputs": [],
   "source": [
    "powerlaw_code = \"\"\"\n",
    "data {\n",
    "  int <lower=0> N;                // number  of  observations\n",
    "  vector[N] log_kg;      // outputs\n",
    "  vector[N] log_d10;      // outputs\n",
    "}\n",
    "\n",
    "parameters {\n",
    "  real  b0;\n",
    "  real  b1;\n",
    "  real<lower=0> sigma;\n",
    "  }\n",
    "  \n",
    "model {\n",
    "    vector[N] mu; \n",
    "    sigma ~ cauchy(0, 5); \n",
    "    b0 ~ normal(0, 5);\n",
    "    b1 ~ normal(0, 5);\n",
    "    mu = b0 + b1 * log_d10; \n",
    "    log_kg ~ normal(mu, sigma);\n",
    "    \n",
    "}\n",
    "\n",
    "\"\"\"\n",
    "\n",
    "with open(f\"/tmp/loglog.stan\", 'w') as f:\n",
    "  f.writelines(powerlaw_code)"
   ]
  },
  {
   "cell_type": "code",
   "execution_count": 23,
   "metadata": {},
   "outputs": [
    {
     "name": "stderr",
     "output_type": "stream",
     "text": [
      "04:03:37 - cmdstanpy - INFO - compiling stan file /tmp/loglog.stan to exe file /tmp/loglog\n"
     ]
    },
    {
     "name": "stderr",
     "output_type": "stream",
     "text": [
      "04:03:53 - cmdstanpy - INFO - compiled model executable: /tmp/loglog\n"
     ]
    }
   ],
   "source": [
    "sm = CmdStanModel(stan_file=\"/tmp/loglog.stan\")"
   ]
  },
  {
   "cell_type": "code",
   "execution_count": 36,
   "metadata": {},
   "outputs": [
    {
     "data": {
      "text/plain": [
       "[2.994220557468669,\n",
       " 3.1351000754786686,\n",
       " 3.2261004198078314,\n",
       " 3.217061491137961,\n",
       " 3.217061491137961,\n",
       " 3.301193423840597,\n",
       " 3.4042139752015808,\n",
       " 3.3966553602276544,\n",
       " 3.4363234267099942,\n",
       " 3.4017007796088543,\n",
       " 3.508971899699263,\n",
       " 3.5268935263166186,\n",
       " 3.9712604918120444,\n",
       " 3.8725847459547693,\n",
       " 3.8503404223553197,\n",
       " 3.861524434121444,\n",
       " 3.8292323160427464,\n",
       " 3.8275900098762756,\n",
       " 3.805990898072814,\n",
       " 3.805990898072814,\n",
       " 3.759582845714083,\n",
       " 3.768341002940407,\n",
       " 3.763095318591224,\n",
       " 3.7164417202684485,\n",
       " 3.7164417202684485,\n",
       " 3.7016376008986613,\n",
       " 3.620102355634619,\n",
       " 3.611978834113139,\n",
       " 3.607892191727687,\n",
       " 3.583015286972283,\n",
       " 3.583015286972283,\n",
       " 3.542315731079819,\n",
       " 3.5934559748401096,\n",
       " 3.5934559748401096,\n",
       " 3.5788082971746533]"
      ]
     },
     "execution_count": 36,
     "metadata": {},
     "output_type": "execute_result"
    }
   ],
   "source": [
    "np.log(df.iloc[:, 0].values).tolist()"
   ]
  },
  {
   "cell_type": "code",
   "execution_count": 38,
   "metadata": {},
   "outputs": [],
   "source": [
    "enset_data = {\n",
    "    \"N\": len(df),\n",
    "    \"log_kg\": np.log(df.iloc[:, 1].values).tolist(),\n",
    "    \"log_d10\": np.log(df.iloc[:, 0].values).tolist()\n",
    "\n",
    "    \n",
    "}\n",
    "\n",
    "with open(\"/tmp/enset_data.json\", \"w\") as f:\n",
    "    json.dump(enset_data, f)"
   ]
  },
  {
   "cell_type": "code",
   "execution_count": 39,
   "metadata": {},
   "outputs": [
    {
     "data": {
      "text/plain": [
       "{'N': 35,\n",
       " 'log_kg': [0.7696872576822785,\n",
       "  1.121085144520168,\n",
       "  1.8142323250801136,\n",
       "  1.4225605391042853,\n",
       "  1.5388203452201472,\n",
       "  1.5629178967992077,\n",
       "  1.2909841813155658,\n",
       "  1.6429606044727436,\n",
       "  1.7068120764592762,\n",
       "  1.8142323250801136,\n",
       "  1.9361221426891502,\n",
       "  1.927891643552635,\n",
       "  3.207447129044578,\n",
       "  3.1359881650624333,\n",
       "  3.040184036124825,\n",
       "  2.8156808652945755,\n",
       "  2.7633128797772595,\n",
       "  2.612740021297885,\n",
       "  2.5347784798281734,\n",
       "  2.45022109180011,\n",
       "  2.5831395515215942,\n",
       "  2.4980771129777453,\n",
       "  2.3947912868607797,\n",
       "  2.399959257019222,\n",
       "  2.2678995350061557,\n",
       "  2.244088886312437,\n",
       "  2.244088886312437,\n",
       "  2.2135054629403568,\n",
       "  2.1157077196642304,\n",
       "  1.9027857224215585,\n",
       "  1.9112245910674233,\n",
       "  2.080860988334062,\n",
       "  2.0593547831130983,\n",
       "  2.0593547831130983,\n",
       "  2.052082023784019],\n",
       " 'log_d10': [2.994220557468669,\n",
       "  3.1351000754786686,\n",
       "  3.2261004198078314,\n",
       "  3.217061491137961,\n",
       "  3.217061491137961,\n",
       "  3.301193423840597,\n",
       "  3.4042139752015808,\n",
       "  3.3966553602276544,\n",
       "  3.4363234267099942,\n",
       "  3.4017007796088543,\n",
       "  3.508971899699263,\n",
       "  3.5268935263166186,\n",
       "  3.9712604918120444,\n",
       "  3.8725847459547693,\n",
       "  3.8503404223553197,\n",
       "  3.861524434121444,\n",
       "  3.8292323160427464,\n",
       "  3.8275900098762756,\n",
       "  3.805990898072814,\n",
       "  3.805990898072814,\n",
       "  3.759582845714083,\n",
       "  3.768341002940407,\n",
       "  3.763095318591224,\n",
       "  3.7164417202684485,\n",
       "  3.7164417202684485,\n",
       "  3.7016376008986613,\n",
       "  3.620102355634619,\n",
       "  3.611978834113139,\n",
       "  3.607892191727687,\n",
       "  3.583015286972283,\n",
       "  3.583015286972283,\n",
       "  3.542315731079819,\n",
       "  3.5934559748401096,\n",
       "  3.5934559748401096,\n",
       "  3.5788082971746533]}"
      ]
     },
     "execution_count": 39,
     "metadata": {},
     "output_type": "execute_result"
    }
   ],
   "source": [
    "enset_data"
   ]
  },
  {
   "cell_type": "code",
   "execution_count": 41,
   "metadata": {},
   "outputs": [
    {
     "name": "stderr",
     "output_type": "stream",
     "text": [
      "04:09:52 - cmdstanpy - INFO - CmdStan start processing\n",
      "chain 1 |\u001b[33m          \u001b[0m| 00:00 Status\n",
      "\u001b[A\n",
      "\n",
      "chain 1 |\u001b[33m▍         \u001b[0m| 00:00 Iteration:  1000 / 25000 [  4%]  (Warmup)\n",
      "\u001b[A\n",
      "\n",
      "chain 1 |\u001b[33m█         \u001b[0m| 00:00 Iteration:  2600 / 25000 [ 10%]  (Warmup)\n",
      "\u001b[A\n",
      "\n",
      "chain 1 |\u001b[33m█▋        \u001b[0m| 00:00 Iteration:  4100 / 25000 [ 16%]  (Warmup)\n",
      "\u001b[A\n",
      "\n",
      "chain 1 |\u001b[33m██▍       \u001b[0m| 00:00 Iteration:  5800 / 25000 [ 23%]  (Warmup)\n",
      "\u001b[A\n",
      "\n",
      "chain 1 |\u001b[33m███       \u001b[0m| 00:00 Iteration:  7400 / 25000 [ 29%]  (Warmup)\n",
      "\u001b[A\n",
      "\n",
      "chain 1 |\u001b[33m███▋      \u001b[0m| 00:00 Iteration:  9200 / 25000 [ 36%]  (Warmup)\n",
      "\u001b[A\n",
      "\n",
      "chain 1 |\u001b[33m████▍     \u001b[0m| 00:00 Iteration: 10900 / 25000 [ 43%]  (Warmup)\n",
      "\u001b[A\n",
      "\n",
      "chain 1 |\u001b[33m█████     \u001b[0m| 00:00 Iteration: 12600 / 25000 [ 50%]  (Warmup)\n",
      "\u001b[A\n",
      "\n",
      "chain 1 |\u001b[33m█████▊    \u001b[0m| 00:00 Iteration: 14300 / 25000 [ 57%]  (Warmup)\n",
      "\u001b[A\n",
      "\n",
      "chain 1 |\u001b[34m██████▍   \u001b[0m| 00:01 Iteration: 15900 / 25000 [ 63%]  (Sampling)\n",
      "\u001b[A\n",
      "\n",
      "\u001b[A\u001b[A\n",
      "chain 1 |\u001b[34m███████   \u001b[0m| 00:01 Iteration: 17500 / 25000 [ 70%]  (Sampling)\n",
      "\n",
      "\u001b[A\u001b[A\n",
      "chain 1 |\u001b[34m███████▋  \u001b[0m| 00:01 Iteration: 19000 / 25000 [ 76%]  (Sampling)\n",
      "\n",
      "\u001b[A\u001b[A\n",
      "chain 1 |\u001b[34m████████▏ \u001b[0m| 00:01 Iteration: 20400 / 25000 [ 81%]  (Sampling)\n",
      "\n",
      "\u001b[A\u001b[A\n",
      "chain 1 |\u001b[34m████████▋ \u001b[0m| 00:01 Iteration: 21700 / 25000 [ 86%]  (Sampling)\n",
      "\n",
      "\u001b[A\u001b[A\n",
      "chain 1 |\u001b[34m█████████▏\u001b[0m| 00:01 Iteration: 23000 / 25000 [ 92%]  (Sampling)\n",
      "\n",
      "chain 1 |\u001b[34m█████████▊\u001b[0m| 00:01 Iteration: 24300 / 25000 [ 97%]  (Sampling)\n",
      "\n",
      "chain 1 |\u001b[34m██████████\u001b[0m| 00:01 Sampling completed                         \n",
      "chain 2 |\u001b[34m██████████\u001b[0m| 00:01 Sampling completed                         \n",
      "chain 3 |\u001b[34m██████████\u001b[0m| 00:01 Sampling completed                         \n",
      "chain 4 |\u001b[34m██████████\u001b[0m| 00:01 Sampling completed                         "
     ]
    },
    {
     "name": "stdout",
     "output_type": "stream",
     "text": [
      "                                                                                                                                                                                                                                                                                                                                "
     ]
    },
    {
     "name": "stderr",
     "output_type": "stream",
     "text": [
      "\n",
      "04:09:54 - cmdstanpy - INFO - CmdStan done processing.\n",
      "04:09:54 - cmdstanpy - WARNING - Non-fatal error during sampling:\n",
      "Exception: normal_lpdf: Scale parameter is 0, but must be positive! (in 'loglog.stan', line 20, column 4 to column 31)\n",
      "Exception: normal_lpdf: Scale parameter is 0, but must be positive! (in 'loglog.stan', line 20, column 4 to column 31)\n",
      "Exception: normal_lpdf: Scale parameter is 0, but must be positive! (in 'loglog.stan', line 20, column 4 to column 31)\n",
      "Consider re-running with show_console=True if the above output is unclear!\n"
     ]
    },
    {
     "name": "stdout",
     "output_type": "stream",
     "text": [
      "\n"
     ]
    }
   ],
   "source": [
    "S = 10000\n",
    "fit = sm.sample(\n",
    "    data=\"/tmp/enset_data.json\",\n",
    "    iter_warmup=15000,\n",
    "    iter_sampling=S,\n",
    "    thin=4,\n",
    ")"
   ]
  },
  {
   "cell_type": "code",
   "execution_count": 42,
   "metadata": {},
   "outputs": [
    {
     "name": "stdout",
     "output_type": "stream",
     "text": [
      "CmdStanMCMC: model=loglog chains=4['method=sample', 'num_samples=10000', 'num_warmup=15000', 'thin=4', 'algorithm=hmc', 'adapt', 'engaged=1']\n",
      " csv_files:\n",
      "\t/tmp/tmps18g4lc0/loglog5rdk8j8o/loglog-20241215040952_1.csv\n",
      "\t/tmp/tmps18g4lc0/loglog5rdk8j8o/loglog-20241215040952_2.csv\n",
      "\t/tmp/tmps18g4lc0/loglog5rdk8j8o/loglog-20241215040952_3.csv\n",
      "\t/tmp/tmps18g4lc0/loglog5rdk8j8o/loglog-20241215040952_4.csv\n",
      " output_files:\n",
      "\t/tmp/tmps18g4lc0/loglog5rdk8j8o/loglog-20241215040952_0-stdout.txt\n",
      "\t/tmp/tmps18g4lc0/loglog5rdk8j8o/loglog-20241215040952_1-stdout.txt\n",
      "\t/tmp/tmps18g4lc0/loglog5rdk8j8o/loglog-20241215040952_2-stdout.txt\n",
      "\t/tmp/tmps18g4lc0/loglog5rdk8j8o/loglog-20241215040952_3-stdout.txt\n"
     ]
    }
   ],
   "source": [
    "print(fit)"
   ]
  },
  {
   "cell_type": "code",
   "execution_count": 43,
   "metadata": {},
   "outputs": [
    {
     "name": "stdout",
     "output_type": "stream",
     "text": [
      "Processing csv files: /tmp/tmps18g4lc0/loglog5rdk8j8o/loglog-20241215040952_1.csv, /tmp/tmps18g4lc0/loglog5rdk8j8o/loglog-20241215040952_2.csv, /tmp/tmps18g4lc0/loglog5rdk8j8o/loglog-20241215040952_3.csv, /tmp/tmps18g4lc0/loglog5rdk8j8o/loglog-20241215040952_4.csv\n",
      "\n",
      "Checking sampler transitions treedepth.\n",
      "Treedepth satisfactory for all transitions.\n",
      "\n",
      "Checking sampler transitions for divergences.\n",
      "No divergent transitions found.\n",
      "\n",
      "Checking E-BFMI - sampler transitions HMC potential energy.\n",
      "E-BFMI satisfactory.\n",
      "\n",
      "Effective sample size satisfactory.\n",
      "\n",
      "Split R-hat values satisfactory all parameters.\n",
      "\n",
      "Processing complete, no problems detected.\n",
      "\n"
     ]
    }
   ],
   "source": [
    "print(fit.diagnose())"
   ]
  },
  {
   "cell_type": "code",
   "execution_count": 44,
   "metadata": {},
   "outputs": [],
   "source": [
    "params = fit.stan_variables()\n"
   ]
  },
  {
   "cell_type": "code",
   "execution_count": 50,
   "metadata": {},
   "outputs": [],
   "source": [
    "id = arviz.from_cmdstanpy(fit)"
   ]
  },
  {
   "cell_type": "code",
   "execution_count": 51,
   "metadata": {},
   "outputs": [
    {
     "data": {
      "text/plain": [
       "array([<Axes: title={'center': '94.0% HDI'}>], dtype=object)"
      ]
     },
     "execution_count": 51,
     "metadata": {},
     "output_type": "execute_result"
    },
    {
     "data": {
      "image/png": "[encoded data removed]",
      "text/plain": [
       "<Figure size 600x720 with 1 Axes>"
      ]
     },
     "metadata": {},
     "output_type": "display_data"
    }
   ],
   "source": [
    "arviz.plot_forest(id)"
   ]
  },
  {
   "cell_type": "code",
   "execution_count": 53,
   "metadata": {},
   "outputs": [
    {
     "data": {
      "text/plain": [
       "(array([   6.,   65.,  423., 1503., 3115., 3037., 1456.,  343.,   48.,\n",
       "           4.]),\n",
       " array([1.63003 , 1.745664, 1.861298, 1.976932, 2.092566, 2.2082  ,\n",
       "        2.323834, 2.439468, 2.555102, 2.670736, 2.78637 ]),\n",
       " <BarContainer object of 10 artists>)"
      ]
     },
     "execution_count": 53,
     "metadata": {},
     "output_type": "execute_result"
    },
    {
     "data": {
      "image/png": "[encoded data removed]",
      "text/plain": [
       "<Figure size 640x480 with 1 Axes>"
      ]
     },
     "metadata": {},
     "output_type": "display_data"
    }
   ],
   "source": [
    "plt.hist(params['b1'])"
   ]
  },
  {
   "cell_type": "code",
   "execution_count": 56,
   "metadata": {},
   "outputs": [
    {
     "data": {
      "text/plain": [
       "(array([5.000e+00, 6.800e+01, 4.190e+02, 1.670e+03, 3.163e+03, 2.956e+03,\n",
       "        1.319e+03, 3.380e+02, 5.900e+01, 3.000e+00]),\n",
       " array([-7.79939 , -7.386663, -6.973936, -6.561209, -6.148482, -5.735755,\n",
       "        -5.323028, -4.910301, -4.497574, -4.084847, -3.67212 ]),\n",
       " <BarContainer object of 10 artists>)"
      ]
     },
     "execution_count": 56,
     "metadata": {},
     "output_type": "execute_result"
    },
    {
     "data": {
      "image/png": "[encoded data removed]",
      "text/plain": [
       "<Figure size 640x480 with 1 Axes>"
      ]
     },
     "metadata": {},
     "output_type": "display_data"
    }
   ],
   "source": [
    "plt.hist(params['b0'])"
   ]
  },
  {
   "cell_type": "code",
   "execution_count": null,
   "metadata": {},
   "outputs": [],
   "source": []
  }
 ],
 "metadata": {
  "kernelspec": {
   "display_name": "env",
   "language": "python",
   "name": "python3"
  },
  "language_info": {
   "codemirror_mode": {
    "name": "ipython",
    "version": 3
   },
   "file_extension": ".py",
   "mimetype": "text/x-python",
   "name": "python",
   "nbconvert_exporter": "python",
   "pygments_lexer": "ipython3",
   "version": "3.10.12"
  }
 },
 "nbformat": 4,
 "nbformat_minor": 2
}
