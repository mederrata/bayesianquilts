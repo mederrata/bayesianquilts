{
 "cells": [
  {
   "cell_type": "code",
   "execution_count": 1,
   "metadata": {},
   "outputs": [],
   "source": [
    "%matplotlib inline\n",
    "from collections import defaultdict\n",
    "\n",
    "import matplotlib.pylab as plt\n",
    "from skimpy import skim\n",
    "import numpy as np\n",
    "import pandas as pd\n",
    "from IPython.display import display, HTML\n",
    "import seaborn as sns\n"
   ]
  },
  {
   "cell_type": "code",
   "execution_count": null,
   "metadata": {},
   "outputs": [],
   "source": []
  },
  {
   "cell_type": "code",
   "execution_count": 2,
   "metadata": {},
   "outputs": [
    {
     "name": "stderr",
     "output_type": "stream",
     "text": [
      "2024-01-04 06:15:02.570824: I external/local_tsl/tsl/cuda/cudart_stub.cc:31] Could not find cuda drivers on your machine, GPU will not be used.\n",
      "2024-01-04 06:15:02.596344: E external/local_xla/xla/stream_executor/cuda/cuda_dnn.cc:9261] Unable to register cuDNN factory: Attempting to register factory for plugin cuDNN when one has already been registered\n",
      "2024-01-04 06:15:02.596369: E external/local_xla/xla/stream_executor/cuda/cuda_fft.cc:607] Unable to register cuFFT factory: Attempting to register factory for plugin cuFFT when one has already been registered\n",
      "2024-01-04 06:15:02.597588: E external/local_xla/xla/stream_executor/cuda/cuda_blas.cc:1515] Unable to register cuBLAS factory: Attempting to register factory for plugin cuBLAS when one has already been registered\n",
      "2024-01-04 06:15:02.602668: I external/local_tsl/tsl/cuda/cudart_stub.cc:31] Could not find cuda drivers on your machine, GPU will not be used.\n",
      "2024-01-04 06:15:02.603124: I tensorflow/core/platform/cpu_feature_guard.cc:182] This TensorFlow binary is optimized to use available CPU instructions in performance-critical operations.\n",
      "To enable the following instructions: AVX2 FMA, in other operations, rebuild TensorFlow with the appropriate compiler flags.\n",
      "2024-01-04 06:15:03.163417: W tensorflow/compiler/tf2tensorrt/utils/py_utils.cc:38] TF-TRT Warning: Could not find TensorRT\n"
     ]
    }
   ],
   "source": [
    "\n",
    "import tensorflow as tf\n",
    "import tensorflow_probability as tfp\n",
    "\n",
    "from bayesianquilts.models import LogisticRelunet\n",
    "from bayesianquilts.metrics.classification import classification_metrics"
   ]
  },
  {
   "cell_type": "code",
   "execution_count": 3,
   "metadata": {},
   "outputs": [
    {
     "name": "stdout",
     "output_type": "stream",
     "text": [
      "2.15.0 0.23.0\n"
     ]
    }
   ],
   "source": [
    "print(tf.__version__, tfp.__version__)"
   ]
  },
  {
   "cell_type": "markdown",
   "metadata": {},
   "source": [
    "# Load the dataset\n",
    "\n",
    "Using the example from here: https://www.tensorflow.org/guide/core/logistic_regression_core"
   ]
  },
  {
   "cell_type": "code",
   "execution_count": 4,
   "metadata": {},
   "outputs": [],
   "source": [
    "from ucimlrepo import fetch_ucirepo \n"
   ]
  },
  {
   "cell_type": "code",
   "execution_count": 5,
   "metadata": {},
   "outputs": [],
   "source": [
    "# fetch dataset \n",
    "cdc_diabetes_health_indicators = fetch_ucirepo(id=891) \n",
    "  \n",
    "# data (as pandas dataframes) \n",
    "X = cdc_diabetes_health_indicators.data.features \n",
    "y = cdc_diabetes_health_indicators.data.targets "
   ]
  },
  {
   "cell_type": "code",
   "execution_count": 6,
   "metadata": {},
   "outputs": [],
   "source": [
    "X_scaled = (X - X.min())/X.max()\n",
    "n = X_scaled.shape[0]\n",
    "p = X_scaled.shape[1]"
   ]
  },
  {
   "cell_type": "code",
   "execution_count": 7,
   "metadata": {},
   "outputs": [],
   "source": [
    "model = LogisticRelunet(dim_regressors=p, layer_sizes=[50])"
   ]
  },
  {
   "cell_type": "code",
   "execution_count": 8,
   "metadata": {},
   "outputs": [],
   "source": [
    "batch_size = 1057\n"
   ]
  },
  {
   "cell_type": "code",
   "execution_count": 9,
   "metadata": {},
   "outputs": [],
   "source": [
    "tfdata = tf.data.Dataset.from_tensor_slices({'X': X_scaled, 'y':y})\n",
    "\n",
    "def data_factory():\n",
    "    out = tfdata.shuffle(batch_size*10).batch(batch_size)\n",
    "    return out"
   ]
  },
  {
   "cell_type": "code",
   "execution_count": 10,
   "metadata": {},
   "outputs": [
    {
     "name": "stdout",
     "output_type": "stream",
     "text": [
      "Running optimization for 4000 steps of 1 accumulated batches, checking every 240 steps\n",
      "Saved a checkpoint: /tmp/tfcheckpoints/ff3c8cdf-e321-4415-ad05-6568b7a40049/ff3c8cdf-e321-4415-ad05-6568b7a40049-1\n"
     ]
    },
    {
     "name": "stderr",
     "output_type": "stream",
     "text": [
      "  6%|▌         | 235/4000 [00:06<01:23, 45.28it/s]"
     ]
    },
    {
     "name": "stdout",
     "output_type": "stream",
     "text": [
      "Step 240: average-batch loss:386.4664091085089 rel loss: 2.58754700649605e+305\n",
      "Saved a checkpoint: /tmp/tfcheckpoints/ff3c8cdf-e321-4415-ad05-6568b7a40049/ff3c8cdf-e321-4415-ad05-6568b7a40049-2\n"
     ]
    },
    {
     "name": "stderr",
     "output_type": "stream",
     "text": [
      " 12%|█▏        | 475/4000 [00:11<01:19, 44.52it/s]"
     ]
    },
    {
     "name": "stdout",
     "output_type": "stream",
     "text": [
      "Step 480: average-batch loss:403.44464455890613 rel loss: 0.04208318459391091\n",
      "New learning rate: <tf.Variable 'learning_rate:0' shape=() dtype=float32, numpy=0.001>\n"
     ]
    },
    {
     "name": "stderr",
     "output_type": "stream",
     "text": [
      " 18%|█▊        | 715/4000 [00:16<01:13, 44.68it/s]"
     ]
    },
    {
     "name": "stdout",
     "output_type": "stream",
     "text": [
      "Step 720: average-batch loss:369.66873911121684 rel loss: 0.04543979033141454\n",
      "Saved a checkpoint: /tmp/tfcheckpoints/ff3c8cdf-e321-4415-ad05-6568b7a40049/ff3c8cdf-e321-4415-ad05-6568b7a40049-3\n"
     ]
    },
    {
     "name": "stderr",
     "output_type": "stream",
     "text": [
      " 24%|██▍       | 955/4000 [00:22<01:10, 42.90it/s]"
     ]
    },
    {
     "name": "stdout",
     "output_type": "stream",
     "text": [
      "Step 960: average-batch loss:326.7931601984927 rel loss: 0.1312009678742409\n",
      "Saved a checkpoint: /tmp/tfcheckpoints/ff3c8cdf-e321-4415-ad05-6568b7a40049/ff3c8cdf-e321-4415-ad05-6568b7a40049-4\n"
     ]
    },
    {
     "name": "stderr",
     "output_type": "stream",
     "text": [
      " 30%|██▉       | 1195/4000 [00:27<01:02, 44.61it/s]"
     ]
    },
    {
     "name": "stdout",
     "output_type": "stream",
     "text": [
      "Step 1200: average-batch loss:383.70187506932916 rel loss: 0.14831492512397518\n",
      "New learning rate: <tf.Variable 'learning_rate:0' shape=() dtype=float32, numpy=0.001>\n"
     ]
    },
    {
     "name": "stderr",
     "output_type": "stream",
     "text": [
      " 36%|███▌      | 1435/4000 [00:33<00:59, 43.41it/s]"
     ]
    },
    {
     "name": "stdout",
     "output_type": "stream",
     "text": [
      "Step 1440: average-batch loss:370.92380427626654 rel loss: 0.11897495811540046\n",
      "New learning rate: <tf.Variable 'learning_rate:0' shape=() dtype=float32, numpy=0.001>\n"
     ]
    },
    {
     "name": "stderr",
     "output_type": "stream",
     "text": [
      " 42%|████▏     | 1675/4000 [00:38<00:53, 43.69it/s]"
     ]
    },
    {
     "name": "stdout",
     "output_type": "stream",
     "text": [
      "Step 1680: average-batch loss:382.6549193166028 rel loss: 0.14598468828749303\n",
      "New learning rate: <tf.Variable 'learning_rate:0' shape=() dtype=float32, numpy=0.001>\n"
     ]
    },
    {
     "name": "stderr",
     "output_type": "stream",
     "text": [
      " 48%|████▊     | 1915/4000 [00:44<00:47, 43.98it/s]"
     ]
    },
    {
     "name": "stdout",
     "output_type": "stream",
     "text": [
      "Step 1920: average-batch loss:352.04651321301674 rel loss: 0.07173300136974707\n",
      "New learning rate: <tf.Variable 'learning_rate:0' shape=() dtype=float32, numpy=0.001>\n"
     ]
    },
    {
     "name": "stderr",
     "output_type": "stream",
     "text": [
      " 54%|█████▍    | 2155/4000 [00:49<00:42, 43.82it/s]"
     ]
    },
    {
     "name": "stdout",
     "output_type": "stream",
     "text": [
      "Step 2160: average-batch loss:362.5675908217413 rel loss: 0.09866968678079477\n",
      "New learning rate: <tf.Variable 'learning_rate:0' shape=() dtype=float32, numpy=0.001>\n",
      "We are in a loss plateau\n",
      "Restoring from a checkpoint\n"
     ]
    },
    {
     "name": "stderr",
     "output_type": "stream",
     "text": [
      " 60%|█████▉    | 2395/4000 [00:55<00:36, 43.72it/s]"
     ]
    },
    {
     "name": "stdout",
     "output_type": "stream",
     "text": [
      "Step 2400: average-batch loss:369.6509107727002 rel loss: 0.1159411469719355\n",
      "New learning rate: <tf.Variable 'learning_rate:0' shape=() dtype=float32, numpy=0.001>\n",
      "We are in a loss plateau\n",
      "Restoring from a checkpoint\n"
     ]
    },
    {
     "name": "stderr",
     "output_type": "stream",
     "text": [
      " 66%|██████▌   | 2635/4000 [01:00<00:30, 44.57it/s]"
     ]
    },
    {
     "name": "stdout",
     "output_type": "stream",
     "text": [
      "Step 2640: average-batch loss:375.76539774328444 rel loss: 0.1303266288990467\n",
      "New learning rate: <tf.Variable 'learning_rate:0' shape=() dtype=float32, numpy=0.001>\n",
      "We are in a loss plateau\n",
      "Restoring from a checkpoint\n"
     ]
    },
    {
     "name": "stderr",
     "output_type": "stream",
     "text": [
      " 72%|███████▏  | 2875/4000 [01:06<00:25, 44.11it/s]"
     ]
    },
    {
     "name": "stdout",
     "output_type": "stream",
     "text": [
      "Step 2880: average-batch loss:373.99358728725105 rel loss: 0.12620651447829603\n",
      "New learning rate: <tf.Variable 'learning_rate:0' shape=() dtype=float32, numpy=0.001>\n",
      "We are in a loss plateau\n",
      "Restoring from a checkpoint\n"
     ]
    },
    {
     "name": "stderr",
     "output_type": "stream",
     "text": [
      " 78%|███████▊  | 3115/4000 [01:11<00:20, 44.19it/s]"
     ]
    },
    {
     "name": "stdout",
     "output_type": "stream",
     "text": [
      "Step 3120: average-batch loss:342.0042648262223 rel loss: 0.04447635948475257\n",
      "New learning rate: <tf.Variable 'learning_rate:0' shape=() dtype=float32, numpy=0.001>\n",
      "We are in a loss plateau\n",
      "Restoring from a checkpoint\n"
     ]
    },
    {
     "name": "stderr",
     "output_type": "stream",
     "text": [
      " 84%|████████▍ | 3355/4000 [01:16<00:14, 43.99it/s]"
     ]
    },
    {
     "name": "stdout",
     "output_type": "stream",
     "text": [
      "Step 3360: average-batch loss:371.9065654338316 rel loss: 0.12130306218905751\n",
      "New learning rate: <tf.Variable 'learning_rate:0' shape=() dtype=float32, numpy=0.001>\n",
      "We are in a loss plateau\n",
      "Restoring from a checkpoint\n"
     ]
    },
    {
     "name": "stderr",
     "output_type": "stream",
     "text": [
      " 90%|████████▉ | 3595/4000 [01:22<00:09, 44.65it/s]"
     ]
    },
    {
     "name": "stdout",
     "output_type": "stream",
     "text": [
      "Step 3600: average-batch loss:386.6048567467332 rel loss: 0.15471015302692753\n",
      "New learning rate: <tf.Variable 'learning_rate:0' shape=() dtype=float32, numpy=0.001>\n",
      "We are in a loss plateau\n",
      "Restoring from a checkpoint\n"
     ]
    },
    {
     "name": "stderr",
     "output_type": "stream",
     "text": [
      " 96%|█████████▌| 3835/4000 [01:27<00:03, 44.19it/s]"
     ]
    },
    {
     "name": "stdout",
     "output_type": "stream",
     "text": [
      "Step 3840: average-batch loss:362.23427613492925 rel loss: 0.09784031570561533\n",
      "New learning rate: <tf.Variable 'learning_rate:0' shape=() dtype=float32, numpy=0.001>\n",
      "We are in a loss plateau\n",
      "Restoring from a checkpoint\n"
     ]
    },
    {
     "name": "stderr",
     "output_type": "stream",
     "text": [
      "100%|██████████| 4000/4000 [01:31<00:00, 44.27it/s]"
     ]
    },
    {
     "name": "stdout",
     "output_type": "stream",
     "text": [
      "Terminating because we are out of iterations\n"
     ]
    },
    {
     "name": "stderr",
     "output_type": "stream",
     "text": [
      "100%|██████████| 4000/4000 [01:31<00:00, 43.73it/s]\n"
     ]
    }
   ],
   "source": [
    "losses = model.fit(\n",
    "    data_factory,\n",
    "    dataset_size=n,\n",
    "    batches_per_step=1,\n",
    "    check_every=int(n/batch_size),\n",
    "    batch_size=batch_size,\n",
    "    num_steps=4000,\n",
    "    max_decay_steps=100,\n",
    "    max_plateau_epochs=100,\n",
    "    sample_size=32,\n",
    "    learning_rate=0.001)"
   ]
  },
  {
   "cell_type": "code",
   "execution_count": null,
   "metadata": {},
   "outputs": [],
   "source": []
  },
  {
   "cell_type": "markdown",
   "metadata": {},
   "source": [
    "# Compute LOO AU ROC/PRC"
   ]
  },
  {
   "cell_type": "code",
   "execution_count": 11,
   "metadata": {},
   "outputs": [],
   "source": [
    "\n",
    "\n",
    "def prediction_fn(data):\n",
    "    params = model.sample(100)\n",
    "    mu = model.predictive_distribution(data, **params)['logits']\n",
    "    mu = mu[..., 1] - mu[..., 0]\n",
    "    sigma = tf.math.sigmoid(mu)\n",
    "    pred = tf.reduce_mean(sigma, axis=0)\n",
    "    return pred\n",
    "\n",
    "bench = classification_metrics(\n",
    "    data_factory=data_factory,\n",
    "    prediction_fn=prediction_fn,\n",
    "    outcome_label='y',\n",
    "    by_vars=[]\n",
    ")"
   ]
  },
  {
   "cell_type": "code",
   "execution_count": 12,
   "metadata": {},
   "outputs": [
    {
     "data": {
      "text/plain": [
       "(0.0, 1.0)"
      ]
     },
     "execution_count": 12,
     "metadata": {},
     "output_type": "execute_result"
    },
    {
     "data": {
      "image/png": "[encoded data removed]",
      "text/plain": [
       "<Figure size 900x200 with 2 Axes>"
      ]
     },
     "metadata": {},
     "output_type": "display_data"
    }
   ],
   "source": [
    "fig, ax = plt.subplots(1, 2, figsize=(9, 2))\n",
    "ax[0].plot(bench['auroc']['fpr'], bench['auroc']['tpr'])\n",
    "ax[0].text(0.5, 0.1, f\"AUROC: {round(bench['auroc']['auroc'], 2)}\")\n",
    "ax[0].set_xlim((0, 1))\n",
    "ax[0].set_ylim((0, 1))\n",
    "ax[0].set_title(\"ROC\")\n",
    "\n",
    "ax[1].plot(bench['auprc']['recall'], bench['auprc']['precision'])\n",
    "ax[1].text(0.5, 0.8, f\"AUPRC: {round(bench['auprc']['auprc'], 2)}\")\n",
    "ax[1].set_title(\"Precision-Recall\")\n",
    "ax[1].set_xlim((0, 1))\n",
    "ax[1].set_ylim((0, 1))"
   ]
  },
  {
   "cell_type": "code",
   "execution_count": 13,
   "metadata": {},
   "outputs": [
    {
     "data": {
      "text/plain": [
       "0.8288385773806547"
      ]
     },
     "execution_count": 13,
     "metadata": {},
     "output_type": "execute_result"
    }
   ],
   "source": [
    "bench['auroc']['auroc']"
   ]
  },
  {
   "cell_type": "code",
   "execution_count": 22,
   "metadata": {},
   "outputs": [
    {
     "data": {
      "text/plain": [
       "dict_keys(['w_1', 'w_0', 'b_1', 'b_0'])"
      ]
     },
     "execution_count": 22,
     "metadata": {},
     "output_type": "execute_result"
    }
   ],
   "source": [
    "params = model.sample(10)\n",
    "params.keys()"
   ]
  },
  {
   "cell_type": "code",
   "execution_count": 63,
   "metadata": {},
   "outputs": [],
   "source": [
    "step_size = 1e-4\n",
    "\n",
    "data = next(iter(data_factory()))\n",
    "y = tf.cast(tf.squeeze(data['y']), tf.float64)\n",
    "X = tf.cast(data['X'], tf.float64)\n",
    "mu = model.eval(X, params)[..., 0]\n",
    "sigma = tf.math.sigmoid(mu)\n",
    "nu = (y*(sigma)+(1-y)*(1-sigma))**-1\n",
    "nu_weights = nu/tf.reduce_sum(nu, axis=0, keepdims=True)\n",
    "p_loo = tf.reduce_sum(sigma*nu_weights, axis=0)\n",
    "\n",
    "ll_loo = tf.reduce_sum(nu_weights/nu, axis=0)\n",
    "\n",
    "z1 = params['w_0'][..., tf.newaxis, :, :]*X[..., tf.newaxis]\n",
    "z1 = tf.reduce_sum(z1, axis=-2)\n",
    "az1 = tf.nn.relu(z1)\n",
    "\n",
    "grad_pre = tf.cast(y, tf.float64)*tf.cast(1-sigma, tf.float64)-tf.cast(1-y, tf.float64)*tf.cast(sigma, tf.float64)\n",
    "grad_w0 = grad_pre\n",
    "grad_b0 = grad_pre\n",
    "grad_w1 = grad_pre[..., tf.newaxis]*tf.nn.relu(z1)\n",
    "grad_b1 = grad_pre\n",
    "# compute transformation\n",
    "w_0 = params['w_0'] - step_size*(1)\n",
    "b_0 = params['b_0'] - step_size*(1)\n",
    "w_1 = params['w_1'][..., tf.newaxis, :, :] - step_size*grad_w1[..., tf.newaxis]\n",
    "b_1 = params['b_1'] - step_size*grad_b1\n",
    "\n",
    "unorm = tf.cast(az1>0, tf.float64)*tf.math.sqrt(tf.reduce_sum(1 + X*X, axis=-1, keepdims=True))"
   ]
  },
  {
   "cell_type": "code",
   "execution_count": 64,
   "metadata": {},
   "outputs": [
    {
     "data": {
      "text/plain": [
       "(TensorShape([10, 21, 50]), TensorShape([10, 21, 50]))"
      ]
     },
     "execution_count": 64,
     "metadata": {},
     "output_type": "execute_result"
    }
   ],
   "source": [
    "params['w_0'].shape, w_0.shape"
   ]
  },
  {
   "cell_type": "code",
   "execution_count": 65,
   "metadata": {},
   "outputs": [
    {
     "data": {
      "text/plain": [
       "(TensorShape([10, 50, 1]), TensorShape([10, 1057, 50, 1]))"
      ]
     },
     "execution_count": 65,
     "metadata": {},
     "output_type": "execute_result"
    }
   ],
   "source": [
    "params['w_1'].shape, w_1.shape"
   ]
  },
  {
   "cell_type": "code",
   "execution_count": 71,
   "metadata": {},
   "outputs": [
    {
     "data": {
      "text/plain": [
       "<tf.Tensor: shape=(10, 1057, 50), dtype=float64, numpy=\n",
       "array([[[0.        , 0.        , 0.        , ..., 0.        ,\n",
       "         0.        , 5.20694367],\n",
       "        [0.        , 0.        , 0.        , ..., 0.        ,\n",
       "         0.        , 5.23251658],\n",
       "        [0.        , 0.        , 0.        , ..., 0.        ,\n",
       "         0.        , 0.        ],\n",
       "        ...,\n",
       "        [0.        , 0.        , 0.        , ..., 0.        ,\n",
       "         0.        , 5.27431456],\n",
       "        [0.        , 0.        , 0.        , ..., 0.        ,\n",
       "         0.        , 0.        ],\n",
       "        [0.        , 5.1518997 , 0.        , ..., 0.        ,\n",
       "         0.        , 0.        ]],\n",
       "\n",
       "       [[0.        , 0.        , 0.        , ..., 0.        ,\n",
       "         0.        , 5.20694367],\n",
       "        [0.        , 5.23251658, 0.        , ..., 0.        ,\n",
       "         0.        , 5.23251658],\n",
       "        [0.        , 5.43173702, 0.        , ..., 0.        ,\n",
       "         0.        , 0.        ],\n",
       "        ...,\n",
       "        [0.        , 5.27431456, 0.        , ..., 0.        ,\n",
       "         0.        , 5.27431456],\n",
       "        [0.        , 5.40984183, 0.        , ..., 0.        ,\n",
       "         0.        , 0.        ],\n",
       "        [0.        , 0.        , 0.        , ..., 0.        ,\n",
       "         0.        , 0.        ]],\n",
       "\n",
       "       [[0.        , 5.20694367, 0.        , ..., 0.        ,\n",
       "         0.        , 5.20694367],\n",
       "        [0.        , 5.23251658, 0.        , ..., 0.        ,\n",
       "         0.        , 5.23251658],\n",
       "        [0.        , 5.43173702, 0.        , ..., 0.        ,\n",
       "         0.        , 0.        ],\n",
       "        ...,\n",
       "        [0.        , 5.27431456, 0.        , ..., 0.        ,\n",
       "         0.        , 5.27431456],\n",
       "        [0.        , 0.        , 0.        , ..., 0.        ,\n",
       "         0.        , 0.        ],\n",
       "        [0.        , 0.        , 0.        , ..., 0.        ,\n",
       "         0.        , 0.        ]],\n",
       "\n",
       "       ...,\n",
       "\n",
       "       [[0.        , 5.20694367, 0.        , ..., 0.        ,\n",
       "         0.        , 5.20694367],\n",
       "        [0.        , 5.23251658, 0.        , ..., 0.        ,\n",
       "         0.        , 5.23251658],\n",
       "        [0.        , 5.43173702, 0.        , ..., 0.        ,\n",
       "         0.        , 0.        ],\n",
       "        ...,\n",
       "        [0.        , 5.27431456, 0.        , ..., 0.        ,\n",
       "         0.        , 5.27431456],\n",
       "        [0.        , 5.40984183, 0.        , ..., 0.        ,\n",
       "         0.        , 0.        ],\n",
       "        [0.        , 5.1518997 , 0.        , ..., 0.        ,\n",
       "         0.        , 0.        ]],\n",
       "\n",
       "       [[0.        , 0.        , 0.        , ..., 0.        ,\n",
       "         0.        , 5.20694367],\n",
       "        [0.        , 0.        , 0.        , ..., 0.        ,\n",
       "         0.        , 5.23251658],\n",
       "        [0.        , 5.43173702, 0.        , ..., 0.        ,\n",
       "         0.        , 0.        ],\n",
       "        ...,\n",
       "        [0.        , 0.        , 0.        , ..., 0.        ,\n",
       "         0.        , 5.27431456],\n",
       "        [0.        , 0.        , 0.        , ..., 0.        ,\n",
       "         0.        , 0.        ],\n",
       "        [0.        , 0.        , 0.        , ..., 0.        ,\n",
       "         0.        , 0.        ]],\n",
       "\n",
       "       [[0.        , 5.20694367, 0.        , ..., 0.        ,\n",
       "         0.        , 5.20694367],\n",
       "        [0.        , 5.23251658, 0.        , ..., 0.        ,\n",
       "         0.        , 5.23251658],\n",
       "        [0.        , 0.        , 0.        , ..., 0.        ,\n",
       "         0.        , 0.        ],\n",
       "        ...,\n",
       "        [0.        , 5.27431456, 0.        , ..., 0.        ,\n",
       "         0.        , 5.27431456],\n",
       "        [0.        , 0.        , 0.        , ..., 0.        ,\n",
       "         0.        , 0.        ],\n",
       "        [0.        , 0.        , 0.        , ..., 0.        ,\n",
       "         0.        , 0.        ]]])>"
      ]
     },
     "execution_count": 71,
     "metadata": {},
     "output_type": "execute_result"
    }
   ],
   "source": [
    "unorm = tf.cast(az1>0, tf.float64)*tf.math.sqrt(tf.reduce_sum(1 + X*X, axis=-1, keepdims=True))"
   ]
  },
  {
   "cell_type": "code",
   "execution_count": 58,
   "metadata": {},
   "outputs": [
    {
     "data": {
      "text/plain": [
       "TensorShape([10, 1057, 50])"
      ]
     },
     "execution_count": 58,
     "metadata": {},
     "output_type": "execute_result"
    }
   ],
   "source": [
    "w_1.shape"
   ]
  },
  {
   "cell_type": "code",
   "execution_count": 56,
   "metadata": {},
   "outputs": [
    {
     "data": {
      "text/plain": [
       "(TensorShape([10, 1057, 50]), TensorShape([10, 50, 1]))"
      ]
     },
     "execution_count": 56,
     "metadata": {},
     "output_type": "execute_result"
    }
   ],
   "source": [
    "grad_w1.shape, w_1.shape"
   ]
  }
 ],
 "metadata": {
  "kernelspec": {
   "display_name": "env",
   "language": "python",
   "name": "python3"
  },
  "language_info": {
   "codemirror_mode": {
    "name": "ipython",
    "version": 3
   },
   "file_extension": ".py",
   "mimetype": "text/x-python",
   "name": "python",
   "nbconvert_exporter": "python",
   "pygments_lexer": "ipython3",
   "version": "3.10.12"
  }
 },
 "nbformat": 4,
 "nbformat_minor": 2
}
