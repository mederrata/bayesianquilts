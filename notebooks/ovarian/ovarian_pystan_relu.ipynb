{
 "cells": [
  {
   "cell_type": "code",
   "execution_count": 1,
   "metadata": {},
   "outputs": [
    {
     "name": "stderr",
     "output_type": "stream",
     "text": [
      "/home/josh/workspace/bayesianquilts/env-3.12/lib/python3.12/site-packages/tqdm/auto.py:21: TqdmWarning: IProgress not found. Please update jupyter and ipywidgets. See https://ipywidgets.readthedocs.io/en/stable/user_install.html\n",
      "  from .autonotebook import tqdm as notebook_tqdm\n"
     ]
    }
   ],
   "source": [
    "\n",
    "%matplotlib inline\n",
    "from itertools import chain, combinations\n",
    "import matplotlib\n",
    "from matplotlib import pyplot as plt\n",
    "matplotlib.rcParams['pdf.fonttype'] = 42\n",
    "matplotlib.rcParams['ps.fonttype'] = 42\n",
    "matplotlib.rcParams['text.usetex'] = True\n",
    "from abc import ABC\n",
    "from cmdstanpy import CmdStanModel\n",
    "import numpy as np\n",
    "import pandas as pd\n",
    "from pathlib import Path\n",
    "from tqdm import tqdm\n",
    "import nest_asyncio\n",
    "nest_asyncio.apply()\n",
    "from collections import defaultdict\n",
    "from typing import Any\n",
    "import os\n",
    "\n",
    "from sklearn import metrics\n",
    "from matplotlib import pyplot as plt\n",
    "import importlib"
   ]
  },
  {
   "cell_type": "code",
   "execution_count": 2,
   "metadata": {},
   "outputs": [
    {
     "name": "stderr",
     "output_type": "stream",
     "text": [
      "2025-05-26 21:33:04.663828: I external/local_xla/xla/tsl/cuda/cudart_stub.cc:32] Could not find cuda drivers on your machine, GPU will not be used.\n",
      "2025-05-26 21:33:04.667623: I external/local_xla/xla/tsl/cuda/cudart_stub.cc:32] Could not find cuda drivers on your machine, GPU will not be used.\n",
      "2025-05-26 21:33:04.677544: E external/local_xla/xla/stream_executor/cuda/cuda_fft.cc:477] Unable to register cuFFT factory: Attempting to register factory for plugin cuFFT when one has already been registered\n",
      "WARNING: All log messages before absl::InitializeLog() is called are written to STDERR\n",
      "E0000 00:00:1748295184.693613 3064220 cuda_dnn.cc:8310] Unable to register cuDNN factory: Attempting to register factory for plugin cuDNN when one has already been registered\n",
      "E0000 00:00:1748295184.698414 3064220 cuda_blas.cc:1418] Unable to register cuBLAS factory: Attempting to register factory for plugin cuBLAS when one has already been registered\n",
      "2025-05-26 21:33:04.716724: I tensorflow/core/platform/cpu_feature_guard.cc:210] This TensorFlow binary is optimized to use available CPU instructions in performance-critical operations.\n",
      "To enable the following instructions: AVX2 FMA, in other operations, rebuild TensorFlow with the appropriate compiler flags.\n",
      "/home/josh/workspace/bayesianquilts/bayesianquilts/distributions/generalized_gamma.py:50: SyntaxWarning: invalid escape sequence '\\G'\n",
      "  \"\"\"Generalized Gamma distribution\n",
      "/home/josh/workspace/bayesianquilts/bayesianquilts/distributions/generalized_gamma.py:269: SyntaxWarning: invalid escape sequence '\\p'\n",
      "  \"\"\"Calculate the batched KL divergence KL(a || b) with a and b GeneralizedGamma.\n",
      "2025-05-26 21:33:06.403964: E external/local_xla/xla/stream_executor/cuda/cuda_driver.cc:152] failed call to cuInit: INTERNAL: CUDA error: Failed call to cuInit: UNKNOWN ERROR (303)\n",
      "/home/josh/workspace/bayesianquilts/bayesianquilts/models/logistic_regression.py:339: SyntaxWarning: invalid escape sequence '\\l'\n",
      "  \"\"\"\n",
      "/home/josh/workspace/bayesianquilts/bayesianquilts/models/logistic_regression_reparam.py:249: SyntaxWarning: invalid escape sequence '\\l'\n",
      "  \"\"\"\n"
     ]
    }
   ],
   "source": [
    "\n",
    "from tensorflow_probability.substrates.jax import tf2jax as tf\n",
    "import tensorflow_probability as tfp\n",
    "import tensorflow_probability.python.bijectors as tfb\n",
    "\n",
    "# pip install github:https://github.com/mederrata/bayesianquilts\n",
    "from bayesianquilts.models.logistic_regression_reparam import LogisticRegression2\n",
    "from bayesianquilts.models.logistic_relunet import ShallowGaussianRelunet\n",
    "from bayesianquilts.metrics.classification import classification_metrics, auroc, auprc\n",
    "from bayesianquilts.sampler import psis, nppsis\n"
   ]
  },
  {
   "cell_type": "code",
   "execution_count": 3,
   "metadata": {},
   "outputs": [
    {
     "name": "stdout",
     "output_type": "stream",
     "text": [
      "(54, 1536)\n"
     ]
    }
   ],
   "source": [
    "\n",
    "\n",
    "\n",
    "file_traversable = importlib.resources.files('bayesianquilts').joinpath('data').joinpath('overianx.csv')\n",
    "\n",
    "# To get an actual file system path (e.g., for libraries that need a string path):\n",
    "with importlib.resources.as_file(file_traversable) as csv_file_path:\n",
    "    # Now you can use csv_file_path, for example:\n",
    "    # print(f\"Path to CSV: {csv_file_path}\")\n",
    "    # with open(csv_file_path, 'r') as f:\n",
    "    #     content = f.read()\n",
    "    X_ = pd.read_csv(csv_file_path, header=None)\n",
    "    \n",
    "file_traversable = importlib.resources.files('bayesianquilts').joinpath('data').joinpath('overiany.csv')\n",
    "\n",
    "# To get an actual file system path (e.g., for libraries that need a string path):\n",
    "with importlib.resources.as_file(file_traversable) as csv_file_path:\n",
    "    # Now you can use csv_file_path, for example:\n",
    "    # print(f\"Path to CSV: {csv_file_path}\")\n",
    "    # with open(csv_file_path, 'r') as f:\n",
    "    #     content = f.read()\n",
    "    y_ = pd.read_table(csv_file_path, header=None)\n",
    "\n",
    "\n",
    "X_scaled = (X_ - X_.mean())/X_.std()\n",
    "X_scaled = X_scaled.fillna(0).to_numpy()\n",
    "y_ = y_.to_numpy()\n",
    "N = X_scaled.shape[0]\n",
    "d = X_scaled.shape[1]\n",
    "\n",
    "print((N, d))"
   ]
  },
  {
   "cell_type": "code",
   "execution_count": 4,
   "metadata": {},
   "outputs": [],
   "source": [
    "logistic_relu_horseshoe_code = \"\"\"\n",
    "data {\n",
    "  int<lower=0> N;               // number of observations\n",
    "  int<lower=0> D_in;            // number of input features\n",
    "  int<lower=0> D_hidden;        // number of hidden units\n",
    "  matrix[N, D_in] X;            // input data (N x D_in matrix)\n",
    "  array[N] int<lower=0, upper=1> y;   // binary target labels (0 or 1)\n",
    "}\n",
    "\n",
    "parameters {\n",
    "  matrix[D_in, D_hidden] w_0;    // weights for the first layer\n",
    "  vector[D_hidden] b_0;          // biases for the first layer\n",
    "  \n",
    "  vector[D_hidden] w_1;          // weights for the output layer\n",
    "  real b_1;                      // bias for the output layer\n",
    "}\n",
    "\n",
    "transformed parameters {\n",
    "  vector[N] z_output;           // pre-activation output (logits)\n",
    "  vector[D_hidden] z_hidden;    // hidden layer (latent outputs)\n",
    "  for (n in 1:N) {\n",
    "    // Compute hidden layer activations with ReLU\n",
    "    for (j in 1:D_hidden) {\n",
    "      z_hidden[j] = X[n] * w_0[, j] + b_0[j];\n",
    "      z_hidden[j] = fmax(0, z_hidden[j]);  // ReLU activation\n",
    "    }\n",
    "    \n",
    "    // Compute the output logits (before applying sigmoid)\n",
    "    z_output[n] = dot_product(w_1, z_hidden) + b_1;\n",
    "  }\n",
    "}\n",
    "\n",
    "model {\n",
    "  // Priors on weights and biases (adjust based on your problem)\n",
    "  to_vector(w_0) ~ normal(0, 1);\n",
    "  b_0 ~ normal(0, 1);\n",
    "  w_1 ~ normal(0, 1);\n",
    "  b_1 ~ normal(0, 1);\n",
    "\n",
    "  // Likelihood (logistic sigmoid output)\n",
    "  y ~ bernoulli_logit(z_output);\n",
    "}\n",
    "\n",
    "\n",
    "\"\"\"\n",
    "\n",
    "with open(f\"ovarian_relu_model.stan\", 'w') as f:\n",
    "  f.writelines(logistic_relu_horseshoe_code)\n"
   ]
  },
  {
   "cell_type": "code",
   "execution_count": 5,
   "metadata": {},
   "outputs": [
    {
     "name": "stdout",
     "output_type": "stream",
     "text": [
      "CmdStan install directory: /home/josh/.cmdstan\n",
      "Installing CmdStan version: 2.36.0\n",
      "Downloading CmdStan version 2.36.0\n",
      "Download successful, file: /tmp/tmpjija9kov\n",
      "Extracting distribution\n",
      "Unpacked download as cmdstan-2.36.0\n",
      "Building version cmdstan-2.36.0, may take several minutes, depending on your system.\n",
      "Installed cmdstan-2.36.0\n",
      "Test model compilation\n"
     ]
    }
   ],
   "source": [
    "!install_cmdstan"
   ]
  },
  {
   "cell_type": "code",
   "execution_count": 6,
   "metadata": {},
   "outputs": [
    {
     "name": "stderr",
     "output_type": "stream",
     "text": [
      "21:36:03 - cmdstanpy - INFO - compiling stan file /home/josh/workspace/bayesianquilts/ovarian_relu_model.stan to exe file /home/josh/workspace/bayesianquilts/ovarian_relu_model\n",
      "21:36:12 - cmdstanpy - INFO - compiled model executable: /home/josh/workspace/bayesianquilts/ovarian_relu_model\n"
     ]
    }
   ],
   "source": [
    "sm = CmdStanModel(stan_file=\"ovarian_relu_model.stan\")"
   ]
  },
  {
   "cell_type": "code",
   "execution_count": 7,
   "metadata": {},
   "outputs": [],
   "source": [
    "d_hiden = 3\n",
    "\n",
    "# shuffle\n",
    "\n",
    "# shuffled_ndx = np.random.shuffle(np.arange(N))\n",
    "\n",
    "ovarian_data = {\n",
    "    \"N\": N,\n",
    "    \"D_in\": d,\n",
    "    \"D_hidden\": d_hiden,\n",
    "    \"y\": y_.astype(int)[:, 0].tolist(),\n",
    "    \"X\": X_scaled.tolist()\n",
    "}\n",
    "\n",
    "import json\n",
    "\n",
    "with open(\"ovarian_relu_data.json\", \"w\") as f:\n",
    "    json.dump(ovarian_data, f)"
   ]
  },
  {
   "cell_type": "code",
   "execution_count": 8,
   "metadata": {},
   "outputs": [
    {
     "name": "stdout",
     "output_type": "stream",
     "text": [
      "1536\n"
     ]
    }
   ],
   "source": [
    "print(d)"
   ]
  },
  {
   "cell_type": "code",
   "execution_count": null,
   "metadata": {},
   "outputs": [],
   "source": [
    "S = 2000\n",
    "if not os.path.isfile('ovarian_relunet_params.npy'):\n",
    "    fit = sm.sample(\n",
    "        data=\"ovarian_relu_data.json\",\n",
    "        iter_warmup=30000,\n",
    "        iter_sampling=S,\n",
    "        thin=2,\n",
    "        # **control\n",
    "    )\n",
    "    print(fit)\n",
    "    print(fit.diagnose())"
   ]
  },
  {
   "cell_type": "code",
   "execution_count": 10,
   "metadata": {},
   "outputs": [],
   "source": [
    "if not os.path.isfile('ovarian_relunet_params.npy'):\n",
    "    params = fit.stan_variables()\n",
    "    {k: p.shape for k, p in params.items()}\n",
    "    params['b_1'] = params['b_1'][..., tf.newaxis]\n",
    "    params['w_1'] = params['w_1'][..., tf.newaxis]\n",
    "    np.save('ovarian_relunet_params.npy', params)\n",
    "else:\n",
    "    params = np.load('ovarian_relunet_params.npy', allow_pickle=True).tolist()"
   ]
  },
  {
   "cell_type": "code",
   "execution_count": 11,
   "metadata": {},
   "outputs": [],
   "source": [
    "nn_model = ShallowGaussianRelunet(\n",
    "    dim_regressors=d,\n",
    "    hidden_size=d_hiden\n",
    ")"
   ]
  },
  {
   "cell_type": "code",
   "execution_count": 12,
   "metadata": {},
   "outputs": [],
   "source": [
    "params = {k: tf.cast(v, nn_model.dtype) for k, v in params.items()}"
   ]
  },
  {
   "cell_type": "code",
   "execution_count": 13,
   "metadata": {},
   "outputs": [],
   "source": [
    "tfdata = tf.data.Dataset.from_tensor_slices({'X': X_scaled, 'y':y_})\n",
    "batch_size = N\n",
    "def data_factory_factory(batch_size=batch_size, repeat=False, shuffle=False):\n",
    "    def data_factory(batch_size=batch_size):\n",
    "        if shuffle:\n",
    "            out = tfdata.shuffle(batch_size*10)\n",
    "        else:\n",
    "            out = tfdata\n",
    "        \n",
    "        if repeat:\n",
    "            out = out.repeat()\n",
    "        return out.batch(batch_size)\n",
    "    return data_factory\n",
    "\n",
    "batch = next(iter(data_factory_factory()()))"
   ]
  },
  {
   "cell_type": "code",
   "execution_count": 14,
   "metadata": {},
   "outputs": [
    {
     "name": "stderr",
     "output_type": "stream",
     "text": [
      "1it [00:00,  7.81it/s]2025-05-27 00:24:08.456897: I tensorflow/core/framework/local_rendezvous.cc:405] Local rendezvous is aborting with status: OUT_OF_RANGE: End of sequence\n",
      "\n"
     ]
    },
    {
     "data": {
      "text/plain": [
       "(0.0, 1.0)"
      ]
     },
     "execution_count": 14,
     "metadata": {},
     "output_type": "execute_result"
    },
    {
     "data": {
      "image/png": "[encoded data removed]",
      "text/plain": [
       "<Figure size 900x200 with 2 Axes>"
      ]
     },
     "metadata": {},
     "output_type": "display_data"
    }
   ],
   "source": [
    "def prediction_fn(data):\n",
    "    pred = nn_model.predictive_distribution(data, **params)[\"logits\"][..., 1]\n",
    "    return tf.reduce_mean(pred, axis=0)\n",
    "\n",
    "bench = classification_metrics(\n",
    "    data_factory=data_factory_factory(),\n",
    "    prediction_fn=prediction_fn,\n",
    "    outcome_label='y',\n",
    "    by_vars=[]\n",
    ")\n",
    "\n",
    "fig, ax = plt.subplots(1, 2, figsize=(9, 2))\n",
    "ax[0].plot(bench['auroc']['fpr'], bench['auroc']['tpr'])\n",
    "ax[0].text(0.5, 0.1, f\"AUROC: {round(bench['auroc']['auroc'], 2)}\")\n",
    "ax[0].set_xlim((0, 1))\n",
    "ax[0].set_ylim((0, 1))\n",
    "ax[0].set_title(\"ROC\")\n",
    "\n",
    "ax[1].plot(bench['auprc']['recall'], bench['auprc']['precision'])\n",
    "ax[1].text(0.5, 0.8, f\"AUPRC: {round(bench['auprc']['auprc'], 2)}\")\n",
    "ax[1].set_title(\"Precision-Recall\")\n",
    "ax[1].set_xlim((0, 1))\n",
    "ax[1].set_ylim((0, 1))"
   ]
  },
  {
   "cell_type": "code",
   "execution_count": null,
   "metadata": {},
   "outputs": [
    {
     "name": "stderr",
     "output_type": "stream",
     "text": [
      "<>:93: SyntaxWarning: invalid escape sequence '\\l'\n",
      "<>:93: SyntaxWarning: invalid escape sequence '\\l'\n",
      "/tmp/ipykernel_3064220/1189797852.py:93: SyntaxWarning: invalid escape sequence '\\l'\n",
      "  \"\"\"\n"
     ]
    },
    {
     "name": "stdout",
     "output_type": "stream",
     "text": [
      "I: 0.10860764218684049 entropy: 13.097467479694794 khat>0.7: 43\n",
      "KL: 0.10861895214924965 entropy: 13.097387559915758 khat>0.7: 43\n",
      "Var: 0.10866214884524025 entropy: 13.097184270074475 khat>0.7: 43\n",
      "MM1: 0.10750225281207487 entropy: 13.100700596219934 khat>0.7: 43\n",
      "MM2: 0.11755223608871755 entropy: 12.695592998824083 khat>0.7: 14\n"
     ]
    }
   ],
   "source": [
    "def entropy(probs):\n",
    "    return -tf.math.xlogy(probs, probs)\n",
    "\n",
    "\n",
    "def heaviside(x):\n",
    "    out = tf.where(x > 0, jnp.ones_like(x), jnp.zeros_like(x))\n",
    "    return out\n",
    "\n",
    "\n",
    "def adaptive_is_loo(\n",
    "    self: ShallowGaussianRelunet,\n",
    "    data: dict[str, tf.Tensor],\n",
    "    params,\n",
    "    hbar=1.0,\n",
    "    variational=True,\n",
    "    approx_jacobians=True,\n",
    ") -> dict[str, Any]:\n",
    "    \"\"\"_summary_\n",
    "\n",
    "    Args:\n",
    "        data (_type_): _description_\n",
    "        params (_type_): _description_\n",
    "        hbar (float, optional): _description_. Defaults to 1.0.\n",
    "        variational (bool, optional):\n",
    "            Should we trust the variational approximation?\n",
    "            If False, assumes that one is passing in all the data at once in a single batch.\n",
    "            Defaults to True.\n",
    "\n",
    "    Returns:\n",
    "        _type_: _description_\n",
    "    \"\"\"\n",
    "\n",
    "    # scaled (theta - bar(theta))/Sigma\n",
    "\n",
    "    _X = tf.cast(data[\"X\"], self.dtype)\n",
    "    _y = tf.cast(data[\"y\"], self.dtype)[:, 0]\n",
    "    mu = self.eval(_X, params)[..., 0]\n",
    "    sigma = tf.math.sigmoid(mu)\n",
    "    ell = _y * (sigma) + (1 - _y) * (1 - sigma)\n",
    "    log_ell = tf.math.xlogy(_y, sigma) + tf.math.xlogy(1 - _y, 1 - sigma)\n",
    "    log_ell_prime = _y * (1 - sigma) - (1 - _y) * sigma\n",
    "    log_ell_doubleprime = -sigma * (1 - sigma)\n",
    "    _, khat0 = nppsis.psislw(-log_ell)\n",
    "\n",
    "    \"\"\"\n",
    "    sigma.shape is samples x datapoints\n",
    "    \"\"\"\n",
    "\n",
    "    ndx_to_transform = np.where(khat0 > 0.7)[0]\n",
    "    ndx_to_leave = np.where((khat0 <= 0.7))[0]\n",
    "\n",
    "    def IS(T, X, y):\n",
    "        mu = self.eval(X, params)[..., 0]\n",
    "        sigma = tf.math.sigmoid(mu)\n",
    "        ell = y * (sigma) + (1 - y) * (1 - sigma)\n",
    "        log_ell = tf.math.xlogy(y, sigma) + tf.math.xlogy(1 - y, 1 - sigma)\n",
    "        log_ell_prime = y * (1 - sigma) - (1 - y) * sigma\n",
    "        log_ell_doubleprime = -sigma * (1 - sigma)\n",
    "        # compute # \\nabla\\log\\pi(\\btheta|\\calD)\n",
    "        if variational:\n",
    "            # \\nabla\\log\\pi = -\\Sigma^{-1}(theta - \\bar{\\theta})\n",
    "            grad_log_pi = {\n",
    "                \"b_0\": -(\n",
    "                    params[\"b_0\"] - self.surrogate_distribution.model[\"b_0\"].mean()\n",
    "                )\n",
    "                / self.surrogate_distribution.model[\"b_0\"].variance(),\n",
    "                \"b_1\": -(\n",
    "                    params[\"b_1\"] - self.surrogate_distribution.model[\"b_1\"].mean()\n",
    "                )\n",
    "                / self.surrogate_distribution.model[\"b_1\"].variance(),\n",
    "                \"w_0\": -(\n",
    "                    params[\"w_0\"] - self.surrogate_distribution.model[\"w_0\"].mean()\n",
    "                )\n",
    "                / self.surrogate_distribution.model[\"w_0\"].variance(),\n",
    "                \"w_1\": -(\n",
    "                    params[\"w_1\"] - self.surrogate_distribution.model[\"w_1\"].mean()\n",
    "                )\n",
    "                / self.surrogate_distribution.model[\"w_1\"].variance(),\n",
    "            }\n",
    "            b0_sd = self.surrogate_distribution.model[\"b_0\"].variance() ** 0.5\n",
    "            b1_sd = self.surrogate_distribution.model[\"b_1\"].variance() ** 0.5\n",
    "            w0_sd = self.surrogate_distribution.model[\"w_0\"].variance() ** 0.5\n",
    "            w1_sd = self.surrogate_distribution.model[\"w_1\"].variance() ** 0.5\n",
    "            log_pi = (\n",
    "                self.surrogate_distribution.model[\"b_0\"].log_prob(params[\"b_0\"])\n",
    "                + self.surrogate_distribution.model[\"b_1\"].log_prob(params[\"b_1\"])\n",
    "                + self.surrogate_distribution.model[\"w_1\"].log_prob(params[\"w_1\"])\n",
    "                + self.surrogate_distribution.model[\"w_0\"].log_prob(params[\"w_0\"])\n",
    "            )\n",
    "            log_pi -= tf.reduce_max(log_pi, axis=0)\n",
    "            # log_pi.shape: [samples]\n",
    "        else:\n",
    "            \"\"\"\n",
    "            Recall Bayes rule:\n",
    "            \\log pi(\\btheta|\\calD) = \\sum_i\\log ell_i(\\btheta) + \\log\\pi(\\btheta) + const\n",
    "\n",
    "            so\n",
    "            \\nabla\\log\\pi(\\btheta|\\calD) = \\sum_i (ell_i)'x + grad\\log\\pi(\\btheta)\n",
    "\n",
    "            \"\"\"\n",
    "            log_prior = self.prior_distribution.log_prob(params)\n",
    "\n",
    "            log_pi = tf.reduce_sum(log_ell, axis=1, keepdims=True)[:, 0]\n",
    "            z1 = tf.nn.relu(tf.matmul(X, params[\"w_0\"]))\n",
    "            # pi \\propto #@TODO\n",
    "\n",
    "            grad_log_pi = {\n",
    "                \"b_0\": (\n",
    "                    tf.reduce_sum(\n",
    "                        (\n",
    "                            params[\"w_1\"][..., tf.newaxis, :, :]\n",
    "                            * log_ell_prime[..., tf.newaxis, tf.newaxis]\n",
    "                        )\n",
    "                        * heaviside(z1)[..., tf.newaxis],\n",
    "                        axis=1,\n",
    "                        keepdims=False,\n",
    "                    )[..., 0]\n",
    "                    - 0.5 * params[\"b_0\"] ** 2\n",
    "                ),\n",
    "                \"b_1\": tf.reduce_sum(\n",
    "                    log_ell_prime[..., tf.newaxis], axis=1, keepdims=False\n",
    "                )\n",
    "                - 0.5 * params[\"b_1\"] ** 2,\n",
    "                \"w_0\": (\n",
    "                    tf.reduce_sum(\n",
    "                        (\n",
    "                            (\n",
    "                                params[\"w_1\"][..., tf.newaxis, :, :]\n",
    "                                * log_ell_prime[..., tf.newaxis, tf.newaxis]\n",
    "                                * heaviside(z1)[..., tf.newaxis]\n",
    "                            )[..., tf.newaxis, :, 0]\n",
    "                            * X[..., tf.newaxis]\n",
    "                        ),\n",
    "                        axis=1,\n",
    "                        keepdims=False,\n",
    "                    )  # want S x N x k\n",
    "                    - 0.5 * params[\"w_0\"] ** 2\n",
    "                ),\n",
    "                \"w_1\": tf.reduce_sum(\n",
    "                    log_ell_prime[..., tf.newaxis, tf.newaxis] * z1[..., tf.newaxis],\n",
    "                    axis=1,\n",
    "                    keepdims=False,\n",
    "                )\n",
    "                - 0.5 * params[\"w_1\"] ** 2,\n",
    "            }\n",
    "\n",
    "            grad_log_prior = {\n",
    "                \"b_0\": -0.5 * params[\"b_0\"] ** 2\n",
    "                - 0.5 * tf.cast(tf.math.sqrt(2 * np.pi), self.dtype),\n",
    "                \"b_1\": -0.5 * params[\"b_1\"] ** 2\n",
    "                - 0.5 * tf.cast(tf.math.sqrt(2 * np.pi), self.dtype),\n",
    "                \"w_0\": -0.5 * params[\"w_0\"] ** 2\n",
    "                - 0.5 * tf.cast(tf.math.sqrt(2 * np.pi), self.dtype),\n",
    "                \"w_1\": -0.5 * params[\"w_1\"] ** 2\n",
    "                - 0.5 * tf.cast(tf.math.sqrt(2 * np.pi), self.dtype),\n",
    "            }\n",
    "            # grad_log_pi += grad_log_prior[:, tf.newaxis, :]\n",
    "\n",
    "            b0_sd = tf.math.reduce_std(params[\"b_0\"], 0, keepdims=True)\n",
    "            b1_sd = tf.math.reduce_std(params[\"b_1\"], 0, keepdims=True)\n",
    "            w0_sd = tf.math.reduce_std(params[\"w_0\"], 0, keepdims=True)\n",
    "            w1_sd = tf.math.reduce_std(params[\"w_1\"], 0, keepdims=True)\n",
    "\n",
    "        b0_adj, b1_adj, w0_adj, w1_adj, logJ = T(\n",
    "            X,\n",
    "            y,\n",
    "            log_pi=log_pi,\n",
    "            grad_log_pi=grad_log_pi,\n",
    "            b0_sd=b0_sd,\n",
    "            b1_sd=b1_sd,\n",
    "            w0_sd=w0_sd,\n",
    "            w1_sd=w1_sd,\n",
    "        )\n",
    "        transformed = {\"b_0\": b0_adj, \"b_1\": b1_adj, \"w_0\": w0_adj, \"w_1\": w1_adj}\n",
    "        mu_new = self.nn.eval(X[:, tf.newaxis, :], [w0_adj, b0_adj, w1_adj, b1_adj])[\n",
    "            ..., 0, 0\n",
    "        ]\n",
    "        sigma_new = tf.math.sigmoid(mu_new)\n",
    "        ell_new = y * (sigma_new) + (1 - y) * (1 - sigma_new)\n",
    "        log_ell_new = tf.math.xlogy(y, sigma_new) + tf.math.xlogy(1 - y, 1 - sigma_new)\n",
    "\n",
    "        if variational:\n",
    "            # We trust the variational approximation, so \\hat{pi} = pi\n",
    "            # N_samples x N_data\n",
    "            delta_log_pi = (\n",
    "                self.surrogate_distribution.log_prob(transformed)\n",
    "                - log_pi[:, tf.newaxis]\n",
    "            )\n",
    "            delta_log_pi = delta_log_pi - tf.reduce_max(\n",
    "                delta_log_pi, axis=0, keepdims=True\n",
    "            )\n",
    "\n",
    "        else:\n",
    "            # we don't trust the variational approximation\n",
    "            # Need to compute log_pi directly by summing over the likelihood\n",
    "\n",
    "            ell_cross = tf.math.sigmoid(\n",
    "                self.nn.eval(X, [w0_adj, b0_adj, w1_adj, b1_adj])[..., 0]\n",
    "            )\n",
    "            ell_cross = tf.math.xlogy(y, ell_cross) + tf.math.xlogy(\n",
    "                1 - y, 1 - ell_cross\n",
    "            )\n",
    "            ell_cross = tf.math.reduce_sum(ell_cross, axis=-1)\n",
    "\n",
    "            log_prior_new = self.prior_distribution.log_prob(transformed)\n",
    "\n",
    "            log_pi_new = ell_cross\n",
    "            delta_log_prior = log_prior_new - log_prior[:, tf.newaxis]\n",
    "            # Incorporate the prior\n",
    "            delta_log_pi = log_pi_new - log_pi[:, tf.newaxis] + delta_log_prior\n",
    "\n",
    "        # regularize delta_log_pi\n",
    "\n",
    "        def regularize(tensor):\n",
    "            min_finite = tf.reduce_min(\n",
    "                tf.where(\n",
    "                    tf.math.is_finite(tensor),\n",
    "                    tensor,\n",
    "                    jnp.zeros_like(tensor),\n",
    "                )\n",
    "            )\n",
    "            return tf.where(\n",
    "                tf.math.is_finite(tensor),\n",
    "                tensor,\n",
    "                min_finite * jnp.ones_like(tensor),\n",
    "            )\n",
    "\n",
    "        delta_log_pi = regularize(delta_log_pi)\n",
    "        delta_log_pi -= tf.reduce_max(delta_log_pi, axis=0)\n",
    "        log_eta_weights = delta_log_pi - regularize(log_ell_new) + logJ\n",
    "        log_eta_weights = log_eta_weights - tf.reduce_max(log_eta_weights, axis=0)\n",
    "        psis_weights, khat = nppsis.psislw(log_eta_weights)\n",
    "\n",
    "        eta_weights = tf.math.exp(log_eta_weights)\n",
    "        eta_weights = eta_weights / tf.reduce_sum(eta_weights, axis=0, keepdims=True)\n",
    "\n",
    "        psis_weights = tf.math.exp(psis_weights)\n",
    "        psis_weights = psis_weights / tf.math.reduce_sum(\n",
    "            psis_weights, axis=0, keepdims=True\n",
    "        )\n",
    "\n",
    "        weight_entropy = entropy(eta_weights)\n",
    "        psis_entropy = entropy(psis_weights)\n",
    "\n",
    "        p_loo_new = tf.reduce_sum(sigma_new * eta_weights, axis=0)\n",
    "        p_loo_psis = tf.reduce_sum(sigma_new * psis_weights, axis=0)\n",
    "        p_loo_sd = tf.math.reduce_std(sigma_new * eta_weights, axis=0)\n",
    "        ll_loo_new = tf.reduce_sum(eta_weights * ell_new, axis=0)\n",
    "        ll_loo_psis = tf.reduce_sum(psis_weights * ell_new, axis=0)\n",
    "        ll_loo_sd = tf.math.reduce_std(eta_weights * ell_new, axis=0)\n",
    "        out = (\n",
    "            eta_weights,\n",
    "            psis_weights,\n",
    "            p_loo_new,\n",
    "            p_loo_sd,\n",
    "            ll_loo_new,\n",
    "            ll_loo_sd,\n",
    "            weight_entropy,\n",
    "            khat,\n",
    "            p_loo_psis,\n",
    "            ll_loo_psis,\n",
    "        )\n",
    "        return out\n",
    "\n",
    "    def T_kl(X, y, log_pi, grad_log_pi, b0_sd, b1_sd, w0_sd, w1_sd, **kwargs):\n",
    "        log_pi_ = log_pi - tf.reduce_max(log_pi, axis=0, keepdims=True)\n",
    "        mu = self.eval(X, params)[..., 0]\n",
    "        sigma = tf.math.sigmoid(mu)\n",
    "        pre = ((-1) ** y * tf.math.exp(log_pi_[..., tf.newaxis] + mu * (1 - 2 * y)))[\n",
    "            ..., tf.newaxis\n",
    "        ]\n",
    "        z1 = tf.nn.relu(tf.matmul(X, params[\"w_0\"]))\n",
    "        Q_b1 = pre\n",
    "        Q_w1 = (pre * z1)[..., tf.newaxis]\n",
    "        Q_b0 = (\n",
    "            pre[..., tf.newaxis]\n",
    "            * heaviside(z1)[..., tf.newaxis]\n",
    "            * params[\"w_1\"][..., tf.newaxis, :, :]\n",
    "        )\n",
    "        Q_w0 = (\n",
    "            pre[..., tf.newaxis, :]\n",
    "            * heaviside(z1)[..., tf.newaxis, :]\n",
    "            * X[..., tf.newaxis]\n",
    "            * params[\"w_1\"][..., tf.newaxis, tf.newaxis, :, 0]\n",
    "        )\n",
    "\n",
    "        standardized = tf.concat(\n",
    "            [\n",
    "                tf.reduce_max(tf.math.abs(Q_b0 / tf.transpose(b0_sd)), axis=-1),\n",
    "                tf.math.abs(Q_b1 / b1_sd),\n",
    "                tf.reduce_max(tf.math.abs(Q_w0 / w0_sd), axis=-1),\n",
    "                (Q_w1 / w1_sd)[..., 0],\n",
    "            ],\n",
    "            axis=-1,\n",
    "        )\n",
    "        standardized = tf.reduce_max(tf.math.abs(standardized), axis=-1)\n",
    "        standardized = tf.reduce_max(standardized, axis=0, keepdims=True)[\n",
    "            ..., tf.newaxis\n",
    "        ]\n",
    "\n",
    "        h = hbar / standardized\n",
    "\n",
    "        b0_adj = params[\"b_0\"][..., tf.newaxis, :] + h * Q_b0[..., 0]\n",
    "        b1_adj = params[\"b_1\"][..., tf.newaxis, :] + h * Q_b1\n",
    "        w0_adj = params[\"w_0\"][..., tf.newaxis, :, :] + h[..., tf.newaxis] * Q_w0\n",
    "        w1_adj = params[\"w_1\"][..., tf.newaxis, :, :] + h[..., tf.newaxis] * Q_w1\n",
    "\n",
    "        eigen_plus = tf.reduce_sum(\n",
    "            heaviside(z1)[..., tf.newaxis] * X[:, tf.newaxis] ** 2, axis=-1\n",
    "        )\n",
    "        eigen_plus = tf.math.sqrt(eigen_plus)\n",
    "\n",
    "        u_k = heaviside(z1)[..., tf.newaxis] * X[:, tf.newaxis]\n",
    "        u_k = tf.math.sqrt(tf.math.reduce_sum(u_k**2, axis=-1))  # norm |u_k|\n",
    "\n",
    "        #\n",
    "        Jpre = (-1) ** y[tf.newaxis, :] * tf.math.exp(\n",
    "            log_pi_[..., tf.newaxis] + mu * (1 - 2 * y[tf.newaxis, :])\n",
    "        )\n",
    "\n",
    "        # assumeble the Jacobian approximation\n",
    "        # |J| = | 1 + h\\nabla\\cdot Q|\n",
    "\n",
    "        dQ_b0 = (grad_log_pi[\"b_0\"] * tf.math.exp(log_pi_)[:, tf.newaxis])[\n",
    "            :, tf.newaxis, :, tf.newaxis\n",
    "        ] + (1 - 2 * y[ tf.newaxis, :, tf.newaxis, tf.newaxis]) * (\n",
    "            heaviside(z1)[..., tf.newaxis] * params[\"w_1\"][..., tf.newaxis, :, :]\n",
    "        )\n",
    "\n",
    "        dQ_w0 = (\n",
    "            grad_log_pi[\"w_0\"][..., tf.newaxis, :, :]\n",
    "            * tf.math.exp(log_pi_)[:, tf.newaxis, tf.newaxis, tf.newaxis]\n",
    "            + (1 - 2 * y[tf.newaxis, :, tf.newaxis, tf.newaxis])\n",
    "            * heaviside(z1)[..., tf.newaxis, :]\n",
    "            * X[tf.newaxis, :, :, tf.newaxis]\n",
    "            * params[\"w_1\"][..., 0][..., tf.newaxis, tf.newaxis, :]\n",
    "        )\n",
    "\n",
    "        dQ_b1 = (grad_log_pi[\"b_1\"] * tf.math.exp(log_pi_)[:, tf.newaxis])[\n",
    "            :, tf.newaxis, :\n",
    "        ] + (1 - 2 * y[tf.newaxis, :, tf.newaxis]) \n",
    "\n",
    "        dQ_w1 = (\n",
    "            grad_log_pi[\"w_1\"][..., tf.newaxis, :, :]\n",
    "            * tf.math.exp(log_pi_)[:, tf.newaxis, tf.newaxis, tf.newaxis]\n",
    "            + (1 - 2 * y[tf.newaxis, :, tf.newaxis, tf.newaxis])\n",
    "            * z1[..., tf.newaxis]\n",
    "        )\n",
    "        \n",
    "        dQ_b0 = tf.reduce_sum(h[..., tf.newaxis]*dQ_b0*Q_b0, axis=[-1, -2])\n",
    "        dQ_b1 = tf.reduce_sum(h*dQ_b1*Q_b1, axis=[-1])\n",
    "        dQ_w0 = tf.reduce_sum(h[..., tf.newaxis]*dQ_w0*Q_w0, axis=[-1, -2])\n",
    "        dQ_w1 = tf.reduce_sum(h[..., tf.newaxis]*dQ_w1*Q_w1, axis=[-1, -2])\n",
    "\n",
    "        logJ = tf.math.log1p(dQ_b0 + dQ_b1 + dQ_w0 + dQ_w1)\n",
    "        return b0_adj, b1_adj, w0_adj, w1_adj, logJ\n",
    "\n",
    "    def T_I(X, y, **kwargs):\n",
    "        mu = self.eval(X, params)[..., 0]\n",
    "        sigma = tf.math.sigmoid(mu)\n",
    "\n",
    "        log_ell = tf.math.xlogy(y, sigma) + tf.math.xlogy(1 - y, 1 - sigma)\n",
    "        Q = jnp.zeros_like(log_ell)\n",
    "        out = (\n",
    "            params[\"b_0\"][..., tf.newaxis, :] + Q[..., tf.newaxis],\n",
    "            params[\"b_1\"][..., tf.newaxis, :] + Q[..., tf.newaxis],\n",
    "            params[\"w_0\"][..., tf.newaxis, :, :] + Q[..., tf.newaxis, tf.newaxis],\n",
    "            params[\"w_1\"][..., tf.newaxis, :, :] + Q[..., tf.newaxis, tf.newaxis],\n",
    "            jnp.zeros_like(Q),\n",
    "        )\n",
    "        return out\n",
    "\n",
    "    def T_var(X, y, log_pi, grad_log_pi, b0_sd, b1_sd, w0_sd, w1_sd, **kwargs):\n",
    "        log_pi_ = log_pi - tf.reduce_max(log_pi, axis=0, keepdims=True)\n",
    "        mu = self.eval(X, params)[..., 0]\n",
    "        sigma = tf.math.sigmoid(mu)\n",
    "        pre = ((-1) ** y * tf.math.exp(log_pi_[..., tf.newaxis] + 2* mu * (1 - 2 * y)))[\n",
    "            ..., tf.newaxis\n",
    "        ]\n",
    "        z1 = tf.nn.relu(tf.matmul(X, params[\"w_0\"]))\n",
    "        Q_b1 = pre\n",
    "        Q_w1 = (pre * z1)[..., tf.newaxis]\n",
    "        Q_b0 = (\n",
    "            pre[..., tf.newaxis]\n",
    "            * heaviside(z1)[..., tf.newaxis]\n",
    "            * params[\"w_1\"][..., tf.newaxis, :, :]\n",
    "        )\n",
    "        Q_w0 = (\n",
    "            pre[..., tf.newaxis, :]\n",
    "            * heaviside(z1)[..., tf.newaxis, :]\n",
    "            * X[..., tf.newaxis]\n",
    "            * params[\"w_1\"][..., tf.newaxis, tf.newaxis, :, 0]\n",
    "        )\n",
    "\n",
    "        standardized = tf.concat(\n",
    "            [\n",
    "                tf.reduce_max(tf.math.abs(Q_b0 / tf.transpose(b0_sd)), axis=-1),\n",
    "                tf.math.abs(Q_b1 / b1_sd),\n",
    "                tf.reduce_max(tf.math.abs(Q_w0 / w0_sd), axis=-1),\n",
    "                (Q_w1 / w1_sd)[..., 0],\n",
    "            ],\n",
    "            axis=-1,\n",
    "        )\n",
    "        standardized = tf.reduce_max(tf.math.abs(standardized), axis=-1)\n",
    "        standardized = tf.reduce_max(standardized, axis=0, keepdims=True)[\n",
    "            ..., tf.newaxis\n",
    "        ]\n",
    "\n",
    "        h = hbar / standardized\n",
    "\n",
    "        b0_adj = params[\"b_0\"][..., tf.newaxis, :] + h * Q_b0[..., 0]\n",
    "        b1_adj = params[\"b_1\"][..., tf.newaxis, :] + h * Q_b1\n",
    "        w0_adj = params[\"w_0\"][..., tf.newaxis, :, :] + h[..., tf.newaxis] * Q_w0\n",
    "        w1_adj = params[\"w_1\"][..., tf.newaxis, :, :] + h[..., tf.newaxis] * Q_w1\n",
    "\n",
    "        eigen_plus = tf.reduce_sum(\n",
    "            heaviside(z1)[..., tf.newaxis] * X[:, tf.newaxis] ** 2, axis=-1\n",
    "        )\n",
    "        eigen_plus = tf.math.sqrt(eigen_plus)\n",
    "\n",
    "        u_k = heaviside(z1)[..., tf.newaxis] * X[:, tf.newaxis]\n",
    "        u_k = tf.math.sqrt(tf.math.reduce_sum(u_k**2, axis=-1))  # norm |u_k|\n",
    "\n",
    "        #\n",
    "        Jpre = (-1) ** y[tf.newaxis, :] * tf.math.exp(\n",
    "            log_pi_[..., tf.newaxis] + mu * (1 - 2 * y[tf.newaxis, :])\n",
    "        )\n",
    "\n",
    "        # assumeble the Jacobian approximation\n",
    "        # |J| = | 1 + h\\nabla\\cdot Q|\n",
    "\n",
    "        dQ_b0 = (grad_log_pi[\"b_0\"] * tf.math.exp(log_pi_)[:, tf.newaxis])[\n",
    "            :, tf.newaxis, :, tf.newaxis\n",
    "        ] + 2*(1 - 2 * y[ tf.newaxis, :, tf.newaxis, tf.newaxis]) * (\n",
    "            heaviside(z1)[..., tf.newaxis] * params[\"w_1\"][..., tf.newaxis, :, :]\n",
    "        )\n",
    "\n",
    "        dQ_w0 = (\n",
    "            grad_log_pi[\"w_0\"][..., tf.newaxis, :, :]\n",
    "            * tf.math.exp(log_pi_)[:, tf.newaxis, tf.newaxis, tf.newaxis]\n",
    "            + 2*(1 - 2 * y[tf.newaxis, :, tf.newaxis, tf.newaxis])\n",
    "            * heaviside(z1)[..., tf.newaxis, :]\n",
    "            * X[tf.newaxis, :, :, tf.newaxis]\n",
    "            * params[\"w_1\"][..., 0][..., tf.newaxis, tf.newaxis, :]\n",
    "        )\n",
    "\n",
    "        dQ_b1 = (grad_log_pi[\"b_1\"] * tf.math.exp(log_pi_)[:, tf.newaxis])[\n",
    "            :, tf.newaxis, :\n",
    "        ] + 2*(1 - 2 * y[tf.newaxis, :, tf.newaxis])\n",
    "\n",
    "        dQ_w1 = (\n",
    "            grad_log_pi[\"w_1\"][..., tf.newaxis, :, :]\n",
    "            * tf.math.exp(log_pi_)[:, tf.newaxis, tf.newaxis, tf.newaxis]\n",
    "            + 2*(1 - 2 * y[tf.newaxis, :, tf.newaxis, tf.newaxis])\n",
    "            * z1[..., tf.newaxis]\n",
    "        )\n",
    "        \n",
    "        dQ_b0 = tf.reduce_sum(h[..., tf.newaxis]*dQ_b0*Q_b0, axis=[-1, -2])\n",
    "        dQ_b1 = tf.reduce_sum(h*dQ_b1*Q_b1, axis=[-1])\n",
    "        dQ_w0 = tf.reduce_sum(h[..., tf.newaxis]*dQ_w0*Q_w0, axis=[-1, -2])\n",
    "        dQ_w1 = tf.reduce_sum(h[..., tf.newaxis]*dQ_w1*Q_w1, axis=[-1, -2])\n",
    "\n",
    "        logJ = tf.math.log1p(dQ_b0 + dQ_b1 + dQ_w0 + dQ_w1)\n",
    "        return b0_adj, b1_adj, w0_adj, w1_adj, logJ\n",
    "\n",
    "    def T_MM1(X, y, **kwargs):\n",
    "        # need to transform b_0, b_1, w_0, w_1\n",
    "        mu = self.eval(X, params)[..., 0]\n",
    "        sigma = tf.math.sigmoid(mu)\n",
    "        ell = y * (sigma) + (1 - y) * (1 - sigma)  # S x N\n",
    "\n",
    "        weights = (\n",
    "            1\n",
    "            / ell[..., tf.newaxis]\n",
    "            / tf.reduce_sum(1 / ell[..., tf.newaxis], axis=0, keepdims=True)\n",
    "        )\n",
    "\n",
    "        def theta_bar(param, weights):  # param is S x K\n",
    "            hat = tf.reduce_mean(param[:, tf.newaxis, ...], axis=0, keepdims=True)\n",
    "            if len(param.shape) > 2:\n",
    "                weights = weights[..., tf.newaxis]\n",
    "            hat_w = param[:, tf.newaxis, ...] * weights\n",
    "            hat_w = tf.reduce_sum(hat_w, axis=0, keepdims=True)\n",
    "            v = tf.reduce_mean((param[:, tf.newaxis, ...] - hat) ** 2)\n",
    "            v_w = tf.reduce_sum(\n",
    "                weights * (param[:, tf.newaxis, ...] - hat) ** 2, axis=0, keepdims=True\n",
    "            )\n",
    "            return hat, hat_w, v, v_w\n",
    "\n",
    "        bar_b0, bar_b0_w, b0_v, b0_v_w = theta_bar(params[\"b_0\"], weights)\n",
    "        bar_b1, bar_b1_w, b1_v, b1_v_w = theta_bar(params[\"b_1\"], weights)\n",
    "\n",
    "        bar_w0, bar_w0_w, w0_v, w0_v_w = theta_bar(params[\"w_0\"], weights)\n",
    "        bar_w1, bar_w1_w, w1_v, w1_v_w = theta_bar(params[\"w_1\"], weights)\n",
    "\n",
    "        # tf.math.exp(0.5*(tf.math.log(beta_v_w) - tf.math.log(beta_v)))-tf.math.sqrt(beta_v_w / beta_v)\n",
    "\n",
    "        b0_adj = params[\"b_0\"][:, tf.newaxis, ...] + hbar * (-bar_b0 + bar_b0_w)\n",
    "        b1_adj = params[\"b_1\"][:, tf.newaxis, ...] + hbar * (-bar_b1 + bar_b1_w)\n",
    "        w0_adj = params[\"w_0\"][:, tf.newaxis, ...] + hbar * (-bar_w0 + bar_w0_w)\n",
    "        w1_adj = params[\"w_1\"][:, tf.newaxis, ...] + hbar * (-bar_w1 + bar_w1_w)\n",
    "\n",
    "        return b0_adj, b1_adj, w0_adj, w1_adj, jnp.zeros_like(ell)\n",
    "\n",
    "    def T_MM2(X, y, **kwargs):\n",
    "\n",
    "        mu = self.eval(X, params)[..., 0]\n",
    "        sigma = tf.math.sigmoid(mu)\n",
    "        ell = y * (sigma) + (1 - y) * (1 - sigma)  # S x N\n",
    "\n",
    "        weights = (\n",
    "            1\n",
    "            / ell[..., tf.newaxis]\n",
    "            / tf.reduce_sum(1 / ell[..., tf.newaxis], axis=0, keepdims=True)\n",
    "        )\n",
    "\n",
    "        def theta_bar(param, weights):  # param is S x K\n",
    "            hat = tf.reduce_mean(param[:, tf.newaxis, ...], axis=0, keepdims=True)\n",
    "            if len(param.shape) > 2:\n",
    "                weights = weights[..., tf.newaxis]\n",
    "            hat_w = param[:, tf.newaxis, ...] * weights\n",
    "            hat_w = tf.reduce_sum(hat_w, axis=0, keepdims=True)\n",
    "            v = tf.reduce_mean((param[:, tf.newaxis, ...] - hat) ** 2)\n",
    "            v_w = tf.reduce_sum(\n",
    "                weights * (param[:, tf.newaxis, ...] - hat) ** 2, axis=0, keepdims=True\n",
    "            )\n",
    "            return hat, hat_w, v, v_w\n",
    "\n",
    "        bar_b0, bar_b0_w, b0_v, b0_v_w = theta_bar(params[\"b_0\"], weights)\n",
    "        bar_b1, bar_b1_w, b1_v, b1_v_w = theta_bar(params[\"b_1\"], weights)\n",
    "\n",
    "        bar_w0, bar_w0_w, w0_v, w0_v_w = theta_bar(params[\"w_0\"], weights)\n",
    "        bar_w1, bar_w1_w, w1_v, w1_v_w = theta_bar(params[\"w_1\"], weights)\n",
    "\n",
    "        # tf.math.exp(0.5*(tf.math.log(beta_v_w) - tf.math.log(beta_v)))-tf.math.sqrt(beta_v_w / beta_v)\n",
    "\n",
    "        b0_adj = params[\"b_0\"][:, tf.newaxis, ...] + hbar * (\n",
    "            (tf.math.sqrt(b0_v_w / b0_v) - 1) * params[\"b_0\"][:, tf.newaxis, ...]\n",
    "            - tf.math.sqrt(b0_v_w / b0_v) * bar_b0\n",
    "            + bar_b0_w\n",
    "        )\n",
    "        b1_adj = params[\"b_1\"][:, tf.newaxis, ...] + hbar * (\n",
    "            (tf.math.sqrt(b1_v_w / b1_v) - 1) * params[\"b_1\"][:, tf.newaxis, ...]\n",
    "            - tf.math.sqrt(b1_v_w / b1_v) * bar_b1\n",
    "            + bar_b0_w\n",
    "        )\n",
    "        w0_adj = params[\"w_0\"][:, tf.newaxis, ...] + hbar * (\n",
    "            (tf.math.sqrt(w0_v_w / w0_v) - 1) * params[\"w_0\"][:, tf.newaxis, ...]\n",
    "            - tf.math.sqrt(w0_v_w / w0_v) * bar_w0\n",
    "            + bar_w0_w\n",
    "        )\n",
    "        w1_adj = params[\"w_1\"][:, tf.newaxis, ...] + hbar * (\n",
    "            (tf.math.sqrt(w1_v_w / w1_v) - 1) * params[\"w_1\"][:, tf.newaxis, ...]\n",
    "            - tf.math.sqrt(w1_v_w / w1_v) * bar_w1\n",
    "            + bar_w1_w\n",
    "        )\n",
    "\n",
    "        # piece together the Jacobian\n",
    "        # every component gets multiplied by something like (sqrt(beta0_v_w/beta0_v)-1)\n",
    "\n",
    "        J_b0 = tf.math.sqrt(b0_v_w / b0_v) - 1\n",
    "        J_b1 = tf.math.sqrt(b1_v_w / b1_v) - 1\n",
    "        J_w0 = tf.math.sqrt(w0_v_w / w0_v) - 1\n",
    "        J_w1 = tf.math.sqrt(w1_v_w / w1_v) - 1\n",
    "\n",
    "        J_b0 = tf.reduce_sum(tf.math.log1p(hbar * J_b0), axis=-1)\n",
    "        J_b1 = tf.reduce_sum(tf.math.log1p(hbar * J_b1), axis=-1)\n",
    "        J_w0 = tf.reduce_sum(tf.math.log1p(hbar * J_w0), axis=[-1, -2])\n",
    "        J_w1 = tf.reduce_sum(tf.math.log1p(hbar * J_w1), axis=[-1, -2])\n",
    "        # shift by mean\n",
    "        return (\n",
    "            b0_adj,\n",
    "            b1_adj,\n",
    "            w0_adj,\n",
    "            w1_adj,\n",
    "            jnp.zeros_like(ell) + J_b0 + J_b1 + J_w0 + J_w1,\n",
    "        )\n",
    "\n",
    "    X_ = tf.gather(_X, ndx_to_leave)\n",
    "    y_ = tf.gather(_y, ndx_to_leave)\n",
    "    (\n",
    "        eta_I,\n",
    "        eta_I_psis,\n",
    "        p_loo_I,\n",
    "        p_loo_I_sd,\n",
    "        ll_loo_I,\n",
    "        ll_loo_I_sd,\n",
    "        S_I,\n",
    "        k_I,\n",
    "        p_psis_I,\n",
    "        ll_psis_I,\n",
    "    ) = IS(T_I, X_, y_)\n",
    "\n",
    "    out = {\n",
    "        \"I0\": {\n",
    "            \"p_loo\": p_loo_I,\n",
    "            \"p_loo_sd\": p_loo_I_sd,\n",
    "            \"ll_loo\": ll_loo_I,\n",
    "            \"ll_loo_sd\": ll_loo_I_sd,\n",
    "            \"S\": S_I,\n",
    "            \"khat\": k_I,\n",
    "            \"p_psis\": p_psis_I,\n",
    "            \"ll_psis\": ll_psis_I,\n",
    "            \"ndx\": ndx_to_leave,\n",
    "        }\n",
    "    }\n",
    "\n",
    "    transforms = {\n",
    "        \"MM1\": T_MM1,\n",
    "        \"MM2\": T_MM2,\n",
    "        \"I\": T_I,\n",
    "        \"KL\": T_kl,\n",
    "        \"Var\": T_var,\n",
    "        # \"LL\": T_ll,\n",
    "    }\n",
    "\n",
    "    X_ = tf.gather(_X, ndx_to_transform)\n",
    "    y_ = tf.gather(_y, ndx_to_transform)\n",
    "    for lab, fun in transforms.items():\n",
    "        (\n",
    "            eta_,\n",
    "            eta_psis_,\n",
    "            p_loo_,\n",
    "            p_loo_sd_,\n",
    "            ll_loo_,\n",
    "            ll_loo_s_d,\n",
    "            S_,\n",
    "            k_,\n",
    "            p_psis_,\n",
    "            ll_psis_,\n",
    "        ) = IS(fun, X_, y_)\n",
    "\n",
    "        out = {\n",
    "            **out,\n",
    "            lab: {\n",
    "                \"p_loo\": p_loo_,\n",
    "                \"p_loo_sd\": p_loo_sd_,\n",
    "                \"ll_loo\": ll_loo_,\n",
    "                \"ll_loo_sd\": ll_loo_s_d,\n",
    "                \"S\": S_,\n",
    "                \"khat\": k_,\n",
    "                \"p_psis\": p_psis_,\n",
    "                \"ll_psis\": ll_psis_,\n",
    "                \"ndx\": ndx_to_transform,\n",
    "            },\n",
    "        }\n",
    "\n",
    "    return {**out, \"ndx_transformed\": ndx_to_transform}\n",
    "\n",
    "\n",
    "nparams = 64\n",
    "loo = adaptive_is_loo(\n",
    "    nn_model,\n",
    "    batch,\n",
    "    {k: v[:nparams, ...] for k, v in params.items()},\n",
    "    1e-5,\n",
    "    variational=False,\n",
    ")\n",
    "\n",
    "# loo = adaptive_is_loo(lr_model, test_batch, param_test, 0.01, variational=False)\n",
    "\n",
    "\n",
    "for T in [\"I\", \"KL\", \"Var\", \"MM1\", \"MM2\"]:\n",
    "    print(\n",
    "        f\"{T}: {np.sqrt(np.sum(loo[T]['p_loo_sd']**2))} entropy: {np.sqrt(np.sum(loo[T]['S']))} khat>0.7: {np.sum(loo[T]['khat']>0.7)}\"\n",
    "    )"
   ]
  },
  {
   "cell_type": "code",
   "execution_count": 16,
   "metadata": {},
   "outputs": [
    {
     "name": "stderr",
     "output_type": "stream",
     "text": [
      "  0%|          | 0/1 [00:00<?, ?it/s]2025-05-27 00:24:10.880592: W external/local_xla/xla/tsl/framework/cpu_allocator_impl.cc:83] Allocation of 1327104000 exceeds 10% of free system memory.\n",
      "2025-05-27 00:24:11.200323: W external/local_xla/xla/tsl/framework/cpu_allocator_impl.cc:83] Allocation of 1327104000 exceeds 10% of free system memory.\n",
      "2025-05-27 00:24:11.279898: W external/local_xla/xla/tsl/framework/cpu_allocator_impl.cc:83] Allocation of 1327104000 exceeds 10% of free system memory.\n",
      "2025-05-27 00:24:11.490792: W external/local_xla/xla/tsl/framework/cpu_allocator_impl.cc:83] Allocation of 1327104000 exceeds 10% of free system memory.\n",
      "2025-05-27 00:24:12.302837: W external/local_xla/xla/tsl/framework/cpu_allocator_impl.cc:83] Allocation of 1327104000 exceeds 10% of free system memory.\n",
      "100%|██████████| 1/1 [02:13<00:00, 133.44s/it]"
     ]
    },
    {
     "name": "stdout",
     "output_type": "stream",
     "text": [
      "{1000: {64: {'I0': [0, 2, 3, 4, 5, 9, 10, 11, 12, 13, 14, 15, 17, 18, 19, 20, 25, 26, 27, 28, 29, 30, 35, 37, 38, 39, 40, 41, 43, 46, 47, 48, 49, 51, 52, 53], 'I': [], 'KL': [6, 23, 32, 42], 'Var': [], 'MM1': [], 'MM2': []}, 16: {'I0': [0, 2, 3, 4, 5, 9, 10, 11, 12, 13, 14, 15, 17, 18, 19, 20, 25, 26, 27, 28, 29, 30, 35, 37, 38, 39, 40, 41, 43, 46, 47, 48, 49, 51, 52, 53], 'I': [], 'KL': [1, 6, 7, 32, 50], 'Var': [], 'MM1': [], 'MM2': []}, 4: {'I0': [0, 2, 3, 4, 5, 9, 10, 11, 12, 13, 14, 15, 17, 18, 19, 20, 25, 26, 27, 28, 29, 30, 35, 37, 38, 39, 40, 41, 43, 46, 47, 48, 49, 51, 52, 53], 'I': [], 'KL': [1, 23], 'Var': [34], 'MM1': [], 'MM2': []}, 1: {'I0': [0, 2, 3, 4, 5, 9, 10, 11, 12, 13, 14, 15, 17, 18, 19, 20, 25, 26, 27, 28, 29, 30, 35, 37, 38, 39, 40, 41, 43, 46, 47, 48, 49, 51, 52, 53], 'I': [], 'KL': [], 'Var': [34], 'MM1': [8, 33, 36, 45, 50], 'MM2': [21, 33, 45]}, 0.25: {'I0': [0, 2, 3, 4, 5, 9, 10, 11, 12, 13, 14, 15, 17, 18, 19, 20, 25, 26, 27, 28, 29, 30, 35, 37, 38, 39, 40, 41, 43, 46, 47, 48, 49, 51, 52, 53], 'I': [], 'KL': [16, 21], 'Var': [], 'MM1': [6, 7, 8, 16, 21, 22, 23, 32, 33, 36, 45, 50], 'MM2': [6, 7, 8, 16, 21, 22, 23, 24, 33, 36, 42, 45, 50]}, 0.0625: {'I0': [0, 2, 3, 4, 5, 9, 10, 11, 12, 13, 14, 15, 17, 18, 19, 20, 25, 26, 27, 28, 29, 30, 35, 37, 38, 39, 40, 41, 43, 46, 47, 48, 49, 51, 52, 53], 'I': [], 'KL': [16, 21], 'Var': [], 'MM1': [1, 7, 16, 21, 22, 23, 24, 31, 32, 34, 42], 'MM2': [1, 6, 7, 8, 16, 21, 22, 23, 24, 32, 33, 34, 36, 42, 45, 50]}, 0.015625: {'I0': [0, 2, 3, 4, 5, 9, 10, 11, 12, 13, 14, 15, 17, 18, 19, 20, 25, 26, 27, 28, 29, 30, 35, 37, 38, 39, 40, 41, 43, 46, 47, 48, 49, 51, 52, 53], 'I': [], 'KL': [16, 33, 45], 'Var': [], 'MM1': [1, 22, 23, 31, 32, 34, 42, 44], 'MM2': [1, 6, 23, 24, 31, 32, 33, 34, 36, 42, 44, 50]}, 0.00390625: {'I0': [0, 2, 3, 4, 5, 9, 10, 11, 12, 13, 14, 15, 17, 18, 19, 20, 25, 26, 27, 28, 29, 30, 35, 37, 38, 39, 40, 41, 43, 46, 47, 48, 49, 51, 52, 53], 'I': [], 'KL': [45], 'Var': [], 'MM1': [1, 24, 31, 32, 34, 42, 44], 'MM2': [1, 23, 31, 32, 34, 42, 44]}, 0.0009765625: {'I0': [0, 2, 3, 4, 5, 9, 10, 11, 12, 13, 14, 15, 17, 18, 19, 20, 25, 26, 27, 28, 29, 30, 35, 37, 38, 39, 40, 41, 43, 46, 47, 48, 49, 51, 52, 53], 'I': [], 'KL': [45], 'Var': [], 'MM1': [], 'MM2': [1, 23, 31, 32, 34, 42, 44]}, 0.000244140625: {'I0': [0, 2, 3, 4, 5, 9, 10, 11, 12, 13, 14, 15, 17, 18, 19, 20, 25, 26, 27, 28, 29, 30, 35, 37, 38, 39, 40, 41, 43, 46, 47, 48, 49, 51, 52, 53], 'I': [], 'KL': [45], 'Var': [], 'MM1': [], 'MM2': [1, 23, 32, 34, 42, 44]}}}\n"
     ]
    },
    {
     "name": "stderr",
     "output_type": "stream",
     "text": [
      "\n"
     ]
    }
   ],
   "source": [
    "base = 4\n",
    "h_vals = [base**-r for r in range(-3, 7)]\n",
    "\n",
    "loo_output = []\n",
    "\n",
    "for _ in tqdm(range(1)):\n",
    "    loo_khat = {}\n",
    "    reduced_ndx = {}\n",
    "    high_khat_ndx = {}\n",
    "    n_sample = [1000]\n",
    "    records = []\n",
    "    for n_samples in n_sample:\n",
    "        sample_ndx = np.random.choice(range(params['w_0'].shape[0]), size=n_samples, replace=False)\n",
    "        reduced_ndx[n_samples] = {}\n",
    "        high_khat_ndx[n_samples] = {}\n",
    "        # print(f\"Samples: {n_samples}\")\n",
    "        loo_khat[n_samples] = {}\n",
    "        params_ = {k: v.numpy()[sample_ndx] for k, v in params.items()}\n",
    "        params_ = {k: tf.cast(v, nn_model.dtype) for k, v in params_.items()}\n",
    "\n",
    "        for h in h_vals:\n",
    "            loo_khat[n_samples][h] = {}\n",
    "            loo = adaptive_is_loo(nn_model, batch, params_, h, variational=False)\n",
    "            reduced_ndx[n_samples][h] = {}\n",
    "            # print(f\"rho={h}\\n\")\n",
    "            for T in [\"I0\", \"I\", \"KL\", \"Var\", \"MM1\", \"MM2\"]:\n",
    "                loo_khat[n_samples][h][T] = np.array(loo[T][\"khat\"])\n",
    "\n",
    "                records += [\n",
    "                    {\n",
    "                        \"h\": h,\n",
    "                        \"T\": T,\n",
    "                        \"S\": n_samples,\n",
    "                        \"khat\": loo[T][\"khat\"],\n",
    "                        \"p_psis\": loo[T][\"p_psis\"].numpy(),\n",
    "                        \"n>0.7\": (np.where((loo[T][\"khat\"] > 0.7))[0]).shape,\n",
    "                        \"ndx\": loo[T][\"ndx\"]\n",
    "                    }\n",
    "                ]\n",
    "                reduced_ndx[n_samples][h][T] = [loo[T][\"ndx\"][k] for k in np.where((loo[T][\"khat\"] <= 0.7))[0]]\n",
    "                # print(reduced_ndx[n_samples][h])\n",
    "\n",
    "\n",
    "print(reduced_ndx)"
   ]
  },
  {
   "cell_type": "markdown",
   "metadata": {},
   "source": [
    "## Look at S=2000 case"
   ]
  },
  {
   "cell_type": "code",
   "execution_count": 17,
   "metadata": {},
   "outputs": [],
   "source": [
    "df = pd.DataFrame(records)\n",
    "df['rho_rank'] = np.emath.logn(base, df['h']) \n",
    "df.head()\n",
    "I0_ = df.loc[(df['S']==n_sample[-1]) & (df['T']==\"I0\")]\n",
    "\n",
    "kl_ = df.loc[(df['S']==n_sample[-1]) & (df['T']==\"KL\")]\n",
    "var_ = df.loc[(df['S']==n_sample[-1]) & (df['T']==\"Var\")]\n",
    "ll_ = df.loc[(df['S']==n_sample[-1]) & (df['T']==\"LL\")]\n",
    "mm1_ = df.loc[(df['S']==n_sample[-1]) & (df['T']==\"MM1\")]\n",
    "I_ = df.loc[(df['S']==n_sample[-1]) & (df['T']==\"I\")]\n",
    "\n",
    "kl_ = kl_.explode(['khat', 'ndx'])\n",
    "var_ = var_.explode(['khat', 'ndx'])\n",
    "ll_ = ll_.explode(['khat', 'ndx'])\n",
    "I_ = I_.explode(['khat', 'ndx'])\n",
    "mm1_ = mm1_.explode(['khat', 'ndx'])\n",
    "\n",
    "original = I_[['khat', 'ndx']].drop_duplicates()\n"
   ]
  },
  {
   "cell_type": "code",
   "execution_count": 18,
   "metadata": {},
   "outputs": [
    {
     "data": {
      "image/png": "[encoded data removed]",
      "text/plain": [
       "<Figure size 400x700 with 1 Axes>"
      ]
     },
     "metadata": {},
     "output_type": "display_data"
    }
   ],
   "source": [
    "fig = plt.figure(figsize=(4, 7))\n",
    "ndx_high_khat = loo['KL']['ndx'].tolist()\n",
    "ymax = (len(ndx_high_khat))\n",
    "_ = plt.scatter(original.khat, np.array([ndx_high_khat.index(i) for i in original['ndx']]) ,color=\"black\", s=12, alpha=0.6)\n",
    "_ = plt.scatter(kl_.khat, np.array([ndx_high_khat.index(i) for i in kl_['ndx']]) + 0.2, s=1, color='green', alpha=0.2)\n",
    "_ = plt.scatter(var_.khat, np.array([ndx_high_khat.index(i) for i in var_['ndx']]) - 0.2, s=1, color='purple', alpha=0.2)\n",
    "\n",
    "kl_ = kl_[kl_.khat<3]\n",
    "ll_ = ll_[ll_.khat<3]\n",
    "var_ = var_[var_.khat<3]\n",
    "_ = plt.axvline(x=0.7, linestyle='dashed', linewidth=2, color='red', alpha=0.5)\n",
    "\n",
    "kl_vals = defaultdict(list)\n",
    "var_vals = defaultdict(list)\n",
    "ll_vals = defaultdict(list)\n",
    "\n",
    "for x, y, s in zip( kl_.khat, kl_['ndx'], kl_['rho_rank'].values.astype('int')):\n",
    "    kl_vals[y] += [x]\n",
    "    \n",
    "for x, y, s in zip( var_.khat, var_['ndx'], var_['rho_rank'].values.astype('int')):\n",
    "    var_vals[y] += [x]\n",
    "\n",
    "for x, v in kl_vals.items():\n",
    "    plt.plot(min(v), ndx_high_khat.index(x)+0.2, color='green', alpha=0.3)\n",
    "    plt.text(min(v), ndx_high_khat.index(x) + 0.2, \"KL\",  ha='center', va='center', color='green', fontsize=8)\n",
    "    \n",
    "for x, v in var_vals.items():\n",
    "    plt.plot(min(v), ndx_high_khat.index(x)-0.2, color='purple', alpha=0.3)\n",
    "    plt.text(min(v), ndx_high_khat.index(x)-0.2, \"Var\",  ha='center', va='center', color='blue', fontsize=8)\n",
    "    \n",
    "    \n",
    "#for x, v in var_vals.items():\n",
    "#    plt.text(min(v), x, \"LL\",  ha='center', va='center', color='purple', fontsize=8)\n",
    "\n",
    "_ = plt.ylabel(\"observation\")\n",
    "_ = plt.ylim(-0.5, ymax - 0.5)\n",
    "_ = plt.xlabel(r'estimated Pareto tail shape $\\hat{k}$')\n",
    "_ = plt.yticks(ticks=np.arange(ymax), labels=loo['KL']['ndx'])\n",
    "_ = plt.xlim((-0.5, 3))\n",
    "_ = plt.xticks([-0.5, 0, 0.7, 1.5, 2])\n",
    "\n",
    "\n",
    "for y0, y1 in zip(np.arange(ymax+ 1)[::2]-0.5, np.arange(ymax + 1)[::2] + 0.5):\n",
    "    plt.axhspan(y0, y1, color='black', alpha=0.1, zorder=0)\n",
    "#_ = plt.xlim((-0.1, 2))\n",
    "_ = plt.savefig(\"khat_relu.pdf\", bbox_inches='tight')"
   ]
  },
  {
   "cell_type": "code",
   "execution_count": 19,
   "metadata": {},
   "outputs": [
    {
     "data": {
      "text/plain": [
       "18"
      ]
     },
     "execution_count": 19,
     "metadata": {},
     "output_type": "execute_result"
    }
   ],
   "source": [
    "len(ndx_high_khat)"
   ]
  },
  {
   "cell_type": "code",
   "execution_count": 20,
   "metadata": {},
   "outputs": [
    {
     "data": {
      "image/png": "[encoded data removed]",
      "text/plain": [
       "<Figure size 600x900 with 1 Axes>"
      ]
     },
     "metadata": {},
     "output_type": "display_data"
    }
   ],
   "source": [
    "fig = plt.figure(figsize=(6, 9))\n",
    "\n",
    "_ = plt.scatter(original.khat, np.array([ndx_high_khat.index(i) for i in original['ndx']]) ,color=\"black\", s=12, alpha=0.6)\n",
    "_ = plt.scatter(kl_.khat, np.array([ndx_high_khat.index(i) for i in kl_['ndx']]), s=0, color='green', alpha=0.2)\n",
    "_ = plt.scatter(var_.khat, np.array([ndx_high_khat.index(i) for i in var_['ndx']]), s=0, color='purple', alpha=0.2)\n",
    "_ = plt.scatter(ll_.khat, np.array([ndx_high_khat.index(i) for i in ll_['ndx']]), s=0, color='green', alpha=0.2)\n",
    "_ = plt.scatter(mm1_.khat, np.array([ndx_high_khat.index(i) for i in mm1_['ndx']]), s=0, color='purple', alpha=0.2)\n",
    "\n",
    "kl_ = kl_[kl_.khat<2]\n",
    "ll_ = ll_[ll_.khat<2]\n",
    "var_ = var_[var_.khat<2]\n",
    "mm1_ = mm1_[mm1_.khat<2]\n",
    "_ = plt.axvline(x=0.7, linestyle='dotted', linewidth=2, color='red')\n",
    "\n",
    "for x, y, s in zip( kl_.khat, kl_['ndx'], kl_['rho_rank'].values.astype('int')):\n",
    "    if s > 7:\n",
    "        continue\n",
    "    plt.text(x, ndx_high_khat.index(y) + 0.2, str(s),  ha='center', va='center', color='green', fontsize=8)\n",
    "    \n",
    "for x, y, s in zip( var_.khat, var_['ndx'], var_['rho_rank'].values.astype('int')):\n",
    "    if s > 7:\n",
    "        continue\n",
    "    plt.text(x, ndx_high_khat.index(y) + 0.1, str(s),  ha='center', va='center', color='blue', fontsize=8)\n",
    "\n",
    "for x, y, s in zip( ll_.khat, ll_['ndx'], ll_['rho_rank'].values.astype('int')):\n",
    "    if s > 3:\n",
    "        continue\n",
    "    plt.text(x, ndx_high_khat.index(y) - 0.1, str(s),  ha='center', va='center', color='orange', fontsize=8)\n",
    "\n",
    "for x, y, s in zip( mm1_.khat, mm1_['ndx'], mm1_['rho_rank'].values.astype('int')):\n",
    "    if s > 3:\n",
    "        continue\n",
    "    plt.text(x, ndx_high_khat.index(y) - 0.2, str(s),  ha='center', va='center', color='red', fontsize=8)\n",
    "    \n",
    "_ = plt.ylabel(\"observation\")\n",
    "_ = plt.ylim(-0.5, ymax - 0.5)\n",
    "_ = plt.xlabel(r'estimated Pareto tail shape $\\hat{k}$')\n",
    "_ = plt.yticks(ticks=np.arange(ymax), labels=loo['KL']['ndx'])\n",
    "_ = plt.xlim((-0.5, 3))\n",
    "_ = plt.xticks([-0.5, 0, 0.7, 1.5, 2])\n",
    "\n",
    "\n",
    "for y0, y1 in zip(np.arange(ymax+ 1)[::2]-0.5, np.arange(ymax + 1)[::2] + 0.5):\n",
    "    plt.axhspan(y0, y1, color='black', alpha=0.1, zorder=0)\n",
    "#_ = plt.xlim((-0.1, 2))\n",
    "_ = plt.savefig(\"khat_detailed_relu.pdf\", bbox_inches='tight')"
   ]
  },
  {
   "cell_type": "code",
   "execution_count": 21,
   "metadata": {},
   "outputs": [],
   "source": [
    "df_ = df.explode(['khat', \"p_psis\", 'ndx'])[['ndx', 'p_psis', 'khat', 'T']]\n",
    "#df_ = df_[df_['p_psis']!=1]\n",
    "#df_ = df_[df_['p_psis']>1e-5]\n",
    "df_ = df_[df_['T']!=\"MM2\"]\n",
    "\n",
    "df_ = df_.groupby(['ndx'])[['khat', 'p_psis']].min()\n",
    "\n",
    "pd.set_option('display.max_rows', 500)\n",
    "\n",
    "df_ = df_.reset_index()\n",
    "df_['y'] = [y_.tolist()[i][0] for i in df_['ndx'].values]\n"
   ]
  },
  {
   "cell_type": "code",
   "execution_count": 22,
   "metadata": {},
   "outputs": [],
   "source": [
    "fpr, tpr, thresholds = metrics.roc_curve(df_['y'], df_.p_psis, pos_label=1)\n",
    "precision, recall, thresholds_pr = metrics.precision_recall_curve(df_['y'], df_.p_psis)"
   ]
  },
  {
   "cell_type": "markdown",
   "metadata": {},
   "source": [
    "# Cross-tabulations"
   ]
  },
  {
   "cell_type": "code",
   "execution_count": 24,
   "metadata": {},
   "outputs": [],
   "source": [
    "df__ = df.explode(['khat', 'ndx'])[['ndx', 'khat', 'T']]\n",
    "transforms = [\"KL\", \"Var\", \"LL\", \"MM1\", \"MM2\"]\n"
   ]
  },
  {
   "cell_type": "code",
   "execution_count": 25,
   "metadata": {},
   "outputs": [
    {
     "name": "stdout",
     "output_type": "stream",
     "text": [
      "KL: 11\n",
      "Var: 1\n",
      "LL: 0\n",
      "MM1: 18\n",
      "MM2: 18\n",
      "18\n"
     ]
    }
   ],
   "source": [
    "for T in transforms:\n",
    "    _df__ = df__.loc[(df__['T']==T) & (df__['khat']<0.7)]\n",
    "    print(f\"{T}: {_df__.groupby('ndx').min().shape[0]}\")\n",
    "print(len(df__[df__['T']!=\"I0\"].ndx.unique()))"
   ]
  },
  {
   "cell_type": "code",
   "execution_count": 26,
   "metadata": {},
   "outputs": [
    {
     "name": "stdout",
     "output_type": "stream",
     "text": [
      "12\n"
     ]
    }
   ],
   "source": [
    "print(f\"{df__.loc[((df__['T']=='KL') | (df__['T']=='Var')) & (df__['khat']<0.7)].groupby('ndx').min().shape[0]}\")"
   ]
  },
  {
   "cell_type": "code",
   "execution_count": 27,
   "metadata": {},
   "outputs": [
    {
     "name": "stdout",
     "output_type": "stream",
     "text": [
      "18\n"
     ]
    }
   ],
   "source": [
    "print(f\"{df__.loc[((df__['T']=='LL') | (df__['T']=='MM1')) &(df__['T']!='I0') & (df__['khat']<0.7)].groupby('ndx').min().shape[0]}\")"
   ]
  },
  {
   "cell_type": "code",
   "execution_count": 28,
   "metadata": {},
   "outputs": [
    {
     "name": "stdout",
     "output_type": "stream",
     "text": [
      "18\n"
     ]
    }
   ],
   "source": [
    "print(f\"{df__.loc[(df__['T']!='MM1') &(df__['T']!='I0') & (df__['khat']<0.7)].groupby('ndx').min().shape[0]}\")"
   ]
  },
  {
   "cell_type": "code",
   "execution_count": 29,
   "metadata": {},
   "outputs": [
    {
     "data": {
      "text/plain": [
       "18"
      ]
     },
     "execution_count": 29,
     "metadata": {},
     "output_type": "execute_result"
    }
   ],
   "source": [
    "len(df__[df__['T']!=\"I0\"].ndx.unique())"
   ]
  },
  {
   "cell_type": "markdown",
   "metadata": {},
   "source": [
    "# Compare with variational model"
   ]
  },
  {
   "cell_type": "code",
   "execution_count": 30,
   "metadata": {},
   "outputs": [],
   "source": [
    "lr_model2 = ShallowGaussianRelunet(\n",
    "    dim_regressors=d,\n",
    "    hidden_size=3\n",
    ")"
   ]
  },
  {
   "cell_type": "code",
   "execution_count": 49,
   "metadata": {},
   "outputs": [
    {
     "name": "stdout",
     "output_type": "stream",
     "text": [
      "Running optimization for 12000 steps of 9 accumulated batches, checking every 50 steps\n",
      "Saved a checkpoint: /tmp/tfcheckpoints/e4006ae7-ec10-4581-a889-e421f1f145ea/e4006ae7-ec10-4581-a889-e421f1f145ea-1\n"
     ]
    },
    {
     "name": "stderr",
     "output_type": "stream",
     "text": [
      "  0%|          | 0/12000 [00:00<?, ?it/s]"
     ]
    },
    {
     "name": "stderr",
     "output_type": "stream",
     "text": [
      "  0%|          | 49/12000 [00:04<16:04, 12.39it/s] "
     ]
    },
    {
     "name": "stdout",
     "output_type": "stream",
     "text": [
      "Step 50: average-batch loss:9656.025176511233 rel loss: 1.03562281758808e+304\n",
      "Saved a checkpoint: /tmp/tfcheckpoints/e4006ae7-ec10-4581-a889-e421f1f145ea/e4006ae7-ec10-4581-a889-e421f1f145ea-2\n"
     ]
    },
    {
     "name": "stderr",
     "output_type": "stream",
     "text": [
      "  1%|          | 99/12000 [00:08<15:06, 13.12it/s]"
     ]
    },
    {
     "name": "stdout",
     "output_type": "stream",
     "text": [
      "Step 100: average-batch loss:9435.363222915661 rel loss: 0.02338669411895568\n",
      "Saved a checkpoint: /tmp/tfcheckpoints/e4006ae7-ec10-4581-a889-e421f1f145ea/e4006ae7-ec10-4581-a889-e421f1f145ea-3\n"
     ]
    },
    {
     "name": "stderr",
     "output_type": "stream",
     "text": [
      "  1%|          | 149/12000 [00:12<15:45, 12.53it/s]"
     ]
    },
    {
     "name": "stdout",
     "output_type": "stream",
     "text": [
      "Step 150: average-batch loss:9213.572819613772 rel loss: 0.02407213875053378\n",
      "Saved a checkpoint: /tmp/tfcheckpoints/e4006ae7-ec10-4581-a889-e421f1f145ea/e4006ae7-ec10-4581-a889-e421f1f145ea-4\n"
     ]
    },
    {
     "name": "stderr",
     "output_type": "stream",
     "text": [
      "  2%|▏         | 199/12000 [00:16<15:22, 12.79it/s]"
     ]
    },
    {
     "name": "stdout",
     "output_type": "stream",
     "text": [
      "Step 200: average-batch loss:8992.497635587812 rel loss: 0.024584402797177825\n",
      "Saved a checkpoint: /tmp/tfcheckpoints/e4006ae7-ec10-4581-a889-e421f1f145ea/e4006ae7-ec10-4581-a889-e421f1f145ea-5\n"
     ]
    },
    {
     "name": "stderr",
     "output_type": "stream",
     "text": [
      "  2%|▏         | 249/12000 [00:20<15:08, 12.94it/s]"
     ]
    },
    {
     "name": "stdout",
     "output_type": "stream",
     "text": [
      "Step 250: average-batch loss:8774.980143680214 rel loss: 0.024788374257946926\n",
      "Saved a checkpoint: /tmp/tfcheckpoints/e4006ae7-ec10-4581-a889-e421f1f145ea/e4006ae7-ec10-4581-a889-e421f1f145ea-6\n"
     ]
    },
    {
     "name": "stderr",
     "output_type": "stream",
     "text": [
      "  2%|▏         | 299/12000 [00:24<15:20, 12.72it/s]"
     ]
    },
    {
     "name": "stdout",
     "output_type": "stream",
     "text": [
      "Step 300: average-batch loss:8558.933396739843 rel loss: 0.025242251215865742\n",
      "Saved a checkpoint: /tmp/tfcheckpoints/e4006ae7-ec10-4581-a889-e421f1f145ea/e4006ae7-ec10-4581-a889-e421f1f145ea-7\n"
     ]
    },
    {
     "name": "stderr",
     "output_type": "stream",
     "text": [
      "  3%|▎         | 349/12000 [00:28<15:06, 12.86it/s]"
     ]
    },
    {
     "name": "stdout",
     "output_type": "stream",
     "text": [
      "Step 350: average-batch loss:8338.62215294116 rel loss: 0.026420581213285537\n",
      "Saved a checkpoint: /tmp/tfcheckpoints/e4006ae7-ec10-4581-a889-e421f1f145ea/e4006ae7-ec10-4581-a889-e421f1f145ea-8\n"
     ]
    },
    {
     "name": "stderr",
     "output_type": "stream",
     "text": [
      "  3%|▎         | 399/12000 [00:32<15:02, 12.86it/s]"
     ]
    },
    {
     "name": "stdout",
     "output_type": "stream",
     "text": [
      "Step 400: average-batch loss:8117.1312555770255 rel loss: 0.027286844377680187\n",
      "Saved a checkpoint: /tmp/tfcheckpoints/e4006ae7-ec10-4581-a889-e421f1f145ea/e4006ae7-ec10-4581-a889-e421f1f145ea-9\n"
     ]
    },
    {
     "name": "stderr",
     "output_type": "stream",
     "text": [
      "  4%|▎         | 449/12000 [00:36<15:20, 12.54it/s]"
     ]
    },
    {
     "name": "stdout",
     "output_type": "stream",
     "text": [
      "Step 450: average-batch loss:7908.586891013723 rel loss: 0.026369358703040184\n",
      "Saved a checkpoint: /tmp/tfcheckpoints/e4006ae7-ec10-4581-a889-e421f1f145ea/e4006ae7-ec10-4581-a889-e421f1f145ea-10\n"
     ]
    },
    {
     "name": "stderr",
     "output_type": "stream",
     "text": [
      "  4%|▍         | 499/12000 [00:39<15:04, 12.72it/s]"
     ]
    },
    {
     "name": "stdout",
     "output_type": "stream",
     "text": [
      "Step 500: average-batch loss:7691.020826928103 rel loss: 0.028288320755012076\n",
      "Saved a checkpoint: /tmp/tfcheckpoints/e4006ae7-ec10-4581-a889-e421f1f145ea/e4006ae7-ec10-4581-a889-e421f1f145ea-11\n"
     ]
    },
    {
     "name": "stderr",
     "output_type": "stream",
     "text": [
      "  5%|▍         | 549/12000 [00:43<15:20, 12.44it/s]"
     ]
    },
    {
     "name": "stdout",
     "output_type": "stream",
     "text": [
      "Step 550: average-batch loss:7475.946395945344 rel loss: 0.028768856756303994\n",
      "Saved a checkpoint: /tmp/tfcheckpoints/e4006ae7-ec10-4581-a889-e421f1f145ea/e4006ae7-ec10-4581-a889-e421f1f145ea-12\n"
     ]
    },
    {
     "name": "stderr",
     "output_type": "stream",
     "text": [
      "  5%|▍         | 599/12000 [00:47<15:14, 12.46it/s]"
     ]
    },
    {
     "name": "stdout",
     "output_type": "stream",
     "text": [
      "Step 600: average-batch loss:7264.8202807887765 rel loss: 0.029061436759127198\n",
      "Saved a checkpoint: /tmp/tfcheckpoints/e4006ae7-ec10-4581-a889-e421f1f145ea/e4006ae7-ec10-4581-a889-e421f1f145ea-13\n"
     ]
    },
    {
     "name": "stderr",
     "output_type": "stream",
     "text": [
      "  5%|▌         | 649/12000 [00:51<14:36, 12.95it/s]"
     ]
    },
    {
     "name": "stdout",
     "output_type": "stream",
     "text": [
      "Step 650: average-batch loss:7049.031319137216 rel loss: 0.03061256956905852\n",
      "Saved a checkpoint: /tmp/tfcheckpoints/e4006ae7-ec10-4581-a889-e421f1f145ea/e4006ae7-ec10-4581-a889-e421f1f145ea-14\n"
     ]
    },
    {
     "name": "stderr",
     "output_type": "stream",
     "text": [
      "  6%|▌         | 699/12000 [00:55<14:27, 13.03it/s]"
     ]
    },
    {
     "name": "stdout",
     "output_type": "stream",
     "text": [
      "Step 700: average-batch loss:6839.6231434885885 rel loss: 0.030616917227082444\n",
      "Saved a checkpoint: /tmp/tfcheckpoints/e4006ae7-ec10-4581-a889-e421f1f145ea/e4006ae7-ec10-4581-a889-e421f1f145ea-15\n"
     ]
    },
    {
     "name": "stderr",
     "output_type": "stream",
     "text": [
      "  6%|▌         | 749/12000 [00:59<14:22, 13.05it/s]"
     ]
    },
    {
     "name": "stdout",
     "output_type": "stream",
     "text": [
      "Step 750: average-batch loss:6625.713467672546 rel loss: 0.032284776101430705\n",
      "Saved a checkpoint: /tmp/tfcheckpoints/e4006ae7-ec10-4581-a889-e421f1f145ea/e4006ae7-ec10-4581-a889-e421f1f145ea-16\n"
     ]
    },
    {
     "name": "stderr",
     "output_type": "stream",
     "text": [
      "  7%|▋         | 799/12000 [01:03<14:45, 12.64it/s]"
     ]
    },
    {
     "name": "stdout",
     "output_type": "stream",
     "text": [
      "Step 800: average-batch loss:6421.766390888817 rel loss: 0.031758719388031424\n",
      "Saved a checkpoint: /tmp/tfcheckpoints/e4006ae7-ec10-4581-a889-e421f1f145ea/e4006ae7-ec10-4581-a889-e421f1f145ea-17\n"
     ]
    },
    {
     "name": "stderr",
     "output_type": "stream",
     "text": [
      "  7%|▋         | 849/12000 [01:07<14:18, 12.99it/s]"
     ]
    },
    {
     "name": "stdout",
     "output_type": "stream",
     "text": [
      "Step 850: average-batch loss:6207.10484138575 rel loss: 0.03458320021788833\n",
      "Saved a checkpoint: /tmp/tfcheckpoints/e4006ae7-ec10-4581-a889-e421f1f145ea/e4006ae7-ec10-4581-a889-e421f1f145ea-18\n"
     ]
    },
    {
     "name": "stderr",
     "output_type": "stream",
     "text": [
      "  7%|▋         | 899/12000 [01:11<14:10, 13.05it/s]"
     ]
    },
    {
     "name": "stdout",
     "output_type": "stream",
     "text": [
      "Step 900: average-batch loss:6002.403423749096 rel loss: 0.034103242182411904\n",
      "Saved a checkpoint: /tmp/tfcheckpoints/e4006ae7-ec10-4581-a889-e421f1f145ea/e4006ae7-ec10-4581-a889-e421f1f145ea-19\n"
     ]
    },
    {
     "name": "stderr",
     "output_type": "stream",
     "text": [
      "  8%|▊         | 949/12000 [01:15<14:19, 12.86it/s]"
     ]
    },
    {
     "name": "stdout",
     "output_type": "stream",
     "text": [
      "Step 950: average-batch loss:5799.072472589648 rel loss: 0.03506266771462644\n",
      "Saved a checkpoint: /tmp/tfcheckpoints/e4006ae7-ec10-4581-a889-e421f1f145ea/e4006ae7-ec10-4581-a889-e421f1f145ea-20\n"
     ]
    },
    {
     "name": "stderr",
     "output_type": "stream",
     "text": [
      "  8%|▊         | 999/12000 [01:19<14:16, 12.84it/s]"
     ]
    },
    {
     "name": "stdout",
     "output_type": "stream",
     "text": [
      "Step 1000: average-batch loss:5595.282584263422 rel loss: 0.03642173299689625\n",
      "Saved a checkpoint: /tmp/tfcheckpoints/e4006ae7-ec10-4581-a889-e421f1f145ea/e4006ae7-ec10-4581-a889-e421f1f145ea-21\n"
     ]
    },
    {
     "name": "stderr",
     "output_type": "stream",
     "text": [
      "  9%|▊         | 1049/12000 [01:23<14:09, 12.90it/s]"
     ]
    },
    {
     "name": "stdout",
     "output_type": "stream",
     "text": [
      "Step 1050: average-batch loss:5391.728983744314 rel loss: 0.03775293623489011\n",
      "Saved a checkpoint: /tmp/tfcheckpoints/e4006ae7-ec10-4581-a889-e421f1f145ea/e4006ae7-ec10-4581-a889-e421f1f145ea-22\n"
     ]
    },
    {
     "name": "stderr",
     "output_type": "stream",
     "text": [
      "  9%|▉         | 1099/12000 [01:27<14:14, 12.75it/s]"
     ]
    },
    {
     "name": "stdout",
     "output_type": "stream",
     "text": [
      "Step 1100: average-batch loss:5196.2160860423255 rel loss: 0.037626013711623774\n",
      "Saved a checkpoint: /tmp/tfcheckpoints/e4006ae7-ec10-4581-a889-e421f1f145ea/e4006ae7-ec10-4581-a889-e421f1f145ea-23\n"
     ]
    },
    {
     "name": "stderr",
     "output_type": "stream",
     "text": [
      " 10%|▉         | 1149/12000 [01:30<14:05, 12.84it/s]"
     ]
    },
    {
     "name": "stdout",
     "output_type": "stream",
     "text": [
      "Step 1150: average-batch loss:4992.888395229993 rel loss: 0.0407234599929339\n",
      "Saved a checkpoint: /tmp/tfcheckpoints/e4006ae7-ec10-4581-a889-e421f1f145ea/e4006ae7-ec10-4581-a889-e421f1f145ea-24\n"
     ]
    },
    {
     "name": "stderr",
     "output_type": "stream",
     "text": [
      " 10%|▉         | 1199/12000 [01:34<13:58, 12.88it/s]"
     ]
    },
    {
     "name": "stdout",
     "output_type": "stream",
     "text": [
      "Step 1200: average-batch loss:4793.984870800164 rel loss: 0.04149022781472198\n",
      "Saved a checkpoint: /tmp/tfcheckpoints/e4006ae7-ec10-4581-a889-e421f1f145ea/e4006ae7-ec10-4581-a889-e421f1f145ea-25\n"
     ]
    },
    {
     "name": "stderr",
     "output_type": "stream",
     "text": [
      " 10%|█         | 1249/12000 [01:38<13:58, 12.82it/s]"
     ]
    },
    {
     "name": "stdout",
     "output_type": "stream",
     "text": [
      "Step 1250: average-batch loss:4596.944212963611 rel loss: 0.04286339983872076\n",
      "Saved a checkpoint: /tmp/tfcheckpoints/e4006ae7-ec10-4581-a889-e421f1f145ea/e4006ae7-ec10-4581-a889-e421f1f145ea-26\n"
     ]
    },
    {
     "name": "stderr",
     "output_type": "stream",
     "text": [
      " 11%|█         | 1299/12000 [01:42<13:53, 12.83it/s]"
     ]
    },
    {
     "name": "stdout",
     "output_type": "stream",
     "text": [
      "Step 1300: average-batch loss:4401.907809148594 rel loss: 0.04430724410212941\n",
      "Saved a checkpoint: /tmp/tfcheckpoints/e4006ae7-ec10-4581-a889-e421f1f145ea/e4006ae7-ec10-4581-a889-e421f1f145ea-27\n"
     ]
    },
    {
     "name": "stderr",
     "output_type": "stream",
     "text": [
      " 11%|█         | 1349/12000 [01:46<13:48, 12.85it/s]"
     ]
    },
    {
     "name": "stdout",
     "output_type": "stream",
     "text": [
      "Step 1350: average-batch loss:4212.158501057921 rel loss: 0.04504799808530855\n",
      "Saved a checkpoint: /tmp/tfcheckpoints/e4006ae7-ec10-4581-a889-e421f1f145ea/e4006ae7-ec10-4581-a889-e421f1f145ea-28\n"
     ]
    },
    {
     "name": "stderr",
     "output_type": "stream",
     "text": [
      " 12%|█▏        | 1399/12000 [01:50<13:38, 12.95it/s]"
     ]
    },
    {
     "name": "stdout",
     "output_type": "stream",
     "text": [
      "Step 1400: average-batch loss:4026.9318169653684 rel loss: 0.045996975491910994\n",
      "Saved a checkpoint: /tmp/tfcheckpoints/e4006ae7-ec10-4581-a889-e421f1f145ea/e4006ae7-ec10-4581-a889-e421f1f145ea-29\n"
     ]
    },
    {
     "name": "stderr",
     "output_type": "stream",
     "text": [
      " 12%|█▏        | 1449/12000 [01:54<13:39, 12.87it/s]"
     ]
    },
    {
     "name": "stdout",
     "output_type": "stream",
     "text": [
      "Step 1450: average-batch loss:3836.5779037717316 rel loss: 0.04961554749259758\n",
      "Saved a checkpoint: /tmp/tfcheckpoints/e4006ae7-ec10-4581-a889-e421f1f145ea/e4006ae7-ec10-4581-a889-e421f1f145ea-30\n"
     ]
    },
    {
     "name": "stderr",
     "output_type": "stream",
     "text": [
      " 12%|█▏        | 1499/12000 [01:58<13:37, 12.84it/s]"
     ]
    },
    {
     "name": "stdout",
     "output_type": "stream",
     "text": [
      "Step 1500: average-batch loss:3650.5393928978738 rel loss: 0.05096192393808867\n",
      "Saved a checkpoint: /tmp/tfcheckpoints/e4006ae7-ec10-4581-a889-e421f1f145ea/e4006ae7-ec10-4581-a889-e421f1f145ea-31\n"
     ]
    },
    {
     "name": "stderr",
     "output_type": "stream",
     "text": [
      " 13%|█▎        | 1549/12000 [02:02<13:35, 12.82it/s]"
     ]
    },
    {
     "name": "stdout",
     "output_type": "stream",
     "text": [
      "Step 1550: average-batch loss:3468.4673644798136 rel loss: 0.052493510615852834\n",
      "Saved a checkpoint: /tmp/tfcheckpoints/e4006ae7-ec10-4581-a889-e421f1f145ea/e4006ae7-ec10-4581-a889-e421f1f145ea-32\n"
     ]
    },
    {
     "name": "stderr",
     "output_type": "stream",
     "text": [
      " 13%|█▎        | 1599/12000 [02:06<13:31, 12.81it/s]"
     ]
    },
    {
     "name": "stdout",
     "output_type": "stream",
     "text": [
      "Step 1600: average-batch loss:3290.4243378819356 rel loss: 0.054109442526335455\n",
      "Saved a checkpoint: /tmp/tfcheckpoints/e4006ae7-ec10-4581-a889-e421f1f145ea/e4006ae7-ec10-4581-a889-e421f1f145ea-33\n"
     ]
    },
    {
     "name": "stderr",
     "output_type": "stream",
     "text": [
      " 14%|█▎        | 1649/12000 [02:10<13:27, 12.82it/s]"
     ]
    },
    {
     "name": "stdout",
     "output_type": "stream",
     "text": [
      "Step 1650: average-batch loss:3118.0956416130616 rel loss: 0.05526729006289378\n",
      "Saved a checkpoint: /tmp/tfcheckpoints/e4006ae7-ec10-4581-a889-e421f1f145ea/e4006ae7-ec10-4581-a889-e421f1f145ea-34\n"
     ]
    },
    {
     "name": "stderr",
     "output_type": "stream",
     "text": [
      " 14%|█▍        | 1699/12000 [02:14<13:18, 12.91it/s]"
     ]
    },
    {
     "name": "stdout",
     "output_type": "stream",
     "text": [
      "Step 1700: average-batch loss:2942.600211349475 rel loss: 0.05963957644898842\n",
      "Saved a checkpoint: /tmp/tfcheckpoints/e4006ae7-ec10-4581-a889-e421f1f145ea/e4006ae7-ec10-4581-a889-e421f1f145ea-35\n"
     ]
    },
    {
     "name": "stderr",
     "output_type": "stream",
     "text": [
      " 15%|█▍        | 1749/12000 [02:17<13:33, 12.61it/s]"
     ]
    },
    {
     "name": "stdout",
     "output_type": "stream",
     "text": [
      "Step 1750: average-batch loss:2771.8709105639145 rel loss: 0.06159352520165778\n",
      "Saved a checkpoint: /tmp/tfcheckpoints/e4006ae7-ec10-4581-a889-e421f1f145ea/e4006ae7-ec10-4581-a889-e421f1f145ea-36\n"
     ]
    },
    {
     "name": "stderr",
     "output_type": "stream",
     "text": [
      " 15%|█▍        | 1799/12000 [02:21<13:29, 12.61it/s]"
     ]
    },
    {
     "name": "stdout",
     "output_type": "stream",
     "text": [
      "Step 1800: average-batch loss:2605.21877741736 rel loss: 0.06396857515043802\n",
      "Saved a checkpoint: /tmp/tfcheckpoints/e4006ae7-ec10-4581-a889-e421f1f145ea/e4006ae7-ec10-4581-a889-e421f1f145ea-37\n"
     ]
    },
    {
     "name": "stderr",
     "output_type": "stream",
     "text": [
      " 15%|█▌        | 1849/12000 [02:25<13:27, 12.58it/s]"
     ]
    },
    {
     "name": "stdout",
     "output_type": "stream",
     "text": [
      "Step 1850: average-batch loss:2439.8567780807225 rel loss: 0.06777528944412753\n",
      "Saved a checkpoint: /tmp/tfcheckpoints/e4006ae7-ec10-4581-a889-e421f1f145ea/e4006ae7-ec10-4581-a889-e421f1f145ea-38\n"
     ]
    },
    {
     "name": "stderr",
     "output_type": "stream",
     "text": [
      " 16%|█▌        | 1899/12000 [02:29<13:46, 12.22it/s]"
     ]
    },
    {
     "name": "stdout",
     "output_type": "stream",
     "text": [
      "Step 1900: average-batch loss:2279.432223497978 rel loss: 0.07037917290497873\n",
      "Saved a checkpoint: /tmp/tfcheckpoints/e4006ae7-ec10-4581-a889-e421f1f145ea/e4006ae7-ec10-4581-a889-e421f1f145ea-39\n"
     ]
    },
    {
     "name": "stderr",
     "output_type": "stream",
     "text": [
      " 16%|█▌        | 1949/12000 [02:33<13:03, 12.82it/s]"
     ]
    },
    {
     "name": "stdout",
     "output_type": "stream",
     "text": [
      "Step 1950: average-batch loss:2124.0416803601233 rel loss: 0.07315795380790688\n",
      "Saved a checkpoint: /tmp/tfcheckpoints/e4006ae7-ec10-4581-a889-e421f1f145ea/e4006ae7-ec10-4581-a889-e421f1f145ea-40\n"
     ]
    },
    {
     "name": "stderr",
     "output_type": "stream",
     "text": [
      " 17%|█▋        | 1999/12000 [02:37<13:07, 12.70it/s]"
     ]
    },
    {
     "name": "stdout",
     "output_type": "stream",
     "text": [
      "Step 2000: average-batch loss:1968.0271845546288 rel loss: 0.07927456339522118\n",
      "Saved a checkpoint: /tmp/tfcheckpoints/e4006ae7-ec10-4581-a889-e421f1f145ea/e4006ae7-ec10-4581-a889-e421f1f145ea-41\n"
     ]
    },
    {
     "name": "stderr",
     "output_type": "stream",
     "text": [
      " 17%|█▋        | 2049/12000 [02:41<12:47, 12.96it/s]"
     ]
    },
    {
     "name": "stdout",
     "output_type": "stream",
     "text": [
      "Step 2050: average-batch loss:1820.496734782346 rel loss: 0.08103856873433014\n",
      "Saved a checkpoint: /tmp/tfcheckpoints/e4006ae7-ec10-4581-a889-e421f1f145ea/e4006ae7-ec10-4581-a889-e421f1f145ea-42\n"
     ]
    },
    {
     "name": "stderr",
     "output_type": "stream",
     "text": [
      " 17%|█▋        | 2099/12000 [02:45<12:47, 12.90it/s]"
     ]
    },
    {
     "name": "stdout",
     "output_type": "stream",
     "text": [
      "Step 2100: average-batch loss:1681.962231992923 rel loss: 0.08236481185744357\n",
      "Saved a checkpoint: /tmp/tfcheckpoints/e4006ae7-ec10-4581-a889-e421f1f145ea/e4006ae7-ec10-4581-a889-e421f1f145ea-43\n"
     ]
    },
    {
     "name": "stderr",
     "output_type": "stream",
     "text": [
      " 18%|█▊        | 2149/12000 [02:49<12:48, 12.82it/s]"
     ]
    },
    {
     "name": "stdout",
     "output_type": "stream",
     "text": [
      "Step 2150: average-batch loss:1537.424246360206 rel loss: 0.0940130780263842\n",
      "Saved a checkpoint: /tmp/tfcheckpoints/e4006ae7-ec10-4581-a889-e421f1f145ea/e4006ae7-ec10-4581-a889-e421f1f145ea-44\n"
     ]
    },
    {
     "name": "stderr",
     "output_type": "stream",
     "text": [
      " 18%|█▊        | 2199/12000 [02:53<12:45, 12.80it/s]"
     ]
    },
    {
     "name": "stdout",
     "output_type": "stream",
     "text": [
      "Step 2200: average-batch loss:1405.02468153979 rel loss: 0.09423291032533124\n",
      "Saved a checkpoint: /tmp/tfcheckpoints/e4006ae7-ec10-4581-a889-e421f1f145ea/e4006ae7-ec10-4581-a889-e421f1f145ea-45\n"
     ]
    },
    {
     "name": "stderr",
     "output_type": "stream",
     "text": [
      " 19%|█▊        | 2249/12000 [02:57<12:40, 12.82it/s]"
     ]
    },
    {
     "name": "stdout",
     "output_type": "stream",
     "text": [
      "Step 2250: average-batch loss:1276.6052235357683 rel loss: 0.10059449517866048\n",
      "Saved a checkpoint: /tmp/tfcheckpoints/e4006ae7-ec10-4581-a889-e421f1f145ea/e4006ae7-ec10-4581-a889-e421f1f145ea-46\n"
     ]
    },
    {
     "name": "stderr",
     "output_type": "stream",
     "text": [
      " 19%|█▉        | 2299/12000 [03:01<12:41, 12.73it/s]"
     ]
    },
    {
     "name": "stdout",
     "output_type": "stream",
     "text": [
      "Step 2300: average-batch loss:1156.4222423457334 rel loss: 0.10392655622590845\n",
      "Saved a checkpoint: /tmp/tfcheckpoints/e4006ae7-ec10-4581-a889-e421f1f145ea/e4006ae7-ec10-4581-a889-e421f1f145ea-47\n"
     ]
    },
    {
     "name": "stderr",
     "output_type": "stream",
     "text": [
      " 20%|█▉        | 2349/12000 [03:05<12:23, 12.98it/s]"
     ]
    },
    {
     "name": "stdout",
     "output_type": "stream",
     "text": [
      "Step 2350: average-batch loss:1043.8181494595772 rel loss: 0.10787711723967959\n",
      "Saved a checkpoint: /tmp/tfcheckpoints/e4006ae7-ec10-4581-a889-e421f1f145ea/e4006ae7-ec10-4581-a889-e421f1f145ea-48\n"
     ]
    },
    {
     "name": "stderr",
     "output_type": "stream",
     "text": [
      " 20%|█▉        | 2399/12000 [03:09<12:34, 12.72it/s]"
     ]
    },
    {
     "name": "stdout",
     "output_type": "stream",
     "text": [
      "Step 2400: average-batch loss:941.2723622740729 rel loss: 0.10894379915475068\n",
      "Saved a checkpoint: /tmp/tfcheckpoints/e4006ae7-ec10-4581-a889-e421f1f145ea/e4006ae7-ec10-4581-a889-e421f1f145ea-49\n"
     ]
    },
    {
     "name": "stderr",
     "output_type": "stream",
     "text": [
      " 20%|██        | 2449/12000 [03:12<12:22, 12.87it/s]"
     ]
    },
    {
     "name": "stdout",
     "output_type": "stream",
     "text": [
      "Step 2450: average-batch loss:843.491741162099 rel loss: 0.11592362597084732\n",
      "Saved a checkpoint: /tmp/tfcheckpoints/e4006ae7-ec10-4581-a889-e421f1f145ea/e4006ae7-ec10-4581-a889-e421f1f145ea-50\n"
     ]
    },
    {
     "name": "stderr",
     "output_type": "stream",
     "text": [
      " 21%|██        | 2499/12000 [03:16<12:10, 13.01it/s]"
     ]
    },
    {
     "name": "stdout",
     "output_type": "stream",
     "text": [
      "Step 2500: average-batch loss:759.5580085763414 rel loss: 0.1105033870198757\n",
      "Saved a checkpoint: /tmp/tfcheckpoints/e4006ae7-ec10-4581-a889-e421f1f145ea/e4006ae7-ec10-4581-a889-e421f1f145ea-51\n"
     ]
    },
    {
     "name": "stderr",
     "output_type": "stream",
     "text": [
      " 21%|██        | 2549/12000 [03:20<12:21, 12.75it/s]"
     ]
    },
    {
     "name": "stdout",
     "output_type": "stream",
     "text": [
      "Step 2550: average-batch loss:680.8115917850121 rel loss: 0.11566550531970972\n",
      "Saved a checkpoint: /tmp/tfcheckpoints/e4006ae7-ec10-4581-a889-e421f1f145ea/e4006ae7-ec10-4581-a889-e421f1f145ea-52\n"
     ]
    },
    {
     "name": "stderr",
     "output_type": "stream",
     "text": [
      " 22%|██▏       | 2599/12000 [03:24<12:12, 12.83it/s]"
     ]
    },
    {
     "name": "stdout",
     "output_type": "stream",
     "text": [
      "Step 2600: average-batch loss:605.7736477184546 rel loss: 0.12387125842990253\n",
      "Saved a checkpoint: /tmp/tfcheckpoints/e4006ae7-ec10-4581-a889-e421f1f145ea/e4006ae7-ec10-4581-a889-e421f1f145ea-53\n"
     ]
    },
    {
     "name": "stderr",
     "output_type": "stream",
     "text": [
      " 22%|██▏       | 2649/12000 [03:28<12:03, 12.93it/s]"
     ]
    },
    {
     "name": "stdout",
     "output_type": "stream",
     "text": [
      "Step 2650: average-batch loss:542.2621530309057 rel loss: 0.11712322966402784\n",
      "Saved a checkpoint: /tmp/tfcheckpoints/e4006ae7-ec10-4581-a889-e421f1f145ea/e4006ae7-ec10-4581-a889-e421f1f145ea-54\n"
     ]
    },
    {
     "name": "stderr",
     "output_type": "stream",
     "text": [
      " 22%|██▏       | 2699/12000 [03:32<12:15, 12.64it/s]"
     ]
    },
    {
     "name": "stdout",
     "output_type": "stream",
     "text": [
      "Step 2700: average-batch loss:483.7034861872344 rel loss: 0.12106314822176846\n",
      "Saved a checkpoint: /tmp/tfcheckpoints/e4006ae7-ec10-4581-a889-e421f1f145ea/e4006ae7-ec10-4581-a889-e421f1f145ea-55\n"
     ]
    },
    {
     "name": "stderr",
     "output_type": "stream",
     "text": [
      " 23%|██▎       | 2749/12000 [03:36<12:05, 12.75it/s]"
     ]
    },
    {
     "name": "stdout",
     "output_type": "stream",
     "text": [
      "Step 2750: average-batch loss:424.48534938220337 rel loss: 0.13950572591307844\n",
      "Saved a checkpoint: /tmp/tfcheckpoints/e4006ae7-ec10-4581-a889-e421f1f145ea/e4006ae7-ec10-4581-a889-e421f1f145ea-56\n"
     ]
    },
    {
     "name": "stderr",
     "output_type": "stream",
     "text": [
      " 23%|██▎       | 2799/12000 [03:40<11:50, 12.95it/s]"
     ]
    },
    {
     "name": "stdout",
     "output_type": "stream",
     "text": [
      "Step 2800: average-batch loss:379.4586323492435 rel loss: 0.11866041036989378\n",
      "Saved a checkpoint: /tmp/tfcheckpoints/e4006ae7-ec10-4581-a889-e421f1f145ea/e4006ae7-ec10-4581-a889-e421f1f145ea-57\n"
     ]
    },
    {
     "name": "stderr",
     "output_type": "stream",
     "text": [
      " 24%|██▎       | 2849/12000 [03:44<11:51, 12.87it/s]"
     ]
    },
    {
     "name": "stdout",
     "output_type": "stream",
     "text": [
      "Step 2850: average-batch loss:335.26983898538913 rel loss: 0.13180068179583573\n",
      "Saved a checkpoint: /tmp/tfcheckpoints/e4006ae7-ec10-4581-a889-e421f1f145ea/e4006ae7-ec10-4581-a889-e421f1f145ea-58\n"
     ]
    },
    {
     "name": "stderr",
     "output_type": "stream",
     "text": [
      " 24%|██▍       | 2899/12000 [03:48<11:47, 12.87it/s]"
     ]
    },
    {
     "name": "stdout",
     "output_type": "stream",
     "text": [
      "Step 2900: average-batch loss:298.50686968308 rel loss: 0.12315619182010705\n",
      "Saved a checkpoint: /tmp/tfcheckpoints/e4006ae7-ec10-4581-a889-e421f1f145ea/e4006ae7-ec10-4581-a889-e421f1f145ea-59\n"
     ]
    },
    {
     "name": "stderr",
     "output_type": "stream",
     "text": [
      " 25%|██▍       | 2949/12000 [03:52<11:47, 12.80it/s]"
     ]
    },
    {
     "name": "stdout",
     "output_type": "stream",
     "text": [
      "Step 2950: average-batch loss:259.87248411882484 rel loss: 0.14866670357678147\n",
      "Saved a checkpoint: /tmp/tfcheckpoints/e4006ae7-ec10-4581-a889-e421f1f145ea/e4006ae7-ec10-4581-a889-e421f1f145ea-60\n"
     ]
    },
    {
     "name": "stderr",
     "output_type": "stream",
     "text": [
      " 25%|██▍       | 2999/12000 [03:56<11:46, 12.74it/s]"
     ]
    },
    {
     "name": "stdout",
     "output_type": "stream",
     "text": [
      "Step 3000: average-batch loss:228.80293496335182 rel loss: 0.13579174218394335\n",
      "Saved a checkpoint: /tmp/tfcheckpoints/e4006ae7-ec10-4581-a889-e421f1f145ea/e4006ae7-ec10-4581-a889-e421f1f145ea-61\n"
     ]
    },
    {
     "name": "stderr",
     "output_type": "stream",
     "text": [
      " 25%|██▌       | 3049/12000 [04:00<11:47, 12.66it/s]"
     ]
    },
    {
     "name": "stdout",
     "output_type": "stream",
     "text": [
      "Step 3050: average-batch loss:202.12797906833487 rel loss: 0.13197062582809851\n",
      "Saved a checkpoint: /tmp/tfcheckpoints/e4006ae7-ec10-4581-a889-e421f1f145ea/e4006ae7-ec10-4581-a889-e421f1f145ea-62\n"
     ]
    },
    {
     "name": "stderr",
     "output_type": "stream",
     "text": [
      " 26%|██▌       | 3099/12000 [04:04<11:50, 12.52it/s]"
     ]
    },
    {
     "name": "stdout",
     "output_type": "stream",
     "text": [
      "Step 3100: average-batch loss:179.10712587746866 rel loss: 0.12853119650088798\n",
      "Saved a checkpoint: /tmp/tfcheckpoints/e4006ae7-ec10-4581-a889-e421f1f145ea/e4006ae7-ec10-4581-a889-e421f1f145ea-63\n"
     ]
    },
    {
     "name": "stderr",
     "output_type": "stream",
     "text": [
      " 26%|██▌       | 3149/12000 [04:08<11:51, 12.44it/s]"
     ]
    },
    {
     "name": "stdout",
     "output_type": "stream",
     "text": [
      "Step 3150: average-batch loss:160.18583089845478 rel loss: 0.11812090290937463\n",
      "Saved a checkpoint: /tmp/tfcheckpoints/e4006ae7-ec10-4581-a889-e421f1f145ea/e4006ae7-ec10-4581-a889-e421f1f145ea-64\n"
     ]
    },
    {
     "name": "stderr",
     "output_type": "stream",
     "text": [
      " 27%|██▋       | 3199/12000 [04:12<11:33, 12.69it/s]"
     ]
    },
    {
     "name": "stdout",
     "output_type": "stream",
     "text": [
      "Step 3200: average-batch loss:141.60013977411072 rel loss: 0.13125475125937805\n",
      "Saved a checkpoint: /tmp/tfcheckpoints/e4006ae7-ec10-4581-a889-e421f1f145ea/e4006ae7-ec10-4581-a889-e421f1f145ea-65\n"
     ]
    },
    {
     "name": "stderr",
     "output_type": "stream",
     "text": [
      " 27%|██▋       | 3249/12000 [04:15<11:21, 12.84it/s]"
     ]
    },
    {
     "name": "stdout",
     "output_type": "stream",
     "text": [
      "Step 3250: average-batch loss:123.69235282842409 rel loss: 0.14477683168115366\n",
      "Saved a checkpoint: /tmp/tfcheckpoints/e4006ae7-ec10-4581-a889-e421f1f145ea/e4006ae7-ec10-4581-a889-e421f1f145ea-66\n"
     ]
    },
    {
     "name": "stderr",
     "output_type": "stream",
     "text": [
      " 27%|██▋       | 3299/12000 [04:19<11:41, 12.41it/s]"
     ]
    },
    {
     "name": "stdout",
     "output_type": "stream",
     "text": [
      "Step 3300: average-batch loss:110.35786753791994 rel loss: 0.12082949397261868\n",
      "Saved a checkpoint: /tmp/tfcheckpoints/e4006ae7-ec10-4581-a889-e421f1f145ea/e4006ae7-ec10-4581-a889-e421f1f145ea-67\n"
     ]
    },
    {
     "name": "stderr",
     "output_type": "stream",
     "text": [
      " 28%|██▊       | 3349/12000 [04:23<11:31, 12.51it/s]"
     ]
    },
    {
     "name": "stdout",
     "output_type": "stream",
     "text": [
      "Step 3350: average-batch loss:98.49705297588167 rel loss: 0.12041796382418214\n",
      "Saved a checkpoint: /tmp/tfcheckpoints/e4006ae7-ec10-4581-a889-e421f1f145ea/e4006ae7-ec10-4581-a889-e421f1f145ea-68\n"
     ]
    },
    {
     "name": "stderr",
     "output_type": "stream",
     "text": [
      " 28%|██▊       | 3399/12000 [04:27<11:07, 12.88it/s]"
     ]
    },
    {
     "name": "stdout",
     "output_type": "stream",
     "text": [
      "Step 3400: average-batch loss:87.38708399275701 rel loss: 0.1271351380032946\n",
      "Saved a checkpoint: /tmp/tfcheckpoints/e4006ae7-ec10-4581-a889-e421f1f145ea/e4006ae7-ec10-4581-a889-e421f1f145ea-69\n"
     ]
    },
    {
     "name": "stderr",
     "output_type": "stream",
     "text": [
      " 29%|██▊       | 3449/12000 [04:31<11:27, 12.45it/s]"
     ]
    },
    {
     "name": "stdout",
     "output_type": "stream",
     "text": [
      "Step 3450: average-batch loss:80.35562634563752 rel loss: 0.08750423544550258\n",
      "Saved a checkpoint: /tmp/tfcheckpoints/e4006ae7-ec10-4581-a889-e421f1f145ea/e4006ae7-ec10-4581-a889-e421f1f145ea-70\n"
     ]
    },
    {
     "name": "stderr",
     "output_type": "stream",
     "text": [
      " 29%|██▉       | 3499/12000 [04:35<11:20, 12.50it/s]"
     ]
    },
    {
     "name": "stdout",
     "output_type": "stream",
     "text": [
      "Step 3500: average-batch loss:73.61974358882685 rel loss: 0.09149560197372056\n",
      "Saved a checkpoint: /tmp/tfcheckpoints/e4006ae7-ec10-4581-a889-e421f1f145ea/e4006ae7-ec10-4581-a889-e421f1f145ea-71\n"
     ]
    },
    {
     "name": "stderr",
     "output_type": "stream",
     "text": [
      " 30%|██▉       | 3549/12000 [04:39<10:56, 12.87it/s]"
     ]
    },
    {
     "name": "stdout",
     "output_type": "stream",
     "text": [
      "Step 3550: average-batch loss:66.98580322875613 rel loss: 0.09903501996409383\n",
      "Saved a checkpoint: /tmp/tfcheckpoints/e4006ae7-ec10-4581-a889-e421f1f145ea/e4006ae7-ec10-4581-a889-e421f1f145ea-72\n"
     ]
    },
    {
     "name": "stderr",
     "output_type": "stream",
     "text": [
      " 30%|██▉       | 3599/12000 [04:43<10:45, 13.02it/s]"
     ]
    },
    {
     "name": "stdout",
     "output_type": "stream",
     "text": [
      "Step 3600: average-batch loss:62.16172830127535 rel loss: 0.07760522526175963\n",
      "Saved a checkpoint: /tmp/tfcheckpoints/e4006ae7-ec10-4581-a889-e421f1f145ea/e4006ae7-ec10-4581-a889-e421f1f145ea-73\n"
     ]
    },
    {
     "name": "stderr",
     "output_type": "stream",
     "text": [
      " 30%|███       | 3649/12000 [04:47<10:44, 12.95it/s]"
     ]
    },
    {
     "name": "stdout",
     "output_type": "stream",
     "text": [
      "Step 3650: average-batch loss:56.96066365099125 rel loss: 0.09130976215712669\n",
      "Saved a checkpoint: /tmp/tfcheckpoints/e4006ae7-ec10-4581-a889-e421f1f145ea/e4006ae7-ec10-4581-a889-e421f1f145ea-74\n"
     ]
    },
    {
     "name": "stderr",
     "output_type": "stream",
     "text": [
      " 31%|███       | 3699/12000 [04:51<10:43, 12.89it/s]"
     ]
    },
    {
     "name": "stdout",
     "output_type": "stream",
     "text": [
      "Step 3700: average-batch loss:53.37173101172713 rel loss: 0.06724407417993511\n",
      "Saved a checkpoint: /tmp/tfcheckpoints/e4006ae7-ec10-4581-a889-e421f1f145ea/e4006ae7-ec10-4581-a889-e421f1f145ea-75\n"
     ]
    },
    {
     "name": "stderr",
     "output_type": "stream",
     "text": [
      " 31%|███       | 3749/12000 [04:55<10:36, 12.95it/s]"
     ]
    },
    {
     "name": "stdout",
     "output_type": "stream",
     "text": [
      "Step 3750: average-batch loss:50.95666296628513 rel loss: 0.04739454871760145\n",
      "Saved a checkpoint: /tmp/tfcheckpoints/e4006ae7-ec10-4581-a889-e421f1f145ea/e4006ae7-ec10-4581-a889-e421f1f145ea-76\n"
     ]
    },
    {
     "name": "stderr",
     "output_type": "stream",
     "text": [
      " 32%|███▏      | 3799/12000 [04:59<10:45, 12.70it/s]"
     ]
    },
    {
     "name": "stdout",
     "output_type": "stream",
     "text": [
      "Step 3800: average-batch loss:47.706915027581346 rel loss: 0.06811901244976688\n",
      "Saved a checkpoint: /tmp/tfcheckpoints/e4006ae7-ec10-4581-a889-e421f1f145ea/e4006ae7-ec10-4581-a889-e421f1f145ea-77\n"
     ]
    },
    {
     "name": "stderr",
     "output_type": "stream",
     "text": [
      " 32%|███▏      | 3849/12000 [05:03<10:35, 12.82it/s]"
     ]
    },
    {
     "name": "stdout",
     "output_type": "stream",
     "text": [
      "Step 3850: average-batch loss:46.28982945425493 rel loss: 0.030613324568992555\n",
      "Saved a checkpoint: /tmp/tfcheckpoints/e4006ae7-ec10-4581-a889-e421f1f145ea/e4006ae7-ec10-4581-a889-e421f1f145ea-78\n"
     ]
    },
    {
     "name": "stderr",
     "output_type": "stream",
     "text": [
      " 32%|███▏      | 3899/12000 [05:07<10:16, 13.14it/s]"
     ]
    },
    {
     "name": "stdout",
     "output_type": "stream",
     "text": [
      "Step 3900: average-batch loss:44.25508159668513 rel loss: 0.045977722425489954\n",
      "Saved a checkpoint: /tmp/tfcheckpoints/e4006ae7-ec10-4581-a889-e421f1f145ea/e4006ae7-ec10-4581-a889-e421f1f145ea-79\n"
     ]
    },
    {
     "name": "stderr",
     "output_type": "stream",
     "text": [
      " 33%|███▎      | 3949/12000 [05:10<10:32, 12.73it/s]"
     ]
    },
    {
     "name": "stdout",
     "output_type": "stream",
     "text": [
      "Step 3950: average-batch loss:43.92252293787689 rel loss: 0.007571483525174609\n",
      "Saved a checkpoint: /tmp/tfcheckpoints/e4006ae7-ec10-4581-a889-e421f1f145ea/e4006ae7-ec10-4581-a889-e421f1f145ea-80\n"
     ]
    },
    {
     "name": "stderr",
     "output_type": "stream",
     "text": [
      " 33%|███▎      | 3999/12000 [05:14<10:24, 12.81it/s]"
     ]
    },
    {
     "name": "stdout",
     "output_type": "stream",
     "text": [
      "Step 4000: average-batch loss:42.86292617649595 rel loss: 0.024720588534199957\n",
      "Saved a checkpoint: /tmp/tfcheckpoints/e4006ae7-ec10-4581-a889-e421f1f145ea/e4006ae7-ec10-4581-a889-e421f1f145ea-81\n"
     ]
    },
    {
     "name": "stderr",
     "output_type": "stream",
     "text": [
      " 34%|███▎      | 4049/12000 [05:18<10:11, 13.01it/s]"
     ]
    },
    {
     "name": "stdout",
     "output_type": "stream",
     "text": [
      "Step 4050: average-batch loss:42.29073860623779 rel loss: 0.013529855214535367\n",
      "Saved a checkpoint: /tmp/tfcheckpoints/e4006ae7-ec10-4581-a889-e421f1f145ea/e4006ae7-ec10-4581-a889-e421f1f145ea-82\n"
     ]
    },
    {
     "name": "stderr",
     "output_type": "stream",
     "text": [
      " 34%|███▍      | 4099/12000 [05:22<10:35, 12.44it/s]"
     ]
    },
    {
     "name": "stdout",
     "output_type": "stream",
     "text": [
      "Step 4100: average-batch loss:41.66691592524757 rel loss: 0.014971654780242996\n",
      "Saved a checkpoint: /tmp/tfcheckpoints/e4006ae7-ec10-4581-a889-e421f1f145ea/e4006ae7-ec10-4581-a889-e421f1f145ea-83\n"
     ]
    },
    {
     "name": "stderr",
     "output_type": "stream",
     "text": [
      " 35%|███▍      | 4149/12000 [05:26<10:11, 12.83it/s]"
     ]
    },
    {
     "name": "stdout",
     "output_type": "stream",
     "text": [
      "Step 4150: average-batch loss:41.056873999613785 rel loss: 0.014858460136042646\n",
      "Saved a checkpoint: /tmp/tfcheckpoints/e4006ae7-ec10-4581-a889-e421f1f145ea/e4006ae7-ec10-4581-a889-e421f1f145ea-84\n"
     ]
    },
    {
     "name": "stderr",
     "output_type": "stream",
     "text": [
      " 35%|███▍      | 4199/12000 [05:30<10:08, 12.83it/s]"
     ]
    },
    {
     "name": "stdout",
     "output_type": "stream",
     "text": [
      "Step 4200: average-batch loss:40.430971570656055 rel loss: 0.015480766467951922\n",
      "Saved a checkpoint: /tmp/tfcheckpoints/e4006ae7-ec10-4581-a889-e421f1f145ea/e4006ae7-ec10-4581-a889-e421f1f145ea-85\n"
     ]
    },
    {
     "name": "stderr",
     "output_type": "stream",
     "text": [
      " 35%|███▌      | 4249/12000 [05:34<10:21, 12.46it/s]"
     ]
    },
    {
     "name": "stdout",
     "output_type": "stream",
     "text": [
      "Step 4250: average-batch loss:40.57581746412468 rel loss: 0.0035697590959613674\n",
      "New learning rate: 0.0009000000000000001\n"
     ]
    },
    {
     "name": "stderr",
     "output_type": "stream",
     "text": [
      " 36%|███▌      | 4299/12000 [05:38<10:04, 12.74it/s]"
     ]
    },
    {
     "name": "stdout",
     "output_type": "stream",
     "text": [
      "Step 4300: average-batch loss:40.00910020346109 rel loss: 0.010544385278588999\n",
      "Saved a checkpoint: /tmp/tfcheckpoints/e4006ae7-ec10-4581-a889-e421f1f145ea/e4006ae7-ec10-4581-a889-e421f1f145ea-86\n"
     ]
    },
    {
     "name": "stderr",
     "output_type": "stream",
     "text": [
      " 36%|███▌      | 4349/12000 [05:42<09:57, 12.82it/s]"
     ]
    },
    {
     "name": "stdout",
     "output_type": "stream",
     "text": [
      "Step 4350: average-batch loss:39.71673226102054 rel loss: 0.0073613292382437474\n",
      "Saved a checkpoint: /tmp/tfcheckpoints/e4006ae7-ec10-4581-a889-e421f1f145ea/e4006ae7-ec10-4581-a889-e421f1f145ea-87\n"
     ]
    },
    {
     "name": "stderr",
     "output_type": "stream",
     "text": [
      " 37%|███▋      | 4399/12000 [05:46<09:53, 12.80it/s]"
     ]
    },
    {
     "name": "stdout",
     "output_type": "stream",
     "text": [
      "Step 4400: average-batch loss:39.25650085129754 rel loss: 0.011723699253439414\n",
      "Saved a checkpoint: /tmp/tfcheckpoints/e4006ae7-ec10-4581-a889-e421f1f145ea/e4006ae7-ec10-4581-a889-e421f1f145ea-88\n"
     ]
    },
    {
     "name": "stderr",
     "output_type": "stream",
     "text": [
      " 37%|███▋      | 4449/12000 [05:50<09:46, 12.87it/s]"
     ]
    },
    {
     "name": "stdout",
     "output_type": "stream",
     "text": [
      "Step 4450: average-batch loss:39.63133294204862 rel loss: 0.009457973348996035\n",
      "New learning rate: 0.0008100000000000001\n"
     ]
    },
    {
     "name": "stderr",
     "output_type": "stream",
     "text": [
      " 37%|███▋      | 4499/12000 [05:54<09:52, 12.66it/s]"
     ]
    },
    {
     "name": "stdout",
     "output_type": "stream",
     "text": [
      "Step 4500: average-batch loss:40.06205051545734 rel loss: 0.020107549508704983\n",
      "New learning rate: 0.0007290000000000002\n"
     ]
    },
    {
     "name": "stderr",
     "output_type": "stream",
     "text": [
      " 38%|███▊      | 4549/12000 [05:58<09:41, 12.81it/s]"
     ]
    },
    {
     "name": "stdout",
     "output_type": "stream",
     "text": [
      "Step 4550: average-batch loss:39.499478993780386 rel loss: 0.006151426516818289\n",
      "New learning rate: 0.0006561000000000001\n"
     ]
    },
    {
     "name": "stderr",
     "output_type": "stream",
     "text": [
      " 38%|███▊      | 4599/12000 [06:02<09:45, 12.65it/s]"
     ]
    },
    {
     "name": "stdout",
     "output_type": "stream",
     "text": [
      "Step 4600: average-batch loss:39.09465978954677 rel loss: 0.0041397229857476365\n",
      "Saved a checkpoint: /tmp/tfcheckpoints/e4006ae7-ec10-4581-a889-e421f1f145ea/e4006ae7-ec10-4581-a889-e421f1f145ea-89\n"
     ]
    },
    {
     "name": "stderr",
     "output_type": "stream",
     "text": [
      " 39%|███▊      | 4649/12000 [06:05<09:43, 12.60it/s]"
     ]
    },
    {
     "name": "stdout",
     "output_type": "stream",
     "text": [
      "Step 4650: average-batch loss:38.97446043247602 rel loss: 0.003084054422741616\n",
      "Saved a checkpoint: /tmp/tfcheckpoints/e4006ae7-ec10-4581-a889-e421f1f145ea/e4006ae7-ec10-4581-a889-e421f1f145ea-90\n"
     ]
    },
    {
     "name": "stderr",
     "output_type": "stream",
     "text": [
      " 39%|███▉      | 4699/12000 [06:09<09:22, 12.99it/s]"
     ]
    },
    {
     "name": "stdout",
     "output_type": "stream",
     "text": [
      "Step 4700: average-batch loss:39.20876938143175 rel loss: 0.00597593223792153\n",
      "New learning rate: 0.00059049\n"
     ]
    },
    {
     "name": "stderr",
     "output_type": "stream",
     "text": [
      " 40%|███▉      | 4749/12000 [06:13<09:28, 12.76it/s]"
     ]
    },
    {
     "name": "stdout",
     "output_type": "stream",
     "text": [
      "Step 4750: average-batch loss:39.281168551353346 rel loss: 0.007808019216036216\n",
      "New learning rate: 0.000531441\n"
     ]
    },
    {
     "name": "stderr",
     "output_type": "stream",
     "text": [
      " 40%|███▉      | 4799/12000 [06:17<09:28, 12.66it/s]"
     ]
    },
    {
     "name": "stdout",
     "output_type": "stream",
     "text": [
      "Step 4800: average-batch loss:40.00001307761218 rel loss: 0.02563880774604436\n",
      "New learning rate: 0.0004782969000000001\n"
     ]
    },
    {
     "name": "stderr",
     "output_type": "stream",
     "text": [
      " 40%|████      | 4849/12000 [06:21<09:13, 12.92it/s]"
     ]
    },
    {
     "name": "stdout",
     "output_type": "stream",
     "text": [
      "Step 4850: average-batch loss:39.41463839542124 rel loss: 0.011167880281666005\n",
      "New learning rate: 0.0004304672100000001\n"
     ]
    },
    {
     "name": "stderr",
     "output_type": "stream",
     "text": [
      " 41%|████      | 4899/12000 [06:25<09:12, 12.84it/s]"
     ]
    },
    {
     "name": "stdout",
     "output_type": "stream",
     "text": [
      "Step 4900: average-batch loss:38.97841348732467 rel loss: 0.00010141651480855006\n",
      "New learning rate: 0.0003874204890000001\n",
      "We are in a loss plateau\n",
      "Restoring from a checkpoint\n"
     ]
    },
    {
     "name": "stderr",
     "output_type": "stream",
     "text": [
      " 41%|████      | 4949/12000 [06:29<09:04, 12.94it/s]"
     ]
    },
    {
     "name": "stdout",
     "output_type": "stream",
     "text": [
      "Step 4950: average-batch loss:39.48327639868073 rel loss: 0.012886872940000208\n",
      "New learning rate: 0.0003486784401000001\n",
      "We are in a loss plateau\n",
      "Restoring from a checkpoint\n"
     ]
    },
    {
     "name": "stderr",
     "output_type": "stream",
     "text": [
      " 42%|████▏     | 4999/12000 [06:33<08:57, 13.03it/s]"
     ]
    },
    {
     "name": "stdout",
     "output_type": "stream",
     "text": [
      "Step 5000: average-batch loss:39.68305129065318 rel loss: 0.017856259413803185\n"
     ]
    },
    {
     "name": "stderr",
     "output_type": "stream",
     "text": []
    },
    {
     "name": "stdout",
     "output_type": "stream",
     "text": [
      "Terminating because the loss converged\n"
     ]
    },
    {
     "name": "stderr",
     "output_type": "stream",
     "text": [
      " 42%|████▏     | 5000/12000 [06:33<09:10, 12.71it/s]\n"
     ]
    }
   ],
   "source": [
    "\n",
    "losses = lr_model2.fit(\n",
    "    data_factory_factory(shuffle=True, repeat=True),\n",
    "    dataset_size=N,\n",
    "    batches_per_step=9,\n",
    "    check_every=int(N/batch_size)*50,\n",
    "    batch_size=batch_size,\n",
    "    num_steps=12000,\n",
    "    max_decay_steps=10,\n",
    "    max_plateau_epochs=100,\n",
    "    sample_size=36,\n",
    "    learning_rate=0.001,\n",
    "    lr_decay_factor=0.9\n",
    "    )\n",
    "\n"
   ]
  },
  {
   "cell_type": "code",
   "execution_count": 50,
   "metadata": {},
   "outputs": [
    {
     "data": {
      "text/plain": [
       "{'w_1': TensorShape([5, 3, 1]),\n",
       " 'w_0': TensorShape([5, 1536, 3]),\n",
       " 'b_1': TensorShape([5, 1]),\n",
       " 'b_0': TensorShape([5, 3])}"
      ]
     },
     "execution_count": 50,
     "metadata": {},
     "output_type": "execute_result"
    }
   ],
   "source": [
    "p_ = lr_model2.sample(5)\n",
    "{k: p.shape for k, p in p_.items()}"
   ]
  },
  {
   "cell_type": "code",
   "execution_count": 51,
   "metadata": {},
   "outputs": [
    {
     "name": "stderr",
     "output_type": "stream",
     "text": [
      "100%|██████████| 1/1 [04:15<00:00, 255.35s/it]"
     ]
    },
    {
     "name": "stdout",
     "output_type": "stream",
     "text": [
      "{1000: {1: {'I0': [16, 26, 27, 33, 36, 41, 43, 50], 'I': [], 'KL': [], 'Var': [], 'MM1': [], 'MM2': []}, 0.25: {'I0': [16, 26, 27, 33, 36, 41, 43, 50], 'I': [], 'KL': [], 'Var': [], 'MM1': [2, 6, 7, 11, 17, 18, 24, 34, 39, 40, 42, 53], 'MM2': [6, 7, 11, 18, 40, 53]}, 0.0625: {'I0': [16, 26, 27, 33, 36, 41, 43, 50], 'I': [], 'KL': [], 'Var': [], 'MM1': [2, 3, 5, 6, 7, 8, 9, 10, 11, 14, 17, 18, 19, 20, 21, 22, 24, 25, 28, 30, 32, 34, 35, 38, 39, 40, 42, 45, 51, 53], 'MM2': [2, 3, 4, 5, 6, 7, 9, 10, 11, 14, 17, 18, 19, 21, 22, 24, 25, 28, 31, 32, 34, 38, 39, 40, 42, 51, 53]}, 0.015625: {'I0': [16, 26, 27, 33, 36, 41, 43, 50], 'I': [], 'KL': [], 'Var': [], 'MM1': [0, 2, 3, 5, 6, 7, 8, 9, 10, 11, 12, 13, 14, 17, 18, 19, 20, 21, 22, 24, 28, 30, 32, 34, 37, 38, 39, 40, 42, 45, 47, 48, 49, 52, 53], 'MM2': [0, 2, 3, 4, 5, 6, 7, 8, 9, 10, 11, 13, 14, 17, 18, 19, 20, 21, 22, 24, 28, 30, 32, 34, 37, 38, 39, 40, 42, 44, 45, 47, 48, 49, 52, 53]}, 0.00390625: {'I0': [16, 26, 27, 33, 36, 41, 43, 50], 'I': [], 'KL': [], 'Var': [], 'MM1': [3, 32, 42, 45, 48], 'MM2': [0, 3, 6, 10, 14, 21, 24, 32, 40, 42, 44, 45, 48, 49, 53]}, 0.0009765625: {'I0': [16, 26, 27, 33, 36, 41, 43, 50], 'I': [], 'KL': [], 'Var': [], 'MM1': [42, 45], 'MM2': [6, 40, 42, 45, 48]}, 0.000244140625: {'I0': [16, 26, 27, 33, 36, 41, 43, 50], 'I': [], 'KL': [], 'Var': [], 'MM1': [], 'MM2': [6, 40, 42]}, 6.103515625e-05: {'I0': [16, 26, 27, 33, 36, 41, 43, 50], 'I': [], 'KL': [], 'Var': [], 'MM1': [], 'MM2': [6, 40]}, 1.52587890625e-05: {'I0': [16, 26, 27, 33, 36, 41, 43, 50], 'I': [], 'KL': [], 'Var': [], 'MM1': [], 'MM2': [40]}}}\n"
     ]
    },
    {
     "name": "stderr",
     "output_type": "stream",
     "text": [
      "\n"
     ]
    }
   ],
   "source": [
    "base = 4\n",
    "h_vals = [4**-r for r in range(9)]\n",
    "\n",
    "loo_output = []\n",
    "\n",
    "for _ in tqdm(range(1)):\n",
    "    loo_khat_advi = {}\n",
    "    reduced_ndx_advi = {}\n",
    "    n_sample = [1000]\n",
    "    records_advi = []\n",
    "    for n_samples in n_sample:\n",
    "        reduced_ndx_advi[n_samples] = {}\n",
    "        # print(f\"Samples: {n_samples}\")\n",
    "        loo_khat_advi[n_samples] = {}\n",
    "        params_ = lr_model2.sample(n_samples)\n",
    "\n",
    "        for h in h_vals:\n",
    "            loo_khat_advi[n_samples][h] = {}\n",
    "            loo = adaptive_is_loo(lr_model2, batch, params_, h, variational=False)\n",
    "            reduced_ndx_advi[n_samples][h] = {}\n",
    "            # print(f\"rho={h}\\n\")\n",
    "            for T in [\"I0\", \"I\", \"KL\", \"Var\", \"MM1\", \"MM2\"]:\n",
    "                loo_khat_advi[n_samples][h][T] = np.array(loo[T][\"khat\"])\n",
    "\n",
    "                records_advi += [\n",
    "                    {\n",
    "                        \"h\": h,\n",
    "                        \"T\": T,\n",
    "                        \"S\": n_samples,\n",
    "                        \"khat\": loo[T][\"khat\"],\n",
    "                        \"p_psis\": loo[T][\"p_psis\"].numpy(),\n",
    "                        \"n>0.7\": (np.where((loo[T][\"khat\"] > 0.7))[0]).shape,\n",
    "                        \"ndx\": loo[T][\"ndx\"]\n",
    "                    }\n",
    "                ]\n",
    "                reduced_ndx_advi[n_samples][h][T] = [loo[T][\"ndx\"][k] for k in np.where((loo[T][\"khat\"] <= 0.7))[0]]\n",
    "                # print(reduced_ndx[n_samples][h])\n",
    "\n",
    "\n",
    "print(reduced_ndx_advi)"
   ]
  },
  {
   "cell_type": "code",
   "execution_count": 52,
   "metadata": {},
   "outputs": [],
   "source": [
    "df_advi = pd.DataFrame(records_advi)\n",
    "df_advi['rho_rank'] = np.emath.logn(base, df_advi['h']) \n",
    "\n",
    "I0_advi = df_advi.loc[(df_advi['S']==n_sample[-1]) & (df_advi['T']==\"I0\")]\n",
    "\n",
    "kl_advi = df_advi.loc[(df_advi['S']==n_sample[-1]) & (df_advi['T']==\"KL\")]\n",
    "var_advi = df_advi.loc[(df_advi['S']==n_sample[-1]) & (df_advi['T']==\"Var\")]\n",
    "ll_advi = df_advi.loc[(df_advi['S']==n_sample[-1]) & (df_advi['T']==\"LL\")]\n",
    "mm1_advi = df_advi.loc[(df_advi['S']==n_sample[-1]) & (df_advi['T']==\"MM1\")]\n",
    "I_advi = df_advi.loc[(df_advi['S']==n_sample[-1]) & (df_advi['T']==\"I\")]\n",
    "\n",
    "kl_advi = kl_advi.explode(['khat', 'ndx'])\n",
    "var_advi = var_advi.explode(['khat', 'ndx'])\n",
    "ll_advi = ll_advi.explode(['khat', 'ndx'])\n",
    "I_advi = I_advi.explode(['khat', 'ndx'])\n",
    "mm1_advi = mm1_advi.explode(['khat', 'ndx'])\n",
    "\n",
    "original_advi = I_advi[['khat', 'ndx']].drop_duplicates()\n"
   ]
  },
  {
   "cell_type": "code",
   "execution_count": 53,
   "metadata": {},
   "outputs": [],
   "source": [
    "df_advi_ = df_advi.explode(['khat', \"p_psis\", 'ndx'])[['ndx', 'p_psis', 'khat', 'T']]\n",
    "#df_ = df_[df_['p_psis']!=1]\n",
    "#df_ = df_[df_['p_psis']>1e-5]\n",
    "df_advi_ = df_advi_[df_advi_['T']!=\"MM2\"]\n",
    "\n",
    "df_advi_ = df_advi_.groupby(['ndx'])[['khat', 'p_psis']].min()\n",
    "\n",
    "pd.set_option('display.max_rows', 500)\n",
    "\n",
    "df_advi_ = df_advi_.reset_index()\n",
    "df_advi_['y'] = [y_.tolist()[i][0] for i in df_advi_['ndx'].values]"
   ]
  },
  {
   "cell_type": "code",
   "execution_count": 54,
   "metadata": {},
   "outputs": [],
   "source": [
    "fpr_advi, tpr_advi, thresholds_advi = metrics.roc_curve(df_advi_['y'], df_advi_.p_psis, pos_label=1)\n",
    "precision_advi, recall_advi, thresholds_pr_advi = metrics.precision_recall_curve(df_advi_['y'], df_advi_.p_psis)"
   ]
  },
  {
   "cell_type": "code",
   "execution_count": 55,
   "metadata": {},
   "outputs": [
    {
     "data": {
      "image/png": "[encoded data removed]",
      "text/plain": [
       "<Figure size 900x200 with 2 Axes>"
      ]
     },
     "metadata": {},
     "output_type": "display_data"
    }
   ],
   "source": [
    "fig, ax = plt.subplots(1, 2, figsize=(9, 2))\n",
    "ax[0].plot(fpr, tpr, linewidth=3, color=\"blue\")\n",
    "ax[0].text(0.5, 0.25, f\"MCMC-AUROC: {metrics.auc(fpr, tpr):.3f}\", color=\"blue\")\n",
    "\n",
    "ax[0].plot(fpr_advi, tpr_advi, color=\"red\")\n",
    "ax[0].text(0.5, 0.1, f\"ADVI-AUROC: {metrics.auc(fpr_advi, tpr_advi):.3f}\", color=\"red\")\n",
    "\n",
    "ax[0].set_xlim((0, 1))\n",
    "ax[0].set_ylim((0, 1))\n",
    "ax[0].set_title(\"ROC\")\n",
    "\n",
    "ax[1].plot(recall, precision, linewidth=3, color=\"blue\")\n",
    "ax[1].plot(recall_advi, precision_advi, color=\"red\")\n",
    "ax[1].text(0.5, 0.8, f\"MCMC-AUPRC: {metrics.auc(recall, precision):.3f}\", color=\"blue\")\n",
    "ax[1].text(0.5, 0.65, f\"ADVI-AUPRC: {metrics.auc(recall_advi, precision_advi):.3f}\", color=\"red\")\n",
    "ax[1].set_title(\"Precision-Recall\")\n",
    "ax[1].set_xlim((0, 1))\n",
    "ax[1].set_ylim((0, 1))\n",
    "\n",
    "_ = plt.savefig(\"roccurve_relu.pdf\", bbox_inches='tight')"
   ]
  },
  {
   "cell_type": "code",
   "execution_count": 56,
   "metadata": {},
   "outputs": [],
   "source": [
    "def powerset(iterable):\n",
    "    \"powerset([1,2,3]) --> () (1,) (2,) (3,) (1,2) (1,3) (2,3) (1,2,3)\"\n",
    "    s = list(iterable)  # allows duplicate elements\n",
    "    return chain.from_iterable(combinations(s, r) for r in range(len(s)+1))"
   ]
  },
  {
   "cell_type": "code",
   "execution_count": 57,
   "metadata": {},
   "outputs": [
    {
     "name": "stderr",
     "output_type": "stream",
     "text": [
      "  0%|          | 0/10 [00:00<?, ?it/s]"
     ]
    },
    {
     "name": "stderr",
     "output_type": "stream",
     "text": [
      "100%|██████████| 10/10 [25:49<00:00, 154.97s/it]\n"
     ]
    }
   ],
   "source": [
    "base = 4\n",
    "h_vals = [base**-r for r in range(-2, 8)]\n",
    "\n",
    "loo_output = []\n",
    "success = []\n",
    "\n",
    "for _ in tqdm(range(10)):\n",
    "    loo_khat = {}\n",
    "    reduced_ndx = {}\n",
    "    high_khat_ndx = {}\n",
    "    n_sample = [1000]\n",
    "    records = []\n",
    "    for n_samples in n_sample:\n",
    "        sample_ndx = np.random.choice(\n",
    "            range(params[\"b_0\"].shape[0]), size=n_samples, replace=False\n",
    "        )\n",
    "        reduced_ndx[n_samples] = {}\n",
    "        high_khat_ndx[n_samples] = {}\n",
    "        # print(f\"Samples: {n_samples}\")\n",
    "        loo_khat[n_samples] = {}\n",
    "\n",
    "        params_ = {k: v.numpy()[sample_ndx] for k, v in params.items()}\n",
    "\n",
    "        for h in h_vals:\n",
    "            loo_khat[n_samples][h] = {}\n",
    "            loo = adaptive_is_loo(nn_model, batch, params_, h, variational=False)\n",
    "            reduced_ndx[n_samples][h] = {}\n",
    "            # print(f\"rho={h}\\n\")\n",
    "            for T in [\"I0\", \"I\",  \"KL\", \"Var\", \"MM1\", \"MM2\"]:\n",
    "                loo_khat[n_samples][h][T] = np.array(loo[T][\"khat\"])\n",
    "\n",
    "                records += [\n",
    "                    {\n",
    "                        \"h\": h,\n",
    "                        \"T\": T,\n",
    "                        \"S\": n_samples,\n",
    "                        \"khat\": loo[T][\"khat\"],\n",
    "                        \"p_psis\": loo[T][\"p_psis\"].numpy(),\n",
    "                        \"n>0.7\": (np.where((loo[T][\"khat\"] > 0.7))[0]).shape,\n",
    "                        \"ndx\": loo[T][\"ndx\"],\n",
    "                    }\n",
    "                ]\n",
    "                reduced_ndx[n_samples][h][T] = [\n",
    "                    loo[T][\"ndx\"][k] for k in np.where((loo[T][\"khat\"] <= 0.7))[0]\n",
    "                ]\n",
    "                # print(reduced_ndx[n_samples][h])\n",
    "\n",
    "    df = pd.DataFrame(records)\n",
    "    df[\"rho_rank\"] = np.emath.logn(base, df[\"h\"])\n",
    "    __df__ = df.explode([\"khat\", \"ndx\"])[[\"ndx\", \"khat\", \"T\"]]\n",
    "\n",
    "    counts = {}\n",
    "    counts[\"n\"] = len(__df__[__df__[\"T\"] != \"I0\"].ndx.unique())\n",
    "    for T in transforms:\n",
    "        ___df__ = __df__.loc[(__df__[\"T\"] == T) & (__df__[\"khat\"] < 0.7)]\n",
    "        counts[T] = ___df__.groupby(\"ndx\").min().shape[0]\n",
    "    ___df__ = __df__.loc[\n",
    "        ((__df__[\"T\"] == \"KL\") | (__df__[\"T\"] == \"Var\")) & (__df__[\"khat\"] < 0.7)\n",
    "    ]\n",
    "    counts[(\"KL\", \"Var\")] = ___df__.groupby(\"ndx\").min().shape[0]\n",
    "    ___df__ = __df__.loc[\n",
    "        ((__df__[\"T\"] == \"MM1\") | (__df__[\"T\"] == \"MM2\") | (__df__[\"T\"] == \"LL\"))\n",
    "        & (__df__[\"khat\"] < 0.7)\n",
    "    ]\n",
    "    counts[(\"MM1\", \"MM2\")] = ___df__.groupby(\"ndx\").min().shape[0]\n",
    "    ___df__ = __df__.loc[\n",
    "        ((__df__[\"T\"] == \"MM1\") | (__df__[\"T\"] == \"MM2\") |  (__df__[\"T\"] == \"KL\") | (__df__[\"T\"] == \"Var\"))\n",
    "        & (__df__[\"khat\"] < 0.7)\n",
    "    ]\n",
    "    counts[(\"KL\", \"Var\", \"MM1\", \"MM2\")] = ___df__.groupby(\"ndx\").min().shape[0]\n",
    "    success += [counts]"
   ]
  },
  {
   "cell_type": "code",
   "execution_count": 58,
   "metadata": {},
   "outputs": [
    {
     "name": "stderr",
     "output_type": "stream",
     "text": [
      "/tmp/ipykernel_3064220/438181115.py:3: RuntimeWarning: '<' not supported between instances of 'int' and 'tuple', sort order is undefined for incomparable objects.\n",
      "/tmp/ipykernel_3064220/438181115.py:3: FutureWarning: Setting an item of incompatible dtype is deprecated and will raise in a future error of pandas. Value '0   NaN\n",
      "1   NaN\n",
      "2   NaN\n",
      "3   NaN\n",
      "4   NaN\n",
      "5   NaN\n",
      "6   NaN\n",
      "7   NaN\n",
      "8   NaN\n",
      "9   NaN\n",
      "Name: KL, dtype: float64' has dtype incompatible with int64, please explicitly cast to a compatible dtype first.\n",
      "/tmp/ipykernel_3064220/438181115.py:3: FutureWarning: Setting an item of incompatible dtype is deprecated and will raise in a future error of pandas. Value '0   NaN\n",
      "1   NaN\n",
      "2   NaN\n",
      "3   NaN\n",
      "4   NaN\n",
      "5   NaN\n",
      "6   NaN\n",
      "7   NaN\n",
      "8   NaN\n",
      "9   NaN\n",
      "Name: Var, dtype: float64' has dtype incompatible with int64, please explicitly cast to a compatible dtype first.\n",
      "/tmp/ipykernel_3064220/438181115.py:3: FutureWarning: Setting an item of incompatible dtype is deprecated and will raise in a future error of pandas. Value '0   NaN\n",
      "1   NaN\n",
      "2   NaN\n",
      "3   NaN\n",
      "4   NaN\n",
      "5   NaN\n",
      "6   NaN\n",
      "7   NaN\n",
      "8   NaN\n",
      "9   NaN\n",
      "Name: LL, dtype: float64' has dtype incompatible with int64, please explicitly cast to a compatible dtype first.\n",
      "/tmp/ipykernel_3064220/438181115.py:3: FutureWarning: Setting an item of incompatible dtype is deprecated and will raise in a future error of pandas. Value '0   NaN\n",
      "1   NaN\n",
      "2   NaN\n",
      "3   NaN\n",
      "4   NaN\n",
      "5   NaN\n",
      "6   NaN\n",
      "7   NaN\n",
      "8   NaN\n",
      "9   NaN\n",
      "Name: MM1, dtype: float64' has dtype incompatible with int64, please explicitly cast to a compatible dtype first.\n",
      "/tmp/ipykernel_3064220/438181115.py:3: FutureWarning: Setting an item of incompatible dtype is deprecated and will raise in a future error of pandas. Value '0   NaN\n",
      "1   NaN\n",
      "2   NaN\n",
      "3   NaN\n",
      "4   NaN\n",
      "5   NaN\n",
      "6   NaN\n",
      "7   NaN\n",
      "8   NaN\n",
      "9   NaN\n",
      "Name: MM2, dtype: float64' has dtype incompatible with int64, please explicitly cast to a compatible dtype first.\n",
      "/tmp/ipykernel_3064220/438181115.py:3: FutureWarning: Setting an item of incompatible dtype is deprecated and will raise in a future error of pandas. Value '0   NaN\n",
      "1   NaN\n",
      "2   NaN\n",
      "3   NaN\n",
      "4   NaN\n",
      "5   NaN\n",
      "6   NaN\n",
      "7   NaN\n",
      "8   NaN\n",
      "9   NaN\n",
      "Name: (KL, Var), dtype: float64' has dtype incompatible with int64, please explicitly cast to a compatible dtype first.\n",
      "/tmp/ipykernel_3064220/438181115.py:3: FutureWarning: Setting an item of incompatible dtype is deprecated and will raise in a future error of pandas. Value '0   NaN\n",
      "1   NaN\n",
      "2   NaN\n",
      "3   NaN\n",
      "4   NaN\n",
      "5   NaN\n",
      "6   NaN\n",
      "7   NaN\n",
      "8   NaN\n",
      "9   NaN\n",
      "Name: (MM1, MM2), dtype: float64' has dtype incompatible with int64, please explicitly cast to a compatible dtype first.\n",
      "/tmp/ipykernel_3064220/438181115.py:3: FutureWarning: Setting an item of incompatible dtype is deprecated and will raise in a future error of pandas. Value '0   NaN\n",
      "1   NaN\n",
      "2   NaN\n",
      "3   NaN\n",
      "4   NaN\n",
      "5   NaN\n",
      "6   NaN\n",
      "7   NaN\n",
      "8   NaN\n",
      "9   NaN\n",
      "Name: (KL, Var, MM1, MM2), dtype: float64' has dtype incompatible with int64, please explicitly cast to a compatible dtype first.\n"
     ]
    }
   ],
   "source": [
    "success = pd.DataFrame(success)\n",
    "success_ = success.copy()\n",
    "success_.iloc[:, 1:] = -success_.iloc[:, 1:].sub(success_.iloc[:, 0], axis=1)"
   ]
  },
  {
   "cell_type": "code",
   "execution_count": 59,
   "metadata": {},
   "outputs": [
    {
     "data": {
      "text/html": [
       "<div>\n",
       "<style scoped>\n",
       "    .dataframe tbody tr th:only-of-type {\n",
       "        vertical-align: middle;\n",
       "    }\n",
       "\n",
       "    .dataframe tbody tr th {\n",
       "        vertical-align: top;\n",
       "    }\n",
       "\n",
       "    .dataframe thead th {\n",
       "        text-align: right;\n",
       "    }\n",
       "</style>\n",
       "<table border=\"1\" class=\"dataframe\">\n",
       "  <thead>\n",
       "    <tr style=\"text-align: right;\">\n",
       "      <th></th>\n",
       "      <th>n</th>\n",
       "      <th>KL</th>\n",
       "      <th>Var</th>\n",
       "      <th>LL</th>\n",
       "      <th>MM1</th>\n",
       "      <th>MM2</th>\n",
       "      <th>(KL, Var)</th>\n",
       "      <th>(MM1, MM2)</th>\n",
       "      <th>(KL, Var, MM1, MM2)</th>\n",
       "    </tr>\n",
       "  </thead>\n",
       "  <tbody>\n",
       "    <tr>\n",
       "      <th>mean</th>\n",
       "      <td>17.900000</td>\n",
       "      <td>10.500000</td>\n",
       "      <td>1.700000</td>\n",
       "      <td>0.0</td>\n",
       "      <td>17.200000</td>\n",
       "      <td>17.800000</td>\n",
       "      <td>11.200000</td>\n",
       "      <td>17.800000</td>\n",
       "      <td>17.900000</td>\n",
       "    </tr>\n",
       "    <tr>\n",
       "      <th>std</th>\n",
       "      <td>4.175324</td>\n",
       "      <td>2.415229</td>\n",
       "      <td>1.636392</td>\n",
       "      <td>0.0</td>\n",
       "      <td>4.077036</td>\n",
       "      <td>4.184628</td>\n",
       "      <td>2.485514</td>\n",
       "      <td>4.184628</td>\n",
       "      <td>4.175324</td>\n",
       "    </tr>\n",
       "  </tbody>\n",
       "</table>\n",
       "</div>"
      ],
      "text/plain": [
       "              n         KL       Var   LL        MM1        MM2  (KL, Var)  \\\n",
       "mean  17.900000  10.500000  1.700000  0.0  17.200000  17.800000  11.200000   \n",
       "std    4.175324   2.415229  1.636392  0.0   4.077036   4.184628   2.485514   \n",
       "\n",
       "      (MM1, MM2)  (KL, Var, MM1, MM2)  \n",
       "mean   17.800000            17.900000  \n",
       "std     4.184628             4.175324  "
      ]
     },
     "execution_count": 59,
     "metadata": {},
     "output_type": "execute_result"
    }
   ],
   "source": [
    "success.agg(['mean','std'])"
   ]
  },
  {
   "cell_type": "code",
   "execution_count": 60,
   "metadata": {},
   "outputs": [
    {
     "data": {
      "text/html": [
       "<div>\n",
       "<style scoped>\n",
       "    .dataframe tbody tr th:only-of-type {\n",
       "        vertical-align: middle;\n",
       "    }\n",
       "\n",
       "    .dataframe tbody tr th {\n",
       "        vertical-align: top;\n",
       "    }\n",
       "\n",
       "    .dataframe thead th {\n",
       "        text-align: right;\n",
       "    }\n",
       "</style>\n",
       "<table border=\"1\" class=\"dataframe\">\n",
       "  <thead>\n",
       "    <tr style=\"text-align: right;\">\n",
       "      <th></th>\n",
       "      <th>KL</th>\n",
       "      <th>Var</th>\n",
       "      <th>LL</th>\n",
       "      <th>MM1</th>\n",
       "      <th>MM2</th>\n",
       "      <th>(KL, Var)</th>\n",
       "      <th>(MM1, MM2)</th>\n",
       "      <th>(KL, Var, MM1, MM2)</th>\n",
       "    </tr>\n",
       "  </thead>\n",
       "  <tbody>\n",
       "    <tr>\n",
       "      <th>mean</th>\n",
       "      <td>7.400000</td>\n",
       "      <td>16.200000</td>\n",
       "      <td>17.900000</td>\n",
       "      <td>0.700000</td>\n",
       "      <td>0.100000</td>\n",
       "      <td>6.700000</td>\n",
       "      <td>0.100000</td>\n",
       "      <td>0.0</td>\n",
       "    </tr>\n",
       "    <tr>\n",
       "      <th>std</th>\n",
       "      <td>2.633122</td>\n",
       "      <td>3.552777</td>\n",
       "      <td>4.175324</td>\n",
       "      <td>0.674949</td>\n",
       "      <td>0.316228</td>\n",
       "      <td>2.406011</td>\n",
       "      <td>0.316228</td>\n",
       "      <td>0.0</td>\n",
       "    </tr>\n",
       "  </tbody>\n",
       "</table>\n",
       "</div>"
      ],
      "text/plain": [
       "            KL        Var         LL       MM1       MM2  (KL, Var)  \\\n",
       "mean  7.400000  16.200000  17.900000  0.700000  0.100000   6.700000   \n",
       "std   2.633122   3.552777   4.175324  0.674949  0.316228   2.406011   \n",
       "\n",
       "      (MM1, MM2)  (KL, Var, MM1, MM2)  \n",
       "mean    0.100000                  0.0  \n",
       "std     0.316228                  0.0  "
      ]
     },
     "execution_count": 60,
     "metadata": {},
     "output_type": "execute_result"
    }
   ],
   "source": [
    "(-success.iloc[:, 1:].sub(success.iloc[:, 0], axis=0)).agg(['mean','std'])"
   ]
  },
  {
   "cell_type": "code",
   "execution_count": 61,
   "metadata": {},
   "outputs": [],
   "source": [
    "_df = df.explode(['khat','ndx'])[['rho_rank', 'T', 'ndx', 'khat']]\n",
    "_df['rho_rank'] *= -1"
   ]
  },
  {
   "cell_type": "code",
   "execution_count": 62,
   "metadata": {},
   "outputs": [],
   "source": [
    "base_khat = _df[_df['T']==\"I\"][['ndx', 'khat']].drop_duplicates().to_dict(orient='records')\n",
    "base_khat = {r['ndx']: r['khat'] for r in base_khat}\n"
   ]
  },
  {
   "cell_type": "code",
   "execution_count": 63,
   "metadata": {},
   "outputs": [],
   "source": [
    "_df = _df[(_df[\"T\"]!=\"I\") & (_df[\"T\"]!=\"I0\")]\n",
    "_df[r'$\\log(\\hat{k}/\\hat{k}_0)$'] = _df.apply(lambda x: x.khat/base_khat[x.ndx], axis=1)\n",
    "_df[r'$-log_4(\\rho)$'] = _df['rho_rank']"
   ]
  },
  {
   "cell_type": "code",
   "execution_count": 64,
   "metadata": {},
   "outputs": [],
   "source": [
    "_df = _df[_df[r'$\\log(\\hat{k}/\\hat{k}_0)$']<4]"
   ]
  },
  {
   "cell_type": "code",
   "execution_count": 65,
   "metadata": {},
   "outputs": [
    {
     "data": {
      "image/png": "[encoded data removed]",
      "text/plain": [
       "<Figure size 1500x1600 with 11 Axes>"
      ]
     },
     "metadata": {},
     "output_type": "display_data"
    },
    {
     "name": "stderr",
     "output_type": "stream",
     "text": [
      "/home/josh/workspace/bayesianquilts/env-3.12/lib/python3.12/site-packages/plotnine/ggplot.py:615: PlotnineWarning: Saving 15 x 16 in image.\n",
      "/home/josh/workspace/bayesianquilts/env-3.12/lib/python3.12/site-packages/plotnine/ggplot.py:616: PlotnineWarning: Filename: rho_rank_relu.pdf\n"
     ]
    }
   ],
   "source": [
    "from plotnine import ggplot, geom_line, geom_point, aes, stat_smooth, facet_wrap, theme, ylim\n",
    "from plotnine.data import mtcars\n",
    "\n",
    "\n",
    "plot = (\n",
    "    ggplot(_df, aes(r'$-log_4(\\rho)$', r'$\\log(\\hat{k}/\\hat{k}_0)$', color=\"T\"))\n",
    "    + geom_line()\n",
    "    + facet_wrap(\"ndx\", ncol=4)\n",
    "    + theme(figure_size=(15, 16), legend_position=(.5, .0), legend_direction='horizontal') + ylim((0, 2))\n",
    "    \n",
    ")\n",
    "plot.show()\n",
    "plot.save(\"rho_rank_relu.pdf\")"
   ]
  },
  {
   "cell_type": "code",
   "execution_count": null,
   "metadata": {},
   "outputs": [],
   "source": []
  },
  {
   "cell_type": "code",
   "execution_count": null,
   "metadata": {},
   "outputs": [],
   "source": []
  },
  {
   "cell_type": "code",
   "execution_count": null,
   "metadata": {},
   "outputs": [],
   "source": []
  }
 ],
 "metadata": {
  "kernelspec": {
   "display_name": "env-3.12",
   "language": "python",
   "name": "python3"
  },
  "language_info": {
   "codemirror_mode": {
    "name": "ipython",
    "version": 3
   },
   "file_extension": ".py",
   "mimetype": "text/x-python",
   "name": "python",
   "nbconvert_exporter": "python",
   "pygments_lexer": "ipython3",
   "version": "3.12.3"
  }
 },
 "nbformat": 4,
 "nbformat_minor": 2
}
