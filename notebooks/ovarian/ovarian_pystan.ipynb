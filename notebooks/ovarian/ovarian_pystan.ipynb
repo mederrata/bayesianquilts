{
 "cells": [
  {
   "cell_type": "markdown",
   "metadata": {},
   "source": [
    "# Ovarian dataset Logistic Regression using MCMC"
   ]
  },
  {
   "cell_type": "code",
   "execution_count": 1,
   "metadata": {},
   "outputs": [],
   "source": [
    "\n",
    "%matplotlib inline\n",
    "from itertools import chain\n",
    "\n",
    "from cmdstanpy import CmdStanModel\n",
    "import numpy as np\n",
    "import pandas as pd\n",
    "from pathlib import Path\n",
    "import nest_asyncio\n",
    "nest_asyncio.apply()\n",
    "from random import choices\n",
    "\n"
   ]
  },
  {
   "cell_type": "code",
   "execution_count": 2,
   "metadata": {},
   "outputs": [
    {
     "name": "stderr",
     "output_type": "stream",
     "text": [
      "2024-04-09 05:28:20.649017: I external/local_tsl/tsl/cuda/cudart_stub.cc:31] Could not find cuda drivers on your machine, GPU will not be used.\n",
      "2024-04-09 05:28:20.760676: E external/local_xla/xla/stream_executor/cuda/cuda_dnn.cc:9261] Unable to register cuDNN factory: Attempting to register factory for plugin cuDNN when one has already been registered\n",
      "2024-04-09 05:28:20.760738: E external/local_xla/xla/stream_executor/cuda/cuda_fft.cc:607] Unable to register cuFFT factory: Attempting to register factory for plugin cuFFT when one has already been registered\n",
      "2024-04-09 05:28:20.781078: E external/local_xla/xla/stream_executor/cuda/cuda_blas.cc:1515] Unable to register cuBLAS factory: Attempting to register factory for plugin cuBLAS when one has already been registered\n",
      "2024-04-09 05:28:20.821701: I external/local_tsl/tsl/cuda/cudart_stub.cc:31] Could not find cuda drivers on your machine, GPU will not be used.\n",
      "2024-04-09 05:28:20.822568: I tensorflow/core/platform/cpu_feature_guard.cc:182] This TensorFlow binary is optimized to use available CPU instructions in performance-critical operations.\n",
      "To enable the following instructions: AVX2 FMA, in other operations, rebuild TensorFlow with the appropriate compiler flags.\n",
      "2024-04-09 05:28:21.578920: W tensorflow/compiler/tf2tensorrt/utils/py_utils.cc:38] TF-TRT Warning: Could not find TensorRT\n"
     ]
    }
   ],
   "source": [
    "\n",
    "import tensorflow as tf\n",
    "import tensorflow_probability as tfp\n",
    "import tensorflow_probability.python.bijectors as tfb\n",
    "\n",
    "from bayesianquilts.models.logistic_regression_reparam import LogisticRegression2\n",
    "from bayesianquilts.metrics.classification import classification_metrics\n",
    "from bayesianquilts.sampler import psis, nppsis"
   ]
  },
  {
   "cell_type": "code",
   "execution_count": 3,
   "metadata": {},
   "outputs": [
    {
     "name": "stdout",
     "output_type": "stream",
     "text": [
      "(54, 1536)\n"
     ]
    }
   ],
   "source": [
    "\n",
    "X_ = pd.read_csv(Path.home() / \"workspace\" / \"bayesianquilts\"/ \"bayesianquilts\"/ \"data\" / \"overianx.csv\", header=None)\n",
    "y_ = pd.read_table(Path.home() / \"workspace\" / \"bayesianquilts\"/ \"bayesianquilts\"/ \"data\" / \"overiany.csv\", header=None)\n",
    "\n",
    "\n",
    "X_scaled = (X_ - X_.mean())/X_.std()\n",
    "X_scaled = X_scaled.fillna(0).to_numpy()\n",
    "y_ = y_.to_numpy()\n",
    "N = X_scaled.shape[0]\n",
    "d = X_scaled.shape[1]\n",
    "\n",
    "print((N, d))"
   ]
  },
  {
   "cell_type": "code",
   "execution_count": 4,
   "metadata": {},
   "outputs": [],
   "source": [
    "logistic_horseshoe_code = \"\"\"\n",
    "data {\n",
    "  int <lower=0> N;                // number  of  observations\n",
    "  int <lower=0> d;                // number  of  predictors\n",
    "  array[N] int<lower=0,upper=1> y;      // outputs\n",
    "  matrix[N,d] x;                  // inputs\n",
    "  real <lower=0>  scale_icept;    // prior  std for  the  intercept\n",
    "  real <lower=0>  scale_global;   // scale  for  the half -t prior  for  tau\n",
    "  real <lower=1>  nu_global;      // degrees  of  freedom  for the half -t prior for tau\n",
    "  real <lower=1> nu_local;        // degrees  of  freedom  for  the half -t priors for  lambdas\n",
    "  real <lower=0>  slab_scale;     // slab  scale  for  the  regularized  horseshoe\n",
    "  real <lower=0> slab_df;         // slab  degrees  of  freedom  for the  regularized horseshoe\n",
    "\n",
    "  //int<lower=0> N_tilde;\n",
    "  //matrix[N_tilde, d] x_tilde;\n",
    "  //array[N_tilde] int<lower=0,upper=1> y_obs;\n",
    "}\n",
    "parameters {\n",
    "  real  beta0;\n",
    "  vector[d] z;\n",
    "  real <lower=0> tau;             // global  shrinkage  parameter\n",
    "  vector <lower =0>[d] lambda;    // local  shrinkage  parameter\n",
    "  real <lower=0> caux;\n",
    "}\n",
    "transformed  parameters {\n",
    "  vector <lower =0>[d] lambda_tilde;    // ’truncated ’ local  shrinkage  parameter\n",
    "  real <lower=0> c;                     // slab  scale\n",
    "  vector[d] beta;                       // regression  coefficients\n",
    "  vector[N] f;                          // latent  function  values\n",
    "  c = slab_scale * sqrt(caux);\n",
    "  lambda_tilde = sqrt( c^2 * square(lambda) ./ (c^2 + tau^2* square(lambda )) );\n",
    "  beta = z .*  lambda_tilde*tau;\n",
    "  f = beta0 + x*beta;\n",
    "}\n",
    "model {\n",
    "  z ~ normal(0.0, 1.0); // half -t priors  for  lambdas  and tau , and  inverse -gamma  for c^2\n",
    "  lambda ~ student_t(nu_local , 0.0, 1.0);\n",
    "  tau ~ student_t(nu_global , 0.0, scale_global);\n",
    "  caux ~ inv_gamma (0.5* slab_df , 0.5* slab_df );\n",
    "  beta0 ~ normal(0.0,  scale_icept );\n",
    "  y ~ bernoulli_logit(f);\n",
    "}\n",
    "generated quantities {\n",
    "  vector[N] log_lik;\n",
    "  // vector[N_tilde] loo_log_lik;\n",
    "\n",
    "  for (nn in 1:N)\n",
    "    log_lik[nn] = bernoulli_logit_lpmf(y[nn] | x[nn] * beta + beta0);\n",
    "\n",
    "  //for (nn in 1:N_tilde)\n",
    "  //  loo_log_lik[nn] = bernoulli_logit_lpmf(y_obs[nn] | x_tilde[nn] * beta + beta0);\n",
    "}\n",
    "\"\"\"\n",
    "\n",
    "with open(\"ovarian_model.stan\", 'w') as f:\n",
    "  f.writelines(logistic_horseshoe_code)\n"
   ]
  },
  {
   "cell_type": "code",
   "execution_count": 5,
   "metadata": {},
   "outputs": [
    {
     "name": "stderr",
     "output_type": "stream",
     "text": [
      "05:28:23 - cmdstanpy - INFO - compiling stan file /home/josh/workspace/bayesianquilts/ovarian_model.stan to exe file /home/josh/workspace/bayesianquilts/ovarian_model\n"
     ]
    },
    {
     "name": "stderr",
     "output_type": "stream",
     "text": [
      "05:28:44 - cmdstanpy - INFO - compiled model executable: /home/josh/workspace/bayesianquilts/ovarian_model\n"
     ]
    }
   ],
   "source": [
    "sm = CmdStanModel(stan_file=\"ovarian_model.stan\")"
   ]
  },
  {
   "cell_type": "code",
   "execution_count": 6,
   "metadata": {},
   "outputs": [],
   "source": [
    "guessnumrelevcov = 20 # 20.\n",
    "slab_scale = 2.5/100\n",
    "scale_icept = 5.0\n",
    "nu_global = 1\n",
    "nu_local = 1\n",
    "slab_df = 1\n",
    "scale_global = guessnumrelevcov / ((d - guessnumrelevcov) * np.sqrt(N))/10000\n",
    "\n",
    "control = {\"adapt_delta\": 0.9995, \"max_treedepth\": 15}\n",
    "\n",
    "ovarian_data = {\n",
    "    \"N\": N,\n",
    "    \"d\": d,\n",
    "    \"slab_df\": slab_df,\n",
    "    \"slab_scale\": slab_scale,\n",
    "    \"scale_icept\": scale_icept,\n",
    "    \"nu_global\": 1,\n",
    "    \"nu_local\": 1,\n",
    "    \"scale_global\": scale_global,\n",
    "    \"y\": y_.astype(int)[:, 0].tolist(),\n",
    "    \"x\": X_scaled.tolist(),\n",
    "}\n",
    "\n",
    "import json\n",
    "with open(\"ovarian_data.json\", 'w') as f:\n",
    "    json.dump(ovarian_data, f)"
   ]
  },
  {
   "cell_type": "code",
   "execution_count": 7,
   "metadata": {},
   "outputs": [
    {
     "name": "stderr",
     "output_type": "stream",
     "text": [
      "05:28:44 - cmdstanpy - INFO - CmdStan start processing\n"
     ]
    },
    {
     "data": {
      "application/vnd.jupyter.widget-view+json": {
       "model_id": "8603509963394d699955de6f6c088a99",
       "version_major": 2,
       "version_minor": 0
      },
      "text/plain": [
       "chain 1 |          | 00:00 Status"
      ]
     },
     "metadata": {},
     "output_type": "display_data"
    },
    {
     "data": {
      "application/vnd.jupyter.widget-view+json": {
       "model_id": "48c85e402dd342d2ad7bd5d47d55d8d9",
       "version_major": 2,
       "version_minor": 0
      },
      "text/plain": [
       "chain 2 |          | 00:00 Status"
      ]
     },
     "metadata": {},
     "output_type": "display_data"
    },
    {
     "data": {
      "application/vnd.jupyter.widget-view+json": {
       "model_id": "e55bee3c96fd4c1dbd14d997aab77db0",
       "version_major": 2,
       "version_minor": 0
      },
      "text/plain": [
       "chain 3 |          | 00:00 Status"
      ]
     },
     "metadata": {},
     "output_type": "display_data"
    },
    {
     "data": {
      "application/vnd.jupyter.widget-view+json": {
       "model_id": "6275def5854e40aa997fd91111a40d40",
       "version_major": 2,
       "version_minor": 0
      },
      "text/plain": [
       "chain 4 |          | 00:00 Status"
      ]
     },
     "metadata": {},
     "output_type": "display_data"
    },
    {
     "name": "stdout",
     "output_type": "stream",
     "text": [
      "                                                                                                                                                                                                                                                                                                                                "
     ]
    },
    {
     "name": "stderr",
     "output_type": "stream",
     "text": [
      "06:10:29 - cmdstanpy - INFO - CmdStan done processing.\n"
     ]
    },
    {
     "name": "stdout",
     "output_type": "stream",
     "text": [
      "\n"
     ]
    }
   ],
   "source": [
    "fit = sm.sample(\n",
    "    data=\"ovarian_data.json\",\n",
    "    iter_warmup=20000,\n",
    "    iter_sampling=2000,\n",
    "    thin=2,\n",
    "    adapt_delta=0.9995,\n",
    "    max_treedepth=15,\n",
    ")"
   ]
  },
  {
   "cell_type": "code",
   "execution_count": 8,
   "metadata": {},
   "outputs": [
    {
     "name": "stdout",
     "output_type": "stream",
     "text": [
      "CmdStanMCMC: model=ovarian_model chains=4['method=sample', 'num_samples=2000', 'num_warmup=20000', 'thin=2', 'algorithm=hmc', 'engine=nuts', 'max_depth=15', 'adapt', 'engaged=1', 'delta=0.9995']\n",
      " csv_files:\n",
      "\t/tmp/tmp01q4zmjc/ovarian_modelsmnc3jln/ovarian_model-20240409052844_1.csv\n",
      "\t/tmp/tmp01q4zmjc/ovarian_modelsmnc3jln/ovarian_model-20240409052844_2.csv\n",
      "\t/tmp/tmp01q4zmjc/ovarian_modelsmnc3jln/ovarian_model-20240409052844_3.csv\n",
      "\t/tmp/tmp01q4zmjc/ovarian_modelsmnc3jln/ovarian_model-20240409052844_4.csv\n",
      " output_files:\n",
      "\t/tmp/tmp01q4zmjc/ovarian_modelsmnc3jln/ovarian_model-20240409052844_0-stdout.txt\n",
      "\t/tmp/tmp01q4zmjc/ovarian_modelsmnc3jln/ovarian_model-20240409052844_1-stdout.txt\n",
      "\t/tmp/tmp01q4zmjc/ovarian_modelsmnc3jln/ovarian_model-20240409052844_2-stdout.txt\n",
      "\t/tmp/tmp01q4zmjc/ovarian_modelsmnc3jln/ovarian_model-20240409052844_3-stdout.txt\n"
     ]
    }
   ],
   "source": [
    "print(fit)"
   ]
  },
  {
   "cell_type": "code",
   "execution_count": 9,
   "metadata": {},
   "outputs": [
    {
     "name": "stdout",
     "output_type": "stream",
     "text": [
      "Processing csv files: /tmp/tmp01q4zmjc/ovarian_modelsmnc3jln/ovarian_model-20240409052844_1.csv, /tmp/tmp01q4zmjc/ovarian_modelsmnc3jln/ovarian_model-20240409052844_2.csv, /tmp/tmp01q4zmjc/ovarian_modelsmnc3jln/ovarian_model-20240409052844_3.csv, /tmp/tmp01q4zmjc/ovarian_modelsmnc3jln/ovarian_model-20240409052844_4.csv\n",
      "\n",
      "Checking sampler transitions treedepth.\n",
      "Treedepth satisfactory for all transitions.\n",
      "\n",
      "Checking sampler transitions for divergences.\n",
      "No divergent transitions found.\n",
      "\n",
      "Checking E-BFMI - sampler transitions HMC potential energy.\n",
      "E-BFMI satisfactory.\n",
      "\n",
      "Effective sample size satisfactory.\n",
      "\n",
      "The following parameters had split R-hat greater than 1.05:\n",
      "  z[1491], beta[1483], beta[1491], log_lik[6], log_lik[36]\n",
      "Such high values indicate incomplete mixing and biased estimation.\n",
      "You should consider regularizating your model with additional prior information or a more effective parameterization.\n",
      "\n",
      "Processing complete.\n",
      "\n"
     ]
    }
   ],
   "source": [
    "print(fit.diagnose())"
   ]
  },
  {
   "cell_type": "code",
   "execution_count": 10,
   "metadata": {},
   "outputs": [
    {
     "data": {
      "text/html": [
       "<div>\n",
       "<style scoped>\n",
       "    .dataframe tbody tr th:only-of-type {\n",
       "        vertical-align: middle;\n",
       "    }\n",
       "\n",
       "    .dataframe tbody tr th {\n",
       "        vertical-align: top;\n",
       "    }\n",
       "\n",
       "    .dataframe thead th {\n",
       "        text-align: right;\n",
       "    }\n",
       "</style>\n",
       "<table border=\"1\" class=\"dataframe\">\n",
       "  <thead>\n",
       "    <tr style=\"text-align: right;\">\n",
       "      <th></th>\n",
       "      <th>Mean</th>\n",
       "      <th>MCSE</th>\n",
       "      <th>StdDev</th>\n",
       "      <th>5%</th>\n",
       "      <th>50%</th>\n",
       "      <th>95%</th>\n",
       "      <th>N_Eff</th>\n",
       "      <th>N_Eff/s</th>\n",
       "      <th>R_hat</th>\n",
       "    </tr>\n",
       "  </thead>\n",
       "  <tbody>\n",
       "    <tr>\n",
       "      <th>lp__</th>\n",
       "      <td>-2944.630000</td>\n",
       "      <td>0.886626</td>\n",
       "      <td>44.449200</td>\n",
       "      <td>-3019.540000</td>\n",
       "      <td>-2944.060000</td>\n",
       "      <td>-2.871750e+03</td>\n",
       "      <td>2513.310</td>\n",
       "      <td>3.951670</td>\n",
       "      <td>1.000900</td>\n",
       "    </tr>\n",
       "    <tr>\n",
       "      <th>beta0</th>\n",
       "      <td>1.976080</td>\n",
       "      <td>0.047003</td>\n",
       "      <td>1.576510</td>\n",
       "      <td>0.271130</td>\n",
       "      <td>1.634800</td>\n",
       "      <td>4.965510e+00</td>\n",
       "      <td>1124.990</td>\n",
       "      <td>1.768810</td>\n",
       "      <td>1.004390</td>\n",
       "    </tr>\n",
       "    <tr>\n",
       "      <th>z[1]</th>\n",
       "      <td>0.013086</td>\n",
       "      <td>0.016049</td>\n",
       "      <td>0.976412</td>\n",
       "      <td>-1.628420</td>\n",
       "      <td>0.028157</td>\n",
       "      <td>1.589610e+00</td>\n",
       "      <td>3701.520</td>\n",
       "      <td>5.819870</td>\n",
       "      <td>0.999967</td>\n",
       "    </tr>\n",
       "    <tr>\n",
       "      <th>z[2]</th>\n",
       "      <td>0.053964</td>\n",
       "      <td>0.016819</td>\n",
       "      <td>0.980585</td>\n",
       "      <td>-1.565850</td>\n",
       "      <td>0.045601</td>\n",
       "      <td>1.671350e+00</td>\n",
       "      <td>3399.150</td>\n",
       "      <td>5.344470</td>\n",
       "      <td>1.001130</td>\n",
       "    </tr>\n",
       "    <tr>\n",
       "      <th>z[3]</th>\n",
       "      <td>0.012671</td>\n",
       "      <td>0.016625</td>\n",
       "      <td>0.985517</td>\n",
       "      <td>-1.616590</td>\n",
       "      <td>0.013970</td>\n",
       "      <td>1.659040e+00</td>\n",
       "      <td>3513.900</td>\n",
       "      <td>5.524880</td>\n",
       "      <td>0.999310</td>\n",
       "    </tr>\n",
       "    <tr>\n",
       "      <th>...</th>\n",
       "      <td>...</td>\n",
       "      <td>...</td>\n",
       "      <td>...</td>\n",
       "      <td>...</td>\n",
       "      <td>...</td>\n",
       "      <td>...</td>\n",
       "      <td>...</td>\n",
       "      <td>...</td>\n",
       "      <td>...</td>\n",
       "    </tr>\n",
       "    <tr>\n",
       "      <th>log_lik[50]</th>\n",
       "      <td>-0.013561</td>\n",
       "      <td>0.001131</td>\n",
       "      <td>0.065288</td>\n",
       "      <td>-0.057683</td>\n",
       "      <td>-0.000978</td>\n",
       "      <td>-1.495170e-10</td>\n",
       "      <td>3334.420</td>\n",
       "      <td>5.242680</td>\n",
       "      <td>1.000740</td>\n",
       "    </tr>\n",
       "    <tr>\n",
       "      <th>log_lik[51]</th>\n",
       "      <td>-0.012115</td>\n",
       "      <td>0.001559</td>\n",
       "      <td>0.061477</td>\n",
       "      <td>-0.044749</td>\n",
       "      <td>-0.000459</td>\n",
       "      <td>-2.551220e-11</td>\n",
       "      <td>1555.570</td>\n",
       "      <td>2.445810</td>\n",
       "      <td>1.001840</td>\n",
       "    </tr>\n",
       "    <tr>\n",
       "      <th>log_lik[52]</th>\n",
       "      <td>-0.027662</td>\n",
       "      <td>0.003678</td>\n",
       "      <td>0.149817</td>\n",
       "      <td>-0.095806</td>\n",
       "      <td>-0.000491</td>\n",
       "      <td>-6.648220e-10</td>\n",
       "      <td>1659.350</td>\n",
       "      <td>2.608980</td>\n",
       "      <td>1.003560</td>\n",
       "    </tr>\n",
       "    <tr>\n",
       "      <th>log_lik[53]</th>\n",
       "      <td>-1.028170</td>\n",
       "      <td>0.088249</td>\n",
       "      <td>1.010580</td>\n",
       "      <td>-2.898310</td>\n",
       "      <td>-0.857444</td>\n",
       "      <td>-3.471210e-06</td>\n",
       "      <td>131.137</td>\n",
       "      <td>0.206186</td>\n",
       "      <td>1.035370</td>\n",
       "    </tr>\n",
       "    <tr>\n",
       "      <th>log_lik[54]</th>\n",
       "      <td>-0.018672</td>\n",
       "      <td>0.002183</td>\n",
       "      <td>0.093104</td>\n",
       "      <td>-0.072287</td>\n",
       "      <td>-0.001156</td>\n",
       "      <td>-1.685400e-12</td>\n",
       "      <td>1819.130</td>\n",
       "      <td>2.860210</td>\n",
       "      <td>1.000140</td>\n",
       "    </tr>\n",
       "  </tbody>\n",
       "</table>\n",
       "<p>6257 rows × 9 columns</p>\n",
       "</div>"
      ],
      "text/plain": [
       "                    Mean      MCSE     StdDev           5%          50%  \\\n",
       "lp__        -2944.630000  0.886626  44.449200 -3019.540000 -2944.060000   \n",
       "beta0           1.976080  0.047003   1.576510     0.271130     1.634800   \n",
       "z[1]            0.013086  0.016049   0.976412    -1.628420     0.028157   \n",
       "z[2]            0.053964  0.016819   0.980585    -1.565850     0.045601   \n",
       "z[3]            0.012671  0.016625   0.985517    -1.616590     0.013970   \n",
       "...                  ...       ...        ...          ...          ...   \n",
       "log_lik[50]    -0.013561  0.001131   0.065288    -0.057683    -0.000978   \n",
       "log_lik[51]    -0.012115  0.001559   0.061477    -0.044749    -0.000459   \n",
       "log_lik[52]    -0.027662  0.003678   0.149817    -0.095806    -0.000491   \n",
       "log_lik[53]    -1.028170  0.088249   1.010580    -2.898310    -0.857444   \n",
       "log_lik[54]    -0.018672  0.002183   0.093104    -0.072287    -0.001156   \n",
       "\n",
       "                      95%     N_Eff   N_Eff/s     R_hat  \n",
       "lp__        -2.871750e+03  2513.310  3.951670  1.000900  \n",
       "beta0        4.965510e+00  1124.990  1.768810  1.004390  \n",
       "z[1]         1.589610e+00  3701.520  5.819870  0.999967  \n",
       "z[2]         1.671350e+00  3399.150  5.344470  1.001130  \n",
       "z[3]         1.659040e+00  3513.900  5.524880  0.999310  \n",
       "...                   ...       ...       ...       ...  \n",
       "log_lik[50] -1.495170e-10  3334.420  5.242680  1.000740  \n",
       "log_lik[51] -2.551220e-11  1555.570  2.445810  1.001840  \n",
       "log_lik[52] -6.648220e-10  1659.350  2.608980  1.003560  \n",
       "log_lik[53] -3.471210e-06   131.137  0.206186  1.035370  \n",
       "log_lik[54] -1.685400e-12  1819.130  2.860210  1.000140  \n",
       "\n",
       "[6257 rows x 9 columns]"
      ]
     },
     "execution_count": 10,
     "metadata": {},
     "output_type": "execute_result"
    }
   ],
   "source": [
    "fit.summary()"
   ]
  },
  {
   "cell_type": "code",
   "execution_count": 11,
   "metadata": {},
   "outputs": [
    {
     "data": {
      "text/plain": [
       "(4000,)"
      ]
     },
     "execution_count": 11,
     "metadata": {},
     "output_type": "execute_result"
    }
   ],
   "source": [
    "fit.stan_variable('beta0').shape"
   ]
  },
  {
   "cell_type": "code",
   "execution_count": 12,
   "metadata": {},
   "outputs": [
    {
     "data": {
      "text/plain": [
       "((4000, 1536), (54, 1536))"
      ]
     },
     "execution_count": 12,
     "metadata": {},
     "output_type": "execute_result"
    }
   ],
   "source": [
    "fit.stan_variable('beta').shape, X_scaled.shape"
   ]
  },
  {
   "cell_type": "code",
   "execution_count": 13,
   "metadata": {},
   "outputs": [
    {
     "data": {
      "text/plain": [
       "<matplotlib.colorbar.Colorbar at 0x7fdcf0733e50>"
      ]
     },
     "execution_count": 13,
     "metadata": {},
     "output_type": "execute_result"
    },
    {
     "data": {
      "image/png": "[encoded data removed]",
      "text/plain": [
       "<Figure size 100x700 with 2 Axes>"
      ]
     },
     "metadata": {},
     "output_type": "display_data"
    }
   ],
   "source": [
    "from matplotlib import pyplot as plt\n",
    "beta = tf.reduce_mean(fit.stan_variable(\"beta\"), axis=1, keepdims=True)\n",
    "fig, ax = plt.subplots(1, 1, figsize=(1, 7))\n",
    "im = ax.pcolormesh(beta, cmap='seismic_r')\n",
    "plt.colorbar(im)"
   ]
  },
  {
   "cell_type": "code",
   "execution_count": 14,
   "metadata": {},
   "outputs": [],
   "source": [
    "params = fit.stan_variables()\n",
    "params.keys()\n",
    "params['c'] = params['c'][:, tf.newaxis]\n",
    "params['tau'] = params['tau'][:, tf.newaxis]\n",
    "params['caux'] = params['caux'][:, tf.newaxis]\n",
    "params['beta0'] = params['beta0'][:, tf.newaxis]\n",
    "\n",
    "n_samples = 128\n",
    "params = {k: v[:n_samples] for k, v in params.items()}"
   ]
  },
  {
   "cell_type": "code",
   "execution_count": 15,
   "metadata": {},
   "outputs": [],
   "source": [
    "lr_model = LogisticRegression2(\n",
    "    dim_regressors=d,\n",
    "    slab_df=slab_df,\n",
    "    slab_scale=slab_scale,\n",
    "    scale_icept=scale_icept,\n",
    "    nu_global=1,\n",
    "    nu_local=1,\n",
    "    scale_global=scale_global,\n",
    ")"
   ]
  },
  {
   "cell_type": "code",
   "execution_count": 16,
   "metadata": {},
   "outputs": [
    {
     "data": {
      "text/plain": [
       "(4000, 1536)"
      ]
     },
     "execution_count": 16,
     "metadata": {},
     "output_type": "execute_result"
    }
   ],
   "source": [
    "fit.stan_variable(\"beta\").shape"
   ]
  },
  {
   "cell_type": "code",
   "execution_count": 17,
   "metadata": {},
   "outputs": [],
   "source": [
    "\n",
    "\n",
    "tfdata = tf.data.Dataset.from_tensor_slices({'X': X_scaled, 'y':y_})\n",
    "batch_size = 56\n",
    "def data_factory_factory(batch_size=batch_size, repeat=False, shuffle=False):\n",
    "    def data_factory(batch_size=batch_size):\n",
    "        if shuffle:\n",
    "            out = tfdata.shuffle(batch_size*10)\n",
    "        else:\n",
    "            out = tfdata\n",
    "        \n",
    "        if repeat:\n",
    "            out = out.repeat()\n",
    "        return out.batch(batch_size)\n",
    "    return data_factory\n",
    "\n",
    "batch = next(iter(data_factory_factory()()))"
   ]
  },
  {
   "cell_type": "code",
   "execution_count": 18,
   "metadata": {},
   "outputs": [
    {
     "name": "stderr",
     "output_type": "stream",
     "text": [
      "0it [00:00, ?it/s]2024-04-09 06:10:58.400968: W external/local_tsl/tsl/framework/cpu_allocator_impl.cc:83] Allocation of 84934656 exceeds 10% of free system memory.\n",
      "1it [00:00, 38.85it/s]\n"
     ]
    },
    {
     "data": {
      "text/plain": [
       "(0.0, 1.0)"
      ]
     },
     "execution_count": 18,
     "metadata": {},
     "output_type": "execute_result"
    },
    {
     "data": {
      "image/png": "[encoded data removed]",
      "text/plain": [
       "<Figure size 900x200 with 2 Axes>"
      ]
     },
     "metadata": {},
     "output_type": "display_data"
    }
   ],
   "source": [
    "def prediction_fn(data):\n",
    "    pred = lr_model.predictive_distribution(data, **params)[\"logits\"]\n",
    "    return tf.reduce_mean(pred, axis=0)\n",
    "\n",
    "bench = classification_metrics(\n",
    "    data_factory=data_factory_factory(),\n",
    "    prediction_fn=prediction_fn,\n",
    "    outcome_label='y',\n",
    "    by_vars=[]\n",
    ")\n",
    "\n",
    "fig, ax = plt.subplots(1, 2, figsize=(9, 2))\n",
    "ax[0].plot(bench['auroc']['fpr'], bench['auroc']['tpr'])\n",
    "ax[0].text(0.5, 0.1, f\"AUROC: {round(bench['auroc']['auroc'], 2)}\")\n",
    "ax[0].set_xlim((0, 1))\n",
    "ax[0].set_ylim((0, 1))\n",
    "ax[0].set_title(\"ROC\")\n",
    "\n",
    "ax[1].plot(bench['auprc']['recall'], bench['auprc']['precision'])\n",
    "ax[1].text(0.5, 0.8, f\"AUPRC: {round(bench['auprc']['auprc'], 2)}\")\n",
    "ax[1].set_title(\"Precision-Recall\")\n",
    "ax[1].set_xlim((0, 1))\n",
    "ax[1].set_ylim((0, 1))"
   ]
  },
  {
   "cell_type": "code",
   "execution_count": 19,
   "metadata": {},
   "outputs": [
    {
     "name": "stderr",
     "output_type": "stream",
     "text": [
      "2024-04-09 06:10:58.652048: W external/local_tsl/tsl/framework/cpu_allocator_impl.cc:83] Allocation of 84934656 exceeds 10% of free system memory.\n",
      "2024-04-09 06:10:58.845923: W external/local_tsl/tsl/framework/cpu_allocator_impl.cc:83] Allocation of 84934656 exceeds 10% of free system memory.\n",
      "2024-04-09 06:10:58.872582: W external/local_tsl/tsl/framework/cpu_allocator_impl.cc:83] Allocation of 84934656 exceeds 10% of free system memory.\n",
      "2024-04-09 06:10:58.878021: W external/local_tsl/tsl/framework/cpu_allocator_impl.cc:83] Allocation of 84934656 exceeds 10% of free system memory.\n"
     ]
    },
    {
     "name": "stdout",
     "output_type": "stream",
     "text": [
      "I: 0.03531651539259706 entropy: 15.990858480621602 khat>0.7: 11\n",
      "LL: 0.037180917438030904 entropy: 15.45041959887462 khat>0.7: 35\n",
      "KL: 0.037180917438030904 entropy: 15.971436203282972 khat>0.7: 16\n",
      "Var: 0.03350386352496064 entropy: 15.987718829947461 khat>0.7: 13\n"
     ]
    }
   ],
   "source": [
    "def entropy(probs):\n",
    "    return -tf.math.xlogy(probs, probs)\n",
    "\n",
    "\n",
    "def adaptive_is_loo(self, data, params, hbar=1.0, variational=True):\n",
    "    \"\"\"_summary_\n",
    "\n",
    "    Args:\n",
    "        data (_type_): _description_\n",
    "        params (_type_): _description_\n",
    "        hbar (float, optional): _description_. Defaults to 1.0.\n",
    "        variational (bool, optional):\n",
    "            Should we trust the variational approximation?\n",
    "            If False, assumes that one is passing in all the data at once in a single batch.\n",
    "            Defaults to True.\n",
    "\n",
    "    Returns:\n",
    "        _type_: _description_\n",
    "    \"\"\"\n",
    "\n",
    "    # scaled (theta - bar(theta))/Sigma\n",
    "    c = self.slab_scale * tf.math.sqrt(params[\"caux\"])\n",
    "    lambda_tilde = tf.math.sqrt(\n",
    "        c**2\n",
    "        * params[\"lambda\"] ** 2\n",
    "        / (c**2 + params[\"tau\"] ** 2 * params[\"lambda\"] ** 2)\n",
    "    )\n",
    "    beta = params[\"z\"] * lambda_tilde * params[\"tau\"]\n",
    "    intercept = params[\"beta0\"]\n",
    "    X = tf.cast(data[\"X\"], self.dtype)\n",
    "    y = tf.cast(data[\"y\"], self.dtype)[:, 0]\n",
    "    mu = beta[..., tf.newaxis, :] * X\n",
    "    mu = tf.reduce_sum(mu, -1) + params[\"beta0\"]\n",
    "    sigma = tf.math.sigmoid(mu)\n",
    "    ell = y * (sigma) + (1 - y) * (1 - sigma)\n",
    "    log_ell = tf.math.xlogy(y, sigma) + tf.math.xlogy(1 - y, 1 - sigma)\n",
    "    log_ell_prime = y * (1 - sigma) - (1 - y) * sigma\n",
    "    log_ell_doubleprime = -sigma * (1 - sigma)\n",
    "    _, khat0 = nppsis.psislw(-log_ell)\n",
    "\n",
    "    \"\"\"\n",
    "    sigma.shape is samples x datapoints\n",
    "    \"\"\"\n",
    "\n",
    "    # compute # \\nabla\\log\\pi(\\btheta|\\calD)\n",
    "    if variational:\n",
    "        # \\nabla\\log\\pi = -\\Sigma^{-1}(theta - \\bar{\\theta})\n",
    "        grad_log_pi = tf.concat(\n",
    "            [\n",
    "                -(intercept - self.surrogate_distribution.model[\"intercept__\"].mean())\n",
    "                / self.surrogate_distribution.model[\"intercept__\"].variance(),\n",
    "                -(beta - self.surrogate_distribution.model[\"beta__\"].mean())\n",
    "                / self.surrogate_distribution.model[\"beta__\"].variance(),\n",
    "            ],\n",
    "            axis=-1,\n",
    "        )\n",
    "        intercept_sd = (\n",
    "            self.surrogate_distribution.model[\"intercept__\"].variance() ** 0.5\n",
    "        )\n",
    "        beta_sd = self.surrogate_distribution.model[\"beta__\"].variance() ** 0.5\n",
    "\n",
    "        log_pi = self.surrogate_distribution.model[\"beta__\"].log_prob(\n",
    "            params[\"beta__\"]\n",
    "        ) + self.surrogate_distribution.model[\"intercept__\"].log_prob(\n",
    "            params[\"intercept__\"]\n",
    "        )\n",
    "        log_pi -= tf.reduce_max(log_pi, axis=0)\n",
    "        # log_pi.shape: [samples]\n",
    "    else:\n",
    "        \"\"\"\n",
    "        Recall Bayes rule:\n",
    "        \\log pi(\\btheta|\\calD) = \\sum_i\\log ell_i(\\btheta) + \\log\\pi(\\btheta) + const\n",
    "\n",
    "        so\n",
    "        \\nabla\\log\\pi(\\btheta|\\calD) = \\sum_i (ell_i)'x + grad\\log\\pi(\\btheta)\n",
    "\n",
    "        \"\"\"\n",
    "        log_prior = self.prior_distribution.log_prob_parts(params)\n",
    "        log_prior = log_prior[\"z\"] + log_prior[\"beta0\"]\n",
    "\n",
    "        log_pi = tf.reduce_sum(log_ell, axis=1, keepdims=True)[:, 0]\n",
    "\n",
    "        # pi \\propto\n",
    "        grad_log_pi = tf.concat(\n",
    "            [\n",
    "                tf.reduce_sum(log_ell_prime[..., tf.newaxis], axis=1, keepdims=True),\n",
    "                tf.reduce_sum(\n",
    "                    log_ell_prime[..., tf.newaxis] * X, axis=1, keepdims=True\n",
    "                ),\n",
    "            ],\n",
    "            axis=-1,\n",
    "        )\n",
    "\n",
    "        grad_log_prior = -0.5 * tf.concat(\n",
    "            [(params[\"beta0\"] / self.scale_icept) ** 2, (params[\"z\"]) ** 2],\n",
    "            axis=-1,\n",
    "        )\n",
    "        grad_log_pi += grad_log_prior[:, tf.newaxis, :]\n",
    "\n",
    "        intercept_sd = tf.math.reduce_std(intercept, 0, keepdims=True)\n",
    "        beta_sd = tf.math.reduce_std(beta, 0, keepdims=True)\n",
    "\n",
    "    # log-likelihood descent\n",
    "\n",
    "    def T_ll():\n",
    "        Q_beta = -log_ell_prime[..., tf.newaxis] * X\n",
    "        Q_intercept = -log_ell_prime[..., tf.newaxis]\n",
    "\n",
    "        standardized = tf.concat(\n",
    "            [Q_beta / beta_sd, Q_intercept / intercept_sd], axis=-1\n",
    "        )\n",
    "        standardized = tf.reduce_max(tf.math.abs(standardized), axis=-1)\n",
    "        standardized = tf.reduce_max(standardized, axis=0, keepdims=True)[\n",
    "            ..., tf.newaxis\n",
    "        ]\n",
    "\n",
    "        h = hbar / standardized\n",
    "        logJ = tf.math.log1p(\n",
    "            tf.math.abs(\n",
    "                h\n",
    "                * (1 + tf.math.reduce_sum(X**2, -1, keepdims=True))[tf.newaxis, :, :]\n",
    "                * (sigma * (1 - sigma))[..., tf.newaxis]\n",
    "            )[..., 0]\n",
    "        )\n",
    "        beta_ll = beta[..., tf.newaxis, :] + h * Q_beta\n",
    "        intercept_ll = intercept[..., tf.newaxis, :] + h * Q_intercept\n",
    "        return beta_ll, intercept_ll, logJ\n",
    "\n",
    "    def T_kl():\n",
    "        log_pi_ = log_pi - tf.reduce_max(log_pi, axis=0, keepdims=True)\n",
    "        Q_beta = ((-1) ** y * tf.math.exp(log_pi_[..., tf.newaxis] + mu * (1 - 2 * y)))[\n",
    "            ..., tf.newaxis\n",
    "        ] * X\n",
    "        Q_intercept = (\n",
    "            ((-1) ** y) * tf.math.exp(log_pi_[..., tf.newaxis] + mu * (1 - 2 * y))\n",
    "        )[..., tf.newaxis]\n",
    "\n",
    "        dQ = (-1) ** y[tf.newaxis, :] * tf.math.exp(\n",
    "            log_pi_[..., tf.newaxis] + mu * (1 - 2 * y[tf.newaxis, :])\n",
    "        )\n",
    "        dQ *= (\n",
    "            grad_log_pi[..., 0]\n",
    "            + (1 - 2 * y)[tf.newaxis, :]\n",
    "            + tf.reduce_sum(\n",
    "                X\n",
    "                * (\n",
    "                    grad_log_pi[..., 1:]\n",
    "                    + (1 - 2 * y)[:, tf.newaxis] * X[tf.newaxis, ...]\n",
    "                ),\n",
    "                axis=-1,\n",
    "            )\n",
    "        )\n",
    "\n",
    "        standardized = tf.concat(\n",
    "            [Q_beta / beta_sd, Q_intercept / intercept_sd], axis=-1\n",
    "        )\n",
    "        standardized = tf.reduce_max(tf.math.abs(standardized), axis=-1)\n",
    "        standardized = tf.reduce_max(standardized, axis=0, keepdims=True)[\n",
    "            ..., tf.newaxis\n",
    "        ]\n",
    "\n",
    "        h = hbar / standardized\n",
    "\n",
    "        intercept_kl = intercept[..., tf.newaxis] + h * Q_intercept\n",
    "        beta_kl = beta[..., tf.newaxis, :] + h * Q_beta\n",
    "\n",
    "        logJ = tf.math.log1p(tf.math.abs(h[..., 0] * dQ))\n",
    "        return beta_kl, intercept_kl, logJ\n",
    "\n",
    "    # variance descent -(log ell)'/l\n",
    "\n",
    "    def T_I():\n",
    "        Q = tf.zeros_like(log_ell)\n",
    "        return (\n",
    "            beta[:, tf.newaxis, :] + Q[..., tf.newaxis],\n",
    "            intercept[..., tf.newaxis] + Q[..., tf.newaxis],\n",
    "            tf.zeros_like(Q),\n",
    "        )\n",
    "\n",
    "    def T_var():\n",
    "        log_pi_ = log_pi - tf.reduce_max(log_pi, axis=0, keepdims=True)\n",
    "\n",
    "        Q_beta = (\n",
    "            (-1) ** y * tf.math.exp(log_pi_[..., tf.newaxis] + 2 * mu * (1 - 2 * y))\n",
    "        )[..., tf.newaxis] * X\n",
    "        Q_intercept = (\n",
    "            (-1) ** y * tf.math.exp(log_pi_[..., tf.newaxis] + 2 * mu * (1 - 2 * y))\n",
    "        )[..., tf.newaxis]\n",
    "\n",
    "        dQ = (\n",
    "            (-1) ** y[tf.newaxis, :]\n",
    "            * tf.math.exp(\n",
    "                log_pi_[..., tf.newaxis] + 2 * mu * (1 - 2 * y[tf.newaxis, :])\n",
    "            )\n",
    "            * (\n",
    "                grad_log_pi[..., 0]\n",
    "                + (1 - 2 * y)[tf.newaxis, :]\n",
    "                + tf.reduce_sum(\n",
    "                    X * (grad_log_pi[..., 1:] + 2 * (1 - 2 * y)[:, tf.newaxis] * X),\n",
    "                    axis=-1,\n",
    "                )\n",
    "            )\n",
    "        )\n",
    "\n",
    "        standardized = tf.concat(\n",
    "            [Q_beta / beta_sd, Q_intercept / intercept_sd], axis=-1\n",
    "        )\n",
    "        standardized = tf.reduce_max(tf.math.abs(standardized), axis=-1)\n",
    "        standardized = tf.reduce_max(standardized, axis=0, keepdims=True)[\n",
    "            ..., tf.newaxis\n",
    "        ]\n",
    "\n",
    "        h = hbar / standardized\n",
    "\n",
    "        intercept_kl = intercept[..., tf.newaxis, :] + h * Q_intercept\n",
    "        beta_kl = beta[..., tf.newaxis, :] + h * Q_beta\n",
    "\n",
    "        logJ = tf.math.log1p(tf.math.abs(h[..., 0] * dQ))\n",
    "        return beta_kl, intercept_kl, logJ\n",
    "\n",
    "    def IS(Q):\n",
    "        beta_new, intercept_new, logJ = Q()\n",
    "        mu_new = tf.reduce_sum(beta_new * X, axis=-1) + intercept_new[..., 0]\n",
    "        sigma_new = tf.math.sigmoid(mu_new)\n",
    "        ell_new = y * (sigma_new) + (1 - y) * (1 - sigma_new)\n",
    "        log_ell_new = tf.math.xlogy(y, sigma_new) + tf.math.xlogy(1 - y, 1 - sigma_new)\n",
    "        c = self.slab_scale * tf.math.sqrt(params[\"caux\"])\n",
    "        lambda_tilde = tf.math.sqrt(\n",
    "            c**2\n",
    "            * params[\"lambda\"] ** 2\n",
    "            / (c**2 + params[\"tau\"] ** 2 * params[\"lambda\"] ** 2)\n",
    "        )\n",
    "        transformed = params.copy()\n",
    "        transformed[\"z\"] = beta_new / (\n",
    "            lambda_tilde[:, tf.newaxis, :] * params[\"tau\"][..., tf.newaxis]\n",
    "        )\n",
    "        transformed[\"beta0\"] = intercept_new\n",
    "\n",
    "        if variational:\n",
    "            # We trust the variational approximation, so \\hat{pi} = pi\n",
    "            # N_samples x N_data\n",
    "            delta_log_pi = (\n",
    "                self.surrogate_distribution.log_prob(transformed)\n",
    "                - log_pi[:, tf.newaxis]\n",
    "            )\n",
    "            delta_log_pi = delta_log_pi - tf.reduce_max(\n",
    "                delta_log_pi, axis=0, keepdims=True\n",
    "            )\n",
    "            pass\n",
    "        else:\n",
    "            # we don't trust the variational approximation\n",
    "            # Need to compute log_pi directly by summing over the likelihood\n",
    "\n",
    "            ell_cross = tf.math.sigmoid(\n",
    "                tf.reduce_sum(beta_new[..., tf.newaxis, :] * X, -1) + intercept_new\n",
    "            )\n",
    "            ell_cross = tf.math.xlogy(y, ell_cross) + tf.math.xlogy(\n",
    "                1 - y, 1 - ell_cross\n",
    "            )\n",
    "            ell_cross = tf.math.reduce_sum(ell_cross, axis=-1)\n",
    "\n",
    "            log_prior_new = self.prior_distribution.log_prob_parts(transformed)\n",
    "            log_prior_new = log_prior_new[\"z\"] + log_prior_new[\"beta0\"]\n",
    "            log_pi_new = ell_cross\n",
    "            delta_log_prior = log_prior_new - log_prior[:, tf.newaxis]\n",
    "            # Incorporate the prior\n",
    "            delta_log_pi = log_pi_new - log_pi[:, tf.newaxis] + delta_log_prior\n",
    "        log_eta_weights = delta_log_pi - log_ell_new + logJ\n",
    "        log_eta_weights = log_eta_weights - tf.reduce_max(log_eta_weights, axis=0)\n",
    "        psis_weights, khat = nppsis.psislw(log_eta_weights)\n",
    "        _, khat_test = nppsis.psislw(-log_ell_new - tf.reduce_max(-log_ell_new, axis=0))\n",
    "\n",
    "        eta_weights = tf.math.exp(log_eta_weights)\n",
    "        eta_weights = eta_weights / tf.reduce_sum(eta_weights, axis=0, keepdims=True)\n",
    "\n",
    "        psis_weights = tf.math.exp(psis_weights)\n",
    "        psis_weights = psis_weights / tf.math.reduce_sum(\n",
    "            psis_weights, axis=0, keepdims=True\n",
    "        )\n",
    "\n",
    "        weight_entropy = self.entropy(eta_weights)\n",
    "        psis_entropy = self.entropy(psis_weights)\n",
    "\n",
    "        p_loo_new = tf.reduce_sum(sigma_new * eta_weights, axis=0)\n",
    "        p_loo_psis = tf.reduce_sum(sigma_new * psis_weights, axis=0)\n",
    "        p_loo_sd = tf.math.reduce_std(sigma_new * eta_weights, axis=0)\n",
    "        ll_loo_new = tf.reduce_sum(eta_weights * ell_new, axis=0)\n",
    "        ll_loo_psis = tf.reduce_sum(psis_weights * ell_new, axis=0)\n",
    "        ll_loo_sd = tf.math.reduce_std(eta_weights * ell_new, axis=0)\n",
    "        return (\n",
    "            eta_weights,\n",
    "            psis_weights,\n",
    "            p_loo_new,\n",
    "            p_loo_sd,\n",
    "            ll_loo_new,\n",
    "            ll_loo_sd,\n",
    "            weight_entropy,\n",
    "            khat,\n",
    "            p_loo_psis,\n",
    "            ll_loo_psis,\n",
    "        )\n",
    "\n",
    "    (\n",
    "        eta_I,\n",
    "        eta_I_psis,\n",
    "        p_loo_I,\n",
    "        p_loo_I_sd,\n",
    "        ll_loo_I,\n",
    "        ll_loo_I_sd,\n",
    "        S_I,\n",
    "        k_I,\n",
    "        p_psis_I,\n",
    "        ll_psis_I,\n",
    "    ) = IS(T_I)\n",
    "\n",
    "    (\n",
    "        eta_kl,\n",
    "        eta_kl_psis,\n",
    "        p_loo_kl,\n",
    "        p_loo_kl_sd,\n",
    "        ll_loo_kl,\n",
    "        ll_loo_kl_sd,\n",
    "        S_kl,\n",
    "        k_kl,\n",
    "        p_psis_kl,\n",
    "        ll_psis_kl,\n",
    "    ) = IS(T_kl)\n",
    "\n",
    "    (\n",
    "        eta_var,\n",
    "        eta_var_psis,\n",
    "        p_loo_var,\n",
    "        p_loo_var_sd,\n",
    "        ll_loo_var,\n",
    "        ll_loo_var_sd,\n",
    "        S_var,\n",
    "        k_var,\n",
    "        p_psis_var,\n",
    "        ll_psis_var,\n",
    "    ) = IS(T_var)\n",
    "    (\n",
    "        eta_ll,\n",
    "        eta_ll_psis,\n",
    "        p_loo_ll,\n",
    "        p_loo_ll_sd,\n",
    "        ll_loo_ll,\n",
    "        ll_loo_ll_sd,\n",
    "        S_ll,\n",
    "        k_ll,\n",
    "        p_psis_ll,\n",
    "        ll_psis_ll,\n",
    "    ) = IS(T_ll)\n",
    "    # kl descent\n",
    "\n",
    "    return {\n",
    "        \"I\": {\n",
    "            \"p_loo\": p_loo_I,\n",
    "            \"p_loo_sd\": p_loo_I_sd,\n",
    "            \"ll_loo\": ll_loo_I,\n",
    "            \"ll_loo_sd\": ll_loo_I_sd,\n",
    "            \"S\": S_I,\n",
    "            \"khat\": k_I,\n",
    "            \"p_psis\": p_psis_I,\n",
    "            \"ll_psis\": ll_psis_I,\n",
    "        },\n",
    "        \"KL\": {\n",
    "            \"p_loo\": p_loo_kl,\n",
    "            \"p_loo_sd\": p_loo_kl_sd,\n",
    "            \"ll_loo\": ll_loo_kl,\n",
    "            \"ll_loo_sd\": ll_loo_kl_sd,\n",
    "            \"S\": S_kl,\n",
    "            \"khat\": k_kl,\n",
    "            \"p_psis\": p_psis_kl,\n",
    "            \"ll_psis\": ll_psis_kl,\n",
    "        },\n",
    "        \"LL\": {\n",
    "            \"p_loo\": p_loo_kl,\n",
    "            \"p_loo_sd\": p_loo_kl_sd,\n",
    "            \"ll_loo\": ll_loo_kl,\n",
    "            \"ll_loo_sd\": ll_loo_kl_sd,\n",
    "            \"S\": S_ll,\n",
    "            \"khat\": k_ll,\n",
    "            \"p_psis\": p_psis_ll,\n",
    "            \"ll_psis\": ll_psis_ll,\n",
    "        },\n",
    "        \"Var\": {\n",
    "            \"p_loo\": p_loo_var,\n",
    "            \"p_loo_sd\": p_loo_var_sd,\n",
    "            \"ll_loo\": ll_loo_var,\n",
    "            \"ll_loo_sd\": ll_loo_var_sd,\n",
    "            \"S\": S_var,\n",
    "            \"khat\": k_var,\n",
    "            \"p_psis\": p_psis_var,\n",
    "            \"ll_psis\": ll_psis_var,\n",
    "        },\n",
    "    }\n",
    "\n",
    "\n",
    "loo = adaptive_is_loo(lr_model, batch, params, 1e-5, variational=False)\n",
    "\n",
    "# loo = adaptive_is_loo(lr_model, test_batch, param_test, 0.01, variational=False)\n",
    "\n",
    "\n",
    "for T in [\"I\", \"LL\", \"KL\", \"Var\"]:\n",
    "    print(\n",
    "        f\"{T}: {np.sqrt(np.sum(loo[T]['p_loo_sd']**2))} entropy: {np.sqrt(np.sum(loo[T]['S']))} khat>0.7: {np.sum(loo[T]['khat']>0.7)}\"\n",
    "    )"
   ]
  },
  {
   "cell_type": "code",
   "execution_count": 20,
   "metadata": {},
   "outputs": [
    {
     "data": {
      "text/plain": [
       "array([ 1, 15, 24, 32, 37, 41, 48, 49, 50, 51, 53])"
      ]
     },
     "execution_count": 20,
     "metadata": {},
     "output_type": "execute_result"
    }
   ],
   "source": [
    "khat = pd.DataFrame({\"khat\": loo[\"I\"]['khat']})\n",
    "khat = khat.loc[khat.khat> 0.7] \n",
    "ndx = np.array(khat.index)\n",
    "ndx"
   ]
  },
  {
   "cell_type": "code",
   "execution_count": 21,
   "metadata": {},
   "outputs": [
    {
     "name": "stdout",
     "output_type": "stream",
     "text": [
      "Samples: 64\n",
      "rho=1\n",
      "\n",
      "rho=0.5\n",
      "\n",
      "rho=0.1\n",
      "\n",
      "rho=0.01\n",
      "\n",
      "rho=0.001\n",
      "\n",
      "rho=0.0001\n",
      "\n",
      "rho=1e-05\n",
      "\n",
      "rho=1e-06\n",
      "\n",
      "rho=1e-07\n",
      "\n",
      "Samples: 128\n",
      "rho=1\n",
      "\n",
      "rho=0.5\n",
      "\n",
      "rho=0.1\n",
      "\n",
      "rho=0.01\n",
      "\n",
      "rho=0.001\n",
      "\n",
      "rho=0.0001\n",
      "\n",
      "rho=1e-05\n",
      "\n",
      "rho=1e-06\n",
      "\n",
      "rho=1e-07\n",
      "\n"
     ]
    }
   ],
   "source": [
    "h_vals = [1, 0.5, 1e-1, 1e-2, 1e-3, 1e-4, 1e-5, 1e-6, 1e-7]\n",
    "loo_khat = {}\n",
    "reduced_ndx = {}\n",
    "high_khat_ndx = {}\n",
    "n_sample = [64, 128]\n",
    "\n",
    "for n_samples in n_sample:\n",
    "    sample_ndx = choices(range(2000), k=n_samples)\n",
    "    reduced_ndx[n_samples] = []\n",
    "    high_khat_ndx[n_samples] = {}\n",
    "    print(f\"Samples: {n_samples}\")\n",
    "    loo_khat[n_samples] = {}\n",
    "    params = fit.stan_variables()\n",
    "\n",
    "    params['c'] = params['c'][:, tf.newaxis]\n",
    "    params['tau'] = params['tau'][:, tf.newaxis]\n",
    "    params['caux'] = params['caux'][:, tf.newaxis]\n",
    "    params['beta0'] = params['beta0'][:, tf.newaxis]\n",
    "    params = {k: v[sample_ndx] for k, v in params.items()}\n",
    "    \n",
    "    records = []\n",
    "\n",
    "    for h in h_vals:\n",
    "        loo_khat[n_samples][h] = {}\n",
    "        loo = adaptive_is_loo(lr_model, batch, params, h, variational=False)\n",
    "        khat = pd.DataFrame({\"khat\": loo[\"I\"]['khat']})\n",
    "        khat = khat.loc[khat.khat> 0.7] \n",
    "        ndx = np.array(khat.index)\n",
    "        high_khat_ndx[n_samples][h] = np.where((loo['I']['khat']>0.7))\n",
    "        print(f\"rho={h}\\n\")\n",
    "        for T in [\"I\", \"LL\", \"KL\", \"Var\"]:\n",
    "            loo_khat[n_samples][h][T] = np.array(loo[T]['khat'])\n",
    "            \n",
    "            records += [\n",
    "                {\n",
    "                    \"h\": h,\n",
    "                    \"T\": T,\n",
    "                    \"S\": n_samples,\n",
    "                    \n",
    "                }\n",
    "            ]\n",
    "            # print(f\"Transform: {T}\")\n",
    "            #print(\n",
    "            #    f\"V: {np.sqrt(np.sum(loo[T]['p_loo_sd']**2))} S: {np.sqrt(np.sum(loo[T]['S']))} khat>0.7: {np.sum(loo[T]['khat']>0.7)}\"\n",
    "            #)\n",
    "            #print(f\"k-hat reduction for these k-hat>0.7 obs: {np.where((loo['I']['khat'] - loo[T]['khat']>0) * (loo['I']['khat']>0.7))}\")\n",
    "            reduced_ndx[n_samples] += [np.where((loo['I']['khat'] - loo[T]['khat']>0) * (loo['I']['khat']>0.7) * (loo[T]['khat']<0.7))]\n",
    "            #print(f\"k-hat reduction to below 0.7 for these k-hat>0.7 obs: {reduced_ndx[n_samples][-1]}\")\n",
    "            \n",
    "        "
   ]
  },
  {
   "cell_type": "code",
   "execution_count": 22,
   "metadata": {},
   "outputs": [
    {
     "name": "stdout",
     "output_type": "stream",
     "text": [
      "14 13\n",
      "14 9\n"
     ]
    }
   ],
   "source": [
    "for n_samples in n_sample:\n",
    "    high_ndx_ = (chain.from_iterable([x[0].flatten().tolist() for x in high_khat_ndx[n_samples].values()]))\n",
    "    reduced_ndx_ = (chain.from_iterable([x[0].flatten().tolist() for x in reduced_ndx[n_samples]]))\n",
    "    high_ndx_ = set(high_ndx_)\n",
    "    reduced_ndx_ = set(reduced_ndx_)\n",
    "    print(len(high_ndx_), len(reduced_ndx_))"
   ]
  },
  {
   "cell_type": "code",
   "execution_count": 23,
   "metadata": {},
   "outputs": [
    {
     "name": "stdout",
     "output_type": "stream",
     "text": [
      "14 13\n",
      "14 9\n"
     ]
    }
   ],
   "source": [
    "for n_samples in n_sample:\n",
    "    high_ndx_ = (chain.from_iterable([x[0].flatten().tolist() for x in high_khat_ndx[n_samples].values()]))\n",
    "    reduced_ndx_ = (chain.from_iterable([x[0].flatten().tolist() for x in reduced_ndx[n_samples]]))\n",
    "    high_ndx_ = set(high_ndx_)\n",
    "    reduced_ndx_ = set(reduced_ndx_)\n",
    "    print(len(high_ndx_), len(reduced_ndx_))"
   ]
  },
  {
   "cell_type": "code",
   "execution_count": 24,
   "metadata": {},
   "outputs": [
    {
     "data": {
      "text/plain": [
       "(54,)"
      ]
     },
     "execution_count": 24,
     "metadata": {},
     "output_type": "execute_result"
    }
   ],
   "source": [
    "ndx = np.where(loo_khat[128][1]['I']>0.7)\n",
    "loo_khat[128][1][\"I\"].shape\n"
   ]
  },
  {
   "cell_type": "code",
   "execution_count": 25,
   "metadata": {},
   "outputs": [
    {
     "data": {
      "text/plain": [
       "array([0.6823332 , 0.44247742, 0.6167445 , 0.20712486, 0.34472426,\n",
       "       0.48541045, 0.08531461, 0.39797902, 0.18856402, 0.95182249,\n",
       "       0.47542475, 0.86203358, 0.60747468, 0.10147673, 0.53740257,\n",
       "       0.56403978, 0.11193609, 0.53047182, 0.09296671, 0.49489185,\n",
       "       0.83233253, 0.34228605, 0.58141549, 0.94084003, 0.6539522 ,\n",
       "       1.08742437, 0.42200825, 0.72680134, 0.57448312, 0.84151396,\n",
       "       0.3784059 , 0.20311559, 0.10629659, 0.70284811, 0.21153603,\n",
       "       0.33440054, 0.88198343, 1.34206704, 0.59987165, 0.67016065,\n",
       "       0.47651028, 0.53777656, 0.40427217, 0.60747619, 0.69193615,\n",
       "       0.34863058, 0.69968416, 0.61888706, 1.04544983, 0.76011149,\n",
       "       0.77031716, 1.05633144, 0.21459406, 0.5583059 ])"
      ]
     },
     "execution_count": 25,
     "metadata": {},
     "output_type": "execute_result"
    }
   ],
   "source": [
    "loo_khat[128][.1]['I']"
   ]
  },
  {
   "cell_type": "code",
   "execution_count": 26,
   "metadata": {},
   "outputs": [
    {
     "data": {
      "text/html": [
       "<div>\n",
       "<style scoped>\n",
       "    .dataframe tbody tr th:only-of-type {\n",
       "        vertical-align: middle;\n",
       "    }\n",
       "\n",
       "    .dataframe tbody tr th {\n",
       "        vertical-align: top;\n",
       "    }\n",
       "\n",
       "    .dataframe thead th {\n",
       "        text-align: right;\n",
       "    }\n",
       "</style>\n",
       "<table border=\"1\" class=\"dataframe\">\n",
       "  <thead>\n",
       "    <tr style=\"text-align: right;\">\n",
       "      <th></th>\n",
       "      <th>64</th>\n",
       "      <th>128</th>\n",
       "    </tr>\n",
       "  </thead>\n",
       "  <tbody>\n",
       "    <tr>\n",
       "      <th>1.000000e+00</th>\n",
       "      <td>{'I': [0.3330629990929961, 0.5313948356769398,...</td>\n",
       "      <td>{'I': [0.682333202986374, 0.44247741990541845,...</td>\n",
       "    </tr>\n",
       "    <tr>\n",
       "      <th>5.000000e-01</th>\n",
       "      <td>{'I': [0.3330629990929961, 0.5313948356769398,...</td>\n",
       "      <td>{'I': [0.682333202986374, 0.44247741990541845,...</td>\n",
       "    </tr>\n",
       "    <tr>\n",
       "      <th>1.000000e-01</th>\n",
       "      <td>{'I': [0.3330629990929961, 0.5313948356769398,...</td>\n",
       "      <td>{'I': [0.682333202986374, 0.44247741990541845,...</td>\n",
       "    </tr>\n",
       "    <tr>\n",
       "      <th>1.000000e-02</th>\n",
       "      <td>{'I': [0.3330629990929961, 0.5313948356769398,...</td>\n",
       "      <td>{'I': [0.682333202986374, 0.44247741990541845,...</td>\n",
       "    </tr>\n",
       "    <tr>\n",
       "      <th>1.000000e-03</th>\n",
       "      <td>{'I': [0.3330629990929961, 0.5313948356769398,...</td>\n",
       "      <td>{'I': [0.682333202986374, 0.44247741990541845,...</td>\n",
       "    </tr>\n",
       "    <tr>\n",
       "      <th>1.000000e-04</th>\n",
       "      <td>{'I': [0.3330629990929961, 0.5313948356769398,...</td>\n",
       "      <td>{'I': [0.682333202986374, 0.44247741990541845,...</td>\n",
       "    </tr>\n",
       "    <tr>\n",
       "      <th>1.000000e-05</th>\n",
       "      <td>{'I': [0.3330629990929961, 0.5313948356769398,...</td>\n",
       "      <td>{'I': [0.682333202986374, 0.44247741990541845,...</td>\n",
       "    </tr>\n",
       "    <tr>\n",
       "      <th>1.000000e-06</th>\n",
       "      <td>{'I': [0.3330629990929961, 0.5313948356769398,...</td>\n",
       "      <td>{'I': [0.682333202986374, 0.44247741990541845,...</td>\n",
       "    </tr>\n",
       "    <tr>\n",
       "      <th>1.000000e-07</th>\n",
       "      <td>{'I': [0.3330629990929961, 0.5313948356769398,...</td>\n",
       "      <td>{'I': [0.682333202986374, 0.44247741990541845,...</td>\n",
       "    </tr>\n",
       "  </tbody>\n",
       "</table>\n",
       "</div>"
      ],
      "text/plain": [
       "                                                            64   \\\n",
       "1.000000e+00  {'I': [0.3330629990929961, 0.5313948356769398,...   \n",
       "5.000000e-01  {'I': [0.3330629990929961, 0.5313948356769398,...   \n",
       "1.000000e-01  {'I': [0.3330629990929961, 0.5313948356769398,...   \n",
       "1.000000e-02  {'I': [0.3330629990929961, 0.5313948356769398,...   \n",
       "1.000000e-03  {'I': [0.3330629990929961, 0.5313948356769398,...   \n",
       "1.000000e-04  {'I': [0.3330629990929961, 0.5313948356769398,...   \n",
       "1.000000e-05  {'I': [0.3330629990929961, 0.5313948356769398,...   \n",
       "1.000000e-06  {'I': [0.3330629990929961, 0.5313948356769398,...   \n",
       "1.000000e-07  {'I': [0.3330629990929961, 0.5313948356769398,...   \n",
       "\n",
       "                                                            128  \n",
       "1.000000e+00  {'I': [0.682333202986374, 0.44247741990541845,...  \n",
       "5.000000e-01  {'I': [0.682333202986374, 0.44247741990541845,...  \n",
       "1.000000e-01  {'I': [0.682333202986374, 0.44247741990541845,...  \n",
       "1.000000e-02  {'I': [0.682333202986374, 0.44247741990541845,...  \n",
       "1.000000e-03  {'I': [0.682333202986374, 0.44247741990541845,...  \n",
       "1.000000e-04  {'I': [0.682333202986374, 0.44247741990541845,...  \n",
       "1.000000e-05  {'I': [0.682333202986374, 0.44247741990541845,...  \n",
       "1.000000e-06  {'I': [0.682333202986374, 0.44247741990541845,...  \n",
       "1.000000e-07  {'I': [0.682333202986374, 0.44247741990541845,...  "
      ]
     },
     "execution_count": 26,
     "metadata": {},
     "output_type": "execute_result"
    }
   ],
   "source": [
    "pd.DataFrame(loo_khat)"
   ]
  },
  {
   "cell_type": "code",
   "execution_count": 27,
   "metadata": {},
   "outputs": [
    {
     "data": {
      "text/plain": [
       "9"
      ]
     },
     "execution_count": 27,
     "metadata": {},
     "output_type": "execute_result"
    }
   ],
   "source": [
    "len(reduced_ndx_)"
   ]
  },
  {
   "cell_type": "code",
   "execution_count": null,
   "metadata": {},
   "outputs": [],
   "source": []
  },
  {
   "cell_type": "code",
   "execution_count": null,
   "metadata": {},
   "outputs": [],
   "source": []
  },
  {
   "cell_type": "code",
   "execution_count": null,
   "metadata": {},
   "outputs": [],
   "source": []
  }
 ],
 "metadata": {
  "kernelspec": {
   "display_name": "env",
   "language": "python",
   "name": "python3"
  },
  "language_info": {
   "codemirror_mode": {
    "name": "ipython",
    "version": 3
   },
   "file_extension": ".py",
   "mimetype": "text/x-python",
   "name": "python",
   "nbconvert_exporter": "python",
   "pygments_lexer": "ipython3",
   "version": "3.10.12"
  }
 },
 "nbformat": 4,
 "nbformat_minor": 2
}
