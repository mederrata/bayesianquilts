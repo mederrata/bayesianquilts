{
 "cells": [
  {
   "cell_type": "code",
   "execution_count": 46,
   "metadata": {},
   "outputs": [],
   "source": [
    "\n",
    "%matplotlib inline\n",
    "from itertools import chain\n",
    "import matplotlib\n",
    "from matplotlib import pyplot as plt\n",
    "matplotlib.rcParams['pdf.fonttype'] = 42\n",
    "matplotlib.rcParams['ps.fonttype'] = 42\n",
    "matplotlib.rcParams['text.usetex'] = True\n",
    "from abc import ABC\n",
    "from cmdstanpy import CmdStanModel\n",
    "import numpy as np\n",
    "import pandas as pd\n",
    "from pathlib import Path\n",
    "from tqdm import tqdm\n",
    "import nest_asyncio\n",
    "nest_asyncio.apply()\n",
    "from collections import defaultdict\n",
    "from typing import Any\n",
    "\n",
    "from sklearn import metrics\n",
    "from matplotlib import pyplot as plt\n"
   ]
  },
  {
   "cell_type": "code",
   "execution_count": 183,
   "metadata": {},
   "outputs": [],
   "source": [
    "\n",
    "import tensorflow as tf\n",
    "import tensorflow_probability as tfp\n",
    "import tensorflow_probability.python.bijectors as tfb\n",
    "\n",
    "# pip install github:https://github.com/mederrata/bayesianquilts\n",
    "from bayesianquilts.models.logistic_regression_reparam import LogisticRegression2\n",
    "from bayesianquilts.metrics.classification import classification_metrics, auroc, auprc\n",
    "from bayesianquilts.sampler import psis, nppsis\n"
   ]
  },
  {
   "cell_type": "code",
   "execution_count": 48,
   "metadata": {},
   "outputs": [
    {
     "name": "stdout",
     "output_type": "stream",
     "text": [
      "(54, 1536)\n"
     ]
    }
   ],
   "source": [
    "\n",
    "X_ = pd.read_csv(Path.home() / \"workspace\" / \"bayesianquilts\"/ \"bayesianquilts\"/ \"data\" / \"overianx.csv\", header=None)\n",
    "y_ = pd.read_table(Path.home() / \"workspace\" / \"bayesianquilts\"/ \"bayesianquilts\"/ \"data\" / \"overiany.csv\", header=None)\n",
    "\n",
    "\n",
    "X_scaled = (X_ - X_.mean())/X_.std()\n",
    "X_scaled = X_scaled.fillna(0).to_numpy()\n",
    "y_ = y_.to_numpy()\n",
    "N = X_scaled.shape[0]\n",
    "d = X_scaled.shape[1]\n",
    "\n",
    "print((N, d))"
   ]
  },
  {
   "cell_type": "code",
   "execution_count": 49,
   "metadata": {},
   "outputs": [],
   "source": [
    "logistic_horseshoe_code = \"\"\"\n",
    "data {\n",
    "  int <lower=0> N;                // number  of  observations\n",
    "  int <lower=0> d;                // number  of  predictors\n",
    "  array[N] int<lower=0,upper=1> y;      // outputs\n",
    "  matrix[N,d] x;                  // inputs\n",
    "  real <lower=0>  scale_icept;    // prior  std for  the  intercept\n",
    "  real <lower=0>  scale_global;   // scale  for  the half -t prior  for  tau\n",
    "  real <lower=1>  nu_global;      // degrees  of  freedom  for the half -t prior for tau\n",
    "  real <lower=1> nu_local;        // degrees  of  freedom  for  the half -t priors for  lambdas\n",
    "  real <lower=0>  slab_scale;     // slab  scale  for  the  regularized  horseshoe\n",
    "  real <lower=0> slab_df;         // slab  degrees  of  freedom  for the  regularized horseshoe\n",
    "\n",
    "  //int<lower=0> N_tilde;\n",
    "  //matrix[N_tilde, d] x_tilde;\n",
    "  //array[N_tilde] int<lower=0,upper=1> y_obs;\n",
    "}\n",
    "parameters {\n",
    "  real  beta0;\n",
    "  vector[d] z;\n",
    "  real <lower=0> tau;             // global  shrinkage  parameter\n",
    "  vector <lower =0>[d] lambda;    // local  shrinkage  parameter\n",
    "  real <lower=0> caux;\n",
    "}\n",
    "transformed  parameters {\n",
    "  vector <lower =0>[d] lambda_tilde;    // ’truncated ’ local  shrinkage  parameter\n",
    "  real <lower=0> c;                     // slab  scale\n",
    "  vector[d] beta;                       // regression  coefficients\n",
    "  vector[N] f;                          // latent  function  values\n",
    "  c = slab_scale * sqrt(caux);\n",
    "  lambda_tilde = sqrt( c^2 * square(lambda) ./ (c^2 + tau^2* square(lambda )) );\n",
    "  beta = z .*  lambda_tilde*tau;\n",
    "  f = beta0 + x*beta;\n",
    "}\n",
    "model {\n",
    "  z ~ normal(0.0, 1.0); // half -t priors  for  lambdas  and tau , and  inverse -gamma  for c^2\n",
    "  lambda ~ student_t(nu_local , 0.0, 1.0);\n",
    "  tau ~ student_t(nu_global , 0.0, scale_global);\n",
    "  caux ~ inv_gamma (0.5* slab_df , 0.5* slab_df );\n",
    "  beta0 ~ normal(0.0,  scale_icept );\n",
    "  y ~ bernoulli_logit(f);\n",
    "}\n",
    "generated quantities {\n",
    "  vector[N] log_lik;\n",
    "  // vector[N_tilde] loo_log_lik;\n",
    "\n",
    "  for (nn in 1:N)\n",
    "    log_lik[nn] = bernoulli_logit_lpmf(y[nn] | x[nn] * beta + beta0);\n",
    "\n",
    "  //for (nn in 1:N_tilde)\n",
    "  //  loo_log_lik[nn] = bernoulli_logit_lpmf(y_obs[nn] | x_tilde[nn] * beta + beta0);\n",
    "}\n",
    "\"\"\"\n",
    "\n",
    "with open(\"ovarian_model.stan\", 'w') as f:\n",
    "  f.writelines(logistic_horseshoe_code)\n"
   ]
  },
  {
   "cell_type": "code",
   "execution_count": 50,
   "metadata": {},
   "outputs": [
    {
     "name": "stderr",
     "output_type": "stream",
     "text": [
      "12:40:28 - cmdstanpy - INFO - compiling stan file /home/josh/workspace/bayesianquilts/ovarian_model.stan to exe file /home/josh/workspace/bayesianquilts/ovarian_model\n"
     ]
    },
    {
     "ename": "KeyboardInterrupt",
     "evalue": "",
     "output_type": "error",
     "traceback": [
      "\u001b[0;31m---------------------------------------------------------------------------\u001b[0m",
      "\u001b[0;31mKeyboardInterrupt\u001b[0m                         Traceback (most recent call last)",
      "Cell \u001b[0;32mIn[50], line 1\u001b[0m\n\u001b[0;32m----> 1\u001b[0m sm \u001b[38;5;241m=\u001b[39m \u001b[43mCmdStanModel\u001b[49m\u001b[43m(\u001b[49m\u001b[43mstan_file\u001b[49m\u001b[38;5;241;43m=\u001b[39;49m\u001b[38;5;124;43m\"\u001b[39;49m\u001b[38;5;124;43movarian_model.stan\u001b[39;49m\u001b[38;5;124;43m\"\u001b[39;49m\u001b[43m)\u001b[49m\n",
      "File \u001b[0;32m~/workspace/readmission/env/src/cmdstanpy/cmdstanpy/model.py:252\u001b[0m, in \u001b[0;36mCmdStanModel.__init__\u001b[0;34m(self, model_name, stan_file, exe_file, force_compile, stanc_options, cpp_options, user_header, compile)\u001b[0m\n\u001b[1;32m    249\u001b[0m         get_logger()\u001b[38;5;241m.\u001b[39mdebug(\u001b[38;5;124m\"\u001b[39m\u001b[38;5;124mTBB already found in load path\u001b[39m\u001b[38;5;124m\"\u001b[39m)\n\u001b[1;32m    251\u001b[0m \u001b[38;5;28;01mif\u001b[39;00m \u001b[38;5;28mcompile\u001b[39m \u001b[38;5;129;01mand\u001b[39;00m \u001b[38;5;28mself\u001b[39m\u001b[38;5;241m.\u001b[39m_exe_file \u001b[38;5;129;01mis\u001b[39;00m \u001b[38;5;28;01mNone\u001b[39;00m:\n\u001b[0;32m--> 252\u001b[0m     \u001b[38;5;28;43mself\u001b[39;49m\u001b[38;5;241;43m.\u001b[39;49m\u001b[43mcompile\u001b[49m\u001b[43m(\u001b[49m\u001b[43mforce\u001b[49m\u001b[38;5;241;43m=\u001b[39;49m\u001b[38;5;28;43mstr\u001b[39;49m\u001b[43m(\u001b[49m\u001b[38;5;28;43mcompile\u001b[39;49m\u001b[43m)\u001b[49m\u001b[38;5;241;43m.\u001b[39;49m\u001b[43mlower\u001b[49m\u001b[43m(\u001b[49m\u001b[43m)\u001b[49m\u001b[43m \u001b[49m\u001b[38;5;241;43m==\u001b[39;49m\u001b[43m \u001b[49m\u001b[38;5;124;43m'\u001b[39;49m\u001b[38;5;124;43mforce\u001b[39;49m\u001b[38;5;124;43m'\u001b[39;49m\u001b[43m,\u001b[49m\u001b[43m \u001b[49m\u001b[43m_internal\u001b[49m\u001b[38;5;241;43m=\u001b[39;49m\u001b[38;5;28;43;01mTrue\u001b[39;49;00m\u001b[43m)\u001b[49m\n",
      "File \u001b[0;32m~/workspace/readmission/env/src/cmdstanpy/cmdstanpy/model.py:502\u001b[0m, in \u001b[0;36mCmdStanModel.compile\u001b[0;34m(self, force, stanc_options, cpp_options, user_header, override_options, _internal)\u001b[0m\n\u001b[1;32m    499\u001b[0m         \u001b[38;5;28;01melse\u001b[39;00m:\n\u001b[1;32m    500\u001b[0m             \u001b[38;5;28mself\u001b[39m\u001b[38;5;241m.\u001b[39m_compiler_options\u001b[38;5;241m.\u001b[39madd(compiler_options)\n\u001b[0;32m--> 502\u001b[0m \u001b[38;5;28mself\u001b[39m\u001b[38;5;241m.\u001b[39m_exe_file \u001b[38;5;241m=\u001b[39m \u001b[43mcompilation\u001b[49m\u001b[38;5;241;43m.\u001b[39;49m\u001b[43mcompile_stan_file\u001b[49m\u001b[43m(\u001b[49m\n\u001b[1;32m    503\u001b[0m \u001b[43m    \u001b[49m\u001b[38;5;28;43mstr\u001b[39;49m\u001b[43m(\u001b[49m\u001b[38;5;28;43mself\u001b[39;49m\u001b[38;5;241;43m.\u001b[39;49m\u001b[43mstan_file\u001b[49m\u001b[43m)\u001b[49m\u001b[43m,\u001b[49m\n\u001b[1;32m    504\u001b[0m \u001b[43m    \u001b[49m\u001b[43mforce\u001b[49m\u001b[38;5;241;43m=\u001b[39;49m\u001b[43mforce\u001b[49m\u001b[43m,\u001b[49m\n\u001b[1;32m    505\u001b[0m \u001b[43m    \u001b[49m\u001b[43mstanc_options\u001b[49m\u001b[38;5;241;43m=\u001b[39;49m\u001b[38;5;28;43mself\u001b[39;49m\u001b[38;5;241;43m.\u001b[39;49m\u001b[43m_compiler_options\u001b[49m\u001b[38;5;241;43m.\u001b[39;49m\u001b[43mstanc_options\u001b[49m\u001b[43m,\u001b[49m\n\u001b[1;32m    506\u001b[0m \u001b[43m    \u001b[49m\u001b[43mcpp_options\u001b[49m\u001b[38;5;241;43m=\u001b[39;49m\u001b[38;5;28;43mself\u001b[39;49m\u001b[38;5;241;43m.\u001b[39;49m\u001b[43m_compiler_options\u001b[49m\u001b[38;5;241;43m.\u001b[39;49m\u001b[43mcpp_options\u001b[49m\u001b[43m,\u001b[49m\n\u001b[1;32m    507\u001b[0m \u001b[43m    \u001b[49m\u001b[43muser_header\u001b[49m\u001b[38;5;241;43m=\u001b[39;49m\u001b[38;5;28;43mself\u001b[39;49m\u001b[38;5;241;43m.\u001b[39;49m\u001b[43m_compiler_options\u001b[49m\u001b[38;5;241;43m.\u001b[39;49m\u001b[43muser_header\u001b[49m\u001b[43m,\u001b[49m\n\u001b[1;32m    508\u001b[0m \u001b[43m\u001b[49m\u001b[43m)\u001b[49m\n",
      "File \u001b[0;32m~/workspace/readmission/env/src/cmdstanpy/cmdstanpy/compilation.py:447\u001b[0m, in \u001b[0;36mcompile_stan_file\u001b[0;34m(src, force, stanc_options, cpp_options, user_header)\u001b[0m\n\u001b[1;32m    445\u001b[0m sout \u001b[38;5;241m=\u001b[39m io\u001b[38;5;241m.\u001b[39mStringIO()\n\u001b[1;32m    446\u001b[0m \u001b[38;5;28;01mtry\u001b[39;00m:\n\u001b[0;32m--> 447\u001b[0m     \u001b[43mdo_command\u001b[49m\u001b[43m(\u001b[49m\u001b[43mcmd\u001b[49m\u001b[38;5;241;43m=\u001b[39;49m\u001b[43mcmd\u001b[49m\u001b[43m,\u001b[49m\u001b[43m \u001b[49m\u001b[43mcwd\u001b[49m\u001b[38;5;241;43m=\u001b[39;49m\u001b[43mcmdstan_path\u001b[49m\u001b[43m(\u001b[49m\u001b[43m)\u001b[49m\u001b[43m,\u001b[49m\u001b[43m \u001b[49m\u001b[43mfd_out\u001b[49m\u001b[38;5;241;43m=\u001b[39;49m\u001b[43msout\u001b[49m\u001b[43m)\u001b[49m\n\u001b[1;32m    448\u001b[0m \u001b[38;5;28;01mexcept\u001b[39;00m \u001b[38;5;167;01mRuntimeError\u001b[39;00m \u001b[38;5;28;01mas\u001b[39;00m e:\n\u001b[1;32m    449\u001b[0m     sout\u001b[38;5;241m.\u001b[39mwrite(\u001b[38;5;124mf\u001b[39m\u001b[38;5;124m'\u001b[39m\u001b[38;5;130;01m\\n\u001b[39;00m\u001b[38;5;132;01m{\u001b[39;00m\u001b[38;5;28mstr\u001b[39m(e)\u001b[38;5;132;01m}\u001b[39;00m\u001b[38;5;130;01m\\n\u001b[39;00m\u001b[38;5;124m'\u001b[39m)\n",
      "File \u001b[0;32m~/workspace/readmission/env/src/cmdstanpy/cmdstanpy/utils/command.py:53\u001b[0m, in \u001b[0;36mdo_command\u001b[0;34m(cmd, cwd, fd_out, pbar)\u001b[0m\n\u001b[1;32m     51\u001b[0m \u001b[38;5;28;01mwhile\u001b[39;00m proc\u001b[38;5;241m.\u001b[39mpoll() \u001b[38;5;129;01mis\u001b[39;00m \u001b[38;5;28;01mNone\u001b[39;00m:\n\u001b[1;32m     52\u001b[0m     \u001b[38;5;28;01mif\u001b[39;00m proc\u001b[38;5;241m.\u001b[39mstdout \u001b[38;5;129;01mis\u001b[39;00m \u001b[38;5;129;01mnot\u001b[39;00m \u001b[38;5;28;01mNone\u001b[39;00m:\n\u001b[0;32m---> 53\u001b[0m         line \u001b[38;5;241m=\u001b[39m \u001b[43mproc\u001b[49m\u001b[38;5;241;43m.\u001b[39;49m\u001b[43mstdout\u001b[49m\u001b[38;5;241;43m.\u001b[39;49m\u001b[43mreadline\u001b[49m\u001b[43m(\u001b[49m\u001b[43m)\u001b[49m\n\u001b[1;32m     54\u001b[0m         \u001b[38;5;28;01mif\u001b[39;00m fd_out \u001b[38;5;129;01mis\u001b[39;00m \u001b[38;5;129;01mnot\u001b[39;00m \u001b[38;5;28;01mNone\u001b[39;00m:\n\u001b[1;32m     55\u001b[0m             fd_out\u001b[38;5;241m.\u001b[39mwrite(line)\n",
      "\u001b[0;31mKeyboardInterrupt\u001b[0m: "
     ]
    }
   ],
   "source": [
    "sm = CmdStanModel(stan_file=\"ovarian_model.stan\")"
   ]
  },
  {
   "cell_type": "code",
   "execution_count": 7,
   "metadata": {},
   "outputs": [],
   "source": [
    "guessnumrelevcov = N / 10  # 20.\n",
    "slab_scale = 2.5\n",
    "scale_icept = 5.0\n",
    "nu_global = 1\n",
    "nu_local = 1\n",
    "slab_df = 1\n",
    "scale_global = guessnumrelevcov / ((d - guessnumrelevcov) * np.sqrt(N))\n",
    "\n",
    "control = {\"adapt_delta\": 0.9999, \"max_treedepth\": 15}\n",
    "\n",
    "# shuffle\n",
    "\n",
    "# shuffled_ndx = np.random.shuffle(np.arange(N))\n",
    "\n",
    "ovarian_data = {\n",
    "    \"N\": N,\n",
    "    \"d\": d,\n",
    "    \"slab_df\": slab_df,\n",
    "    \"slab_scale\": slab_scale,\n",
    "    \"scale_icept\": scale_icept,\n",
    "    \"nu_global\": 1,\n",
    "    \"nu_local\": 1,\n",
    "    \"scale_global\": scale_global,\n",
    "    \"y\": y_.astype(int)[:, 0].tolist(),\n",
    "    \"x\": X_scaled.tolist(),\n",
    "}\n",
    "\n",
    "import json\n",
    "\n",
    "with open(\"ovarian_data.json\", \"w\") as f:\n",
    "    json.dump(ovarian_data, f)"
   ]
  },
  {
   "cell_type": "code",
   "execution_count": 8,
   "metadata": {},
   "outputs": [
    {
     "name": "stdout",
     "output_type": "stream",
     "text": [
      "1536\n"
     ]
    }
   ],
   "source": [
    "print(d)"
   ]
  },
  {
   "cell_type": "code",
   "execution_count": 9,
   "metadata": {},
   "outputs": [
    {
     "name": "stderr",
     "output_type": "stream",
     "text": [
      "06:50:55 - cmdstanpy - INFO - CmdStan start processing\n"
     ]
    },
    {
     "data": {
      "application/vnd.jupyter.widget-view+json": {
       "model_id": "f8ccc348d20743df8d67e2c876db0c3d",
       "version_major": 2,
       "version_minor": 0
      },
      "text/plain": [
       "chain 1 |          | 00:00 Status"
      ]
     },
     "metadata": {},
     "output_type": "display_data"
    },
    {
     "data": {
      "application/vnd.jupyter.widget-view+json": {
       "model_id": "170c7b837ed040d9b6352d5f6ab36769",
       "version_major": 2,
       "version_minor": 0
      },
      "text/plain": [
       "chain 2 |          | 00:00 Status"
      ]
     },
     "metadata": {},
     "output_type": "display_data"
    },
    {
     "data": {
      "application/vnd.jupyter.widget-view+json": {
       "model_id": "5c269c340eb54ce49bd3ab062dd479d1",
       "version_major": 2,
       "version_minor": 0
      },
      "text/plain": [
       "chain 3 |          | 00:00 Status"
      ]
     },
     "metadata": {},
     "output_type": "display_data"
    },
    {
     "data": {
      "application/vnd.jupyter.widget-view+json": {
       "model_id": "b9911b5e55ce4a7fb5c040c446ff8efb",
       "version_major": 2,
       "version_minor": 0
      },
      "text/plain": [
       "chain 4 |          | 00:00 Status"
      ]
     },
     "metadata": {},
     "output_type": "display_data"
    },
    {
     "name": "stdout",
     "output_type": "stream",
     "text": [
      "                                                                                                                                                                                                                                                                                                                                "
     ]
    },
    {
     "name": "stderr",
     "output_type": "stream",
     "text": [
      "07:12:37 - cmdstanpy - INFO - CmdStan done processing.\n"
     ]
    },
    {
     "name": "stdout",
     "output_type": "stream",
     "text": [
      "\n"
     ]
    }
   ],
   "source": [
    "S = 1800\n",
    "fit = sm.sample(\n",
    "    data=\"ovarian_data.json\",\n",
    "    iter_warmup=15000,\n",
    "    iter_sampling=S,\n",
    "    thin=2,\n",
    "    **control\n",
    ")"
   ]
  },
  {
   "cell_type": "code",
   "execution_count": 10,
   "metadata": {},
   "outputs": [
    {
     "name": "stdout",
     "output_type": "stream",
     "text": [
      "CmdStanMCMC: model=ovarian_model chains=4['method=sample', 'num_samples=1800', 'num_warmup=15000', 'thin=2', 'algorithm=hmc', 'engine=nuts', 'max_depth=15', 'adapt', 'engaged=1', 'delta=0.9999']\n",
      " csv_files:\n",
      "\t/tmp/tmp79sh6rwv/ovarian_modelw1k8q_jb/ovarian_model-20241009065055_1.csv\n",
      "\t/tmp/tmp79sh6rwv/ovarian_modelw1k8q_jb/ovarian_model-20241009065055_2.csv\n",
      "\t/tmp/tmp79sh6rwv/ovarian_modelw1k8q_jb/ovarian_model-20241009065055_3.csv\n",
      "\t/tmp/tmp79sh6rwv/ovarian_modelw1k8q_jb/ovarian_model-20241009065055_4.csv\n",
      " output_files:\n",
      "\t/tmp/tmp79sh6rwv/ovarian_modelw1k8q_jb/ovarian_model-20241009065055_0-stdout.txt\n",
      "\t/tmp/tmp79sh6rwv/ovarian_modelw1k8q_jb/ovarian_model-20241009065055_1-stdout.txt\n",
      "\t/tmp/tmp79sh6rwv/ovarian_modelw1k8q_jb/ovarian_model-20241009065055_2-stdout.txt\n",
      "\t/tmp/tmp79sh6rwv/ovarian_modelw1k8q_jb/ovarian_model-20241009065055_3-stdout.txt\n"
     ]
    }
   ],
   "source": [
    "print(fit)"
   ]
  },
  {
   "cell_type": "code",
   "execution_count": 11,
   "metadata": {},
   "outputs": [
    {
     "name": "stdout",
     "output_type": "stream",
     "text": [
      "Processing csv files: /tmp/tmp79sh6rwv/ovarian_modelw1k8q_jb/ovarian_model-20241009065055_1.csv, /tmp/tmp79sh6rwv/ovarian_modelw1k8q_jb/ovarian_model-20241009065055_2.csv, /tmp/tmp79sh6rwv/ovarian_modelw1k8q_jb/ovarian_model-20241009065055_3.csv, /tmp/tmp79sh6rwv/ovarian_modelw1k8q_jb/ovarian_model-20241009065055_4.csv\n",
      "\n",
      "Checking sampler transitions treedepth.\n",
      "Treedepth satisfactory for all transitions.\n",
      "\n",
      "Checking sampler transitions for divergences.\n",
      "No divergent transitions found.\n",
      "\n",
      "Checking E-BFMI - sampler transitions HMC potential energy.\n",
      "E-BFMI satisfactory.\n",
      "\n",
      "Effective sample size satisfactory.\n",
      "\n",
      "Split R-hat values satisfactory all parameters.\n",
      "\n",
      "Processing complete, no problems detected.\n",
      "\n"
     ]
    }
   ],
   "source": [
    "print(fit.diagnose())"
   ]
  },
  {
   "cell_type": "code",
   "execution_count": 12,
   "metadata": {},
   "outputs": [],
   "source": [
    "params = fit.stan_variables()\n",
    "params.keys()\n",
    "params['c'] = params['c'][:, tf.newaxis]\n",
    "params['tau'] = params['tau'][:, tf.newaxis]\n",
    "params['caux'] = params['caux'][:, tf.newaxis]\n",
    "params['beta0'] = params['beta0'][:, tf.newaxis]\n"
   ]
  },
  {
   "cell_type": "code",
   "execution_count": 13,
   "metadata": {},
   "outputs": [
    {
     "data": {
      "text/plain": [
       "TensorShape([3600, 1536])"
      ]
     },
     "execution_count": 13,
     "metadata": {},
     "output_type": "execute_result"
    }
   ],
   "source": [
    "\n",
    "c = slab_scale * tf.math.sqrt(params[\"caux\"])\n",
    "lambda_tilde = tf.math.sqrt(\n",
    "    c**2\n",
    "    * params[\"lambda\"] ** 2\n",
    "    / (c**2 + params[\"tau\"] ** 2 * params[\"lambda\"] ** 2)\n",
    ")\n",
    "beta_fitted = params[\"z\"] * lambda_tilde * params[\"tau\"]\n",
    "beta_fitted.shape"
   ]
  },
  {
   "cell_type": "code",
   "execution_count": 14,
   "metadata": {},
   "outputs": [
    {
     "data": {
      "image/png": "[encoded data removed]",
      "text/plain": [
       "<Figure size 800x100 with 2 Axes>"
      ]
     },
     "metadata": {},
     "output_type": "display_data"
    }
   ],
   "source": [
    "beta_fitted = np.mean(beta_fitted, axis=0, keepdims=True)\n",
    "fig, ax = plt.subplots(1, 1, figsize=(8, 1))\n",
    "im = ax.pcolormesh(beta_fitted, cmap='seismic_r', vmin=-0.2, vmax=0.2)\n",
    "_ = plt.ylabel(\"covariate\")\n",
    "\n",
    "plt.colorbar(im)\n",
    "plt.savefig(\"ovarian_mcmc_fit.pdf\", bbox_inches='tight')"
   ]
  },
  {
   "cell_type": "code",
   "execution_count": 15,
   "metadata": {},
   "outputs": [],
   "source": [
    "lr_model = LogisticRegression2(\n",
    "    dim_regressors=d,\n",
    "    slab_df=slab_df,\n",
    "    slab_scale=slab_scale,\n",
    "    scale_icept=scale_icept,\n",
    "    nu_global=1,\n",
    "    nu_local=1,\n",
    "    scale_global=scale_global,\n",
    ")"
   ]
  },
  {
   "cell_type": "code",
   "execution_count": 16,
   "metadata": {},
   "outputs": [],
   "source": [
    "tfdata = tf.data.Dataset.from_tensor_slices({'X': X_scaled, 'y':y_})\n",
    "batch_size = N\n",
    "def data_factory_factory(batch_size=batch_size, repeat=False, shuffle=False):\n",
    "    def data_factory(batch_size=batch_size):\n",
    "        if shuffle:\n",
    "            out = tfdata.shuffle(batch_size*10)\n",
    "        else:\n",
    "            out = tfdata\n",
    "        \n",
    "        if repeat:\n",
    "            out = out.repeat()\n",
    "        return out.batch(batch_size)\n",
    "    return data_factory\n",
    "\n",
    "batch = next(iter(data_factory_factory()()))"
   ]
  },
  {
   "cell_type": "code",
   "execution_count": 17,
   "metadata": {},
   "outputs": [
    {
     "name": "stderr",
     "output_type": "stream",
     "text": [
      "0it [00:00, ?it/s]2024-10-09 07:12:52.218398: W external/local_tsl/tsl/framework/cpu_allocator_impl.cc:83] Allocation of 2388787200 exceeds 10% of free system memory.\n",
      "1it [00:00,  2.08it/s]\n"
     ]
    },
    {
     "data": {
      "text/plain": [
       "(0.0, 1.0)"
      ]
     },
     "execution_count": 17,
     "metadata": {},
     "output_type": "execute_result"
    },
    {
     "data": {
      "image/png": "[encoded data removed]",
      "text/plain": [
       "<Figure size 900x200 with 2 Axes>"
      ]
     },
     "metadata": {},
     "output_type": "display_data"
    }
   ],
   "source": [
    "def prediction_fn(data):\n",
    "    pred = lr_model.predictive_distribution(data, **params)[\"logits\"]\n",
    "    return tf.reduce_mean(pred, axis=0)\n",
    "\n",
    "bench = classification_metrics(\n",
    "    data_factory=data_factory_factory(),\n",
    "    prediction_fn=prediction_fn,\n",
    "    outcome_label='y',\n",
    "    by_vars=[]\n",
    ")\n",
    "\n",
    "fig, ax = plt.subplots(1, 2, figsize=(9, 2))\n",
    "ax[0].plot(bench['auroc']['fpr'], bench['auroc']['tpr'])\n",
    "ax[0].text(0.5, 0.1, f\"AUROC: {round(bench['auroc']['auroc'], 2)}\")\n",
    "ax[0].set_xlim((0, 1))\n",
    "ax[0].set_ylim((0, 1))\n",
    "ax[0].set_title(\"ROC\")\n",
    "\n",
    "ax[1].plot(bench['auprc']['recall'], bench['auprc']['precision'])\n",
    "ax[1].text(0.5, 0.8, f\"AUPRC: {round(bench['auprc']['auprc'], 2)}\")\n",
    "ax[1].set_title(\"Precision-Recall\")\n",
    "ax[1].set_xlim((0, 1))\n",
    "ax[1].set_ylim((0, 1))"
   ]
  },
  {
   "cell_type": "code",
   "execution_count": 54,
   "metadata": {},
   "outputs": [
    {
     "name": "stdout",
     "output_type": "stream",
     "text": [
      "I: 0.05022803851829324 entropy: 10.172541344131268 khat>0.7: 26\n",
      "LL: 0.05035596354678284 entropy: 10.169695737094017 khat>0.7: 22\n",
      "KL: 0.05015680687730747 entropy: 10.173961827281156 khat>0.7: 21\n",
      "Var: 0.05007886078923832 entropy: 10.174656363946037 khat>0.7: 23\n",
      "MM1: 0.05112139617022904 entropy: 10.131518026229323 khat>0.7: 17\n",
      "MM2: 0.48032581695323373 entropy: 0.0 khat>0.7: 26\n"
     ]
    }
   ],
   "source": [
    "def entropy(probs):\n",
    "    return -tf.math.xlogy(probs, probs)\n",
    "\n",
    "\n",
    "def adaptive_is_loo(\n",
    "    self: LogisticRegression2,\n",
    "    data: dict[str, tf.Tensor],\n",
    "    params,\n",
    "    hbar=1.0,\n",
    "    variational=True,\n",
    ") -> dict[str, Any]:\n",
    "    \"\"\"_summary_\n",
    "\n",
    "    Args:\n",
    "        data (_type_): _description_\n",
    "        params (_type_): _description_\n",
    "        hbar (float, optional): _description_. Defaults to 1.0.\n",
    "        variational (bool, optional):\n",
    "            Should we trust the variational approximation?\n",
    "            If False, assumes that one is passing in all the data at once in a single batch.\n",
    "            Defaults to True.\n",
    "\n",
    "    Returns:\n",
    "        _type_: _description_\n",
    "    \"\"\"\n",
    "\n",
    "    # scaled (theta - bar(theta))/Sigma\n",
    "    c = self.slab_scale * tf.math.sqrt(params[\"caux\"])\n",
    "    lambda_tilde = tf.math.sqrt(\n",
    "        c**2\n",
    "        * params[\"lambda\"] ** 2\n",
    "        / (c**2 + params[\"tau\"] ** 2 * params[\"lambda\"] ** 2)\n",
    "    )\n",
    "    beta = params[\"z\"] * lambda_tilde * params[\"tau\"]\n",
    "    intercept = params[\"beta0\"]\n",
    "    _X = tf.cast(data[\"X\"], self.dtype)\n",
    "    _y = tf.cast(data[\"y\"], self.dtype)[:, 0]\n",
    "    mu = beta[..., tf.newaxis, :] * _X\n",
    "    mu = tf.reduce_sum(mu, -1) + params[\"beta0\"]\n",
    "    sigma = tf.math.sigmoid(mu)\n",
    "    ell = _y * (sigma) + (1 - _y) * (1 - sigma)\n",
    "    log_ell = tf.math.xlogy(_y, sigma) + tf.math.xlogy(1 - _y, 1 - sigma)\n",
    "    log_ell_prime = _y * (1 - sigma) - (1 - _y) * sigma\n",
    "    log_ell_doubleprime = -sigma * (1 - sigma)\n",
    "    _, khat0 = nppsis.psislw(-log_ell)\n",
    "\n",
    "    \"\"\"\n",
    "    sigma.shape is samples x datapoints\n",
    "    \"\"\"\n",
    "\n",
    "    ndx_to_transform = np.where(khat0 > 0.7)[0]\n",
    "    ndx_to_leave = np.where((khat0 <= 0.7))[0]\n",
    "\n",
    "    def IS(T, X, y):\n",
    "        mu = beta[..., tf.newaxis, :] * X\n",
    "        mu = tf.reduce_sum(mu, -1) + params[\"beta0\"]\n",
    "        sigma = tf.math.sigmoid(mu)\n",
    "        ell = y * (sigma) + (1 - y) * (1 - sigma)\n",
    "        log_ell = tf.math.xlogy(y, sigma) + tf.math.xlogy(1 - y, 1 - sigma)\n",
    "        log_ell_prime = y * (1 - sigma) - (1 - y) * sigma\n",
    "        log_ell_doubleprime = -sigma * (1 - sigma)\n",
    "        # compute # \\nabla\\log\\pi(\\btheta|\\calD)\n",
    "        if variational:\n",
    "            # \\nabla\\log\\pi = -\\Sigma^{-1}(theta - \\bar{\\theta})\n",
    "            grad_log_pi = tf.concat(\n",
    "                [\n",
    "                    -(\n",
    "                        intercept\n",
    "                        - self.surrogate_distribution.model[\"intercept__\"].mean()\n",
    "                    )\n",
    "                    / self.surrogate_distribution.model[\"intercept__\"].variance(),\n",
    "                    -(beta - self.surrogate_distribution.model[\"beta__\"].mean())\n",
    "                    / self.surrogate_distribution.model[\"beta__\"].variance(),\n",
    "                ],\n",
    "                axis=-1,\n",
    "            )\n",
    "            intercept_sd = (\n",
    "                self.surrogate_distribution.model[\"intercept__\"].variance() ** 0.5\n",
    "            )\n",
    "            beta_sd = self.surrogate_distribution.model[\"beta__\"].variance() ** 0.5\n",
    "\n",
    "            log_pi = self.surrogate_distribution.model[\"beta__\"].log_prob(\n",
    "                params[\"beta__\"]\n",
    "            ) + self.surrogate_distribution.model[\"intercept__\"].log_prob(\n",
    "                params[\"intercept__\"]\n",
    "            )\n",
    "            log_pi -= tf.reduce_max(log_pi, axis=0)\n",
    "            # log_pi.shape: [samples]\n",
    "        else:\n",
    "            \"\"\"\n",
    "            Recall Bayes rule:\n",
    "            \\log pi(\\btheta|\\calD) = \\sum_i\\log ell_i(\\btheta) + \\log\\pi(\\btheta) + const\n",
    "\n",
    "            so\n",
    "            \\nabla\\log\\pi(\\btheta|\\calD) = \\sum_i (ell_i)'x + grad\\log\\pi(\\btheta)\n",
    "\n",
    "            \"\"\"\n",
    "            log_prior = self.prior_distribution.log_prob_parts(params)\n",
    "            log_prior = log_prior[\"z\"] + log_prior[\"beta0\"]\n",
    "\n",
    "            log_pi = tf.reduce_sum(log_ell, axis=1, keepdims=True)[:, 0]\n",
    "\n",
    "            # pi \\propto\n",
    "            grad_log_pi = tf.concat(\n",
    "                [\n",
    "                    tf.reduce_sum(\n",
    "                        log_ell_prime[..., tf.newaxis], axis=1, keepdims=True\n",
    "                    ),\n",
    "                    tf.reduce_sum(\n",
    "                        log_ell_prime[..., tf.newaxis] * X, axis=1, keepdims=True\n",
    "                    ),\n",
    "                ],\n",
    "                axis=-1,\n",
    "            )\n",
    "\n",
    "            grad_log_prior = -0.5 * tf.concat(\n",
    "                [(params[\"beta0\"] / self.scale_icept) ** 2, (params[\"z\"]) ** 2],\n",
    "                axis=-1,\n",
    "            )\n",
    "            grad_log_pi += grad_log_prior[:, tf.newaxis, :]\n",
    "\n",
    "            intercept_sd = tf.math.reduce_std(intercept, 0, keepdims=True)\n",
    "            beta_sd = tf.math.reduce_std(beta, 0, keepdims=True)\n",
    "\n",
    "        beta_new, intercept_new, logJ = T(\n",
    "            X,\n",
    "            y,\n",
    "            log_pi=log_pi,\n",
    "            grad_log_pi=grad_log_pi,\n",
    "            beta_sd=beta_sd,\n",
    "            intercept_sd=intercept_sd,\n",
    "        )\n",
    "        mu_new = tf.reduce_sum(beta_new * X, axis=-1) + intercept_new[..., 0]\n",
    "        sigma_new = tf.math.sigmoid(mu_new)\n",
    "        ell_new = y * (sigma_new) + (1 - y) * (1 - sigma_new)\n",
    "        log_ell_new = tf.math.xlogy(y, sigma_new) + tf.math.xlogy(1 - y, 1 - sigma_new)\n",
    "        c = self.slab_scale * tf.math.sqrt(params[\"caux\"])\n",
    "        lambda_tilde = tf.math.sqrt(\n",
    "            c**2\n",
    "            * params[\"lambda\"] ** 2\n",
    "            / (c**2 + params[\"tau\"] ** 2 * params[\"lambda\"] ** 2)\n",
    "        )\n",
    "        transformed = params.copy()\n",
    "        transformed[\"z\"] = beta_new / (\n",
    "            lambda_tilde[:, tf.newaxis, :] * params[\"tau\"][..., tf.newaxis]\n",
    "        )\n",
    "        transformed[\"beta0\"] = intercept_new\n",
    "\n",
    "        if variational:\n",
    "            # We trust the variational approximation, so \\hat{pi} = pi\n",
    "            # N_samples x N_data\n",
    "            delta_log_pi = (\n",
    "                self.surrogate_distribution.log_prob(transformed)\n",
    "                - log_pi[:, tf.newaxis]\n",
    "            )\n",
    "            delta_log_pi = delta_log_pi - tf.reduce_max(\n",
    "                delta_log_pi, axis=0, keepdims=True\n",
    "            )\n",
    "            pass\n",
    "        else:\n",
    "            # we don't trust the variational approximation\n",
    "            # Need to compute log_pi directly by summing over the likelihood\n",
    "\n",
    "            ell_cross = tf.math.sigmoid(\n",
    "                tf.reduce_sum(beta_new[..., tf.newaxis, :] * X, -1) + intercept_new\n",
    "            )\n",
    "            ell_cross = tf.math.xlogy(y, ell_cross) + tf.math.xlogy(\n",
    "                1 - y, 1 - ell_cross\n",
    "            )\n",
    "            ell_cross = tf.math.reduce_sum(ell_cross, axis=-1)\n",
    "\n",
    "            log_prior_new = self.prior_distribution.log_prob_parts(transformed)\n",
    "            log_prior_new = log_prior_new[\"z\"] + log_prior_new[\"beta0\"]\n",
    "            log_pi_new = ell_cross\n",
    "            delta_log_prior = log_prior_new - log_prior[:, tf.newaxis]\n",
    "            # Incorporate the prior\n",
    "            delta_log_pi = log_pi_new - log_pi[:, tf.newaxis] + delta_log_prior\n",
    "\n",
    "        # regularize delta_log_pi\n",
    "\n",
    "        def regularize(tensor):\n",
    "            min_finite = tf.reduce_min(\n",
    "                tf.where(\n",
    "                    tf.math.is_finite(tensor),\n",
    "                    tensor,\n",
    "                    tf.zeros_like(tensor),\n",
    "                )\n",
    "            )\n",
    "            return tf.where(\n",
    "                tf.math.is_finite(tensor),\n",
    "                tensor,\n",
    "                min_finite * tf.ones_like(tensor),\n",
    "            )\n",
    "\n",
    "        delta_log_pi = regularize(delta_log_pi)\n",
    "        delta_log_pi -= tf.reduce_max(delta_log_pi, axis=0)\n",
    "        log_eta_weights = delta_log_pi - regularize(log_ell_new) + logJ\n",
    "        log_eta_weights = log_eta_weights - tf.reduce_max(log_eta_weights, axis=0)\n",
    "        psis_weights, khat = nppsis.psislw(log_eta_weights)\n",
    "\n",
    "        eta_weights = tf.math.exp(log_eta_weights)\n",
    "        eta_weights = eta_weights / tf.reduce_sum(eta_weights, axis=0, keepdims=True)\n",
    "\n",
    "        psis_weights = tf.math.exp(psis_weights)\n",
    "        psis_weights = psis_weights / tf.math.reduce_sum(\n",
    "            psis_weights, axis=0, keepdims=True\n",
    "        )\n",
    "\n",
    "        weight_entropy = self.entropy(eta_weights)\n",
    "        psis_entropy = self.entropy(psis_weights)\n",
    "\n",
    "        p_loo_new = tf.reduce_sum(sigma_new * eta_weights, axis=0)\n",
    "        p_loo_psis = tf.reduce_sum(sigma_new * psis_weights, axis=0)\n",
    "        p_loo_sd = tf.math.reduce_std(sigma_new * eta_weights, axis=0)\n",
    "        ll_loo_new = tf.reduce_sum(eta_weights * ell_new, axis=0)\n",
    "        ll_loo_psis = tf.reduce_sum(psis_weights * ell_new, axis=0)\n",
    "        ll_loo_sd = tf.math.reduce_std(eta_weights * ell_new, axis=0)\n",
    "        return (\n",
    "            eta_weights,\n",
    "            psis_weights,\n",
    "            p_loo_new,\n",
    "            p_loo_sd,\n",
    "            ll_loo_new,\n",
    "            ll_loo_sd,\n",
    "            weight_entropy,\n",
    "            khat,\n",
    "            p_loo_psis,\n",
    "            ll_loo_psis,\n",
    "        )\n",
    "\n",
    "    # log-likelihood descent\n",
    "\n",
    "    def T_ll(X, y, log_pi, beta_sd, intercept_sd, **kwargs):\n",
    "        mu = beta[..., tf.newaxis, :] * X\n",
    "        mu = tf.reduce_sum(mu, -1) + params[\"beta0\"]\n",
    "        sigma = tf.math.sigmoid(mu)\n",
    "\n",
    "        log_ell_prime = y * (1 - sigma) - (1 - y) * sigma\n",
    "\n",
    "        Q_beta = -log_ell_prime[..., tf.newaxis] * X\n",
    "        Q_intercept = -log_ell_prime[..., tf.newaxis]\n",
    "\n",
    "        standardized = tf.concat(\n",
    "            [Q_beta / beta_sd, Q_intercept / intercept_sd], axis=-1\n",
    "        )\n",
    "        standardized = tf.reduce_max(tf.math.abs(standardized), axis=-1)\n",
    "        standardized = tf.reduce_max(standardized, axis=0, keepdims=True)[\n",
    "            ..., tf.newaxis\n",
    "        ]\n",
    "\n",
    "        h = hbar / standardized\n",
    "        logJ = tf.math.log1p(\n",
    "            tf.math.abs(\n",
    "                h\n",
    "                * (1 + tf.math.reduce_sum(X**2, -1, keepdims=True))[tf.newaxis, :, :]\n",
    "                * (sigma * (1 - sigma))[..., tf.newaxis]\n",
    "            )[..., 0]\n",
    "        )\n",
    "        beta_ll = beta[..., tf.newaxis, :] + h * Q_beta\n",
    "        intercept_ll = intercept[..., tf.newaxis, :] + h * Q_intercept\n",
    "        return beta_ll, intercept_ll, logJ\n",
    "\n",
    "    def T_kl(X, y, log_pi, grad_log_pi, beta_sd, intercept_sd):\n",
    "        log_pi_ = log_pi - tf.reduce_max(log_pi, axis=0, keepdims=True)\n",
    "        mu = beta[..., tf.newaxis, :] * X\n",
    "        mu = tf.reduce_sum(mu, -1) + params[\"beta0\"]\n",
    "        Q_beta = ((-1) ** y * tf.math.exp(log_pi_[..., tf.newaxis] + mu * (1 - 2 * y)))[\n",
    "            ..., tf.newaxis\n",
    "        ] * X\n",
    "        Q_intercept = (\n",
    "            ((-1) ** y) * tf.math.exp(log_pi_[..., tf.newaxis] + mu * (1 - 2 * y))\n",
    "        )[..., tf.newaxis]\n",
    "\n",
    "        dQ = (-1) ** y[tf.newaxis, :] * tf.math.exp(\n",
    "            log_pi_[..., tf.newaxis] + mu * (1 - 2 * y[tf.newaxis, :])\n",
    "        )\n",
    "        dQ *= (\n",
    "            grad_log_pi[..., 0]\n",
    "            + (1 - 2 * y)[tf.newaxis, :]\n",
    "            + tf.reduce_sum(\n",
    "                X\n",
    "                * (\n",
    "                    grad_log_pi[..., 1:]\n",
    "                    + (1 - 2 * y)[:, tf.newaxis] * X[tf.newaxis, ...]\n",
    "                ),\n",
    "                axis=-1,\n",
    "            )\n",
    "        )\n",
    "\n",
    "        standardized = tf.concat(\n",
    "            [Q_beta / beta_sd, Q_intercept / intercept_sd], axis=-1\n",
    "        )\n",
    "        standardized = tf.reduce_max(tf.math.abs(standardized), axis=-1)\n",
    "        standardized = tf.reduce_max(standardized, axis=0, keepdims=True)[\n",
    "            ..., tf.newaxis\n",
    "        ]\n",
    "\n",
    "        h = hbar / standardized\n",
    "\n",
    "        intercept_kl = intercept[..., tf.newaxis] + h * Q_intercept\n",
    "        beta_kl = beta[..., tf.newaxis, :] + h * Q_beta\n",
    "\n",
    "        logJ = tf.math.log1p(tf.math.abs(h[..., 0] * dQ))\n",
    "        return beta_kl, intercept_kl, logJ\n",
    "\n",
    "    def T_I(X, y, **kwargs):\n",
    "        mu = beta[..., tf.newaxis, :] * X\n",
    "        mu = tf.reduce_sum(mu, -1) + params[\"beta0\"]\n",
    "        sigma = tf.math.sigmoid(mu)\n",
    "\n",
    "        log_ell = tf.math.xlogy(y, sigma) + tf.math.xlogy(1 - y, 1 - sigma)\n",
    "        Q = tf.zeros_like(log_ell)\n",
    "        return (\n",
    "            beta[:, tf.newaxis, :] + Q[..., tf.newaxis],\n",
    "            intercept[..., tf.newaxis] + Q[..., tf.newaxis],\n",
    "            tf.zeros_like(Q),\n",
    "        )\n",
    "\n",
    "    def T_var(X, y, log_pi, grad_log_pi, beta_sd, intercept_sd, **kwargs):\n",
    "        log_pi_ = log_pi - tf.reduce_max(log_pi, axis=0, keepdims=True)\n",
    "        mu = beta[..., tf.newaxis, :] * X\n",
    "        mu = tf.reduce_sum(mu, -1) + params[\"beta0\"]\n",
    "        Q_beta = (\n",
    "            (-1) ** y * tf.math.exp(log_pi_[..., tf.newaxis] + 2 * mu * (1 - 2 * y))\n",
    "        )[..., tf.newaxis] * X\n",
    "        Q_intercept = (\n",
    "            (-1) ** y * tf.math.exp(log_pi_[..., tf.newaxis] + 2 * mu * (1 - 2 * y))\n",
    "        )[..., tf.newaxis]\n",
    "\n",
    "        dQ = (\n",
    "            (-1) ** y[tf.newaxis, :]\n",
    "            * tf.math.exp(\n",
    "                log_pi_[..., tf.newaxis] + 2 * mu * (1 - 2 * y[tf.newaxis, :])\n",
    "            )\n",
    "            * (\n",
    "                grad_log_pi[..., 0]\n",
    "                + (1 - 2 * y)[tf.newaxis, :]\n",
    "                + tf.reduce_sum(\n",
    "                    X * (grad_log_pi[..., 1:] + 2 * (1 - 2 * y)[:, tf.newaxis] * X),\n",
    "                    axis=-1,\n",
    "                )\n",
    "            )\n",
    "        )\n",
    "\n",
    "        standardized = tf.concat(\n",
    "            [Q_beta / beta_sd, Q_intercept / intercept_sd], axis=-1\n",
    "        )\n",
    "        standardized = tf.reduce_max(tf.math.abs(standardized), axis=-1)\n",
    "        standardized = tf.reduce_max(standardized, axis=0, keepdims=True)[\n",
    "            ..., tf.newaxis\n",
    "        ]\n",
    "\n",
    "        h = hbar / standardized\n",
    "\n",
    "        intercept_kl = intercept[..., tf.newaxis, :] + h * Q_intercept\n",
    "        beta_kl = beta[..., tf.newaxis, :] + h * Q_beta\n",
    "\n",
    "        logJ = tf.math.log1p(tf.math.abs(h[..., 0] * dQ))\n",
    "        return beta_kl, intercept_kl, logJ\n",
    "\n",
    "    def T_MM1(X, y, **kwargs):\n",
    "        c = self.slab_scale * tf.math.sqrt(params[\"caux\"])\n",
    "        lambda_tilde = tf.math.abs(c) / tf.math.sqrt(\n",
    "            (c / params[\"lambda\"]) ** 2 + params[\"tau\"] ** 2\n",
    "        )\n",
    "        beta = params[\"z\"] * lambda_tilde * params[\"tau\"]\n",
    "        mu = beta[..., tf.newaxis, :] * X\n",
    "        mu = tf.reduce_sum(mu, -1) + params[\"beta0\"]\n",
    "        sigma = tf.math.sigmoid(mu)\n",
    "        ell = y * (sigma) + (1 - y) * (1 - sigma)  # S x N\n",
    "\n",
    "        weights = (\n",
    "            1\n",
    "            / ell[..., tf.newaxis]\n",
    "            / tf.reduce_sum(1 / ell[..., tf.newaxis], axis=0, keepdims=True)\n",
    "        )\n",
    "\n",
    "        def theta_hat(param):  # param is S x K\n",
    "            hat = tf.reduce_mean(param[:, tf.newaxis, ...], axis=0, keepdims=True)\n",
    "            hat_w = param[:, tf.newaxis, ...] * weights\n",
    "            hat_w = tf.reduce_sum(hat_w, axis=0, keepdims=True)\n",
    "            v = tf.reduce_mean((param[:, tf.newaxis, ...] - hat) ** 2)\n",
    "            v_w = tf.reduce_sum(\n",
    "                weights * (param[:, tf.newaxis, ...] - hat) ** 2, axis=0, keepdims=True\n",
    "            )\n",
    "            return hat, hat_w, v, v_w\n",
    "\n",
    "        beta_hat, beta_hat_w, beta_v, beta_v_w = theta_hat(beta)\n",
    "        beta0_hat, beta0_hat_w, beta0_v, beta0_v_w = theta_hat(params[\"beta0\"])\n",
    "\n",
    "        # tf.math.exp(0.5*(tf.math.log(beta_v_w) - tf.math.log(beta_v)))-tf.math.sqrt(beta_v_w / beta_v)\n",
    "\n",
    "        beta_adj = beta[:, tf.newaxis, ...] + hbar*( - beta_hat + beta_hat_w)\n",
    "        beta0_adj = params[\"beta0\"][:, tf.newaxis, ...]  + hbar *(- beta0_hat + beta0_hat_w)\n",
    "\n",
    "        J = 1 - hbar*(1 / tf.reduce_sum(tf.ones_like(c)) + tf.reduce_sum(weights, axis=-1))\n",
    "\n",
    "        # shift by mean\n",
    "        return beta_adj, beta0_adj, tf.math.log(J)\n",
    "\n",
    "    def T_MM2(X, y, **kwargs):\n",
    "        c = self.slab_scale * tf.math.sqrt(params[\"caux\"])\n",
    "        lambda_tilde = tf.math.abs(c) / tf.math.sqrt(\n",
    "            (c / params[\"lambda\"]) ** 2 + params[\"tau\"] ** 2\n",
    "        )\n",
    "        beta = params[\"z\"] * lambda_tilde * params[\"tau\"]\n",
    "        mu = beta[..., tf.newaxis, :] * X\n",
    "        mu = tf.reduce_sum(mu, -1) + params[\"beta0\"]\n",
    "        sigma = tf.math.sigmoid(mu)\n",
    "        ell = y * (sigma) + (1 - y) * (1 - sigma)  # S x N\n",
    "\n",
    "        weights = (\n",
    "            1\n",
    "            / ell[..., tf.newaxis]\n",
    "            / tf.reduce_sum(1 / ell[..., tf.newaxis], axis=0, keepdims=True)\n",
    "        )\n",
    "\n",
    "        def theta_hat(param):  # param is S x K\n",
    "            hat = tf.reduce_mean(param[:, tf.newaxis, ...], axis=0, keepdims=True)\n",
    "            hat_w = param[:, tf.newaxis, ...] * weights\n",
    "            hat_w = tf.reduce_sum(hat_w, axis=0, keepdims=True)\n",
    "            v = tf.reduce_mean((param[:, tf.newaxis, ...] - hat) ** 2)\n",
    "            v_w = tf.reduce_sum(\n",
    "                weights * (param[:, tf.newaxis, ...] - hat) ** 2, axis=0, keepdims=True\n",
    "            )\n",
    "            return hat, hat_w, v, v_w\n",
    "\n",
    "        beta_hat, beta_hat_w, beta_v, beta_v_w = theta_hat(beta)\n",
    "        beta0_hat, beta0_hat_w, beta0_v, beta0_v_w = theta_hat(params[\"beta0\"])\n",
    "\n",
    "        # tf.math.exp(0.5*(tf.math.log(beta_v_w) - tf.math.log(beta_v)))-tf.math.sqrt(beta_v_w / beta_v)\n",
    "\n",
    "        beta_adj = (\n",
    "            tf.math.exp(0.5 * (tf.math.log(beta_v_w) - tf.math.log(beta_v)))\n",
    "            * (beta[:, tf.newaxis, ...] - beta_hat)\n",
    "            + beta_hat_w\n",
    "        )\n",
    "        beta0_adj = (\n",
    "            tf.math.exp(0.5 * (tf.math.log(beta0_v_w) - tf.math.log(beta0_v)))\n",
    "            * (params[\"beta0\"][:, tf.newaxis, ...] - beta0_hat)\n",
    "            + beta0_hat_w\n",
    "        )\n",
    "\n",
    "        J = 1 - 1 / tf.reduce_sum(tf.ones_like(c)) + tf.reduce_sum(weights, axis=-1)\n",
    "\n",
    "        # shift by mean\n",
    "        return beta_adj, beta0_adj, tf.math.log(J)\n",
    "\n",
    "    X_ = tf.gather(_X, ndx_to_leave)\n",
    "    y_ = tf.gather(_y, ndx_to_leave)\n",
    "    (\n",
    "        eta_I,\n",
    "        eta_I_psis,\n",
    "        p_loo_I,\n",
    "        p_loo_I_sd,\n",
    "        ll_loo_I,\n",
    "        ll_loo_I_sd,\n",
    "        S_I,\n",
    "        k_I,\n",
    "        p_psis_I,\n",
    "        ll_psis_I,\n",
    "    ) = IS(T_I, X_, y_)\n",
    "\n",
    "    out = {\n",
    "        \"I0\": {\n",
    "            \"p_loo\": p_loo_I,\n",
    "            \"p_loo_sd\": p_loo_I_sd,\n",
    "            \"ll_loo\": ll_loo_I,\n",
    "            \"ll_loo_sd\": ll_loo_I_sd,\n",
    "            \"S\": S_I,\n",
    "            \"khat\": k_I,\n",
    "            \"p_psis\": p_psis_I,\n",
    "            \"ll_psis\": ll_psis_I,\n",
    "            \"ndx\": ndx_to_leave,\n",
    "        }\n",
    "    }\n",
    "\n",
    "    transforms = {\n",
    "        \"MM1\": T_MM1,\n",
    "        \"MM2\": T_MM2,\n",
    "        \"I\": T_I,\n",
    "        \"KL\": T_kl,\n",
    "        \"Var\": T_var,\n",
    "        \"LL\": T_ll,\n",
    "    }\n",
    "\n",
    "    X_ = tf.gather(_X, ndx_to_transform)\n",
    "    y_ = tf.gather(_y, ndx_to_transform)\n",
    "    for lab, fun in transforms.items():\n",
    "        (\n",
    "            eta_,\n",
    "            eta_psis_,\n",
    "            p_loo_,\n",
    "            p_loo_sd_,\n",
    "            ll_loo_,\n",
    "            ll_loo_s_d,\n",
    "            S_,\n",
    "            k_,\n",
    "            p_psis_,\n",
    "            ll_psis_,\n",
    "        ) = IS(fun, X_, y_)\n",
    "\n",
    "        out = {\n",
    "            **out,\n",
    "            lab: {\n",
    "                \"p_loo\": p_loo_,\n",
    "                \"p_loo_sd\": p_loo_sd_,\n",
    "                \"ll_loo\": ll_loo_,\n",
    "                \"ll_loo_sd\": ll_loo_s_d,\n",
    "                \"S\": S_,\n",
    "                \"khat\": k_,\n",
    "                \"p_psis\": p_psis_,\n",
    "                \"ll_psis\": ll_psis_,\n",
    "                \"ndx\": ndx_to_transform,\n",
    "            },\n",
    "        }\n",
    "\n",
    "    return {**out, \"ndx_transformed\": ndx_to_transform}\n",
    "\n",
    "\n",
    "nparams = 64\n",
    "loo = adaptive_is_loo(\n",
    "    lr_model,\n",
    "    batch,\n",
    "    {k: v[:nparams, ...] for k, v in params.items()},\n",
    "    1e-5,\n",
    "    variational=False,\n",
    ")\n",
    "\n",
    "# loo = adaptive_is_loo(lr_model, test_batch, param_test, 0.01, variational=False)\n",
    "\n",
    "\n",
    "for T in [\"I\", \"LL\", \"KL\", \"Var\", \"MM1\", \"MM2\"]:\n",
    "    print(\n",
    "        f\"{T}: {np.sqrt(np.sum(loo[T]['p_loo_sd']**2))} entropy: {np.sqrt(np.sum(loo[T]['S']))} khat>0.7: {np.sum(loo[T]['khat']>0.7)}\"\n",
    "    )"
   ]
  },
  {
   "cell_type": "code",
   "execution_count": 223,
   "metadata": {},
   "outputs": [
    {
     "name": "stderr",
     "output_type": "stream",
     "text": [
      "  0%|          | 0/1 [00:00<?, ?it/s]"
     ]
    },
    {
     "name": "stderr",
     "output_type": "stream",
     "text": [
      "/home/josh/workspace/bayesianquilts/bayesianquilts/sampler/nppsis.py:350: RuntimeWarning: overflow encountered in expm1\n",
      "  np.expm1(x, out=x)\n",
      "100%|██████████| 1/1 [05:00<00:00, 300.34s/it]"
     ]
    },
    {
     "name": "stdout",
     "output_type": "stream",
     "text": [
      "{500: {1: {'I0': [0, 1, 3, 4, 5, 6, 7, 10, 11, 12, 13, 14, 16, 18, 19, 27, 34, 35, 42, 49, 52], 'I': [], 'LL': [46], 'KL': [32, 44, 46, 50], 'Var': [9, 20, 32, 44, 46], 'MM1': [], 'MM2': []}, 0.25: {'I0': [0, 1, 3, 4, 5, 6, 7, 10, 11, 12, 13, 14, 16, 18, 19, 27, 34, 35, 42, 49, 52], 'I': [], 'LL': [32, 46], 'KL': [29], 'Var': [15, 20, 23, 44, 46], 'MM1': [36], 'MM2': []}, 0.0625: {'I0': [0, 1, 3, 4, 5, 6, 7, 10, 11, 12, 13, 14, 16, 18, 19, 27, 34, 35, 42, 49, 52], 'I': [], 'LL': [32, 50], 'KL': [22, 25, 44, 47, 50], 'Var': [9, 20, 24, 39, 44], 'MM1': [17, 21, 26, 28, 33, 36, 41, 48, 50, 53], 'MM2': []}, 0.015625: {'I0': [0, 1, 3, 4, 5, 6, 7, 10, 11, 12, 13, 14, 16, 18, 19, 27, 34, 35, 42, 49, 52], 'I': [], 'LL': [22, 44], 'KL': [20, 22, 31, 44, 50], 'Var': [2, 24, 39, 44], 'MM1': [2, 8, 25, 26, 29, 36, 37, 38, 40, 41, 48, 51, 53], 'MM2': []}, 0.00390625: {'I0': [0, 1, 3, 4, 5, 6, 7, 10, 11, 12, 13, 14, 16, 18, 19, 27, 34, 35, 42, 49, 52], 'I': [], 'LL': [50], 'KL': [2, 15, 17, 20, 29, 39, 50], 'Var': [17, 23, 24, 31, 32, 39], 'MM1': [2, 8, 15, 17, 20, 22, 25, 26, 28, 29, 31, 36, 37, 39, 40, 43, 45, 47, 48, 51, 53], 'MM2': []}, 0.0009765625: {'I0': [0, 1, 3, 4, 5, 6, 7, 10, 11, 12, 13, 14, 16, 18, 19, 27, 34, 35, 42, 49, 52], 'I': [], 'LL': [15, 20, 21, 50], 'KL': [2, 39], 'Var': [17, 20, 23, 24, 30, 31, 32], 'MM1': [2, 8, 17, 20, 21, 25, 26, 28, 29, 30, 31, 33, 36, 37, 38, 40, 41, 43, 45, 48, 51, 53], 'MM2': []}, 0.000244140625: {'I0': [0, 1, 3, 4, 5, 6, 7, 10, 11, 12, 13, 14, 16, 18, 19, 27, 34, 35, 42, 49, 52], 'I': [], 'LL': [20], 'KL': [23], 'Var': [20, 23, 32], 'MM1': [2, 15, 17, 20, 21, 22, 25, 26, 28, 29, 33, 36, 39, 40, 41, 43, 48, 50, 51, 53], 'MM2': []}, 6.103515625e-05: {'I0': [0, 1, 3, 4, 5, 6, 7, 10, 11, 12, 13, 14, 16, 18, 19, 27, 34, 35, 42, 49, 52], 'I': [], 'LL': [20, 31], 'KL': [23], 'Var': [20, 23], 'MM1': [2, 17, 21, 26, 29, 31, 32, 36, 37, 38, 41, 45, 46, 47, 48, 50], 'MM2': []}, 1.52587890625e-05: {'I0': [0, 1, 3, 4, 5, 6, 7, 10, 11, 12, 13, 14, 16, 18, 19, 27, 34, 35, 42, 49, 52], 'I': [], 'LL': [2, 23], 'KL': [], 'Var': [], 'MM1': [2, 26, 31, 32, 33, 38, 39, 53], 'MM2': []}, 3.814697265625e-06: {'I0': [0, 1, 3, 4, 5, 6, 7, 10, 11, 12, 13, 14, 16, 18, 19, 27, 34, 35, 42, 49, 52], 'I': [], 'LL': [23, 40], 'KL': [36, 40], 'Var': [], 'MM1': [32, 40, 53], 'MM2': []}, 9.5367431640625e-07: {'I0': [0, 1, 3, 4, 5, 6, 7, 10, 11, 12, 13, 14, 16, 18, 19, 27, 34, 35, 42, 49, 52], 'I': [], 'LL': [40], 'KL': [], 'Var': [], 'MM1': [17, 40], 'MM2': []}}, 1000: {1: {'I0': [0, 3, 6, 7, 8, 10, 12, 13, 14, 16, 18, 19, 20, 27, 30, 31, 44, 52], 'I': [], 'LL': [32, 46], 'KL': [17, 24, 49], 'Var': [1, 2, 9, 11, 15, 17, 32, 35, 42], 'MM1': [], 'MM2': []}, 0.25: {'I0': [0, 3, 6, 7, 8, 10, 12, 13, 14, 16, 18, 19, 20, 27, 30, 31, 44, 52], 'I': [], 'LL': [32, 50], 'KL': [9, 28, 41, 45, 47], 'Var': [1, 2, 9, 11, 22, 32, 34, 35, 42], 'MM1': [33, 36], 'MM2': []}, 0.0625: {'I0': [0, 3, 6, 7, 8, 10, 12, 13, 14, 16, 18, 19, 20, 27, 30, 31, 44, 52], 'I': [], 'LL': [], 'KL': [11, 15, 29, 32, 39, 47, 51], 'Var': [2, 5, 9, 11, 22, 34, 35, 39, 42], 'MM1': [25, 26, 37, 40, 41, 43, 45, 50, 53], 'MM2': []}, 0.015625: {'I0': [0, 3, 6, 7, 8, 10, 12, 13, 14, 16, 18, 19, 20, 27, 30, 31, 44, 52], 'I': [], 'LL': [9, 42], 'KL': [1, 5, 11, 17, 22, 35, 42], 'Var': [2, 5, 9, 11, 22, 35, 39, 42], 'MM1': [4, 15, 17, 21, 22, 25, 26, 28, 29, 43, 48, 50], 'MM2': []}, 0.00390625: {'I0': [0, 3, 6, 7, 8, 10, 12, 13, 14, 16, 18, 19, 20, 27, 30, 31, 44, 52], 'I': [], 'LL': [1, 9, 17, 21, 38, 47], 'KL': [2, 9, 11, 22, 41, 42, 50], 'Var': [4, 5, 9, 11, 24, 35, 39, 42], 'MM1': [1, 11, 26, 28, 32, 34, 35, 38, 42, 43, 51], 'MM2': []}, 0.0009765625: {'I0': [0, 3, 6, 7, 8, 10, 12, 13, 14, 16, 18, 19, 20, 27, 30, 31, 44, 52], 'I': [], 'LL': [11, 43, 47], 'KL': [11, 39, 42, 43], 'Var': [4, 11, 22, 24, 32, 35, 39, 42], 'MM1': [5, 11, 17, 22, 26, 29, 37, 39, 41, 43, 49, 50, 53], 'MM2': []}, 0.000244140625: {'I0': [0, 3, 6, 7, 8, 10, 12, 13, 14, 16, 18, 19, 20, 27, 30, 31, 44, 52], 'I': [], 'LL': [11, 22, 35], 'KL': [4, 11, 22, 39, 42, 43, 53], 'Var': [4, 22, 35, 42], 'MM1': [1, 4, 15, 17, 21, 29, 32, 37, 40, 41, 43, 47, 48, 53], 'MM2': []}, 6.103515625e-05: {'I0': [0, 3, 6, 7, 8, 10, 12, 13, 14, 16, 18, 19, 20, 27, 30, 31, 44, 52], 'I': [], 'LL': [5, 29, 34, 42], 'KL': [4, 15, 32, 42], 'Var': [42], 'MM1': [4, 11, 17, 33, 34, 37, 39, 41, 47, 48, 49], 'MM2': []}, 1.52587890625e-05: {'I0': [0, 3, 6, 7, 8, 10, 12, 13, 14, 16, 18, 19, 20, 27, 30, 31, 44, 52], 'I': [], 'LL': [1, 5, 11, 15], 'KL': [4, 42], 'Var': [15, 42], 'MM1': [2, 4, 11, 29, 34, 37, 42, 53], 'MM2': []}, 3.814697265625e-06: {'I0': [0, 3, 6, 7, 8, 10, 12, 13, 14, 16, 18, 19, 20, 27, 30, 31, 44, 52], 'I': [], 'LL': [4, 42, 43], 'KL': [4], 'Var': [], 'MM1': [4, 5, 32, 34, 42], 'MM2': []}, 9.5367431640625e-07: {'I0': [0, 3, 6, 7, 8, 10, 12, 13, 14, 16, 18, 19, 20, 27, 30, 31, 44, 52], 'I': [], 'LL': [4], 'KL': [], 'Var': [], 'MM1': [34, 39, 42], 'MM2': []}}}\n"
     ]
    },
    {
     "name": "stderr",
     "output_type": "stream",
     "text": [
      "\n"
     ]
    }
   ],
   "source": [
    "base = 4\n",
    "h_vals = [4**-r for r in range(11)]\n",
    "\n",
    "loo_output = []\n",
    "\n",
    "for _ in tqdm(range(1)):\n",
    "    loo_khat = {}\n",
    "    reduced_ndx = {}\n",
    "    high_khat_ndx = {}\n",
    "    n_sample = [500, 1000]\n",
    "    records = []\n",
    "    for n_samples in n_sample:\n",
    "        sample_ndx = np.random.choice(range(fit.stan_variables()['beta0'].shape[0]), size=n_samples, replace=False)\n",
    "        reduced_ndx[n_samples] = {}\n",
    "        high_khat_ndx[n_samples] = {}\n",
    "        # print(f\"Samples: {n_samples}\")\n",
    "        loo_khat[n_samples] = {}\n",
    "        params_ = fit.stan_variables()\n",
    "        params_ = {k: v[sample_ndx] for k, v in params_.items()}\n",
    "\n",
    "        params_[\"c\"] = params_[\"c\"][:, tf.newaxis]\n",
    "        params_[\"tau\"] = params_[\"tau\"][:, tf.newaxis]\n",
    "        params_[\"caux\"] = params_[\"caux\"][:, tf.newaxis]\n",
    "        params_[\"beta0\"] = params_[\"beta0\"][:, tf.newaxis]\n",
    "\n",
    "        for h in h_vals:\n",
    "            loo_khat[n_samples][h] = {}\n",
    "            loo = adaptive_is_loo(lr_model, batch, params_, h, variational=False)\n",
    "            reduced_ndx[n_samples][h] = {}\n",
    "            # print(f\"rho={h}\\n\")\n",
    "            for T in [\"I0\", \"I\", \"LL\", \"KL\", \"Var\", \"MM1\", \"MM2\"]:\n",
    "                loo_khat[n_samples][h][T] = np.array(loo[T][\"khat\"])\n",
    "\n",
    "                records += [\n",
    "                    {\n",
    "                        \"h\": h,\n",
    "                        \"T\": T,\n",
    "                        \"S\": n_samples,\n",
    "                        \"khat\": loo[T][\"khat\"],\n",
    "                        \"p_psis\": loo[T][\"p_psis\"].numpy(),\n",
    "                        \"n>0.7\": (np.where((loo[T][\"khat\"] > 0.7))[0]).shape,\n",
    "                        \"ndx\": loo[T][\"ndx\"]\n",
    "                    }\n",
    "                ]\n",
    "                reduced_ndx[n_samples][h][T] = [loo[T][\"ndx\"][k] for k in np.where((loo[T][\"khat\"] <= 0.7))[0]]\n",
    "                # print(reduced_ndx[n_samples][h])\n",
    "\n",
    "\n",
    "print(reduced_ndx)"
   ]
  },
  {
   "cell_type": "markdown",
   "metadata": {},
   "source": [
    "## Look at S=1000 case"
   ]
  },
  {
   "cell_type": "code",
   "execution_count": 224,
   "metadata": {},
   "outputs": [],
   "source": [
    "df = pd.DataFrame(records)\n",
    "df['rho_rank'] = np.emath.logn(base, df['h']) \n",
    "df.head()\n",
    "I0_ = df.loc[(df['S']==n_sample[-1]) & (df['T']==\"I0\")]\n",
    "\n",
    "kl_ = df.loc[(df['S']==n_sample[-1]) & (df['T']==\"KL\")]\n",
    "var_ = df.loc[(df['S']==n_sample[-1]) & (df['T']==\"Var\")]\n",
    "ll_ = df.loc[(df['S']==n_sample[-1]) & (df['T']==\"LL\")]\n",
    "mm1_ = df.loc[(df['S']==n_sample[-1]) & (df['T']==\"MM1\")]\n",
    "I_ = df.loc[(df['S']==n_sample[-1]) & (df['T']==\"I\")]\n",
    "\n",
    "kl_ = kl_.explode(['khat', 'ndx'])\n",
    "var_ = var_.explode(['khat', 'ndx'])\n",
    "ll_ = ll_.explode(['khat', 'ndx'])\n",
    "I_ = I_.explode(['khat', 'ndx'])\n",
    "mm1_ = mm1_.explode(['khat', 'ndx'])\n",
    "\n",
    "original = I_[['khat', 'ndx']].drop_duplicates()\n"
   ]
  },
  {
   "cell_type": "code",
   "execution_count": 225,
   "metadata": {},
   "outputs": [
    {
     "data": {
      "image/png": "[encoded data removed]",
      "text/plain": [
       "<Figure size 400x700 with 1 Axes>"
      ]
     },
     "metadata": {},
     "output_type": "display_data"
    }
   ],
   "source": [
    "fig = plt.figure(figsize=(4, 7))\n",
    "ndx_high_khat = loo['KL']['ndx'].tolist()\n",
    "ymax = (len(ndx_high_khat))\n",
    "_ = plt.scatter(original.khat, np.array([ndx_high_khat.index(i) for i in original['ndx']]) ,color=\"black\", s=12, alpha=0.6)\n",
    "_ = plt.scatter(kl_.khat, np.array([ndx_high_khat.index(i) for i in kl_['ndx']]) + 0.2, s=1, color='green', alpha=0.2)\n",
    "_ = plt.scatter(var_.khat, np.array([ndx_high_khat.index(i) for i in var_['ndx']]) - 0.2, s=1, color='purple', alpha=0.2)\n",
    "\n",
    "kl_ = kl_[kl_.khat<3]\n",
    "ll_ = ll_[ll_.khat<3]\n",
    "var_ = var_[var_.khat<3]\n",
    "_ = plt.axvline(x=0.7, linestyle='dashed', linewidth=2, color='red', alpha=0.5)\n",
    "\n",
    "kl_vals = defaultdict(list)\n",
    "var_vals = defaultdict(list)\n",
    "ll_vals = defaultdict(list)\n",
    "\n",
    "for x, y, s in zip( kl_.khat, kl_['ndx'], kl_['rho_rank'].values.astype('int')):\n",
    "    kl_vals[y] += [x]\n",
    "    \n",
    "for x, y, s in zip( var_.khat, var_['ndx'], var_['rho_rank'].values.astype('int')):\n",
    "    var_vals[y] += [x]\n",
    "\n",
    "for x, v in kl_vals.items():\n",
    "    plt.plot(min(v), ndx_high_khat.index(x)+0.2, color='green', alpha=0.3)\n",
    "    plt.text(min(v), ndx_high_khat.index(x) + 0.2, \"KL\",  ha='center', va='center', color='green', fontsize=8)\n",
    "    \n",
    "for x, v in var_vals.items():\n",
    "    plt.plot(min(v), ndx_high_khat.index(x)-0.2, color='purple', alpha=0.3)\n",
    "    plt.text(min(v), ndx_high_khat.index(x)-0.2, \"Var\",  ha='center', va='center', color='blue', fontsize=8)\n",
    "    \n",
    "    \n",
    "#for x, v in var_vals.items():\n",
    "#    plt.text(min(v), x, \"LL\",  ha='center', va='center', color='purple', fontsize=8)\n",
    "\n",
    "_ = plt.ylabel(\"observation\")\n",
    "_ = plt.ylim(-0.5, ymax - 0.5)\n",
    "_ = plt.xlabel(r'estimated Pareto tail shape $\\hat{k}$')\n",
    "_ = plt.yticks(ticks=np.arange(ymax), labels=loo['KL']['ndx'])\n",
    "_ = plt.xlim((-0.5, 2))\n",
    "_ = plt.xticks([-0.5, 0, 0.7, 1.5, 2])\n",
    "\n",
    "\n",
    "for y0, y1 in zip(np.arange(ymax+ 1)[::2]-0.5, np.arange(ymax + 1)[::2] + 0.5):\n",
    "    plt.axhspan(y0, y1, color='black', alpha=0.1, zorder=0)\n",
    "#_ = plt.xlim((-0.1, 2))\n",
    "_ = plt.savefig(\"khat.pdf\", bbox_inches='tight')"
   ]
  },
  {
   "cell_type": "code",
   "execution_count": 226,
   "metadata": {},
   "outputs": [
    {
     "data": {
      "text/plain": [
       "36"
      ]
     },
     "execution_count": 226,
     "metadata": {},
     "output_type": "execute_result"
    }
   ],
   "source": [
    "len(ndx_high_khat)"
   ]
  },
  {
   "cell_type": "code",
   "execution_count": 227,
   "metadata": {},
   "outputs": [
    {
     "data": {
      "image/png": "[encoded data removed]",
      "text/plain": [
       "<Figure size 600x900 with 1 Axes>"
      ]
     },
     "metadata": {},
     "output_type": "display_data"
    }
   ],
   "source": [
    "fig = plt.figure(figsize=(6, 9))\n",
    "\n",
    "_ = plt.scatter(original.khat, np.array([ndx_high_khat.index(i) for i in original['ndx']]) ,color=\"black\", s=12, alpha=0.6)\n",
    "_ = plt.scatter(kl_.khat, np.array([ndx_high_khat.index(i) for i in kl_['ndx']]), s=0, color='green', alpha=0.2)\n",
    "_ = plt.scatter(var_.khat, np.array([ndx_high_khat.index(i) for i in var_['ndx']]), s=0, color='purple', alpha=0.2)\n",
    "_ = plt.scatter(ll_.khat, np.array([ndx_high_khat.index(i) for i in ll_['ndx']]), s=0, color='green', alpha=0.2)\n",
    "_ = plt.scatter(mm1_.khat, np.array([ndx_high_khat.index(i) for i in mm1_['ndx']]), s=0, color='purple', alpha=0.2)\n",
    "\n",
    "kl_ = kl_[kl_.khat<2]\n",
    "ll_ = ll_[ll_.khat<2]\n",
    "var_ = var_[var_.khat<2]\n",
    "mm1_ = mm1_[mm1_.khat<2]\n",
    "_ = plt.axvline(x=0.7, linestyle='dotted', linewidth=2, color='red')\n",
    "\n",
    "for x, y, s in zip( kl_.khat, kl_['ndx'], kl_['rho_rank'].values.astype('int')):\n",
    "    if s > 7:\n",
    "        continue\n",
    "    plt.text(x, ndx_high_khat.index(y) + 0.2, str(s),  ha='center', va='center', color='green', fontsize=8)\n",
    "    \n",
    "for x, y, s in zip( var_.khat, var_['ndx'], var_['rho_rank'].values.astype('int')):\n",
    "    if s > 7:\n",
    "        continue\n",
    "    plt.text(x, ndx_high_khat.index(y) + 0.1, str(s),  ha='center', va='center', color='blue', fontsize=8)\n",
    "\n",
    "for x, y, s in zip( ll_.khat, ll_['ndx'], ll_['rho_rank'].values.astype('int')):\n",
    "    if s > 3:\n",
    "        continue\n",
    "    plt.text(x, ndx_high_khat.index(y) - 0.1, str(s),  ha='center', va='center', color='orange', fontsize=8)\n",
    "\n",
    "for x, y, s in zip( mm1_.khat, mm1_['ndx'], mm1_['rho_rank'].values.astype('int')):\n",
    "    if s > 3:\n",
    "        continue\n",
    "    plt.text(x, ndx_high_khat.index(y) - 0.2, str(s),  ha='center', va='center', color='red', fontsize=8)\n",
    "    \n",
    "_ = plt.ylabel(\"observation\")\n",
    "_ = plt.ylim(-0.5, ymax - 0.5)\n",
    "_ = plt.xlabel(r'estimated Pareto tail shape $\\hat{k}$')\n",
    "_ = plt.yticks(ticks=np.arange(ymax), labels=loo['KL']['ndx'])\n",
    "_ = plt.xlim((-0.5, 2))\n",
    "_ = plt.xticks([-0.5, 0, 0.7, 1.5, 2])\n",
    "\n",
    "\n",
    "for y0, y1 in zip(np.arange(ymax+ 1)[::2]-0.5, np.arange(ymax + 1)[::2] + 0.5):\n",
    "    plt.axhspan(y0, y1, color='black', alpha=0.1, zorder=0)\n",
    "#_ = plt.xlim((-0.1, 2))\n",
    "_ = plt.savefig(\"khat_detailed.pdf\", bbox_inches='tight')"
   ]
  },
  {
   "cell_type": "code",
   "execution_count": 228,
   "metadata": {},
   "outputs": [],
   "source": [
    "df_ = df.explode(['khat', \"p_psis\", 'ndx'])[['ndx', 'p_psis', 'khat', 'T']]\n",
    "#df_ = df_[df_['p_psis']!=1]\n",
    "#df_ = df_[df_['p_psis']>1e-5]\n",
    "df_ = df_[df_['T']!=\"MM2\"]\n",
    "\n",
    "df_ = df_.groupby(['ndx'])[['khat', 'p_psis']].min()\n",
    "\n",
    "pd.set_option('display.max_rows', 500)\n",
    "\n",
    "df_ = df_.reset_index()\n",
    "df_['y'] = [y_.tolist()[i][0] for i in df_['ndx'].values]\n"
   ]
  },
  {
   "cell_type": "code",
   "execution_count": 229,
   "metadata": {},
   "outputs": [],
   "source": [
    "\n",
    "\n",
    "\n",
    "fpr, tpr, thresholds = metrics.roc_curve(df_['y'], df_.p_psis, pos_label=1)\n",
    "precision, recall, thresholds_pr = metrics.precision_recall_curve(df_['y'], df_.p_psis)"
   ]
  },
  {
   "cell_type": "code",
   "execution_count": 230,
   "metadata": {},
   "outputs": [
    {
     "data": {
      "text/plain": [
       "[<matplotlib.lines.Line2D at 0x7fe119146470>]"
      ]
     },
     "execution_count": 230,
     "metadata": {},
     "output_type": "execute_result"
    },
    {
     "data": {
      "image/png": "[encoded data removed]",
      "text/plain": [
       "<Figure size 640x480 with 1 Axes>"
      ]
     },
     "metadata": {},
     "output_type": "display_data"
    }
   ],
   "source": [
    "plt.plot(fpr, tpr)\n",
    "plt.plot(recall, precision)"
   ]
  },
  {
   "cell_type": "markdown",
   "metadata": {},
   "source": [
    "# Cross-tabulations"
   ]
  },
  {
   "cell_type": "code",
   "execution_count": 231,
   "metadata": {},
   "outputs": [],
   "source": [
    "df__ = df.explode(['khat', 'ndx'])[['ndx', 'khat', 'T']]\n",
    "transforms = [\"KL\", \"Var\", \"LL\"]\n"
   ]
  },
  {
   "cell_type": "code",
   "execution_count": 232,
   "metadata": {},
   "outputs": [
    {
     "name": "stdout",
     "output_type": "stream",
     "text": [
      "KL: 32\n",
      "Var: 21\n",
      "LL: 25\n"
     ]
    }
   ],
   "source": [
    "for T in transforms:\n",
    "    _df__ = df__.loc[(df__['T']==T) & (df__['khat']<0.7)]\n",
    "    print(f\"{T}: {_df__.groupby('ndx').min().shape[0]}\")\n",
    "    "
   ]
  },
  {
   "cell_type": "code",
   "execution_count": 233,
   "metadata": {},
   "outputs": [
    {
     "name": "stdout",
     "output_type": "stream",
     "text": [
      "34\n"
     ]
    }
   ],
   "source": [
    "print(f\"{df__.loc[((df__['T']=='KL') | (df__['T']=='Var')) & (df__['khat']<0.7)].groupby('ndx').min().shape[0]}\")"
   ]
  },
  {
   "cell_type": "code",
   "execution_count": 243,
   "metadata": {},
   "outputs": [
    {
     "name": "stdout",
     "output_type": "stream",
     "text": [
      "40\n"
     ]
    }
   ],
   "source": [
    "print(f\"{df__.loc[((df__['T']=='LL') | (df__['T']=='MM1')) &(df__['T']!='I0') & (df__['khat']<0.7)].groupby('ndx').min().shape[0]}\")"
   ]
  },
  {
   "cell_type": "code",
   "execution_count": 235,
   "metadata": {},
   "outputs": [
    {
     "name": "stdout",
     "output_type": "stream",
     "text": [
      "36\n"
     ]
    }
   ],
   "source": [
    "print(f\"{df__.loc[(df__['T']!='MM1') &(df__['T']!='I0') & (df__['khat']<0.7)].groupby('ndx').min().shape[0]}\")"
   ]
  },
  {
   "cell_type": "markdown",
   "metadata": {},
   "source": [
    "# Compare with variational model"
   ]
  },
  {
   "cell_type": "code",
   "execution_count": 236,
   "metadata": {},
   "outputs": [],
   "source": [
    "lr_model2 = LogisticRegression2(\n",
    "    dim_regressors=d,\n",
    "    slab_df=slab_df,\n",
    "    slab_scale=slab_scale,\n",
    "    scale_icept=scale_icept,\n",
    "    nu_global=1,\n",
    "    nu_local=1,\n",
    "    scale_global=scale_global,\n",
    ")"
   ]
  },
  {
   "cell_type": "code",
   "execution_count": 237,
   "metadata": {},
   "outputs": [
    {
     "name": "stdout",
     "output_type": "stream",
     "text": [
      "Running optimization for 10000 steps of 9 accumulated batches, checking every 50 steps\n",
      "Saved a checkpoint: /tmp/tfcheckpoints/e43f9a3a-1561-463f-afa8-d0bbf32478d5/e43f9a3a-1561-463f-afa8-d0bbf32478d5-1\n"
     ]
    },
    {
     "name": "stderr",
     "output_type": "stream",
     "text": [
      "  0%|          | 49/10000 [00:07<18:37,  8.90it/s] "
     ]
    },
    {
     "name": "stdout",
     "output_type": "stream",
     "text": [
      "Step 50: average-batch loss:15077.349829989731 rel loss: 6.63246532895948e+303\n",
      "Saved a checkpoint: /tmp/tfcheckpoints/e43f9a3a-1561-463f-afa8-d0bbf32478d5/e43f9a3a-1561-463f-afa8-d0bbf32478d5-2\n"
     ]
    },
    {
     "name": "stderr",
     "output_type": "stream",
     "text": [
      "  1%|          | 99/10000 [00:12<18:37,  8.86it/s]"
     ]
    },
    {
     "name": "stdout",
     "output_type": "stream",
     "text": [
      "Step 100: average-batch loss:14970.484297590088 rel loss: 0.0071384151825232296\n",
      "Saved a checkpoint: /tmp/tfcheckpoints/e43f9a3a-1561-463f-afa8-d0bbf32478d5/e43f9a3a-1561-463f-afa8-d0bbf32478d5-3\n"
     ]
    },
    {
     "name": "stderr",
     "output_type": "stream",
     "text": [
      "  1%|▏         | 149/10000 [00:18<18:29,  8.88it/s]"
     ]
    },
    {
     "name": "stdout",
     "output_type": "stream",
     "text": [
      "Step 150: average-batch loss:14863.441795265713 rel loss: 0.007201730514292471\n",
      "Saved a checkpoint: /tmp/tfcheckpoints/e43f9a3a-1561-463f-afa8-d0bbf32478d5/e43f9a3a-1561-463f-afa8-d0bbf32478d5-4\n"
     ]
    },
    {
     "name": "stderr",
     "output_type": "stream",
     "text": [
      "  2%|▏         | 199/10000 [00:23<18:07,  9.01it/s]"
     ]
    },
    {
     "name": "stdout",
     "output_type": "stream",
     "text": [
      "Step 200: average-batch loss:14756.118213462418 rel loss: 0.007273158174172194\n",
      "Saved a checkpoint: /tmp/tfcheckpoints/e43f9a3a-1561-463f-afa8-d0bbf32478d5/e43f9a3a-1561-463f-afa8-d0bbf32478d5-5\n"
     ]
    },
    {
     "name": "stderr",
     "output_type": "stream",
     "text": [
      "  2%|▏         | 249/10000 [00:29<18:17,  8.88it/s]"
     ]
    },
    {
     "name": "stdout",
     "output_type": "stream",
     "text": [
      "Step 250: average-batch loss:14655.289272813763 rel loss: 0.006880037559933874\n",
      "Saved a checkpoint: /tmp/tfcheckpoints/e43f9a3a-1561-463f-afa8-d0bbf32478d5/e43f9a3a-1561-463f-afa8-d0bbf32478d5-6\n"
     ]
    },
    {
     "name": "stderr",
     "output_type": "stream",
     "text": [
      "  3%|▎         | 299/10000 [00:35<18:09,  8.90it/s]"
     ]
    },
    {
     "name": "stdout",
     "output_type": "stream",
     "text": [
      "Step 300: average-batch loss:14555.109243102175 rel loss: 0.006882808506508754\n",
      "Saved a checkpoint: /tmp/tfcheckpoints/e43f9a3a-1561-463f-afa8-d0bbf32478d5/e43f9a3a-1561-463f-afa8-d0bbf32478d5-7\n"
     ]
    },
    {
     "name": "stderr",
     "output_type": "stream",
     "text": [
      "  3%|▎         | 349/10000 [00:40<17:39,  9.11it/s]"
     ]
    },
    {
     "name": "stdout",
     "output_type": "stream",
     "text": [
      "Step 350: average-batch loss:14451.097191463017 rel loss: 0.00719751934826119\n",
      "Saved a checkpoint: /tmp/tfcheckpoints/e43f9a3a-1561-463f-afa8-d0bbf32478d5/e43f9a3a-1561-463f-afa8-d0bbf32478d5-8\n"
     ]
    },
    {
     "name": "stderr",
     "output_type": "stream",
     "text": [
      "  4%|▍         | 399/10000 [00:46<18:01,  8.88it/s]"
     ]
    },
    {
     "name": "stdout",
     "output_type": "stream",
     "text": [
      "Step 400: average-batch loss:14353.187798306772 rel loss: 0.006821438870032474\n",
      "Saved a checkpoint: /tmp/tfcheckpoints/e43f9a3a-1561-463f-afa8-d0bbf32478d5/e43f9a3a-1561-463f-afa8-d0bbf32478d5-9\n"
     ]
    },
    {
     "name": "stderr",
     "output_type": "stream",
     "text": [
      "  4%|▍         | 449/10000 [00:52<17:52,  8.90it/s]"
     ]
    },
    {
     "name": "stdout",
     "output_type": "stream",
     "text": [
      "Step 450: average-batch loss:14250.579437844268 rel loss: 0.007200293918576661\n",
      "Saved a checkpoint: /tmp/tfcheckpoints/e43f9a3a-1561-463f-afa8-d0bbf32478d5/e43f9a3a-1561-463f-afa8-d0bbf32478d5-10\n"
     ]
    },
    {
     "name": "stderr",
     "output_type": "stream",
     "text": [
      "  5%|▍         | 499/10000 [00:57<17:43,  8.93it/s]"
     ]
    },
    {
     "name": "stdout",
     "output_type": "stream",
     "text": [
      "Step 500: average-batch loss:14151.39824318609 rel loss: 0.007008579149126426\n",
      "Saved a checkpoint: /tmp/tfcheckpoints/e43f9a3a-1561-463f-afa8-d0bbf32478d5/e43f9a3a-1561-463f-afa8-d0bbf32478d5-11\n"
     ]
    },
    {
     "name": "stderr",
     "output_type": "stream",
     "text": [
      "  5%|▌         | 549/10000 [01:03<17:33,  8.97it/s]"
     ]
    },
    {
     "name": "stdout",
     "output_type": "stream",
     "text": [
      "Step 550: average-batch loss:14051.189349843318 rel loss: 0.007131701868631403\n",
      "Saved a checkpoint: /tmp/tfcheckpoints/e43f9a3a-1561-463f-afa8-d0bbf32478d5/e43f9a3a-1561-463f-afa8-d0bbf32478d5-12\n"
     ]
    },
    {
     "name": "stderr",
     "output_type": "stream",
     "text": [
      "  6%|▌         | 599/10000 [01:09<18:20,  8.54it/s]"
     ]
    },
    {
     "name": "stdout",
     "output_type": "stream",
     "text": [
      "Step 600: average-batch loss:13950.305149313375 rel loss: 0.007231684142400887\n",
      "Saved a checkpoint: /tmp/tfcheckpoints/e43f9a3a-1561-463f-afa8-d0bbf32478d5/e43f9a3a-1561-463f-afa8-d0bbf32478d5-13\n"
     ]
    },
    {
     "name": "stderr",
     "output_type": "stream",
     "text": [
      "  6%|▋         | 649/10000 [01:15<17:59,  8.66it/s]"
     ]
    },
    {
     "name": "stdout",
     "output_type": "stream",
     "text": [
      "Step 650: average-batch loss:13859.077664266879 rel loss: 0.006582507671611509\n",
      "Saved a checkpoint: /tmp/tfcheckpoints/e43f9a3a-1561-463f-afa8-d0bbf32478d5/e43f9a3a-1561-463f-afa8-d0bbf32478d5-14\n"
     ]
    },
    {
     "name": "stderr",
     "output_type": "stream",
     "text": [
      "  7%|▋         | 699/10000 [01:20<17:30,  8.86it/s]"
     ]
    },
    {
     "name": "stdout",
     "output_type": "stream",
     "text": [
      "Step 700: average-batch loss:13757.6290829042 rel loss: 0.0073739872438299695\n",
      "Saved a checkpoint: /tmp/tfcheckpoints/e43f9a3a-1561-463f-afa8-d0bbf32478d5/e43f9a3a-1561-463f-afa8-d0bbf32478d5-15\n"
     ]
    },
    {
     "name": "stderr",
     "output_type": "stream",
     "text": [
      "  7%|▋         | 749/10000 [01:26<17:32,  8.79it/s]"
     ]
    },
    {
     "name": "stdout",
     "output_type": "stream",
     "text": [
      "Step 750: average-batch loss:13659.144434314745 rel loss: 0.0072101623248114425\n",
      "Saved a checkpoint: /tmp/tfcheckpoints/e43f9a3a-1561-463f-afa8-d0bbf32478d5/e43f9a3a-1561-463f-afa8-d0bbf32478d5-16\n"
     ]
    },
    {
     "name": "stderr",
     "output_type": "stream",
     "text": [
      "  8%|▊         | 799/10000 [01:31<16:58,  9.04it/s]"
     ]
    },
    {
     "name": "stdout",
     "output_type": "stream",
     "text": [
      "Step 800: average-batch loss:13563.001235397336 rel loss: 0.007088637481392392\n",
      "Saved a checkpoint: /tmp/tfcheckpoints/e43f9a3a-1561-463f-afa8-d0bbf32478d5/e43f9a3a-1561-463f-afa8-d0bbf32478d5-17\n"
     ]
    },
    {
     "name": "stderr",
     "output_type": "stream",
     "text": [
      "  8%|▊         | 849/10000 [01:37<17:01,  8.96it/s]"
     ]
    },
    {
     "name": "stdout",
     "output_type": "stream",
     "text": [
      "Step 850: average-batch loss:13468.202723389704 rel loss: 0.007038690607396262\n",
      "Saved a checkpoint: /tmp/tfcheckpoints/e43f9a3a-1561-463f-afa8-d0bbf32478d5/e43f9a3a-1561-463f-afa8-d0bbf32478d5-18\n"
     ]
    },
    {
     "name": "stderr",
     "output_type": "stream",
     "text": [
      "  9%|▉         | 899/10000 [01:43<17:05,  8.88it/s]"
     ]
    },
    {
     "name": "stdout",
     "output_type": "stream",
     "text": [
      "Step 900: average-batch loss:13369.495094569369 rel loss: 0.007383048359128374\n",
      "Saved a checkpoint: /tmp/tfcheckpoints/e43f9a3a-1561-463f-afa8-d0bbf32478d5/e43f9a3a-1561-463f-afa8-d0bbf32478d5-19\n"
     ]
    },
    {
     "name": "stderr",
     "output_type": "stream",
     "text": [
      "  9%|▉         | 949/10000 [01:48<16:36,  9.08it/s]"
     ]
    },
    {
     "name": "stdout",
     "output_type": "stream",
     "text": [
      "Step 950: average-batch loss:13271.619253428633 rel loss: 0.007374822866128457\n",
      "Saved a checkpoint: /tmp/tfcheckpoints/e43f9a3a-1561-463f-afa8-d0bbf32478d5/e43f9a3a-1561-463f-afa8-d0bbf32478d5-20\n"
     ]
    },
    {
     "name": "stderr",
     "output_type": "stream",
     "text": [
      " 10%|▉         | 999/10000 [01:54<16:52,  8.89it/s]"
     ]
    },
    {
     "name": "stdout",
     "output_type": "stream",
     "text": [
      "Step 1000: average-batch loss:13181.34504832558 rel loss: 0.006848633790564509\n",
      "Saved a checkpoint: /tmp/tfcheckpoints/e43f9a3a-1561-463f-afa8-d0bbf32478d5/e43f9a3a-1561-463f-afa8-d0bbf32478d5-21\n"
     ]
    },
    {
     "name": "stderr",
     "output_type": "stream",
     "text": [
      " 10%|█         | 1049/10000 [02:00<16:39,  8.95it/s]"
     ]
    },
    {
     "name": "stdout",
     "output_type": "stream",
     "text": [
      "Step 1050: average-batch loss:13088.780969569318 rel loss: 0.007072016788383025\n",
      "Saved a checkpoint: /tmp/tfcheckpoints/e43f9a3a-1561-463f-afa8-d0bbf32478d5/e43f9a3a-1561-463f-afa8-d0bbf32478d5-22\n"
     ]
    },
    {
     "name": "stderr",
     "output_type": "stream",
     "text": [
      " 11%|█         | 1099/10000 [02:05<16:52,  8.79it/s]"
     ]
    },
    {
     "name": "stdout",
     "output_type": "stream",
     "text": [
      "Step 1100: average-batch loss:12989.507885343883 rel loss: 0.007642559294909491\n",
      "Saved a checkpoint: /tmp/tfcheckpoints/e43f9a3a-1561-463f-afa8-d0bbf32478d5/e43f9a3a-1561-463f-afa8-d0bbf32478d5-23\n"
     ]
    },
    {
     "name": "stderr",
     "output_type": "stream",
     "text": [
      " 11%|█▏        | 1149/10000 [02:11<16:25,  8.98it/s]"
     ]
    },
    {
     "name": "stdout",
     "output_type": "stream",
     "text": [
      "Step 1150: average-batch loss:12902.136885884092 rel loss: 0.00677182394145738\n",
      "Saved a checkpoint: /tmp/tfcheckpoints/e43f9a3a-1561-463f-afa8-d0bbf32478d5/e43f9a3a-1561-463f-afa8-d0bbf32478d5-24\n"
     ]
    },
    {
     "name": "stderr",
     "output_type": "stream",
     "text": [
      " 12%|█▏        | 1199/10000 [02:17<16:37,  8.82it/s]"
     ]
    },
    {
     "name": "stdout",
     "output_type": "stream",
     "text": [
      "Step 1200: average-batch loss:12806.416872760281 rel loss: 0.007474378983196418\n",
      "Saved a checkpoint: /tmp/tfcheckpoints/e43f9a3a-1561-463f-afa8-d0bbf32478d5/e43f9a3a-1561-463f-afa8-d0bbf32478d5-25\n"
     ]
    },
    {
     "name": "stderr",
     "output_type": "stream",
     "text": [
      " 12%|█▏        | 1249/10000 [02:22<16:31,  8.83it/s]"
     ]
    },
    {
     "name": "stdout",
     "output_type": "stream",
     "text": [
      "Step 1250: average-batch loss:12710.186418999674 rel loss: 0.007571128431032132\n",
      "Saved a checkpoint: /tmp/tfcheckpoints/e43f9a3a-1561-463f-afa8-d0bbf32478d5/e43f9a3a-1561-463f-afa8-d0bbf32478d5-26\n"
     ]
    },
    {
     "name": "stderr",
     "output_type": "stream",
     "text": [
      " 13%|█▎        | 1299/10000 [02:28<16:22,  8.86it/s]"
     ]
    },
    {
     "name": "stdout",
     "output_type": "stream",
     "text": [
      "Step 1300: average-batch loss:12618.430444298765 rel loss: 0.007271583823831756\n",
      "Saved a checkpoint: /tmp/tfcheckpoints/e43f9a3a-1561-463f-afa8-d0bbf32478d5/e43f9a3a-1561-463f-afa8-d0bbf32478d5-27\n"
     ]
    },
    {
     "name": "stderr",
     "output_type": "stream",
     "text": [
      " 13%|█▎        | 1349/10000 [02:34<16:21,  8.81it/s]"
     ]
    },
    {
     "name": "stdout",
     "output_type": "stream",
     "text": [
      "Step 1350: average-batch loss:12522.041499167299 rel loss: 0.007697542380599521\n",
      "Saved a checkpoint: /tmp/tfcheckpoints/e43f9a3a-1561-463f-afa8-d0bbf32478d5/e43f9a3a-1561-463f-afa8-d0bbf32478d5-28\n"
     ]
    },
    {
     "name": "stderr",
     "output_type": "stream",
     "text": [
      " 14%|█▍        | 1399/10000 [02:39<16:07,  8.89it/s]"
     ]
    },
    {
     "name": "stdout",
     "output_type": "stream",
     "text": [
      "Step 1400: average-batch loss:12433.189637116233 rel loss: 0.007146344956069876\n",
      "Saved a checkpoint: /tmp/tfcheckpoints/e43f9a3a-1561-463f-afa8-d0bbf32478d5/e43f9a3a-1561-463f-afa8-d0bbf32478d5-29\n"
     ]
    },
    {
     "name": "stderr",
     "output_type": "stream",
     "text": [
      " 14%|█▍        | 1449/10000 [02:45<15:56,  8.94it/s]"
     ]
    },
    {
     "name": "stdout",
     "output_type": "stream",
     "text": [
      "Step 1450: average-batch loss:12336.23184339016 rel loss: 0.007859595616956852\n",
      "Saved a checkpoint: /tmp/tfcheckpoints/e43f9a3a-1561-463f-afa8-d0bbf32478d5/e43f9a3a-1561-463f-afa8-d0bbf32478d5-30\n"
     ]
    },
    {
     "name": "stderr",
     "output_type": "stream",
     "text": [
      " 15%|█▍        | 1499/10000 [02:51<16:12,  8.74it/s]"
     ]
    },
    {
     "name": "stdout",
     "output_type": "stream",
     "text": [
      "Step 1500: average-batch loss:12247.404468110173 rel loss: 0.007252751022575914\n",
      "Saved a checkpoint: /tmp/tfcheckpoints/e43f9a3a-1561-463f-afa8-d0bbf32478d5/e43f9a3a-1561-463f-afa8-d0bbf32478d5-31\n"
     ]
    },
    {
     "name": "stderr",
     "output_type": "stream",
     "text": [
      " 15%|█▌        | 1549/10000 [02:56<15:35,  9.03it/s]"
     ]
    },
    {
     "name": "stdout",
     "output_type": "stream",
     "text": [
      "Step 1550: average-batch loss:12160.35530324882 rel loss: 0.007158439263538366\n",
      "Saved a checkpoint: /tmp/tfcheckpoints/e43f9a3a-1561-463f-afa8-d0bbf32478d5/e43f9a3a-1561-463f-afa8-d0bbf32478d5-32\n"
     ]
    },
    {
     "name": "stderr",
     "output_type": "stream",
     "text": [
      " 16%|█▌        | 1599/10000 [03:02<15:46,  8.88it/s]"
     ]
    },
    {
     "name": "stdout",
     "output_type": "stream",
     "text": [
      "Step 1600: average-batch loss:12063.305081818378 rel loss: 0.00804507726300598\n",
      "Saved a checkpoint: /tmp/tfcheckpoints/e43f9a3a-1561-463f-afa8-d0bbf32478d5/e43f9a3a-1561-463f-afa8-d0bbf32478d5-33\n"
     ]
    },
    {
     "name": "stderr",
     "output_type": "stream",
     "text": [
      " 16%|█▋        | 1649/10000 [03:08<15:32,  8.96it/s]"
     ]
    },
    {
     "name": "stdout",
     "output_type": "stream",
     "text": [
      "Step 1650: average-batch loss:11972.932434740382 rel loss: 0.0075480796012657204\n",
      "Saved a checkpoint: /tmp/tfcheckpoints/e43f9a3a-1561-463f-afa8-d0bbf32478d5/e43f9a3a-1561-463f-afa8-d0bbf32478d5-34\n"
     ]
    },
    {
     "name": "stderr",
     "output_type": "stream",
     "text": [
      " 17%|█▋        | 1699/10000 [03:13<15:30,  8.92it/s]"
     ]
    },
    {
     "name": "stdout",
     "output_type": "stream",
     "text": [
      "Step 1700: average-batch loss:11880.256242335732 rel loss: 0.007800858038263057\n",
      "Saved a checkpoint: /tmp/tfcheckpoints/e43f9a3a-1561-463f-afa8-d0bbf32478d5/e43f9a3a-1561-463f-afa8-d0bbf32478d5-35\n"
     ]
    },
    {
     "name": "stderr",
     "output_type": "stream",
     "text": [
      " 17%|█▋        | 1749/10000 [03:19<15:25,  8.92it/s]"
     ]
    },
    {
     "name": "stdout",
     "output_type": "stream",
     "text": [
      "Step 1750: average-batch loss:11794.354441548301 rel loss: 0.007283298226550017\n",
      "Saved a checkpoint: /tmp/tfcheckpoints/e43f9a3a-1561-463f-afa8-d0bbf32478d5/e43f9a3a-1561-463f-afa8-d0bbf32478d5-36\n"
     ]
    },
    {
     "name": "stderr",
     "output_type": "stream",
     "text": [
      " 18%|█▊        | 1799/10000 [03:25<15:08,  9.02it/s]"
     ]
    },
    {
     "name": "stdout",
     "output_type": "stream",
     "text": [
      "Step 1800: average-batch loss:11702.954179722232 rel loss: 0.007810016208081798\n",
      "Saved a checkpoint: /tmp/tfcheckpoints/e43f9a3a-1561-463f-afa8-d0bbf32478d5/e43f9a3a-1561-463f-afa8-d0bbf32478d5-37\n"
     ]
    },
    {
     "name": "stderr",
     "output_type": "stream",
     "text": [
      " 18%|█▊        | 1849/10000 [03:30<15:11,  8.94it/s]"
     ]
    },
    {
     "name": "stdout",
     "output_type": "stream",
     "text": [
      "Step 1850: average-batch loss:11617.392148901841 rel loss: 0.0073649946325069675\n",
      "Saved a checkpoint: /tmp/tfcheckpoints/e43f9a3a-1561-463f-afa8-d0bbf32478d5/e43f9a3a-1561-463f-afa8-d0bbf32478d5-38\n"
     ]
    },
    {
     "name": "stderr",
     "output_type": "stream",
     "text": [
      " 19%|█▉        | 1899/10000 [03:36<15:20,  8.80it/s]"
     ]
    },
    {
     "name": "stdout",
     "output_type": "stream",
     "text": [
      "Step 1900: average-batch loss:11521.135285722192 rel loss: 0.008354807125556255\n",
      "Saved a checkpoint: /tmp/tfcheckpoints/e43f9a3a-1561-463f-afa8-d0bbf32478d5/e43f9a3a-1561-463f-afa8-d0bbf32478d5-39\n"
     ]
    },
    {
     "name": "stderr",
     "output_type": "stream",
     "text": [
      " 19%|█▉        | 1949/10000 [03:42<14:54,  9.00it/s]"
     ]
    },
    {
     "name": "stdout",
     "output_type": "stream",
     "text": [
      "Step 1950: average-batch loss:11436.399240270235 rel loss: 0.007409329079172162\n",
      "Saved a checkpoint: /tmp/tfcheckpoints/e43f9a3a-1561-463f-afa8-d0bbf32478d5/e43f9a3a-1561-463f-afa8-d0bbf32478d5-40\n"
     ]
    },
    {
     "name": "stderr",
     "output_type": "stream",
     "text": [
      " 20%|█▉        | 1999/10000 [03:48<14:54,  8.95it/s]"
     ]
    },
    {
     "name": "stdout",
     "output_type": "stream",
     "text": [
      "Step 2000: average-batch loss:11347.577395448758 rel loss: 0.007827383918712185\n",
      "Saved a checkpoint: /tmp/tfcheckpoints/e43f9a3a-1561-463f-afa8-d0bbf32478d5/e43f9a3a-1561-463f-afa8-d0bbf32478d5-41\n"
     ]
    },
    {
     "name": "stderr",
     "output_type": "stream",
     "text": [
      " 20%|██        | 2049/10000 [03:53<15:25,  8.59it/s]"
     ]
    },
    {
     "name": "stdout",
     "output_type": "stream",
     "text": [
      "Step 2050: average-batch loss:11253.496458126177 rel loss: 0.008360151680204611\n",
      "Saved a checkpoint: /tmp/tfcheckpoints/e43f9a3a-1561-463f-afa8-d0bbf32478d5/e43f9a3a-1561-463f-afa8-d0bbf32478d5-42\n"
     ]
    },
    {
     "name": "stderr",
     "output_type": "stream",
     "text": [
      " 21%|██        | 2099/10000 [03:59<14:51,  8.86it/s]"
     ]
    },
    {
     "name": "stdout",
     "output_type": "stream",
     "text": [
      "Step 2100: average-batch loss:11172.905340126646 rel loss: 0.007213085186544458\n",
      "Saved a checkpoint: /tmp/tfcheckpoints/e43f9a3a-1561-463f-afa8-d0bbf32478d5/e43f9a3a-1561-463f-afa8-d0bbf32478d5-43\n"
     ]
    },
    {
     "name": "stderr",
     "output_type": "stream",
     "text": [
      " 21%|██▏       | 2149/10000 [04:05<14:49,  8.82it/s]"
     ]
    },
    {
     "name": "stdout",
     "output_type": "stream",
     "text": [
      "Step 2150: average-batch loss:11080.358626156878 rel loss: 0.008352321174090684\n",
      "Saved a checkpoint: /tmp/tfcheckpoints/e43f9a3a-1561-463f-afa8-d0bbf32478d5/e43f9a3a-1561-463f-afa8-d0bbf32478d5-44\n"
     ]
    },
    {
     "name": "stderr",
     "output_type": "stream",
     "text": [
      " 22%|██▏       | 2199/10000 [04:10<14:34,  8.92it/s]"
     ]
    },
    {
     "name": "stdout",
     "output_type": "stream",
     "text": [
      "Step 2200: average-batch loss:10994.324716549481 rel loss: 0.007825301855774009\n",
      "Saved a checkpoint: /tmp/tfcheckpoints/e43f9a3a-1561-463f-afa8-d0bbf32478d5/e43f9a3a-1561-463f-afa8-d0bbf32478d5-45\n"
     ]
    },
    {
     "name": "stderr",
     "output_type": "stream",
     "text": [
      " 22%|██▏       | 2249/10000 [04:16<14:44,  8.76it/s]"
     ]
    },
    {
     "name": "stdout",
     "output_type": "stream",
     "text": [
      "Step 2250: average-batch loss:10905.394963281076 rel loss: 0.008154656806822237\n",
      "Saved a checkpoint: /tmp/tfcheckpoints/e43f9a3a-1561-463f-afa8-d0bbf32478d5/e43f9a3a-1561-463f-afa8-d0bbf32478d5-46\n"
     ]
    },
    {
     "name": "stderr",
     "output_type": "stream",
     "text": [
      " 23%|██▎       | 2299/10000 [04:21<14:34,  8.81it/s]"
     ]
    },
    {
     "name": "stdout",
     "output_type": "stream",
     "text": [
      "Step 2300: average-batch loss:10810.647765751355 rel loss: 0.008764247950977078\n",
      "Saved a checkpoint: /tmp/tfcheckpoints/e43f9a3a-1561-463f-afa8-d0bbf32478d5/e43f9a3a-1561-463f-afa8-d0bbf32478d5-47\n"
     ]
    },
    {
     "name": "stderr",
     "output_type": "stream",
     "text": [
      " 23%|██▎       | 2349/10000 [04:27<14:19,  8.90it/s]"
     ]
    },
    {
     "name": "stdout",
     "output_type": "stream",
     "text": [
      "Step 2350: average-batch loss:10734.417746161325 rel loss: 0.007101458261887558\n",
      "Saved a checkpoint: /tmp/tfcheckpoints/e43f9a3a-1561-463f-afa8-d0bbf32478d5/e43f9a3a-1561-463f-afa8-d0bbf32478d5-48\n"
     ]
    },
    {
     "name": "stderr",
     "output_type": "stream",
     "text": [
      " 24%|██▍       | 2399/10000 [04:33<14:14,  8.89it/s]"
     ]
    },
    {
     "name": "stdout",
     "output_type": "stream",
     "text": [
      "Step 2400: average-batch loss:10640.967933140426 rel loss: 0.008782078247774588\n",
      "Saved a checkpoint: /tmp/tfcheckpoints/e43f9a3a-1561-463f-afa8-d0bbf32478d5/e43f9a3a-1561-463f-afa8-d0bbf32478d5-49\n"
     ]
    },
    {
     "name": "stderr",
     "output_type": "stream",
     "text": [
      " 24%|██▍       | 2449/10000 [04:38<14:13,  8.85it/s]"
     ]
    },
    {
     "name": "stdout",
     "output_type": "stream",
     "text": [
      "Step 2450: average-batch loss:10556.66353071852 rel loss: 0.007985894613065045\n",
      "Saved a checkpoint: /tmp/tfcheckpoints/e43f9a3a-1561-463f-afa8-d0bbf32478d5/e43f9a3a-1561-463f-afa8-d0bbf32478d5-50\n"
     ]
    },
    {
     "name": "stderr",
     "output_type": "stream",
     "text": [
      " 25%|██▍       | 2499/10000 [04:44<13:54,  8.99it/s]"
     ]
    },
    {
     "name": "stdout",
     "output_type": "stream",
     "text": [
      "Step 2500: average-batch loss:10469.708839701281 rel loss: 0.00830535904565999\n",
      "Saved a checkpoint: /tmp/tfcheckpoints/e43f9a3a-1561-463f-afa8-d0bbf32478d5/e43f9a3a-1561-463f-afa8-d0bbf32478d5-51\n"
     ]
    },
    {
     "name": "stderr",
     "output_type": "stream",
     "text": [
      " 25%|██▌       | 2549/10000 [04:50<13:37,  9.12it/s]"
     ]
    },
    {
     "name": "stdout",
     "output_type": "stream",
     "text": [
      "Step 2550: average-batch loss:10385.139628241213 rel loss: 0.008143290748839956\n",
      "Saved a checkpoint: /tmp/tfcheckpoints/e43f9a3a-1561-463f-afa8-d0bbf32478d5/e43f9a3a-1561-463f-afa8-d0bbf32478d5-52\n"
     ]
    },
    {
     "name": "stderr",
     "output_type": "stream",
     "text": [
      " 26%|██▌       | 2599/10000 [04:55<14:11,  8.70it/s]"
     ]
    },
    {
     "name": "stdout",
     "output_type": "stream",
     "text": [
      "Step 2600: average-batch loss:10300.610059626984 rel loss: 0.008206268184594308\n",
      "Saved a checkpoint: /tmp/tfcheckpoints/e43f9a3a-1561-463f-afa8-d0bbf32478d5/e43f9a3a-1561-463f-afa8-d0bbf32478d5-53\n"
     ]
    },
    {
     "name": "stderr",
     "output_type": "stream",
     "text": [
      " 26%|██▋       | 2649/10000 [05:01<13:52,  8.84it/s]"
     ]
    },
    {
     "name": "stdout",
     "output_type": "stream",
     "text": [
      "Step 2650: average-batch loss:10212.876252694725 rel loss: 0.008590509153492434\n",
      "Saved a checkpoint: /tmp/tfcheckpoints/e43f9a3a-1561-463f-afa8-d0bbf32478d5/e43f9a3a-1561-463f-afa8-d0bbf32478d5-54\n"
     ]
    },
    {
     "name": "stderr",
     "output_type": "stream",
     "text": [
      " 27%|██▋       | 2699/10000 [05:07<13:42,  8.88it/s]"
     ]
    },
    {
     "name": "stdout",
     "output_type": "stream",
     "text": [
      "Step 2700: average-batch loss:10131.772401782346 rel loss: 0.008004902567502565\n",
      "Saved a checkpoint: /tmp/tfcheckpoints/e43f9a3a-1561-463f-afa8-d0bbf32478d5/e43f9a3a-1561-463f-afa8-d0bbf32478d5-55\n"
     ]
    },
    {
     "name": "stderr",
     "output_type": "stream",
     "text": [
      " 27%|██▋       | 2749/10000 [05:12<13:47,  8.77it/s]"
     ]
    },
    {
     "name": "stdout",
     "output_type": "stream",
     "text": [
      "Step 2750: average-batch loss:10040.44637425367 rel loss: 0.009095813485231046\n",
      "Saved a checkpoint: /tmp/tfcheckpoints/e43f9a3a-1561-463f-afa8-d0bbf32478d5/e43f9a3a-1561-463f-afa8-d0bbf32478d5-56\n"
     ]
    },
    {
     "name": "stderr",
     "output_type": "stream",
     "text": [
      " 28%|██▊       | 2799/10000 [05:18<13:40,  8.78it/s]"
     ]
    },
    {
     "name": "stdout",
     "output_type": "stream",
     "text": [
      "Step 2800: average-batch loss:9956.240159779838 rel loss: 0.008457631909483194\n",
      "Saved a checkpoint: /tmp/tfcheckpoints/e43f9a3a-1561-463f-afa8-d0bbf32478d5/e43f9a3a-1561-463f-afa8-d0bbf32478d5-57\n"
     ]
    },
    {
     "name": "stderr",
     "output_type": "stream",
     "text": [
      " 28%|██▊       | 2849/10000 [05:24<13:22,  8.91it/s]"
     ]
    },
    {
     "name": "stdout",
     "output_type": "stream",
     "text": [
      "Step 2850: average-batch loss:9868.671473560935 rel loss: 0.008873401698851523\n",
      "Saved a checkpoint: /tmp/tfcheckpoints/e43f9a3a-1561-463f-afa8-d0bbf32478d5/e43f9a3a-1561-463f-afa8-d0bbf32478d5-58\n"
     ]
    },
    {
     "name": "stderr",
     "output_type": "stream",
     "text": [
      " 29%|██▉       | 2899/10000 [05:29<13:29,  8.77it/s]"
     ]
    },
    {
     "name": "stdout",
     "output_type": "stream",
     "text": [
      "Step 2900: average-batch loss:9789.604304174256 rel loss: 0.008076646096202773\n",
      "Saved a checkpoint: /tmp/tfcheckpoints/e43f9a3a-1561-463f-afa8-d0bbf32478d5/e43f9a3a-1561-463f-afa8-d0bbf32478d5-59\n"
     ]
    },
    {
     "name": "stderr",
     "output_type": "stream",
     "text": [
      " 29%|██▉       | 2949/10000 [05:35<13:20,  8.81it/s]"
     ]
    },
    {
     "name": "stdout",
     "output_type": "stream",
     "text": [
      "Step 2950: average-batch loss:9707.95300899036 rel loss: 0.008410763330671261\n",
      "Saved a checkpoint: /tmp/tfcheckpoints/e43f9a3a-1561-463f-afa8-d0bbf32478d5/e43f9a3a-1561-463f-afa8-d0bbf32478d5-60\n"
     ]
    },
    {
     "name": "stderr",
     "output_type": "stream",
     "text": [
      " 30%|██▉       | 2999/10000 [05:41<13:11,  8.84it/s]"
     ]
    },
    {
     "name": "stdout",
     "output_type": "stream",
     "text": [
      "Step 3000: average-batch loss:9619.453692526098 rel loss: 0.00920003560420714\n",
      "Saved a checkpoint: /tmp/tfcheckpoints/e43f9a3a-1561-463f-afa8-d0bbf32478d5/e43f9a3a-1561-463f-afa8-d0bbf32478d5-61\n"
     ]
    },
    {
     "name": "stderr",
     "output_type": "stream",
     "text": [
      " 30%|███       | 3049/10000 [05:46<13:11,  8.78it/s]"
     ]
    },
    {
     "name": "stdout",
     "output_type": "stream",
     "text": [
      "Step 3050: average-batch loss:9533.989315504867 rel loss: 0.008964177973457879\n",
      "Saved a checkpoint: /tmp/tfcheckpoints/e43f9a3a-1561-463f-afa8-d0bbf32478d5/e43f9a3a-1561-463f-afa8-d0bbf32478d5-62\n"
     ]
    },
    {
     "name": "stderr",
     "output_type": "stream",
     "text": [
      " 31%|███       | 3099/10000 [05:52<13:23,  8.58it/s]"
     ]
    },
    {
     "name": "stdout",
     "output_type": "stream",
     "text": [
      "Step 3100: average-batch loss:9448.566499428804 rel loss: 0.00904082286781039\n",
      "Saved a checkpoint: /tmp/tfcheckpoints/e43f9a3a-1561-463f-afa8-d0bbf32478d5/e43f9a3a-1561-463f-afa8-d0bbf32478d5-63\n"
     ]
    },
    {
     "name": "stderr",
     "output_type": "stream",
     "text": [
      " 31%|███▏      | 3149/10000 [05:58<12:52,  8.87it/s]"
     ]
    },
    {
     "name": "stdout",
     "output_type": "stream",
     "text": [
      "Step 3150: average-batch loss:9365.155934680628 rel loss: 0.008906479008992612\n",
      "Saved a checkpoint: /tmp/tfcheckpoints/e43f9a3a-1561-463f-afa8-d0bbf32478d5/e43f9a3a-1561-463f-afa8-d0bbf32478d5-64\n"
     ]
    },
    {
     "name": "stderr",
     "output_type": "stream",
     "text": [
      " 32%|███▏      | 3199/10000 [06:04<12:36,  8.99it/s]"
     ]
    },
    {
     "name": "stdout",
     "output_type": "stream",
     "text": [
      "Step 3200: average-batch loss:9281.3438208769 rel loss: 0.009030170137130976\n",
      "Saved a checkpoint: /tmp/tfcheckpoints/e43f9a3a-1561-463f-afa8-d0bbf32478d5/e43f9a3a-1561-463f-afa8-d0bbf32478d5-65\n"
     ]
    },
    {
     "name": "stderr",
     "output_type": "stream",
     "text": [
      " 32%|███▏      | 3249/10000 [06:09<12:31,  8.98it/s]"
     ]
    },
    {
     "name": "stdout",
     "output_type": "stream",
     "text": [
      "Step 3250: average-batch loss:9197.857561105664 rel loss: 0.009076707180623105\n",
      "Saved a checkpoint: /tmp/tfcheckpoints/e43f9a3a-1561-463f-afa8-d0bbf32478d5/e43f9a3a-1561-463f-afa8-d0bbf32478d5-66\n"
     ]
    },
    {
     "name": "stderr",
     "output_type": "stream",
     "text": [
      " 33%|███▎      | 3299/10000 [06:15<12:27,  8.97it/s]"
     ]
    },
    {
     "name": "stdout",
     "output_type": "stream",
     "text": [
      "Step 3300: average-batch loss:9117.204536291629 rel loss: 0.008846244974870379\n",
      "Saved a checkpoint: /tmp/tfcheckpoints/e43f9a3a-1561-463f-afa8-d0bbf32478d5/e43f9a3a-1561-463f-afa8-d0bbf32478d5-67\n"
     ]
    },
    {
     "name": "stderr",
     "output_type": "stream",
     "text": [
      " 33%|███▎      | 3349/10000 [06:21<12:23,  8.95it/s]"
     ]
    },
    {
     "name": "stdout",
     "output_type": "stream",
     "text": [
      "Step 3350: average-batch loss:9034.82394433041 rel loss: 0.009118118124804708\n",
      "Saved a checkpoint: /tmp/tfcheckpoints/e43f9a3a-1561-463f-afa8-d0bbf32478d5/e43f9a3a-1561-463f-afa8-d0bbf32478d5-68\n"
     ]
    },
    {
     "name": "stderr",
     "output_type": "stream",
     "text": [
      " 34%|███▍      | 3399/10000 [06:26<12:19,  8.92it/s]"
     ]
    },
    {
     "name": "stdout",
     "output_type": "stream",
     "text": [
      "Step 3400: average-batch loss:8949.924135882968 rel loss: 0.009486092525304574\n",
      "Saved a checkpoint: /tmp/tfcheckpoints/e43f9a3a-1561-463f-afa8-d0bbf32478d5/e43f9a3a-1561-463f-afa8-d0bbf32478d5-69\n"
     ]
    },
    {
     "name": "stderr",
     "output_type": "stream",
     "text": [
      " 34%|███▍      | 3449/10000 [06:32<12:11,  8.96it/s]"
     ]
    },
    {
     "name": "stdout",
     "output_type": "stream",
     "text": [
      "Step 3450: average-batch loss:8869.980706128252 rel loss: 0.009012807626456634\n",
      "Saved a checkpoint: /tmp/tfcheckpoints/e43f9a3a-1561-463f-afa8-d0bbf32478d5/e43f9a3a-1561-463f-afa8-d0bbf32478d5-70\n"
     ]
    },
    {
     "name": "stderr",
     "output_type": "stream",
     "text": [
      " 35%|███▍      | 3499/10000 [06:37<12:05,  8.96it/s]"
     ]
    },
    {
     "name": "stdout",
     "output_type": "stream",
     "text": [
      "Step 3500: average-batch loss:8794.152613348091 rel loss: 0.008622558205899904\n",
      "Saved a checkpoint: /tmp/tfcheckpoints/e43f9a3a-1561-463f-afa8-d0bbf32478d5/e43f9a3a-1561-463f-afa8-d0bbf32478d5-71\n"
     ]
    },
    {
     "name": "stderr",
     "output_type": "stream",
     "text": [
      " 35%|███▌      | 3549/10000 [06:43<12:03,  8.92it/s]"
     ]
    },
    {
     "name": "stdout",
     "output_type": "stream",
     "text": [
      "Step 3550: average-batch loss:8708.610073411217 rel loss: 0.009822754631999112\n",
      "Saved a checkpoint: /tmp/tfcheckpoints/e43f9a3a-1561-463f-afa8-d0bbf32478d5/e43f9a3a-1561-463f-afa8-d0bbf32478d5-72\n"
     ]
    },
    {
     "name": "stderr",
     "output_type": "stream",
     "text": [
      " 36%|███▌      | 3599/10000 [06:49<12:01,  8.87it/s]"
     ]
    },
    {
     "name": "stdout",
     "output_type": "stream",
     "text": [
      "Step 3600: average-batch loss:8621.976976638427 rel loss: 0.010047938774079957\n",
      "Saved a checkpoint: /tmp/tfcheckpoints/e43f9a3a-1561-463f-afa8-d0bbf32478d5/e43f9a3a-1561-463f-afa8-d0bbf32478d5-73\n"
     ]
    },
    {
     "name": "stderr",
     "output_type": "stream",
     "text": [
      " 36%|███▋      | 3649/10000 [06:54<11:50,  8.94it/s]"
     ]
    },
    {
     "name": "stdout",
     "output_type": "stream",
     "text": [
      "Step 3650: average-batch loss:8543.979134522946 rel loss: 0.009128983215832262\n",
      "Saved a checkpoint: /tmp/tfcheckpoints/e43f9a3a-1561-463f-afa8-d0bbf32478d5/e43f9a3a-1561-463f-afa8-d0bbf32478d5-74\n"
     ]
    },
    {
     "name": "stderr",
     "output_type": "stream",
     "text": [
      " 37%|███▋      | 3699/10000 [07:00<11:49,  8.88it/s]"
     ]
    },
    {
     "name": "stdout",
     "output_type": "stream",
     "text": [
      "Step 3700: average-batch loss:8460.671496682915 rel loss: 0.009846456971257253\n",
      "Saved a checkpoint: /tmp/tfcheckpoints/e43f9a3a-1561-463f-afa8-d0bbf32478d5/e43f9a3a-1561-463f-afa8-d0bbf32478d5-75\n"
     ]
    },
    {
     "name": "stderr",
     "output_type": "stream",
     "text": [
      " 37%|███▋      | 3749/10000 [07:06<11:50,  8.80it/s]"
     ]
    },
    {
     "name": "stdout",
     "output_type": "stream",
     "text": [
      "Step 3750: average-batch loss:8377.765009192597 rel loss: 0.009896014915594768\n",
      "Saved a checkpoint: /tmp/tfcheckpoints/e43f9a3a-1561-463f-afa8-d0bbf32478d5/e43f9a3a-1561-463f-afa8-d0bbf32478d5-76\n"
     ]
    },
    {
     "name": "stderr",
     "output_type": "stream",
     "text": [
      " 38%|███▊      | 3799/10000 [07:11<11:40,  8.86it/s]"
     ]
    },
    {
     "name": "stdout",
     "output_type": "stream",
     "text": [
      "Step 3800: average-batch loss:8301.068010445068 rel loss: 0.00923941336837901\n",
      "Saved a checkpoint: /tmp/tfcheckpoints/e43f9a3a-1561-463f-afa8-d0bbf32478d5/e43f9a3a-1561-463f-afa8-d0bbf32478d5-77\n"
     ]
    },
    {
     "name": "stderr",
     "output_type": "stream",
     "text": [
      " 38%|███▊      | 3849/10000 [07:17<11:30,  8.91it/s]"
     ]
    },
    {
     "name": "stdout",
     "output_type": "stream",
     "text": [
      "Step 3850: average-batch loss:8216.35649337175 rel loss: 0.010310107301412215\n",
      "Saved a checkpoint: /tmp/tfcheckpoints/e43f9a3a-1561-463f-afa8-d0bbf32478d5/e43f9a3a-1561-463f-afa8-d0bbf32478d5-78\n"
     ]
    },
    {
     "name": "stderr",
     "output_type": "stream",
     "text": [
      " 39%|███▉      | 3899/10000 [07:23<11:19,  8.98it/s]"
     ]
    },
    {
     "name": "stdout",
     "output_type": "stream",
     "text": [
      "Step 3900: average-batch loss:8132.352236465395 rel loss: 0.010329638272390617\n",
      "Saved a checkpoint: /tmp/tfcheckpoints/e43f9a3a-1561-463f-afa8-d0bbf32478d5/e43f9a3a-1561-463f-afa8-d0bbf32478d5-79\n"
     ]
    },
    {
     "name": "stderr",
     "output_type": "stream",
     "text": [
      " 39%|███▉      | 3949/10000 [07:28<11:22,  8.86it/s]"
     ]
    },
    {
     "name": "stdout",
     "output_type": "stream",
     "text": [
      "Step 3950: average-batch loss:8054.986156407638 rel loss: 0.009604744012652775\n",
      "Saved a checkpoint: /tmp/tfcheckpoints/e43f9a3a-1561-463f-afa8-d0bbf32478d5/e43f9a3a-1561-463f-afa8-d0bbf32478d5-80\n"
     ]
    },
    {
     "name": "stderr",
     "output_type": "stream",
     "text": [
      " 40%|███▉      | 3999/10000 [07:34<11:41,  8.55it/s]"
     ]
    },
    {
     "name": "stdout",
     "output_type": "stream",
     "text": [
      "Step 4000: average-batch loss:7972.108890121345 rel loss: 0.010395902442952142\n",
      "Saved a checkpoint: /tmp/tfcheckpoints/e43f9a3a-1561-463f-afa8-d0bbf32478d5/e43f9a3a-1561-463f-afa8-d0bbf32478d5-81\n"
     ]
    },
    {
     "name": "stderr",
     "output_type": "stream",
     "text": [
      " 40%|████      | 4049/10000 [07:40<11:22,  8.72it/s]"
     ]
    },
    {
     "name": "stdout",
     "output_type": "stream",
     "text": [
      "Step 4050: average-batch loss:7897.464888913489 rel loss: 0.009451640780656361\n",
      "Saved a checkpoint: /tmp/tfcheckpoints/e43f9a3a-1561-463f-afa8-d0bbf32478d5/e43f9a3a-1561-463f-afa8-d0bbf32478d5-82\n"
     ]
    },
    {
     "name": "stderr",
     "output_type": "stream",
     "text": [
      " 41%|████      | 4099/10000 [07:45<10:55,  9.00it/s]"
     ]
    },
    {
     "name": "stdout",
     "output_type": "stream",
     "text": [
      "Step 4100: average-batch loss:7815.156035434581 rel loss: 0.010531952670645639\n",
      "Saved a checkpoint: /tmp/tfcheckpoints/e43f9a3a-1561-463f-afa8-d0bbf32478d5/e43f9a3a-1561-463f-afa8-d0bbf32478d5-83\n"
     ]
    },
    {
     "name": "stderr",
     "output_type": "stream",
     "text": [
      " 41%|████▏     | 4149/10000 [07:51<10:49,  9.01it/s]"
     ]
    },
    {
     "name": "stdout",
     "output_type": "stream",
     "text": [
      "Step 4150: average-batch loss:7731.840463033664 rel loss: 0.010775645565794283\n",
      "Saved a checkpoint: /tmp/tfcheckpoints/e43f9a3a-1561-463f-afa8-d0bbf32478d5/e43f9a3a-1561-463f-afa8-d0bbf32478d5-84\n"
     ]
    },
    {
     "name": "stderr",
     "output_type": "stream",
     "text": [
      " 42%|████▏     | 4199/10000 [07:57<11:03,  8.74it/s]"
     ]
    },
    {
     "name": "stdout",
     "output_type": "stream",
     "text": [
      "Step 4200: average-batch loss:7653.352113979086 rel loss: 0.01025542113908698\n",
      "Saved a checkpoint: /tmp/tfcheckpoints/e43f9a3a-1561-463f-afa8-d0bbf32478d5/e43f9a3a-1561-463f-afa8-d0bbf32478d5-85\n"
     ]
    },
    {
     "name": "stderr",
     "output_type": "stream",
     "text": [
      " 42%|████▏     | 4249/10000 [08:02<10:41,  8.96it/s]"
     ]
    },
    {
     "name": "stdout",
     "output_type": "stream",
     "text": [
      "Step 4250: average-batch loss:7576.919425099824 rel loss: 0.010087567861163453\n",
      "Saved a checkpoint: /tmp/tfcheckpoints/e43f9a3a-1561-463f-afa8-d0bbf32478d5/e43f9a3a-1561-463f-afa8-d0bbf32478d5-86\n"
     ]
    },
    {
     "name": "stderr",
     "output_type": "stream",
     "text": [
      " 43%|████▎     | 4299/10000 [08:08<10:31,  9.03it/s]"
     ]
    },
    {
     "name": "stdout",
     "output_type": "stream",
     "text": [
      "Step 4300: average-batch loss:7496.241892002854 rel loss: 0.010762397246417412\n",
      "Saved a checkpoint: /tmp/tfcheckpoints/e43f9a3a-1561-463f-afa8-d0bbf32478d5/e43f9a3a-1561-463f-afa8-d0bbf32478d5-87\n"
     ]
    },
    {
     "name": "stderr",
     "output_type": "stream",
     "text": [
      " 43%|████▎     | 4349/10000 [08:14<10:35,  8.89it/s]"
     ]
    },
    {
     "name": "stdout",
     "output_type": "stream",
     "text": [
      "Step 4350: average-batch loss:7415.654695309196 rel loss: 0.01086717221941768\n",
      "Saved a checkpoint: /tmp/tfcheckpoints/e43f9a3a-1561-463f-afa8-d0bbf32478d5/e43f9a3a-1561-463f-afa8-d0bbf32478d5-88\n"
     ]
    },
    {
     "name": "stderr",
     "output_type": "stream",
     "text": [
      " 44%|████▍     | 4399/10000 [08:19<10:43,  8.71it/s]"
     ]
    },
    {
     "name": "stdout",
     "output_type": "stream",
     "text": [
      "Step 4400: average-batch loss:7339.742808443745 rel loss: 0.010342581320168378\n",
      "Saved a checkpoint: /tmp/tfcheckpoints/e43f9a3a-1561-463f-afa8-d0bbf32478d5/e43f9a3a-1561-463f-afa8-d0bbf32478d5-89\n"
     ]
    },
    {
     "name": "stderr",
     "output_type": "stream",
     "text": [
      " 44%|████▍     | 4449/10000 [08:25<10:45,  8.60it/s]"
     ]
    },
    {
     "name": "stdout",
     "output_type": "stream",
     "text": [
      "Step 4450: average-batch loss:7262.116336402047 rel loss: 0.01068923554041518\n",
      "Saved a checkpoint: /tmp/tfcheckpoints/e43f9a3a-1561-463f-afa8-d0bbf32478d5/e43f9a3a-1561-463f-afa8-d0bbf32478d5-90\n"
     ]
    },
    {
     "name": "stderr",
     "output_type": "stream",
     "text": [
      " 45%|████▍     | 4499/10000 [08:31<10:08,  9.04it/s]"
     ]
    },
    {
     "name": "stdout",
     "output_type": "stream",
     "text": [
      "Step 4500: average-batch loss:7184.053993542784 rel loss: 0.010866057372261824\n",
      "Saved a checkpoint: /tmp/tfcheckpoints/e43f9a3a-1561-463f-afa8-d0bbf32478d5/e43f9a3a-1561-463f-afa8-d0bbf32478d5-91\n"
     ]
    },
    {
     "name": "stderr",
     "output_type": "stream",
     "text": [
      " 45%|████▌     | 4549/10000 [08:36<10:27,  8.68it/s]"
     ]
    },
    {
     "name": "stdout",
     "output_type": "stream",
     "text": [
      "Step 4550: average-batch loss:7102.391140200015 rel loss: 0.01149793805082798\n",
      "Saved a checkpoint: /tmp/tfcheckpoints/e43f9a3a-1561-463f-afa8-d0bbf32478d5/e43f9a3a-1561-463f-afa8-d0bbf32478d5-92\n"
     ]
    },
    {
     "name": "stderr",
     "output_type": "stream",
     "text": [
      " 46%|████▌     | 4599/10000 [08:42<10:11,  8.84it/s]"
     ]
    },
    {
     "name": "stdout",
     "output_type": "stream",
     "text": [
      "Step 4600: average-batch loss:7028.299223939711 rel loss: 0.01054194107273251\n",
      "Saved a checkpoint: /tmp/tfcheckpoints/e43f9a3a-1561-463f-afa8-d0bbf32478d5/e43f9a3a-1561-463f-afa8-d0bbf32478d5-93\n"
     ]
    },
    {
     "name": "stderr",
     "output_type": "stream",
     "text": [
      " 46%|████▋     | 4649/10000 [08:48<09:57,  8.95it/s]"
     ]
    },
    {
     "name": "stdout",
     "output_type": "stream",
     "text": [
      "Step 4650: average-batch loss:6947.0344385517965 rel loss: 0.011697766306863895\n",
      "Saved a checkpoint: /tmp/tfcheckpoints/e43f9a3a-1561-463f-afa8-d0bbf32478d5/e43f9a3a-1561-463f-afa8-d0bbf32478d5-94\n"
     ]
    },
    {
     "name": "stderr",
     "output_type": "stream",
     "text": [
      " 47%|████▋     | 4699/10000 [08:53<09:52,  8.95it/s]"
     ]
    },
    {
     "name": "stdout",
     "output_type": "stream",
     "text": [
      "Step 4700: average-batch loss:6873.090683596034 rel loss: 0.010758443087655391\n",
      "Saved a checkpoint: /tmp/tfcheckpoints/e43f9a3a-1561-463f-afa8-d0bbf32478d5/e43f9a3a-1561-463f-afa8-d0bbf32478d5-95\n"
     ]
    },
    {
     "name": "stderr",
     "output_type": "stream",
     "text": [
      " 47%|████▋     | 4749/10000 [08:59<09:49,  8.91it/s]"
     ]
    },
    {
     "name": "stdout",
     "output_type": "stream",
     "text": [
      "Step 4750: average-batch loss:6787.111557102927 rel loss: 0.01266799960037896\n",
      "Saved a checkpoint: /tmp/tfcheckpoints/e43f9a3a-1561-463f-afa8-d0bbf32478d5/e43f9a3a-1561-463f-afa8-d0bbf32478d5-96\n"
     ]
    },
    {
     "name": "stderr",
     "output_type": "stream",
     "text": [
      " 48%|████▊     | 4799/10000 [09:04<09:48,  8.84it/s]"
     ]
    },
    {
     "name": "stdout",
     "output_type": "stream",
     "text": [
      "Step 4800: average-batch loss:6714.2207035180745 rel loss: 0.010856189691032853\n",
      "Saved a checkpoint: /tmp/tfcheckpoints/e43f9a3a-1561-463f-afa8-d0bbf32478d5/e43f9a3a-1561-463f-afa8-d0bbf32478d5-97\n"
     ]
    },
    {
     "name": "stderr",
     "output_type": "stream",
     "text": [
      " 48%|████▊     | 4849/10000 [09:10<09:39,  8.88it/s]"
     ]
    },
    {
     "name": "stdout",
     "output_type": "stream",
     "text": [
      "Step 4850: average-batch loss:6636.135763973523 rel loss: 0.011766627796926835\n",
      "Saved a checkpoint: /tmp/tfcheckpoints/e43f9a3a-1561-463f-afa8-d0bbf32478d5/e43f9a3a-1561-463f-afa8-d0bbf32478d5-98\n"
     ]
    },
    {
     "name": "stderr",
     "output_type": "stream",
     "text": [
      " 49%|████▉     | 4899/10000 [09:16<09:28,  8.97it/s]"
     ]
    },
    {
     "name": "stdout",
     "output_type": "stream",
     "text": [
      "Step 4900: average-batch loss:6558.458041182573 rel loss: 0.01184390024350058\n",
      "Saved a checkpoint: /tmp/tfcheckpoints/e43f9a3a-1561-463f-afa8-d0bbf32478d5/e43f9a3a-1561-463f-afa8-d0bbf32478d5-99\n"
     ]
    },
    {
     "name": "stderr",
     "output_type": "stream",
     "text": [
      " 49%|████▉     | 4949/10000 [09:21<09:42,  8.67it/s]"
     ]
    },
    {
     "name": "stdout",
     "output_type": "stream",
     "text": [
      "Step 4950: average-batch loss:6486.63091847667 rel loss: 0.011073101523521102\n",
      "Saved a checkpoint: /tmp/tfcheckpoints/e43f9a3a-1561-463f-afa8-d0bbf32478d5/e43f9a3a-1561-463f-afa8-d0bbf32478d5-100\n"
     ]
    },
    {
     "name": "stderr",
     "output_type": "stream",
     "text": [
      " 50%|████▉     | 4999/10000 [09:27<09:25,  8.84it/s]"
     ]
    },
    {
     "name": "stdout",
     "output_type": "stream",
     "text": [
      "Step 5000: average-batch loss:6406.395541303267 rel loss: 0.012524262146492434\n",
      "Saved a checkpoint: /tmp/tfcheckpoints/e43f9a3a-1561-463f-afa8-d0bbf32478d5/e43f9a3a-1561-463f-afa8-d0bbf32478d5-101\n"
     ]
    },
    {
     "name": "stderr",
     "output_type": "stream",
     "text": [
      " 50%|█████     | 5049/10000 [09:33<09:23,  8.79it/s]"
     ]
    },
    {
     "name": "stdout",
     "output_type": "stream",
     "text": [
      "Step 5050: average-batch loss:6334.527673284807 rel loss: 0.011345418589227312\n",
      "Saved a checkpoint: /tmp/tfcheckpoints/e43f9a3a-1561-463f-afa8-d0bbf32478d5/e43f9a3a-1561-463f-afa8-d0bbf32478d5-102\n"
     ]
    },
    {
     "name": "stderr",
     "output_type": "stream",
     "text": [
      " 51%|█████     | 5099/10000 [09:39<09:23,  8.69it/s]"
     ]
    },
    {
     "name": "stdout",
     "output_type": "stream",
     "text": [
      "Step 5100: average-batch loss:6257.847210475451 rel loss: 0.012253489136167329\n",
      "Saved a checkpoint: /tmp/tfcheckpoints/e43f9a3a-1561-463f-afa8-d0bbf32478d5/e43f9a3a-1561-463f-afa8-d0bbf32478d5-103\n"
     ]
    },
    {
     "name": "stderr",
     "output_type": "stream",
     "text": [
      " 51%|█████▏    | 5149/10000 [09:44<09:07,  8.87it/s]"
     ]
    },
    {
     "name": "stdout",
     "output_type": "stream",
     "text": [
      "Step 5150: average-batch loss:6177.852483820267 rel loss: 0.012948630104828466\n",
      "Saved a checkpoint: /tmp/tfcheckpoints/e43f9a3a-1561-463f-afa8-d0bbf32478d5/e43f9a3a-1561-463f-afa8-d0bbf32478d5-104\n"
     ]
    },
    {
     "name": "stderr",
     "output_type": "stream",
     "text": [
      " 52%|█████▏    | 5199/10000 [09:50<09:20,  8.57it/s]"
     ]
    },
    {
     "name": "stdout",
     "output_type": "stream",
     "text": [
      "Step 5200: average-batch loss:6105.124802506182 rel loss: 0.011912562587455908\n",
      "Saved a checkpoint: /tmp/tfcheckpoints/e43f9a3a-1561-463f-afa8-d0bbf32478d5/e43f9a3a-1561-463f-afa8-d0bbf32478d5-105\n"
     ]
    },
    {
     "name": "stderr",
     "output_type": "stream",
     "text": [
      " 52%|█████▏    | 5249/10000 [09:56<09:03,  8.74it/s]"
     ]
    },
    {
     "name": "stdout",
     "output_type": "stream",
     "text": [
      "Step 5250: average-batch loss:6023.908821893193 rel loss: 0.013482272559939714\n",
      "Saved a checkpoint: /tmp/tfcheckpoints/e43f9a3a-1561-463f-afa8-d0bbf32478d5/e43f9a3a-1561-463f-afa8-d0bbf32478d5-106\n"
     ]
    },
    {
     "name": "stderr",
     "output_type": "stream",
     "text": [
      " 53%|█████▎    | 5299/10000 [10:01<08:56,  8.76it/s]"
     ]
    },
    {
     "name": "stdout",
     "output_type": "stream",
     "text": [
      "Step 5300: average-batch loss:5954.0834005171055 rel loss: 0.011727316646257117\n",
      "Saved a checkpoint: /tmp/tfcheckpoints/e43f9a3a-1561-463f-afa8-d0bbf32478d5/e43f9a3a-1561-463f-afa8-d0bbf32478d5-107\n"
     ]
    },
    {
     "name": "stderr",
     "output_type": "stream",
     "text": [
      " 53%|█████▎    | 5349/10000 [10:07<08:45,  8.85it/s]"
     ]
    },
    {
     "name": "stdout",
     "output_type": "stream",
     "text": [
      "Step 5350: average-batch loss:5879.239454290952 rel loss: 0.012730208865966222\n",
      "Saved a checkpoint: /tmp/tfcheckpoints/e43f9a3a-1561-463f-afa8-d0bbf32478d5/e43f9a3a-1561-463f-afa8-d0bbf32478d5-108\n"
     ]
    },
    {
     "name": "stderr",
     "output_type": "stream",
     "text": [
      " 54%|█████▍    | 5399/10000 [10:13<08:37,  8.88it/s]"
     ]
    },
    {
     "name": "stdout",
     "output_type": "stream",
     "text": [
      "Step 5400: average-batch loss:5805.012878611888 rel loss: 0.012786634109382734\n",
      "Saved a checkpoint: /tmp/tfcheckpoints/e43f9a3a-1561-463f-afa8-d0bbf32478d5/e43f9a3a-1561-463f-afa8-d0bbf32478d5-109\n"
     ]
    },
    {
     "name": "stderr",
     "output_type": "stream",
     "text": [
      " 54%|█████▍    | 5449/10000 [10:18<08:25,  9.01it/s]"
     ]
    },
    {
     "name": "stdout",
     "output_type": "stream",
     "text": [
      "Step 5450: average-batch loss:5728.180271869432 rel loss: 0.013413091609524551\n",
      "Saved a checkpoint: /tmp/tfcheckpoints/e43f9a3a-1561-463f-afa8-d0bbf32478d5/e43f9a3a-1561-463f-afa8-d0bbf32478d5-110\n"
     ]
    },
    {
     "name": "stderr",
     "output_type": "stream",
     "text": [
      " 55%|█████▍    | 5499/10000 [10:24<08:35,  8.73it/s]"
     ]
    },
    {
     "name": "stdout",
     "output_type": "stream",
     "text": [
      "Step 5500: average-batch loss:5661.14186895848 rel loss: 0.011841851778797654\n",
      "Saved a checkpoint: /tmp/tfcheckpoints/e43f9a3a-1561-463f-afa8-d0bbf32478d5/e43f9a3a-1561-463f-afa8-d0bbf32478d5-111\n"
     ]
    },
    {
     "name": "stderr",
     "output_type": "stream",
     "text": [
      " 55%|█████▌    | 5549/10000 [10:30<08:21,  8.88it/s]"
     ]
    },
    {
     "name": "stdout",
     "output_type": "stream",
     "text": [
      "Step 5550: average-batch loss:5580.958625521422 rel loss: 0.014367288635752368\n",
      "Saved a checkpoint: /tmp/tfcheckpoints/e43f9a3a-1561-463f-afa8-d0bbf32478d5/e43f9a3a-1561-463f-afa8-d0bbf32478d5-112\n"
     ]
    },
    {
     "name": "stderr",
     "output_type": "stream",
     "text": [
      " 56%|█████▌    | 5599/10000 [10:35<08:12,  8.94it/s]"
     ]
    },
    {
     "name": "stdout",
     "output_type": "stream",
     "text": [
      "Step 5600: average-batch loss:5505.5123133556735 rel loss: 0.013703776846112032\n",
      "Saved a checkpoint: /tmp/tfcheckpoints/e43f9a3a-1561-463f-afa8-d0bbf32478d5/e43f9a3a-1561-463f-afa8-d0bbf32478d5-113\n"
     ]
    },
    {
     "name": "stderr",
     "output_type": "stream",
     "text": [
      " 56%|█████▋    | 5649/10000 [10:41<08:08,  8.90it/s]"
     ]
    },
    {
     "name": "stdout",
     "output_type": "stream",
     "text": [
      "Step 5650: average-batch loss:5438.685340328742 rel loss: 0.012287339466285773\n",
      "Saved a checkpoint: /tmp/tfcheckpoints/e43f9a3a-1561-463f-afa8-d0bbf32478d5/e43f9a3a-1561-463f-afa8-d0bbf32478d5-114\n"
     ]
    },
    {
     "name": "stderr",
     "output_type": "stream",
     "text": [
      " 57%|█████▋    | 5699/10000 [10:47<08:17,  8.64it/s]"
     ]
    },
    {
     "name": "stdout",
     "output_type": "stream",
     "text": [
      "Step 5700: average-batch loss:5361.307054834026 rel loss: 0.014432727822397061\n",
      "Saved a checkpoint: /tmp/tfcheckpoints/e43f9a3a-1561-463f-afa8-d0bbf32478d5/e43f9a3a-1561-463f-afa8-d0bbf32478d5-115\n"
     ]
    },
    {
     "name": "stderr",
     "output_type": "stream",
     "text": [
      " 57%|█████▋    | 5749/10000 [10:52<07:54,  8.95it/s]"
     ]
    },
    {
     "name": "stdout",
     "output_type": "stream",
     "text": [
      "Step 5750: average-batch loss:5291.927852247021 rel loss: 0.013110383309089337\n",
      "Saved a checkpoint: /tmp/tfcheckpoints/e43f9a3a-1561-463f-afa8-d0bbf32478d5/e43f9a3a-1561-463f-afa8-d0bbf32478d5-116\n"
     ]
    },
    {
     "name": "stderr",
     "output_type": "stream",
     "text": [
      " 58%|█████▊    | 5799/10000 [10:58<08:04,  8.67it/s]"
     ]
    },
    {
     "name": "stdout",
     "output_type": "stream",
     "text": [
      "Step 5800: average-batch loss:5222.875976809308 rel loss: 0.013221044448368812\n",
      "Saved a checkpoint: /tmp/tfcheckpoints/e43f9a3a-1561-463f-afa8-d0bbf32478d5/e43f9a3a-1561-463f-afa8-d0bbf32478d5-117\n"
     ]
    },
    {
     "name": "stderr",
     "output_type": "stream",
     "text": [
      " 58%|█████▊    | 5849/10000 [11:04<07:36,  9.08it/s]"
     ]
    },
    {
     "name": "stdout",
     "output_type": "stream",
     "text": [
      "Step 5850: average-batch loss:5142.470352292844 rel loss: 0.015635602931694848\n",
      "Saved a checkpoint: /tmp/tfcheckpoints/e43f9a3a-1561-463f-afa8-d0bbf32478d5/e43f9a3a-1561-463f-afa8-d0bbf32478d5-118\n"
     ]
    },
    {
     "name": "stderr",
     "output_type": "stream",
     "text": [
      " 59%|█████▉    | 5899/10000 [11:09<07:29,  9.12it/s]"
     ]
    },
    {
     "name": "stdout",
     "output_type": "stream",
     "text": [
      "Step 5900: average-batch loss:5072.4738005356685 rel loss: 0.013799292911041471\n",
      "Saved a checkpoint: /tmp/tfcheckpoints/e43f9a3a-1561-463f-afa8-d0bbf32478d5/e43f9a3a-1561-463f-afa8-d0bbf32478d5-119\n"
     ]
    },
    {
     "name": "stderr",
     "output_type": "stream",
     "text": [
      " 59%|█████▉    | 5949/10000 [11:15<07:38,  8.83it/s]"
     ]
    },
    {
     "name": "stdout",
     "output_type": "stream",
     "text": [
      "Step 5950: average-batch loss:5007.641893649461 rel loss: 0.012946594078227775\n",
      "Saved a checkpoint: /tmp/tfcheckpoints/e43f9a3a-1561-463f-afa8-d0bbf32478d5/e43f9a3a-1561-463f-afa8-d0bbf32478d5-120\n"
     ]
    },
    {
     "name": "stderr",
     "output_type": "stream",
     "text": [
      " 60%|█████▉    | 5999/10000 [11:21<07:29,  8.91it/s]"
     ]
    },
    {
     "name": "stdout",
     "output_type": "stream",
     "text": [
      "Step 6000: average-batch loss:4933.313496746592 rel loss: 0.015066627521621483\n",
      "Saved a checkpoint: /tmp/tfcheckpoints/e43f9a3a-1561-463f-afa8-d0bbf32478d5/e43f9a3a-1561-463f-afa8-d0bbf32478d5-121\n"
     ]
    },
    {
     "name": "stderr",
     "output_type": "stream",
     "text": [
      " 60%|██████    | 6049/10000 [11:26<07:15,  9.07it/s]"
     ]
    },
    {
     "name": "stdout",
     "output_type": "stream",
     "text": [
      "Step 6050: average-batch loss:4865.962956917107 rel loss: 0.013841153421389045\n",
      "Saved a checkpoint: /tmp/tfcheckpoints/e43f9a3a-1561-463f-afa8-d0bbf32478d5/e43f9a3a-1561-463f-afa8-d0bbf32478d5-122\n"
     ]
    },
    {
     "name": "stderr",
     "output_type": "stream",
     "text": [
      " 61%|██████    | 6099/10000 [11:32<07:08,  9.11it/s]"
     ]
    },
    {
     "name": "stdout",
     "output_type": "stream",
     "text": [
      "Step 6100: average-batch loss:4794.004976812928 rel loss: 0.015009992783114741\n",
      "Saved a checkpoint: /tmp/tfcheckpoints/e43f9a3a-1561-463f-afa8-d0bbf32478d5/e43f9a3a-1561-463f-afa8-d0bbf32478d5-123\n"
     ]
    },
    {
     "name": "stderr",
     "output_type": "stream",
     "text": [
      " 61%|██████▏   | 6149/10000 [11:37<07:04,  9.08it/s]"
     ]
    },
    {
     "name": "stdout",
     "output_type": "stream",
     "text": [
      "Step 6150: average-batch loss:4718.318632649982 rel loss: 0.016040956547361953\n",
      "Saved a checkpoint: /tmp/tfcheckpoints/e43f9a3a-1561-463f-afa8-d0bbf32478d5/e43f9a3a-1561-463f-afa8-d0bbf32478d5-124\n"
     ]
    },
    {
     "name": "stderr",
     "output_type": "stream",
     "text": [
      " 62%|██████▏   | 6199/10000 [11:43<06:55,  9.15it/s]"
     ]
    },
    {
     "name": "stdout",
     "output_type": "stream",
     "text": [
      "Step 6200: average-batch loss:4653.107216256569 rel loss: 0.014014595701896511\n",
      "Saved a checkpoint: /tmp/tfcheckpoints/e43f9a3a-1561-463f-afa8-d0bbf32478d5/e43f9a3a-1561-463f-afa8-d0bbf32478d5-125\n"
     ]
    },
    {
     "name": "stderr",
     "output_type": "stream",
     "text": [
      " 62%|██████▏   | 6249/10000 [11:49<07:05,  8.82it/s]"
     ]
    },
    {
     "name": "stdout",
     "output_type": "stream",
     "text": [
      "Step 6250: average-batch loss:4581.923180594934 rel loss: 0.015535842233913681\n",
      "Saved a checkpoint: /tmp/tfcheckpoints/e43f9a3a-1561-463f-afa8-d0bbf32478d5/e43f9a3a-1561-463f-afa8-d0bbf32478d5-126\n"
     ]
    },
    {
     "name": "stderr",
     "output_type": "stream",
     "text": [
      " 63%|██████▎   | 6299/10000 [11:54<06:55,  8.91it/s]"
     ]
    },
    {
     "name": "stdout",
     "output_type": "stream",
     "text": [
      "Step 6300: average-batch loss:4511.70009689998 rel loss: 0.015564661255566303\n",
      "Saved a checkpoint: /tmp/tfcheckpoints/e43f9a3a-1561-463f-afa8-d0bbf32478d5/e43f9a3a-1561-463f-afa8-d0bbf32478d5-127\n"
     ]
    },
    {
     "name": "stderr",
     "output_type": "stream",
     "text": [
      " 63%|██████▎   | 6349/10000 [12:00<06:52,  8.85it/s]"
     ]
    },
    {
     "name": "stdout",
     "output_type": "stream",
     "text": [
      "Step 6350: average-batch loss:4446.610574060221 rel loss: 0.01463800837866624\n",
      "Saved a checkpoint: /tmp/tfcheckpoints/e43f9a3a-1561-463f-afa8-d0bbf32478d5/e43f9a3a-1561-463f-afa8-d0bbf32478d5-128\n"
     ]
    },
    {
     "name": "stderr",
     "output_type": "stream",
     "text": [
      " 64%|██████▍   | 6399/10000 [12:06<06:54,  8.68it/s]"
     ]
    },
    {
     "name": "stdout",
     "output_type": "stream",
     "text": [
      "Step 6400: average-batch loss:4372.57703586683 rel loss: 0.016931328501732026\n",
      "Saved a checkpoint: /tmp/tfcheckpoints/e43f9a3a-1561-463f-afa8-d0bbf32478d5/e43f9a3a-1561-463f-afa8-d0bbf32478d5-129\n"
     ]
    },
    {
     "name": "stderr",
     "output_type": "stream",
     "text": [
      " 64%|██████▍   | 6449/10000 [12:11<06:39,  8.89it/s]"
     ]
    },
    {
     "name": "stdout",
     "output_type": "stream",
     "text": [
      "Step 6450: average-batch loss:4306.714785853411 rel loss: 0.015292921237728928\n",
      "Saved a checkpoint: /tmp/tfcheckpoints/e43f9a3a-1561-463f-afa8-d0bbf32478d5/e43f9a3a-1561-463f-afa8-d0bbf32478d5-130\n"
     ]
    },
    {
     "name": "stderr",
     "output_type": "stream",
     "text": [
      " 65%|██████▍   | 6499/10000 [12:17<06:37,  8.80it/s]"
     ]
    },
    {
     "name": "stdout",
     "output_type": "stream",
     "text": [
      "Step 6500: average-batch loss:4242.221954207842 rel loss: 0.01520260663909835\n",
      "Saved a checkpoint: /tmp/tfcheckpoints/e43f9a3a-1561-463f-afa8-d0bbf32478d5/e43f9a3a-1561-463f-afa8-d0bbf32478d5-131\n"
     ]
    },
    {
     "name": "stderr",
     "output_type": "stream",
     "text": [
      " 65%|██████▌   | 6549/10000 [12:23<06:32,  8.80it/s]"
     ]
    },
    {
     "name": "stdout",
     "output_type": "stream",
     "text": [
      "Step 6550: average-batch loss:4173.695775224442 rel loss: 0.016418585032042805\n",
      "Saved a checkpoint: /tmp/tfcheckpoints/e43f9a3a-1561-463f-afa8-d0bbf32478d5/e43f9a3a-1561-463f-afa8-d0bbf32478d5-132\n"
     ]
    },
    {
     "name": "stderr",
     "output_type": "stream",
     "text": [
      " 66%|██████▌   | 6599/10000 [12:29<06:30,  8.71it/s]"
     ]
    },
    {
     "name": "stdout",
     "output_type": "stream",
     "text": [
      "Step 6600: average-batch loss:4109.3084572370935 rel loss: 0.015668650493722996\n",
      "Saved a checkpoint: /tmp/tfcheckpoints/e43f9a3a-1561-463f-afa8-d0bbf32478d5/e43f9a3a-1561-463f-afa8-d0bbf32478d5-133\n"
     ]
    },
    {
     "name": "stderr",
     "output_type": "stream",
     "text": [
      " 66%|██████▋   | 6649/10000 [12:34<06:17,  8.88it/s]"
     ]
    },
    {
     "name": "stdout",
     "output_type": "stream",
     "text": [
      "Step 6650: average-batch loss:4042.5086065933624 rel loss: 0.016524355825682117\n",
      "Saved a checkpoint: /tmp/tfcheckpoints/e43f9a3a-1561-463f-afa8-d0bbf32478d5/e43f9a3a-1561-463f-afa8-d0bbf32478d5-134\n"
     ]
    },
    {
     "name": "stderr",
     "output_type": "stream",
     "text": [
      " 67%|██████▋   | 6699/10000 [12:40<06:17,  8.74it/s]"
     ]
    },
    {
     "name": "stdout",
     "output_type": "stream",
     "text": [
      "Step 6700: average-batch loss:3978.2994865410997 rel loss: 0.016139840720762036\n",
      "Saved a checkpoint: /tmp/tfcheckpoints/e43f9a3a-1561-463f-afa8-d0bbf32478d5/e43f9a3a-1561-463f-afa8-d0bbf32478d5-135\n"
     ]
    },
    {
     "name": "stderr",
     "output_type": "stream",
     "text": [
      " 67%|██████▋   | 6749/10000 [12:46<06:12,  8.73it/s]"
     ]
    },
    {
     "name": "stdout",
     "output_type": "stream",
     "text": [
      "Step 6750: average-batch loss:3914.544790368999 rel loss: 0.016286618134746318\n",
      "Saved a checkpoint: /tmp/tfcheckpoints/e43f9a3a-1561-463f-afa8-d0bbf32478d5/e43f9a3a-1561-463f-afa8-d0bbf32478d5-136\n"
     ]
    },
    {
     "name": "stderr",
     "output_type": "stream",
     "text": [
      " 68%|██████▊   | 6799/10000 [12:51<05:58,  8.94it/s]"
     ]
    },
    {
     "name": "stdout",
     "output_type": "stream",
     "text": [
      "Step 6800: average-batch loss:3850.5247036497167 rel loss: 0.016626328006310705\n",
      "Saved a checkpoint: /tmp/tfcheckpoints/e43f9a3a-1561-463f-afa8-d0bbf32478d5/e43f9a3a-1561-463f-afa8-d0bbf32478d5-137\n"
     ]
    },
    {
     "name": "stderr",
     "output_type": "stream",
     "text": [
      " 68%|██████▊   | 6849/10000 [12:57<05:53,  8.90it/s]"
     ]
    },
    {
     "name": "stdout",
     "output_type": "stream",
     "text": [
      "Step 6850: average-batch loss:3780.7575158986783 rel loss: 0.018453229930154576\n",
      "Saved a checkpoint: /tmp/tfcheckpoints/e43f9a3a-1561-463f-afa8-d0bbf32478d5/e43f9a3a-1561-463f-afa8-d0bbf32478d5-138\n"
     ]
    },
    {
     "name": "stderr",
     "output_type": "stream",
     "text": [
      " 69%|██████▉   | 6899/10000 [13:03<05:57,  8.66it/s]"
     ]
    },
    {
     "name": "stdout",
     "output_type": "stream",
     "text": [
      "Step 6900: average-batch loss:3721.760785400244 rel loss: 0.01585183301674498\n",
      "Saved a checkpoint: /tmp/tfcheckpoints/e43f9a3a-1561-463f-afa8-d0bbf32478d5/e43f9a3a-1561-463f-afa8-d0bbf32478d5-139\n"
     ]
    },
    {
     "name": "stderr",
     "output_type": "stream",
     "text": [
      " 69%|██████▉   | 6949/10000 [13:08<05:41,  8.92it/s]"
     ]
    },
    {
     "name": "stdout",
     "output_type": "stream",
     "text": [
      "Step 6950: average-batch loss:3653.7561064919523 rel loss: 0.01861226554981646\n",
      "Saved a checkpoint: /tmp/tfcheckpoints/e43f9a3a-1561-463f-afa8-d0bbf32478d5/e43f9a3a-1561-463f-afa8-d0bbf32478d5-140\n"
     ]
    },
    {
     "name": "stderr",
     "output_type": "stream",
     "text": [
      " 70%|██████▉   | 6999/10000 [13:14<05:39,  8.84it/s]"
     ]
    },
    {
     "name": "stdout",
     "output_type": "stream",
     "text": [
      "Step 7000: average-batch loss:3593.768613407204 rel loss: 0.01669208553409754\n",
      "Saved a checkpoint: /tmp/tfcheckpoints/e43f9a3a-1561-463f-afa8-d0bbf32478d5/e43f9a3a-1561-463f-afa8-d0bbf32478d5-141\n"
     ]
    },
    {
     "name": "stderr",
     "output_type": "stream",
     "text": [
      " 70%|███████   | 7049/10000 [13:20<05:35,  8.80it/s]"
     ]
    },
    {
     "name": "stdout",
     "output_type": "stream",
     "text": [
      "Step 7050: average-batch loss:3530.23157969351 rel loss: 0.01799797896522426\n",
      "Saved a checkpoint: /tmp/tfcheckpoints/e43f9a3a-1561-463f-afa8-d0bbf32478d5/e43f9a3a-1561-463f-afa8-d0bbf32478d5-142\n"
     ]
    },
    {
     "name": "stderr",
     "output_type": "stream",
     "text": [
      " 71%|███████   | 7099/10000 [13:25<05:24,  8.94it/s]"
     ]
    },
    {
     "name": "stdout",
     "output_type": "stream",
     "text": [
      "Step 7100: average-batch loss:3471.8539606098116 rel loss: 0.016814537634942655\n",
      "Saved a checkpoint: /tmp/tfcheckpoints/e43f9a3a-1561-463f-afa8-d0bbf32478d5/e43f9a3a-1561-463f-afa8-d0bbf32478d5-143\n"
     ]
    },
    {
     "name": "stderr",
     "output_type": "stream",
     "text": [
      " 71%|███████▏  | 7149/10000 [13:31<05:19,  8.91it/s]"
     ]
    },
    {
     "name": "stdout",
     "output_type": "stream",
     "text": [
      "Step 7150: average-batch loss:3405.5499867843146 rel loss: 0.019469387935222886\n",
      "Saved a checkpoint: /tmp/tfcheckpoints/e43f9a3a-1561-463f-afa8-d0bbf32478d5/e43f9a3a-1561-463f-afa8-d0bbf32478d5-144\n"
     ]
    },
    {
     "name": "stderr",
     "output_type": "stream",
     "text": [
      " 72%|███████▏  | 7199/10000 [13:37<05:17,  8.81it/s]"
     ]
    },
    {
     "name": "stdout",
     "output_type": "stream",
     "text": [
      "Step 7200: average-batch loss:3349.332868211751 rel loss: 0.01678457196838091\n",
      "Saved a checkpoint: /tmp/tfcheckpoints/e43f9a3a-1561-463f-afa8-d0bbf32478d5/e43f9a3a-1561-463f-afa8-d0bbf32478d5-145\n"
     ]
    },
    {
     "name": "stderr",
     "output_type": "stream",
     "text": [
      " 72%|███████▏  | 7249/10000 [13:42<05:05,  8.99it/s]"
     ]
    },
    {
     "name": "stdout",
     "output_type": "stream",
     "text": [
      "Step 7250: average-batch loss:3284.338696670202 rel loss: 0.019789119681061722\n",
      "Saved a checkpoint: /tmp/tfcheckpoints/e43f9a3a-1561-463f-afa8-d0bbf32478d5/e43f9a3a-1561-463f-afa8-d0bbf32478d5-146\n"
     ]
    },
    {
     "name": "stderr",
     "output_type": "stream",
     "text": [
      " 73%|███████▎  | 7299/10000 [13:48<05:06,  8.81it/s]"
     ]
    },
    {
     "name": "stdout",
     "output_type": "stream",
     "text": [
      "Step 7300: average-batch loss:3226.40938905033 rel loss: 0.01795472943280858\n",
      "Saved a checkpoint: /tmp/tfcheckpoints/e43f9a3a-1561-463f-afa8-d0bbf32478d5/e43f9a3a-1561-463f-afa8-d0bbf32478d5-147\n"
     ]
    },
    {
     "name": "stderr",
     "output_type": "stream",
     "text": [
      " 73%|███████▎  | 7349/10000 [13:53<05:02,  8.77it/s]"
     ]
    },
    {
     "name": "stdout",
     "output_type": "stream",
     "text": [
      "Step 7350: average-batch loss:3167.8273455492463 rel loss: 0.01849281451004288\n",
      "Saved a checkpoint: /tmp/tfcheckpoints/e43f9a3a-1561-463f-afa8-d0bbf32478d5/e43f9a3a-1561-463f-afa8-d0bbf32478d5-148\n"
     ]
    },
    {
     "name": "stderr",
     "output_type": "stream",
     "text": [
      " 74%|███████▍  | 7399/10000 [13:59<04:50,  8.95it/s]"
     ]
    },
    {
     "name": "stdout",
     "output_type": "stream",
     "text": [
      "Step 7400: average-batch loss:3113.3199821621615 rel loss: 0.017507793512837082\n",
      "Saved a checkpoint: /tmp/tfcheckpoints/e43f9a3a-1561-463f-afa8-d0bbf32478d5/e43f9a3a-1561-463f-afa8-d0bbf32478d5-149\n"
     ]
    },
    {
     "name": "stderr",
     "output_type": "stream",
     "text": [
      " 74%|███████▍  | 7449/10000 [14:05<04:49,  8.81it/s]"
     ]
    },
    {
     "name": "stdout",
     "output_type": "stream",
     "text": [
      "Step 7450: average-batch loss:3054.9943570133814 rel loss: 0.019091892924411255\n",
      "Saved a checkpoint: /tmp/tfcheckpoints/e43f9a3a-1561-463f-afa8-d0bbf32478d5/e43f9a3a-1561-463f-afa8-d0bbf32478d5-150\n"
     ]
    },
    {
     "name": "stderr",
     "output_type": "stream",
     "text": [
      " 75%|███████▍  | 7499/10000 [14:11<04:42,  8.85it/s]"
     ]
    },
    {
     "name": "stdout",
     "output_type": "stream",
     "text": [
      "Step 7500: average-batch loss:2993.142961112626 rel loss: 0.02066436408295172\n",
      "Saved a checkpoint: /tmp/tfcheckpoints/e43f9a3a-1561-463f-afa8-d0bbf32478d5/e43f9a3a-1561-463f-afa8-d0bbf32478d5-151\n"
     ]
    },
    {
     "name": "stderr",
     "output_type": "stream",
     "text": [
      " 75%|███████▌  | 7549/10000 [14:16<04:33,  8.96it/s]"
     ]
    },
    {
     "name": "stdout",
     "output_type": "stream",
     "text": [
      "Step 7550: average-batch loss:2936.6142686352728 rel loss: 0.019249614456046227\n",
      "Saved a checkpoint: /tmp/tfcheckpoints/e43f9a3a-1561-463f-afa8-d0bbf32478d5/e43f9a3a-1561-463f-afa8-d0bbf32478d5-152\n"
     ]
    },
    {
     "name": "stderr",
     "output_type": "stream",
     "text": [
      " 76%|███████▌  | 7599/10000 [14:22<04:31,  8.84it/s]"
     ]
    },
    {
     "name": "stdout",
     "output_type": "stream",
     "text": [
      "Step 7600: average-batch loss:2882.1086842310547 rel loss: 0.018911703331118537\n",
      "Saved a checkpoint: /tmp/tfcheckpoints/e43f9a3a-1561-463f-afa8-d0bbf32478d5/e43f9a3a-1561-463f-afa8-d0bbf32478d5-153\n"
     ]
    },
    {
     "name": "stderr",
     "output_type": "stream",
     "text": [
      " 76%|███████▋  | 7649/10000 [14:28<04:21,  9.01it/s]"
     ]
    },
    {
     "name": "stdout",
     "output_type": "stream",
     "text": [
      "Step 7650: average-batch loss:2829.296926739773 rel loss: 0.01866603571797507\n",
      "Saved a checkpoint: /tmp/tfcheckpoints/e43f9a3a-1561-463f-afa8-d0bbf32478d5/e43f9a3a-1561-463f-afa8-d0bbf32478d5-154\n"
     ]
    },
    {
     "name": "stderr",
     "output_type": "stream",
     "text": [
      " 77%|███████▋  | 7699/10000 [14:33<04:13,  9.09it/s]"
     ]
    },
    {
     "name": "stdout",
     "output_type": "stream",
     "text": [
      "Step 7700: average-batch loss:2772.51443495753 rel loss: 0.020480503569718277\n",
      "Saved a checkpoint: /tmp/tfcheckpoints/e43f9a3a-1561-463f-afa8-d0bbf32478d5/e43f9a3a-1561-463f-afa8-d0bbf32478d5-155\n"
     ]
    },
    {
     "name": "stderr",
     "output_type": "stream",
     "text": [
      " 77%|███████▋  | 7749/10000 [14:39<04:16,  8.77it/s]"
     ]
    },
    {
     "name": "stdout",
     "output_type": "stream",
     "text": [
      "Step 7750: average-batch loss:2717.978229630587 rel loss: 0.020064989753194245\n",
      "Saved a checkpoint: /tmp/tfcheckpoints/e43f9a3a-1561-463f-afa8-d0bbf32478d5/e43f9a3a-1561-463f-afa8-d0bbf32478d5-156\n"
     ]
    },
    {
     "name": "stderr",
     "output_type": "stream",
     "text": [
      " 78%|███████▊  | 7799/10000 [14:45<04:08,  8.85it/s]"
     ]
    },
    {
     "name": "stdout",
     "output_type": "stream",
     "text": [
      "Step 7800: average-batch loss:2667.614750179692 rel loss: 0.01887959250768979\n",
      "Saved a checkpoint: /tmp/tfcheckpoints/e43f9a3a-1561-463f-afa8-d0bbf32478d5/e43f9a3a-1561-463f-afa8-d0bbf32478d5-157\n"
     ]
    },
    {
     "name": "stderr",
     "output_type": "stream",
     "text": [
      " 78%|███████▊  | 7849/10000 [14:50<04:08,  8.64it/s]"
     ]
    },
    {
     "name": "stdout",
     "output_type": "stream",
     "text": [
      "Step 7850: average-batch loss:2608.893894764084 rel loss: 0.02250795079610461\n",
      "Saved a checkpoint: /tmp/tfcheckpoints/e43f9a3a-1561-463f-afa8-d0bbf32478d5/e43f9a3a-1561-463f-afa8-d0bbf32478d5-158\n"
     ]
    },
    {
     "name": "stderr",
     "output_type": "stream",
     "text": [
      " 79%|███████▉  | 7899/10000 [14:56<03:51,  9.06it/s]"
     ]
    },
    {
     "name": "stdout",
     "output_type": "stream",
     "text": [
      "Step 7900: average-batch loss:2559.8148352525877 rel loss: 0.019172894396736116\n",
      "Saved a checkpoint: /tmp/tfcheckpoints/e43f9a3a-1561-463f-afa8-d0bbf32478d5/e43f9a3a-1561-463f-afa8-d0bbf32478d5-159\n"
     ]
    },
    {
     "name": "stderr",
     "output_type": "stream",
     "text": [
      " 79%|███████▉  | 7949/10000 [15:02<03:48,  8.99it/s]"
     ]
    },
    {
     "name": "stdout",
     "output_type": "stream",
     "text": [
      "Step 7950: average-batch loss:2509.117493039741 rel loss: 0.02020524840047565\n",
      "Saved a checkpoint: /tmp/tfcheckpoints/e43f9a3a-1561-463f-afa8-d0bbf32478d5/e43f9a3a-1561-463f-afa8-d0bbf32478d5-160\n"
     ]
    },
    {
     "name": "stderr",
     "output_type": "stream",
     "text": [
      " 80%|███████▉  | 7999/10000 [15:07<03:46,  8.85it/s]"
     ]
    },
    {
     "name": "stdout",
     "output_type": "stream",
     "text": [
      "Step 8000: average-batch loss:2458.0424539719984 rel loss: 0.020778745698720333\n",
      "Saved a checkpoint: /tmp/tfcheckpoints/e43f9a3a-1561-463f-afa8-d0bbf32478d5/e43f9a3a-1561-463f-afa8-d0bbf32478d5-161\n"
     ]
    },
    {
     "name": "stderr",
     "output_type": "stream",
     "text": [
      " 80%|████████  | 8049/10000 [15:13<03:42,  8.76it/s]"
     ]
    },
    {
     "name": "stdout",
     "output_type": "stream",
     "text": [
      "Step 8050: average-batch loss:2406.2904474312913 rel loss: 0.02150696587602389\n",
      "Saved a checkpoint: /tmp/tfcheckpoints/e43f9a3a-1561-463f-afa8-d0bbf32478d5/e43f9a3a-1561-463f-afa8-d0bbf32478d5-162\n"
     ]
    },
    {
     "name": "stderr",
     "output_type": "stream",
     "text": [
      " 81%|████████  | 8099/10000 [15:19<03:31,  8.97it/s]"
     ]
    },
    {
     "name": "stdout",
     "output_type": "stream",
     "text": [
      "Step 8100: average-batch loss:2359.3936128759105 rel loss: 0.019876647245059435\n",
      "Saved a checkpoint: /tmp/tfcheckpoints/e43f9a3a-1561-463f-afa8-d0bbf32478d5/e43f9a3a-1561-463f-afa8-d0bbf32478d5-163\n"
     ]
    },
    {
     "name": "stderr",
     "output_type": "stream",
     "text": [
      " 81%|████████▏ | 8149/10000 [15:24<03:26,  8.95it/s]"
     ]
    },
    {
     "name": "stdout",
     "output_type": "stream",
     "text": [
      "Step 8150: average-batch loss:2312.168978756126 rel loss: 0.02042438703817835\n",
      "Saved a checkpoint: /tmp/tfcheckpoints/e43f9a3a-1561-463f-afa8-d0bbf32478d5/e43f9a3a-1561-463f-afa8-d0bbf32478d5-164\n"
     ]
    },
    {
     "name": "stderr",
     "output_type": "stream",
     "text": [
      " 82%|████████▏ | 8199/10000 [15:30<03:22,  8.89it/s]"
     ]
    },
    {
     "name": "stdout",
     "output_type": "stream",
     "text": [
      "Step 8200: average-batch loss:2261.7903513636866 rel loss: 0.022273782962273593\n",
      "Saved a checkpoint: /tmp/tfcheckpoints/e43f9a3a-1561-463f-afa8-d0bbf32478d5/e43f9a3a-1561-463f-afa8-d0bbf32478d5-165\n"
     ]
    },
    {
     "name": "stderr",
     "output_type": "stream",
     "text": [
      " 82%|████████▏ | 8249/10000 [15:36<03:19,  8.78it/s]"
     ]
    },
    {
     "name": "stdout",
     "output_type": "stream",
     "text": [
      "Step 8250: average-batch loss:2215.770837162784 rel loss: 0.020769076580062225\n",
      "Saved a checkpoint: /tmp/tfcheckpoints/e43f9a3a-1561-463f-afa8-d0bbf32478d5/e43f9a3a-1561-463f-afa8-d0bbf32478d5-166\n"
     ]
    },
    {
     "name": "stderr",
     "output_type": "stream",
     "text": [
      " 83%|████████▎ | 8299/10000 [15:41<03:13,  8.80it/s]"
     ]
    },
    {
     "name": "stdout",
     "output_type": "stream",
     "text": [
      "Step 8300: average-batch loss:2169.798481546049 rel loss: 0.021187384915108947\n",
      "Saved a checkpoint: /tmp/tfcheckpoints/e43f9a3a-1561-463f-afa8-d0bbf32478d5/e43f9a3a-1561-463f-afa8-d0bbf32478d5-167\n"
     ]
    },
    {
     "name": "stderr",
     "output_type": "stream",
     "text": [
      " 83%|████████▎ | 8349/10000 [15:47<03:04,  8.95it/s]"
     ]
    },
    {
     "name": "stdout",
     "output_type": "stream",
     "text": [
      "Step 8350: average-batch loss:2123.4586256576117 rel loss: 0.021822820246420578\n",
      "Saved a checkpoint: /tmp/tfcheckpoints/e43f9a3a-1561-463f-afa8-d0bbf32478d5/e43f9a3a-1561-463f-afa8-d0bbf32478d5-168\n"
     ]
    },
    {
     "name": "stderr",
     "output_type": "stream",
     "text": [
      " 84%|████████▍ | 8399/10000 [15:53<02:56,  9.05it/s]"
     ]
    },
    {
     "name": "stdout",
     "output_type": "stream",
     "text": [
      "Step 8400: average-batch loss:2078.8328994862636 rel loss: 0.0214667211503033\n",
      "Saved a checkpoint: /tmp/tfcheckpoints/e43f9a3a-1561-463f-afa8-d0bbf32478d5/e43f9a3a-1561-463f-afa8-d0bbf32478d5-169\n"
     ]
    },
    {
     "name": "stderr",
     "output_type": "stream",
     "text": [
      " 84%|████████▍ | 8449/10000 [15:58<02:58,  8.68it/s]"
     ]
    },
    {
     "name": "stdout",
     "output_type": "stream",
     "text": [
      "Step 8450: average-batch loss:2033.29491881225 rel loss: 0.022396151317101924\n",
      "Saved a checkpoint: /tmp/tfcheckpoints/e43f9a3a-1561-463f-afa8-d0bbf32478d5/e43f9a3a-1561-463f-afa8-d0bbf32478d5-170\n"
     ]
    },
    {
     "name": "stderr",
     "output_type": "stream",
     "text": [
      " 85%|████████▍ | 8499/10000 [16:04<02:52,  8.71it/s]"
     ]
    },
    {
     "name": "stdout",
     "output_type": "stream",
     "text": [
      "Step 8500: average-batch loss:1993.1246361933433 rel loss: 0.020154425814347274\n",
      "Saved a checkpoint: /tmp/tfcheckpoints/e43f9a3a-1561-463f-afa8-d0bbf32478d5/e43f9a3a-1561-463f-afa8-d0bbf32478d5-171\n"
     ]
    },
    {
     "name": "stderr",
     "output_type": "stream",
     "text": [
      " 85%|████████▌ | 8549/10000 [16:10<02:41,  9.00it/s]"
     ]
    },
    {
     "name": "stdout",
     "output_type": "stream",
     "text": [
      "Step 8550: average-batch loss:1948.0933815187366 rel loss: 0.023115552417461802\n",
      "Saved a checkpoint: /tmp/tfcheckpoints/e43f9a3a-1561-463f-afa8-d0bbf32478d5/e43f9a3a-1561-463f-afa8-d0bbf32478d5-172\n"
     ]
    },
    {
     "name": "stderr",
     "output_type": "stream",
     "text": [
      " 86%|████████▌ | 8599/10000 [16:15<02:35,  8.99it/s]"
     ]
    },
    {
     "name": "stdout",
     "output_type": "stream",
     "text": [
      "Step 8600: average-batch loss:1910.3857195914768 rel loss: 0.01973824528761831\n",
      "Saved a checkpoint: /tmp/tfcheckpoints/e43f9a3a-1561-463f-afa8-d0bbf32478d5/e43f9a3a-1561-463f-afa8-d0bbf32478d5-173\n"
     ]
    },
    {
     "name": "stderr",
     "output_type": "stream",
     "text": [
      " 86%|████████▋ | 8649/10000 [16:21<02:34,  8.74it/s]"
     ]
    },
    {
     "name": "stdout",
     "output_type": "stream",
     "text": [
      "Step 8650: average-batch loss:1864.1680655676557 rel loss: 0.02479264336595498\n",
      "Saved a checkpoint: /tmp/tfcheckpoints/e43f9a3a-1561-463f-afa8-d0bbf32478d5/e43f9a3a-1561-463f-afa8-d0bbf32478d5-174\n"
     ]
    },
    {
     "name": "stderr",
     "output_type": "stream",
     "text": [
      " 87%|████████▋ | 8699/10000 [16:27<02:26,  8.87it/s]"
     ]
    },
    {
     "name": "stdout",
     "output_type": "stream",
     "text": [
      "Step 8700: average-batch loss:1827.0086962010562 rel loss: 0.020338912148511353\n",
      "Saved a checkpoint: /tmp/tfcheckpoints/e43f9a3a-1561-463f-afa8-d0bbf32478d5/e43f9a3a-1561-463f-afa8-d0bbf32478d5-175\n"
     ]
    },
    {
     "name": "stderr",
     "output_type": "stream",
     "text": [
      " 87%|████████▋ | 8749/10000 [16:32<02:23,  8.74it/s]"
     ]
    },
    {
     "name": "stdout",
     "output_type": "stream",
     "text": [
      "Step 8750: average-batch loss:1784.8292158345405 rel loss: 0.02363222205929302\n",
      "Saved a checkpoint: /tmp/tfcheckpoints/e43f9a3a-1561-463f-afa8-d0bbf32478d5/e43f9a3a-1561-463f-afa8-d0bbf32478d5-176\n"
     ]
    },
    {
     "name": "stderr",
     "output_type": "stream",
     "text": [
      " 88%|████████▊ | 8799/10000 [16:38<02:12,  9.07it/s]"
     ]
    },
    {
     "name": "stdout",
     "output_type": "stream",
     "text": [
      "Step 8800: average-batch loss:1748.8274690748142 rel loss: 0.020586219850933826\n",
      "Saved a checkpoint: /tmp/tfcheckpoints/e43f9a3a-1561-463f-afa8-d0bbf32478d5/e43f9a3a-1561-463f-afa8-d0bbf32478d5-177\n"
     ]
    },
    {
     "name": "stderr",
     "output_type": "stream",
     "text": [
      " 88%|████████▊ | 8849/10000 [16:44<02:09,  8.89it/s]"
     ]
    },
    {
     "name": "stdout",
     "output_type": "stream",
     "text": [
      "Step 8850: average-batch loss:1712.6635998029835 rel loss: 0.02111557066781286\n",
      "Saved a checkpoint: /tmp/tfcheckpoints/e43f9a3a-1561-463f-afa8-d0bbf32478d5/e43f9a3a-1561-463f-afa8-d0bbf32478d5-178\n"
     ]
    },
    {
     "name": "stderr",
     "output_type": "stream",
     "text": [
      " 89%|████████▉ | 8899/10000 [16:49<02:07,  8.63it/s]"
     ]
    },
    {
     "name": "stdout",
     "output_type": "stream",
     "text": [
      "Step 8900: average-batch loss:1678.4712085814726 rel loss: 0.020371151466105828\n",
      "Saved a checkpoint: /tmp/tfcheckpoints/e43f9a3a-1561-463f-afa8-d0bbf32478d5/e43f9a3a-1561-463f-afa8-d0bbf32478d5-179\n"
     ]
    },
    {
     "name": "stderr",
     "output_type": "stream",
     "text": [
      " 89%|████████▉ | 8949/10000 [16:55<01:57,  8.98it/s]"
     ]
    },
    {
     "name": "stdout",
     "output_type": "stream",
     "text": [
      "Step 8950: average-batch loss:1636.4497738651148 rel loss: 0.025678413958961782\n",
      "Saved a checkpoint: /tmp/tfcheckpoints/e43f9a3a-1561-463f-afa8-d0bbf32478d5/e43f9a3a-1561-463f-afa8-d0bbf32478d5-180\n"
     ]
    },
    {
     "name": "stderr",
     "output_type": "stream",
     "text": [
      " 90%|████████▉ | 8999/10000 [17:01<01:52,  8.87it/s]"
     ]
    },
    {
     "name": "stdout",
     "output_type": "stream",
     "text": [
      "Step 9000: average-batch loss:1605.1620294923864 rel loss: 0.019491953957210657\n",
      "Saved a checkpoint: /tmp/tfcheckpoints/e43f9a3a-1561-463f-afa8-d0bbf32478d5/e43f9a3a-1561-463f-afa8-d0bbf32478d5-181\n"
     ]
    },
    {
     "name": "stderr",
     "output_type": "stream",
     "text": [
      " 90%|█████████ | 9049/10000 [17:06<01:47,  8.81it/s]"
     ]
    },
    {
     "name": "stdout",
     "output_type": "stream",
     "text": [
      "Step 9050: average-batch loss:1572.3109844596238 rel loss: 0.02089347804439142\n",
      "Saved a checkpoint: /tmp/tfcheckpoints/e43f9a3a-1561-463f-afa8-d0bbf32478d5/e43f9a3a-1561-463f-afa8-d0bbf32478d5-182\n"
     ]
    },
    {
     "name": "stderr",
     "output_type": "stream",
     "text": [
      " 91%|█████████ | 9099/10000 [17:12<01:44,  8.62it/s]"
     ]
    },
    {
     "name": "stdout",
     "output_type": "stream",
     "text": [
      "Step 9100: average-batch loss:1538.204964869382 rel loss: 0.02217261052277128\n",
      "Saved a checkpoint: /tmp/tfcheckpoints/e43f9a3a-1561-463f-afa8-d0bbf32478d5/e43f9a3a-1561-463f-afa8-d0bbf32478d5-183\n"
     ]
    },
    {
     "name": "stderr",
     "output_type": "stream",
     "text": [
      " 91%|█████████▏| 9149/10000 [17:18<01:38,  8.67it/s]"
     ]
    },
    {
     "name": "stdout",
     "output_type": "stream",
     "text": [
      "Step 9150: average-batch loss:1506.347325886626 rel loss: 0.021148933207688087\n",
      "Saved a checkpoint: /tmp/tfcheckpoints/e43f9a3a-1561-463f-afa8-d0bbf32478d5/e43f9a3a-1561-463f-afa8-d0bbf32478d5-184\n"
     ]
    },
    {
     "name": "stderr",
     "output_type": "stream",
     "text": [
      " 92%|█████████▏| 9199/10000 [17:23<01:28,  9.02it/s]"
     ]
    },
    {
     "name": "stdout",
     "output_type": "stream",
     "text": [
      "Step 9200: average-batch loss:1477.45564690532 rel loss: 0.019555022881277435\n",
      "Saved a checkpoint: /tmp/tfcheckpoints/e43f9a3a-1561-463f-afa8-d0bbf32478d5/e43f9a3a-1561-463f-afa8-d0bbf32478d5-185\n"
     ]
    },
    {
     "name": "stderr",
     "output_type": "stream",
     "text": [
      " 92%|█████████▏| 9249/10000 [17:29<01:25,  8.78it/s]"
     ]
    },
    {
     "name": "stdout",
     "output_type": "stream",
     "text": [
      "Step 9250: average-batch loss:1448.0270932271078 rel loss: 0.02032320653105118\n",
      "Saved a checkpoint: /tmp/tfcheckpoints/e43f9a3a-1561-463f-afa8-d0bbf32478d5/e43f9a3a-1561-463f-afa8-d0bbf32478d5-186\n"
     ]
    },
    {
     "name": "stderr",
     "output_type": "stream",
     "text": [
      " 93%|█████████▎| 9299/10000 [17:35<01:18,  8.87it/s]"
     ]
    },
    {
     "name": "stdout",
     "output_type": "stream",
     "text": [
      "Step 9300: average-batch loss:1416.9381467306318 rel loss: 0.021940934096671014\n",
      "Saved a checkpoint: /tmp/tfcheckpoints/e43f9a3a-1561-463f-afa8-d0bbf32478d5/e43f9a3a-1561-463f-afa8-d0bbf32478d5-187\n"
     ]
    },
    {
     "name": "stderr",
     "output_type": "stream",
     "text": [
      " 93%|█████████▎| 9349/10000 [17:40<01:11,  9.05it/s]"
     ]
    },
    {
     "name": "stdout",
     "output_type": "stream",
     "text": [
      "Step 9350: average-batch loss:1388.5485589777554 rel loss: 0.02044551310022369\n",
      "Saved a checkpoint: /tmp/tfcheckpoints/e43f9a3a-1561-463f-afa8-d0bbf32478d5/e43f9a3a-1561-463f-afa8-d0bbf32478d5-188\n"
     ]
    },
    {
     "name": "stderr",
     "output_type": "stream",
     "text": [
      " 94%|█████████▍| 9399/10000 [17:46<01:07,  8.90it/s]"
     ]
    },
    {
     "name": "stdout",
     "output_type": "stream",
     "text": [
      "Step 9400: average-batch loss:1361.2572683320973 rel loss: 0.020048591313747206\n",
      "Saved a checkpoint: /tmp/tfcheckpoints/e43f9a3a-1561-463f-afa8-d0bbf32478d5/e43f9a3a-1561-463f-afa8-d0bbf32478d5-189\n"
     ]
    },
    {
     "name": "stderr",
     "output_type": "stream",
     "text": [
      " 94%|█████████▍| 9449/10000 [17:52<01:01,  8.96it/s]"
     ]
    },
    {
     "name": "stdout",
     "output_type": "stream",
     "text": [
      "Step 9450: average-batch loss:1332.8051234660404 rel loss: 0.02134756564565519\n",
      "Saved a checkpoint: /tmp/tfcheckpoints/e43f9a3a-1561-463f-afa8-d0bbf32478d5/e43f9a3a-1561-463f-afa8-d0bbf32478d5-190\n"
     ]
    },
    {
     "name": "stderr",
     "output_type": "stream",
     "text": [
      " 95%|█████████▍| 9499/10000 [17:57<00:56,  8.86it/s]"
     ]
    },
    {
     "name": "stdout",
     "output_type": "stream",
     "text": [
      "Step 9500: average-batch loss:1307.0354068919194 rel loss: 0.01971615798488616\n",
      "Saved a checkpoint: /tmp/tfcheckpoints/e43f9a3a-1561-463f-afa8-d0bbf32478d5/e43f9a3a-1561-463f-afa8-d0bbf32478d5-191\n"
     ]
    },
    {
     "name": "stderr",
     "output_type": "stream",
     "text": [
      " 95%|█████████▌| 9549/10000 [18:03<00:50,  8.87it/s]"
     ]
    },
    {
     "name": "stdout",
     "output_type": "stream",
     "text": [
      "Step 9550: average-batch loss:1282.4985173995785 rel loss: 0.019132099694035013\n",
      "Saved a checkpoint: /tmp/tfcheckpoints/e43f9a3a-1561-463f-afa8-d0bbf32478d5/e43f9a3a-1561-463f-afa8-d0bbf32478d5-192\n"
     ]
    },
    {
     "name": "stderr",
     "output_type": "stream",
     "text": [
      " 96%|█████████▌| 9599/10000 [18:09<00:45,  8.84it/s]"
     ]
    },
    {
     "name": "stdout",
     "output_type": "stream",
     "text": [
      "Step 9600: average-batch loss:1260.4455468899946 rel loss: 0.01749617075009477\n",
      "Saved a checkpoint: /tmp/tfcheckpoints/e43f9a3a-1561-463f-afa8-d0bbf32478d5/e43f9a3a-1561-463f-afa8-d0bbf32478d5-193\n"
     ]
    },
    {
     "name": "stderr",
     "output_type": "stream",
     "text": [
      " 96%|█████████▋| 9649/10000 [18:14<00:39,  8.83it/s]"
     ]
    },
    {
     "name": "stdout",
     "output_type": "stream",
     "text": [
      "Step 9650: average-batch loss:1235.7760452569207 rel loss: 0.019962760831753322\n",
      "Saved a checkpoint: /tmp/tfcheckpoints/e43f9a3a-1561-463f-afa8-d0bbf32478d5/e43f9a3a-1561-463f-afa8-d0bbf32478d5-194\n"
     ]
    },
    {
     "name": "stderr",
     "output_type": "stream",
     "text": [
      " 97%|█████████▋| 9699/10000 [18:20<00:34,  8.85it/s]"
     ]
    },
    {
     "name": "stdout",
     "output_type": "stream",
     "text": [
      "Step 9700: average-batch loss:1214.7102970058277 rel loss: 0.017342199455309293\n",
      "Saved a checkpoint: /tmp/tfcheckpoints/e43f9a3a-1561-463f-afa8-d0bbf32478d5/e43f9a3a-1561-463f-afa8-d0bbf32478d5-195\n"
     ]
    },
    {
     "name": "stderr",
     "output_type": "stream",
     "text": [
      " 97%|█████████▋| 9749/10000 [18:26<00:28,  8.74it/s]"
     ]
    },
    {
     "name": "stdout",
     "output_type": "stream",
     "text": [
      "Step 9750: average-batch loss:1194.0041244486688 rel loss: 0.017341793158980878\n",
      "Saved a checkpoint: /tmp/tfcheckpoints/e43f9a3a-1561-463f-afa8-d0bbf32478d5/e43f9a3a-1561-463f-afa8-d0bbf32478d5-196\n"
     ]
    },
    {
     "name": "stderr",
     "output_type": "stream",
     "text": [
      " 98%|█████████▊| 9799/10000 [18:31<00:22,  8.80it/s]"
     ]
    },
    {
     "name": "stdout",
     "output_type": "stream",
     "text": [
      "Step 9800: average-batch loss:1172.7889093138167 rel loss: 0.01808954276969146\n",
      "Saved a checkpoint: /tmp/tfcheckpoints/e43f9a3a-1561-463f-afa8-d0bbf32478d5/e43f9a3a-1561-463f-afa8-d0bbf32478d5-197\n"
     ]
    },
    {
     "name": "stderr",
     "output_type": "stream",
     "text": [
      " 98%|█████████▊| 9849/10000 [18:37<00:16,  8.96it/s]"
     ]
    },
    {
     "name": "stdout",
     "output_type": "stream",
     "text": [
      "Step 9850: average-batch loss:1153.7600976596025 rel loss: 0.016492866838447688\n",
      "Saved a checkpoint: /tmp/tfcheckpoints/e43f9a3a-1561-463f-afa8-d0bbf32478d5/e43f9a3a-1561-463f-afa8-d0bbf32478d5-198\n"
     ]
    },
    {
     "name": "stderr",
     "output_type": "stream",
     "text": [
      " 99%|█████████▉| 9899/10000 [18:43<00:11,  8.67it/s]"
     ]
    },
    {
     "name": "stdout",
     "output_type": "stream",
     "text": [
      "Step 9900: average-batch loss:1135.6051647112358 rel loss: 0.015987011606259403\n",
      "Saved a checkpoint: /tmp/tfcheckpoints/e43f9a3a-1561-463f-afa8-d0bbf32478d5/e43f9a3a-1561-463f-afa8-d0bbf32478d5-199\n"
     ]
    },
    {
     "name": "stderr",
     "output_type": "stream",
     "text": [
      " 99%|█████████▉| 9949/10000 [18:48<00:05,  8.71it/s]"
     ]
    },
    {
     "name": "stdout",
     "output_type": "stream",
     "text": [
      "Step 9950: average-batch loss:1116.5959696998752 rel loss: 0.01702423752834249\n",
      "Saved a checkpoint: /tmp/tfcheckpoints/e43f9a3a-1561-463f-afa8-d0bbf32478d5/e43f9a3a-1561-463f-afa8-d0bbf32478d5-200\n"
     ]
    },
    {
     "name": "stderr",
     "output_type": "stream",
     "text": [
      "100%|█████████▉| 9999/10000 [18:54<00:00,  8.83it/s]"
     ]
    },
    {
     "name": "stdout",
     "output_type": "stream",
     "text": [
      "Step 10000: average-batch loss:1100.1728004544811 rel loss: 0.014927808830221656\n",
      "Saved a checkpoint: /tmp/tfcheckpoints/e43f9a3a-1561-463f-afa8-d0bbf32478d5/e43f9a3a-1561-463f-afa8-d0bbf32478d5-201\n"
     ]
    },
    {
     "name": "stderr",
     "output_type": "stream",
     "text": [
      "100%|██████████| 10000/10000 [18:54<00:00,  8.11it/s]"
     ]
    },
    {
     "name": "stdout",
     "output_type": "stream",
     "text": [
      "Terminating because we are out of iterations\n"
     ]
    },
    {
     "name": "stderr",
     "output_type": "stream",
     "text": [
      "100%|██████████| 10000/10000 [18:54<00:00,  8.81it/s]\n"
     ]
    }
   ],
   "source": [
    "\n",
    "losses = lr_model2.fit(\n",
    "    data_factory_factory(shuffle=True, repeat=True),\n",
    "    dataset_size=N,\n",
    "    batches_per_step=9,\n",
    "    check_every=int(N/batch_size)*50,\n",
    "    batch_size=batch_size,\n",
    "    num_steps=10000,\n",
    "    max_decay_steps=10,\n",
    "    max_plateau_epochs=100,\n",
    "    sample_size=36,\n",
    "    learning_rate=0.0005,\n",
    "    lr_decay_factor=0.9\n",
    "    )\n",
    "\n"
   ]
  },
  {
   "cell_type": "code",
   "execution_count": 238,
   "metadata": {},
   "outputs": [
    {
     "name": "stderr",
     "output_type": "stream",
     "text": [
      "  0%|          | 0/1 [00:00<?, ?it/s]/home/josh/workspace/bayesianquilts/bayesianquilts/sampler/nppsis.py:350: RuntimeWarning: overflow encountered in expm1\n",
      "  np.expm1(x, out=x)\n",
      "100%|██████████| 1/1 [02:11<00:00, 131.81s/it]"
     ]
    },
    {
     "name": "stdout",
     "output_type": "stream",
     "text": [
      "{1000: {1: {'I0': [0, 4, 5, 6, 7, 9, 10, 11, 13, 14, 16, 18, 19, 20, 24, 27, 31, 32, 35, 39, 42, 44, 46, 52], 'I': [], 'LL': [], 'KL': [41], 'Var': [1], 'MM1': [], 'MM2': []}, 0.25: {'I0': [0, 4, 5, 6, 7, 9, 10, 11, 13, 14, 16, 18, 19, 20, 24, 27, 31, 32, 35, 39, 42, 44, 46, 52], 'I': [], 'LL': [], 'KL': [], 'Var': [2, 15], 'MM1': [36], 'MM2': []}, 0.0625: {'I0': [0, 4, 5, 6, 7, 9, 10, 11, 13, 14, 16, 18, 19, 20, 24, 27, 31, 32, 35, 39, 42, 44, 46, 52], 'I': [], 'LL': [51], 'KL': [3, 12, 22, 28, 38, 47, 50, 51], 'Var': [2, 8, 12, 30], 'MM1': [8, 25, 26, 33, 40, 41, 43, 51, 53], 'MM2': []}, 0.015625: {'I0': [0, 4, 5, 6, 7, 9, 10, 11, 13, 14, 16, 18, 19, 20, 24, 27, 31, 32, 35, 39, 42, 44, 46, 52], 'I': [], 'LL': [12, 47, 50], 'KL': [43, 47, 49, 51], 'Var': [1, 8, 30], 'MM1': [8, 15, 17, 21, 22, 26, 36, 37, 38, 41, 45, 47, 49], 'MM2': []}, 0.00390625: {'I0': [0, 4, 5, 6, 7, 9, 10, 11, 13, 14, 16, 18, 19, 20, 24, 27, 31, 32, 35, 39, 42, 44, 46, 52], 'I': [], 'LL': [17, 50], 'KL': [8], 'Var': [1, 8, 30, 34], 'MM1': [8, 12, 17, 21, 22, 26, 28, 30, 34, 40, 41, 43, 48, 49], 'MM2': []}, 0.0009765625: {'I0': [0, 4, 5, 6, 7, 9, 10, 11, 13, 14, 16, 18, 19, 20, 24, 27, 31, 32, 35, 39, 42, 44, 46, 52], 'I': [], 'LL': [30], 'KL': [8, 12, 22], 'Var': [8, 12, 34, 43], 'MM1': [12, 17, 21, 25, 29, 33, 40, 41, 47, 51], 'MM2': []}, 0.000244140625: {'I0': [0, 4, 5, 6, 7, 9, 10, 11, 13, 14, 16, 18, 19, 20, 24, 27, 31, 32, 35, 39, 42, 44, 46, 52], 'I': [], 'LL': [3], 'KL': [8, 12], 'Var': [8, 12, 23], 'MM1': [12, 15, 17, 22, 25, 26, 29, 33, 36, 38, 41, 47, 49, 50], 'MM2': []}, 6.103515625e-05: {'I0': [0, 4, 5, 6, 7, 9, 10, 11, 13, 14, 16, 18, 19, 20, 24, 27, 31, 32, 35, 39, 42, 44, 46, 52], 'I': [], 'LL': [8, 12, 49], 'KL': [], 'Var': [12], 'MM1': [2, 8, 12, 15, 29, 36, 37, 38, 41, 43, 48, 49, 51], 'MM2': []}, 1.52587890625e-05: {'I0': [0, 4, 5, 6, 7, 9, 10, 11, 13, 14, 16, 18, 19, 20, 24, 27, 31, 32, 35, 39, 42, 44, 46, 52], 'I': [], 'LL': [8, 12], 'KL': [8, 12], 'Var': [], 'MM1': [2, 8, 12, 15, 36, 41], 'MM2': []}}}\n"
     ]
    },
    {
     "name": "stderr",
     "output_type": "stream",
     "text": [
      "\n"
     ]
    }
   ],
   "source": [
    "base = 4\n",
    "h_vals = [4**-r for r in range(9)]\n",
    "\n",
    "loo_output = []\n",
    "\n",
    "for _ in tqdm(range(1)):\n",
    "    loo_khat_advi = {}\n",
    "    reduced_ndx_advi = {}\n",
    "    n_sample = [1000]\n",
    "    records_advi = []\n",
    "    for n_samples in n_sample:\n",
    "        sample_ndx = np.random.choice(range(fit.stan_variables()['beta0'].shape[0]), size=n_samples, replace=False)\n",
    "        reduced_ndx_advi[n_samples] = {}\n",
    "        # print(f\"Samples: {n_samples}\")\n",
    "        loo_khat_advi[n_samples] = {}\n",
    "        params_ = fit.stan_variables()\n",
    "        params_ = {k: v[sample_ndx] for k, v in params_.items()}\n",
    "\n",
    "        params_[\"c\"] = params_[\"c\"][:, tf.newaxis]\n",
    "        params_[\"tau\"] = params_[\"tau\"][:, tf.newaxis]\n",
    "        params_[\"caux\"] = params_[\"caux\"][:, tf.newaxis]\n",
    "        params_[\"beta0\"] = params_[\"beta0\"][:, tf.newaxis]\n",
    "\n",
    "        for h in h_vals:\n",
    "            loo_khat_advi[n_samples][h] = {}\n",
    "            loo = adaptive_is_loo(lr_model2, batch, params_, h, variational=False)\n",
    "            reduced_ndx_advi[n_samples][h] = {}\n",
    "            # print(f\"rho={h}\\n\")\n",
    "            for T in [\"I0\", \"I\", \"LL\", \"KL\", \"Var\", \"MM1\", \"MM2\"]:\n",
    "                loo_khat_advi[n_samples][h][T] = np.array(loo[T][\"khat\"])\n",
    "\n",
    "                records_advi += [\n",
    "                    {\n",
    "                        \"h\": h,\n",
    "                        \"T\": T,\n",
    "                        \"S\": n_samples,\n",
    "                        \"khat\": loo[T][\"khat\"],\n",
    "                        \"p_psis\": loo[T][\"p_psis\"].numpy(),\n",
    "                        \"n>0.7\": (np.where((loo[T][\"khat\"] > 0.7))[0]).shape,\n",
    "                        \"ndx\": loo[T][\"ndx\"]\n",
    "                    }\n",
    "                ]\n",
    "                reduced_ndx_advi[n_samples][h][T] = [loo[T][\"ndx\"][k] for k in np.where((loo[T][\"khat\"] <= 0.7))[0]]\n",
    "                # print(reduced_ndx[n_samples][h])\n",
    "\n",
    "\n",
    "print(reduced_ndx_advi)"
   ]
  },
  {
   "cell_type": "code",
   "execution_count": 239,
   "metadata": {},
   "outputs": [],
   "source": [
    "df_advi = pd.DataFrame(records_advi)\n",
    "df_advi['rho_rank'] = np.emath.logn(base, df_advi['h']) \n",
    "\n",
    "I0_advi = df_advi.loc[(df_advi['S']==n_sample[-1]) & (df_advi['T']==\"I0\")]\n",
    "\n",
    "kl_advi = df_advi.loc[(df_advi['S']==n_sample[-1]) & (df_advi['T']==\"KL\")]\n",
    "var_advi = df_advi.loc[(df_advi['S']==n_sample[-1]) & (df_advi['T']==\"Var\")]\n",
    "ll_advi = df_advi.loc[(df_advi['S']==n_sample[-1]) & (df_advi['T']==\"LL\")]\n",
    "mm1_advi = df_advi.loc[(df_advi['S']==n_sample[-1]) & (df_advi['T']==\"MM1\")]\n",
    "I_advi = df_advi.loc[(df_advi['S']==n_sample[-1]) & (df_advi['T']==\"I\")]\n",
    "\n",
    "kl_advi = kl_advi.explode(['khat', 'ndx'])\n",
    "var_advi = var_advi.explode(['khat', 'ndx'])\n",
    "ll_advi = ll_advi.explode(['khat', 'ndx'])\n",
    "I_advi = I_advi.explode(['khat', 'ndx'])\n",
    "mm1_advi = mm1_advi.explode(['khat', 'ndx'])\n",
    "\n",
    "original_advi = I_advi[['khat', 'ndx']].drop_duplicates()\n"
   ]
  },
  {
   "cell_type": "code",
   "execution_count": 240,
   "metadata": {},
   "outputs": [],
   "source": [
    "df_advi_ = df_advi.explode(['khat', \"p_psis\", 'ndx'])[['ndx', 'p_psis', 'khat', 'T']]\n",
    "#df_ = df_[df_['p_psis']!=1]\n",
    "#df_ = df_[df_['p_psis']>1e-5]\n",
    "df_advi_ = df_advi_[df_advi_['T']!=\"MM2\"]\n",
    "\n",
    "df_advi_ = df_advi_.groupby(['ndx'])[['khat', 'p_psis']].min()\n",
    "\n",
    "pd.set_option('display.max_rows', 500)\n",
    "\n",
    "df_advi_ = df_advi_.reset_index()\n",
    "df_advi_['y'] = [y_.tolist()[i][0] for i in df_advi_['ndx'].values]"
   ]
  },
  {
   "cell_type": "code",
   "execution_count": 241,
   "metadata": {},
   "outputs": [],
   "source": [
    "fpr_advi, tpr_advi, thresholds_advi = metrics.roc_curve(df_advi_['y'], df_advi_.p_psis, pos_label=1)\n",
    "precision_advi, recall_advi, thresholds_pr_advi = metrics.precision_recall_curve(df_advi_['y'], df_advi_.p_psis)"
   ]
  },
  {
   "cell_type": "code",
   "execution_count": 242,
   "metadata": {},
   "outputs": [
    {
     "data": {
      "image/png": "[encoded data removed]",
      "text/plain": [
       "<Figure size 900x200 with 2 Axes>"
      ]
     },
     "metadata": {},
     "output_type": "display_data"
    }
   ],
   "source": [
    "fig, ax = plt.subplots(1, 2, figsize=(9, 2))\n",
    "ax[0].plot(fpr, tpr, linewidth=3, color=\"blue\")\n",
    "ax[0].text(0.5, 0.25, f\"MCMC-AUROC: {metrics.auc(fpr, tpr):.3f}\", color=\"blue\")\n",
    "\n",
    "ax[0].plot(fpr_advi, tpr_advi, color=\"red\")\n",
    "ax[0].text(0.5, 0.1, f\"ADVI-AUROC: {metrics.auc(fpr_advi, tpr_advi):.3f}\", color=\"red\")\n",
    "\n",
    "ax[0].set_xlim((0, 1))\n",
    "ax[0].set_ylim((0, 1))\n",
    "ax[0].set_title(\"ROC\")\n",
    "\n",
    "ax[1].plot(recall, precision, linewidth=3, color=\"blue\")\n",
    "ax[1].plot(recall_advi, precision_advi, color=\"red\")\n",
    "ax[1].text(0.5, 0.8, f\"MCMC-AUPRC: {metrics.auc(recall, precision):.3f}\", color=\"blue\")\n",
    "ax[1].text(0.5, 0.65, f\"ADVI-AUPRC: {metrics.auc(recall_advi, precision_advi):.3f}\", color=\"red\")\n",
    "ax[1].set_title(\"Precision-Recall\")\n",
    "ax[1].set_xlim((0, 1))\n",
    "ax[1].set_ylim((0, 1))\n",
    "\n",
    "_ = plt.savefig(\"roccurve.pdf\", bbox_inches='tight')"
   ]
  },
  {
   "cell_type": "code",
   "execution_count": null,
   "metadata": {},
   "outputs": [],
   "source": [
    "\n"
   ]
  },
  {
   "cell_type": "code",
   "execution_count": null,
   "metadata": {},
   "outputs": [],
   "source": []
  },
  {
   "cell_type": "code",
   "execution_count": null,
   "metadata": {},
   "outputs": [],
   "source": []
  },
  {
   "cell_type": "code",
   "execution_count": null,
   "metadata": {},
   "outputs": [],
   "source": []
  },
  {
   "cell_type": "code",
   "execution_count": null,
   "metadata": {},
   "outputs": [],
   "source": []
  }
 ],
 "metadata": {
  "kernelspec": {
   "display_name": "env",
   "language": "python",
   "name": "python3"
  },
  "language_info": {
   "codemirror_mode": {
    "name": "ipython",
    "version": 3
   },
   "file_extension": ".py",
   "mimetype": "text/x-python",
   "name": "python",
   "nbconvert_exporter": "python",
   "pygments_lexer": "ipython3",
   "version": "3.10.12"
  }
 },
 "nbformat": 4,
 "nbformat_minor": 2
}
