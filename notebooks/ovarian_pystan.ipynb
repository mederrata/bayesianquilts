{
 "cells": [
  {
   "cell_type": "code",
   "execution_count": 1,
   "metadata": {},
   "outputs": [],
   "source": [
    "%matplotlib inline\n",
    "\n",
    "from cmdstanpy import CmdStanModel\n",
    "import numpy as np\n",
    "import pandas as pd\n",
    "from pathlib import Path\n",
    "import nest_asyncio\n",
    "nest_asyncio.apply()\n",
    "\n"
   ]
  },
  {
   "cell_type": "code",
   "execution_count": 2,
   "metadata": {},
   "outputs": [
    {
     "name": "stderr",
     "output_type": "stream",
     "text": [
      "2024-02-07 21:53:28.879017: I external/local_tsl/tsl/cuda/cudart_stub.cc:31] Could not find cuda drivers on your machine, GPU will not be used.\n",
      "2024-02-07 21:53:29.001830: E external/local_xla/xla/stream_executor/cuda/cuda_dnn.cc:9261] Unable to register cuDNN factory: Attempting to register factory for plugin cuDNN when one has already been registered\n",
      "2024-02-07 21:53:29.001926: E external/local_xla/xla/stream_executor/cuda/cuda_fft.cc:607] Unable to register cuFFT factory: Attempting to register factory for plugin cuFFT when one has already been registered\n",
      "2024-02-07 21:53:29.024960: E external/local_xla/xla/stream_executor/cuda/cuda_blas.cc:1515] Unable to register cuBLAS factory: Attempting to register factory for plugin cuBLAS when one has already been registered\n",
      "2024-02-07 21:53:29.075353: I external/local_tsl/tsl/cuda/cudart_stub.cc:31] Could not find cuda drivers on your machine, GPU will not be used.\n",
      "2024-02-07 21:53:29.075953: I tensorflow/core/platform/cpu_feature_guard.cc:182] This TensorFlow binary is optimized to use available CPU instructions in performance-critical operations.\n",
      "To enable the following instructions: AVX2 FMA, in other operations, rebuild TensorFlow with the appropriate compiler flags.\n",
      "2024-02-07 21:53:30.123663: W tensorflow/compiler/tf2tensorrt/utils/py_utils.cc:38] TF-TRT Warning: Could not find TensorRT\n"
     ]
    }
   ],
   "source": [
    "\n",
    "import tensorflow as tf\n",
    "import tensorflow_probability as tfp\n",
    "import tensorflow_probability.python.bijectors as tfb\n",
    "\n",
    "from bayesianquilts.models.logistic_regression import LogisticRegression\n",
    "from bayesianquilts.metrics.classification import classification_metrics\n",
    "from bayesianquilts.sampler import psis, nppsis"
   ]
  },
  {
   "cell_type": "code",
   "execution_count": 3,
   "metadata": {},
   "outputs": [
    {
     "name": "stdout",
     "output_type": "stream",
     "text": [
      "(54, 1536)\n"
     ]
    }
   ],
   "source": [
    "\n",
    "X_ = pd.read_csv(Path.home() / \"workspace\" / \"bayesianquilts\"/ \"bayesianquilts\"/ \"data\" / \"overianx.csv\", header=None)\n",
    "y_ = pd.read_table(Path.home() / \"workspace\" / \"bayesianquilts\"/ \"bayesianquilts\"/ \"data\" / \"overiany.csv\", header=None)\n",
    "\n",
    "\n",
    "X_scaled = (X_ - X_.mean())/X_.std()\n",
    "X_scaled = X_scaled.fillna(0).to_numpy()\n",
    "y_ = y_.to_numpy()\n",
    "N = X_scaled.shape[0]\n",
    "d = X_scaled.shape[1]\n",
    "\n",
    "print((N, d))"
   ]
  },
  {
   "cell_type": "code",
   "execution_count": 4,
   "metadata": {},
   "outputs": [],
   "source": [
    "logistic_horseshoe_code = \"\"\"\n",
    "data {\n",
    "  int <lower=0> N;                // number  of  observations\n",
    "  int <lower=0> d;                // number  of  predictors\n",
    "  array[N] int<lower=0,upper=1> y;      // outputs\n",
    "  matrix[N,d] x;                  // inputs\n",
    "  real <lower=0>  scale_icept;    // prior  std for  the  intercept\n",
    "  real <lower=0>  scale_global;   // scale  for  the half -t prior  for  tau\n",
    "  real <lower=1>  nu_global;      // degrees  of  freedom  for the half -t prior for tau\n",
    "  real <lower=1> nu_local;        // degrees  of  freedom  for  the half -t priors for  lambdas\n",
    "  real <lower=0>  slab_scale;     // slab  scale  for  the  regularized  horseshoe\n",
    "  real <lower=0> slab_df;         // slab  degrees  of  freedom  for the  regularized horseshoe\n",
    "\n",
    "  //int<lower=0> N_tilde;\n",
    "  //matrix[N_tilde, d] x_tilde;\n",
    "  //array[N_tilde] int<lower=0,upper=1> y_obs;\n",
    "}\n",
    "parameters {\n",
    "  real  beta0;\n",
    "  vector[d] z;\n",
    "  real <lower=0> tau;             // global  shrinkage  parameter\n",
    "  vector <lower =0>[d] lambda;    // local  shrinkage  parameter\n",
    "  real <lower=0> caux;\n",
    "}\n",
    "transformed  parameters {\n",
    "  vector <lower =0>[d] lambda_tilde;    // ’truncated ’ local  shrinkage  parameter\n",
    "  real <lower=0> c;                     // slab  scale\n",
    "  vector[d] beta;                       // regression  coefficients\n",
    "  vector[N] f;                          // latent  function  values\n",
    "  c = slab_scale * sqrt(caux);\n",
    "  lambda_tilde = sqrt( c^2 * square(lambda) ./ (c^2 + tau^2* square(lambda )) );\n",
    "  beta = z .*  lambda_tilde*tau;\n",
    "  f = beta0 + x*beta;\n",
    "}\n",
    "model {\n",
    "  z ~ normal(0.0, 1.0); // half -t priors  for  lambdas  and tau , and  inverse -gamma  for c^2\n",
    "  lambda ~ student_t(nu_local , 0.0, 1.0);\n",
    "  tau ~ student_t(nu_global , 0.0, scale_global);\n",
    "  caux ~ inv_gamma (0.5* slab_df , 0.5* slab_df );\n",
    "  beta0 ~ normal(0.0,  scale_icept );\n",
    "  y ~ bernoulli_logit(f);\n",
    "}\n",
    "generated quantities {\n",
    "  vector[N] log_lik;\n",
    "  // vector[N_tilde] loo_log_lik;\n",
    "\n",
    "  for (nn in 1:N)\n",
    "    log_lik[nn] = bernoulli_logit_lpmf(y[nn] | x[nn] * beta + beta0);\n",
    "\n",
    "  //for (nn in 1:N_tilde)\n",
    "  //  loo_log_lik[nn] = bernoulli_logit_lpmf(y_obs[nn] | x_tilde[nn] * beta + beta0);\n",
    "}\n",
    "\"\"\"\n",
    "\n",
    "with open(\"ovarian_model.stan\", 'w') as f:\n",
    "  f.writelines(logistic_horseshoe_code)\n"
   ]
  },
  {
   "cell_type": "code",
   "execution_count": 5,
   "metadata": {},
   "outputs": [
    {
     "name": "stderr",
     "output_type": "stream",
     "text": [
      "21:53:32 - cmdstanpy - INFO - compiling stan file /home/josh/workspace/bayesianquilts/notebooks/ovarian_model.stan to exe file /home/josh/workspace/bayesianquilts/notebooks/ovarian_model\n",
      "21:54:00 - cmdstanpy - INFO - compiled model executable: /home/josh/workspace/bayesianquilts/notebooks/ovarian_model\n"
     ]
    }
   ],
   "source": [
    "sm = CmdStanModel(stan_file=\"ovarian_model.stan\")"
   ]
  },
  {
   "cell_type": "code",
   "execution_count": 6,
   "metadata": {},
   "outputs": [],
   "source": [
    "guessnumrelevcov = N/100 #20.\n",
    "slab_scale = 2.5\n",
    "scale_icept = 5.0\n",
    "nu_global = 1\n",
    "nu_local = 1\n",
    "slab_df = 1\n",
    "scale_global = guessnumrelevcov / ((d - guessnumrelevcov) * np.sqrt(N))\n",
    "\n",
    "control = {\"adapt_delta\": 0.9995, \"max_treedepth\": 15}\n",
    "\n",
    "ovarian_data = {\n",
    "    \"N\": N,\n",
    "    \"d\": d,\n",
    "    \"slab_df\": slab_df,\n",
    "    \"slab_scale\": slab_scale,\n",
    "    \"scale_icept\": scale_icept,\n",
    "    \"nu_global\": 1,\n",
    "    \"nu_local\": 1,\n",
    "    \"scale_global\": scale_global,\n",
    "    \"y\": y_.astype(int)[:, 0].tolist(),\n",
    "    \"x\": X_scaled.tolist(),\n",
    "}\n",
    "\n",
    "import json\n",
    "with open(\"ovarian_data.json\", 'w') as f:\n",
    "    json.dump(ovarian_data, f)"
   ]
  },
  {
   "cell_type": "code",
   "execution_count": 7,
   "metadata": {},
   "outputs": [
    {
     "name": "stderr",
     "output_type": "stream",
     "text": [
      "21:54:00 - cmdstanpy - INFO - CmdStan start processing\n"
     ]
    },
    {
     "data": {
      "application/vnd.jupyter.widget-view+json": {
       "model_id": "682e495efc1b46d3841cb89c929702af",
       "version_major": 2,
       "version_minor": 0
      },
      "text/plain": [
       "chain 1 |          | 00:00 Status"
      ]
     },
     "metadata": {},
     "output_type": "display_data"
    },
    {
     "data": {
      "application/vnd.jupyter.widget-view+json": {
       "model_id": "ab7782f968a2458badf4b45690760632",
       "version_major": 2,
       "version_minor": 0
      },
      "text/plain": [
       "chain 2 |          | 00:00 Status"
      ]
     },
     "metadata": {},
     "output_type": "display_data"
    },
    {
     "data": {
      "application/vnd.jupyter.widget-view+json": {
       "model_id": "69caa59f23b240cabd24796b55029c31",
       "version_major": 2,
       "version_minor": 0
      },
      "text/plain": [
       "chain 3 |          | 00:00 Status"
      ]
     },
     "metadata": {},
     "output_type": "display_data"
    },
    {
     "data": {
      "application/vnd.jupyter.widget-view+json": {
       "model_id": "5c8aac293b804691a8e0209b5cef1d96",
       "version_major": 2,
       "version_minor": 0
      },
      "text/plain": [
       "chain 4 |          | 00:00 Status"
      ]
     },
     "metadata": {},
     "output_type": "display_data"
    },
    {
     "name": "stdout",
     "output_type": "stream",
     "text": [
      "                                                                                                                                                                                                                                                                                                                                "
     ]
    },
    {
     "name": "stderr",
     "output_type": "stream",
     "text": [
      "22:18:48 - cmdstanpy - INFO - CmdStan done processing.\n",
      "22:18:48 - cmdstanpy - WARNING - Non-fatal error during sampling:\n",
      "Exception: ovarian_model_model_namespace::log_prob: lambda_tilde[1] is -nan, but must be greater than or equal to 0.000000 (in 'ovarian_model.stan', line 26, column 2 to column 36)\n",
      "\tException: ovarian_model_model_namespace::log_prob: lambda_tilde[1] is -nan, but must be greater than or equal to 0.000000 (in 'ovarian_model.stan', line 26, column 2 to column 36)\n",
      "\tException: ovarian_model_model_namespace::log_prob: lambda_tilde[1] is -nan, but must be greater than or equal to 0.000000 (in 'ovarian_model.stan', line 26, column 2 to column 36)\n",
      "Exception: ovarian_model_model_namespace::log_prob: lambda_tilde[1] is -nan, but must be greater than or equal to 0.000000 (in 'ovarian_model.stan', line 26, column 2 to column 36)\n",
      "Exception: ovarian_model_model_namespace::log_prob: lambda_tilde[365] is -nan, but must be greater than or equal to 0.000000 (in 'ovarian_model.stan', line 26, column 2 to column 36)\n",
      "Exception: ovarian_model_model_namespace::log_prob: lambda_tilde[1] is -nan, but must be greater than or equal to 0.000000 (in 'ovarian_model.stan', line 26, column 2 to column 36)\n",
      "Consider re-running with show_console=True if the above output is unclear!\n"
     ]
    },
    {
     "name": "stdout",
     "output_type": "stream",
     "text": [
      "\n"
     ]
    },
    {
     "name": "stderr",
     "output_type": "stream",
     "text": [
      "22:18:48 - cmdstanpy - WARNING - Some chains may have failed to converge.\n",
      "\tChain 2 had 1 divergent transitions (0.1%)\n",
      "\tUse the \"diagnose()\" method on the CmdStanMCMC object to see further information.\n"
     ]
    }
   ],
   "source": [
    "fit = sm.sample(\n",
    "    data=\"ovarian_data.json\",\n",
    "    iter_warmup=12000,\n",
    "    iter_sampling=1000,\n",
    "    thin=2,\n",
    "    adapt_delta=0.9995,\n",
    "    max_treedepth=15,\n",
    ")"
   ]
  },
  {
   "cell_type": "code",
   "execution_count": 8,
   "metadata": {},
   "outputs": [
    {
     "name": "stdout",
     "output_type": "stream",
     "text": [
      "CmdStanMCMC: model=ovarian_model chains=4['method=sample', 'num_samples=1000', 'num_warmup=12000', 'thin=2', 'algorithm=hmc', 'engine=nuts', 'max_depth=15', 'adapt', 'engaged=1', 'delta=0.9995']\n",
      " csv_files:\n",
      "\t/tmp/tmp5u00a4y8/ovarian_modelhwum1dhv/ovarian_model-20240207215400_1.csv\n",
      "\t/tmp/tmp5u00a4y8/ovarian_modelhwum1dhv/ovarian_model-20240207215400_2.csv\n",
      "\t/tmp/tmp5u00a4y8/ovarian_modelhwum1dhv/ovarian_model-20240207215400_3.csv\n",
      "\t/tmp/tmp5u00a4y8/ovarian_modelhwum1dhv/ovarian_model-20240207215400_4.csv\n",
      " output_files:\n",
      "\t/tmp/tmp5u00a4y8/ovarian_modelhwum1dhv/ovarian_model-20240207215400_0-stdout.txt\n",
      "\t/tmp/tmp5u00a4y8/ovarian_modelhwum1dhv/ovarian_model-20240207215400_1-stdout.txt\n",
      "\t/tmp/tmp5u00a4y8/ovarian_modelhwum1dhv/ovarian_model-20240207215400_2-stdout.txt\n",
      "\t/tmp/tmp5u00a4y8/ovarian_modelhwum1dhv/ovarian_model-20240207215400_3-stdout.txt\n"
     ]
    }
   ],
   "source": [
    "print(fit)"
   ]
  },
  {
   "cell_type": "code",
   "execution_count": 9,
   "metadata": {},
   "outputs": [
    {
     "name": "stdout",
     "output_type": "stream",
     "text": [
      "Processing csv files: /tmp/tmp5u00a4y8/ovarian_modelhwum1dhv/ovarian_model-20240207215400_1.csv, /tmp/tmp5u00a4y8/ovarian_modelhwum1dhv/ovarian_model-20240207215400_2.csv, /tmp/tmp5u00a4y8/ovarian_modelhwum1dhv/ovarian_model-20240207215400_3.csv, /tmp/tmp5u00a4y8/ovarian_modelhwum1dhv/ovarian_model-20240207215400_4.csv\n",
      "\n",
      "Checking sampler transitions treedepth.\n",
      "Treedepth satisfactory for all transitions.\n",
      "\n",
      "Checking sampler transitions for divergences.\n",
      "1 of 2000 (0.05%) transitions ended with a divergence.\n",
      "These divergent transitions indicate that HMC is not fully able to explore the posterior distribution.\n",
      "Try increasing adapt delta closer to 1.\n",
      "If this doesn't remove all divergences, try to reparameterize the model.\n",
      "\n",
      "Checking E-BFMI - sampler transitions HMC potential energy.\n",
      "E-BFMI satisfactory.\n",
      "\n",
      "Effective sample size satisfactory.\n",
      "\n",
      "The following parameters had split R-hat greater than 1.05:\n",
      "  z[1483], beta[93], beta[1483], beta[1504], log_lik[24]\n",
      "Such high values indicate incomplete mixing and biased estimation.\n",
      "You should consider regularizating your model with additional prior information or a more effective parameterization.\n",
      "\n",
      "Processing complete.\n",
      "\n"
     ]
    }
   ],
   "source": [
    "print(fit.diagnose())"
   ]
  },
  {
   "cell_type": "code",
   "execution_count": 10,
   "metadata": {},
   "outputs": [
    {
     "data": {
      "text/html": [
       "<div>\n",
       "<style scoped>\n",
       "    .dataframe tbody tr th:only-of-type {\n",
       "        vertical-align: middle;\n",
       "    }\n",
       "\n",
       "    .dataframe tbody tr th {\n",
       "        vertical-align: top;\n",
       "    }\n",
       "\n",
       "    .dataframe thead th {\n",
       "        text-align: right;\n",
       "    }\n",
       "</style>\n",
       "<table border=\"1\" class=\"dataframe\">\n",
       "  <thead>\n",
       "    <tr style=\"text-align: right;\">\n",
       "      <th></th>\n",
       "      <th>Mean</th>\n",
       "      <th>MCSE</th>\n",
       "      <th>StdDev</th>\n",
       "      <th>5%</th>\n",
       "      <th>50%</th>\n",
       "      <th>95%</th>\n",
       "      <th>N_Eff</th>\n",
       "      <th>N_Eff/s</th>\n",
       "      <th>R_hat</th>\n",
       "    </tr>\n",
       "  </thead>\n",
       "  <tbody>\n",
       "    <tr>\n",
       "      <th>lp__</th>\n",
       "      <td>-2927.230000</td>\n",
       "      <td>1.291040</td>\n",
       "      <td>45.216800</td>\n",
       "      <td>-3001.470000</td>\n",
       "      <td>-2927.100000</td>\n",
       "      <td>-2.852130e+03</td>\n",
       "      <td>1226.650</td>\n",
       "      <td>3.90130</td>\n",
       "      <td>1.004670</td>\n",
       "    </tr>\n",
       "    <tr>\n",
       "      <th>beta0</th>\n",
       "      <td>2.437080</td>\n",
       "      <td>0.070753</td>\n",
       "      <td>1.886570</td>\n",
       "      <td>0.294097</td>\n",
       "      <td>1.955390</td>\n",
       "      <td>6.287830e+00</td>\n",
       "      <td>710.975</td>\n",
       "      <td>2.26121</td>\n",
       "      <td>1.006510</td>\n",
       "    </tr>\n",
       "    <tr>\n",
       "      <th>z[1]</th>\n",
       "      <td>0.025178</td>\n",
       "      <td>0.024705</td>\n",
       "      <td>0.993321</td>\n",
       "      <td>-1.671120</td>\n",
       "      <td>0.015307</td>\n",
       "      <td>1.666570e+00</td>\n",
       "      <td>1616.590</td>\n",
       "      <td>5.14146</td>\n",
       "      <td>0.998954</td>\n",
       "    </tr>\n",
       "    <tr>\n",
       "      <th>z[2]</th>\n",
       "      <td>0.046926</td>\n",
       "      <td>0.026113</td>\n",
       "      <td>1.037290</td>\n",
       "      <td>-1.609530</td>\n",
       "      <td>0.041809</td>\n",
       "      <td>1.802620e+00</td>\n",
       "      <td>1577.980</td>\n",
       "      <td>5.01866</td>\n",
       "      <td>1.001380</td>\n",
       "    </tr>\n",
       "    <tr>\n",
       "      <th>z[3]</th>\n",
       "      <td>0.037744</td>\n",
       "      <td>0.024418</td>\n",
       "      <td>0.993393</td>\n",
       "      <td>-1.581180</td>\n",
       "      <td>0.047088</td>\n",
       "      <td>1.621680e+00</td>\n",
       "      <td>1655.110</td>\n",
       "      <td>5.26398</td>\n",
       "      <td>0.999280</td>\n",
       "    </tr>\n",
       "    <tr>\n",
       "      <th>...</th>\n",
       "      <td>...</td>\n",
       "      <td>...</td>\n",
       "      <td>...</td>\n",
       "      <td>...</td>\n",
       "      <td>...</td>\n",
       "      <td>...</td>\n",
       "      <td>...</td>\n",
       "      <td>...</td>\n",
       "      <td>...</td>\n",
       "    </tr>\n",
       "    <tr>\n",
       "      <th>log_lik[50]</th>\n",
       "      <td>-0.010154</td>\n",
       "      <td>0.002308</td>\n",
       "      <td>0.053397</td>\n",
       "      <td>-0.043359</td>\n",
       "      <td>-0.000199</td>\n",
       "      <td>-1.017000e-13</td>\n",
       "      <td>535.291</td>\n",
       "      <td>1.70246</td>\n",
       "      <td>1.011340</td>\n",
       "    </tr>\n",
       "    <tr>\n",
       "      <th>log_lik[51]</th>\n",
       "      <td>-0.008608</td>\n",
       "      <td>0.001436</td>\n",
       "      <td>0.046358</td>\n",
       "      <td>-0.037396</td>\n",
       "      <td>-0.000079</td>\n",
       "      <td>-2.720000e-14</td>\n",
       "      <td>1042.790</td>\n",
       "      <td>3.31655</td>\n",
       "      <td>1.004310</td>\n",
       "    </tr>\n",
       "    <tr>\n",
       "      <th>log_lik[52]</th>\n",
       "      <td>-0.021451</td>\n",
       "      <td>0.004497</td>\n",
       "      <td>0.141958</td>\n",
       "      <td>-0.043949</td>\n",
       "      <td>-0.000103</td>\n",
       "      <td>-9.770000e-14</td>\n",
       "      <td>996.545</td>\n",
       "      <td>3.16945</td>\n",
       "      <td>1.000520</td>\n",
       "    </tr>\n",
       "    <tr>\n",
       "      <th>log_lik[53]</th>\n",
       "      <td>-0.700586</td>\n",
       "      <td>0.066567</td>\n",
       "      <td>0.932015</td>\n",
       "      <td>-2.630360</td>\n",
       "      <td>-0.250988</td>\n",
       "      <td>-5.009960e-08</td>\n",
       "      <td>196.030</td>\n",
       "      <td>0.62346</td>\n",
       "      <td>1.013530</td>\n",
       "    </tr>\n",
       "    <tr>\n",
       "      <th>log_lik[54]</th>\n",
       "      <td>-0.009615</td>\n",
       "      <td>0.001629</td>\n",
       "      <td>0.066038</td>\n",
       "      <td>-0.034165</td>\n",
       "      <td>-0.000080</td>\n",
       "      <td>-0.000000e+00</td>\n",
       "      <td>1642.420</td>\n",
       "      <td>5.22363</td>\n",
       "      <td>1.000740</td>\n",
       "    </tr>\n",
       "  </tbody>\n",
       "</table>\n",
       "<p>6257 rows × 9 columns</p>\n",
       "</div>"
      ],
      "text/plain": [
       "                    Mean      MCSE     StdDev           5%          50%  \\\n",
       "lp__        -2927.230000  1.291040  45.216800 -3001.470000 -2927.100000   \n",
       "beta0           2.437080  0.070753   1.886570     0.294097     1.955390   \n",
       "z[1]            0.025178  0.024705   0.993321    -1.671120     0.015307   \n",
       "z[2]            0.046926  0.026113   1.037290    -1.609530     0.041809   \n",
       "z[3]            0.037744  0.024418   0.993393    -1.581180     0.047088   \n",
       "...                  ...       ...        ...          ...          ...   \n",
       "log_lik[50]    -0.010154  0.002308   0.053397    -0.043359    -0.000199   \n",
       "log_lik[51]    -0.008608  0.001436   0.046358    -0.037396    -0.000079   \n",
       "log_lik[52]    -0.021451  0.004497   0.141958    -0.043949    -0.000103   \n",
       "log_lik[53]    -0.700586  0.066567   0.932015    -2.630360    -0.250988   \n",
       "log_lik[54]    -0.009615  0.001629   0.066038    -0.034165    -0.000080   \n",
       "\n",
       "                      95%     N_Eff  N_Eff/s     R_hat  \n",
       "lp__        -2.852130e+03  1226.650  3.90130  1.004670  \n",
       "beta0        6.287830e+00   710.975  2.26121  1.006510  \n",
       "z[1]         1.666570e+00  1616.590  5.14146  0.998954  \n",
       "z[2]         1.802620e+00  1577.980  5.01866  1.001380  \n",
       "z[3]         1.621680e+00  1655.110  5.26398  0.999280  \n",
       "...                   ...       ...      ...       ...  \n",
       "log_lik[50] -1.017000e-13   535.291  1.70246  1.011340  \n",
       "log_lik[51] -2.720000e-14  1042.790  3.31655  1.004310  \n",
       "log_lik[52] -9.770000e-14   996.545  3.16945  1.000520  \n",
       "log_lik[53] -5.009960e-08   196.030  0.62346  1.013530  \n",
       "log_lik[54] -0.000000e+00  1642.420  5.22363  1.000740  \n",
       "\n",
       "[6257 rows x 9 columns]"
      ]
     },
     "execution_count": 10,
     "metadata": {},
     "output_type": "execute_result"
    }
   ],
   "source": [
    "fit.summary()"
   ]
  },
  {
   "cell_type": "code",
   "execution_count": 11,
   "metadata": {},
   "outputs": [
    {
     "data": {
      "text/plain": [
       "(2000,)"
      ]
     },
     "execution_count": 11,
     "metadata": {},
     "output_type": "execute_result"
    }
   ],
   "source": [
    "fit.stan_variable('beta0').shape"
   ]
  },
  {
   "cell_type": "code",
   "execution_count": 12,
   "metadata": {},
   "outputs": [
    {
     "data": {
      "text/plain": [
       "((2000, 1536), (54, 1536))"
      ]
     },
     "execution_count": 12,
     "metadata": {},
     "output_type": "execute_result"
    }
   ],
   "source": [
    "fit.stan_variable('beta').shape, X_scaled.shape"
   ]
  },
  {
   "cell_type": "code",
   "execution_count": 26,
   "metadata": {},
   "outputs": [
    {
     "data": {
      "text/plain": [
       "<matplotlib.colorbar.Colorbar at 0x7fec301f2380>"
      ]
     },
     "execution_count": 26,
     "metadata": {},
     "output_type": "execute_result"
    },
    {
     "data": {
      "image/png": "[encoded data removed]",
      "text/plain": [
       "<Figure size 100x700 with 2 Axes>"
      ]
     },
     "metadata": {},
     "output_type": "display_data"
    }
   ],
   "source": [
    "from matplotlib import pyplot as plt\n",
    "beta = tf.reduce_mean(fit.stan_variable(\"beta\"), axis=1, keepdims=True)\n",
    "fig, ax = plt.subplots(1, 1, figsize=(1, 7))\n",
    "im = ax.pcolormesh(beta, cmap='seismic_r')\n",
    "plt.colorbar(im)"
   ]
  },
  {
   "cell_type": "code",
   "execution_count": 14,
   "metadata": {},
   "outputs": [],
   "source": [
    "lr_model = LogisticRegression(dim_regressors=d, global_horseshoe_scale=1.)"
   ]
  },
  {
   "cell_type": "code",
   "execution_count": 27,
   "metadata": {},
   "outputs": [],
   "source": [
    "n_samples = 128\n",
    "params = lr_model.sample(n_samples)"
   ]
  },
  {
   "cell_type": "code",
   "execution_count": 28,
   "metadata": {},
   "outputs": [
    {
     "data": {
      "text/plain": [
       "(2000, 1536)"
      ]
     },
     "execution_count": 28,
     "metadata": {},
     "output_type": "execute_result"
    }
   ],
   "source": [
    "fit.stan_variable(\"beta\").shape"
   ]
  },
  {
   "cell_type": "code",
   "execution_count": 29,
   "metadata": {},
   "outputs": [],
   "source": [
    "params['beta__'] = tf.reshape(tf.cast(fit.stan_variable(\"beta\")[:n_samples, np.newaxis, :], tf.float64), (n_samples, 1, 1536))"
   ]
  },
  {
   "cell_type": "code",
   "execution_count": 30,
   "metadata": {},
   "outputs": [],
   "source": [
    "params['intercept__'] = tf.reshape(tf.cast(fit.stan_variable(\"beta0\")[:n_samples], tf.float64), (n_samples, 1, 1))"
   ]
  },
  {
   "cell_type": "code",
   "execution_count": 31,
   "metadata": {},
   "outputs": [],
   "source": [
    "\n",
    "\n",
    "tfdata = tf.data.Dataset.from_tensor_slices({'X': X_scaled, 'y':y_})\n",
    "batch_size = 56\n",
    "def data_factory_factory(batch_size=batch_size, repeat=False, shuffle=False):\n",
    "    def data_factory(batch_size=batch_size):\n",
    "        if shuffle:\n",
    "            out = tfdata.shuffle(batch_size*10)\n",
    "        else:\n",
    "            out = tfdata\n",
    "        \n",
    "        if repeat:\n",
    "            out = out.repeat()\n",
    "        return out.batch(batch_size)\n",
    "    return data_factory\n",
    "\n",
    "batch = next(iter(data_factory_factory()()))"
   ]
  },
  {
   "cell_type": "code",
   "execution_count": 32,
   "metadata": {},
   "outputs": [
    {
     "name": "stderr",
     "output_type": "stream",
     "text": [
      "1it [00:00, 45.57it/s]\n"
     ]
    },
    {
     "data": {
      "text/plain": [
       "(0.0, 1.0)"
      ]
     },
     "execution_count": 32,
     "metadata": {},
     "output_type": "execute_result"
    },
    {
     "data": {
      "image/png": "[encoded data removed]",
      "text/plain": [
       "<Figure size 900x200 with 2 Axes>"
      ]
     },
     "metadata": {},
     "output_type": "display_data"
    }
   ],
   "source": [
    "def prediction_fn(data):\n",
    "    pred = lr_model.predictive_distribution(data, **params)[\"logits\"]\n",
    "    return tf.reduce_mean(pred, axis=0)\n",
    "\n",
    "bench = classification_metrics(\n",
    "    data_factory=data_factory_factory(),\n",
    "    prediction_fn=prediction_fn,\n",
    "    outcome_label='y',\n",
    "    by_vars=[]\n",
    ")\n",
    "\n",
    "fig, ax = plt.subplots(1, 2, figsize=(9, 2))\n",
    "ax[0].plot(bench['auroc']['fpr'], bench['auroc']['tpr'])\n",
    "ax[0].text(0.5, 0.1, f\"AUROC: {round(bench['auroc']['auroc'], 2)}\")\n",
    "ax[0].set_xlim((0, 1))\n",
    "ax[0].set_ylim((0, 1))\n",
    "ax[0].set_title(\"ROC\")\n",
    "\n",
    "ax[1].plot(bench['auprc']['recall'], bench['auprc']['precision'])\n",
    "ax[1].text(0.5, 0.8, f\"AUPRC: {round(bench['auprc']['auprc'], 2)}\")\n",
    "ax[1].set_title(\"Precision-Recall\")\n",
    "ax[1].set_xlim((0, 1))\n",
    "ax[1].set_ylim((0, 1))"
   ]
  },
  {
   "cell_type": "code",
   "execution_count": 52,
   "metadata": {},
   "outputs": [
    {
     "name": "stdout",
     "output_type": "stream",
     "text": [
      "I: 0.04658664699758072 entropy: 15.86779046685259 khat>0.5: 28\n",
      "LL: 0.03619835780593503 entropy: 15.230111626938756 khat>0.5: 45\n",
      "KL: 0.03619835780593503 entropy: 15.858189685894526 khat>0.5: 27\n",
      "Var: 0.028645347657032152 entropy: 15.966350069335247 khat>0.5: 29\n"
     ]
    }
   ],
   "source": [
    "def entropy(probs):\n",
    "    return -tf.math.xlogy(probs, probs)\n",
    "\n",
    "\n",
    "def adaptive_is_loo(self, data, params, hbar=1.0, variational=True):\n",
    "    \"\"\"_summary_\n",
    "\n",
    "    Args:\n",
    "        data (_type_): _description_\n",
    "        params (_type_): _description_\n",
    "        hbar (float, optional): _description_. Defaults to 1.0.\n",
    "        variational (bool, optional):\n",
    "            Should we trust the variational approximation?\n",
    "            If False, assumes that one is passing in all the data at once in a single batch.\n",
    "            Defaults to True.\n",
    "\n",
    "    Returns:\n",
    "        _type_: _description_\n",
    "    \"\"\"\n",
    "\n",
    "    # scaled (theta - bar(theta))/Sigma\n",
    "    beta = params[\"beta__\"]\n",
    "    intercept = params[\"intercept__\"]\n",
    "    X = tf.cast(data[\"X\"], self.dtype)\n",
    "    y = tf.cast(data[\"y\"], self.dtype)[:, 0]\n",
    "    mu = tf.reduce_sum(beta * X, axis=-1) + intercept[..., 0]\n",
    "    sigma = tf.math.sigmoid(mu)\n",
    "    ell = y * (sigma) + (1 - y) * (1 - sigma)\n",
    "    log_ell = tf.math.xlogy(y, sigma) + tf.math.xlogy(1 - y, 1 - sigma)\n",
    "    log_ell_prime = y * (1 - sigma) - (1 - y) * sigma\n",
    "    log_ell_doubleprime = -sigma * (1 - sigma)\n",
    "    _, khat0 = nppsis.psislw(-log_ell)\n",
    "\n",
    "    \"\"\"\n",
    "    sigma.shape is samples x datapoints\n",
    "    \"\"\"\n",
    "\n",
    "    # compute # \\nabla\\log\\pi(\\btheta|\\calD)\n",
    "    if variational:\n",
    "        # \\nabla\\log\\pi = -\\Sigma^{-1}(theta - \\bar{\\theta})\n",
    "        grad_log_pi = tf.concat(\n",
    "            [\n",
    "                -(intercept - self.surrogate_distribution.model[\"intercept__\"].mean())\n",
    "                / self.surrogate_distribution.model[\"intercept__\"].variance(),\n",
    "                -(beta - self.surrogate_distribution.model[\"beta__\"].mean())\n",
    "                / self.surrogate_distribution.model[\"beta__\"].variance(),\n",
    "            ],\n",
    "            axis=-1,\n",
    "        )\n",
    "        intercept_sd = (\n",
    "            self.surrogate_distribution.model[\"intercept__\"].variance() ** 0.5\n",
    "        )\n",
    "        beta_sd = self.surrogate_distribution.model[\"beta__\"].variance() ** 0.5\n",
    "\n",
    "        log_pi = self.surrogate_distribution.model[\"beta__\"].log_prob(\n",
    "            params[\"beta__\"]\n",
    "        ) + self.surrogate_distribution.model[\"intercept__\"].log_prob(\n",
    "            params[\"intercept__\"]\n",
    "        )\n",
    "        log_pi -= tf.reduce_max(log_pi, axis=0)\n",
    "        # log_pi.shape: [samples]\n",
    "    else:\n",
    "        \"\"\"\n",
    "        Recall Bayes rule:\n",
    "        \\log pi(\\btheta|\\calD) = \\sum_i\\log ell_i(\\btheta) + \\log\\pi(\\btheta) + const\n",
    "\n",
    "        so\n",
    "        \\nabla\\log\\pi(\\btheta|\\calD) = \\sum_i (ell_i)'x + grad\\log\\pi(\\btheta)\n",
    "\n",
    "        \"\"\"\n",
    "        log_prior = self.prior_distribution.log_prob_parts(\n",
    "            {\n",
    "                \"regression_model\": {\n",
    "                    k: tf.cast(params[k], self.dtype) for k in self.regression_var_list\n",
    "                },\n",
    "                \"intercept_model\": {\n",
    "                    k: tf.cast(params[k], self.dtype) for k in self.intercept_var_list\n",
    "                },\n",
    "            }\n",
    "        )\n",
    "        \n",
    "        log_pi = tf.reduce_sum(log_ell, axis=1, keepdims=True)[:, 0]\n",
    "\n",
    "        # pi \\propto\n",
    "        grad_log_pi = tf.concat(\n",
    "            [\n",
    "                tf.reduce_sum(log_ell_prime[..., tf.newaxis], axis=1, keepdims=True),\n",
    "                tf.reduce_sum(\n",
    "                    log_ell_prime[..., tf.newaxis] * X, axis=1, keepdims=True\n",
    "                ),\n",
    "            ],\n",
    "            axis=-1,\n",
    "        )\n",
    "\n",
    "        grad_log_prior = tf.concat(\n",
    "            [-0.5 * (intercept) ** 2, -0.5 * (beta) ** 2 / params[\"global_scale\"] ** 2],\n",
    "            axis=-1,\n",
    "        )\n",
    "        grad_log_pi += grad_log_prior\n",
    "\n",
    "        prior_intercept_sd = (\n",
    "            self.prior_distribution.model[\"intercept_model\"]\n",
    "            .model[\"intercept__\"]\n",
    "            .variance()\n",
    "            ** 0.5\n",
    "        )\n",
    "        prior_beta_sd = params[\"global_scale\"]\n",
    "\n",
    "        intercept_sd = tf.math.reduce_std(intercept, 0, keepdims=True)\n",
    "        beta_sd = tf.math.reduce_std(beta, 0, keepdims=True)\n",
    "\n",
    "    # log-likelihood descent\n",
    "\n",
    "    def T_ll():\n",
    "        Q_beta = -log_ell_prime[..., tf.newaxis] * X\n",
    "        Q_intercept = -log_ell_prime[..., tf.newaxis]\n",
    "\n",
    "        standardized = tf.concat(\n",
    "            [Q_beta / beta_sd, Q_intercept / intercept_sd], axis=-1\n",
    "        )\n",
    "        standardized = tf.reduce_max(tf.math.abs(standardized), axis=-1)\n",
    "        standardized = tf.reduce_max(standardized, axis=0, keepdims=True)[\n",
    "            ..., tf.newaxis\n",
    "        ]\n",
    "\n",
    "        h = hbar / standardized\n",
    "        logJ = tf.math.log1p(\n",
    "            tf.math.abs(\n",
    "                h\n",
    "                * (1 + tf.math.reduce_sum(X**2, -1, keepdims=True))[tf.newaxis, :, :]\n",
    "                * (sigma * (1 - sigma))[..., tf.newaxis]\n",
    "            )[..., 0]\n",
    "        )\n",
    "        beta_ll = beta + h * Q_beta\n",
    "        intercept_ll = intercept + h * Q_intercept\n",
    "        return beta_ll, intercept_ll, logJ\n",
    "\n",
    "    def T_kl():\n",
    "        log_pi_ = log_pi - tf.reduce_max(log_pi, axis=0, keepdims=True)\n",
    "        Q_beta = ((-1) ** y * tf.math.exp(log_pi_[..., tf.newaxis] + mu * (1 - 2 * y)))[\n",
    "            ..., tf.newaxis\n",
    "        ] * X\n",
    "        Q_intercept = (\n",
    "            ((-1) ** y) * tf.math.exp(log_pi_[..., tf.newaxis] + mu * (1 - 2 * y))\n",
    "        )[..., tf.newaxis]\n",
    "\n",
    "        dQ = (-1) ** y[tf.newaxis, :] * tf.math.exp(\n",
    "            log_pi_[..., tf.newaxis] + mu * (1 - 2 * y[tf.newaxis, :])\n",
    "        )\n",
    "        dQ *= (\n",
    "            grad_log_pi[..., 0]\n",
    "            + (1 - 2 * y)[tf.newaxis, :]\n",
    "            + tf.reduce_sum(\n",
    "                X\n",
    "                * (\n",
    "                    grad_log_pi[..., 1:]\n",
    "                    + (1 - 2 * y)[:, tf.newaxis] * X[tf.newaxis, ...]\n",
    "                ),\n",
    "                axis=-1,\n",
    "            )\n",
    "        )\n",
    "\n",
    "        standardized = tf.concat(\n",
    "            [Q_beta / beta_sd, Q_intercept / intercept_sd], axis=-1\n",
    "        )\n",
    "        standardized = tf.reduce_max(tf.math.abs(standardized), axis=-1)\n",
    "        standardized = tf.reduce_max(standardized, axis=0, keepdims=True)[\n",
    "            ..., tf.newaxis\n",
    "        ]\n",
    "\n",
    "        h = hbar / standardized\n",
    "\n",
    "        intercept_kl = intercept + h * Q_intercept\n",
    "        beta_kl = beta + h * Q_beta\n",
    "\n",
    "        logJ = tf.math.log1p(tf.math.abs(h[..., 0] * dQ))\n",
    "        return beta_kl, intercept_kl, logJ\n",
    "\n",
    "    # variance descent -(log ell)'/l\n",
    "\n",
    "    def T_I():\n",
    "        Q = tf.zeros_like(log_ell)\n",
    "        return (\n",
    "            beta + Q[..., tf.newaxis],\n",
    "            intercept + Q[..., tf.newaxis],\n",
    "            tf.zeros_like(Q),\n",
    "        )\n",
    "\n",
    "    def T_var():\n",
    "        log_pi_ = log_pi - tf.reduce_max(log_pi, axis=0, keepdims=True)\n",
    "\n",
    "        Q_beta = (\n",
    "            (-1) ** y * tf.math.exp(log_pi_[..., tf.newaxis] + 2 * mu * (1 - 2 * y))\n",
    "        )[..., tf.newaxis] * X\n",
    "        Q_intercept = (\n",
    "            (-1) ** y * tf.math.exp(log_pi_[..., tf.newaxis] + 2 * mu * (1 - 2 * y))\n",
    "        )[..., tf.newaxis]\n",
    "\n",
    "        dQ = (\n",
    "            (-1) ** y[tf.newaxis, :]\n",
    "            * tf.math.exp(\n",
    "                log_pi_[..., tf.newaxis] + 2 * mu * (1 - 2 * y[tf.newaxis, :])\n",
    "            )\n",
    "            * (\n",
    "                grad_log_pi[..., 0]\n",
    "                + (1 - 2 * y)[tf.newaxis, :]\n",
    "                + tf.reduce_sum(\n",
    "                    X * (grad_log_pi[..., 1:] + 2 * (1 - 2 * y)[:, tf.newaxis] * X),\n",
    "                    axis=-1,\n",
    "                )\n",
    "            )\n",
    "        )\n",
    "\n",
    "        standardized = tf.concat(\n",
    "            [Q_beta / beta_sd, Q_intercept / intercept_sd], axis=-1\n",
    "        )\n",
    "        standardized = tf.reduce_max(tf.math.abs(standardized), axis=-1)\n",
    "        standardized = tf.reduce_max(standardized, axis=0, keepdims=True)[\n",
    "            ..., tf.newaxis\n",
    "        ]\n",
    "\n",
    "        h = hbar / standardized\n",
    "\n",
    "        intercept_kl = intercept + h * Q_intercept\n",
    "        beta_kl = beta + h * Q_beta\n",
    "\n",
    "        logJ = tf.math.log1p(tf.math.abs(h[..., 0] * dQ))\n",
    "        return beta_kl, intercept_kl, logJ\n",
    "\n",
    "    def IS(Q):\n",
    "        beta_new, intercept_new, logJ = Q()\n",
    "        mu_new = tf.reduce_sum(beta_new * X, axis=-1) + intercept_new[..., 0]\n",
    "        sigma_new = tf.math.sigmoid(mu_new)\n",
    "        ell_new = y * (sigma_new) + (1 - y) * (1 - sigma_new)\n",
    "        log_ell_new = tf.math.xlogy(y, sigma_new) + tf.math.xlogy(1 - y, 1 - sigma_new)\n",
    "        transformed = params.copy()\n",
    "        transformed[\"beta__\"] = beta_new[..., tf.newaxis, :]\n",
    "        transformed[\"intercept__\"] = intercept_new[..., tf.newaxis, :]\n",
    "        transformed[\"global_scale\"] = transformed[\"global_scale\"][..., tf.newaxis, :]\n",
    "        transformed[\"global_scale_aux\"] = transformed[\"global_scale_aux\"][\n",
    "            ..., tf.newaxis, :\n",
    "        ]\n",
    "\n",
    "        if variational:\n",
    "            # We trust the variational approximation, so \\hat{pi} = pi\n",
    "            # N_samples x N_data\n",
    "            delta_log_pi = (\n",
    "                self.surrogate_distribution.log_prob(transformed)\n",
    "                - log_pi[:, tf.newaxis]\n",
    "            )\n",
    "            delta_log_pi = delta_log_pi - tf.reduce_max(\n",
    "                delta_log_pi, axis=0, keepdims=True\n",
    "            )\n",
    "            pass\n",
    "        else:\n",
    "            # we don't trust the variational approximation\n",
    "            # Need to compute log_pi directly by summing over the likelihood\n",
    "\n",
    "            ell_cross = tf.math.sigmoid(\n",
    "                tf.reduce_sum(beta_new[..., tf.newaxis, :] * X, -1) + intercept_new\n",
    "            )\n",
    "            ell_cross = tf.math.xlogy(y, ell_cross) + tf.math.xlogy(\n",
    "                1 - y, 1 - ell_cross\n",
    "            )\n",
    "            ell_cross = tf.math.reduce_sum(ell_cross, axis=-1)\n",
    "\n",
    "            log_prior_new = self.prior_distribution.log_prob_parts(\n",
    "                {\n",
    "                    \"regression_model\": {\n",
    "                        k: tf.cast(transformed[k], self.dtype)\n",
    "                        for k in self.regression_var_list\n",
    "                    },\n",
    "                    \"intercept_model\": {\n",
    "                        k: tf.cast(transformed[k], self.dtype)\n",
    "                        for k in self.intercept_var_list\n",
    "                    },\n",
    "                }\n",
    "            )\n",
    "            log_pi_new = ell_cross\n",
    "            delta_log_prior = log_prior_new['regression_model'] - log_prior['regression_model'][:, tf.newaxis]\n",
    "            delta_log_prior += log_prior_new['intercept_model'] - log_prior['intercept_model'][:, tf.newaxis]\n",
    "            # Incorporate the prior\n",
    "            delta_log_pi = log_pi_new - log_pi[:, tf.newaxis] + delta_log_prior\n",
    "        log_eta_weights = delta_log_pi - log_ell_new + logJ\n",
    "        log_eta_weights = log_eta_weights - tf.reduce_max(log_eta_weights, axis=0)\n",
    "        psis_weights, khat = nppsis.psislw(log_eta_weights)\n",
    "        _, khat_test = nppsis.psislw(-log_ell_new-tf.reduce_max(-log_ell_new, axis=0))\n",
    "\n",
    "        eta_weights = tf.math.exp(log_eta_weights)\n",
    "        eta_weights = eta_weights / tf.reduce_sum(eta_weights, axis=0, keepdims=True)\n",
    "\n",
    "        psis_weights = tf.math.exp(psis_weights)\n",
    "        psis_weights = psis_weights / tf.math.reduce_sum(\n",
    "            psis_weights, axis=0, keepdims=True\n",
    "        )\n",
    "\n",
    "        weight_entropy = self.entropy(eta_weights)\n",
    "        psis_entropy = self.entropy(psis_weights)\n",
    "\n",
    "        p_loo_new = tf.reduce_sum(sigma_new * eta_weights, axis=0)\n",
    "        p_loo_psis = tf.reduce_sum(sigma_new * psis_weights, axis=0)\n",
    "        p_loo_sd = tf.math.reduce_std(sigma_new * eta_weights, axis=0)\n",
    "        ll_loo_new = tf.reduce_sum(eta_weights * ell_new, axis=0)\n",
    "        ll_loo_psis = tf.reduce_sum(psis_weights * ell_new, axis=0)\n",
    "        ll_loo_sd = tf.math.reduce_std(eta_weights * ell_new, axis=0)\n",
    "        return (\n",
    "            eta_weights,\n",
    "            psis_weights,\n",
    "            p_loo_new,\n",
    "            p_loo_sd,\n",
    "            ll_loo_new,\n",
    "            ll_loo_sd,\n",
    "            weight_entropy,\n",
    "            khat,\n",
    "            p_loo_psis,\n",
    "            ll_loo_psis,\n",
    "        )\n",
    "\n",
    "    (\n",
    "        eta_I,\n",
    "        eta_I_psis,\n",
    "        p_loo_I,\n",
    "        p_loo_I_sd,\n",
    "        ll_loo_I,\n",
    "        ll_loo_I_sd,\n",
    "        S_I,\n",
    "        k_I,\n",
    "        p_psis_I,\n",
    "        ll_psis_I,\n",
    "    ) = IS(T_I)\n",
    "\n",
    "    (\n",
    "        eta_kl,\n",
    "        eta_kl_psis,\n",
    "        p_loo_kl,\n",
    "        p_loo_kl_sd,\n",
    "        ll_loo_kl,\n",
    "        ll_loo_kl_sd,\n",
    "        S_kl,\n",
    "        k_kl,\n",
    "        p_psis_kl,\n",
    "        ll_psis_kl,\n",
    "    ) = IS(T_kl)\n",
    "\n",
    "    (\n",
    "        eta_var,\n",
    "        eta_var_psis,\n",
    "        p_loo_var,\n",
    "        p_loo_var_sd,\n",
    "        ll_loo_var,\n",
    "        ll_loo_var_sd,\n",
    "        S_var,\n",
    "        k_var,\n",
    "        p_psis_var,\n",
    "        ll_psis_var,\n",
    "    ) = IS(T_var)\n",
    "    (\n",
    "        eta_ll,\n",
    "        eta_ll_psis,\n",
    "        p_loo_ll,\n",
    "        p_loo_ll_sd,\n",
    "        ll_loo_ll,\n",
    "        ll_loo_ll_sd,\n",
    "        S_ll,\n",
    "        k_ll,\n",
    "        p_psis_ll,\n",
    "        ll_psis_ll,\n",
    "    ) = IS(T_ll)\n",
    "    # kl descent\n",
    "\n",
    "    return {\n",
    "        \"I\": {\n",
    "            \"p_loo\": p_loo_I,\n",
    "            \"p_loo_sd\": p_loo_I_sd,\n",
    "            \"ll_loo\": ll_loo_I,\n",
    "            \"ll_loo_sd\": ll_loo_I_sd,\n",
    "            \"S\": S_I,\n",
    "            \"khat\": k_I,\n",
    "            \"p_psis\": p_psis_I,\n",
    "            \"ll_psis\": ll_psis_I,\n",
    "        },\n",
    "        \"KL\": {\n",
    "            \"p_loo\": p_loo_kl,\n",
    "            \"p_loo_sd\": p_loo_kl_sd,\n",
    "            \"ll_loo\": ll_loo_kl,\n",
    "            \"ll_loo_sd\": ll_loo_kl_sd,\n",
    "            \"S\": S_kl,\n",
    "            \"khat\": k_kl,\n",
    "            \"p_psis\": p_psis_kl,\n",
    "            \"ll_psis\": ll_psis_kl,\n",
    "        },\n",
    "        \"LL\": {\n",
    "            \"p_loo\": p_loo_kl,\n",
    "            \"p_loo_sd\": p_loo_kl_sd,\n",
    "            \"ll_loo\": ll_loo_kl,\n",
    "            \"ll_loo_sd\": ll_loo_kl_sd,\n",
    "            \"S\": S_ll,\n",
    "            \"khat\": k_ll,\n",
    "            \"p_psis\": p_psis_ll,\n",
    "            \"ll_psis\": ll_psis_ll,\n",
    "        },\n",
    "        \"Var\": {\n",
    "            \"p_loo\": p_loo_var,\n",
    "            \"p_loo_sd\": p_loo_var_sd,\n",
    "            \"ll_loo\": ll_loo_var,\n",
    "            \"ll_loo_sd\": ll_loo_var_sd,\n",
    "            \"S\": S_var,\n",
    "            \"khat\": k_var,\n",
    "            \"p_psis\": p_psis_var,\n",
    "            \"ll_psis\": ll_psis_var,\n",
    "        },\n",
    "    }\n",
    "\n",
    "\n",
    "loo = adaptive_is_loo(lr_model, batch, params, .1, variational=False)\n",
    "\n",
    "# loo = adaptive_is_loo(lr_model, test_batch, param_test, 0.01, variational=False)\n",
    "\n",
    "\n",
    "for T in [\"I\", \"LL\", \"KL\", \"Var\"]:\n",
    "    print(\n",
    "        f\"{T}: {np.sqrt(np.sum(loo[T]['p_loo_sd']**2))} entropy: {np.sqrt(np.sum(loo[T]['S']))} khat>0.5: {np.sum(loo[T]['khat']>0.7)}\"\n",
    "    )"
   ]
  },
  {
   "cell_type": "code",
   "execution_count": 42,
   "metadata": {},
   "outputs": [
    {
     "data": {
      "text/plain": [
       "array([0.05853873, 1.18345948, 0.62422715, 0.75080435, 0.45679954,\n",
       "       0.23080391, 1.20587186, 0.3944037 , 0.91819694, 0.70044812,\n",
       "       0.34249801, 0.27731592, 0.98865735, 0.9915888 , 0.37728595,\n",
       "       1.11143953, 0.25475469, 1.17583254, 0.90586615, 0.99305166,\n",
       "       0.78882176, 0.73595196, 0.44515342, 0.43906085, 0.72971613,\n",
       "       1.32906261, 0.86316453, 0.69583941, 0.87899702, 0.85601998,\n",
       "       0.67221883, 0.294114  , 0.77092236, 1.07400484, 0.42458263,\n",
       "       0.06658691, 0.63817512, 0.84882272, 0.83851141, 0.61866637,\n",
       "       0.20321363, 1.18045048, 0.32973805, 0.74579885, 0.67458394,\n",
       "       1.12847619, 0.82232308, 0.63921505, 0.6641723 , 0.47371854,\n",
       "       1.24610846, 1.32061685, 0.58983865, 0.30038353])"
      ]
     },
     "execution_count": 42,
     "metadata": {},
     "output_type": "execute_result"
    }
   ],
   "source": [
    "loo['I']['khat']"
   ]
  },
  {
   "cell_type": "code",
   "execution_count": 43,
   "metadata": {},
   "outputs": [
    {
     "data": {
      "text/plain": [
       "array([-0.04633901, -0.03167163, -0.08681974, -0.05864256,  0.05233831,\n",
       "        0.02320619,  0.08555625,  0.08578372, -0.1526992 ,  0.04009756,\n",
       "        0.03184764, -0.12229781, -0.1491799 ,  0.09159588,  0.11885243,\n",
       "        0.20432815,  0.01982542,  0.32995193, -0.06176234,  0.12057784,\n",
       "       -0.03875342, -0.27062678, -0.09670216, -0.00705996,  0.01243867,\n",
       "        0.15832538,  0.14826428, -0.06631653, -0.03756527, -0.22507354,\n",
       "       -0.00182825, -0.06423488,  0.04696244, -0.05192442,  0.0220676 ,\n",
       "        0.00306887,  0.15734618, -0.09640077, -0.1014986 ,  0.01072718,\n",
       "       -0.45991326, -0.00241392,  0.07411644, -0.22344046,  0.0096038 ,\n",
       "       -0.00126388, -0.11270012, -0.31541231, -0.33829452, -0.34651333,\n",
       "       -0.00854307,  0.09424755,  0.04520065, -0.20172259])"
      ]
     },
     "execution_count": 43,
     "metadata": {},
     "output_type": "execute_result"
    }
   ],
   "source": [
    "loo[\"I\"]['khat'] - loo['KL']['khat']"
   ]
  },
  {
   "cell_type": "code",
   "execution_count": null,
   "metadata": {},
   "outputs": [],
   "source": []
  },
  {
   "cell_type": "code",
   "execution_count": null,
   "metadata": {},
   "outputs": [],
   "source": []
  },
  {
   "cell_type": "code",
   "execution_count": null,
   "metadata": {},
   "outputs": [],
   "source": []
  }
 ],
 "metadata": {
  "kernelspec": {
   "display_name": "env",
   "language": "python",
   "name": "python3"
  },
  "language_info": {
   "codemirror_mode": {
    "name": "ipython",
    "version": 3
   },
   "file_extension": ".py",
   "mimetype": "text/x-python",
   "name": "python",
   "nbconvert_exporter": "python",
   "pygments_lexer": "ipython3",
   "version": "3.10.12"
  }
 },
 "nbformat": 4,
 "nbformat_minor": 2
}
