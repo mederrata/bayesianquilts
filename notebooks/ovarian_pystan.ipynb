{
 "cells": [
  {
   "cell_type": "code",
   "execution_count": 1,
   "metadata": {},
   "outputs": [],
   "source": [
    "%matplotlib inline\n",
    "\n",
    "from cmdstanpy import CmdStanModel\n",
    "import numpy as np\n",
    "import pandas as pd\n",
    "from pathlib import Path\n",
    "import nest_asyncio\n",
    "nest_asyncio.apply()\n",
    "\n"
   ]
  },
  {
   "cell_type": "code",
   "execution_count": 2,
   "metadata": {},
   "outputs": [
    {
     "name": "stderr",
     "output_type": "stream",
     "text": [
      "2024-02-08 05:02:56.765221: I external/local_tsl/tsl/cuda/cudart_stub.cc:31] Could not find cuda drivers on your machine, GPU will not be used.\n",
      "2024-02-08 05:02:56.809740: E external/local_xla/xla/stream_executor/cuda/cuda_dnn.cc:9261] Unable to register cuDNN factory: Attempting to register factory for plugin cuDNN when one has already been registered\n",
      "2024-02-08 05:02:56.809784: E external/local_xla/xla/stream_executor/cuda/cuda_fft.cc:607] Unable to register cuFFT factory: Attempting to register factory for plugin cuFFT when one has already been registered\n",
      "2024-02-08 05:02:56.811213: E external/local_xla/xla/stream_executor/cuda/cuda_blas.cc:1515] Unable to register cuBLAS factory: Attempting to register factory for plugin cuBLAS when one has already been registered\n",
      "2024-02-08 05:02:56.820955: I external/local_tsl/tsl/cuda/cudart_stub.cc:31] Could not find cuda drivers on your machine, GPU will not be used.\n",
      "2024-02-08 05:02:56.821721: I tensorflow/core/platform/cpu_feature_guard.cc:182] This TensorFlow binary is optimized to use available CPU instructions in performance-critical operations.\n",
      "To enable the following instructions: AVX2 FMA, in other operations, rebuild TensorFlow with the appropriate compiler flags.\n",
      "2024-02-08 05:02:58.017135: W tensorflow/compiler/tf2tensorrt/utils/py_utils.cc:38] TF-TRT Warning: Could not find TensorRT\n"
     ]
    }
   ],
   "source": [
    "\n",
    "import tensorflow as tf\n",
    "import tensorflow_probability as tfp\n",
    "import tensorflow_probability.python.bijectors as tfb\n",
    "\n",
    "from bayesianquilts.models.logistic_regression_reparam import LogisticRegression2\n",
    "from bayesianquilts.metrics.classification import classification_metrics\n",
    "from bayesianquilts.sampler import psis, nppsis"
   ]
  },
  {
   "cell_type": "code",
   "execution_count": 3,
   "metadata": {},
   "outputs": [
    {
     "name": "stdout",
     "output_type": "stream",
     "text": [
      "(54, 1536)\n"
     ]
    }
   ],
   "source": [
    "\n",
    "X_ = pd.read_csv(Path.home() / \"workspace\" / \"bayesianquilts\"/ \"bayesianquilts\"/ \"data\" / \"overianx.csv\", header=None)\n",
    "y_ = pd.read_table(Path.home() / \"workspace\" / \"bayesianquilts\"/ \"bayesianquilts\"/ \"data\" / \"overiany.csv\", header=None)\n",
    "\n",
    "\n",
    "X_scaled = (X_ - X_.mean())/X_.std()\n",
    "X_scaled = X_scaled.fillna(0).to_numpy()\n",
    "y_ = y_.to_numpy()\n",
    "N = X_scaled.shape[0]\n",
    "d = X_scaled.shape[1]\n",
    "\n",
    "print((N, d))"
   ]
  },
  {
   "cell_type": "code",
   "execution_count": 4,
   "metadata": {},
   "outputs": [],
   "source": [
    "logistic_horseshoe_code = \"\"\"\n",
    "data {\n",
    "  int <lower=0> N;                // number  of  observations\n",
    "  int <lower=0> d;                // number  of  predictors\n",
    "  array[N] int<lower=0,upper=1> y;      // outputs\n",
    "  matrix[N,d] x;                  // inputs\n",
    "  real <lower=0>  scale_icept;    // prior  std for  the  intercept\n",
    "  real <lower=0>  scale_global;   // scale  for  the half -t prior  for  tau\n",
    "  real <lower=1>  nu_global;      // degrees  of  freedom  for the half -t prior for tau\n",
    "  real <lower=1> nu_local;        // degrees  of  freedom  for  the half -t priors for  lambdas\n",
    "  real <lower=0>  slab_scale;     // slab  scale  for  the  regularized  horseshoe\n",
    "  real <lower=0> slab_df;         // slab  degrees  of  freedom  for the  regularized horseshoe\n",
    "\n",
    "  //int<lower=0> N_tilde;\n",
    "  //matrix[N_tilde, d] x_tilde;\n",
    "  //array[N_tilde] int<lower=0,upper=1> y_obs;\n",
    "}\n",
    "parameters {\n",
    "  real  beta0;\n",
    "  vector[d] z;\n",
    "  real <lower=0> tau;             // global  shrinkage  parameter\n",
    "  vector <lower =0>[d] lambda;    // local  shrinkage  parameter\n",
    "  real <lower=0> caux;\n",
    "}\n",
    "transformed  parameters {\n",
    "  vector <lower =0>[d] lambda_tilde;    // ’truncated ’ local  shrinkage  parameter\n",
    "  real <lower=0> c;                     // slab  scale\n",
    "  vector[d] beta;                       // regression  coefficients\n",
    "  vector[N] f;                          // latent  function  values\n",
    "  c = slab_scale * sqrt(caux);\n",
    "  lambda_tilde = sqrt( c^2 * square(lambda) ./ (c^2 + tau^2* square(lambda )) );\n",
    "  beta = z .*  lambda_tilde*tau;\n",
    "  f = beta0 + x*beta;\n",
    "}\n",
    "model {\n",
    "  z ~ normal(0.0, 1.0); // half -t priors  for  lambdas  and tau , and  inverse -gamma  for c^2\n",
    "  lambda ~ student_t(nu_local , 0.0, 1.0);\n",
    "  tau ~ student_t(nu_global , 0.0, scale_global);\n",
    "  caux ~ inv_gamma (0.5* slab_df , 0.5* slab_df );\n",
    "  beta0 ~ normal(0.0,  scale_icept );\n",
    "  y ~ bernoulli_logit(f);\n",
    "}\n",
    "generated quantities {\n",
    "  vector[N] log_lik;\n",
    "  // vector[N_tilde] loo_log_lik;\n",
    "\n",
    "  for (nn in 1:N)\n",
    "    log_lik[nn] = bernoulli_logit_lpmf(y[nn] | x[nn] * beta + beta0);\n",
    "\n",
    "  //for (nn in 1:N_tilde)\n",
    "  //  loo_log_lik[nn] = bernoulli_logit_lpmf(y_obs[nn] | x_tilde[nn] * beta + beta0);\n",
    "}\n",
    "\"\"\"\n",
    "\n",
    "with open(\"ovarian_model.stan\", 'w') as f:\n",
    "  f.writelines(logistic_horseshoe_code)\n"
   ]
  },
  {
   "cell_type": "code",
   "execution_count": 5,
   "metadata": {},
   "outputs": [
    {
     "name": "stderr",
     "output_type": "stream",
     "text": [
      "05:03:00 - cmdstanpy - INFO - compiling stan file /home/josh/workspace/bayesianquilts/notebooks/ovarian_model.stan to exe file /home/josh/workspace/bayesianquilts/notebooks/ovarian_model\n"
     ]
    },
    {
     "name": "stderr",
     "output_type": "stream",
     "text": [
      "05:03:42 - cmdstanpy - INFO - compiled model executable: /home/josh/workspace/bayesianquilts/notebooks/ovarian_model\n"
     ]
    }
   ],
   "source": [
    "sm = CmdStanModel(stan_file=\"ovarian_model.stan\")"
   ]
  },
  {
   "cell_type": "code",
   "execution_count": 6,
   "metadata": {},
   "outputs": [],
   "source": [
    "guessnumrelevcov = N/100 #20.\n",
    "slab_scale = 2.5\n",
    "scale_icept = 5.0\n",
    "nu_global = 1\n",
    "nu_local = 1\n",
    "slab_df = 1\n",
    "scale_global = guessnumrelevcov / ((d - guessnumrelevcov) * np.sqrt(N))\n",
    "\n",
    "control = {\"adapt_delta\": 0.9995, \"max_treedepth\": 15}\n",
    "\n",
    "ovarian_data = {\n",
    "    \"N\": N,\n",
    "    \"d\": d,\n",
    "    \"slab_df\": slab_df,\n",
    "    \"slab_scale\": slab_scale,\n",
    "    \"scale_icept\": scale_icept,\n",
    "    \"nu_global\": 1,\n",
    "    \"nu_local\": 1,\n",
    "    \"scale_global\": scale_global,\n",
    "    \"y\": y_.astype(int)[:, 0].tolist(),\n",
    "    \"x\": X_scaled.tolist(),\n",
    "}\n",
    "\n",
    "import json\n",
    "with open(\"ovarian_data.json\", 'w') as f:\n",
    "    json.dump(ovarian_data, f)"
   ]
  },
  {
   "cell_type": "code",
   "execution_count": 7,
   "metadata": {},
   "outputs": [
    {
     "name": "stderr",
     "output_type": "stream",
     "text": [
      "05:03:42 - cmdstanpy - INFO - CmdStan start processing\n"
     ]
    },
    {
     "data": {
      "application/vnd.jupyter.widget-view+json": {
       "model_id": "65e73aa1d4e64cb6abb38cec0ffdfc17",
       "version_major": 2,
       "version_minor": 0
      },
      "text/plain": [
       "chain 1 |          | 00:00 Status"
      ]
     },
     "metadata": {},
     "output_type": "display_data"
    },
    {
     "data": {
      "application/vnd.jupyter.widget-view+json": {
       "model_id": "b42e384bfa3b409c9eabf5dbc1350682",
       "version_major": 2,
       "version_minor": 0
      },
      "text/plain": [
       "chain 2 |          | 00:00 Status"
      ]
     },
     "metadata": {},
     "output_type": "display_data"
    },
    {
     "data": {
      "application/vnd.jupyter.widget-view+json": {
       "model_id": "18b7dfdfd6194c6e8ae6a03be681b6a2",
       "version_major": 2,
       "version_minor": 0
      },
      "text/plain": [
       "chain 3 |          | 00:00 Status"
      ]
     },
     "metadata": {},
     "output_type": "display_data"
    },
    {
     "data": {
      "application/vnd.jupyter.widget-view+json": {
       "model_id": "a231cc23a5e34be39b03276868fbf14b",
       "version_major": 2,
       "version_minor": 0
      },
      "text/plain": [
       "chain 4 |          | 00:00 Status"
      ]
     },
     "metadata": {},
     "output_type": "display_data"
    },
    {
     "name": "stdout",
     "output_type": "stream",
     "text": [
      "                                                                                                                                                                                                                                                                                                                                "
     ]
    },
    {
     "name": "stderr",
     "output_type": "stream",
     "text": [
      "05:34:03 - cmdstanpy - INFO - CmdStan done processing.\n",
      "05:34:03 - cmdstanpy - WARNING - Non-fatal error during sampling:\n",
      "Exception: ovarian_model_model_namespace::log_prob: lambda_tilde[1] is -nan, but must be greater than or equal to 0.000000 (in 'ovarian_model.stan', line 26, column 2 to column 36)\n",
      "Exception: ovarian_model_model_namespace::log_prob: lambda_tilde[1] is -nan, but must be greater than or equal to 0.000000 (in 'ovarian_model.stan', line 26, column 2 to column 36)\n",
      "Exception: ovarian_model_model_namespace::log_prob: lambda_tilde[1] is -nan, but must be greater than or equal to 0.000000 (in 'ovarian_model.stan', line 26, column 2 to column 36)\n",
      "Consider re-running with show_console=True if the above output is unclear!\n"
     ]
    },
    {
     "name": "stdout",
     "output_type": "stream",
     "text": [
      "\n"
     ]
    },
    {
     "name": "stderr",
     "output_type": "stream",
     "text": [
      "05:34:04 - cmdstanpy - WARNING - Some chains may have failed to converge.\n",
      "\tChain 2 had 2 divergent transitions (0.2%)\n",
      "\tUse the \"diagnose()\" method on the CmdStanMCMC object to see further information.\n"
     ]
    }
   ],
   "source": [
    "fit = sm.sample(\n",
    "    data=\"ovarian_data.json\",\n",
    "    iter_warmup=12000,\n",
    "    iter_sampling=1000,\n",
    "    thin=2,\n",
    "    adapt_delta=0.9995,\n",
    "    max_treedepth=15,\n",
    ")"
   ]
  },
  {
   "cell_type": "code",
   "execution_count": 8,
   "metadata": {},
   "outputs": [
    {
     "name": "stdout",
     "output_type": "stream",
     "text": [
      "CmdStanMCMC: model=ovarian_model chains=4['method=sample', 'num_samples=1000', 'num_warmup=12000', 'thin=2', 'algorithm=hmc', 'engine=nuts', 'max_depth=15', 'adapt', 'engaged=1', 'delta=0.9995']\n",
      " csv_files:\n",
      "\t/tmp/tmp2ene0wb_/ovarian_model2qo81bik/ovarian_model-20240208050342_1.csv\n",
      "\t/tmp/tmp2ene0wb_/ovarian_model2qo81bik/ovarian_model-20240208050342_2.csv\n",
      "\t/tmp/tmp2ene0wb_/ovarian_model2qo81bik/ovarian_model-20240208050342_3.csv\n",
      "\t/tmp/tmp2ene0wb_/ovarian_model2qo81bik/ovarian_model-20240208050342_4.csv\n",
      " output_files:\n",
      "\t/tmp/tmp2ene0wb_/ovarian_model2qo81bik/ovarian_model-20240208050342_0-stdout.txt\n",
      "\t/tmp/tmp2ene0wb_/ovarian_model2qo81bik/ovarian_model-20240208050342_1-stdout.txt\n",
      "\t/tmp/tmp2ene0wb_/ovarian_model2qo81bik/ovarian_model-20240208050342_2-stdout.txt\n",
      "\t/tmp/tmp2ene0wb_/ovarian_model2qo81bik/ovarian_model-20240208050342_3-stdout.txt\n"
     ]
    }
   ],
   "source": [
    "print(fit)"
   ]
  },
  {
   "cell_type": "code",
   "execution_count": 9,
   "metadata": {},
   "outputs": [
    {
     "name": "stdout",
     "output_type": "stream",
     "text": [
      "Processing csv files: /tmp/tmp2ene0wb_/ovarian_model2qo81bik/ovarian_model-20240208050342_1.csv, /tmp/tmp2ene0wb_/ovarian_model2qo81bik/ovarian_model-20240208050342_2.csv, /tmp/tmp2ene0wb_/ovarian_model2qo81bik/ovarian_model-20240208050342_3.csv, /tmp/tmp2ene0wb_/ovarian_model2qo81bik/ovarian_model-20240208050342_4.csv\n",
      "\n",
      "Checking sampler transitions treedepth.\n",
      "Treedepth satisfactory for all transitions.\n",
      "\n",
      "Checking sampler transitions for divergences.\n",
      "2 of 2000 (0.10%) transitions ended with a divergence.\n",
      "These divergent transitions indicate that HMC is not fully able to explore the posterior distribution.\n",
      "Try increasing adapt delta closer to 1.\n",
      "If this doesn't remove all divergences, try to reparameterize the model.\n",
      "\n",
      "Checking E-BFMI - sampler transitions HMC potential energy.\n",
      "E-BFMI satisfactory.\n",
      "\n",
      "Effective sample size satisfactory.\n",
      "\n",
      "The following parameters had split R-hat greater than 1.05:\n",
      "  z[1483], beta[93], beta[1483], log_lik[24]\n",
      "Such high values indicate incomplete mixing and biased estimation.\n",
      "You should consider regularizating your model with additional prior information or a more effective parameterization.\n",
      "\n",
      "Processing complete.\n",
      "\n"
     ]
    }
   ],
   "source": [
    "print(fit.diagnose())"
   ]
  },
  {
   "cell_type": "code",
   "execution_count": 10,
   "metadata": {},
   "outputs": [
    {
     "data": {
      "text/html": [
       "<div>\n",
       "<style scoped>\n",
       "    .dataframe tbody tr th:only-of-type {\n",
       "        vertical-align: middle;\n",
       "    }\n",
       "\n",
       "    .dataframe tbody tr th {\n",
       "        vertical-align: top;\n",
       "    }\n",
       "\n",
       "    .dataframe thead th {\n",
       "        text-align: right;\n",
       "    }\n",
       "</style>\n",
       "<table border=\"1\" class=\"dataframe\">\n",
       "  <thead>\n",
       "    <tr style=\"text-align: right;\">\n",
       "      <th></th>\n",
       "      <th>Mean</th>\n",
       "      <th>MCSE</th>\n",
       "      <th>StdDev</th>\n",
       "      <th>5%</th>\n",
       "      <th>50%</th>\n",
       "      <th>95%</th>\n",
       "      <th>N_Eff</th>\n",
       "      <th>N_Eff/s</th>\n",
       "      <th>R_hat</th>\n",
       "    </tr>\n",
       "  </thead>\n",
       "  <tbody>\n",
       "    <tr>\n",
       "      <th>lp__</th>\n",
       "      <td>-2927.380000</td>\n",
       "      <td>1.469400</td>\n",
       "      <td>44.574400</td>\n",
       "      <td>-3003.610000</td>\n",
       "      <td>-2926.550000</td>\n",
       "      <td>-2.856580e+03</td>\n",
       "      <td>920.221</td>\n",
       "      <td>2.466430</td>\n",
       "      <td>1.00255</td>\n",
       "    </tr>\n",
       "    <tr>\n",
       "      <th>beta0</th>\n",
       "      <td>2.487660</td>\n",
       "      <td>0.067268</td>\n",
       "      <td>1.909650</td>\n",
       "      <td>0.424478</td>\n",
       "      <td>2.048370</td>\n",
       "      <td>6.090580e+00</td>\n",
       "      <td>805.929</td>\n",
       "      <td>2.160090</td>\n",
       "      <td>1.00297</td>\n",
       "    </tr>\n",
       "    <tr>\n",
       "      <th>z[1]</th>\n",
       "      <td>-0.011561</td>\n",
       "      <td>0.024231</td>\n",
       "      <td>0.985025</td>\n",
       "      <td>-1.628140</td>\n",
       "      <td>-0.031509</td>\n",
       "      <td>1.607080e+00</td>\n",
       "      <td>1652.540</td>\n",
       "      <td>4.429240</td>\n",
       "      <td>1.00220</td>\n",
       "    </tr>\n",
       "    <tr>\n",
       "      <th>z[2]</th>\n",
       "      <td>-0.010510</td>\n",
       "      <td>0.025338</td>\n",
       "      <td>0.972759</td>\n",
       "      <td>-1.595340</td>\n",
       "      <td>-0.028541</td>\n",
       "      <td>1.550910e+00</td>\n",
       "      <td>1473.860</td>\n",
       "      <td>3.950320</td>\n",
       "      <td>1.00498</td>\n",
       "    </tr>\n",
       "    <tr>\n",
       "      <th>z[3]</th>\n",
       "      <td>0.003591</td>\n",
       "      <td>0.025625</td>\n",
       "      <td>0.996228</td>\n",
       "      <td>-1.688680</td>\n",
       "      <td>-0.003906</td>\n",
       "      <td>1.643760e+00</td>\n",
       "      <td>1511.370</td>\n",
       "      <td>4.050860</td>\n",
       "      <td>1.00126</td>\n",
       "    </tr>\n",
       "    <tr>\n",
       "      <th>...</th>\n",
       "      <td>...</td>\n",
       "      <td>...</td>\n",
       "      <td>...</td>\n",
       "      <td>...</td>\n",
       "      <td>...</td>\n",
       "      <td>...</td>\n",
       "      <td>...</td>\n",
       "      <td>...</td>\n",
       "      <td>...</td>\n",
       "    </tr>\n",
       "    <tr>\n",
       "      <th>log_lik[50]</th>\n",
       "      <td>-0.007836</td>\n",
       "      <td>0.001069</td>\n",
       "      <td>0.031709</td>\n",
       "      <td>-0.039986</td>\n",
       "      <td>-0.000211</td>\n",
       "      <td>-3.484000e-13</td>\n",
       "      <td>879.584</td>\n",
       "      <td>2.357510</td>\n",
       "      <td>1.00355</td>\n",
       "    </tr>\n",
       "    <tr>\n",
       "      <th>log_lik[51]</th>\n",
       "      <td>-0.007415</td>\n",
       "      <td>0.002001</td>\n",
       "      <td>0.056343</td>\n",
       "      <td>-0.027545</td>\n",
       "      <td>-0.000072</td>\n",
       "      <td>-7.600000e-15</td>\n",
       "      <td>792.808</td>\n",
       "      <td>2.124930</td>\n",
       "      <td>1.00269</td>\n",
       "    </tr>\n",
       "    <tr>\n",
       "      <th>log_lik[52]</th>\n",
       "      <td>-0.015884</td>\n",
       "      <td>0.002485</td>\n",
       "      <td>0.106611</td>\n",
       "      <td>-0.052194</td>\n",
       "      <td>-0.000107</td>\n",
       "      <td>-5.496000e-13</td>\n",
       "      <td>1840.020</td>\n",
       "      <td>4.931720</td>\n",
       "      <td>1.00032</td>\n",
       "    </tr>\n",
       "    <tr>\n",
       "      <th>log_lik[53]</th>\n",
       "      <td>-0.735876</td>\n",
       "      <td>0.049252</td>\n",
       "      <td>0.887411</td>\n",
       "      <td>-2.566360</td>\n",
       "      <td>-0.384133</td>\n",
       "      <td>-1.714410e-07</td>\n",
       "      <td>324.635</td>\n",
       "      <td>0.870103</td>\n",
       "      <td>1.00055</td>\n",
       "    </tr>\n",
       "    <tr>\n",
       "      <th>log_lik[54]</th>\n",
       "      <td>-0.008991</td>\n",
       "      <td>0.001248</td>\n",
       "      <td>0.049294</td>\n",
       "      <td>-0.034631</td>\n",
       "      <td>-0.000096</td>\n",
       "      <td>-1.000000e-16</td>\n",
       "      <td>1559.780</td>\n",
       "      <td>4.180600</td>\n",
       "      <td>1.00053</td>\n",
       "    </tr>\n",
       "  </tbody>\n",
       "</table>\n",
       "<p>6257 rows × 9 columns</p>\n",
       "</div>"
      ],
      "text/plain": [
       "                    Mean      MCSE     StdDev           5%          50%  \\\n",
       "lp__        -2927.380000  1.469400  44.574400 -3003.610000 -2926.550000   \n",
       "beta0           2.487660  0.067268   1.909650     0.424478     2.048370   \n",
       "z[1]           -0.011561  0.024231   0.985025    -1.628140    -0.031509   \n",
       "z[2]           -0.010510  0.025338   0.972759    -1.595340    -0.028541   \n",
       "z[3]            0.003591  0.025625   0.996228    -1.688680    -0.003906   \n",
       "...                  ...       ...        ...          ...          ...   \n",
       "log_lik[50]    -0.007836  0.001069   0.031709    -0.039986    -0.000211   \n",
       "log_lik[51]    -0.007415  0.002001   0.056343    -0.027545    -0.000072   \n",
       "log_lik[52]    -0.015884  0.002485   0.106611    -0.052194    -0.000107   \n",
       "log_lik[53]    -0.735876  0.049252   0.887411    -2.566360    -0.384133   \n",
       "log_lik[54]    -0.008991  0.001248   0.049294    -0.034631    -0.000096   \n",
       "\n",
       "                      95%     N_Eff   N_Eff/s    R_hat  \n",
       "lp__        -2.856580e+03   920.221  2.466430  1.00255  \n",
       "beta0        6.090580e+00   805.929  2.160090  1.00297  \n",
       "z[1]         1.607080e+00  1652.540  4.429240  1.00220  \n",
       "z[2]         1.550910e+00  1473.860  3.950320  1.00498  \n",
       "z[3]         1.643760e+00  1511.370  4.050860  1.00126  \n",
       "...                   ...       ...       ...      ...  \n",
       "log_lik[50] -3.484000e-13   879.584  2.357510  1.00355  \n",
       "log_lik[51] -7.600000e-15   792.808  2.124930  1.00269  \n",
       "log_lik[52] -5.496000e-13  1840.020  4.931720  1.00032  \n",
       "log_lik[53] -1.714410e-07   324.635  0.870103  1.00055  \n",
       "log_lik[54] -1.000000e-16  1559.780  4.180600  1.00053  \n",
       "\n",
       "[6257 rows x 9 columns]"
      ]
     },
     "execution_count": 10,
     "metadata": {},
     "output_type": "execute_result"
    }
   ],
   "source": [
    "fit.summary()"
   ]
  },
  {
   "cell_type": "code",
   "execution_count": 11,
   "metadata": {},
   "outputs": [
    {
     "data": {
      "text/plain": [
       "(2000,)"
      ]
     },
     "execution_count": 11,
     "metadata": {},
     "output_type": "execute_result"
    }
   ],
   "source": [
    "fit.stan_variable('beta0').shape"
   ]
  },
  {
   "cell_type": "code",
   "execution_count": 12,
   "metadata": {},
   "outputs": [
    {
     "data": {
      "text/plain": [
       "((2000, 1536), (54, 1536))"
      ]
     },
     "execution_count": 12,
     "metadata": {},
     "output_type": "execute_result"
    }
   ],
   "source": [
    "fit.stan_variable('beta').shape, X_scaled.shape"
   ]
  },
  {
   "cell_type": "code",
   "execution_count": 13,
   "metadata": {},
   "outputs": [
    {
     "data": {
      "text/plain": [
       "<matplotlib.colorbar.Colorbar at 0x7fa9347cfa90>"
      ]
     },
     "execution_count": 13,
     "metadata": {},
     "output_type": "execute_result"
    },
    {
     "data": {
      "image/png": "[encoded data removed]",
      "text/plain": [
       "<Figure size 100x700 with 2 Axes>"
      ]
     },
     "metadata": {},
     "output_type": "display_data"
    }
   ],
   "source": [
    "from matplotlib import pyplot as plt\n",
    "beta = tf.reduce_mean(fit.stan_variable(\"beta\"), axis=1, keepdims=True)\n",
    "fig, ax = plt.subplots(1, 1, figsize=(1, 7))\n",
    "im = ax.pcolormesh(beta, cmap='seismic_r')\n",
    "plt.colorbar(im)"
   ]
  },
  {
   "cell_type": "code",
   "execution_count": 67,
   "metadata": {},
   "outputs": [],
   "source": [
    "params = fit.stan_variables()\n",
    "params.keys()\n",
    "params['c'] = params['c'][:, tf.newaxis]\n",
    "params['tau'] = params['tau'][:, tf.newaxis]\n",
    "params['caux'] = params['caux'][:, tf.newaxis]\n",
    "params['beta0'] = params['beta0'][:, tf.newaxis]\n",
    "\n",
    "n_samples = 128\n",
    "params = {k: v[:n_samples] for k, v in params.items()}"
   ]
  },
  {
   "cell_type": "code",
   "execution_count": 166,
   "metadata": {},
   "outputs": [],
   "source": [
    "lr_model = LogisticRegression2(\n",
    "    dim_regressors=d,\n",
    "    slab_df=slab_df,\n",
    "    slab_scale=slab_scale,\n",
    "    scale_icept=scale_icept,\n",
    "    nu_global=1,\n",
    "    nu_local=1,\n",
    "    scale_global=scale_global,\n",
    ")"
   ]
  },
  {
   "cell_type": "code",
   "execution_count": 167,
   "metadata": {},
   "outputs": [
    {
     "data": {
      "text/plain": [
       "(2000, 1536)"
      ]
     },
     "execution_count": 167,
     "metadata": {},
     "output_type": "execute_result"
    }
   ],
   "source": [
    "fit.stan_variable(\"beta\").shape"
   ]
  },
  {
   "cell_type": "code",
   "execution_count": 168,
   "metadata": {},
   "outputs": [],
   "source": [
    "\n",
    "\n",
    "tfdata = tf.data.Dataset.from_tensor_slices({'X': X_scaled, 'y':y_})\n",
    "batch_size = 56\n",
    "def data_factory_factory(batch_size=batch_size, repeat=False, shuffle=False):\n",
    "    def data_factory(batch_size=batch_size):\n",
    "        if shuffle:\n",
    "            out = tfdata.shuffle(batch_size*10)\n",
    "        else:\n",
    "            out = tfdata\n",
    "        \n",
    "        if repeat:\n",
    "            out = out.repeat()\n",
    "        return out.batch(batch_size)\n",
    "    return data_factory\n",
    "\n",
    "batch = next(iter(data_factory_factory()()))"
   ]
  },
  {
   "cell_type": "code",
   "execution_count": 169,
   "metadata": {},
   "outputs": [
    {
     "name": "stderr",
     "output_type": "stream",
     "text": [
      "1it [00:00, 36.47it/s]\n"
     ]
    },
    {
     "data": {
      "text/plain": [
       "(0.0, 1.0)"
      ]
     },
     "execution_count": 169,
     "metadata": {},
     "output_type": "execute_result"
    },
    {
     "data": {
      "image/png": "[encoded data removed]",
      "text/plain": [
       "<Figure size 900x200 with 2 Axes>"
      ]
     },
     "metadata": {},
     "output_type": "display_data"
    }
   ],
   "source": [
    "def prediction_fn(data):\n",
    "    pred = lr_model.predictive_distribution(data, **params)[\"logits\"]\n",
    "    return tf.reduce_mean(pred, axis=0)\n",
    "\n",
    "bench = classification_metrics(\n",
    "    data_factory=data_factory_factory(),\n",
    "    prediction_fn=prediction_fn,\n",
    "    outcome_label='y',\n",
    "    by_vars=[]\n",
    ")\n",
    "\n",
    "fig, ax = plt.subplots(1, 2, figsize=(9, 2))\n",
    "ax[0].plot(bench['auroc']['fpr'], bench['auroc']['tpr'])\n",
    "ax[0].text(0.5, 0.1, f\"AUROC: {round(bench['auroc']['auroc'], 2)}\")\n",
    "ax[0].set_xlim((0, 1))\n",
    "ax[0].set_ylim((0, 1))\n",
    "ax[0].set_title(\"ROC\")\n",
    "\n",
    "ax[1].plot(bench['auprc']['recall'], bench['auprc']['precision'])\n",
    "ax[1].text(0.5, 0.8, f\"AUPRC: {round(bench['auprc']['auprc'], 2)}\")\n",
    "ax[1].set_title(\"Precision-Recall\")\n",
    "ax[1].set_xlim((0, 1))\n",
    "ax[1].set_ylim((0, 1))"
   ]
  },
  {
   "cell_type": "code",
   "execution_count": 170,
   "metadata": {},
   "outputs": [
    {
     "name": "stdout",
     "output_type": "stream",
     "text": [
      "I: 0.04835355754972338 entropy: 15.950117221290462 khat>0.7: 23\n",
      "LL: 0.04833177060219696 entropy: 15.906443037488618 khat>0.7: 31\n",
      "KL: 0.04833177060219696 entropy: 15.949402273278553 khat>0.7: 21\n",
      "Var: 0.04795049591761638 entropy: 15.948356297869655 khat>0.7: 22\n"
     ]
    }
   ],
   "source": [
    "def entropy(probs):\n",
    "    return -tf.math.xlogy(probs, probs)\n",
    "\n",
    "\n",
    "def adaptive_is_loo(self, data, params, hbar=1.0, variational=True):\n",
    "    \"\"\"_summary_\n",
    "\n",
    "    Args:\n",
    "        data (_type_): _description_\n",
    "        params (_type_): _description_\n",
    "        hbar (float, optional): _description_. Defaults to 1.0.\n",
    "        variational (bool, optional):\n",
    "            Should we trust the variational approximation?\n",
    "            If False, assumes that one is passing in all the data at once in a single batch.\n",
    "            Defaults to True.\n",
    "\n",
    "    Returns:\n",
    "        _type_: _description_\n",
    "    \"\"\"\n",
    "\n",
    "    # scaled (theta - bar(theta))/Sigma\n",
    "    c = self.slab_scale * tf.math.sqrt(params[\"caux\"])\n",
    "    lambda_tilde = tf.math.sqrt(\n",
    "        c**2\n",
    "        * params[\"lambda\"] ** 2\n",
    "        / (c**2 + params[\"tau\"] ** 2 * params[\"lambda\"] ** 2)\n",
    "    )\n",
    "    beta = params[\"z\"] * lambda_tilde * params[\"tau\"]\n",
    "    intercept = params[\"beta0\"]\n",
    "    X = tf.cast(data[\"X\"], self.dtype)\n",
    "    y = tf.cast(data[\"y\"], self.dtype)[:, 0]\n",
    "    mu = beta[..., tf.newaxis, :] * X\n",
    "    mu = tf.reduce_sum(mu, -1) + params[\"beta0\"]\n",
    "    sigma = tf.math.sigmoid(mu)\n",
    "    ell = y * (sigma) + (1 - y) * (1 - sigma)\n",
    "    log_ell = tf.math.xlogy(y, sigma) + tf.math.xlogy(1 - y, 1 - sigma)\n",
    "    log_ell_prime = y * (1 - sigma) - (1 - y) * sigma\n",
    "    log_ell_doubleprime = -sigma * (1 - sigma)\n",
    "    _, khat0 = nppsis.psislw(-log_ell)\n",
    "\n",
    "    \"\"\"\n",
    "    sigma.shape is samples x datapoints\n",
    "    \"\"\"\n",
    "\n",
    "    # compute # \\nabla\\log\\pi(\\btheta|\\calD)\n",
    "    if variational:\n",
    "        # \\nabla\\log\\pi = -\\Sigma^{-1}(theta - \\bar{\\theta})\n",
    "        grad_log_pi = tf.concat(\n",
    "            [\n",
    "                -(intercept - self.surrogate_distribution.model[\"intercept__\"].mean())\n",
    "                / self.surrogate_distribution.model[\"intercept__\"].variance(),\n",
    "                -(beta - self.surrogate_distribution.model[\"beta__\"].mean())\n",
    "                / self.surrogate_distribution.model[\"beta__\"].variance(),\n",
    "            ],\n",
    "            axis=-1,\n",
    "        )\n",
    "        intercept_sd = (\n",
    "            self.surrogate_distribution.model[\"intercept__\"].variance() ** 0.5\n",
    "        )\n",
    "        beta_sd = self.surrogate_distribution.model[\"beta__\"].variance() ** 0.5\n",
    "\n",
    "        log_pi = self.surrogate_distribution.model[\"beta__\"].log_prob(\n",
    "            params[\"beta__\"]\n",
    "        ) + self.surrogate_distribution.model[\"intercept__\"].log_prob(\n",
    "            params[\"intercept__\"]\n",
    "        )\n",
    "        log_pi -= tf.reduce_max(log_pi, axis=0)\n",
    "        # log_pi.shape: [samples]\n",
    "    else:\n",
    "        \"\"\"\n",
    "        Recall Bayes rule:\n",
    "        \\log pi(\\btheta|\\calD) = \\sum_i\\log ell_i(\\btheta) + \\log\\pi(\\btheta) + const\n",
    "\n",
    "        so\n",
    "        \\nabla\\log\\pi(\\btheta|\\calD) = \\sum_i (ell_i)'x + grad\\log\\pi(\\btheta)\n",
    "\n",
    "        \"\"\"\n",
    "        log_prior = self.prior_distribution.log_prob_parts(params)\n",
    "        log_prior = log_prior[\"z\"] + log_prior[\"beta0\"]\n",
    "\n",
    "        log_pi = tf.reduce_sum(log_ell, axis=1, keepdims=True)[:, 0]\n",
    "\n",
    "        # pi \\propto\n",
    "        grad_log_pi = tf.concat(\n",
    "            [\n",
    "                tf.reduce_sum(log_ell_prime[..., tf.newaxis], axis=1, keepdims=True),\n",
    "                tf.reduce_sum(\n",
    "                    log_ell_prime[..., tf.newaxis] * X, axis=1, keepdims=True\n",
    "                ),\n",
    "            ],\n",
    "            axis=-1,\n",
    "        )\n",
    "\n",
    "        grad_log_prior = -0.5 * tf.concat(\n",
    "            [(params[\"beta0\"] / self.scale_icept) ** 2, (params[\"z\"]) ** 2],\n",
    "            axis=-1,\n",
    "        )\n",
    "        grad_log_pi += grad_log_prior[:, tf.newaxis, :]\n",
    "\n",
    "        intercept_sd = tf.math.reduce_std(intercept, 0, keepdims=True)\n",
    "        beta_sd = tf.math.reduce_std(beta, 0, keepdims=True)\n",
    "\n",
    "    # log-likelihood descent\n",
    "\n",
    "    def T_ll():\n",
    "        Q_beta = -log_ell_prime[..., tf.newaxis] * X\n",
    "        Q_intercept = -log_ell_prime[..., tf.newaxis]\n",
    "\n",
    "        standardized = tf.concat(\n",
    "            [Q_beta / beta_sd, Q_intercept / intercept_sd], axis=-1\n",
    "        )\n",
    "        standardized = tf.reduce_max(tf.math.abs(standardized), axis=-1)\n",
    "        standardized = tf.reduce_max(standardized, axis=0, keepdims=True)[\n",
    "            ..., tf.newaxis\n",
    "        ]\n",
    "\n",
    "        h = hbar / standardized\n",
    "        logJ = tf.math.log1p(\n",
    "            tf.math.abs(\n",
    "                h\n",
    "                * (1 + tf.math.reduce_sum(X**2, -1, keepdims=True))[tf.newaxis, :, :]\n",
    "                * (sigma * (1 - sigma))[..., tf.newaxis]\n",
    "            )[..., 0]\n",
    "        )\n",
    "        beta_ll = beta[..., tf.newaxis, :] + h * Q_beta\n",
    "        intercept_ll = intercept[..., tf.newaxis, :] + h * Q_intercept\n",
    "        return beta_ll, intercept_ll, logJ\n",
    "\n",
    "    def T_kl():\n",
    "        log_pi_ = log_pi - tf.reduce_max(log_pi, axis=0, keepdims=True)\n",
    "        Q_beta = ((-1) ** y * tf.math.exp(log_pi_[..., tf.newaxis] + mu * (1 - 2 * y)))[\n",
    "            ..., tf.newaxis\n",
    "        ] * X\n",
    "        Q_intercept = (\n",
    "            ((-1) ** y) * tf.math.exp(log_pi_[..., tf.newaxis] + mu * (1 - 2 * y))\n",
    "        )[..., tf.newaxis]\n",
    "\n",
    "        dQ = (-1) ** y[tf.newaxis, :] * tf.math.exp(\n",
    "            log_pi_[..., tf.newaxis] + mu * (1 - 2 * y[tf.newaxis, :])\n",
    "        )\n",
    "        dQ *= (\n",
    "            grad_log_pi[..., 0]\n",
    "            + (1 - 2 * y)[tf.newaxis, :]\n",
    "            + tf.reduce_sum(\n",
    "                X\n",
    "                * (\n",
    "                    grad_log_pi[..., 1:]\n",
    "                    + (1 - 2 * y)[:, tf.newaxis] * X[tf.newaxis, ...]\n",
    "                ),\n",
    "                axis=-1,\n",
    "            )\n",
    "        )\n",
    "\n",
    "        standardized = tf.concat(\n",
    "            [Q_beta / beta_sd, Q_intercept / intercept_sd], axis=-1\n",
    "        )\n",
    "        standardized = tf.reduce_max(tf.math.abs(standardized), axis=-1)\n",
    "        standardized = tf.reduce_max(standardized, axis=0, keepdims=True)[\n",
    "            ..., tf.newaxis\n",
    "        ]\n",
    "\n",
    "        h = hbar / standardized\n",
    "\n",
    "        intercept_kl = intercept[..., tf.newaxis] + h * Q_intercept\n",
    "        beta_kl = beta[..., tf.newaxis, :] + h * Q_beta\n",
    "\n",
    "        logJ = tf.math.log1p(tf.math.abs(h[..., 0] * dQ))\n",
    "        return beta_kl, intercept_kl, logJ\n",
    "\n",
    "    # variance descent -(log ell)'/l\n",
    "\n",
    "    def T_I():\n",
    "        Q = tf.zeros_like(log_ell)\n",
    "        return (\n",
    "            beta[:, tf.newaxis, :] + Q[..., tf.newaxis],\n",
    "            intercept[..., tf.newaxis] + Q[..., tf.newaxis],\n",
    "            tf.zeros_like(Q),\n",
    "        )\n",
    "\n",
    "    def T_var():\n",
    "        log_pi_ = log_pi - tf.reduce_max(log_pi, axis=0, keepdims=True)\n",
    "\n",
    "        Q_beta = (\n",
    "            (-1) ** y * tf.math.exp(log_pi_[..., tf.newaxis] + 2 * mu * (1 - 2 * y))\n",
    "        )[..., tf.newaxis] * X\n",
    "        Q_intercept = (\n",
    "            (-1) ** y * tf.math.exp(log_pi_[..., tf.newaxis] + 2 * mu * (1 - 2 * y))\n",
    "        )[..., tf.newaxis]\n",
    "\n",
    "        dQ = (\n",
    "            (-1) ** y[tf.newaxis, :]\n",
    "            * tf.math.exp(\n",
    "                log_pi_[..., tf.newaxis] + 2 * mu * (1 - 2 * y[tf.newaxis, :])\n",
    "            )\n",
    "            * (\n",
    "                grad_log_pi[..., 0]\n",
    "                + (1 - 2 * y)[tf.newaxis, :]\n",
    "                + tf.reduce_sum(\n",
    "                    X * (grad_log_pi[..., 1:] + 2 * (1 - 2 * y)[:, tf.newaxis] * X),\n",
    "                    axis=-1,\n",
    "                )\n",
    "            )\n",
    "        )\n",
    "\n",
    "        standardized = tf.concat(\n",
    "            [Q_beta / beta_sd, Q_intercept / intercept_sd], axis=-1\n",
    "        )\n",
    "        standardized = tf.reduce_max(tf.math.abs(standardized), axis=-1)\n",
    "        standardized = tf.reduce_max(standardized, axis=0, keepdims=True)[\n",
    "            ..., tf.newaxis\n",
    "        ]\n",
    "\n",
    "        h = hbar / standardized\n",
    "\n",
    "        intercept_kl = intercept[..., tf.newaxis, :] + h * Q_intercept\n",
    "        beta_kl = beta[..., tf.newaxis, :] + h * Q_beta\n",
    "\n",
    "        logJ = tf.math.log1p(tf.math.abs(h[..., 0] * dQ))\n",
    "        return beta_kl, intercept_kl, logJ\n",
    "\n",
    "    def IS(Q):\n",
    "        beta_new, intercept_new, logJ = Q()\n",
    "        mu_new = tf.reduce_sum(beta_new * X, axis=-1) + intercept_new[..., 0]\n",
    "        sigma_new = tf.math.sigmoid(mu_new)\n",
    "        ell_new = y * (sigma_new) + (1 - y) * (1 - sigma_new)\n",
    "        log_ell_new = tf.math.xlogy(y, sigma_new) + tf.math.xlogy(1 - y, 1 - sigma_new)\n",
    "        c = self.slab_scale * tf.math.sqrt(params[\"caux\"])\n",
    "        lambda_tilde = tf.math.sqrt(\n",
    "            c**2\n",
    "            * params[\"lambda\"] ** 2\n",
    "            / (c**2 + params[\"tau\"] ** 2 * params[\"lambda\"] ** 2)\n",
    "        )\n",
    "        transformed = params.copy()\n",
    "        transformed[\"z\"] = beta_new / (\n",
    "            lambda_tilde[:, tf.newaxis, :] * params[\"tau\"][..., tf.newaxis]\n",
    "        )\n",
    "        transformed[\"beta0\"] = intercept_new\n",
    "\n",
    "        if variational:\n",
    "            # We trust the variational approximation, so \\hat{pi} = pi\n",
    "            # N_samples x N_data\n",
    "            delta_log_pi = (\n",
    "                self.surrogate_distribution.log_prob(transformed)\n",
    "                - log_pi[:, tf.newaxis]\n",
    "            )\n",
    "            delta_log_pi = delta_log_pi - tf.reduce_max(\n",
    "                delta_log_pi, axis=0, keepdims=True\n",
    "            )\n",
    "            pass\n",
    "        else:\n",
    "            # we don't trust the variational approximation\n",
    "            # Need to compute log_pi directly by summing over the likelihood\n",
    "\n",
    "            ell_cross = tf.math.sigmoid(\n",
    "                tf.reduce_sum(beta_new[..., tf.newaxis, :] * X, -1) + intercept_new\n",
    "            )\n",
    "            ell_cross = tf.math.xlogy(y, ell_cross) + tf.math.xlogy(\n",
    "                1 - y, 1 - ell_cross\n",
    "            )\n",
    "            ell_cross = tf.math.reduce_sum(ell_cross, axis=-1)\n",
    "\n",
    "            log_prior_new = self.prior_distribution.log_prob_parts(transformed)\n",
    "            log_prior_new = log_prior_new[\"z\"] + log_prior_new[\"beta0\"]\n",
    "            log_pi_new = ell_cross\n",
    "            delta_log_prior = log_prior_new - log_prior[:, tf.newaxis]\n",
    "            # Incorporate the prior\n",
    "            delta_log_pi = log_pi_new - log_pi[:, tf.newaxis] + delta_log_prior\n",
    "        log_eta_weights = delta_log_pi - log_ell_new + logJ\n",
    "        log_eta_weights = log_eta_weights - tf.reduce_max(log_eta_weights, axis=0)\n",
    "        psis_weights, khat = nppsis.psislw(log_eta_weights)\n",
    "        _, khat_test = nppsis.psislw(-log_ell_new - tf.reduce_max(-log_ell_new, axis=0))\n",
    "\n",
    "        eta_weights = tf.math.exp(log_eta_weights)\n",
    "        eta_weights = eta_weights / tf.reduce_sum(eta_weights, axis=0, keepdims=True)\n",
    "\n",
    "        psis_weights = tf.math.exp(psis_weights)\n",
    "        psis_weights = psis_weights / tf.math.reduce_sum(\n",
    "            psis_weights, axis=0, keepdims=True\n",
    "        )\n",
    "\n",
    "        weight_entropy = self.entropy(eta_weights)\n",
    "        psis_entropy = self.entropy(psis_weights)\n",
    "\n",
    "        p_loo_new = tf.reduce_sum(sigma_new * eta_weights, axis=0)\n",
    "        p_loo_psis = tf.reduce_sum(sigma_new * psis_weights, axis=0)\n",
    "        p_loo_sd = tf.math.reduce_std(sigma_new * eta_weights, axis=0)\n",
    "        ll_loo_new = tf.reduce_sum(eta_weights * ell_new, axis=0)\n",
    "        ll_loo_psis = tf.reduce_sum(psis_weights * ell_new, axis=0)\n",
    "        ll_loo_sd = tf.math.reduce_std(eta_weights * ell_new, axis=0)\n",
    "        return (\n",
    "            eta_weights,\n",
    "            psis_weights,\n",
    "            p_loo_new,\n",
    "            p_loo_sd,\n",
    "            ll_loo_new,\n",
    "            ll_loo_sd,\n",
    "            weight_entropy,\n",
    "            khat,\n",
    "            p_loo_psis,\n",
    "            ll_loo_psis,\n",
    "        )\n",
    "\n",
    "    (\n",
    "        eta_I,\n",
    "        eta_I_psis,\n",
    "        p_loo_I,\n",
    "        p_loo_I_sd,\n",
    "        ll_loo_I,\n",
    "        ll_loo_I_sd,\n",
    "        S_I,\n",
    "        k_I,\n",
    "        p_psis_I,\n",
    "        ll_psis_I,\n",
    "    ) = IS(T_I)\n",
    "\n",
    "    (\n",
    "        eta_kl,\n",
    "        eta_kl_psis,\n",
    "        p_loo_kl,\n",
    "        p_loo_kl_sd,\n",
    "        ll_loo_kl,\n",
    "        ll_loo_kl_sd,\n",
    "        S_kl,\n",
    "        k_kl,\n",
    "        p_psis_kl,\n",
    "        ll_psis_kl,\n",
    "    ) = IS(T_kl)\n",
    "\n",
    "    (\n",
    "        eta_var,\n",
    "        eta_var_psis,\n",
    "        p_loo_var,\n",
    "        p_loo_var_sd,\n",
    "        ll_loo_var,\n",
    "        ll_loo_var_sd,\n",
    "        S_var,\n",
    "        k_var,\n",
    "        p_psis_var,\n",
    "        ll_psis_var,\n",
    "    ) = IS(T_var)\n",
    "    (\n",
    "        eta_ll,\n",
    "        eta_ll_psis,\n",
    "        p_loo_ll,\n",
    "        p_loo_ll_sd,\n",
    "        ll_loo_ll,\n",
    "        ll_loo_ll_sd,\n",
    "        S_ll,\n",
    "        k_ll,\n",
    "        p_psis_ll,\n",
    "        ll_psis_ll,\n",
    "    ) = IS(T_ll)\n",
    "    # kl descent\n",
    "\n",
    "    return {\n",
    "        \"I\": {\n",
    "            \"p_loo\": p_loo_I,\n",
    "            \"p_loo_sd\": p_loo_I_sd,\n",
    "            \"ll_loo\": ll_loo_I,\n",
    "            \"ll_loo_sd\": ll_loo_I_sd,\n",
    "            \"S\": S_I,\n",
    "            \"khat\": k_I,\n",
    "            \"p_psis\": p_psis_I,\n",
    "            \"ll_psis\": ll_psis_I,\n",
    "        },\n",
    "        \"KL\": {\n",
    "            \"p_loo\": p_loo_kl,\n",
    "            \"p_loo_sd\": p_loo_kl_sd,\n",
    "            \"ll_loo\": ll_loo_kl,\n",
    "            \"ll_loo_sd\": ll_loo_kl_sd,\n",
    "            \"S\": S_kl,\n",
    "            \"khat\": k_kl,\n",
    "            \"p_psis\": p_psis_kl,\n",
    "            \"ll_psis\": ll_psis_kl,\n",
    "        },\n",
    "        \"LL\": {\n",
    "            \"p_loo\": p_loo_kl,\n",
    "            \"p_loo_sd\": p_loo_kl_sd,\n",
    "            \"ll_loo\": ll_loo_kl,\n",
    "            \"ll_loo_sd\": ll_loo_kl_sd,\n",
    "            \"S\": S_ll,\n",
    "            \"khat\": k_ll,\n",
    "            \"p_psis\": p_psis_ll,\n",
    "            \"ll_psis\": ll_psis_ll,\n",
    "        },\n",
    "        \"Var\": {\n",
    "            \"p_loo\": p_loo_var,\n",
    "            \"p_loo_sd\": p_loo_var_sd,\n",
    "            \"ll_loo\": ll_loo_var,\n",
    "            \"ll_loo_sd\": ll_loo_var_sd,\n",
    "            \"S\": S_var,\n",
    "            \"khat\": k_var,\n",
    "            \"p_psis\": p_psis_var,\n",
    "            \"ll_psis\": ll_psis_var,\n",
    "        },\n",
    "    }\n",
    "\n",
    "\n",
    "loo = adaptive_is_loo(lr_model, batch, params, 1e-5, variational=False)\n",
    "\n",
    "# loo = adaptive_is_loo(lr_model, test_batch, param_test, 0.01, variational=False)\n",
    "\n",
    "\n",
    "for T in [\"I\", \"LL\", \"KL\", \"Var\"]:\n",
    "    print(\n",
    "        f\"{T}: {np.sqrt(np.sum(loo[T]['p_loo_sd']**2))} entropy: {np.sqrt(np.sum(loo[T]['S']))} khat>0.7: {np.sum(loo[T]['khat']>0.7)}\"\n",
    "    )"
   ]
  },
  {
   "cell_type": "code",
   "execution_count": 171,
   "metadata": {},
   "outputs": [
    {
     "data": {
      "text/plain": [
       "array([ 1,  4,  8,  9, 10, 15, 20, 23, 24, 25, 26, 31, 33, 35, 36, 37, 41,\n",
       "       47, 48, 49, 50, 51, 53])"
      ]
     },
     "execution_count": 171,
     "metadata": {},
     "output_type": "execute_result"
    }
   ],
   "source": [
    "khat = pd.DataFrame({\"khat\": loo[\"I\"]['khat']})\n",
    "khat = khat.loc[khat.khat> 0.7] \n",
    "ndx = np.array(khat.index)\n",
    "ndx"
   ]
  },
  {
   "cell_type": "code",
   "execution_count": 182,
   "metadata": {},
   "outputs": [
    {
     "name": "stdout",
     "output_type": "stream",
     "text": [
      "Samples: 32\n",
      "rho=1\n",
      "\n",
      "Transform: LL\n",
      "V: 0.19281846978362263 S: 11.325787959770985 khat>0.7: 37\n",
      "k-hat reduction for these k-hat>0.7 obs: (array([12, 24, 31, 52]),)\n"
     ]
    },
    {
     "ename": "KeyError",
     "evalue": "-1",
     "output_type": "error",
     "traceback": [
      "\u001b[0;31m---------------------------------------------------------------------------\u001b[0m",
      "\u001b[0;31mKeyError\u001b[0m                                  Traceback (most recent call last)",
      "Cell \u001b[0;32mIn[182], line 31\u001b[0m\n\u001b[1;32m     29\u001b[0m \u001b[38;5;28mprint\u001b[39m(\u001b[38;5;124mf\u001b[39m\u001b[38;5;124m\"\u001b[39m\u001b[38;5;124mk-hat reduction for these k-hat>0.7 obs: \u001b[39m\u001b[38;5;132;01m{\u001b[39;00mnp\u001b[38;5;241m.\u001b[39mwhere((loo[\u001b[38;5;124m'\u001b[39m\u001b[38;5;124mI\u001b[39m\u001b[38;5;124m'\u001b[39m][\u001b[38;5;124m'\u001b[39m\u001b[38;5;124mkhat\u001b[39m\u001b[38;5;124m'\u001b[39m]\u001b[38;5;250m \u001b[39m\u001b[38;5;241m-\u001b[39m\u001b[38;5;250m \u001b[39mloo[T][\u001b[38;5;124m'\u001b[39m\u001b[38;5;124mkhat\u001b[39m\u001b[38;5;124m'\u001b[39m]\u001b[38;5;241m>\u001b[39m\u001b[38;5;241m0\u001b[39m)\u001b[38;5;250m \u001b[39m\u001b[38;5;241m*\u001b[39m\u001b[38;5;250m \u001b[39m(loo[\u001b[38;5;124m'\u001b[39m\u001b[38;5;124mI\u001b[39m\u001b[38;5;124m'\u001b[39m][\u001b[38;5;124m'\u001b[39m\u001b[38;5;124mkhat\u001b[39m\u001b[38;5;124m'\u001b[39m]\u001b[38;5;241m>\u001b[39m\u001b[38;5;241m0.7\u001b[39m))\u001b[38;5;132;01m}\u001b[39;00m\u001b[38;5;124m\"\u001b[39m)\n\u001b[1;32m     30\u001b[0m reduced_ndx[n_samples] \u001b[38;5;241m+\u001b[39m\u001b[38;5;241m=\u001b[39m [np\u001b[38;5;241m.\u001b[39mwhere((loo[\u001b[38;5;124m'\u001b[39m\u001b[38;5;124mI\u001b[39m\u001b[38;5;124m'\u001b[39m][\u001b[38;5;124m'\u001b[39m\u001b[38;5;124mkhat\u001b[39m\u001b[38;5;124m'\u001b[39m] \u001b[38;5;241m-\u001b[39m loo[T][\u001b[38;5;124m'\u001b[39m\u001b[38;5;124mkhat\u001b[39m\u001b[38;5;124m'\u001b[39m]\u001b[38;5;241m>\u001b[39m\u001b[38;5;241m0\u001b[39m) \u001b[38;5;241m*\u001b[39m (loo[\u001b[38;5;124m'\u001b[39m\u001b[38;5;124mI\u001b[39m\u001b[38;5;124m'\u001b[39m][\u001b[38;5;124m'\u001b[39m\u001b[38;5;124mkhat\u001b[39m\u001b[38;5;124m'\u001b[39m]\u001b[38;5;241m>\u001b[39m\u001b[38;5;241m0.7\u001b[39m) \u001b[38;5;241m*\u001b[39m (loo[T][\u001b[38;5;124m'\u001b[39m\u001b[38;5;124mkhat\u001b[39m\u001b[38;5;124m'\u001b[39m]\u001b[38;5;241m<\u001b[39m\u001b[38;5;241m0.7\u001b[39m))]\n\u001b[0;32m---> 31\u001b[0m \u001b[38;5;28mprint\u001b[39m(\u001b[38;5;124mf\u001b[39m\u001b[38;5;124m\"\u001b[39m\u001b[38;5;124mk-hat reduction to below 0.7 for these k-hat>0.7 obs: \u001b[39m\u001b[38;5;132;01m{\u001b[39;00m\u001b[43mreduced_ndx\u001b[49m\u001b[43m[\u001b[49m\u001b[38;5;241;43m-\u001b[39;49m\u001b[38;5;241;43m1\u001b[39;49m\u001b[43m]\u001b[49m\u001b[38;5;132;01m}\u001b[39;00m\u001b[38;5;124m\"\u001b[39m)\n",
      "\u001b[0;31mKeyError\u001b[0m: -1"
     ]
    }
   ],
   "source": [
    "h_vals = [1, 0.5, 1e-1, 1e-2, 1e-3, 1e-4, 1e-5, 1e-6, 1e-7]\n",
    "loo_khat = {}\n",
    "reduced_ndx = {}\n",
    "n_sample = [32, 64, 128, 256, 512]\n",
    "\n",
    "for n_samples in n_sample:\n",
    "    reduced_ndx[n_samples] = []\n",
    "    print(f\"Samples: {n_samples}\")\n",
    "    loo_khat[n_samples] = {}\n",
    "    params = fit.stan_variables()\n",
    "\n",
    "    params['c'] = params['c'][:, tf.newaxis]\n",
    "    params['tau'] = params['tau'][:, tf.newaxis]\n",
    "    params['caux'] = params['caux'][:, tf.newaxis]\n",
    "    params['beta0'] = params['beta0'][:, tf.newaxis]\n",
    "    params = {k: v[:n_samples] for k, v in params.items()}\n",
    "\n",
    "    for h in h_vals:\n",
    "        loo_khat[n_samples][h] = {}\n",
    "\n",
    "        loo = adaptive_is_loo(lr_model, batch, params, h, variational=False)\n",
    "        print(f\"rho={h}\\n\")\n",
    "        for T in [\"LL\", \"KL\", \"Var\"]:\n",
    "            loo_khat[n_samples][h][T] = np.array(loo[T]['khat'])[ndx]\n",
    "            print(f\"Transform: {T}\")\n",
    "            print(\n",
    "                f\"V: {np.sqrt(np.sum(loo[T]['p_loo_sd']**2))} S: {np.sqrt(np.sum(loo[T]['S']))} khat>0.7: {np.sum(loo[T]['khat']>0.7)}\"\n",
    "            )\n",
    "            print(f\"k-hat reduction for these k-hat>0.7 obs: {np.where((loo['I']['khat'] - loo[T]['khat']>0) * (loo['I']['khat']>0.7))}\")\n",
    "            reduced_ndx[n_samples] += [np.where((loo['I']['khat'] - loo[T]['khat']>0) * (loo['I']['khat']>0.7) * (loo[T]['khat']<0.7))]\n",
    "            print(f\"k-hat reduction to below 0.7 for these k-hat>0.7 obs: {reduced_ndx[n_samples][-1]}\")\n",
    "            \n",
    "        "
   ]
  },
  {
   "cell_type": "code",
   "execution_count": 174,
   "metadata": {},
   "outputs": [],
   "source": [
    "from itertools import chain\n",
    "reduced_ndx_ = (chain.from_iterable([x[0].flatten().tolist() for x in reduced_ndx]))\n",
    "reduced_ndx_ = set(reduced_ndx_)"
   ]
  },
  {
   "cell_type": "code",
   "execution_count": 175,
   "metadata": {},
   "outputs": [
    {
     "data": {
      "text/plain": [
       "23"
      ]
     },
     "execution_count": 175,
     "metadata": {},
     "output_type": "execute_result"
    }
   ],
   "source": [
    "len(khat)"
   ]
  },
  {
   "cell_type": "code",
   "execution_count": 176,
   "metadata": {},
   "outputs": [
    {
     "data": {
      "text/plain": [
       "15"
      ]
     },
     "execution_count": 176,
     "metadata": {},
     "output_type": "execute_result"
    }
   ],
   "source": [
    "len(reduced_ndx_)"
   ]
  },
  {
   "cell_type": "code",
   "execution_count": null,
   "metadata": {},
   "outputs": [],
   "source": []
  },
  {
   "cell_type": "code",
   "execution_count": null,
   "metadata": {},
   "outputs": [],
   "source": []
  },
  {
   "cell_type": "code",
   "execution_count": null,
   "metadata": {},
   "outputs": [],
   "source": []
  }
 ],
 "metadata": {
  "kernelspec": {
   "display_name": "env",
   "language": "python",
   "name": "python3"
  },
  "language_info": {
   "codemirror_mode": {
    "name": "ipython",
    "version": 3
   },
   "file_extension": ".py",
   "mimetype": "text/x-python",
   "name": "python",
   "nbconvert_exporter": "python",
   "pygments_lexer": "ipython3",
   "version": "3.10.12"
  }
 },
 "nbformat": 4,
 "nbformat_minor": 2
}
