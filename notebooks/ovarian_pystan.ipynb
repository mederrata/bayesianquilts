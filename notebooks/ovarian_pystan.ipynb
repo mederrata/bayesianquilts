{
 "cells": [
  {
   "cell_type": "code",
   "execution_count": 1,
   "metadata": {},
   "outputs": [],
   "source": [
    "\n",
    "%matplotlib inline\n",
    "from itertools import chain, combinations\n",
    "import matplotlib\n",
    "from matplotlib import pyplot as plt\n",
    "matplotlib.rcParams['pdf.fonttype'] = 42\n",
    "matplotlib.rcParams['ps.fonttype'] = 42\n",
    "matplotlib.rcParams['text.usetex'] = True\n",
    "from abc import ABC\n",
    "from cmdstanpy import CmdStanModel\n",
    "import numpy as np\n",
    "import pandas as pd\n",
    "from pathlib import Path\n",
    "from tqdm import tqdm\n",
    "import nest_asyncio\n",
    "nest_asyncio.apply()\n",
    "from collections import defaultdict\n",
    "from typing import Any\n",
    "\n",
    "from sklearn import metrics\n",
    "from matplotlib import pyplot as plt\n"
   ]
  },
  {
   "cell_type": "code",
   "execution_count": 2,
   "metadata": {},
   "outputs": [
    {
     "name": "stderr",
     "output_type": "stream",
     "text": [
      "2024-10-11 20:23:30.205934: I external/local_tsl/tsl/cuda/cudart_stub.cc:31] Could not find cuda drivers on your machine, GPU will not be used.\n",
      "2024-10-11 20:23:30.231429: E external/local_xla/xla/stream_executor/cuda/cuda_dnn.cc:9261] Unable to register cuDNN factory: Attempting to register factory for plugin cuDNN when one has already been registered\n",
      "2024-10-11 20:23:30.231458: E external/local_xla/xla/stream_executor/cuda/cuda_fft.cc:607] Unable to register cuFFT factory: Attempting to register factory for plugin cuFFT when one has already been registered\n",
      "2024-10-11 20:23:30.232385: E external/local_xla/xla/stream_executor/cuda/cuda_blas.cc:1515] Unable to register cuBLAS factory: Attempting to register factory for plugin cuBLAS when one has already been registered\n",
      "2024-10-11 20:23:30.236866: I external/local_tsl/tsl/cuda/cudart_stub.cc:31] Could not find cuda drivers on your machine, GPU will not be used.\n",
      "2024-10-11 20:23:30.237342: I tensorflow/core/platform/cpu_feature_guard.cc:182] This TensorFlow binary is optimized to use available CPU instructions in performance-critical operations.\n",
      "To enable the following instructions: AVX2 FMA, in other operations, rebuild TensorFlow with the appropriate compiler flags.\n",
      "2024-10-11 20:23:30.807230: W tensorflow/compiler/tf2tensorrt/utils/py_utils.cc:38] TF-TRT Warning: Could not find TensorRT\n"
     ]
    }
   ],
   "source": [
    "\n",
    "import tensorflow as tf\n",
    "import tensorflow_probability as tfp\n",
    "import tensorflow_probability.python.bijectors as tfb\n",
    "\n",
    "# pip install github:https://github.com/mederrata/bayesianquilts\n",
    "from bayesianquilts.models.logistic_regression_reparam import LogisticRegression2\n",
    "from bayesianquilts.metrics.classification import classification_metrics, auroc, auprc\n",
    "from bayesianquilts.sampler import psis, nppsis\n"
   ]
  },
  {
   "cell_type": "code",
   "execution_count": 3,
   "metadata": {},
   "outputs": [
    {
     "name": "stdout",
     "output_type": "stream",
     "text": [
      "(54, 1536)\n"
     ]
    }
   ],
   "source": [
    "\n",
    "X_ = pd.read_csv(Path.home() / \"workspace\" / \"bayesianquilts\"/ \"bayesianquilts\"/ \"data\" / \"overianx.csv\", header=None)\n",
    "y_ = pd.read_table(Path.home() / \"workspace\" / \"bayesianquilts\"/ \"bayesianquilts\"/ \"data\" / \"overiany.csv\", header=None)\n",
    "\n",
    "\n",
    "X_scaled = (X_ - X_.mean())/X_.std()\n",
    "X_scaled = X_scaled.fillna(0).to_numpy()\n",
    "y_ = y_.to_numpy()\n",
    "N = X_scaled.shape[0]\n",
    "d = X_scaled.shape[1]\n",
    "\n",
    "print((N, d))"
   ]
  },
  {
   "cell_type": "code",
   "execution_count": 4,
   "metadata": {},
   "outputs": [],
   "source": [
    "logistic_horseshoe_code = \"\"\"\n",
    "data {\n",
    "  int <lower=0> N;                // number  of  observations\n",
    "  int <lower=0> d;                // number  of  predictors\n",
    "  array[N] int<lower=0,upper=1> y;      // outputs\n",
    "  matrix[N,d] x;                  // inputs\n",
    "  real <lower=0>  scale_icept;    // prior  std for  the  intercept\n",
    "  real <lower=0>  scale_global;   // scale  for  the half -t prior  for  tau\n",
    "  real <lower=1>  nu_global;      // degrees  of  freedom  for the half -t prior for tau\n",
    "  real <lower=1> nu_local;        // degrees  of  freedom  for  the half -t priors for  lambdas\n",
    "  real <lower=0>  slab_scale;     // slab  scale  for  the  regularized  horseshoe\n",
    "  real <lower=0> slab_df;         // slab  degrees  of  freedom  for the  regularized horseshoe\n",
    "\n",
    "  //int<lower=0> N_tilde;\n",
    "  //matrix[N_tilde, d] x_tilde;\n",
    "  //array[N_tilde] int<lower=0,upper=1> y_obs;\n",
    "}\n",
    "parameters {\n",
    "  real  beta0;\n",
    "  vector[d] z;\n",
    "  real <lower=0> tau;             // global  shrinkage  parameter\n",
    "  vector <lower =0>[d] lambda;    // local  shrinkage  parameter\n",
    "  real <lower=0> caux;\n",
    "}\n",
    "transformed  parameters {\n",
    "  vector <lower =0>[d] lambda_tilde;    // ’truncated ’ local  shrinkage  parameter\n",
    "  real <lower=0> c;                     // slab  scale\n",
    "  vector[d] beta;                       // regression  coefficients\n",
    "  vector[N] f;                          // latent  function  values\n",
    "  c = slab_scale * sqrt(caux);\n",
    "  lambda_tilde = sqrt( c^2 * square(lambda) ./ (c^2 + tau^2* square(lambda )) );\n",
    "  beta = z .*  lambda_tilde*tau;\n",
    "  f = beta0 + x*beta;\n",
    "}\n",
    "model {\n",
    "  z ~ normal(0.0, 1.0); // half -t priors  for  lambdas  and tau , and  inverse -gamma  for c^2\n",
    "  lambda ~ student_t(nu_local , 0.0, 1.0);\n",
    "  tau ~ student_t(nu_global , 0.0, scale_global);\n",
    "  caux ~ inv_gamma (0.5* slab_df , 0.5* slab_df );\n",
    "  beta0 ~ normal(0.0,  scale_icept );\n",
    "  y ~ bernoulli_logit(f);\n",
    "}\n",
    "generated quantities {\n",
    "  vector[N] log_lik;\n",
    "  // vector[N_tilde] loo_log_lik;\n",
    "\n",
    "  for (nn in 1:N)\n",
    "    log_lik[nn] = bernoulli_logit_lpmf(y[nn] | x[nn] * beta + beta0);\n",
    "\n",
    "  //for (nn in 1:N_tilde)\n",
    "  //  loo_log_lik[nn] = bernoulli_logit_lpmf(y_obs[nn] | x_tilde[nn] * beta + beta0);\n",
    "}\n",
    "\"\"\"\n",
    "\n",
    "with open(\"ovarian_model.stan\", 'w') as f:\n",
    "  f.writelines(logistic_horseshoe_code)\n"
   ]
  },
  {
   "cell_type": "code",
   "execution_count": 5,
   "metadata": {},
   "outputs": [
    {
     "name": "stderr",
     "output_type": "stream",
     "text": [
      "20:23:31 - cmdstanpy - INFO - compiling stan file /home/josh/workspace/bayesianquilts/ovarian_model.stan to exe file /home/josh/workspace/bayesianquilts/ovarian_model\n",
      "20:23:48 - cmdstanpy - INFO - compiled model executable: /home/josh/workspace/bayesianquilts/ovarian_model\n"
     ]
    }
   ],
   "source": [
    "sm = CmdStanModel(stan_file=\"ovarian_model.stan\")"
   ]
  },
  {
   "cell_type": "code",
   "execution_count": 6,
   "metadata": {},
   "outputs": [],
   "source": [
    "guessnumrelevcov = N / 10  # 20.\n",
    "slab_scale = 2.5\n",
    "scale_icept = 5.0\n",
    "nu_global = 1\n",
    "nu_local = 1\n",
    "slab_df = 1\n",
    "scale_global = guessnumrelevcov / ((d - guessnumrelevcov) * np.sqrt(N))\n",
    "\n",
    "control = {\"adapt_delta\": 0.9999, \"max_treedepth\": 15}\n",
    "\n",
    "# shuffle\n",
    "\n",
    "# shuffled_ndx = np.random.shuffle(np.arange(N))\n",
    "\n",
    "ovarian_data = {\n",
    "    \"N\": N,\n",
    "    \"d\": d,\n",
    "    \"slab_df\": slab_df,\n",
    "    \"slab_scale\": slab_scale,\n",
    "    \"scale_icept\": scale_icept,\n",
    "    \"nu_global\": 1,\n",
    "    \"nu_local\": 1,\n",
    "    \"scale_global\": scale_global,\n",
    "    \"y\": y_.astype(int)[:, 0].tolist(),\n",
    "    \"x\": X_scaled.tolist(),\n",
    "}\n",
    "\n",
    "import json\n",
    "\n",
    "with open(\"ovarian_data.json\", \"w\") as f:\n",
    "    json.dump(ovarian_data, f)"
   ]
  },
  {
   "cell_type": "code",
   "execution_count": 7,
   "metadata": {},
   "outputs": [
    {
     "name": "stdout",
     "output_type": "stream",
     "text": [
      "1536\n"
     ]
    }
   ],
   "source": [
    "print(d)"
   ]
  },
  {
   "cell_type": "code",
   "execution_count": 8,
   "metadata": {},
   "outputs": [
    {
     "name": "stderr",
     "output_type": "stream",
     "text": [
      "20:23:48 - cmdstanpy - INFO - CmdStan start processing\n"
     ]
    },
    {
     "data": {
      "application/vnd.jupyter.widget-view+json": {
       "model_id": "eea9347e248e4e6292519ddf00de2e0f",
       "version_major": 2,
       "version_minor": 0
      },
      "text/plain": [
       "chain 1 |          | 00:00 Status"
      ]
     },
     "metadata": {},
     "output_type": "display_data"
    },
    {
     "data": {
      "application/vnd.jupyter.widget-view+json": {
       "model_id": "afa7fe0a9c524566b851584cb94e50a7",
       "version_major": 2,
       "version_minor": 0
      },
      "text/plain": [
       "chain 2 |          | 00:00 Status"
      ]
     },
     "metadata": {},
     "output_type": "display_data"
    },
    {
     "data": {
      "application/vnd.jupyter.widget-view+json": {
       "model_id": "4baf83c611fd46d88f12883cb4d25b02",
       "version_major": 2,
       "version_minor": 0
      },
      "text/plain": [
       "chain 3 |          | 00:00 Status"
      ]
     },
     "metadata": {},
     "output_type": "display_data"
    },
    {
     "data": {
      "application/vnd.jupyter.widget-view+json": {
       "model_id": "353a0124fc6f4f40af65cfae5a7aed27",
       "version_major": 2,
       "version_minor": 0
      },
      "text/plain": [
       "chain 4 |          | 00:00 Status"
      ]
     },
     "metadata": {},
     "output_type": "display_data"
    },
    {
     "name": "stdout",
     "output_type": "stream",
     "text": [
      "                                                                                                                                                                                                                                                                                                                                "
     ]
    },
    {
     "name": "stderr",
     "output_type": "stream",
     "text": [
      "20:45:15 - cmdstanpy - INFO - CmdStan done processing.\n",
      "20:45:15 - cmdstanpy - WARNING - Non-fatal error during sampling:\n",
      "Exception: ovarian_model_model_namespace::log_prob: lambda_tilde[1] is -nan, but must be greater than or equal to 0.000000 (in 'ovarian_model.stan', line 26, column 2 to column 36)\n",
      "Exception: ovarian_model_model_namespace::log_prob: lambda_tilde[1] is -nan, but must be greater than or equal to 0.000000 (in 'ovarian_model.stan', line 26, column 2 to column 36)\n",
      "Consider re-running with show_console=True if the above output is unclear!\n"
     ]
    },
    {
     "name": "stdout",
     "output_type": "stream",
     "text": [
      "\n"
     ]
    }
   ],
   "source": [
    "S = 1800\n",
    "fit = sm.sample(\n",
    "    data=\"ovarian_data.json\",\n",
    "    iter_warmup=15000,\n",
    "    iter_sampling=S,\n",
    "    thin=2,\n",
    "    **control\n",
    ")"
   ]
  },
  {
   "cell_type": "code",
   "execution_count": 9,
   "metadata": {},
   "outputs": [
    {
     "name": "stdout",
     "output_type": "stream",
     "text": [
      "CmdStanMCMC: model=ovarian_model chains=4['method=sample', 'num_samples=1800', 'num_warmup=15000', 'thin=2', 'algorithm=hmc', 'engine=nuts', 'max_depth=15', 'adapt', 'engaged=1', 'delta=0.9999']\n",
      " csv_files:\n",
      "\t/tmp/tmpvxduruuy/ovarian_modeltrqh1udq/ovarian_model-20241011202348_1.csv\n",
      "\t/tmp/tmpvxduruuy/ovarian_modeltrqh1udq/ovarian_model-20241011202348_2.csv\n",
      "\t/tmp/tmpvxduruuy/ovarian_modeltrqh1udq/ovarian_model-20241011202348_3.csv\n",
      "\t/tmp/tmpvxduruuy/ovarian_modeltrqh1udq/ovarian_model-20241011202348_4.csv\n",
      " output_files:\n",
      "\t/tmp/tmpvxduruuy/ovarian_modeltrqh1udq/ovarian_model-20241011202348_0-stdout.txt\n",
      "\t/tmp/tmpvxduruuy/ovarian_modeltrqh1udq/ovarian_model-20241011202348_1-stdout.txt\n",
      "\t/tmp/tmpvxduruuy/ovarian_modeltrqh1udq/ovarian_model-20241011202348_2-stdout.txt\n",
      "\t/tmp/tmpvxduruuy/ovarian_modeltrqh1udq/ovarian_model-20241011202348_3-stdout.txt\n"
     ]
    }
   ],
   "source": [
    "print(fit)"
   ]
  },
  {
   "cell_type": "code",
   "execution_count": 10,
   "metadata": {},
   "outputs": [
    {
     "name": "stdout",
     "output_type": "stream",
     "text": [
      "Processing csv files: /tmp/tmpvxduruuy/ovarian_modeltrqh1udq/ovarian_model-20241011202348_1.csv, /tmp/tmpvxduruuy/ovarian_modeltrqh1udq/ovarian_model-20241011202348_2.csv, /tmp/tmpvxduruuy/ovarian_modeltrqh1udq/ovarian_model-20241011202348_3.csv, /tmp/tmpvxduruuy/ovarian_modeltrqh1udq/ovarian_model-20241011202348_4.csv\n",
      "\n",
      "Checking sampler transitions treedepth.\n",
      "Treedepth satisfactory for all transitions.\n",
      "\n",
      "Checking sampler transitions for divergences.\n",
      "No divergent transitions found.\n",
      "\n",
      "Checking E-BFMI - sampler transitions HMC potential energy.\n",
      "E-BFMI satisfactory.\n",
      "\n",
      "Effective sample size satisfactory.\n",
      "\n",
      "Split R-hat values satisfactory all parameters.\n",
      "\n",
      "Processing complete, no problems detected.\n",
      "\n"
     ]
    }
   ],
   "source": [
    "print(fit.diagnose())"
   ]
  },
  {
   "cell_type": "code",
   "execution_count": 11,
   "metadata": {},
   "outputs": [],
   "source": [
    "params = fit.stan_variables()\n",
    "params.keys()\n",
    "params['c'] = params['c'][:, tf.newaxis]\n",
    "params['tau'] = params['tau'][:, tf.newaxis]\n",
    "params['caux'] = params['caux'][:, tf.newaxis]\n",
    "params['beta0'] = params['beta0'][:, tf.newaxis]\n"
   ]
  },
  {
   "cell_type": "code",
   "execution_count": 12,
   "metadata": {},
   "outputs": [
    {
     "data": {
      "text/plain": [
       "TensorShape([3600, 1536])"
      ]
     },
     "execution_count": 12,
     "metadata": {},
     "output_type": "execute_result"
    }
   ],
   "source": [
    "\n",
    "c = slab_scale * tf.math.sqrt(params[\"caux\"])\n",
    "lambda_tilde = tf.math.sqrt(\n",
    "    c**2\n",
    "    * params[\"lambda\"] ** 2\n",
    "    / (c**2 + params[\"tau\"] ** 2 * params[\"lambda\"] ** 2)\n",
    ")\n",
    "beta_fitted = params[\"z\"] * lambda_tilde * params[\"tau\"]\n",
    "beta_fitted.shape"
   ]
  },
  {
   "cell_type": "code",
   "execution_count": 13,
   "metadata": {},
   "outputs": [
    {
     "data": {
      "image/png": "[encoded data removed]",
      "text/plain": [
       "<Figure size 800x100 with 2 Axes>"
      ]
     },
     "metadata": {},
     "output_type": "display_data"
    }
   ],
   "source": [
    "beta_fitted = np.mean(beta_fitted, axis=0, keepdims=True)\n",
    "fig, ax = plt.subplots(1, 1, figsize=(8, 1))\n",
    "im = ax.pcolormesh(beta_fitted, cmap='seismic_r', vmin=-0.2, vmax=0.2)\n",
    "_ = plt.ylabel(\"covariate\")\n",
    "\n",
    "plt.colorbar(im)\n",
    "plt.savefig(\"ovarian_mcmc_fit.pdf\", bbox_inches='tight')"
   ]
  },
  {
   "cell_type": "code",
   "execution_count": 14,
   "metadata": {},
   "outputs": [],
   "source": [
    "lr_model = LogisticRegression2(\n",
    "    dim_regressors=d,\n",
    "    slab_df=slab_df,\n",
    "    slab_scale=slab_scale,\n",
    "    scale_icept=scale_icept,\n",
    "    nu_global=1,\n",
    "    nu_local=1,\n",
    "    scale_global=scale_global,\n",
    ")"
   ]
  },
  {
   "cell_type": "code",
   "execution_count": 15,
   "metadata": {},
   "outputs": [],
   "source": [
    "tfdata = tf.data.Dataset.from_tensor_slices({'X': X_scaled, 'y':y_})\n",
    "batch_size = N\n",
    "def data_factory_factory(batch_size=batch_size, repeat=False, shuffle=False):\n",
    "    def data_factory(batch_size=batch_size):\n",
    "        if shuffle:\n",
    "            out = tfdata.shuffle(batch_size*10)\n",
    "        else:\n",
    "            out = tfdata\n",
    "        \n",
    "        if repeat:\n",
    "            out = out.repeat()\n",
    "        return out.batch(batch_size)\n",
    "    return data_factory\n",
    "\n",
    "batch = next(iter(data_factory_factory()()))"
   ]
  },
  {
   "cell_type": "code",
   "execution_count": 16,
   "metadata": {},
   "outputs": [
    {
     "name": "stderr",
     "output_type": "stream",
     "text": [
      "0it [00:00, ?it/s]2024-10-11 20:45:30.365910: W external/local_tsl/tsl/framework/cpu_allocator_impl.cc:83] Allocation of 2388787200 exceeds 10% of free system memory.\n",
      "1it [00:00,  2.08it/s]\n"
     ]
    },
    {
     "data": {
      "text/plain": [
       "(0.0, 1.0)"
      ]
     },
     "execution_count": 16,
     "metadata": {},
     "output_type": "execute_result"
    },
    {
     "data": {
      "image/png": "[encoded data removed]",
      "text/plain": [
       "<Figure size 900x200 with 2 Axes>"
      ]
     },
     "metadata": {},
     "output_type": "display_data"
    }
   ],
   "source": [
    "def prediction_fn(data):\n",
    "    pred = lr_model.predictive_distribution(data, **params)[\"logits\"]\n",
    "    return tf.reduce_mean(pred, axis=0)\n",
    "\n",
    "bench = classification_metrics(\n",
    "    data_factory=data_factory_factory(),\n",
    "    prediction_fn=prediction_fn,\n",
    "    outcome_label='y',\n",
    "    by_vars=[]\n",
    ")\n",
    "\n",
    "fig, ax = plt.subplots(1, 2, figsize=(9, 2))\n",
    "ax[0].plot(bench['auroc']['fpr'], bench['auroc']['tpr'])\n",
    "ax[0].text(0.5, 0.1, f\"AUROC: {round(bench['auroc']['auroc'], 2)}\")\n",
    "ax[0].set_xlim((0, 1))\n",
    "ax[0].set_ylim((0, 1))\n",
    "ax[0].set_title(\"ROC\")\n",
    "\n",
    "ax[1].plot(bench['auprc']['recall'], bench['auprc']['precision'])\n",
    "ax[1].text(0.5, 0.8, f\"AUPRC: {round(bench['auprc']['auprc'], 2)}\")\n",
    "ax[1].set_title(\"Precision-Recall\")\n",
    "ax[1].set_xlim((0, 1))\n",
    "ax[1].set_ylim((0, 1))"
   ]
  },
  {
   "cell_type": "code",
   "execution_count": 17,
   "metadata": {},
   "outputs": [
    {
     "name": "stdout",
     "output_type": "stream",
     "text": [
      "I: 0.0572555016823031 entropy: 11.472210090956791 khat>0.7: 33\n",
      "LL: 0.054469664936295355 entropy: 11.473874343860444 khat>0.7: 32\n",
      "KL: 0.05379714896993137 entropy: 11.476496270336671 khat>0.7: 33\n",
      "Var: 0.05264306312153696 entropy: 11.480192486099119 khat>0.7: 33\n",
      "MM1: 0.06056472000893017 entropy: 11.41124791816632 khat>0.7: 30\n",
      "MM2: 0.06556404930635026 entropy: 11.205072816657507 khat>0.7: 9\n"
     ]
    }
   ],
   "source": [
    "def entropy(probs):\n",
    "    return -tf.math.xlogy(probs, probs)\n",
    "\n",
    "\n",
    "def adaptive_is_loo(\n",
    "    self: LogisticRegression2,\n",
    "    data: dict[str, tf.Tensor],\n",
    "    params,\n",
    "    hbar=1.0,\n",
    "    variational=True,\n",
    ") -> dict[str, Any]:\n",
    "    \"\"\"_summary_\n",
    "\n",
    "    Args:\n",
    "        data (_type_): _description_\n",
    "        params (_type_): _description_\n",
    "        hbar (float, optional): _description_. Defaults to 1.0.\n",
    "        variational (bool, optional):\n",
    "            Should we trust the variational approximation?\n",
    "            If False, assumes that one is passing in all the data at once in a single batch.\n",
    "            Defaults to True.\n",
    "\n",
    "    Returns:\n",
    "        _type_: _description_\n",
    "    \"\"\"\n",
    "\n",
    "    # scaled (theta - bar(theta))/Sigma\n",
    "    c = self.slab_scale * tf.math.sqrt(params[\"caux\"])\n",
    "    lambda_tilde = tf.math.sqrt(\n",
    "        c**2\n",
    "        * params[\"lambda\"] ** 2\n",
    "        / (c**2 + params[\"tau\"] ** 2 * params[\"lambda\"] ** 2)\n",
    "    )\n",
    "    beta = params[\"z\"] * lambda_tilde * params[\"tau\"]\n",
    "    intercept = params[\"beta0\"]\n",
    "    _X = tf.cast(data[\"X\"], self.dtype)\n",
    "    _y = tf.cast(data[\"y\"], self.dtype)[:, 0]\n",
    "    mu = beta[..., tf.newaxis, :] * _X\n",
    "    mu = tf.reduce_sum(mu, -1) + params[\"beta0\"]\n",
    "    sigma = tf.math.sigmoid(mu)\n",
    "    ell = _y * (sigma) + (1 - _y) * (1 - sigma)\n",
    "    log_ell = tf.math.xlogy(_y, sigma) + tf.math.xlogy(1 - _y, 1 - sigma)\n",
    "    log_ell_prime = _y * (1 - sigma) - (1 - _y) * sigma\n",
    "    log_ell_doubleprime = -sigma * (1 - sigma)\n",
    "    _, khat0 = nppsis.psislw(-log_ell)\n",
    "\n",
    "    \"\"\"\n",
    "    sigma.shape is samples x datapoints\n",
    "    \"\"\"\n",
    "\n",
    "    ndx_to_transform = np.where(khat0 > 0.7)[0]\n",
    "    ndx_to_leave = np.where((khat0 <= 0.7))[0]\n",
    "\n",
    "    def IS(T, X, y):\n",
    "        mu = beta[..., tf.newaxis, :] * X\n",
    "        mu = tf.reduce_sum(mu, -1) + params[\"beta0\"]\n",
    "        sigma = tf.math.sigmoid(mu)\n",
    "        ell = y * (sigma) + (1 - y) * (1 - sigma)\n",
    "        log_ell = tf.math.xlogy(y, sigma) + tf.math.xlogy(1 - y, 1 - sigma)\n",
    "        log_ell_prime = y * (1 - sigma) - (1 - y) * sigma\n",
    "        log_ell_doubleprime = -sigma * (1 - sigma)\n",
    "        # compute # \\nabla\\log\\pi(\\btheta|\\calD)\n",
    "        if variational:\n",
    "            # \\nabla\\log\\pi = -\\Sigma^{-1}(theta - \\bar{\\theta})\n",
    "            grad_log_pi = tf.concat(\n",
    "                [\n",
    "                    -(\n",
    "                        intercept\n",
    "                        - self.surrogate_distribution.model[\"intercept__\"].mean()\n",
    "                    )\n",
    "                    / self.surrogate_distribution.model[\"intercept__\"].variance(),\n",
    "                    -(beta - self.surrogate_distribution.model[\"beta__\"].mean())\n",
    "                    / self.surrogate_distribution.model[\"beta__\"].variance(),\n",
    "                ],\n",
    "                axis=-1,\n",
    "            )\n",
    "            intercept_sd = (\n",
    "                self.surrogate_distribution.model[\"intercept__\"].variance() ** 0.5\n",
    "            )\n",
    "            beta_sd = self.surrogate_distribution.model[\"beta__\"].variance() ** 0.5\n",
    "\n",
    "            log_pi = self.surrogate_distribution.model[\"beta__\"].log_prob(\n",
    "                params[\"beta__\"]\n",
    "            ) + self.surrogate_distribution.model[\"intercept__\"].log_prob(\n",
    "                params[\"intercept__\"]\n",
    "            )\n",
    "            log_pi -= tf.reduce_max(log_pi, axis=0)\n",
    "            # log_pi.shape: [samples]\n",
    "        else:\n",
    "            \"\"\"\n",
    "            Recall Bayes rule:\n",
    "            \\log pi(\\btheta|\\calD) = \\sum_i\\log ell_i(\\btheta) + \\log\\pi(\\btheta) + const\n",
    "\n",
    "            so\n",
    "            \\nabla\\log\\pi(\\btheta|\\calD) = \\sum_i (ell_i)'x + grad\\log\\pi(\\btheta)\n",
    "\n",
    "            \"\"\"\n",
    "            log_prior = self.prior_distribution.log_prob_parts(params)\n",
    "            log_prior = log_prior[\"z\"] + log_prior[\"beta0\"]\n",
    "\n",
    "            log_pi = tf.reduce_sum(log_ell, axis=1, keepdims=True)[:, 0]\n",
    "\n",
    "            # pi \\propto\n",
    "            grad_log_pi = tf.concat(\n",
    "                [\n",
    "                    tf.reduce_sum(\n",
    "                        log_ell_prime[..., tf.newaxis], axis=1, keepdims=True\n",
    "                    ),\n",
    "                    tf.reduce_sum(\n",
    "                        log_ell_prime[..., tf.newaxis] * X, axis=1, keepdims=True\n",
    "                    ),\n",
    "                ],\n",
    "                axis=-1,\n",
    "            )\n",
    "\n",
    "            grad_log_prior = -0.5 * tf.concat(\n",
    "                [(params[\"beta0\"] / self.scale_icept) ** 2, (params[\"z\"]) ** 2],\n",
    "                axis=-1,\n",
    "            )\n",
    "            grad_log_pi += grad_log_prior[:, tf.newaxis, :]\n",
    "\n",
    "            intercept_sd = tf.math.reduce_std(intercept, 0, keepdims=True)\n",
    "            beta_sd = tf.math.reduce_std(beta, 0, keepdims=True)\n",
    "\n",
    "        beta_new, intercept_new, logJ = T(\n",
    "            X,\n",
    "            y,\n",
    "            log_pi=log_pi,\n",
    "            grad_log_pi=grad_log_pi,\n",
    "            beta_sd=beta_sd,\n",
    "            intercept_sd=intercept_sd,\n",
    "        )\n",
    "        mu_new = tf.reduce_sum(beta_new * X, axis=-1) + intercept_new[..., 0]\n",
    "        sigma_new = tf.math.sigmoid(mu_new)\n",
    "        ell_new = y * (sigma_new) + (1 - y) * (1 - sigma_new)\n",
    "        log_ell_new = tf.math.xlogy(y, sigma_new) + tf.math.xlogy(1 - y, 1 - sigma_new)\n",
    "        c = self.slab_scale * tf.math.sqrt(params[\"caux\"])\n",
    "        lambda_tilde = tf.math.sqrt(\n",
    "            c**2\n",
    "            * params[\"lambda\"] ** 2\n",
    "            / (c**2 + params[\"tau\"] ** 2 * params[\"lambda\"] ** 2)\n",
    "        )\n",
    "        transformed = params.copy()\n",
    "        transformed[\"z\"] = beta_new / (\n",
    "            lambda_tilde[:, tf.newaxis, :] * params[\"tau\"][..., tf.newaxis]\n",
    "        )\n",
    "        transformed[\"beta0\"] = intercept_new\n",
    "\n",
    "        if variational:\n",
    "            # We trust the variational approximation, so \\hat{pi} = pi\n",
    "            # N_samples x N_data\n",
    "            delta_log_pi = (\n",
    "                self.surrogate_distribution.log_prob(transformed)\n",
    "                - log_pi[:, tf.newaxis]\n",
    "            )\n",
    "            delta_log_pi = delta_log_pi - tf.reduce_max(\n",
    "                delta_log_pi, axis=0, keepdims=True\n",
    "            )\n",
    "            pass\n",
    "        else:\n",
    "            # we don't trust the variational approximation\n",
    "            # Need to compute log_pi directly by summing over the likelihood\n",
    "\n",
    "            ell_cross = tf.math.sigmoid(\n",
    "                tf.reduce_sum(beta_new[..., tf.newaxis, :] * X, -1) + intercept_new\n",
    "            )\n",
    "            ell_cross = tf.math.xlogy(y, ell_cross) + tf.math.xlogy(\n",
    "                1 - y, 1 - ell_cross\n",
    "            )\n",
    "            ell_cross = tf.math.reduce_sum(ell_cross, axis=-1)\n",
    "\n",
    "            log_prior_new = self.prior_distribution.log_prob_parts(transformed)\n",
    "            log_prior_new = log_prior_new[\"z\"] + log_prior_new[\"beta0\"]\n",
    "            log_pi_new = ell_cross\n",
    "            delta_log_prior = log_prior_new - log_prior[:, tf.newaxis]\n",
    "            # Incorporate the prior\n",
    "            delta_log_pi = log_pi_new - log_pi[:, tf.newaxis] + delta_log_prior\n",
    "\n",
    "        # regularize delta_log_pi\n",
    "\n",
    "        def regularize(tensor):\n",
    "            min_finite = tf.reduce_min(\n",
    "                tf.where(\n",
    "                    tf.math.is_finite(tensor),\n",
    "                    tensor,\n",
    "                    tf.zeros_like(tensor),\n",
    "                )\n",
    "            )\n",
    "            return tf.where(\n",
    "                tf.math.is_finite(tensor),\n",
    "                tensor,\n",
    "                min_finite * tf.ones_like(tensor),\n",
    "            )\n",
    "\n",
    "        delta_log_pi = regularize(delta_log_pi)\n",
    "        delta_log_pi -= tf.reduce_max(delta_log_pi, axis=0)\n",
    "        log_eta_weights = delta_log_pi - regularize(log_ell_new) + logJ\n",
    "        log_eta_weights = log_eta_weights - tf.reduce_max(log_eta_weights, axis=0)\n",
    "        psis_weights, khat = nppsis.psislw(log_eta_weights)\n",
    "\n",
    "        eta_weights = tf.math.exp(log_eta_weights)\n",
    "        eta_weights = eta_weights / tf.reduce_sum(eta_weights, axis=0, keepdims=True)\n",
    "\n",
    "        psis_weights = tf.math.exp(psis_weights)\n",
    "        psis_weights = psis_weights / tf.math.reduce_sum(\n",
    "            psis_weights, axis=0, keepdims=True\n",
    "        )\n",
    "\n",
    "        weight_entropy = self.entropy(eta_weights)\n",
    "        psis_entropy = self.entropy(psis_weights)\n",
    "\n",
    "        p_loo_new = tf.reduce_sum(sigma_new * eta_weights, axis=0)\n",
    "        p_loo_psis = tf.reduce_sum(sigma_new * psis_weights, axis=0)\n",
    "        p_loo_sd = tf.math.reduce_std(sigma_new * eta_weights, axis=0)\n",
    "        ll_loo_new = tf.reduce_sum(eta_weights * ell_new, axis=0)\n",
    "        ll_loo_psis = tf.reduce_sum(psis_weights * ell_new, axis=0)\n",
    "        ll_loo_sd = tf.math.reduce_std(eta_weights * ell_new, axis=0)\n",
    "        return (\n",
    "            eta_weights,\n",
    "            psis_weights,\n",
    "            p_loo_new,\n",
    "            p_loo_sd,\n",
    "            ll_loo_new,\n",
    "            ll_loo_sd,\n",
    "            weight_entropy,\n",
    "            khat,\n",
    "            p_loo_psis,\n",
    "            ll_loo_psis,\n",
    "        )\n",
    "\n",
    "    # log-likelihood descent\n",
    "\n",
    "    def T_ll(X, y, log_pi, beta_sd, intercept_sd, **kwargs):\n",
    "        mu = beta[..., tf.newaxis, :] * X\n",
    "        mu = tf.reduce_sum(mu, -1) + params[\"beta0\"]\n",
    "        sigma = tf.math.sigmoid(mu)\n",
    "\n",
    "        log_ell_prime = y * (1 - sigma) - (1 - y) * sigma\n",
    "\n",
    "        Q_beta = -log_ell_prime[..., tf.newaxis] * X\n",
    "        Q_intercept = -log_ell_prime[..., tf.newaxis]\n",
    "\n",
    "        standardized = tf.concat(\n",
    "            [Q_beta / beta_sd, Q_intercept / intercept_sd], axis=-1\n",
    "        )\n",
    "        standardized = tf.reduce_max(tf.math.abs(standardized), axis=-1)\n",
    "        standardized = tf.reduce_max(standardized, axis=0, keepdims=True)[\n",
    "            ..., tf.newaxis\n",
    "        ]\n",
    "\n",
    "        h = hbar / standardized\n",
    "        logJ = tf.math.log1p(\n",
    "            tf.math.abs(\n",
    "                h\n",
    "                * (1 + tf.math.reduce_sum(X**2, -1, keepdims=True))[tf.newaxis, :, :]\n",
    "                * (sigma * (1 - sigma))[..., tf.newaxis]\n",
    "            )[..., 0]\n",
    "        )\n",
    "        beta_ll = beta[..., tf.newaxis, :] + h * Q_beta\n",
    "        intercept_ll = intercept[..., tf.newaxis, :] + h * Q_intercept\n",
    "        return beta_ll, intercept_ll, logJ\n",
    "\n",
    "    def T_kl(X, y, log_pi, grad_log_pi, beta_sd, intercept_sd):\n",
    "        log_pi_ = log_pi - tf.reduce_max(log_pi, axis=0, keepdims=True)\n",
    "        mu = beta[..., tf.newaxis, :] * X\n",
    "        mu = tf.reduce_sum(mu, -1) + params[\"beta0\"]\n",
    "        Q_beta = ((-1) ** y * tf.math.exp(log_pi_[..., tf.newaxis] + mu * (1 - 2 * y)))[\n",
    "            ..., tf.newaxis\n",
    "        ] * X\n",
    "        Q_intercept = (\n",
    "            ((-1) ** y) * tf.math.exp(log_pi_[..., tf.newaxis] + mu * (1 - 2 * y))\n",
    "        )[..., tf.newaxis]\n",
    "\n",
    "        dQ = (-1) ** y[tf.newaxis, :] * tf.math.exp(\n",
    "            log_pi_[..., tf.newaxis] + mu * (1 - 2 * y[tf.newaxis, :])\n",
    "        )\n",
    "        dQ *= (\n",
    "            grad_log_pi[..., 0]\n",
    "            + (1 - 2 * y)[tf.newaxis, :]\n",
    "            + tf.reduce_sum(\n",
    "                X\n",
    "                * (\n",
    "                    grad_log_pi[..., 1:]\n",
    "                    + (1 - 2 * y)[:, tf.newaxis] * X[tf.newaxis, ...]\n",
    "                ),\n",
    "                axis=-1,\n",
    "            )\n",
    "        )\n",
    "\n",
    "        standardized = tf.concat(\n",
    "            [Q_beta / beta_sd, Q_intercept / intercept_sd], axis=-1\n",
    "        )\n",
    "        standardized = tf.reduce_max(tf.math.abs(standardized), axis=-1)\n",
    "        standardized = tf.reduce_max(standardized, axis=0, keepdims=True)[\n",
    "            ..., tf.newaxis\n",
    "        ]\n",
    "\n",
    "        h = hbar / standardized\n",
    "\n",
    "        intercept_kl = intercept[..., tf.newaxis] + h * Q_intercept\n",
    "        beta_kl = beta[..., tf.newaxis, :] + h * Q_beta\n",
    "\n",
    "        logJ = tf.math.log1p(tf.math.abs(h[..., 0] * dQ))\n",
    "        return beta_kl, intercept_kl, logJ\n",
    "\n",
    "    def T_I(X, y, **kwargs):\n",
    "        mu = beta[..., tf.newaxis, :] * X\n",
    "        mu = tf.reduce_sum(mu, -1) + params[\"beta0\"]\n",
    "        sigma = tf.math.sigmoid(mu)\n",
    "\n",
    "        log_ell = tf.math.xlogy(y, sigma) + tf.math.xlogy(1 - y, 1 - sigma)\n",
    "        Q = tf.zeros_like(log_ell)\n",
    "        return (\n",
    "            beta[:, tf.newaxis, :] + Q[..., tf.newaxis],\n",
    "            intercept[..., tf.newaxis] + Q[..., tf.newaxis],\n",
    "            tf.zeros_like(Q),\n",
    "        )\n",
    "\n",
    "    def T_var(X, y, log_pi, grad_log_pi, beta_sd, intercept_sd, **kwargs):\n",
    "        log_pi_ = log_pi - tf.reduce_max(log_pi, axis=0, keepdims=True)\n",
    "        mu = beta[..., tf.newaxis, :] * X\n",
    "        mu = tf.reduce_sum(mu, -1) + params[\"beta0\"]\n",
    "        Q_beta = (\n",
    "            (-1) ** y * tf.math.exp(log_pi_[..., tf.newaxis] + 2 * mu * (1 - 2 * y))\n",
    "        )[..., tf.newaxis] * X\n",
    "        Q_intercept = (\n",
    "            (-1) ** y * tf.math.exp(log_pi_[..., tf.newaxis] + 2 * mu * (1 - 2 * y))\n",
    "        )[..., tf.newaxis]\n",
    "\n",
    "        dQ = (\n",
    "            (-1) ** y[tf.newaxis, :]\n",
    "            * tf.math.exp(\n",
    "                log_pi_[..., tf.newaxis] + 2 * mu * (1 - 2 * y[tf.newaxis, :])\n",
    "            )\n",
    "            * (\n",
    "                grad_log_pi[..., 0]\n",
    "                + (1 - 2 * y)[tf.newaxis, :]\n",
    "                + tf.reduce_sum(\n",
    "                    X * (grad_log_pi[..., 1:] + 2 * (1 - 2 * y)[:, tf.newaxis] * X),\n",
    "                    axis=-1,\n",
    "                )\n",
    "            )\n",
    "        )\n",
    "\n",
    "        standardized = tf.concat(\n",
    "            [Q_beta / beta_sd, Q_intercept / intercept_sd], axis=-1\n",
    "        )\n",
    "        standardized = tf.reduce_max(tf.math.abs(standardized), axis=-1)\n",
    "        standardized = tf.reduce_max(standardized, axis=0, keepdims=True)[\n",
    "            ..., tf.newaxis\n",
    "        ]\n",
    "\n",
    "        h = hbar / standardized\n",
    "\n",
    "        intercept_kl = intercept[..., tf.newaxis, :] + h * Q_intercept\n",
    "        beta_kl = beta[..., tf.newaxis, :] + h * Q_beta\n",
    "\n",
    "        logJ = tf.math.log1p(tf.math.abs(h[..., 0] * dQ))\n",
    "        return beta_kl, intercept_kl, logJ\n",
    "\n",
    "    def T_MM1(X, y, **kwargs):\n",
    "        c = self.slab_scale * tf.math.sqrt(params[\"caux\"])\n",
    "        lambda_tilde = tf.math.abs(c) / tf.math.sqrt(\n",
    "            (c / params[\"lambda\"]) ** 2 + params[\"tau\"] ** 2\n",
    "        )\n",
    "        beta = params[\"z\"] * lambda_tilde * params[\"tau\"]\n",
    "        mu = beta[..., tf.newaxis, :] * X\n",
    "        mu = tf.reduce_sum(mu, -1) + params[\"beta0\"]\n",
    "        sigma = tf.math.sigmoid(mu)\n",
    "        ell = y * (sigma) + (1 - y) * (1 - sigma)  # S x N\n",
    "\n",
    "        weights = (\n",
    "            1\n",
    "            / ell[..., tf.newaxis]\n",
    "            / tf.reduce_sum(1 / ell[..., tf.newaxis], axis=0, keepdims=True)\n",
    "        )\n",
    "\n",
    "        def theta_hat(param):  # param is S x K\n",
    "            hat = tf.reduce_mean(param[:, tf.newaxis, ...], axis=0, keepdims=True)\n",
    "            hat_w = param[:, tf.newaxis, ...] * weights\n",
    "            hat_w = tf.reduce_sum(hat_w, axis=0, keepdims=True)\n",
    "            v = tf.reduce_mean((param[:, tf.newaxis, ...] - hat) ** 2)\n",
    "            v_w = tf.reduce_sum(\n",
    "                weights * (param[:, tf.newaxis, ...] - hat) ** 2, axis=0, keepdims=True\n",
    "            )\n",
    "            return hat, hat_w, v, v_w\n",
    "\n",
    "        beta_hat, beta_hat_w, beta_v, beta_v_w = theta_hat(beta)\n",
    "        beta0_hat, beta0_hat_w, beta0_v, beta0_v_w = theta_hat(params[\"beta0\"])\n",
    "\n",
    "        # tf.math.exp(0.5*(tf.math.log(beta_v_w) - tf.math.log(beta_v)))-tf.math.sqrt(beta_v_w / beta_v)\n",
    "\n",
    "        beta_adj = beta[:, tf.newaxis, ...] + hbar * (-beta_hat + beta_hat_w)\n",
    "        beta0_adj = params[\"beta0\"][:, tf.newaxis, ...] + hbar * (\n",
    "            -beta0_hat + beta0_hat_w\n",
    "        )\n",
    "\n",
    "        # shift by mean\n",
    "        return beta_adj, beta0_adj, tf.zeros_like(ell)\n",
    "\n",
    "    def T_MM2(X, y, **kwargs):\n",
    "        c = self.slab_scale * tf.math.sqrt(params[\"caux\"])\n",
    "        lambda_tilde = tf.math.abs(c) / tf.math.sqrt(\n",
    "            (c / params[\"lambda\"]) ** 2 + params[\"tau\"] ** 2\n",
    "        )\n",
    "        beta = params[\"z\"] * lambda_tilde * params[\"tau\"]\n",
    "        mu = beta[..., tf.newaxis, :] * X\n",
    "        mu = tf.reduce_sum(mu, -1) + params[\"beta0\"]\n",
    "        sigma = tf.math.sigmoid(mu)\n",
    "        ell = y * (sigma) + (1 - y) * (1 - sigma)  # S x N\n",
    "\n",
    "        weights = (\n",
    "            1\n",
    "            / ell[..., tf.newaxis]\n",
    "            / tf.reduce_sum(1 / ell[..., tf.newaxis], axis=0, keepdims=True)\n",
    "        )\n",
    "\n",
    "        def theta_hat(param):  # param is S x K\n",
    "            hat = tf.reduce_mean(param[:, tf.newaxis, ...], axis=0, keepdims=True)\n",
    "            hat_w = param[:, tf.newaxis, ...] * weights\n",
    "            hat_w = tf.reduce_sum(hat_w, axis=0, keepdims=True)\n",
    "            v = tf.reduce_mean((param[:, tf.newaxis, ...] - hat) ** 2)\n",
    "            v_w = tf.reduce_sum(\n",
    "                weights * (param[:, tf.newaxis, ...] - hat) ** 2, axis=0, keepdims=True\n",
    "            )\n",
    "            return hat, hat_w, v, v_w\n",
    "\n",
    "        beta_hat, beta_hat_w, beta_v, beta_v_w = theta_hat(beta)\n",
    "        beta0_hat, beta0_hat_w, beta0_v, beta0_v_w = theta_hat(params[\"beta0\"])\n",
    "\n",
    "        # tf.math.exp(0.5*(tf.math.log(beta_v_w) - tf.math.log(beta_v)))-tf.math.sqrt(beta_v_w / beta_v)\n",
    "\n",
    "        beta_adj = beta[:, tf.newaxis, ...] + hbar * (\n",
    "            (tf.math.sqrt(beta_v_w / beta_v) - 1) * beta[:, tf.newaxis, ...]\n",
    "            - tf.math.sqrt(beta_v_w / beta_v) * beta_hat\n",
    "            + beta_hat_w\n",
    "        )\n",
    "        beta0_adj = params[\"beta0\"][:, tf.newaxis, ...] + hbar * (\n",
    "            (tf.math.sqrt(beta0_v_w / beta0_v) - 1)\n",
    "            * params[\"beta0\"][:, tf.newaxis, ...]\n",
    "            - tf.math.sqrt(beta0_v_w / beta0_v) * beta0_hat\n",
    "            + beta0_hat_w\n",
    "        )\n",
    "\n",
    "        lJ = tf.math.log(\n",
    "            1\n",
    "            + hbar\n",
    "            * (\n",
    "                beta.shape[-1]\n",
    "                * tf.ones_like(ell)\n",
    "                * (tf.math.sqrt(beta0_v_w / beta0_v) - 1)[..., 0]\n",
    "            )\n",
    "        )\n",
    "        lJ += tf.math.log(1 + hbar * (tf.math.sqrt(beta0_v_w / beta0_v) - 1)[..., 0])\n",
    "\n",
    "        # shift by mean\n",
    "        return beta_adj, beta0_adj, lJ\n",
    "\n",
    "    X_ = tf.gather(_X, ndx_to_leave)\n",
    "    y_ = tf.gather(_y, ndx_to_leave)\n",
    "    (\n",
    "        eta_I,\n",
    "        eta_I_psis,\n",
    "        p_loo_I,\n",
    "        p_loo_I_sd,\n",
    "        ll_loo_I,\n",
    "        ll_loo_I_sd,\n",
    "        S_I,\n",
    "        k_I,\n",
    "        p_psis_I,\n",
    "        ll_psis_I,\n",
    "    ) = IS(T_I, X_, y_)\n",
    "\n",
    "    out = {\n",
    "        \"I0\": {\n",
    "            \"p_loo\": p_loo_I,\n",
    "            \"p_loo_sd\": p_loo_I_sd,\n",
    "            \"ll_loo\": ll_loo_I,\n",
    "            \"ll_loo_sd\": ll_loo_I_sd,\n",
    "            \"S\": S_I,\n",
    "            \"khat\": k_I,\n",
    "            \"p_psis\": p_psis_I,\n",
    "            \"ll_psis\": ll_psis_I,\n",
    "            \"ndx\": ndx_to_leave,\n",
    "        }\n",
    "    }\n",
    "\n",
    "    transforms = {\n",
    "        \"MM1\": T_MM1,\n",
    "        \"MM2\": T_MM2,\n",
    "        \"I\": T_I,\n",
    "        \"KL\": T_kl,\n",
    "        \"Var\": T_var,\n",
    "        \"LL\": T_ll,\n",
    "    }\n",
    "\n",
    "    X_ = tf.gather(_X, ndx_to_transform)\n",
    "    y_ = tf.gather(_y, ndx_to_transform)\n",
    "    for lab, fun in transforms.items():\n",
    "        (\n",
    "            eta_,\n",
    "            eta_psis_,\n",
    "            p_loo_,\n",
    "            p_loo_sd_,\n",
    "            ll_loo_,\n",
    "            ll_loo_s_d,\n",
    "            S_,\n",
    "            k_,\n",
    "            p_psis_,\n",
    "            ll_psis_,\n",
    "        ) = IS(fun, X_, y_)\n",
    "\n",
    "        out = {\n",
    "            **out,\n",
    "            lab: {\n",
    "                \"p_loo\": p_loo_,\n",
    "                \"p_loo_sd\": p_loo_sd_,\n",
    "                \"ll_loo\": ll_loo_,\n",
    "                \"ll_loo_sd\": ll_loo_s_d,\n",
    "                \"S\": S_,\n",
    "                \"khat\": k_,\n",
    "                \"p_psis\": p_psis_,\n",
    "                \"ll_psis\": ll_psis_,\n",
    "                \"ndx\": ndx_to_transform,\n",
    "            },\n",
    "        }\n",
    "\n",
    "    return {**out, \"ndx_transformed\": ndx_to_transform}\n",
    "\n",
    "\n",
    "nparams = 64\n",
    "loo = adaptive_is_loo(\n",
    "    lr_model,\n",
    "    batch,\n",
    "    {k: v[:nparams, ...] for k, v in params.items()},\n",
    "    1e-5,\n",
    "    variational=False,\n",
    ")\n",
    "\n",
    "# loo = adaptive_is_loo(lr_model, test_batch, param_test, 0.01, variational=False)\n",
    "\n",
    "\n",
    "for T in [\"I\", \"LL\", \"KL\", \"Var\", \"MM1\", \"MM2\"]:\n",
    "    print(\n",
    "        f\"{T}: {np.sqrt(np.sum(loo[T]['p_loo_sd']**2))} entropy: {np.sqrt(np.sum(loo[T]['S']))} khat>0.7: {np.sum(loo[T]['khat']>0.7)}\"\n",
    "    )"
   ]
  },
  {
   "cell_type": "code",
   "execution_count": 18,
   "metadata": {},
   "outputs": [
    {
     "name": "stderr",
     "output_type": "stream",
     "text": [
      "  0%|          | 0/1 [00:00<?, ?it/s]2024-10-11 20:45:32.878017: W external/local_tsl/tsl/framework/cpu_allocator_impl.cc:83] Allocation of 7077888000 exceeds 10% of free system memory.\n",
      "2024-10-11 20:45:34.431998: W external/local_tsl/tsl/framework/cpu_allocator_impl.cc:83] Allocation of 11059200000 exceeds 10% of free system memory.\n",
      "2024-10-11 20:45:37.481916: W external/local_tsl/tsl/framework/cpu_allocator_impl.cc:83] Allocation of 11059200000 exceeds 10% of free system memory.\n",
      "2024-10-11 20:45:39.558875: W external/local_tsl/tsl/framework/cpu_allocator_impl.cc:83] Allocation of 11059200000 exceeds 10% of free system memory.\n",
      "100%|██████████| 1/1 [02:53<00:00, 173.37s/it]"
     ]
    },
    {
     "name": "stdout",
     "output_type": "stream",
     "text": [
      "{1000: {1: {'I0': [0, 2, 3, 4, 5, 7, 10, 11, 12, 13, 16, 18, 19, 20, 24, 31, 32, 34, 35, 36, 39, 42, 44, 52], 'I': [], 'LL': [27], 'KL': [], 'Var': [14, 23], 'MM1': [], 'MM2': []}, 0.25: {'I0': [0, 2, 3, 4, 5, 7, 10, 11, 12, 13, 16, 18, 19, 20, 24, 31, 32, 34, 35, 36, 39, 42, 44, 52], 'I': [], 'LL': [], 'KL': [], 'Var': [9, 15], 'MM1': [49, 53], 'MM2': []}, 0.0625: {'I0': [0, 2, 3, 4, 5, 7, 10, 11, 12, 13, 16, 18, 19, 20, 24, 31, 32, 34, 35, 36, 39, 42, 44, 52], 'I': [], 'LL': [17], 'KL': [28, 30], 'Var': [9, 22, 46], 'MM1': [6, 8, 21, 26, 28, 33, 40, 43, 45, 48, 50], 'MM2': []}, 0.015625: {'I0': [0, 2, 3, 4, 5, 7, 10, 11, 12, 13, 16, 18, 19, 20, 24, 31, 32, 34, 35, 36, 39, 42, 44, 52], 'I': [], 'LL': [], 'KL': [15, 47], 'Var': [1, 9, 23, 30], 'MM1': [6, 8, 15, 21, 22, 25, 26, 27, 29, 33, 38, 40, 41, 43, 47, 50, 53], 'MM2': []}, 0.00390625: {'I0': [0, 2, 3, 4, 5, 7, 10, 11, 12, 13, 16, 18, 19, 20, 24, 31, 32, 34, 35, 36, 39, 42, 44, 52], 'I': [], 'LL': [1, 26], 'KL': [6, 8, 17, 21, 22, 49], 'Var': [1, 6, 14, 15, 23, 40, 45, 46], 'MM1': [6, 8, 17, 21, 22, 25, 27, 28, 29, 33, 43, 45, 46, 49, 53], 'MM2': []}, 0.0009765625: {'I0': [0, 2, 3, 4, 5, 7, 10, 11, 12, 13, 16, 18, 19, 20, 24, 31, 32, 34, 35, 36, 39, 42, 44, 52], 'I': [], 'LL': [9, 14, 21, 43, 50], 'KL': [14, 22, 27], 'Var': [1, 14, 15, 23, 27, 45, 46], 'MM1': [6, 8, 9, 14, 22, 26, 28, 33, 38, 40, 41, 43, 48, 51, 53], 'MM2': [6, 8, 9, 15, 17, 21, 22, 26, 28, 29, 33, 40, 43, 45, 46, 47, 48, 50, 51, 53]}, 0.000244140625: {'I0': [0, 2, 3, 4, 5, 7, 10, 11, 12, 13, 16, 18, 19, 20, 24, 31, 32, 34, 35, 36, 39, 42, 44, 52], 'I': [], 'LL': [22, 43, 49], 'KL': [14, 28], 'Var': [1, 14, 23, 43, 45], 'MM1': [6, 8, 17, 21, 25, 26, 27, 28, 33, 37, 38, 41, 43, 45, 50, 53], 'MM2': [26, 27, 28, 29, 33, 38, 47, 50, 51]}, 6.103515625e-05: {'I0': [0, 2, 3, 4, 5, 7, 10, 11, 12, 13, 16, 18, 19, 20, 24, 31, 32, 34, 35, 36, 39, 42, 44, 52], 'I': [], 'LL': [6, 28, 43], 'KL': [45], 'Var': [15, 45], 'MM1': [6, 8, 14, 17, 22, 25, 26, 27, 28, 33, 38, 41, 43, 45, 48, 49, 50, 53], 'MM2': [6, 8, 9, 14, 25, 26, 28, 29, 33]}, 1.52587890625e-05: {'I0': [0, 2, 3, 4, 5, 7, 10, 11, 12, 13, 16, 18, 19, 20, 24, 31, 32, 34, 35, 36, 39, 42, 44, 52], 'I': [], 'LL': [6, 14, 28], 'KL': [1, 6, 45], 'Var': [], 'MM1': [6, 8, 25, 27, 38, 43], 'MM2': [6, 8, 14, 17, 21, 22, 25, 26, 27, 28, 33, 43, 45, 48, 49, 50, 51, 53]}, 3.814697265625e-06: {'I0': [0, 2, 3, 4, 5, 7, 10, 11, 12, 13, 16, 18, 19, 20, 24, 31, 32, 34, 35, 36, 39, 42, 44, 52], 'I': [], 'LL': [6], 'KL': [], 'Var': [], 'MM1': [6, 8], 'MM2': [6, 8, 17, 21, 22, 25, 26, 27, 28, 33, 38, 40, 43, 45, 48, 49, 50, 53]}, 9.5367431640625e-07: {'I0': [0, 2, 3, 4, 5, 7, 10, 11, 12, 13, 16, 18, 19, 20, 24, 31, 32, 34, 35, 36, 39, 42, 44, 52], 'I': [], 'LL': [45], 'KL': [], 'Var': [], 'MM1': [], 'MM2': [1, 6, 8, 21, 22, 26, 27, 28, 33, 40, 43, 45, 48, 49, 50, 51, 53]}}}\n"
     ]
    },
    {
     "name": "stderr",
     "output_type": "stream",
     "text": [
      "\n"
     ]
    }
   ],
   "source": [
    "base = 4\n",
    "h_vals = [base**-r for r in range(11)]\n",
    "\n",
    "loo_output = []\n",
    "\n",
    "for _ in tqdm(range(1)):\n",
    "    loo_khat = {}\n",
    "    reduced_ndx = {}\n",
    "    high_khat_ndx = {}\n",
    "    n_sample = [1000]\n",
    "    records = []\n",
    "    for n_samples in n_sample:\n",
    "        sample_ndx = np.random.choice(range(fit.stan_variables()['beta0'].shape[0]), size=n_samples, replace=False)\n",
    "        reduced_ndx[n_samples] = {}\n",
    "        high_khat_ndx[n_samples] = {}\n",
    "        # print(f\"Samples: {n_samples}\")\n",
    "        loo_khat[n_samples] = {}\n",
    "        params_ = fit.stan_variables()\n",
    "        params_ = {k: v[sample_ndx] for k, v in params_.items()}\n",
    "\n",
    "        params_[\"c\"] = params_[\"c\"][:, tf.newaxis]\n",
    "        params_[\"tau\"] = params_[\"tau\"][:, tf.newaxis]\n",
    "        params_[\"caux\"] = params_[\"caux\"][:, tf.newaxis]\n",
    "        params_[\"beta0\"] = params_[\"beta0\"][:, tf.newaxis]\n",
    "\n",
    "        for h in h_vals:\n",
    "            loo_khat[n_samples][h] = {}\n",
    "            loo = adaptive_is_loo(lr_model, batch, params_, h, variational=False)\n",
    "            reduced_ndx[n_samples][h] = {}\n",
    "            # print(f\"rho={h}\\n\")\n",
    "            for T in [\"I0\", \"I\", \"LL\", \"KL\", \"Var\", \"MM1\", \"MM2\"]:\n",
    "                loo_khat[n_samples][h][T] = np.array(loo[T][\"khat\"])\n",
    "\n",
    "                records += [\n",
    "                    {\n",
    "                        \"h\": h,\n",
    "                        \"T\": T,\n",
    "                        \"S\": n_samples,\n",
    "                        \"khat\": loo[T][\"khat\"],\n",
    "                        \"p_psis\": loo[T][\"p_psis\"].numpy(),\n",
    "                        \"n>0.7\": (np.where((loo[T][\"khat\"] > 0.7))[0]).shape,\n",
    "                        \"ndx\": loo[T][\"ndx\"]\n",
    "                    }\n",
    "                ]\n",
    "                reduced_ndx[n_samples][h][T] = [loo[T][\"ndx\"][k] for k in np.where((loo[T][\"khat\"] <= 0.7))[0]]\n",
    "                # print(reduced_ndx[n_samples][h])\n",
    "\n",
    "\n",
    "print(reduced_ndx)"
   ]
  },
  {
   "cell_type": "markdown",
   "metadata": {},
   "source": [
    "## Look at S=1000 case"
   ]
  },
  {
   "cell_type": "code",
   "execution_count": 19,
   "metadata": {},
   "outputs": [],
   "source": [
    "df = pd.DataFrame(records)\n",
    "df['rho_rank'] = np.emath.logn(base, df['h']) \n",
    "df.head()\n",
    "I0_ = df.loc[(df['S']==n_sample[-1]) & (df['T']==\"I0\")]\n",
    "\n",
    "kl_ = df.loc[(df['S']==n_sample[-1]) & (df['T']==\"KL\")]\n",
    "var_ = df.loc[(df['S']==n_sample[-1]) & (df['T']==\"Var\")]\n",
    "ll_ = df.loc[(df['S']==n_sample[-1]) & (df['T']==\"LL\")]\n",
    "mm1_ = df.loc[(df['S']==n_sample[-1]) & (df['T']==\"MM1\")]\n",
    "I_ = df.loc[(df['S']==n_sample[-1]) & (df['T']==\"I\")]\n",
    "\n",
    "kl_ = kl_.explode(['khat', 'ndx'])\n",
    "var_ = var_.explode(['khat', 'ndx'])\n",
    "ll_ = ll_.explode(['khat', 'ndx'])\n",
    "I_ = I_.explode(['khat', 'ndx'])\n",
    "mm1_ = mm1_.explode(['khat', 'ndx'])\n",
    "\n",
    "original = I_[['khat', 'ndx']].drop_duplicates()\n"
   ]
  },
  {
   "cell_type": "code",
   "execution_count": 20,
   "metadata": {},
   "outputs": [
    {
     "data": {
      "image/png": "[encoded data removed]",
      "text/plain": [
       "<Figure size 400x700 with 1 Axes>"
      ]
     },
     "metadata": {},
     "output_type": "display_data"
    }
   ],
   "source": [
    "fig = plt.figure(figsize=(4, 7))\n",
    "ndx_high_khat = loo['KL']['ndx'].tolist()\n",
    "ymax = (len(ndx_high_khat))\n",
    "_ = plt.scatter(original.khat, np.array([ndx_high_khat.index(i) for i in original['ndx']]) ,color=\"black\", s=12, alpha=0.6)\n",
    "_ = plt.scatter(kl_.khat, np.array([ndx_high_khat.index(i) for i in kl_['ndx']]) + 0.2, s=1, color='green', alpha=0.2)\n",
    "_ = plt.scatter(var_.khat, np.array([ndx_high_khat.index(i) for i in var_['ndx']]) - 0.2, s=1, color='purple', alpha=0.2)\n",
    "\n",
    "kl_ = kl_[kl_.khat<3]\n",
    "ll_ = ll_[ll_.khat<3]\n",
    "var_ = var_[var_.khat<3]\n",
    "_ = plt.axvline(x=0.7, linestyle='dashed', linewidth=2, color='red', alpha=0.5)\n",
    "\n",
    "kl_vals = defaultdict(list)\n",
    "var_vals = defaultdict(list)\n",
    "ll_vals = defaultdict(list)\n",
    "\n",
    "for x, y, s in zip( kl_.khat, kl_['ndx'], kl_['rho_rank'].values.astype('int')):\n",
    "    kl_vals[y] += [x]\n",
    "    \n",
    "for x, y, s in zip( var_.khat, var_['ndx'], var_['rho_rank'].values.astype('int')):\n",
    "    var_vals[y] += [x]\n",
    "\n",
    "for x, v in kl_vals.items():\n",
    "    plt.plot(min(v), ndx_high_khat.index(x)+0.2, color='green', alpha=0.3)\n",
    "    plt.text(min(v), ndx_high_khat.index(x) + 0.2, \"KL\",  ha='center', va='center', color='green', fontsize=8)\n",
    "    \n",
    "for x, v in var_vals.items():\n",
    "    plt.plot(min(v), ndx_high_khat.index(x)-0.2, color='purple', alpha=0.3)\n",
    "    plt.text(min(v), ndx_high_khat.index(x)-0.2, \"Var\",  ha='center', va='center', color='blue', fontsize=8)\n",
    "    \n",
    "    \n",
    "#for x, v in var_vals.items():\n",
    "#    plt.text(min(v), x, \"LL\",  ha='center', va='center', color='purple', fontsize=8)\n",
    "\n",
    "_ = plt.ylabel(\"observation\")\n",
    "_ = plt.ylim(-0.5, ymax - 0.5)\n",
    "_ = plt.xlabel(r'estimated Pareto tail shape $\\hat{k}$')\n",
    "_ = plt.yticks(ticks=np.arange(ymax), labels=loo['KL']['ndx'])\n",
    "_ = plt.xlim((-0.5, 2))\n",
    "_ = plt.xticks([-0.5, 0, 0.7, 1.5, 2])\n",
    "\n",
    "\n",
    "for y0, y1 in zip(np.arange(ymax+ 1)[::2]-0.5, np.arange(ymax + 1)[::2] + 0.5):\n",
    "    plt.axhspan(y0, y1, color='black', alpha=0.1, zorder=0)\n",
    "#_ = plt.xlim((-0.1, 2))\n",
    "_ = plt.savefig(\"khat.pdf\", bbox_inches='tight')"
   ]
  },
  {
   "cell_type": "code",
   "execution_count": 21,
   "metadata": {},
   "outputs": [
    {
     "data": {
      "text/plain": [
       "30"
      ]
     },
     "execution_count": 21,
     "metadata": {},
     "output_type": "execute_result"
    }
   ],
   "source": [
    "len(ndx_high_khat)"
   ]
  },
  {
   "cell_type": "code",
   "execution_count": 22,
   "metadata": {},
   "outputs": [
    {
     "data": {
      "image/png": "[encoded data removed]",
      "text/plain": [
       "<Figure size 600x900 with 1 Axes>"
      ]
     },
     "metadata": {},
     "output_type": "display_data"
    }
   ],
   "source": [
    "fig = plt.figure(figsize=(6, 9))\n",
    "\n",
    "_ = plt.scatter(original.khat, np.array([ndx_high_khat.index(i) for i in original['ndx']]) ,color=\"black\", s=12, alpha=0.6)\n",
    "_ = plt.scatter(kl_.khat, np.array([ndx_high_khat.index(i) for i in kl_['ndx']]), s=0, color='green', alpha=0.2)\n",
    "_ = plt.scatter(var_.khat, np.array([ndx_high_khat.index(i) for i in var_['ndx']]), s=0, color='purple', alpha=0.2)\n",
    "_ = plt.scatter(ll_.khat, np.array([ndx_high_khat.index(i) for i in ll_['ndx']]), s=0, color='green', alpha=0.2)\n",
    "_ = plt.scatter(mm1_.khat, np.array([ndx_high_khat.index(i) for i in mm1_['ndx']]), s=0, color='purple', alpha=0.2)\n",
    "\n",
    "kl_ = kl_[kl_.khat<2]\n",
    "ll_ = ll_[ll_.khat<2]\n",
    "var_ = var_[var_.khat<2]\n",
    "mm1_ = mm1_[mm1_.khat<2]\n",
    "_ = plt.axvline(x=0.7, linestyle='dotted', linewidth=2, color='red')\n",
    "\n",
    "for x, y, s in zip( kl_.khat, kl_['ndx'], kl_['rho_rank'].values.astype('int')):\n",
    "    if s > 7:\n",
    "        continue\n",
    "    plt.text(x, ndx_high_khat.index(y) + 0.2, str(s),  ha='center', va='center', color='green', fontsize=8)\n",
    "    \n",
    "for x, y, s in zip( var_.khat, var_['ndx'], var_['rho_rank'].values.astype('int')):\n",
    "    if s > 7:\n",
    "        continue\n",
    "    plt.text(x, ndx_high_khat.index(y) + 0.1, str(s),  ha='center', va='center', color='blue', fontsize=8)\n",
    "\n",
    "for x, y, s in zip( ll_.khat, ll_['ndx'], ll_['rho_rank'].values.astype('int')):\n",
    "    if s > 3:\n",
    "        continue\n",
    "    plt.text(x, ndx_high_khat.index(y) - 0.1, str(s),  ha='center', va='center', color='orange', fontsize=8)\n",
    "\n",
    "for x, y, s in zip( mm1_.khat, mm1_['ndx'], mm1_['rho_rank'].values.astype('int')):\n",
    "    if s > 3:\n",
    "        continue\n",
    "    plt.text(x, ndx_high_khat.index(y) - 0.2, str(s),  ha='center', va='center', color='red', fontsize=8)\n",
    "    \n",
    "_ = plt.ylabel(\"observation\")\n",
    "_ = plt.ylim(-0.5, ymax - 0.5)\n",
    "_ = plt.xlabel(r'estimated Pareto tail shape $\\hat{k}$')\n",
    "_ = plt.yticks(ticks=np.arange(ymax), labels=loo['KL']['ndx'])\n",
    "_ = plt.xlim((-0.5, 2))\n",
    "_ = plt.xticks([-0.5, 0, 0.7, 1.5, 2])\n",
    "\n",
    "\n",
    "for y0, y1 in zip(np.arange(ymax+ 1)[::2]-0.5, np.arange(ymax + 1)[::2] + 0.5):\n",
    "    plt.axhspan(y0, y1, color='black', alpha=0.1, zorder=0)\n",
    "#_ = plt.xlim((-0.1, 2))\n",
    "_ = plt.savefig(\"khat_detailed.pdf\", bbox_inches='tight')"
   ]
  },
  {
   "cell_type": "code",
   "execution_count": 23,
   "metadata": {},
   "outputs": [],
   "source": [
    "df_ = df.explode(['khat', \"p_psis\", 'ndx'])[['ndx', 'p_psis', 'khat', 'T']]\n",
    "#df_ = df_[df_['p_psis']!=1]\n",
    "#df_ = df_[df_['p_psis']>1e-5]\n",
    "df_ = df_[df_['T']!=\"MM2\"]\n",
    "\n",
    "df_ = df_.groupby(['ndx'])[['khat', 'p_psis']].min()\n",
    "\n",
    "pd.set_option('display.max_rows', 500)\n",
    "\n",
    "df_ = df_.reset_index()\n",
    "df_['y'] = [y_.tolist()[i][0] for i in df_['ndx'].values]\n"
   ]
  },
  {
   "cell_type": "code",
   "execution_count": 24,
   "metadata": {},
   "outputs": [],
   "source": [
    "fpr, tpr, thresholds = metrics.roc_curve(df_['y'], df_.p_psis, pos_label=1)\n",
    "precision, recall, thresholds_pr = metrics.precision_recall_curve(df_['y'], df_.p_psis)"
   ]
  },
  {
   "cell_type": "code",
   "execution_count": 25,
   "metadata": {},
   "outputs": [
    {
     "data": {
      "text/plain": [
       "[<matplotlib.lines.Line2D at 0x7fdd4859b610>]"
      ]
     },
     "execution_count": 25,
     "metadata": {},
     "output_type": "execute_result"
    },
    {
     "data": {
      "image/png": "[encoded data removed]",
      "text/plain": [
       "<Figure size 640x480 with 1 Axes>"
      ]
     },
     "metadata": {},
     "output_type": "display_data"
    }
   ],
   "source": [
    "plt.plot(fpr, tpr)\n",
    "plt.plot(recall, precision)"
   ]
  },
  {
   "cell_type": "markdown",
   "metadata": {},
   "source": [
    "# Cross-tabulations"
   ]
  },
  {
   "cell_type": "code",
   "execution_count": 26,
   "metadata": {},
   "outputs": [],
   "source": [
    "df__ = df.explode(['khat', 'ndx'])[['ndx', 'khat', 'T']]\n",
    "transforms = [\"KL\", \"Var\", \"LL\", \"MM1\", \"MM2\"]\n"
   ]
  },
  {
   "cell_type": "code",
   "execution_count": 27,
   "metadata": {},
   "outputs": [
    {
     "name": "stdout",
     "output_type": "stream",
     "text": [
      "KL: 14\n",
      "Var: 13\n",
      "LL: 14\n",
      "MM1: 27\n",
      "MM2: 26\n",
      "30\n"
     ]
    }
   ],
   "source": [
    "for T in transforms:\n",
    "    _df__ = df__.loc[(df__['T']==T) & (df__['khat']<0.7)]\n",
    "    print(f\"{T}: {_df__.groupby('ndx').min().shape[0]}\")\n",
    "print(len(df__[df__['T']!=\"I0\"].ndx.unique()))"
   ]
  },
  {
   "cell_type": "code",
   "execution_count": 28,
   "metadata": {},
   "outputs": [
    {
     "name": "stdout",
     "output_type": "stream",
     "text": [
      "19\n"
     ]
    }
   ],
   "source": [
    "print(f\"{df__.loc[((df__['T']=='KL') | (df__['T']=='Var')) & (df__['khat']<0.7)].groupby('ndx').min().shape[0]}\")"
   ]
  },
  {
   "cell_type": "code",
   "execution_count": 29,
   "metadata": {},
   "outputs": [
    {
     "name": "stdout",
     "output_type": "stream",
     "text": [
      "28\n"
     ]
    }
   ],
   "source": [
    "print(f\"{df__.loc[((df__['T']=='LL') | (df__['T']=='MM1')) &(df__['T']!='I0') & (df__['khat']<0.7)].groupby('ndx').min().shape[0]}\")"
   ]
  },
  {
   "cell_type": "code",
   "execution_count": 30,
   "metadata": {},
   "outputs": [
    {
     "name": "stdout",
     "output_type": "stream",
     "text": [
      "28\n"
     ]
    }
   ],
   "source": [
    "print(f\"{df__.loc[(df__['T']!='MM1') &(df__['T']!='I0') & (df__['khat']<0.7)].groupby('ndx').min().shape[0]}\")"
   ]
  },
  {
   "cell_type": "code",
   "execution_count": 31,
   "metadata": {},
   "outputs": [
    {
     "data": {
      "text/plain": [
       "30"
      ]
     },
     "execution_count": 31,
     "metadata": {},
     "output_type": "execute_result"
    }
   ],
   "source": [
    "len(df__[df__['T']!=\"I0\"].ndx.unique())"
   ]
  },
  {
   "cell_type": "markdown",
   "metadata": {},
   "source": [
    "# Compare with variational model"
   ]
  },
  {
   "cell_type": "code",
   "execution_count": 32,
   "metadata": {},
   "outputs": [],
   "source": [
    "lr_model2 = LogisticRegression2(\n",
    "    dim_regressors=d,\n",
    "    slab_df=slab_df,\n",
    "    slab_scale=slab_scale,\n",
    "    scale_icept=scale_icept,\n",
    "    nu_global=1,\n",
    "    nu_local=1,\n",
    "    scale_global=scale_global,\n",
    ")"
   ]
  },
  {
   "cell_type": "code",
   "execution_count": 33,
   "metadata": {},
   "outputs": [
    {
     "name": "stdout",
     "output_type": "stream",
     "text": [
      "Running optimization for 10000 steps of 9 accumulated batches, checking every 50 steps\n",
      "Saved a checkpoint: /tmp/tfcheckpoints/bbe45751-03c4-41c7-b86e-f3e146f02327/bbe45751-03c4-41c7-b86e-f3e146f02327-1\n"
     ]
    },
    {
     "name": "stderr",
     "output_type": "stream",
     "text": [
      "  0%|          | 48/10000 [00:05<14:00, 11.83it/s] "
     ]
    },
    {
     "name": "stdout",
     "output_type": "stream",
     "text": [
      "Step 50: average-batch loss:15010.827783455745 rel loss: 6.661857789762632e+303\n",
      "Saved a checkpoint: /tmp/tfcheckpoints/bbe45751-03c4-41c7-b86e-f3e146f02327/bbe45751-03c4-41c7-b86e-f3e146f02327-2\n"
     ]
    },
    {
     "name": "stderr",
     "output_type": "stream",
     "text": [
      "  1%|          | 98/10000 [00:09<14:05, 11.71it/s]"
     ]
    },
    {
     "name": "stdout",
     "output_type": "stream",
     "text": [
      "Step 100: average-batch loss:14902.18485517416 rel loss: 0.00729040267165003\n",
      "Saved a checkpoint: /tmp/tfcheckpoints/bbe45751-03c4-41c7-b86e-f3e146f02327/bbe45751-03c4-41c7-b86e-f3e146f02327-3\n"
     ]
    },
    {
     "name": "stderr",
     "output_type": "stream",
     "text": [
      "  1%|▏         | 148/10000 [00:13<13:59, 11.74it/s]"
     ]
    },
    {
     "name": "stdout",
     "output_type": "stream",
     "text": [
      "Step 150: average-batch loss:14795.594792249476 rel loss: 0.00720417559559826\n",
      "Saved a checkpoint: /tmp/tfcheckpoints/bbe45751-03c4-41c7-b86e-f3e146f02327/bbe45751-03c4-41c7-b86e-f3e146f02327-4\n"
     ]
    },
    {
     "name": "stderr",
     "output_type": "stream",
     "text": [
      "  2%|▏         | 198/10000 [00:18<14:01, 11.65it/s]"
     ]
    },
    {
     "name": "stdout",
     "output_type": "stream",
     "text": [
      "Step 200: average-batch loss:14687.969348080527 rel loss: 0.007327455662413521\n",
      "Saved a checkpoint: /tmp/tfcheckpoints/bbe45751-03c4-41c7-b86e-f3e146f02327/bbe45751-03c4-41c7-b86e-f3e146f02327-5\n"
     ]
    },
    {
     "name": "stderr",
     "output_type": "stream",
     "text": [
      "  2%|▏         | 248/10000 [00:22<13:52, 11.71it/s]"
     ]
    },
    {
     "name": "stdout",
     "output_type": "stream",
     "text": [
      "Step 250: average-batch loss:14585.67191715563 rel loss: 0.007013556283586403\n",
      "Saved a checkpoint: /tmp/tfcheckpoints/bbe45751-03c4-41c7-b86e-f3e146f02327/bbe45751-03c4-41c7-b86e-f3e146f02327-6\n"
     ]
    },
    {
     "name": "stderr",
     "output_type": "stream",
     "text": [
      "  3%|▎         | 298/10000 [00:26<13:35, 11.90it/s]"
     ]
    },
    {
     "name": "stdout",
     "output_type": "stream",
     "text": [
      "Step 300: average-batch loss:14480.111914250325 rel loss: 0.007289999105698961\n",
      "Saved a checkpoint: /tmp/tfcheckpoints/bbe45751-03c4-41c7-b86e-f3e146f02327/bbe45751-03c4-41c7-b86e-f3e146f02327-7\n"
     ]
    },
    {
     "name": "stderr",
     "output_type": "stream",
     "text": [
      "  3%|▎         | 348/10000 [00:31<13:34, 11.86it/s]"
     ]
    },
    {
     "name": "stdout",
     "output_type": "stream",
     "text": [
      "Step 350: average-batch loss:14380.62008644131 rel loss: 0.006918465769276578\n",
      "Saved a checkpoint: /tmp/tfcheckpoints/bbe45751-03c4-41c7-b86e-f3e146f02327/bbe45751-03c4-41c7-b86e-f3e146f02327-8\n"
     ]
    },
    {
     "name": "stderr",
     "output_type": "stream",
     "text": [
      "  4%|▍         | 398/10000 [00:35<13:33, 11.80it/s]"
     ]
    },
    {
     "name": "stdout",
     "output_type": "stream",
     "text": [
      "Step 400: average-batch loss:14278.095968530648 rel loss: 0.007180517495934174\n",
      "Saved a checkpoint: /tmp/tfcheckpoints/bbe45751-03c4-41c7-b86e-f3e146f02327/bbe45751-03c4-41c7-b86e-f3e146f02327-9\n"
     ]
    },
    {
     "name": "stderr",
     "output_type": "stream",
     "text": [
      "  4%|▍         | 448/10000 [00:39<13:30, 11.79it/s]"
     ]
    },
    {
     "name": "stdout",
     "output_type": "stream",
     "text": [
      "Step 450: average-batch loss:14176.615410843455 rel loss: 0.007158306460763009\n",
      "Saved a checkpoint: /tmp/tfcheckpoints/bbe45751-03c4-41c7-b86e-f3e146f02327/bbe45751-03c4-41c7-b86e-f3e146f02327-10\n"
     ]
    },
    {
     "name": "stderr",
     "output_type": "stream",
     "text": [
      "  5%|▍         | 498/10000 [00:43<13:35, 11.66it/s]"
     ]
    },
    {
     "name": "stdout",
     "output_type": "stream",
     "text": [
      "Step 500: average-batch loss:14076.702848073039 rel loss: 0.007097724790297265\n",
      "Saved a checkpoint: /tmp/tfcheckpoints/bbe45751-03c4-41c7-b86e-f3e146f02327/bbe45751-03c4-41c7-b86e-f3e146f02327-11\n"
     ]
    },
    {
     "name": "stderr",
     "output_type": "stream",
     "text": [
      "  5%|▌         | 548/10000 [00:48<13:19, 11.83it/s]"
     ]
    },
    {
     "name": "stdout",
     "output_type": "stream",
     "text": [
      "Step 550: average-batch loss:13969.256049111524 rel loss: 0.0076916622176417815\n",
      "Saved a checkpoint: /tmp/tfcheckpoints/bbe45751-03c4-41c7-b86e-f3e146f02327/bbe45751-03c4-41c7-b86e-f3e146f02327-12\n"
     ]
    },
    {
     "name": "stderr",
     "output_type": "stream",
     "text": [
      "  6%|▌         | 598/10000 [00:52<13:17, 11.79it/s]"
     ]
    },
    {
     "name": "stdout",
     "output_type": "stream",
     "text": [
      "Step 600: average-batch loss:13877.290046566795 rel loss: 0.006627086573540377\n",
      "Saved a checkpoint: /tmp/tfcheckpoints/bbe45751-03c4-41c7-b86e-f3e146f02327/bbe45751-03c4-41c7-b86e-f3e146f02327-13\n"
     ]
    },
    {
     "name": "stderr",
     "output_type": "stream",
     "text": [
      "  6%|▋         | 648/10000 [00:56<13:18, 11.71it/s]"
     ]
    },
    {
     "name": "stdout",
     "output_type": "stream",
     "text": [
      "Step 650: average-batch loss:13779.708364616972 rel loss: 0.00708154914224381\n",
      "Saved a checkpoint: /tmp/tfcheckpoints/bbe45751-03c4-41c7-b86e-f3e146f02327/bbe45751-03c4-41c7-b86e-f3e146f02327-14\n"
     ]
    },
    {
     "name": "stderr",
     "output_type": "stream",
     "text": [
      "  7%|▋         | 698/10000 [01:01<13:02, 11.89it/s]"
     ]
    },
    {
     "name": "stdout",
     "output_type": "stream",
     "text": [
      "Step 700: average-batch loss:13675.10090945129 rel loss: 0.007649483236601535\n",
      "Saved a checkpoint: /tmp/tfcheckpoints/bbe45751-03c4-41c7-b86e-f3e146f02327/bbe45751-03c4-41c7-b86e-f3e146f02327-15\n"
     ]
    },
    {
     "name": "stderr",
     "output_type": "stream",
     "text": [
      "  7%|▋         | 748/10000 [01:05<13:02, 11.83it/s]"
     ]
    },
    {
     "name": "stdout",
     "output_type": "stream",
     "text": [
      "Step 750: average-batch loss:13575.70539744934 rel loss: 0.0073215725512595295\n",
      "Saved a checkpoint: /tmp/tfcheckpoints/bbe45751-03c4-41c7-b86e-f3e146f02327/bbe45751-03c4-41c7-b86e-f3e146f02327-16\n"
     ]
    },
    {
     "name": "stderr",
     "output_type": "stream",
     "text": [
      "  8%|▊         | 798/10000 [01:09<13:24, 11.44it/s]"
     ]
    },
    {
     "name": "stdout",
     "output_type": "stream",
     "text": [
      "Step 800: average-batch loss:13478.383839365133 rel loss: 0.007220565851520535\n",
      "Saved a checkpoint: /tmp/tfcheckpoints/bbe45751-03c4-41c7-b86e-f3e146f02327/bbe45751-03c4-41c7-b86e-f3e146f02327-17\n"
     ]
    },
    {
     "name": "stderr",
     "output_type": "stream",
     "text": [
      "  8%|▊         | 848/10000 [01:14<13:07, 11.63it/s]"
     ]
    },
    {
     "name": "stdout",
     "output_type": "stream",
     "text": [
      "Step 850: average-batch loss:13384.409211069764 rel loss: 0.007021201071590535\n",
      "Saved a checkpoint: /tmp/tfcheckpoints/bbe45751-03c4-41c7-b86e-f3e146f02327/bbe45751-03c4-41c7-b86e-f3e146f02327-18\n"
     ]
    },
    {
     "name": "stderr",
     "output_type": "stream",
     "text": [
      "  9%|▉         | 898/10000 [01:18<12:49, 11.84it/s]"
     ]
    },
    {
     "name": "stdout",
     "output_type": "stream",
     "text": [
      "Step 900: average-batch loss:13288.033697719735 rel loss: 0.0072528047070325626\n",
      "Saved a checkpoint: /tmp/tfcheckpoints/bbe45751-03c4-41c7-b86e-f3e146f02327/bbe45751-03c4-41c7-b86e-f3e146f02327-19\n"
     ]
    },
    {
     "name": "stderr",
     "output_type": "stream",
     "text": [
      "  9%|▉         | 948/10000 [01:22<12:46, 11.80it/s]"
     ]
    },
    {
     "name": "stdout",
     "output_type": "stream",
     "text": [
      "Step 950: average-batch loss:13195.871420650752 rel loss: 0.0069841751356226715\n",
      "Saved a checkpoint: /tmp/tfcheckpoints/bbe45751-03c4-41c7-b86e-f3e146f02327/bbe45751-03c4-41c7-b86e-f3e146f02327-20\n"
     ]
    },
    {
     "name": "stderr",
     "output_type": "stream",
     "text": [
      " 10%|▉         | 998/10000 [01:27<12:41, 11.83it/s]"
     ]
    },
    {
     "name": "stdout",
     "output_type": "stream",
     "text": [
      "Step 1000: average-batch loss:13098.683731294082 rel loss: 0.007419653100294218\n",
      "Saved a checkpoint: /tmp/tfcheckpoints/bbe45751-03c4-41c7-b86e-f3e146f02327/bbe45751-03c4-41c7-b86e-f3e146f02327-21\n"
     ]
    },
    {
     "name": "stderr",
     "output_type": "stream",
     "text": [
      " 10%|█         | 1048/10000 [01:31<12:33, 11.87it/s]"
     ]
    },
    {
     "name": "stdout",
     "output_type": "stream",
     "text": [
      "Step 1050: average-batch loss:13006.370466635126 rel loss: 0.0070975423078840595\n",
      "Saved a checkpoint: /tmp/tfcheckpoints/bbe45751-03c4-41c7-b86e-f3e146f02327/bbe45751-03c4-41c7-b86e-f3e146f02327-22\n"
     ]
    },
    {
     "name": "stderr",
     "output_type": "stream",
     "text": [
      " 11%|█         | 1098/10000 [01:35<13:37, 10.89it/s]"
     ]
    },
    {
     "name": "stdout",
     "output_type": "stream",
     "text": [
      "Step 1100: average-batch loss:12911.562732733017 rel loss: 0.007342855072202488\n",
      "Saved a checkpoint: /tmp/tfcheckpoints/bbe45751-03c4-41c7-b86e-f3e146f02327/bbe45751-03c4-41c7-b86e-f3e146f02327-23\n"
     ]
    },
    {
     "name": "stderr",
     "output_type": "stream",
     "text": [
      " 11%|█▏        | 1148/10000 [01:39<12:30, 11.80it/s]"
     ]
    },
    {
     "name": "stdout",
     "output_type": "stream",
     "text": [
      "Step 1150: average-batch loss:12815.189890918058 rel loss: 0.007520203963833308\n",
      "Saved a checkpoint: /tmp/tfcheckpoints/bbe45751-03c4-41c7-b86e-f3e146f02327/bbe45751-03c4-41c7-b86e-f3e146f02327-24\n"
     ]
    },
    {
     "name": "stderr",
     "output_type": "stream",
     "text": [
      " 12%|█▏        | 1198/10000 [01:44<12:30, 11.73it/s]"
     ]
    },
    {
     "name": "stdout",
     "output_type": "stream",
     "text": [
      "Step 1200: average-batch loss:12719.507928659037 rel loss: 0.007522457849445152\n",
      "Saved a checkpoint: /tmp/tfcheckpoints/bbe45751-03c4-41c7-b86e-f3e146f02327/bbe45751-03c4-41c7-b86e-f3e146f02327-25\n"
     ]
    },
    {
     "name": "stderr",
     "output_type": "stream",
     "text": [
      " 12%|█▏        | 1248/10000 [01:48<12:14, 11.91it/s]"
     ]
    },
    {
     "name": "stdout",
     "output_type": "stream",
     "text": [
      "Step 1250: average-batch loss:12630.577923259985 rel loss: 0.0070408500655604845\n",
      "Saved a checkpoint: /tmp/tfcheckpoints/bbe45751-03c4-41c7-b86e-f3e146f02327/bbe45751-03c4-41c7-b86e-f3e146f02327-26\n"
     ]
    },
    {
     "name": "stderr",
     "output_type": "stream",
     "text": [
      " 13%|█▎        | 1298/10000 [01:52<12:10, 11.91it/s]"
     ]
    },
    {
     "name": "stdout",
     "output_type": "stream",
     "text": [
      "Step 1300: average-batch loss:12536.423615568901 rel loss: 0.007510459966760717\n",
      "Saved a checkpoint: /tmp/tfcheckpoints/bbe45751-03c4-41c7-b86e-f3e146f02327/bbe45751-03c4-41c7-b86e-f3e146f02327-27\n"
     ]
    },
    {
     "name": "stderr",
     "output_type": "stream",
     "text": [
      " 13%|█▎        | 1348/10000 [01:56<12:14, 11.77it/s]"
     ]
    },
    {
     "name": "stdout",
     "output_type": "stream",
     "text": [
      "Step 1350: average-batch loss:12439.994630129608 rel loss: 0.00775152950675261\n",
      "Saved a checkpoint: /tmp/tfcheckpoints/bbe45751-03c4-41c7-b86e-f3e146f02327/bbe45751-03c4-41c7-b86e-f3e146f02327-28\n"
     ]
    },
    {
     "name": "stderr",
     "output_type": "stream",
     "text": [
      " 14%|█▍        | 1398/10000 [02:01<13:01, 11.00it/s]"
     ]
    },
    {
     "name": "stdout",
     "output_type": "stream",
     "text": [
      "Step 1400: average-batch loss:12349.68039250823 rel loss: 0.007313082990889881\n",
      "Saved a checkpoint: /tmp/tfcheckpoints/bbe45751-03c4-41c7-b86e-f3e146f02327/bbe45751-03c4-41c7-b86e-f3e146f02327-29\n"
     ]
    },
    {
     "name": "stderr",
     "output_type": "stream",
     "text": [
      " 14%|█▍        | 1448/10000 [02:05<12:05, 11.79it/s]"
     ]
    },
    {
     "name": "stdout",
     "output_type": "stream",
     "text": [
      "Step 1450: average-batch loss:12262.57608193621 rel loss: 0.007103263620140299\n",
      "Saved a checkpoint: /tmp/tfcheckpoints/bbe45751-03c4-41c7-b86e-f3e146f02327/bbe45751-03c4-41c7-b86e-f3e146f02327-30\n"
     ]
    },
    {
     "name": "stderr",
     "output_type": "stream",
     "text": [
      " 15%|█▍        | 1498/10000 [02:09<12:11, 11.62it/s]"
     ]
    },
    {
     "name": "stdout",
     "output_type": "stream",
     "text": [
      "Step 1500: average-batch loss:12167.557788384443 rel loss: 0.007809150792977831\n",
      "Saved a checkpoint: /tmp/tfcheckpoints/bbe45751-03c4-41c7-b86e-f3e146f02327/bbe45751-03c4-41c7-b86e-f3e146f02327-31\n"
     ]
    },
    {
     "name": "stderr",
     "output_type": "stream",
     "text": [
      " 15%|█▌        | 1548/10000 [02:14<11:54, 11.84it/s]"
     ]
    },
    {
     "name": "stdout",
     "output_type": "stream",
     "text": [
      "Step 1550: average-batch loss:12073.662503918944 rel loss: 0.007776868405508474\n",
      "Saved a checkpoint: /tmp/tfcheckpoints/bbe45751-03c4-41c7-b86e-f3e146f02327/bbe45751-03c4-41c7-b86e-f3e146f02327-32\n"
     ]
    },
    {
     "name": "stderr",
     "output_type": "stream",
     "text": [
      " 16%|█▌        | 1598/10000 [02:18<11:55, 11.75it/s]"
     ]
    },
    {
     "name": "stdout",
     "output_type": "stream",
     "text": [
      "Step 1600: average-batch loss:11984.894122683458 rel loss: 0.007406688814002697\n",
      "Saved a checkpoint: /tmp/tfcheckpoints/bbe45751-03c4-41c7-b86e-f3e146f02327/bbe45751-03c4-41c7-b86e-f3e146f02327-33\n"
     ]
    },
    {
     "name": "stderr",
     "output_type": "stream",
     "text": [
      " 16%|█▋        | 1648/10000 [02:22<11:50, 11.76it/s]"
     ]
    },
    {
     "name": "stdout",
     "output_type": "stream",
     "text": [
      "Step 1650: average-batch loss:11887.921243174325 rel loss: 0.00815726126759219\n",
      "Saved a checkpoint: /tmp/tfcheckpoints/bbe45751-03c4-41c7-b86e-f3e146f02327/bbe45751-03c4-41c7-b86e-f3e146f02327-34\n"
     ]
    },
    {
     "name": "stderr",
     "output_type": "stream",
     "text": [
      " 17%|█▋        | 1698/10000 [02:27<12:17, 11.25it/s]"
     ]
    },
    {
     "name": "stdout",
     "output_type": "stream",
     "text": [
      "Step 1700: average-batch loss:11804.208035892882 rel loss: 0.0070918105667824825\n",
      "Saved a checkpoint: /tmp/tfcheckpoints/bbe45751-03c4-41c7-b86e-f3e146f02327/bbe45751-03c4-41c7-b86e-f3e146f02327-35\n"
     ]
    },
    {
     "name": "stderr",
     "output_type": "stream",
     "text": [
      " 17%|█▋        | 1748/10000 [02:31<11:41, 11.76it/s]"
     ]
    },
    {
     "name": "stdout",
     "output_type": "stream",
     "text": [
      "Step 1750: average-batch loss:11711.248712101768 rel loss: 0.007937609906196843\n",
      "Saved a checkpoint: /tmp/tfcheckpoints/bbe45751-03c4-41c7-b86e-f3e146f02327/bbe45751-03c4-41c7-b86e-f3e146f02327-36\n"
     ]
    },
    {
     "name": "stderr",
     "output_type": "stream",
     "text": [
      " 18%|█▊        | 1798/10000 [02:35<11:43, 11.66it/s]"
     ]
    },
    {
     "name": "stdout",
     "output_type": "stream",
     "text": [
      "Step 1800: average-batch loss:11620.849684191715 rel loss: 0.007779037709525307\n",
      "Saved a checkpoint: /tmp/tfcheckpoints/bbe45751-03c4-41c7-b86e-f3e146f02327/bbe45751-03c4-41c7-b86e-f3e146f02327-37\n"
     ]
    },
    {
     "name": "stderr",
     "output_type": "stream",
     "text": [
      " 18%|█▊        | 1848/10000 [02:39<11:43, 11.58it/s]"
     ]
    },
    {
     "name": "stdout",
     "output_type": "stream",
     "text": [
      "Step 1850: average-batch loss:11534.415995349234 rel loss: 0.007493547040208296\n",
      "Saved a checkpoint: /tmp/tfcheckpoints/bbe45751-03c4-41c7-b86e-f3e146f02327/bbe45751-03c4-41c7-b86e-f3e146f02327-38\n"
     ]
    },
    {
     "name": "stderr",
     "output_type": "stream",
     "text": [
      " 19%|█▉        | 1898/10000 [02:44<11:27, 11.78it/s]"
     ]
    },
    {
     "name": "stdout",
     "output_type": "stream",
     "text": [
      "Step 1900: average-batch loss:11441.634984990518 rel loss: 0.008109069244074747\n",
      "Saved a checkpoint: /tmp/tfcheckpoints/bbe45751-03c4-41c7-b86e-f3e146f02327/bbe45751-03c4-41c7-b86e-f3e146f02327-39\n"
     ]
    },
    {
     "name": "stderr",
     "output_type": "stream",
     "text": [
      " 19%|█▉        | 1948/10000 [02:48<11:23, 11.78it/s]"
     ]
    },
    {
     "name": "stdout",
     "output_type": "stream",
     "text": [
      "Step 1950: average-batch loss:11358.119024504009 rel loss: 0.007352974582000065\n",
      "Saved a checkpoint: /tmp/tfcheckpoints/bbe45751-03c4-41c7-b86e-f3e146f02327/bbe45751-03c4-41c7-b86e-f3e146f02327-40\n"
     ]
    },
    {
     "name": "stderr",
     "output_type": "stream",
     "text": [
      " 20%|█▉        | 1998/10000 [02:52<11:26, 11.66it/s]"
     ]
    },
    {
     "name": "stdout",
     "output_type": "stream",
     "text": [
      "Step 2000: average-batch loss:11261.696085345933 rel loss: 0.008562026397031276\n",
      "Saved a checkpoint: /tmp/tfcheckpoints/bbe45751-03c4-41c7-b86e-f3e146f02327/bbe45751-03c4-41c7-b86e-f3e146f02327-41\n"
     ]
    },
    {
     "name": "stderr",
     "output_type": "stream",
     "text": [
      " 20%|██        | 2048/10000 [02:57<11:16, 11.75it/s]"
     ]
    },
    {
     "name": "stdout",
     "output_type": "stream",
     "text": [
      "Step 2050: average-batch loss:11178.018308208335 rel loss: 0.007485922354962622\n",
      "Saved a checkpoint: /tmp/tfcheckpoints/bbe45751-03c4-41c7-b86e-f3e146f02327/bbe45751-03c4-41c7-b86e-f3e146f02327-42\n"
     ]
    },
    {
     "name": "stderr",
     "output_type": "stream",
     "text": [
      " 21%|██        | 2098/10000 [03:01<11:10, 11.79it/s]"
     ]
    },
    {
     "name": "stdout",
     "output_type": "stream",
     "text": [
      "Step 2100: average-batch loss:11086.346365357527 rel loss: 0.008268904815860977\n",
      "Saved a checkpoint: /tmp/tfcheckpoints/bbe45751-03c4-41c7-b86e-f3e146f02327/bbe45751-03c4-41c7-b86e-f3e146f02327-43\n"
     ]
    },
    {
     "name": "stderr",
     "output_type": "stream",
     "text": [
      " 21%|██▏       | 2148/10000 [03:05<11:17, 11.58it/s]"
     ]
    },
    {
     "name": "stdout",
     "output_type": "stream",
     "text": [
      "Step 2150: average-batch loss:11003.427139635209 rel loss: 0.007535763600745531\n",
      "Saved a checkpoint: /tmp/tfcheckpoints/bbe45751-03c4-41c7-b86e-f3e146f02327/bbe45751-03c4-41c7-b86e-f3e146f02327-44\n"
     ]
    },
    {
     "name": "stderr",
     "output_type": "stream",
     "text": [
      " 22%|██▏       | 2198/10000 [03:10<11:07, 11.69it/s]"
     ]
    },
    {
     "name": "stdout",
     "output_type": "stream",
     "text": [
      "Step 2200: average-batch loss:10914.09027724583 rel loss: 0.008185461190075715\n",
      "Saved a checkpoint: /tmp/tfcheckpoints/bbe45751-03c4-41c7-b86e-f3e146f02327/bbe45751-03c4-41c7-b86e-f3e146f02327-45\n"
     ]
    },
    {
     "name": "stderr",
     "output_type": "stream",
     "text": [
      " 22%|██▏       | 2248/10000 [03:14<10:57, 11.80it/s]"
     ]
    },
    {
     "name": "stdout",
     "output_type": "stream",
     "text": [
      "Step 2250: average-batch loss:10827.04806066154 rel loss: 0.008039330397040079\n",
      "Saved a checkpoint: /tmp/tfcheckpoints/bbe45751-03c4-41c7-b86e-f3e146f02327/bbe45751-03c4-41c7-b86e-f3e146f02327-46\n"
     ]
    },
    {
     "name": "stderr",
     "output_type": "stream",
     "text": [
      " 23%|██▎       | 2298/10000 [03:18<10:51, 11.82it/s]"
     ]
    },
    {
     "name": "stdout",
     "output_type": "stream",
     "text": [
      "Step 2300: average-batch loss:10739.58166230442 rel loss: 0.008144302181166428\n",
      "Saved a checkpoint: /tmp/tfcheckpoints/bbe45751-03c4-41c7-b86e-f3e146f02327/bbe45751-03c4-41c7-b86e-f3e146f02327-47\n"
     ]
    },
    {
     "name": "stderr",
     "output_type": "stream",
     "text": [
      " 23%|██▎       | 2348/10000 [03:22<10:50, 11.77it/s]"
     ]
    },
    {
     "name": "stdout",
     "output_type": "stream",
     "text": [
      "Step 2350: average-batch loss:10651.648239658869 rel loss: 0.008255381765063477\n",
      "Saved a checkpoint: /tmp/tfcheckpoints/bbe45751-03c4-41c7-b86e-f3e146f02327/bbe45751-03c4-41c7-b86e-f3e146f02327-48\n"
     ]
    },
    {
     "name": "stderr",
     "output_type": "stream",
     "text": [
      " 24%|██▍       | 2398/10000 [03:27<10:43, 11.80it/s]"
     ]
    },
    {
     "name": "stdout",
     "output_type": "stream",
     "text": [
      "Step 2400: average-batch loss:10567.559440229596 rel loss: 0.007957258239698766\n",
      "Saved a checkpoint: /tmp/tfcheckpoints/bbe45751-03c4-41c7-b86e-f3e146f02327/bbe45751-03c4-41c7-b86e-f3e146f02327-49\n"
     ]
    },
    {
     "name": "stderr",
     "output_type": "stream",
     "text": [
      " 24%|██▍       | 2448/10000 [03:31<10:53, 11.56it/s]"
     ]
    },
    {
     "name": "stdout",
     "output_type": "stream",
     "text": [
      "Step 2450: average-batch loss:10476.911204818103 rel loss: 0.00865219086421246\n",
      "Saved a checkpoint: /tmp/tfcheckpoints/bbe45751-03c4-41c7-b86e-f3e146f02327/bbe45751-03c4-41c7-b86e-f3e146f02327-50\n"
     ]
    },
    {
     "name": "stderr",
     "output_type": "stream",
     "text": [
      " 25%|██▍       | 2498/10000 [03:35<10:45, 11.62it/s]"
     ]
    },
    {
     "name": "stdout",
     "output_type": "stream",
     "text": [
      "Step 2500: average-batch loss:10399.365957425893 rel loss: 0.007456728391872549\n",
      "Saved a checkpoint: /tmp/tfcheckpoints/bbe45751-03c4-41c7-b86e-f3e146f02327/bbe45751-03c4-41c7-b86e-f3e146f02327-51\n"
     ]
    },
    {
     "name": "stderr",
     "output_type": "stream",
     "text": [
      " 25%|██▌       | 2548/10000 [03:40<10:37, 11.69it/s]"
     ]
    },
    {
     "name": "stdout",
     "output_type": "stream",
     "text": [
      "Step 2550: average-batch loss:10305.756291920967 rel loss: 0.009083240749474131\n",
      "Saved a checkpoint: /tmp/tfcheckpoints/bbe45751-03c4-41c7-b86e-f3e146f02327/bbe45751-03c4-41c7-b86e-f3e146f02327-52\n"
     ]
    },
    {
     "name": "stderr",
     "output_type": "stream",
     "text": [
      " 26%|██▌       | 2598/10000 [03:44<10:26, 11.82it/s]"
     ]
    },
    {
     "name": "stdout",
     "output_type": "stream",
     "text": [
      "Step 2600: average-batch loss:10222.265676052697 rel loss: 0.008167525528500003\n",
      "Saved a checkpoint: /tmp/tfcheckpoints/bbe45751-03c4-41c7-b86e-f3e146f02327/bbe45751-03c4-41c7-b86e-f3e146f02327-53\n"
     ]
    },
    {
     "name": "stderr",
     "output_type": "stream",
     "text": [
      " 26%|██▋       | 2648/10000 [03:48<10:21, 11.83it/s]"
     ]
    },
    {
     "name": "stdout",
     "output_type": "stream",
     "text": [
      "Step 2650: average-batch loss:10132.773381468756 rel loss: 0.008831964479498577\n",
      "Saved a checkpoint: /tmp/tfcheckpoints/bbe45751-03c4-41c7-b86e-f3e146f02327/bbe45751-03c4-41c7-b86e-f3e146f02327-54\n"
     ]
    },
    {
     "name": "stderr",
     "output_type": "stream",
     "text": [
      " 27%|██▋       | 2698/10000 [03:53<10:17, 11.83it/s]"
     ]
    },
    {
     "name": "stdout",
     "output_type": "stream",
     "text": [
      "Step 2700: average-batch loss:10047.31022543019 rel loss: 0.008506073179889972\n",
      "Saved a checkpoint: /tmp/tfcheckpoints/bbe45751-03c4-41c7-b86e-f3e146f02327/bbe45751-03c4-41c7-b86e-f3e146f02327-55\n"
     ]
    },
    {
     "name": "stderr",
     "output_type": "stream",
     "text": [
      " 27%|██▋       | 2748/10000 [03:57<10:12, 11.84it/s]"
     ]
    },
    {
     "name": "stdout",
     "output_type": "stream",
     "text": [
      "Step 2750: average-batch loss:9962.874171721944 rel loss: 0.008475069769314674\n",
      "Saved a checkpoint: /tmp/tfcheckpoints/bbe45751-03c4-41c7-b86e-f3e146f02327/bbe45751-03c4-41c7-b86e-f3e146f02327-56\n"
     ]
    },
    {
     "name": "stderr",
     "output_type": "stream",
     "text": [
      " 28%|██▊       | 2798/10000 [04:01<10:12, 11.75it/s]"
     ]
    },
    {
     "name": "stdout",
     "output_type": "stream",
     "text": [
      "Step 2800: average-batch loss:9880.132047293775 rel loss: 0.008374597022803167\n",
      "Saved a checkpoint: /tmp/tfcheckpoints/bbe45751-03c4-41c7-b86e-f3e146f02327/bbe45751-03c4-41c7-b86e-f3e146f02327-57\n"
     ]
    },
    {
     "name": "stderr",
     "output_type": "stream",
     "text": [
      " 28%|██▊       | 2848/10000 [04:05<10:06, 11.79it/s]"
     ]
    },
    {
     "name": "stdout",
     "output_type": "stream",
     "text": [
      "Step 2850: average-batch loss:9793.156319009886 rel loss: 0.00888127641902918\n",
      "Saved a checkpoint: /tmp/tfcheckpoints/bbe45751-03c4-41c7-b86e-f3e146f02327/bbe45751-03c4-41c7-b86e-f3e146f02327-58\n"
     ]
    },
    {
     "name": "stderr",
     "output_type": "stream",
     "text": [
      " 29%|██▉       | 2898/10000 [04:10<09:58, 11.87it/s]"
     ]
    },
    {
     "name": "stdout",
     "output_type": "stream",
     "text": [
      "Step 2900: average-batch loss:9711.599753618386 rel loss: 0.008397850762034687\n",
      "Saved a checkpoint: /tmp/tfcheckpoints/bbe45751-03c4-41c7-b86e-f3e146f02327/bbe45751-03c4-41c7-b86e-f3e146f02327-59\n"
     ]
    },
    {
     "name": "stderr",
     "output_type": "stream",
     "text": [
      " 29%|██▉       | 2948/10000 [04:14<09:57, 11.81it/s]"
     ]
    },
    {
     "name": "stdout",
     "output_type": "stream",
     "text": [
      "Step 2950: average-batch loss:9622.830072440462 rel loss: 0.00922490374553722\n",
      "Saved a checkpoint: /tmp/tfcheckpoints/bbe45751-03c4-41c7-b86e-f3e146f02327/bbe45751-03c4-41c7-b86e-f3e146f02327-60\n"
     ]
    },
    {
     "name": "stderr",
     "output_type": "stream",
     "text": [
      " 30%|██▉       | 2998/10000 [04:18<09:51, 11.85it/s]"
     ]
    },
    {
     "name": "stdout",
     "output_type": "stream",
     "text": [
      "Step 3000: average-batch loss:9540.140054092939 rel loss: 0.008667589561439069\n",
      "Saved a checkpoint: /tmp/tfcheckpoints/bbe45751-03c4-41c7-b86e-f3e146f02327/bbe45751-03c4-41c7-b86e-f3e146f02327-61\n"
     ]
    },
    {
     "name": "stderr",
     "output_type": "stream",
     "text": [
      " 30%|███       | 3048/10000 [04:23<09:46, 11.84it/s]"
     ]
    },
    {
     "name": "stdout",
     "output_type": "stream",
     "text": [
      "Step 3050: average-batch loss:9455.592348467246 rel loss: 0.008941555696338623\n",
      "Saved a checkpoint: /tmp/tfcheckpoints/bbe45751-03c4-41c7-b86e-f3e146f02327/bbe45751-03c4-41c7-b86e-f3e146f02327-62\n"
     ]
    },
    {
     "name": "stderr",
     "output_type": "stream",
     "text": [
      " 31%|███       | 3098/10000 [04:27<09:59, 11.51it/s]"
     ]
    },
    {
     "name": "stdout",
     "output_type": "stream",
     "text": [
      "Step 3100: average-batch loss:9374.161393327497 rel loss: 0.008686745589606712\n",
      "Saved a checkpoint: /tmp/tfcheckpoints/bbe45751-03c4-41c7-b86e-f3e146f02327/bbe45751-03c4-41c7-b86e-f3e146f02327-63\n"
     ]
    },
    {
     "name": "stderr",
     "output_type": "stream",
     "text": [
      " 31%|███▏      | 3148/10000 [04:31<10:05, 11.31it/s]"
     ]
    },
    {
     "name": "stdout",
     "output_type": "stream",
     "text": [
      "Step 3150: average-batch loss:9288.711036889435 rel loss: 0.00919937719008604\n",
      "Saved a checkpoint: /tmp/tfcheckpoints/bbe45751-03c4-41c7-b86e-f3e146f02327/bbe45751-03c4-41c7-b86e-f3e146f02327-64\n"
     ]
    },
    {
     "name": "stderr",
     "output_type": "stream",
     "text": [
      " 32%|███▏      | 3198/10000 [04:35<09:35, 11.83it/s]"
     ]
    },
    {
     "name": "stdout",
     "output_type": "stream",
     "text": [
      "Step 3200: average-batch loss:9201.738263133659 rel loss: 0.009451776530552852\n",
      "Saved a checkpoint: /tmp/tfcheckpoints/bbe45751-03c4-41c7-b86e-f3e146f02327/bbe45751-03c4-41c7-b86e-f3e146f02327-65\n"
     ]
    },
    {
     "name": "stderr",
     "output_type": "stream",
     "text": [
      " 32%|███▏      | 3248/10000 [04:40<09:32, 11.80it/s]"
     ]
    },
    {
     "name": "stdout",
     "output_type": "stream",
     "text": [
      "Step 3250: average-batch loss:9117.111748606163 rel loss: 0.009282162691538077\n",
      "Saved a checkpoint: /tmp/tfcheckpoints/bbe45751-03c4-41c7-b86e-f3e146f02327/bbe45751-03c4-41c7-b86e-f3e146f02327-66\n"
     ]
    },
    {
     "name": "stderr",
     "output_type": "stream",
     "text": [
      " 33%|███▎      | 3298/10000 [04:44<09:25, 11.85it/s]"
     ]
    },
    {
     "name": "stdout",
     "output_type": "stream",
     "text": [
      "Step 3300: average-batch loss:9037.943077516968 rel loss: 0.008759589478510608\n",
      "Saved a checkpoint: /tmp/tfcheckpoints/bbe45751-03c4-41c7-b86e-f3e146f02327/bbe45751-03c4-41c7-b86e-f3e146f02327-67\n"
     ]
    },
    {
     "name": "stderr",
     "output_type": "stream",
     "text": [
      " 33%|███▎      | 3348/10000 [04:48<09:21, 11.84it/s]"
     ]
    },
    {
     "name": "stdout",
     "output_type": "stream",
     "text": [
      "Step 3350: average-batch loss:8959.835326974404 rel loss: 0.008717543090040194\n",
      "Saved a checkpoint: /tmp/tfcheckpoints/bbe45751-03c4-41c7-b86e-f3e146f02327/bbe45751-03c4-41c7-b86e-f3e146f02327-68\n"
     ]
    },
    {
     "name": "stderr",
     "output_type": "stream",
     "text": [
      " 34%|███▍      | 3398/10000 [04:53<09:20, 11.77it/s]"
     ]
    },
    {
     "name": "stdout",
     "output_type": "stream",
     "text": [
      "Step 3400: average-batch loss:8870.769221878581 rel loss: 0.010040403810320375\n",
      "Saved a checkpoint: /tmp/tfcheckpoints/bbe45751-03c4-41c7-b86e-f3e146f02327/bbe45751-03c4-41c7-b86e-f3e146f02327-69\n"
     ]
    },
    {
     "name": "stderr",
     "output_type": "stream",
     "text": [
      " 34%|███▍      | 3448/10000 [04:57<09:56, 10.98it/s]"
     ]
    },
    {
     "name": "stdout",
     "output_type": "stream",
     "text": [
      "Step 3450: average-batch loss:8792.48629369343 rel loss: 0.008903389276967277\n",
      "Saved a checkpoint: /tmp/tfcheckpoints/bbe45751-03c4-41c7-b86e-f3e146f02327/bbe45751-03c4-41c7-b86e-f3e146f02327-70\n"
     ]
    },
    {
     "name": "stderr",
     "output_type": "stream",
     "text": [
      " 35%|███▍      | 3498/10000 [05:01<09:12, 11.78it/s]"
     ]
    },
    {
     "name": "stdout",
     "output_type": "stream",
     "text": [
      "Step 3500: average-batch loss:8709.990285513737 rel loss: 0.009471423672756342\n",
      "Saved a checkpoint: /tmp/tfcheckpoints/bbe45751-03c4-41c7-b86e-f3e146f02327/bbe45751-03c4-41c7-b86e-f3e146f02327-71\n"
     ]
    },
    {
     "name": "stderr",
     "output_type": "stream",
     "text": [
      " 35%|███▌      | 3548/10000 [05:05<09:05, 11.82it/s]"
     ]
    },
    {
     "name": "stdout",
     "output_type": "stream",
     "text": [
      "Step 3550: average-batch loss:8621.738526467505 rel loss: 0.010235958649791085\n",
      "Saved a checkpoint: /tmp/tfcheckpoints/bbe45751-03c4-41c7-b86e-f3e146f02327/bbe45751-03c4-41c7-b86e-f3e146f02327-72\n"
     ]
    },
    {
     "name": "stderr",
     "output_type": "stream",
     "text": [
      " 36%|███▌      | 3598/10000 [05:10<08:58, 11.88it/s]"
     ]
    },
    {
     "name": "stdout",
     "output_type": "stream",
     "text": [
      "Step 3600: average-batch loss:8541.312325064866 rel loss: 0.009416141026318013\n",
      "Saved a checkpoint: /tmp/tfcheckpoints/bbe45751-03c4-41c7-b86e-f3e146f02327/bbe45751-03c4-41c7-b86e-f3e146f02327-73\n"
     ]
    },
    {
     "name": "stderr",
     "output_type": "stream",
     "text": [
      " 36%|███▋      | 3648/10000 [05:14<08:57, 11.81it/s]"
     ]
    },
    {
     "name": "stdout",
     "output_type": "stream",
     "text": [
      "Step 3650: average-batch loss:8458.736262379965 rel loss: 0.009762222171668323\n",
      "Saved a checkpoint: /tmp/tfcheckpoints/bbe45751-03c4-41c7-b86e-f3e146f02327/bbe45751-03c4-41c7-b86e-f3e146f02327-74\n"
     ]
    },
    {
     "name": "stderr",
     "output_type": "stream",
     "text": [
      " 37%|███▋      | 3698/10000 [05:18<08:55, 11.77it/s]"
     ]
    },
    {
     "name": "stdout",
     "output_type": "stream",
     "text": [
      "Step 3700: average-batch loss:8378.694798559827 rel loss: 0.0095529752240046\n",
      "Saved a checkpoint: /tmp/tfcheckpoints/bbe45751-03c4-41c7-b86e-f3e146f02327/bbe45751-03c4-41c7-b86e-f3e146f02327-75\n"
     ]
    },
    {
     "name": "stderr",
     "output_type": "stream",
     "text": [
      " 37%|███▋      | 3748/10000 [05:23<09:28, 11.00it/s]"
     ]
    },
    {
     "name": "stdout",
     "output_type": "stream",
     "text": [
      "Step 3750: average-batch loss:8297.082541878723 rel loss: 0.009836259464597897\n",
      "Saved a checkpoint: /tmp/tfcheckpoints/bbe45751-03c4-41c7-b86e-f3e146f02327/bbe45751-03c4-41c7-b86e-f3e146f02327-76\n"
     ]
    },
    {
     "name": "stderr",
     "output_type": "stream",
     "text": [
      " 38%|███▊      | 3798/10000 [05:27<08:51, 11.66it/s]"
     ]
    },
    {
     "name": "stdout",
     "output_type": "stream",
     "text": [
      "Step 3800: average-batch loss:8214.363837729788 rel loss: 0.010070007341164382\n",
      "Saved a checkpoint: /tmp/tfcheckpoints/bbe45751-03c4-41c7-b86e-f3e146f02327/bbe45751-03c4-41c7-b86e-f3e146f02327-77\n"
     ]
    },
    {
     "name": "stderr",
     "output_type": "stream",
     "text": [
      " 38%|███▊      | 3848/10000 [05:31<08:42, 11.79it/s]"
     ]
    },
    {
     "name": "stdout",
     "output_type": "stream",
     "text": [
      "Step 3850: average-batch loss:8135.906415220544 rel loss: 0.009643353611156046\n",
      "Saved a checkpoint: /tmp/tfcheckpoints/bbe45751-03c4-41c7-b86e-f3e146f02327/bbe45751-03c4-41c7-b86e-f3e146f02327-78\n"
     ]
    },
    {
     "name": "stderr",
     "output_type": "stream",
     "text": [
      " 39%|███▉      | 3898/10000 [05:35<08:35, 11.84it/s]"
     ]
    },
    {
     "name": "stdout",
     "output_type": "stream",
     "text": [
      "Step 3900: average-batch loss:8052.043830883351 rel loss: 0.010415068037203257\n",
      "Saved a checkpoint: /tmp/tfcheckpoints/bbe45751-03c4-41c7-b86e-f3e146f02327/bbe45751-03c4-41c7-b86e-f3e146f02327-79\n"
     ]
    },
    {
     "name": "stderr",
     "output_type": "stream",
     "text": [
      " 39%|███▉      | 3948/10000 [05:40<08:34, 11.77it/s]"
     ]
    },
    {
     "name": "stdout",
     "output_type": "stream",
     "text": [
      "Step 3950: average-batch loss:7970.4845497476035 rel loss: 0.010232662848374765\n",
      "Saved a checkpoint: /tmp/tfcheckpoints/bbe45751-03c4-41c7-b86e-f3e146f02327/bbe45751-03c4-41c7-b86e-f3e146f02327-80\n"
     ]
    },
    {
     "name": "stderr",
     "output_type": "stream",
     "text": [
      " 40%|███▉      | 3998/10000 [05:44<08:26, 11.85it/s]"
     ]
    },
    {
     "name": "stdout",
     "output_type": "stream",
     "text": [
      "Step 4000: average-batch loss:7891.57456464735 rel loss: 0.009999270038422312\n",
      "Saved a checkpoint: /tmp/tfcheckpoints/bbe45751-03c4-41c7-b86e-f3e146f02327/bbe45751-03c4-41c7-b86e-f3e146f02327-81\n"
     ]
    },
    {
     "name": "stderr",
     "output_type": "stream",
     "text": [
      " 40%|████      | 4048/10000 [05:48<09:21, 10.59it/s]"
     ]
    },
    {
     "name": "stdout",
     "output_type": "stream",
     "text": [
      "Step 4050: average-batch loss:7809.4620660409755 rel loss: 0.010514488438766602\n",
      "Saved a checkpoint: /tmp/tfcheckpoints/bbe45751-03c4-41c7-b86e-f3e146f02327/bbe45751-03c4-41c7-b86e-f3e146f02327-82\n"
     ]
    },
    {
     "name": "stderr",
     "output_type": "stream",
     "text": [
      " 41%|████      | 4098/10000 [05:53<08:21, 11.77it/s]"
     ]
    },
    {
     "name": "stdout",
     "output_type": "stream",
     "text": [
      "Step 4100: average-batch loss:7733.224867127946 rel loss: 0.009858396752058183\n",
      "Saved a checkpoint: /tmp/tfcheckpoints/bbe45751-03c4-41c7-b86e-f3e146f02327/bbe45751-03c4-41c7-b86e-f3e146f02327-83\n"
     ]
    },
    {
     "name": "stderr",
     "output_type": "stream",
     "text": [
      " 41%|████▏     | 4148/10000 [05:57<08:21, 11.66it/s]"
     ]
    },
    {
     "name": "stdout",
     "output_type": "stream",
     "text": [
      "Step 4150: average-batch loss:7650.937042099522 rel loss: 0.010755261032162795\n",
      "Saved a checkpoint: /tmp/tfcheckpoints/bbe45751-03c4-41c7-b86e-f3e146f02327/bbe45751-03c4-41c7-b86e-f3e146f02327-84\n"
     ]
    },
    {
     "name": "stderr",
     "output_type": "stream",
     "text": [
      " 42%|████▏     | 4198/10000 [06:01<08:08, 11.89it/s]"
     ]
    },
    {
     "name": "stdout",
     "output_type": "stream",
     "text": [
      "Step 4200: average-batch loss:7571.340468028088 rel loss: 0.0105128773970145\n",
      "Saved a checkpoint: /tmp/tfcheckpoints/bbe45751-03c4-41c7-b86e-f3e146f02327/bbe45751-03c4-41c7-b86e-f3e146f02327-85\n"
     ]
    },
    {
     "name": "stderr",
     "output_type": "stream",
     "text": [
      " 42%|████▏     | 4248/10000 [06:06<08:05, 11.86it/s]"
     ]
    },
    {
     "name": "stdout",
     "output_type": "stream",
     "text": [
      "Step 4250: average-batch loss:7493.944150074358 rel loss: 0.010327848247035904\n",
      "Saved a checkpoint: /tmp/tfcheckpoints/bbe45751-03c4-41c7-b86e-f3e146f02327/bbe45751-03c4-41c7-b86e-f3e146f02327-86\n"
     ]
    },
    {
     "name": "stderr",
     "output_type": "stream",
     "text": [
      " 43%|████▎     | 4298/10000 [06:10<08:02, 11.82it/s]"
     ]
    },
    {
     "name": "stdout",
     "output_type": "stream",
     "text": [
      "Step 4300: average-batch loss:7410.6512260508935 rel loss: 0.011239622737966961\n",
      "Saved a checkpoint: /tmp/tfcheckpoints/bbe45751-03c4-41c7-b86e-f3e146f02327/bbe45751-03c4-41c7-b86e-f3e146f02327-87\n"
     ]
    },
    {
     "name": "stderr",
     "output_type": "stream",
     "text": [
      " 43%|████▎     | 4348/10000 [06:14<08:48, 10.69it/s]"
     ]
    },
    {
     "name": "stdout",
     "output_type": "stream",
     "text": [
      "Step 4350: average-batch loss:7335.222055632108 rel loss: 0.01028314751028833\n",
      "Saved a checkpoint: /tmp/tfcheckpoints/bbe45751-03c4-41c7-b86e-f3e146f02327/bbe45751-03c4-41c7-b86e-f3e146f02327-88\n"
     ]
    },
    {
     "name": "stderr",
     "output_type": "stream",
     "text": [
      " 44%|████▍     | 4398/10000 [06:19<07:58, 11.71it/s]"
     ]
    },
    {
     "name": "stdout",
     "output_type": "stream",
     "text": [
      "Step 4400: average-batch loss:7255.716024488998 rel loss: 0.010957709876567173\n",
      "Saved a checkpoint: /tmp/tfcheckpoints/bbe45751-03c4-41c7-b86e-f3e146f02327/bbe45751-03c4-41c7-b86e-f3e146f02327-89\n"
     ]
    },
    {
     "name": "stderr",
     "output_type": "stream",
     "text": [
      " 44%|████▍     | 4448/10000 [06:23<07:49, 11.83it/s]"
     ]
    },
    {
     "name": "stdout",
     "output_type": "stream",
     "text": [
      "Step 4450: average-batch loss:7177.965865133264 rel loss: 0.010831781707600944\n",
      "Saved a checkpoint: /tmp/tfcheckpoints/bbe45751-03c4-41c7-b86e-f3e146f02327/bbe45751-03c4-41c7-b86e-f3e146f02327-90\n"
     ]
    },
    {
     "name": "stderr",
     "output_type": "stream",
     "text": [
      " 45%|████▍     | 4498/10000 [06:27<07:51, 11.66it/s]"
     ]
    },
    {
     "name": "stdout",
     "output_type": "stream",
     "text": [
      "Step 4500: average-batch loss:7094.0751991336765 rel loss: 0.011825454854190438\n",
      "Saved a checkpoint: /tmp/tfcheckpoints/bbe45751-03c4-41c7-b86e-f3e146f02327/bbe45751-03c4-41c7-b86e-f3e146f02327-91\n"
     ]
    },
    {
     "name": "stderr",
     "output_type": "stream",
     "text": [
      " 45%|████▌     | 4548/10000 [06:31<07:44, 11.75it/s]"
     ]
    },
    {
     "name": "stdout",
     "output_type": "stream",
     "text": [
      "Step 4550: average-batch loss:7019.159445161156 rel loss: 0.010673037784341163\n",
      "Saved a checkpoint: /tmp/tfcheckpoints/bbe45751-03c4-41c7-b86e-f3e146f02327/bbe45751-03c4-41c7-b86e-f3e146f02327-92\n"
     ]
    },
    {
     "name": "stderr",
     "output_type": "stream",
     "text": [
      " 46%|████▌     | 4598/10000 [06:36<07:37, 11.80it/s]"
     ]
    },
    {
     "name": "stdout",
     "output_type": "stream",
     "text": [
      "Step 4600: average-batch loss:6941.827724388664 rel loss: 0.011139965415851983\n",
      "Saved a checkpoint: /tmp/tfcheckpoints/bbe45751-03c4-41c7-b86e-f3e146f02327/bbe45751-03c4-41c7-b86e-f3e146f02327-93\n"
     ]
    },
    {
     "name": "stderr",
     "output_type": "stream",
     "text": [
      " 46%|████▋     | 4648/10000 [06:40<08:25, 10.59it/s]"
     ]
    },
    {
     "name": "stdout",
     "output_type": "stream",
     "text": [
      "Step 4650: average-batch loss:6862.58259535511 rel loss: 0.011547420804405384\n",
      "Saved a checkpoint: /tmp/tfcheckpoints/bbe45751-03c4-41c7-b86e-f3e146f02327/bbe45751-03c4-41c7-b86e-f3e146f02327-94\n"
     ]
    },
    {
     "name": "stderr",
     "output_type": "stream",
     "text": [
      " 47%|████▋     | 4698/10000 [06:44<07:30, 11.78it/s]"
     ]
    },
    {
     "name": "stdout",
     "output_type": "stream",
     "text": [
      "Step 4700: average-batch loss:6788.0219742734525 rel loss: 0.010984145508697798\n",
      "Saved a checkpoint: /tmp/tfcheckpoints/bbe45751-03c4-41c7-b86e-f3e146f02327/bbe45751-03c4-41c7-b86e-f3e146f02327-95\n"
     ]
    },
    {
     "name": "stderr",
     "output_type": "stream",
     "text": [
      " 47%|████▋     | 4748/10000 [06:49<07:24, 11.81it/s]"
     ]
    },
    {
     "name": "stdout",
     "output_type": "stream",
     "text": [
      "Step 4750: average-batch loss:6707.754325212252 rel loss: 0.011966396676082848\n",
      "Saved a checkpoint: /tmp/tfcheckpoints/bbe45751-03c4-41c7-b86e-f3e146f02327/bbe45751-03c4-41c7-b86e-f3e146f02327-96\n"
     ]
    },
    {
     "name": "stderr",
     "output_type": "stream",
     "text": [
      " 48%|████▊     | 4798/10000 [06:53<07:23, 11.73it/s]"
     ]
    },
    {
     "name": "stdout",
     "output_type": "stream",
     "text": [
      "Step 4800: average-batch loss:6632.2657274003 rel loss: 0.011382022511565096\n",
      "Saved a checkpoint: /tmp/tfcheckpoints/bbe45751-03c4-41c7-b86e-f3e146f02327/bbe45751-03c4-41c7-b86e-f3e146f02327-97\n"
     ]
    },
    {
     "name": "stderr",
     "output_type": "stream",
     "text": [
      " 48%|████▊     | 4848/10000 [06:57<07:18, 11.76it/s]"
     ]
    },
    {
     "name": "stdout",
     "output_type": "stream",
     "text": [
      "Step 4850: average-batch loss:6552.1370383616895 rel loss: 0.012229397610195047\n",
      "Saved a checkpoint: /tmp/tfcheckpoints/bbe45751-03c4-41c7-b86e-f3e146f02327/bbe45751-03c4-41c7-b86e-f3e146f02327-98\n"
     ]
    },
    {
     "name": "stderr",
     "output_type": "stream",
     "text": [
      " 49%|████▉     | 4898/10000 [07:01<07:12, 11.79it/s]"
     ]
    },
    {
     "name": "stdout",
     "output_type": "stream",
     "text": [
      "Step 4900: average-batch loss:6478.487528745282 rel loss: 0.011368318498665257\n",
      "Saved a checkpoint: /tmp/tfcheckpoints/bbe45751-03c4-41c7-b86e-f3e146f02327/bbe45751-03c4-41c7-b86e-f3e146f02327-99\n"
     ]
    },
    {
     "name": "stderr",
     "output_type": "stream",
     "text": [
      " 49%|████▉     | 4948/10000 [07:06<07:23, 11.38it/s]"
     ]
    },
    {
     "name": "stdout",
     "output_type": "stream",
     "text": [
      "Step 4950: average-batch loss:6402.510126269686 rel loss: 0.011866814886220739\n",
      "Saved a checkpoint: /tmp/tfcheckpoints/bbe45751-03c4-41c7-b86e-f3e146f02327/bbe45751-03c4-41c7-b86e-f3e146f02327-100\n"
     ]
    },
    {
     "name": "stderr",
     "output_type": "stream",
     "text": [
      " 50%|████▉     | 4998/10000 [07:10<07:06, 11.73it/s]"
     ]
    },
    {
     "name": "stdout",
     "output_type": "stream",
     "text": [
      "Step 5000: average-batch loss:6327.410325749778 rel loss: 0.011868963233549891\n",
      "Saved a checkpoint: /tmp/tfcheckpoints/bbe45751-03c4-41c7-b86e-f3e146f02327/bbe45751-03c4-41c7-b86e-f3e146f02327-101\n"
     ]
    },
    {
     "name": "stderr",
     "output_type": "stream",
     "text": [
      " 50%|█████     | 5048/10000 [07:14<06:58, 11.83it/s]"
     ]
    },
    {
     "name": "stdout",
     "output_type": "stream",
     "text": [
      "Step 5050: average-batch loss:6245.816500989866 rel loss: 0.013063756315444274\n",
      "Saved a checkpoint: /tmp/tfcheckpoints/bbe45751-03c4-41c7-b86e-f3e146f02327/bbe45751-03c4-41c7-b86e-f3e146f02327-102\n"
     ]
    },
    {
     "name": "stderr",
     "output_type": "stream",
     "text": [
      " 51%|█████     | 5098/10000 [07:19<06:56, 11.76it/s]"
     ]
    },
    {
     "name": "stdout",
     "output_type": "stream",
     "text": [
      "Step 5100: average-batch loss:6171.4708110327 rel loss: 0.012046672865122898\n",
      "Saved a checkpoint: /tmp/tfcheckpoints/bbe45751-03c4-41c7-b86e-f3e146f02327/bbe45751-03c4-41c7-b86e-f3e146f02327-103\n"
     ]
    },
    {
     "name": "stderr",
     "output_type": "stream",
     "text": [
      " 51%|█████▏    | 5148/10000 [07:23<06:54, 11.71it/s]"
     ]
    },
    {
     "name": "stdout",
     "output_type": "stream",
     "text": [
      "Step 5150: average-batch loss:6091.917791838926 rel loss: 0.013058780816173822\n",
      "Saved a checkpoint: /tmp/tfcheckpoints/bbe45751-03c4-41c7-b86e-f3e146f02327/bbe45751-03c4-41c7-b86e-f3e146f02327-104\n"
     ]
    },
    {
     "name": "stderr",
     "output_type": "stream",
     "text": [
      " 52%|█████▏    | 5198/10000 [07:27<06:47, 11.78it/s]"
     ]
    },
    {
     "name": "stdout",
     "output_type": "stream",
     "text": [
      "Step 5200: average-batch loss:6022.292052176105 rel loss: 0.011561335627630683\n",
      "Saved a checkpoint: /tmp/tfcheckpoints/bbe45751-03c4-41c7-b86e-f3e146f02327/bbe45751-03c4-41c7-b86e-f3e146f02327-105\n"
     ]
    },
    {
     "name": "stderr",
     "output_type": "stream",
     "text": [
      " 52%|█████▏    | 5248/10000 [07:32<06:49, 11.59it/s]"
     ]
    },
    {
     "name": "stdout",
     "output_type": "stream",
     "text": [
      "Step 5250: average-batch loss:5945.088548376508 rel loss: 0.012986098217272186\n",
      "Saved a checkpoint: /tmp/tfcheckpoints/bbe45751-03c4-41c7-b86e-f3e146f02327/bbe45751-03c4-41c7-b86e-f3e146f02327-106\n"
     ]
    },
    {
     "name": "stderr",
     "output_type": "stream",
     "text": [
      " 53%|█████▎    | 5298/10000 [07:36<06:39, 11.78it/s]"
     ]
    },
    {
     "name": "stdout",
     "output_type": "stream",
     "text": [
      "Step 5300: average-batch loss:5868.982919545098 rel loss: 0.012967430622086098\n",
      "Saved a checkpoint: /tmp/tfcheckpoints/bbe45751-03c4-41c7-b86e-f3e146f02327/bbe45751-03c4-41c7-b86e-f3e146f02327-107\n"
     ]
    },
    {
     "name": "stderr",
     "output_type": "stream",
     "text": [
      " 53%|█████▎    | 5348/10000 [07:40<06:35, 11.77it/s]"
     ]
    },
    {
     "name": "stdout",
     "output_type": "stream",
     "text": [
      "Step 5350: average-batch loss:5795.490133248686 rel loss: 0.01268103035406526\n",
      "Saved a checkpoint: /tmp/tfcheckpoints/bbe45751-03c4-41c7-b86e-f3e146f02327/bbe45751-03c4-41c7-b86e-f3e146f02327-108\n"
     ]
    },
    {
     "name": "stderr",
     "output_type": "stream",
     "text": [
      " 54%|█████▍    | 5398/10000 [07:44<06:29, 11.81it/s]"
     ]
    },
    {
     "name": "stdout",
     "output_type": "stream",
     "text": [
      "Step 5400: average-batch loss:5719.613566117745 rel loss: 0.013266030345200965\n",
      "Saved a checkpoint: /tmp/tfcheckpoints/bbe45751-03c4-41c7-b86e-f3e146f02327/bbe45751-03c4-41c7-b86e-f3e146f02327-109\n"
     ]
    },
    {
     "name": "stderr",
     "output_type": "stream",
     "text": [
      " 54%|█████▍    | 5448/10000 [07:49<06:27, 11.75it/s]"
     ]
    },
    {
     "name": "stdout",
     "output_type": "stream",
     "text": [
      "Step 5450: average-batch loss:5647.19705711678 rel loss: 0.01282344289893391\n",
      "Saved a checkpoint: /tmp/tfcheckpoints/bbe45751-03c4-41c7-b86e-f3e146f02327/bbe45751-03c4-41c7-b86e-f3e146f02327-110\n"
     ]
    },
    {
     "name": "stderr",
     "output_type": "stream",
     "text": [
      " 55%|█████▍    | 5498/10000 [07:53<06:30, 11.53it/s]"
     ]
    },
    {
     "name": "stdout",
     "output_type": "stream",
     "text": [
      "Step 5500: average-batch loss:5570.246821531711 rel loss: 0.013814510927526414\n",
      "Saved a checkpoint: /tmp/tfcheckpoints/bbe45751-03c4-41c7-b86e-f3e146f02327/bbe45751-03c4-41c7-b86e-f3e146f02327-111\n"
     ]
    },
    {
     "name": "stderr",
     "output_type": "stream",
     "text": [
      " 55%|█████▌    | 5548/10000 [07:57<06:28, 11.46it/s]"
     ]
    },
    {
     "name": "stdout",
     "output_type": "stream",
     "text": [
      "Step 5550: average-batch loss:5497.176601425827 rel loss: 0.013292318112343587\n",
      "Saved a checkpoint: /tmp/tfcheckpoints/bbe45751-03c4-41c7-b86e-f3e146f02327/bbe45751-03c4-41c7-b86e-f3e146f02327-112\n"
     ]
    },
    {
     "name": "stderr",
     "output_type": "stream",
     "text": [
      " 56%|█████▌    | 5598/10000 [08:02<06:13, 11.80it/s]"
     ]
    },
    {
     "name": "stdout",
     "output_type": "stream",
     "text": [
      "Step 5600: average-batch loss:5424.720451466364 rel loss: 0.013356660607253611\n",
      "Saved a checkpoint: /tmp/tfcheckpoints/bbe45751-03c4-41c7-b86e-f3e146f02327/bbe45751-03c4-41c7-b86e-f3e146f02327-113\n"
     ]
    },
    {
     "name": "stderr",
     "output_type": "stream",
     "text": [
      " 56%|█████▋    | 5648/10000 [08:06<06:08, 11.82it/s]"
     ]
    },
    {
     "name": "stdout",
     "output_type": "stream",
     "text": [
      "Step 5650: average-batch loss:5354.240179149632 rel loss: 0.013163449893636466\n",
      "Saved a checkpoint: /tmp/tfcheckpoints/bbe45751-03c4-41c7-b86e-f3e146f02327/bbe45751-03c4-41c7-b86e-f3e146f02327-114\n"
     ]
    },
    {
     "name": "stderr",
     "output_type": "stream",
     "text": [
      " 57%|█████▋    | 5698/10000 [08:10<06:05, 11.76it/s]"
     ]
    },
    {
     "name": "stdout",
     "output_type": "stream",
     "text": [
      "Step 5700: average-batch loss:5277.501472687483 rel loss: 0.014540726678958357\n",
      "Saved a checkpoint: /tmp/tfcheckpoints/bbe45751-03c4-41c7-b86e-f3e146f02327/bbe45751-03c4-41c7-b86e-f3e146f02327-115\n"
     ]
    },
    {
     "name": "stderr",
     "output_type": "stream",
     "text": [
      " 57%|█████▋    | 5748/10000 [08:14<06:00, 11.81it/s]"
     ]
    },
    {
     "name": "stdout",
     "output_type": "stream",
     "text": [
      "Step 5750: average-batch loss:5202.486986845245 rel loss: 0.014418966550404862\n",
      "Saved a checkpoint: /tmp/tfcheckpoints/bbe45751-03c4-41c7-b86e-f3e146f02327/bbe45751-03c4-41c7-b86e-f3e146f02327-116\n"
     ]
    },
    {
     "name": "stderr",
     "output_type": "stream",
     "text": [
      " 58%|█████▊    | 5798/10000 [08:19<05:56, 11.77it/s]"
     ]
    },
    {
     "name": "stdout",
     "output_type": "stream",
     "text": [
      "Step 5800: average-batch loss:5135.814229265544 rel loss: 0.01298192547537607\n",
      "Saved a checkpoint: /tmp/tfcheckpoints/bbe45751-03c4-41c7-b86e-f3e146f02327/bbe45751-03c4-41c7-b86e-f3e146f02327-117\n"
     ]
    },
    {
     "name": "stderr",
     "output_type": "stream",
     "text": [
      " 58%|█████▊    | 5848/10000 [08:23<05:59, 11.55it/s]"
     ]
    },
    {
     "name": "stdout",
     "output_type": "stream",
     "text": [
      "Step 5850: average-batch loss:5060.997090493549 rel loss: 0.014783082747178329\n",
      "Saved a checkpoint: /tmp/tfcheckpoints/bbe45751-03c4-41c7-b86e-f3e146f02327/bbe45751-03c4-41c7-b86e-f3e146f02327-118\n"
     ]
    },
    {
     "name": "stderr",
     "output_type": "stream",
     "text": [
      " 59%|█████▉    | 5898/10000 [08:28<05:54, 11.59it/s]"
     ]
    },
    {
     "name": "stdout",
     "output_type": "stream",
     "text": [
      "Step 5900: average-batch loss:4989.910141844906 rel loss: 0.014246138032128942\n",
      "Saved a checkpoint: /tmp/tfcheckpoints/bbe45751-03c4-41c7-b86e-f3e146f02327/bbe45751-03c4-41c7-b86e-f3e146f02327-119\n"
     ]
    },
    {
     "name": "stderr",
     "output_type": "stream",
     "text": [
      " 59%|█████▉    | 5948/10000 [08:32<05:42, 11.84it/s]"
     ]
    },
    {
     "name": "stdout",
     "output_type": "stream",
     "text": [
      "Step 5950: average-batch loss:4919.613374415268 rel loss: 0.014289083730689312\n",
      "Saved a checkpoint: /tmp/tfcheckpoints/bbe45751-03c4-41c7-b86e-f3e146f02327/bbe45751-03c4-41c7-b86e-f3e146f02327-120\n"
     ]
    },
    {
     "name": "stderr",
     "output_type": "stream",
     "text": [
      " 60%|█████▉    | 5998/10000 [08:36<05:39, 11.78it/s]"
     ]
    },
    {
     "name": "stdout",
     "output_type": "stream",
     "text": [
      "Step 6000: average-batch loss:4847.005107136353 rel loss: 0.014980026980374251\n",
      "Saved a checkpoint: /tmp/tfcheckpoints/bbe45751-03c4-41c7-b86e-f3e146f02327/bbe45751-03c4-41c7-b86e-f3e146f02327-121\n"
     ]
    },
    {
     "name": "stderr",
     "output_type": "stream",
     "text": [
      " 60%|██████    | 6048/10000 [08:40<05:39, 11.66it/s]"
     ]
    },
    {
     "name": "stdout",
     "output_type": "stream",
     "text": [
      "Step 6050: average-batch loss:4776.742326852637 rel loss: 0.014709351159414883\n",
      "Saved a checkpoint: /tmp/tfcheckpoints/bbe45751-03c4-41c7-b86e-f3e146f02327/bbe45751-03c4-41c7-b86e-f3e146f02327-122\n"
     ]
    },
    {
     "name": "stderr",
     "output_type": "stream",
     "text": [
      " 61%|██████    | 6098/10000 [08:45<05:29, 11.86it/s]"
     ]
    },
    {
     "name": "stdout",
     "output_type": "stream",
     "text": [
      "Step 6100: average-batch loss:4705.9742694268125 rel loss: 0.015037918478556468\n",
      "Saved a checkpoint: /tmp/tfcheckpoints/bbe45751-03c4-41c7-b86e-f3e146f02327/bbe45751-03c4-41c7-b86e-f3e146f02327-123\n"
     ]
    },
    {
     "name": "stderr",
     "output_type": "stream",
     "text": [
      " 61%|██████▏   | 6148/10000 [08:49<05:29, 11.68it/s]"
     ]
    },
    {
     "name": "stdout",
     "output_type": "stream",
     "text": [
      "Step 6150: average-batch loss:4631.612875014445 rel loss: 0.01605518345747652\n",
      "Saved a checkpoint: /tmp/tfcheckpoints/bbe45751-03c4-41c7-b86e-f3e146f02327/bbe45751-03c4-41c7-b86e-f3e146f02327-124\n"
     ]
    },
    {
     "name": "stderr",
     "output_type": "stream",
     "text": [
      " 62%|██████▏   | 6198/10000 [08:53<05:22, 11.77it/s]"
     ]
    },
    {
     "name": "stdout",
     "output_type": "stream",
     "text": [
      "Step 6200: average-batch loss:4566.967773078188 rel loss: 0.014154928422603262\n",
      "Saved a checkpoint: /tmp/tfcheckpoints/bbe45751-03c4-41c7-b86e-f3e146f02327/bbe45751-03c4-41c7-b86e-f3e146f02327-125\n"
     ]
    },
    {
     "name": "stderr",
     "output_type": "stream",
     "text": [
      " 62%|██████▏   | 6248/10000 [08:58<05:20, 11.70it/s]"
     ]
    },
    {
     "name": "stdout",
     "output_type": "stream",
     "text": [
      "Step 6250: average-batch loss:4501.7384272473255 rel loss: 0.014489812521325899\n",
      "Saved a checkpoint: /tmp/tfcheckpoints/bbe45751-03c4-41c7-b86e-f3e146f02327/bbe45751-03c4-41c7-b86e-f3e146f02327-126\n"
     ]
    },
    {
     "name": "stderr",
     "output_type": "stream",
     "text": [
      " 63%|██████▎   | 6298/10000 [09:02<05:17, 11.67it/s]"
     ]
    },
    {
     "name": "stdout",
     "output_type": "stream",
     "text": [
      "Step 6300: average-batch loss:4429.94225475279 rel loss: 0.016207022206103643\n",
      "Saved a checkpoint: /tmp/tfcheckpoints/bbe45751-03c4-41c7-b86e-f3e146f02327/bbe45751-03c4-41c7-b86e-f3e146f02327-127\n"
     ]
    },
    {
     "name": "stderr",
     "output_type": "stream",
     "text": [
      " 63%|██████▎   | 6348/10000 [09:06<05:08, 11.83it/s]"
     ]
    },
    {
     "name": "stdout",
     "output_type": "stream",
     "text": [
      "Step 6350: average-batch loss:4358.8214506617405 rel loss: 0.01631652154053072\n",
      "Saved a checkpoint: /tmp/tfcheckpoints/bbe45751-03c4-41c7-b86e-f3e146f02327/bbe45751-03c4-41c7-b86e-f3e146f02327-128\n"
     ]
    },
    {
     "name": "stderr",
     "output_type": "stream",
     "text": [
      " 64%|██████▍   | 6398/10000 [09:10<05:07, 11.71it/s]"
     ]
    },
    {
     "name": "stdout",
     "output_type": "stream",
     "text": [
      "Step 6400: average-batch loss:4292.529068345456 rel loss: 0.01544366532195362\n",
      "Saved a checkpoint: /tmp/tfcheckpoints/bbe45751-03c4-41c7-b86e-f3e146f02327/bbe45751-03c4-41c7-b86e-f3e146f02327-129\n"
     ]
    },
    {
     "name": "stderr",
     "output_type": "stream",
     "text": [
      " 64%|██████▍   | 6448/10000 [09:15<05:04, 11.68it/s]"
     ]
    },
    {
     "name": "stdout",
     "output_type": "stream",
     "text": [
      "Step 6450: average-batch loss:4223.525974026674 rel loss: 0.016337793290044613\n",
      "Saved a checkpoint: /tmp/tfcheckpoints/bbe45751-03c4-41c7-b86e-f3e146f02327/bbe45751-03c4-41c7-b86e-f3e146f02327-130\n"
     ]
    },
    {
     "name": "stderr",
     "output_type": "stream",
     "text": [
      " 65%|██████▍   | 6498/10000 [09:19<04:57, 11.75it/s]"
     ]
    },
    {
     "name": "stdout",
     "output_type": "stream",
     "text": [
      "Step 6500: average-batch loss:4157.811674246683 rel loss: 0.015805020748540094\n",
      "Saved a checkpoint: /tmp/tfcheckpoints/bbe45751-03c4-41c7-b86e-f3e146f02327/bbe45751-03c4-41c7-b86e-f3e146f02327-131\n"
     ]
    },
    {
     "name": "stderr",
     "output_type": "stream",
     "text": [
      " 65%|██████▌   | 6548/10000 [09:23<04:56, 11.65it/s]"
     ]
    },
    {
     "name": "stdout",
     "output_type": "stream",
     "text": [
      "Step 6550: average-batch loss:4089.641229334462 rel loss: 0.016669052635532693\n",
      "Saved a checkpoint: /tmp/tfcheckpoints/bbe45751-03c4-41c7-b86e-f3e146f02327/bbe45751-03c4-41c7-b86e-f3e146f02327-132\n"
     ]
    },
    {
     "name": "stderr",
     "output_type": "stream",
     "text": [
      " 66%|██████▌   | 6598/10000 [09:28<04:47, 11.84it/s]"
     ]
    },
    {
     "name": "stdout",
     "output_type": "stream",
     "text": [
      "Step 6600: average-batch loss:4023.4383259695783 rel loss: 0.016454310468131745\n",
      "Saved a checkpoint: /tmp/tfcheckpoints/bbe45751-03c4-41c7-b86e-f3e146f02327/bbe45751-03c4-41c7-b86e-f3e146f02327-133\n"
     ]
    },
    {
     "name": "stderr",
     "output_type": "stream",
     "text": [
      " 66%|██████▋   | 6648/10000 [09:32<04:43, 11.82it/s]"
     ]
    },
    {
     "name": "stdout",
     "output_type": "stream",
     "text": [
      "Step 6650: average-batch loss:3958.822288188077 rel loss: 0.016322035463500324\n",
      "Saved a checkpoint: /tmp/tfcheckpoints/bbe45751-03c4-41c7-b86e-f3e146f02327/bbe45751-03c4-41c7-b86e-f3e146f02327-134\n"
     ]
    },
    {
     "name": "stderr",
     "output_type": "stream",
     "text": [
      " 67%|██████▋   | 6698/10000 [09:36<04:41, 11.73it/s]"
     ]
    },
    {
     "name": "stdout",
     "output_type": "stream",
     "text": [
      "Step 6700: average-batch loss:3891.1388311848214 rel loss: 0.0173942539548625\n",
      "Saved a checkpoint: /tmp/tfcheckpoints/bbe45751-03c4-41c7-b86e-f3e146f02327/bbe45751-03c4-41c7-b86e-f3e146f02327-135\n"
     ]
    },
    {
     "name": "stderr",
     "output_type": "stream",
     "text": [
      " 67%|██████▋   | 6748/10000 [09:41<04:43, 11.49it/s]"
     ]
    },
    {
     "name": "stdout",
     "output_type": "stream",
     "text": [
      "Step 6750: average-batch loss:3827.913597012421 rel loss: 0.01651689166175164\n",
      "Saved a checkpoint: /tmp/tfcheckpoints/bbe45751-03c4-41c7-b86e-f3e146f02327/bbe45751-03c4-41c7-b86e-f3e146f02327-136\n"
     ]
    },
    {
     "name": "stderr",
     "output_type": "stream",
     "text": [
      " 68%|██████▊   | 6798/10000 [09:45<04:32, 11.76it/s]"
     ]
    },
    {
     "name": "stdout",
     "output_type": "stream",
     "text": [
      "Step 6800: average-batch loss:3764.493045805021 rel loss: 0.016847036356747405\n",
      "Saved a checkpoint: /tmp/tfcheckpoints/bbe45751-03c4-41c7-b86e-f3e146f02327/bbe45751-03c4-41c7-b86e-f3e146f02327-137\n"
     ]
    },
    {
     "name": "stderr",
     "output_type": "stream",
     "text": [
      " 68%|██████▊   | 6848/10000 [09:49<04:28, 11.73it/s]"
     ]
    },
    {
     "name": "stdout",
     "output_type": "stream",
     "text": [
      "Step 6850: average-batch loss:3698.5793423753753 rel loss: 0.01782135715582987\n",
      "Saved a checkpoint: /tmp/tfcheckpoints/bbe45751-03c4-41c7-b86e-f3e146f02327/bbe45751-03c4-41c7-b86e-f3e146f02327-138\n"
     ]
    },
    {
     "name": "stderr",
     "output_type": "stream",
     "text": [
      " 69%|██████▉   | 6898/10000 [09:54<04:31, 11.41it/s]"
     ]
    },
    {
     "name": "stdout",
     "output_type": "stream",
     "text": [
      "Step 6900: average-batch loss:3635.5304895250415 rel loss: 0.01734240794623915\n",
      "Saved a checkpoint: /tmp/tfcheckpoints/bbe45751-03c4-41c7-b86e-f3e146f02327/bbe45751-03c4-41c7-b86e-f3e146f02327-139\n"
     ]
    },
    {
     "name": "stderr",
     "output_type": "stream",
     "text": [
      " 69%|██████▉   | 6948/10000 [09:58<04:18, 11.82it/s]"
     ]
    },
    {
     "name": "stdout",
     "output_type": "stream",
     "text": [
      "Step 6950: average-batch loss:3568.2524970398254 rel loss: 0.018854605311992095\n",
      "Saved a checkpoint: /tmp/tfcheckpoints/bbe45751-03c4-41c7-b86e-f3e146f02327/bbe45751-03c4-41c7-b86e-f3e146f02327-140\n"
     ]
    },
    {
     "name": "stderr",
     "output_type": "stream",
     "text": [
      " 70%|██████▉   | 6998/10000 [10:02<04:15, 11.77it/s]"
     ]
    },
    {
     "name": "stdout",
     "output_type": "stream",
     "text": [
      "Step 7000: average-batch loss:3512.667094919526 rel loss: 0.0158242727301697\n",
      "Saved a checkpoint: /tmp/tfcheckpoints/bbe45751-03c4-41c7-b86e-f3e146f02327/bbe45751-03c4-41c7-b86e-f3e146f02327-141\n"
     ]
    },
    {
     "name": "stderr",
     "output_type": "stream",
     "text": [
      " 70%|███████   | 7048/10000 [10:07<04:12, 11.69it/s]"
     ]
    },
    {
     "name": "stdout",
     "output_type": "stream",
     "text": [
      "Step 7050: average-batch loss:3448.022555969348 rel loss: 0.01874829352211246\n",
      "Saved a checkpoint: /tmp/tfcheckpoints/bbe45751-03c4-41c7-b86e-f3e146f02327/bbe45751-03c4-41c7-b86e-f3e146f02327-142\n"
     ]
    },
    {
     "name": "stderr",
     "output_type": "stream",
     "text": [
      " 71%|███████   | 7098/10000 [10:11<04:05, 11.83it/s]"
     ]
    },
    {
     "name": "stdout",
     "output_type": "stream",
     "text": [
      "Step 7100: average-batch loss:3385.8841708568193 rel loss: 0.018352188668286393\n",
      "Saved a checkpoint: /tmp/tfcheckpoints/bbe45751-03c4-41c7-b86e-f3e146f02327/bbe45751-03c4-41c7-b86e-f3e146f02327-143\n"
     ]
    },
    {
     "name": "stderr",
     "output_type": "stream",
     "text": [
      " 71%|███████▏  | 7148/10000 [10:15<04:01, 11.79it/s]"
     ]
    },
    {
     "name": "stdout",
     "output_type": "stream",
     "text": [
      "Step 7150: average-batch loss:3321.4427003982364 rel loss: 0.019401650508935907\n",
      "Saved a checkpoint: /tmp/tfcheckpoints/bbe45751-03c4-41c7-b86e-f3e146f02327/bbe45751-03c4-41c7-b86e-f3e146f02327-144\n"
     ]
    },
    {
     "name": "stderr",
     "output_type": "stream",
     "text": [
      " 72%|███████▏  | 7198/10000 [10:19<03:58, 11.74it/s]"
     ]
    },
    {
     "name": "stdout",
     "output_type": "stream",
     "text": [
      "Step 7200: average-batch loss:3263.7368465473814 rel loss: 0.01768091502594654\n",
      "Saved a checkpoint: /tmp/tfcheckpoints/bbe45751-03c4-41c7-b86e-f3e146f02327/bbe45751-03c4-41c7-b86e-f3e146f02327-145\n"
     ]
    },
    {
     "name": "stderr",
     "output_type": "stream",
     "text": [
      " 72%|███████▏  | 7248/10000 [10:24<04:04, 11.23it/s]"
     ]
    },
    {
     "name": "stdout",
     "output_type": "stream",
     "text": [
      "Step 7250: average-batch loss:3201.306352067882 rel loss: 0.01950156830169424\n",
      "Saved a checkpoint: /tmp/tfcheckpoints/bbe45751-03c4-41c7-b86e-f3e146f02327/bbe45751-03c4-41c7-b86e-f3e146f02327-146\n"
     ]
    },
    {
     "name": "stderr",
     "output_type": "stream",
     "text": [
      " 73%|███████▎  | 7298/10000 [10:28<03:50, 11.74it/s]"
     ]
    },
    {
     "name": "stdout",
     "output_type": "stream",
     "text": [
      "Step 7300: average-batch loss:3142.5261794466805 rel loss: 0.018704751930356606\n",
      "Saved a checkpoint: /tmp/tfcheckpoints/bbe45751-03c4-41c7-b86e-f3e146f02327/bbe45751-03c4-41c7-b86e-f3e146f02327-147\n"
     ]
    },
    {
     "name": "stderr",
     "output_type": "stream",
     "text": [
      " 73%|███████▎  | 7348/10000 [10:32<03:48, 11.63it/s]"
     ]
    },
    {
     "name": "stdout",
     "output_type": "stream",
     "text": [
      "Step 7350: average-batch loss:3085.271693937213 rel loss: 0.0185573561064255\n",
      "Saved a checkpoint: /tmp/tfcheckpoints/bbe45751-03c4-41c7-b86e-f3e146f02327/bbe45751-03c4-41c7-b86e-f3e146f02327-148\n"
     ]
    },
    {
     "name": "stderr",
     "output_type": "stream",
     "text": [
      " 74%|███████▍  | 7398/10000 [10:37<03:40, 11.81it/s]"
     ]
    },
    {
     "name": "stdout",
     "output_type": "stream",
     "text": [
      "Step 7400: average-batch loss:3027.0898109718987 rel loss: 0.019220401969716933\n",
      "Saved a checkpoint: /tmp/tfcheckpoints/bbe45751-03c4-41c7-b86e-f3e146f02327/bbe45751-03c4-41c7-b86e-f3e146f02327-149\n"
     ]
    },
    {
     "name": "stderr",
     "output_type": "stream",
     "text": [
      " 74%|███████▍  | 7448/10000 [10:41<03:36, 11.80it/s]"
     ]
    },
    {
     "name": "stdout",
     "output_type": "stream",
     "text": [
      "Step 7450: average-batch loss:2964.5780521937863 rel loss: 0.0210862246422737\n",
      "Saved a checkpoint: /tmp/tfcheckpoints/bbe45751-03c4-41c7-b86e-f3e146f02327/bbe45751-03c4-41c7-b86e-f3e146f02327-150\n"
     ]
    },
    {
     "name": "stderr",
     "output_type": "stream",
     "text": [
      " 75%|███████▍  | 7498/10000 [10:45<03:32, 11.79it/s]"
     ]
    },
    {
     "name": "stdout",
     "output_type": "stream",
     "text": [
      "Step 7500: average-batch loss:2911.7576530155225 rel loss: 0.018140383051302753\n",
      "Saved a checkpoint: /tmp/tfcheckpoints/bbe45751-03c4-41c7-b86e-f3e146f02327/bbe45751-03c4-41c7-b86e-f3e146f02327-151\n"
     ]
    },
    {
     "name": "stderr",
     "output_type": "stream",
     "text": [
      " 75%|███████▌  | 7548/10000 [10:50<03:26, 11.86it/s]"
     ]
    },
    {
     "name": "stdout",
     "output_type": "stream",
     "text": [
      "Step 7550: average-batch loss:2856.3681403864084 rel loss: 0.01939158746590031\n",
      "Saved a checkpoint: /tmp/tfcheckpoints/bbe45751-03c4-41c7-b86e-f3e146f02327/bbe45751-03c4-41c7-b86e-f3e146f02327-152\n"
     ]
    },
    {
     "name": "stderr",
     "output_type": "stream",
     "text": [
      " 76%|███████▌  | 7598/10000 [10:54<03:24, 11.73it/s]"
     ]
    },
    {
     "name": "stdout",
     "output_type": "stream",
     "text": [
      "Step 7600: average-batch loss:2795.636219884369 rel loss: 0.021723828039597864\n",
      "Saved a checkpoint: /tmp/tfcheckpoints/bbe45751-03c4-41c7-b86e-f3e146f02327/bbe45751-03c4-41c7-b86e-f3e146f02327-153\n"
     ]
    },
    {
     "name": "stderr",
     "output_type": "stream",
     "text": [
      " 76%|███████▋  | 7648/10000 [10:58<03:21, 11.67it/s]"
     ]
    },
    {
     "name": "stdout",
     "output_type": "stream",
     "text": [
      "Step 7650: average-batch loss:2743.210414977679 rel loss: 0.019111113249078403\n",
      "Saved a checkpoint: /tmp/tfcheckpoints/bbe45751-03c4-41c7-b86e-f3e146f02327/bbe45751-03c4-41c7-b86e-f3e146f02327-154\n"
     ]
    },
    {
     "name": "stderr",
     "output_type": "stream",
     "text": [
      " 77%|███████▋  | 7698/10000 [11:03<03:16, 11.72it/s]"
     ]
    },
    {
     "name": "stdout",
     "output_type": "stream",
     "text": [
      "Step 7700: average-batch loss:2690.561193318089 rel loss: 0.019568119019311908\n",
      "Saved a checkpoint: /tmp/tfcheckpoints/bbe45751-03c4-41c7-b86e-f3e146f02327/bbe45751-03c4-41c7-b86e-f3e146f02327-155\n"
     ]
    },
    {
     "name": "stderr",
     "output_type": "stream",
     "text": [
      " 77%|███████▋  | 7748/10000 [11:07<03:10, 11.82it/s]"
     ]
    },
    {
     "name": "stdout",
     "output_type": "stream",
     "text": [
      "Step 7750: average-batch loss:2633.100996186584 rel loss: 0.02182225338668073\n",
      "Saved a checkpoint: /tmp/tfcheckpoints/bbe45751-03c4-41c7-b86e-f3e146f02327/bbe45751-03c4-41c7-b86e-f3e146f02327-156\n"
     ]
    },
    {
     "name": "stderr",
     "output_type": "stream",
     "text": [
      " 78%|███████▊  | 7798/10000 [11:11<03:06, 11.81it/s]"
     ]
    },
    {
     "name": "stdout",
     "output_type": "stream",
     "text": [
      "Step 7800: average-batch loss:2581.043543465685 rel loss: 0.02016914935538003\n",
      "Saved a checkpoint: /tmp/tfcheckpoints/bbe45751-03c4-41c7-b86e-f3e146f02327/bbe45751-03c4-41c7-b86e-f3e146f02327-157\n"
     ]
    },
    {
     "name": "stderr",
     "output_type": "stream",
     "text": [
      " 78%|███████▊  | 7848/10000 [11:15<03:04, 11.65it/s]"
     ]
    },
    {
     "name": "stdout",
     "output_type": "stream",
     "text": [
      "Step 7850: average-batch loss:2525.888062360032 rel loss: 0.021836074974011008\n",
      "Saved a checkpoint: /tmp/tfcheckpoints/bbe45751-03c4-41c7-b86e-f3e146f02327/bbe45751-03c4-41c7-b86e-f3e146f02327-158\n"
     ]
    },
    {
     "name": "stderr",
     "output_type": "stream",
     "text": [
      " 79%|███████▉  | 7898/10000 [11:20<03:00, 11.64it/s]"
     ]
    },
    {
     "name": "stdout",
     "output_type": "stream",
     "text": [
      "Step 7900: average-batch loss:2475.6209253766824 rel loss: 0.020304860274882843\n",
      "Saved a checkpoint: /tmp/tfcheckpoints/bbe45751-03c4-41c7-b86e-f3e146f02327/bbe45751-03c4-41c7-b86e-f3e146f02327-159\n"
     ]
    },
    {
     "name": "stderr",
     "output_type": "stream",
     "text": [
      " 79%|███████▉  | 7948/10000 [11:24<03:07, 10.95it/s]"
     ]
    },
    {
     "name": "stdout",
     "output_type": "stream",
     "text": [
      "Step 7950: average-batch loss:2426.8002895695745 rel loss: 0.02011728613060571\n",
      "Saved a checkpoint: /tmp/tfcheckpoints/bbe45751-03c4-41c7-b86e-f3e146f02327/bbe45751-03c4-41c7-b86e-f3e146f02327-160\n"
     ]
    },
    {
     "name": "stderr",
     "output_type": "stream",
     "text": [
      " 80%|███████▉  | 7998/10000 [11:29<02:54, 11.50it/s]"
     ]
    },
    {
     "name": "stdout",
     "output_type": "stream",
     "text": [
      "Step 8000: average-batch loss:2370.923302031643 rel loss: 0.023567606548069563\n",
      "Saved a checkpoint: /tmp/tfcheckpoints/bbe45751-03c4-41c7-b86e-f3e146f02327/bbe45751-03c4-41c7-b86e-f3e146f02327-161\n"
     ]
    },
    {
     "name": "stderr",
     "output_type": "stream",
     "text": [
      " 80%|████████  | 8048/10000 [11:33<02:47, 11.69it/s]"
     ]
    },
    {
     "name": "stdout",
     "output_type": "stream",
     "text": [
      "Step 8050: average-batch loss:2324.0244127374153 rel loss: 0.020180032979510043\n",
      "Saved a checkpoint: /tmp/tfcheckpoints/bbe45751-03c4-41c7-b86e-f3e146f02327/bbe45751-03c4-41c7-b86e-f3e146f02327-162\n"
     ]
    },
    {
     "name": "stderr",
     "output_type": "stream",
     "text": [
      " 81%|████████  | 8098/10000 [11:37<02:41, 11.80it/s]"
     ]
    },
    {
     "name": "stdout",
     "output_type": "stream",
     "text": [
      "Step 8100: average-batch loss:2274.7072253802676 rel loss: 0.021680674685026026\n",
      "Saved a checkpoint: /tmp/tfcheckpoints/bbe45751-03c4-41c7-b86e-f3e146f02327/bbe45751-03c4-41c7-b86e-f3e146f02327-163\n"
     ]
    },
    {
     "name": "stderr",
     "output_type": "stream",
     "text": [
      " 81%|████████▏ | 8148/10000 [11:41<02:37, 11.73it/s]"
     ]
    },
    {
     "name": "stdout",
     "output_type": "stream",
     "text": [
      "Step 8150: average-batch loss:2225.373098537517 rel loss: 0.022168923887492125\n",
      "Saved a checkpoint: /tmp/tfcheckpoints/bbe45751-03c4-41c7-b86e-f3e146f02327/bbe45751-03c4-41c7-b86e-f3e146f02327-164\n"
     ]
    },
    {
     "name": "stderr",
     "output_type": "stream",
     "text": [
      " 82%|████████▏ | 8198/10000 [11:46<02:34, 11.67it/s]"
     ]
    },
    {
     "name": "stdout",
     "output_type": "stream",
     "text": [
      "Step 8200: average-batch loss:2176.851951283069 rel loss: 0.022289594487970948\n",
      "Saved a checkpoint: /tmp/tfcheckpoints/bbe45751-03c4-41c7-b86e-f3e146f02327/bbe45751-03c4-41c7-b86e-f3e146f02327-165\n"
     ]
    },
    {
     "name": "stderr",
     "output_type": "stream",
     "text": [
      " 82%|████████▏ | 8248/10000 [11:50<02:30, 11.68it/s]"
     ]
    },
    {
     "name": "stdout",
     "output_type": "stream",
     "text": [
      "Step 8250: average-batch loss:2130.568675228274 rel loss: 0.02172343778115296\n",
      "Saved a checkpoint: /tmp/tfcheckpoints/bbe45751-03c4-41c7-b86e-f3e146f02327/bbe45751-03c4-41c7-b86e-f3e146f02327-166\n"
     ]
    },
    {
     "name": "stderr",
     "output_type": "stream",
     "text": [
      " 83%|████████▎ | 8298/10000 [11:54<02:24, 11.74it/s]"
     ]
    },
    {
     "name": "stdout",
     "output_type": "stream",
     "text": [
      "Step 8300: average-batch loss:2083.1860780995894 rel loss: 0.02274525431348408\n",
      "Saved a checkpoint: /tmp/tfcheckpoints/bbe45751-03c4-41c7-b86e-f3e146f02327/bbe45751-03c4-41c7-b86e-f3e146f02327-167\n"
     ]
    },
    {
     "name": "stderr",
     "output_type": "stream",
     "text": [
      " 83%|████████▎ | 8348/10000 [11:59<02:22, 11.58it/s]"
     ]
    },
    {
     "name": "stdout",
     "output_type": "stream",
     "text": [
      "Step 8350: average-batch loss:2040.5011072641569 rel loss: 0.02091886678398487\n",
      "Saved a checkpoint: /tmp/tfcheckpoints/bbe45751-03c4-41c7-b86e-f3e146f02327/bbe45751-03c4-41c7-b86e-f3e146f02327-168\n"
     ]
    },
    {
     "name": "stderr",
     "output_type": "stream",
     "text": [
      " 84%|████████▍ | 8398/10000 [12:03<02:16, 11.71it/s]"
     ]
    },
    {
     "name": "stdout",
     "output_type": "stream",
     "text": [
      "Step 8400: average-batch loss:1996.0495005574933 rel loss: 0.022269791753284845\n",
      "Saved a checkpoint: /tmp/tfcheckpoints/bbe45751-03c4-41c7-b86e-f3e146f02327/bbe45751-03c4-41c7-b86e-f3e146f02327-169\n"
     ]
    },
    {
     "name": "stderr",
     "output_type": "stream",
     "text": [
      " 84%|████████▍ | 8448/10000 [12:07<02:12, 11.69it/s]"
     ]
    },
    {
     "name": "stdout",
     "output_type": "stream",
     "text": [
      "Step 8450: average-batch loss:1950.276012914007 rel loss: 0.02347026130680539\n",
      "Saved a checkpoint: /tmp/tfcheckpoints/bbe45751-03c4-41c7-b86e-f3e146f02327/bbe45751-03c4-41c7-b86e-f3e146f02327-170\n"
     ]
    },
    {
     "name": "stderr",
     "output_type": "stream",
     "text": [
      " 85%|████████▍ | 8498/10000 [12:12<02:06, 11.83it/s]"
     ]
    },
    {
     "name": "stdout",
     "output_type": "stream",
     "text": [
      "Step 8500: average-batch loss:1908.5842018216572 rel loss: 0.021844365604911136\n",
      "Saved a checkpoint: /tmp/tfcheckpoints/bbe45751-03c4-41c7-b86e-f3e146f02327/bbe45751-03c4-41c7-b86e-f3e146f02327-171\n"
     ]
    },
    {
     "name": "stderr",
     "output_type": "stream",
     "text": [
      " 85%|████████▌ | 8548/10000 [12:16<02:05, 11.53it/s]"
     ]
    },
    {
     "name": "stdout",
     "output_type": "stream",
     "text": [
      "Step 8550: average-batch loss:1865.3467189201058 rel loss: 0.023179327715858972\n",
      "Saved a checkpoint: /tmp/tfcheckpoints/bbe45751-03c4-41c7-b86e-f3e146f02327/bbe45751-03c4-41c7-b86e-f3e146f02327-172\n"
     ]
    },
    {
     "name": "stderr",
     "output_type": "stream",
     "text": [
      " 86%|████████▌ | 8598/10000 [12:20<01:58, 11.80it/s]"
     ]
    },
    {
     "name": "stdout",
     "output_type": "stream",
     "text": [
      "Step 8600: average-batch loss:1825.0548588291194 rel loss: 0.022077067928158584\n",
      "Saved a checkpoint: /tmp/tfcheckpoints/bbe45751-03c4-41c7-b86e-f3e146f02327/bbe45751-03c4-41c7-b86e-f3e146f02327-173\n"
     ]
    },
    {
     "name": "stderr",
     "output_type": "stream",
     "text": [
      " 86%|████████▋ | 8648/10000 [12:25<01:55, 11.73it/s]"
     ]
    },
    {
     "name": "stdout",
     "output_type": "stream",
     "text": [
      "Step 8650: average-batch loss:1786.3376890057941 rel loss: 0.021674048564061698\n",
      "Saved a checkpoint: /tmp/tfcheckpoints/bbe45751-03c4-41c7-b86e-f3e146f02327/bbe45751-03c4-41c7-b86e-f3e146f02327-174\n"
     ]
    },
    {
     "name": "stderr",
     "output_type": "stream",
     "text": [
      " 87%|████████▋ | 8698/10000 [12:29<01:52, 11.53it/s]"
     ]
    },
    {
     "name": "stdout",
     "output_type": "stream",
     "text": [
      "Step 8700: average-batch loss:1745.4535935123831 rel loss: 0.023423192484390128\n",
      "Saved a checkpoint: /tmp/tfcheckpoints/bbe45751-03c4-41c7-b86e-f3e146f02327/bbe45751-03c4-41c7-b86e-f3e146f02327-175\n"
     ]
    },
    {
     "name": "stderr",
     "output_type": "stream",
     "text": [
      " 87%|████████▋ | 8748/10000 [12:33<01:46, 11.75it/s]"
     ]
    },
    {
     "name": "stdout",
     "output_type": "stream",
     "text": [
      "Step 8750: average-batch loss:1702.3748867129973 rel loss: 0.025305064786619147\n",
      "Saved a checkpoint: /tmp/tfcheckpoints/bbe45751-03c4-41c7-b86e-f3e146f02327/bbe45751-03c4-41c7-b86e-f3e146f02327-176\n"
     ]
    },
    {
     "name": "stderr",
     "output_type": "stream",
     "text": [
      " 88%|████████▊ | 8798/10000 [12:37<01:42, 11.73it/s]"
     ]
    },
    {
     "name": "stdout",
     "output_type": "stream",
     "text": [
      "Step 8800: average-batch loss:1666.2111247666082 rel loss: 0.02170418946845925\n",
      "Saved a checkpoint: /tmp/tfcheckpoints/bbe45751-03c4-41c7-b86e-f3e146f02327/bbe45751-03c4-41c7-b86e-f3e146f02327-177\n"
     ]
    },
    {
     "name": "stderr",
     "output_type": "stream",
     "text": [
      " 88%|████████▊ | 8848/10000 [12:42<01:42, 11.25it/s]"
     ]
    },
    {
     "name": "stdout",
     "output_type": "stream",
     "text": [
      "Step 8850: average-batch loss:1628.3766234653165 rel loss: 0.023234490569372646\n",
      "Saved a checkpoint: /tmp/tfcheckpoints/bbe45751-03c4-41c7-b86e-f3e146f02327/bbe45751-03c4-41c7-b86e-f3e146f02327-178\n"
     ]
    },
    {
     "name": "stderr",
     "output_type": "stream",
     "text": [
      " 89%|████████▉ | 8898/10000 [12:46<01:33, 11.81it/s]"
     ]
    },
    {
     "name": "stdout",
     "output_type": "stream",
     "text": [
      "Step 8900: average-batch loss:1593.4616885111059 rel loss: 0.02191137396396038\n",
      "Saved a checkpoint: /tmp/tfcheckpoints/bbe45751-03c4-41c7-b86e-f3e146f02327/bbe45751-03c4-41c7-b86e-f3e146f02327-179\n"
     ]
    },
    {
     "name": "stderr",
     "output_type": "stream",
     "text": [
      " 89%|████████▉ | 8948/10000 [12:51<01:29, 11.77it/s]"
     ]
    },
    {
     "name": "stdout",
     "output_type": "stream",
     "text": [
      "Step 8950: average-batch loss:1557.0005464460098 rel loss: 0.02341755251680663\n",
      "Saved a checkpoint: /tmp/tfcheckpoints/bbe45751-03c4-41c7-b86e-f3e146f02327/bbe45751-03c4-41c7-b86e-f3e146f02327-180\n"
     ]
    },
    {
     "name": "stderr",
     "output_type": "stream",
     "text": [
      " 90%|████████▉ | 8998/10000 [12:55<01:26, 11.62it/s]"
     ]
    },
    {
     "name": "stdout",
     "output_type": "stream",
     "text": [
      "Step 9000: average-batch loss:1524.3249528201316 rel loss: 0.021436107547426565\n",
      "Saved a checkpoint: /tmp/tfcheckpoints/bbe45751-03c4-41c7-b86e-f3e146f02327/bbe45751-03c4-41c7-b86e-f3e146f02327-181\n"
     ]
    },
    {
     "name": "stderr",
     "output_type": "stream",
     "text": [
      " 90%|█████████ | 9048/10000 [12:59<01:21, 11.75it/s]"
     ]
    },
    {
     "name": "stdout",
     "output_type": "stream",
     "text": [
      "Step 9050: average-batch loss:1487.8386481207535 rel loss: 0.024523025225526192\n",
      "Saved a checkpoint: /tmp/tfcheckpoints/bbe45751-03c4-41c7-b86e-f3e146f02327/bbe45751-03c4-41c7-b86e-f3e146f02327-182\n"
     ]
    },
    {
     "name": "stderr",
     "output_type": "stream",
     "text": [
      " 91%|█████████ | 9098/10000 [13:03<01:17, 11.67it/s]"
     ]
    },
    {
     "name": "stdout",
     "output_type": "stream",
     "text": [
      "Step 9100: average-batch loss:1457.808878098217 rel loss: 0.0205992503363759\n",
      "Saved a checkpoint: /tmp/tfcheckpoints/bbe45751-03c4-41c7-b86e-f3e146f02327/bbe45751-03c4-41c7-b86e-f3e146f02327-183\n"
     ]
    },
    {
     "name": "stderr",
     "output_type": "stream",
     "text": [
      " 91%|█████████▏| 9148/10000 [13:08<01:12, 11.69it/s]"
     ]
    },
    {
     "name": "stdout",
     "output_type": "stream",
     "text": [
      "Step 9150: average-batch loss:1424.1819049289657 rel loss: 0.02361143127354131\n",
      "Saved a checkpoint: /tmp/tfcheckpoints/bbe45751-03c4-41c7-b86e-f3e146f02327/bbe45751-03c4-41c7-b86e-f3e146f02327-184\n"
     ]
    },
    {
     "name": "stderr",
     "output_type": "stream",
     "text": [
      " 92%|█████████▏| 9198/10000 [13:12<01:08, 11.77it/s]"
     ]
    },
    {
     "name": "stdout",
     "output_type": "stream",
     "text": [
      "Step 9200: average-batch loss:1394.151439299488 rel loss: 0.021540318205723014\n",
      "Saved a checkpoint: /tmp/tfcheckpoints/bbe45751-03c4-41c7-b86e-f3e146f02327/bbe45751-03c4-41c7-b86e-f3e146f02327-185\n"
     ]
    },
    {
     "name": "stderr",
     "output_type": "stream",
     "text": [
      " 92%|█████████▏| 9248/10000 [13:16<01:03, 11.84it/s]"
     ]
    },
    {
     "name": "stdout",
     "output_type": "stream",
     "text": [
      "Step 9250: average-batch loss:1363.2290390824992 rel loss: 0.022683202404344776\n",
      "Saved a checkpoint: /tmp/tfcheckpoints/bbe45751-03c4-41c7-b86e-f3e146f02327/bbe45751-03c4-41c7-b86e-f3e146f02327-186\n"
     ]
    },
    {
     "name": "stderr",
     "output_type": "stream",
     "text": [
      " 93%|█████████▎| 9298/10000 [13:21<00:59, 11.73it/s]"
     ]
    },
    {
     "name": "stdout",
     "output_type": "stream",
     "text": [
      "Step 9300: average-batch loss:1333.1416601446972 rel loss: 0.022568778575666405\n",
      "Saved a checkpoint: /tmp/tfcheckpoints/bbe45751-03c4-41c7-b86e-f3e146f02327/bbe45751-03c4-41c7-b86e-f3e146f02327-187\n"
     ]
    },
    {
     "name": "stderr",
     "output_type": "stream",
     "text": [
      " 93%|█████████▎| 9348/10000 [13:25<00:56, 11.58it/s]"
     ]
    },
    {
     "name": "stdout",
     "output_type": "stream",
     "text": [
      "Step 9350: average-batch loss:1305.5816838861008 rel loss: 0.021109346583787356\n",
      "Saved a checkpoint: /tmp/tfcheckpoints/bbe45751-03c4-41c7-b86e-f3e146f02327/bbe45751-03c4-41c7-b86e-f3e146f02327-188\n"
     ]
    },
    {
     "name": "stderr",
     "output_type": "stream",
     "text": [
      " 94%|█████████▍| 9398/10000 [13:29<00:51, 11.80it/s]"
     ]
    },
    {
     "name": "stdout",
     "output_type": "stream",
     "text": [
      "Step 9400: average-batch loss:1277.5545896629535 rel loss: 0.02193807955442549\n",
      "Saved a checkpoint: /tmp/tfcheckpoints/bbe45751-03c4-41c7-b86e-f3e146f02327/bbe45751-03c4-41c7-b86e-f3e146f02327-189\n"
     ]
    },
    {
     "name": "stderr",
     "output_type": "stream",
     "text": [
      " 94%|█████████▍| 9448/10000 [13:34<00:48, 11.47it/s]"
     ]
    },
    {
     "name": "stdout",
     "output_type": "stream",
     "text": [
      "Step 9450: average-batch loss:1250.0886984124425 rel loss: 0.021971153955228553\n",
      "Saved a checkpoint: /tmp/tfcheckpoints/bbe45751-03c4-41c7-b86e-f3e146f02327/bbe45751-03c4-41c7-b86e-f3e146f02327-190\n"
     ]
    },
    {
     "name": "stderr",
     "output_type": "stream",
     "text": [
      " 95%|█████████▍| 9498/10000 [13:38<00:42, 11.85it/s]"
     ]
    },
    {
     "name": "stdout",
     "output_type": "stream",
     "text": [
      "Step 9500: average-batch loss:1223.9366663672147 rel loss: 0.02136714485631844\n",
      "Saved a checkpoint: /tmp/tfcheckpoints/bbe45751-03c4-41c7-b86e-f3e146f02327/bbe45751-03c4-41c7-b86e-f3e146f02327-191\n"
     ]
    },
    {
     "name": "stderr",
     "output_type": "stream",
     "text": [
      " 95%|█████████▌| 9548/10000 [13:42<00:38, 11.78it/s]"
     ]
    },
    {
     "name": "stdout",
     "output_type": "stream",
     "text": [
      "Step 9550: average-batch loss:1199.4464893602906 rel loss: 0.02041789877594759\n",
      "Saved a checkpoint: /tmp/tfcheckpoints/bbe45751-03c4-41c7-b86e-f3e146f02327/bbe45751-03c4-41c7-b86e-f3e146f02327-192\n"
     ]
    },
    {
     "name": "stderr",
     "output_type": "stream",
     "text": [
      " 96%|█████████▌| 9598/10000 [13:46<00:34, 11.72it/s]"
     ]
    },
    {
     "name": "stdout",
     "output_type": "stream",
     "text": [
      "Step 9600: average-batch loss:1176.2915891257312 rel loss: 0.01968466020552697\n",
      "Saved a checkpoint: /tmp/tfcheckpoints/bbe45751-03c4-41c7-b86e-f3e146f02327/bbe45751-03c4-41c7-b86e-f3e146f02327-193\n"
     ]
    },
    {
     "name": "stderr",
     "output_type": "stream",
     "text": [
      " 96%|█████████▋| 9648/10000 [13:51<00:30, 11.40it/s]"
     ]
    },
    {
     "name": "stdout",
     "output_type": "stream",
     "text": [
      "Step 9650: average-batch loss:1153.8377262979059 rel loss: 0.01946015658533602\n",
      "Saved a checkpoint: /tmp/tfcheckpoints/bbe45751-03c4-41c7-b86e-f3e146f02327/bbe45751-03c4-41c7-b86e-f3e146f02327-194\n"
     ]
    },
    {
     "name": "stderr",
     "output_type": "stream",
     "text": [
      " 97%|█████████▋| 9698/10000 [13:55<00:25, 11.72it/s]"
     ]
    },
    {
     "name": "stdout",
     "output_type": "stream",
     "text": [
      "Step 9700: average-batch loss:1132.6774825376594 rel loss: 0.018681614216289402\n",
      "Saved a checkpoint: /tmp/tfcheckpoints/bbe45751-03c4-41c7-b86e-f3e146f02327/bbe45751-03c4-41c7-b86e-f3e146f02327-195\n"
     ]
    },
    {
     "name": "stderr",
     "output_type": "stream",
     "text": [
      " 97%|█████████▋| 9748/10000 [14:00<00:22, 11.07it/s]"
     ]
    },
    {
     "name": "stdout",
     "output_type": "stream",
     "text": [
      "Step 9750: average-batch loss:1109.4333812402224 rel loss: 0.020951326767771086\n",
      "Saved a checkpoint: /tmp/tfcheckpoints/bbe45751-03c4-41c7-b86e-f3e146f02327/bbe45751-03c4-41c7-b86e-f3e146f02327-196\n"
     ]
    },
    {
     "name": "stderr",
     "output_type": "stream",
     "text": [
      " 98%|█████████▊| 9798/10000 [14:04<00:17, 11.68it/s]"
     ]
    },
    {
     "name": "stdout",
     "output_type": "stream",
     "text": [
      "Step 9800: average-batch loss:1088.6607055246122 rel loss: 0.01908094561528245\n",
      "Saved a checkpoint: /tmp/tfcheckpoints/bbe45751-03c4-41c7-b86e-f3e146f02327/bbe45751-03c4-41c7-b86e-f3e146f02327-197\n"
     ]
    },
    {
     "name": "stderr",
     "output_type": "stream",
     "text": [
      " 98%|█████████▊| 9848/10000 [14:08<00:12, 11.82it/s]"
     ]
    },
    {
     "name": "stdout",
     "output_type": "stream",
     "text": [
      "Step 9850: average-batch loss:1071.5337072758693 rel loss: 0.015983629943181525\n",
      "Saved a checkpoint: /tmp/tfcheckpoints/bbe45751-03c4-41c7-b86e-f3e146f02327/bbe45751-03c4-41c7-b86e-f3e146f02327-198\n"
     ]
    },
    {
     "name": "stderr",
     "output_type": "stream",
     "text": [
      " 99%|█████████▉| 9898/10000 [14:12<00:08, 11.81it/s]"
     ]
    },
    {
     "name": "stdout",
     "output_type": "stream",
     "text": [
      "Step 9900: average-batch loss:1053.5377741713996 rel loss: 0.01708143129336145\n",
      "Saved a checkpoint: /tmp/tfcheckpoints/bbe45751-03c4-41c7-b86e-f3e146f02327/bbe45751-03c4-41c7-b86e-f3e146f02327-199\n"
     ]
    },
    {
     "name": "stderr",
     "output_type": "stream",
     "text": [
      " 99%|█████████▉| 9948/10000 [14:17<00:04, 11.66it/s]"
     ]
    },
    {
     "name": "stdout",
     "output_type": "stream",
     "text": [
      "Step 9950: average-batch loss:1033.9332860965615 rel loss: 0.01896107644319255\n",
      "Saved a checkpoint: /tmp/tfcheckpoints/bbe45751-03c4-41c7-b86e-f3e146f02327/bbe45751-03c4-41c7-b86e-f3e146f02327-200\n"
     ]
    },
    {
     "name": "stderr",
     "output_type": "stream",
     "text": [
      "100%|█████████▉| 9998/10000 [14:21<00:00, 11.80it/s]"
     ]
    },
    {
     "name": "stdout",
     "output_type": "stream",
     "text": [
      "Step 10000: average-batch loss:1019.05384282926 rel loss: 0.014601233656104719\n",
      "Saved a checkpoint: /tmp/tfcheckpoints/bbe45751-03c4-41c7-b86e-f3e146f02327/bbe45751-03c4-41c7-b86e-f3e146f02327-201\n"
     ]
    },
    {
     "name": "stderr",
     "output_type": "stream",
     "text": [
      "100%|██████████| 10000/10000 [14:21<00:00, 11.58it/s]"
     ]
    },
    {
     "name": "stdout",
     "output_type": "stream",
     "text": [
      "Terminating because we are out of iterations\n"
     ]
    },
    {
     "name": "stderr",
     "output_type": "stream",
     "text": [
      "100%|██████████| 10000/10000 [14:21<00:00, 11.61it/s]\n"
     ]
    }
   ],
   "source": [
    "\n",
    "losses = lr_model2.fit(\n",
    "    data_factory_factory(shuffle=True, repeat=True),\n",
    "    dataset_size=N,\n",
    "    batches_per_step=9,\n",
    "    check_every=int(N/batch_size)*50,\n",
    "    batch_size=batch_size,\n",
    "    num_steps=10000,\n",
    "    max_decay_steps=10,\n",
    "    max_plateau_epochs=100,\n",
    "    sample_size=36,\n",
    "    learning_rate=0.0005,\n",
    "    lr_decay_factor=0.9\n",
    "    )\n",
    "\n"
   ]
  },
  {
   "cell_type": "code",
   "execution_count": 34,
   "metadata": {},
   "outputs": [
    {
     "name": "stderr",
     "output_type": "stream",
     "text": [
      "100%|██████████| 1/1 [02:28<00:00, 148.94s/it]"
     ]
    },
    {
     "name": "stdout",
     "output_type": "stream",
     "text": [
      "{1000: {1: {'I0': [0, 2, 4, 5, 6, 7, 8, 9, 10, 12, 13, 14, 16, 17, 18, 19, 27, 30, 31, 39, 42, 44, 52], 'I': [], 'LL': [32], 'KL': [28, 36], 'Var': [3, 23, 24, 35], 'MM1': [], 'MM2': []}, 0.25: {'I0': [0, 2, 4, 5, 6, 7, 8, 9, 10, 12, 13, 14, 16, 17, 18, 19, 27, 30, 31, 39, 42, 44, 52], 'I': [], 'LL': [32], 'KL': [3, 15], 'Var': [3, 11, 22, 23, 24, 34, 46], 'MM1': [26, 36], 'MM2': []}, 0.0625: {'I0': [0, 2, 4, 5, 6, 7, 8, 9, 10, 12, 13, 14, 16, 17, 18, 19, 27, 30, 31, 39, 42, 44, 52], 'I': [], 'LL': [24, 25], 'KL': [47], 'Var': [3, 11, 22, 23, 24, 35], 'MM1': [21, 25, 28, 36, 41, 43, 45, 47, 48], 'MM2': []}, 0.015625: {'I0': [0, 2, 4, 5, 6, 7, 8, 9, 10, 12, 13, 14, 16, 17, 18, 19, 27, 30, 31, 39, 42, 44, 52], 'I': [], 'LL': [41], 'KL': [22, 24, 34, 41], 'Var': [20, 22, 23, 24, 34], 'MM1': [11, 26, 28, 29, 36, 38, 43, 45, 49, 51], 'MM2': []}, 0.00390625: {'I0': [0, 2, 4, 5, 6, 7, 8, 9, 10, 12, 13, 14, 16, 17, 18, 19, 27, 30, 31, 39, 42, 44, 52], 'I': [], 'LL': [3, 47, 49], 'KL': [15, 23, 24, 32], 'Var': [1, 11, 20, 23, 35], 'MM1': [21, 24, 26, 32, 33, 34, 37, 38, 43, 45, 46, 47, 48, 49, 50, 51, 53], 'MM2': []}, 0.0009765625: {'I0': [0, 2, 4, 5, 6, 7, 8, 9, 10, 12, 13, 14, 16, 17, 18, 19, 27, 30, 31, 39, 42, 44, 52], 'I': [], 'LL': [53], 'KL': [11, 24], 'Var': [1, 11, 20, 23, 24, 38], 'MM1': [3, 11, 21, 26, 28, 37, 38, 40, 46, 47, 50], 'MM2': [1, 11, 15, 20, 21, 23, 25, 26, 28, 29, 32, 33, 34, 35, 36, 37, 38, 40, 41, 43, 45, 46, 47, 48, 49, 50, 51, 53]}, 0.000244140625: {'I0': [0, 2, 4, 5, 6, 7, 8, 9, 10, 12, 13, 14, 16, 17, 18, 19, 27, 30, 31, 39, 42, 44, 52], 'I': [], 'LL': [], 'KL': [20], 'Var': [1, 20, 23], 'MM1': [1, 11, 15, 20, 21, 26, 28, 33, 37, 38, 47, 49, 50], 'MM2': []}, 6.103515625e-05: {'I0': [0, 2, 4, 5, 6, 7, 8, 9, 10, 12, 13, 14, 16, 17, 18, 19, 27, 30, 31, 39, 42, 44, 52], 'I': [], 'LL': [], 'KL': [], 'Var': [], 'MM1': [1, 15, 22, 26, 28, 32, 36, 37, 38, 49], 'MM2': [11, 15, 20, 21, 22, 24, 25, 26, 28, 29, 32, 33, 34, 36, 37, 38, 40, 41, 43, 45, 47, 48, 49, 50, 51, 53]}, 1.52587890625e-05: {'I0': [0, 2, 4, 5, 6, 7, 8, 9, 10, 12, 13, 14, 16, 17, 18, 19, 27, 30, 31, 39, 42, 44, 52], 'I': [], 'LL': [20], 'KL': [32], 'Var': [], 'MM1': [1, 43], 'MM2': [1, 21, 25, 26, 40, 41, 49, 50]}}}\n"
     ]
    },
    {
     "name": "stderr",
     "output_type": "stream",
     "text": [
      "\n"
     ]
    }
   ],
   "source": [
    "base = 4\n",
    "h_vals = [4**-r for r in range(9)]\n",
    "\n",
    "loo_output = []\n",
    "\n",
    "for _ in tqdm(range(1)):\n",
    "    loo_khat_advi = {}\n",
    "    reduced_ndx_advi = {}\n",
    "    n_sample = [1000]\n",
    "    records_advi = []\n",
    "    for n_samples in n_sample:\n",
    "        sample_ndx = np.random.choice(range(fit.stan_variables()['beta0'].shape[0]), size=n_samples, replace=False)\n",
    "        reduced_ndx_advi[n_samples] = {}\n",
    "        # print(f\"Samples: {n_samples}\")\n",
    "        loo_khat_advi[n_samples] = {}\n",
    "        params_ = fit.stan_variables()\n",
    "        params_ = {k: v[sample_ndx] for k, v in params_.items()}\n",
    "\n",
    "        params_[\"c\"] = params_[\"c\"][:, tf.newaxis]\n",
    "        params_[\"tau\"] = params_[\"tau\"][:, tf.newaxis]\n",
    "        params_[\"caux\"] = params_[\"caux\"][:, tf.newaxis]\n",
    "        params_[\"beta0\"] = params_[\"beta0\"][:, tf.newaxis]\n",
    "\n",
    "        for h in h_vals:\n",
    "            loo_khat_advi[n_samples][h] = {}\n",
    "            loo = adaptive_is_loo(lr_model2, batch, params_, h, variational=False)\n",
    "            reduced_ndx_advi[n_samples][h] = {}\n",
    "            # print(f\"rho={h}\\n\")\n",
    "            for T in [\"I0\", \"I\", \"LL\", \"KL\", \"Var\", \"MM1\", \"MM2\"]:\n",
    "                loo_khat_advi[n_samples][h][T] = np.array(loo[T][\"khat\"])\n",
    "\n",
    "                records_advi += [\n",
    "                    {\n",
    "                        \"h\": h,\n",
    "                        \"T\": T,\n",
    "                        \"S\": n_samples,\n",
    "                        \"khat\": loo[T][\"khat\"],\n",
    "                        \"p_psis\": loo[T][\"p_psis\"].numpy(),\n",
    "                        \"n>0.7\": (np.where((loo[T][\"khat\"] > 0.7))[0]).shape,\n",
    "                        \"ndx\": loo[T][\"ndx\"]\n",
    "                    }\n",
    "                ]\n",
    "                reduced_ndx_advi[n_samples][h][T] = [loo[T][\"ndx\"][k] for k in np.where((loo[T][\"khat\"] <= 0.7))[0]]\n",
    "                # print(reduced_ndx[n_samples][h])\n",
    "\n",
    "\n",
    "print(reduced_ndx_advi)"
   ]
  },
  {
   "cell_type": "code",
   "execution_count": 35,
   "metadata": {},
   "outputs": [],
   "source": [
    "df_advi = pd.DataFrame(records_advi)\n",
    "df_advi['rho_rank'] = np.emath.logn(base, df_advi['h']) \n",
    "\n",
    "I0_advi = df_advi.loc[(df_advi['S']==n_sample[-1]) & (df_advi['T']==\"I0\")]\n",
    "\n",
    "kl_advi = df_advi.loc[(df_advi['S']==n_sample[-1]) & (df_advi['T']==\"KL\")]\n",
    "var_advi = df_advi.loc[(df_advi['S']==n_sample[-1]) & (df_advi['T']==\"Var\")]\n",
    "ll_advi = df_advi.loc[(df_advi['S']==n_sample[-1]) & (df_advi['T']==\"LL\")]\n",
    "mm1_advi = df_advi.loc[(df_advi['S']==n_sample[-1]) & (df_advi['T']==\"MM1\")]\n",
    "I_advi = df_advi.loc[(df_advi['S']==n_sample[-1]) & (df_advi['T']==\"I\")]\n",
    "\n",
    "kl_advi = kl_advi.explode(['khat', 'ndx'])\n",
    "var_advi = var_advi.explode(['khat', 'ndx'])\n",
    "ll_advi = ll_advi.explode(['khat', 'ndx'])\n",
    "I_advi = I_advi.explode(['khat', 'ndx'])\n",
    "mm1_advi = mm1_advi.explode(['khat', 'ndx'])\n",
    "\n",
    "original_advi = I_advi[['khat', 'ndx']].drop_duplicates()\n"
   ]
  },
  {
   "cell_type": "code",
   "execution_count": 36,
   "metadata": {},
   "outputs": [],
   "source": [
    "df_advi_ = df_advi.explode(['khat', \"p_psis\", 'ndx'])[['ndx', 'p_psis', 'khat', 'T']]\n",
    "#df_ = df_[df_['p_psis']!=1]\n",
    "#df_ = df_[df_['p_psis']>1e-5]\n",
    "df_advi_ = df_advi_[df_advi_['T']!=\"MM2\"]\n",
    "\n",
    "df_advi_ = df_advi_.groupby(['ndx'])[['khat', 'p_psis']].min()\n",
    "\n",
    "pd.set_option('display.max_rows', 500)\n",
    "\n",
    "df_advi_ = df_advi_.reset_index()\n",
    "df_advi_['y'] = [y_.tolist()[i][0] for i in df_advi_['ndx'].values]"
   ]
  },
  {
   "cell_type": "code",
   "execution_count": 37,
   "metadata": {},
   "outputs": [],
   "source": [
    "fpr_advi, tpr_advi, thresholds_advi = metrics.roc_curve(df_advi_['y'], df_advi_.p_psis, pos_label=1)\n",
    "precision_advi, recall_advi, thresholds_pr_advi = metrics.precision_recall_curve(df_advi_['y'], df_advi_.p_psis)"
   ]
  },
  {
   "cell_type": "code",
   "execution_count": 38,
   "metadata": {},
   "outputs": [
    {
     "data": {
      "image/png": "[encoded data removed]",
      "text/plain": [
       "<Figure size 900x200 with 2 Axes>"
      ]
     },
     "metadata": {},
     "output_type": "display_data"
    }
   ],
   "source": [
    "fig, ax = plt.subplots(1, 2, figsize=(9, 2))\n",
    "ax[0].plot(fpr, tpr, linewidth=3, color=\"blue\")\n",
    "ax[0].text(0.5, 0.25, f\"MCMC-AUROC: {metrics.auc(fpr, tpr):.3f}\", color=\"blue\")\n",
    "\n",
    "ax[0].plot(fpr_advi, tpr_advi, color=\"red\")\n",
    "ax[0].text(0.5, 0.1, f\"ADVI-AUROC: {metrics.auc(fpr_advi, tpr_advi):.3f}\", color=\"red\")\n",
    "\n",
    "ax[0].set_xlim((0, 1))\n",
    "ax[0].set_ylim((0, 1))\n",
    "ax[0].set_title(\"ROC\")\n",
    "\n",
    "ax[1].plot(recall, precision, linewidth=3, color=\"blue\")\n",
    "ax[1].plot(recall_advi, precision_advi, color=\"red\")\n",
    "ax[1].text(0.5, 0.8, f\"MCMC-AUPRC: {metrics.auc(recall, precision):.3f}\", color=\"blue\")\n",
    "ax[1].text(0.5, 0.65, f\"ADVI-AUPRC: {metrics.auc(recall_advi, precision_advi):.3f}\", color=\"red\")\n",
    "ax[1].set_title(\"Precision-Recall\")\n",
    "ax[1].set_xlim((0, 1))\n",
    "ax[1].set_ylim((0, 1))\n",
    "\n",
    "_ = plt.savefig(\"roccurve.pdf\", bbox_inches='tight')"
   ]
  },
  {
   "cell_type": "code",
   "execution_count": 39,
   "metadata": {},
   "outputs": [
    {
     "ename": "",
     "evalue": "",
     "output_type": "error",
     "traceback": [
      "\u001b[1;31mThe Kernel crashed while executing code in the current cell or a previous cell. \n",
      "\u001b[1;31mPlease review the code in the cell(s) to identify a possible cause of the failure. \n",
      "\u001b[1;31mClick <a href='https://aka.ms/vscodeJupyterKernelCrash'>here</a> for more info. \n",
      "\u001b[1;31mView Jupyter <a href='command:jupyter.viewOutput'>log</a> for further details."
     ]
    }
   ],
   "source": [
    "def powerset(iterable):\n",
    "    \"powerset([1,2,3]) --> () (1,) (2,) (3,) (1,2) (1,3) (2,3) (1,2,3)\"\n",
    "    s = list(iterable)  # allows duplicate elements\n",
    "    return chain.from_iterable(combinations(s, r) for r in range(len(s)+1))"
   ]
  },
  {
   "cell_type": "code",
   "execution_count": null,
   "metadata": {},
   "outputs": [
    {
     "name": "stderr",
     "output_type": "stream",
     "text": [
      " 60%|██████    | 6/10 [18:43<12:16, 184.06s/it]"
     ]
    }
   ],
   "source": [
    "base = 4\n",
    "h_vals = [base**-r for r in range(11)]\n",
    "\n",
    "loo_output = []\n",
    "success = []\n",
    "\n",
    "for _ in tqdm(range(10)):\n",
    "    loo_khat = {}\n",
    "    reduced_ndx = {}\n",
    "    high_khat_ndx = {}\n",
    "    n_sample = [1000]\n",
    "    records = []\n",
    "    for n_samples in n_sample:\n",
    "        sample_ndx = np.random.choice(\n",
    "            range(fit.stan_variables()[\"beta0\"].shape[0]), size=n_samples, replace=False\n",
    "        )\n",
    "        reduced_ndx[n_samples] = {}\n",
    "        high_khat_ndx[n_samples] = {}\n",
    "        # print(f\"Samples: {n_samples}\")\n",
    "        loo_khat[n_samples] = {}\n",
    "        params_ = fit.stan_variables()\n",
    "        params_ = {k: v[sample_ndx] for k, v in params_.items()}\n",
    "\n",
    "        params_[\"c\"] = params_[\"c\"][:, tf.newaxis]\n",
    "        params_[\"tau\"] = params_[\"tau\"][:, tf.newaxis]\n",
    "        params_[\"caux\"] = params_[\"caux\"][:, tf.newaxis]\n",
    "        params_[\"beta0\"] = params_[\"beta0\"][:, tf.newaxis]\n",
    "\n",
    "        for h in h_vals:\n",
    "            loo_khat[n_samples][h] = {}\n",
    "            loo = adaptive_is_loo(lr_model, batch, params_, h, variational=False)\n",
    "            reduced_ndx[n_samples][h] = {}\n",
    "            # print(f\"rho={h}\\n\")\n",
    "            for T in [\"I0\", \"I\", \"LL\", \"KL\", \"Var\", \"MM1\", \"MM2\"]:\n",
    "                loo_khat[n_samples][h][T] = np.array(loo[T][\"khat\"])\n",
    "\n",
    "                records += [\n",
    "                    {\n",
    "                        \"h\": h,\n",
    "                        \"T\": T,\n",
    "                        \"S\": n_samples,\n",
    "                        \"khat\": loo[T][\"khat\"],\n",
    "                        \"p_psis\": loo[T][\"p_psis\"].numpy(),\n",
    "                        \"n>0.7\": (np.where((loo[T][\"khat\"] > 0.7))[0]).shape,\n",
    "                        \"ndx\": loo[T][\"ndx\"],\n",
    "                    }\n",
    "                ]\n",
    "                reduced_ndx[n_samples][h][T] = [\n",
    "                    loo[T][\"ndx\"][k] for k in np.where((loo[T][\"khat\"] <= 0.7))[0]\n",
    "                ]\n",
    "                # print(reduced_ndx[n_samples][h])\n",
    "\n",
    "    df = pd.DataFrame(records)\n",
    "    df[\"rho_rank\"] = np.emath.logn(base, df[\"h\"])\n",
    "    __df__ = df.explode([\"khat\", \"ndx\"])[[\"ndx\", \"khat\", \"T\"]]\n",
    "\n",
    "    counts = {}\n",
    "    counts[\"n\"] = len(__df__[__df__[\"T\"] != \"I0\"].ndx.unique())\n",
    "    for T in transforms:\n",
    "        ___df__ = __df__.loc[(__df__[\"T\"] == T) & (__df__[\"khat\"] < 0.7)]\n",
    "        counts[T] = ___df__.groupby(\"ndx\").min().shape[0]\n",
    "    ___df__ = __df__.loc[\n",
    "        ((__df__[\"T\"] == \"KL\") | (__df__[\"T\"] == \"Var\")) & (__df__[\"khat\"] < 0.7)\n",
    "    ]\n",
    "    counts[(\"KL\", \"Var\")] = ___df__.groupby(\"ndx\").min().shape[0]\n",
    "    ___df__ = __df__.loc[\n",
    "        ((__df__[\"T\"] == \"MM1\") | (__df__[\"T\"] == \"MM2\") | (__df__[\"T\"] == \"LL\"))\n",
    "        & (__df__[\"khat\"] < 0.7)\n",
    "    ]\n",
    "    counts[(\"LL\", \"MM1\", \"MM2\")] = ___df__.groupby(\"ndx\").min().shape[0]\n",
    "    ___df__ = __df__.loc[\n",
    "        ((__df__[\"T\"] == \"MM1\") | (__df__[\"T\"] == \"MM2\") | (__df__[\"T\"] == \"LL\") | (__df__[\"T\"] == \"KL\") | (__df__[\"T\"] == \"Var\"))\n",
    "        & (__df__[\"khat\"] < 0.7)\n",
    "    ]\n",
    "    counts[(\"KL\", \"Var\", \"LL\", \"MM1\", \"MM2\")] = ___df__.groupby(\"ndx\").min().shape[0]\n",
    "    success += [counts]"
   ]
  },
  {
   "cell_type": "code",
   "execution_count": 41,
   "metadata": {},
   "outputs": [],
   "source": [
    "success = pd.DataFrame(success)\n",
    "#success.to_csv(\"success.csv\")"
   ]
  },
  {
   "cell_type": "code",
   "execution_count": null,
   "metadata": {},
   "outputs": [],
   "source": [
    "success_ = success.copy()\n",
    "success_.iloc[:, 1:] = -success_.iloc[:, 1:].sub(success_.iloc[:, 0], axis=1)\n"
   ]
  },
  {
   "cell_type": "code",
   "execution_count": null,
   "metadata": {},
   "outputs": [],
   "source": [
    "success.agg(['mean','std'])"
   ]
  },
  {
   "cell_type": "code",
   "execution_count": null,
   "metadata": {},
   "outputs": [],
   "source": [
    "(-success.iloc[:, 1:].sub(success.iloc[:, 0], axis=0)).agg(['mean','std'])"
   ]
  },
  {
   "cell_type": "code",
   "execution_count": null,
   "metadata": {},
   "outputs": [],
   "source": [
    "df.columns"
   ]
  },
  {
   "cell_type": "code",
   "execution_count": 46,
   "metadata": {},
   "outputs": [],
   "source": [
    "_df = df.explode(['khat','ndx'])[['rho_rank', 'T', 'ndx', 'khat']]\n",
    "_df['rho_rank'] *= -1"
   ]
  },
  {
   "cell_type": "code",
   "execution_count": 47,
   "metadata": {},
   "outputs": [],
   "source": [
    "base_khat = _df[_df['T']==\"I\"][['ndx', 'khat']].drop_duplicates().to_dict(orient='records')\n",
    "base_khat = {r['ndx']: r['khat'] for r in base_khat}\n"
   ]
  },
  {
   "cell_type": "code",
   "execution_count": null,
   "metadata": {},
   "outputs": [],
   "source": [
    "_df"
   ]
  },
  {
   "cell_type": "code",
   "execution_count": null,
   "metadata": {},
   "outputs": [],
   "source": [
    "_df = _df[(_df[\"T\"]!=\"I\") & (_df[\"T\"]!=\"I0\")]\n",
    "_df[r'$\\log(\\hat{k}/\\hat{k}_0)$'] = _df.apply(lambda x: x.khat/base_khat[x.ndx], axis=1)\n",
    "_df[r'$log_4(\\rho)$'] = _df['rho_rank']"
   ]
  },
  {
   "cell_type": "code",
   "execution_count": 50,
   "metadata": {},
   "outputs": [],
   "source": [
    "_df = _df[_df[r'$\\log(\\hat{k}/\\hat{k}_0)$']<4]"
   ]
  },
  {
   "cell_type": "code",
   "execution_count": null,
   "metadata": {},
   "outputs": [],
   "source": [
    "from plotnine import ggplot, geom_line, geom_point, aes, stat_smooth, facet_wrap, theme, ylim\n",
    "from plotnine.data import mtcars\n",
    "\n",
    "\n",
    "plot = (\n",
    "    ggplot(_df, aes(r'$log_4(\\rho)$', r'$\\log(\\hat{k}/\\hat{k}_0)$', color=\"T\"))\n",
    "    + geom_line()\n",
    "    + facet_wrap(\"ndx\")\n",
    "    + theme(figure_size=(20, 12)) + ylim((-1, 2))\n",
    "    \n",
    ")\n",
    "plot.show()\n",
    "#plot.save(\"rho_rank.pdf\")"
   ]
  },
  {
   "cell_type": "code",
   "execution_count": null,
   "metadata": {},
   "outputs": [],
   "source": [
    "_df"
   ]
  }
 ],
 "metadata": {
  "kernelspec": {
   "display_name": "env",
   "language": "python",
   "name": "python3"
  },
  "language_info": {
   "codemirror_mode": {
    "name": "ipython",
    "version": 3
   },
   "file_extension": ".py",
   "mimetype": "text/x-python",
   "name": "python",
   "nbconvert_exporter": "python",
   "pygments_lexer": "ipython3",
   "version": "3.10.12"
  }
 },
 "nbformat": 4,
 "nbformat_minor": 2
}
