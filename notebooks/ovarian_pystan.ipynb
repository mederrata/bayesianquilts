{
 "cells": [
  {
   "cell_type": "code",
   "execution_count": 1,
   "metadata": {},
   "outputs": [],
   "source": [
    "\n",
    "%matplotlib inline\n",
    "from itertools import chain\n",
    "import matplotlib\n",
    "from matplotlib import pyplot as plt\n",
    "matplotlib.rcParams['pdf.fonttype'] = 42\n",
    "matplotlib.rcParams['ps.fonttype'] = 42\n",
    "matplotlib.rcParams['text.usetex'] = True\n",
    "from abc import ABC\n",
    "from cmdstanpy import CmdStanModel\n",
    "import numpy as np\n",
    "import pandas as pd\n",
    "from pathlib import Path\n",
    "from tqdm import tqdm\n",
    "import nest_asyncio\n",
    "nest_asyncio.apply()\n",
    "from collections import defaultdict\n",
    "from typing import Any\n",
    "\n",
    "from matplotlib import pyplot as plt\n"
   ]
  },
  {
   "cell_type": "code",
   "execution_count": 2,
   "metadata": {},
   "outputs": [
    {
     "name": "stderr",
     "output_type": "stream",
     "text": [
      "2024-10-09 05:18:53.505239: I external/local_tsl/tsl/cuda/cudart_stub.cc:31] Could not find cuda drivers on your machine, GPU will not be used.\n",
      "2024-10-09 05:18:53.628121: E external/local_xla/xla/stream_executor/cuda/cuda_dnn.cc:9261] Unable to register cuDNN factory: Attempting to register factory for plugin cuDNN when one has already been registered\n",
      "2024-10-09 05:18:53.628184: E external/local_xla/xla/stream_executor/cuda/cuda_fft.cc:607] Unable to register cuFFT factory: Attempting to register factory for plugin cuFFT when one has already been registered\n",
      "2024-10-09 05:18:53.651577: E external/local_xla/xla/stream_executor/cuda/cuda_blas.cc:1515] Unable to register cuBLAS factory: Attempting to register factory for plugin cuBLAS when one has already been registered\n",
      "2024-10-09 05:18:53.701379: I external/local_tsl/tsl/cuda/cudart_stub.cc:31] Could not find cuda drivers on your machine, GPU will not be used.\n",
      "2024-10-09 05:18:53.702272: I tensorflow/core/platform/cpu_feature_guard.cc:182] This TensorFlow binary is optimized to use available CPU instructions in performance-critical operations.\n",
      "To enable the following instructions: AVX2 FMA, in other operations, rebuild TensorFlow with the appropriate compiler flags.\n",
      "2024-10-09 05:18:54.428364: W tensorflow/compiler/tf2tensorrt/utils/py_utils.cc:38] TF-TRT Warning: Could not find TensorRT\n"
     ]
    }
   ],
   "source": [
    "\n",
    "import tensorflow as tf\n",
    "import tensorflow_probability as tfp\n",
    "import tensorflow_probability.python.bijectors as tfb\n",
    "\n",
    "# pip install github:https://github.com/mederrata/bayesianquilts\n",
    "from bayesianquilts.models.logistic_regression_reparam import LogisticRegression2\n",
    "from bayesianquilts.metrics.classification import classification_metrics\n",
    "from bayesianquilts.sampler import psis, nppsis"
   ]
  },
  {
   "cell_type": "code",
   "execution_count": 3,
   "metadata": {},
   "outputs": [
    {
     "name": "stdout",
     "output_type": "stream",
     "text": [
      "(54, 1536)\n"
     ]
    }
   ],
   "source": [
    "\n",
    "X_ = pd.read_csv(Path.home() / \"workspace\" / \"bayesianquilts\"/ \"bayesianquilts\"/ \"data\" / \"overianx.csv\", header=None)\n",
    "y_ = pd.read_table(Path.home() / \"workspace\" / \"bayesianquilts\"/ \"bayesianquilts\"/ \"data\" / \"overiany.csv\", header=None)\n",
    "\n",
    "\n",
    "X_scaled = (X_ - X_.mean())/X_.std()\n",
    "X_scaled = X_scaled.fillna(0).to_numpy()\n",
    "y_ = y_.to_numpy()\n",
    "N = X_scaled.shape[0]\n",
    "d = X_scaled.shape[1]\n",
    "\n",
    "print((N, d))"
   ]
  },
  {
   "cell_type": "code",
   "execution_count": 4,
   "metadata": {},
   "outputs": [],
   "source": [
    "logistic_horseshoe_code = \"\"\"\n",
    "data {\n",
    "  int <lower=0> N;                // number  of  observations\n",
    "  int <lower=0> d;                // number  of  predictors\n",
    "  array[N] int<lower=0,upper=1> y;      // outputs\n",
    "  matrix[N,d] x;                  // inputs\n",
    "  real <lower=0>  scale_icept;    // prior  std for  the  intercept\n",
    "  real <lower=0>  scale_global;   // scale  for  the half -t prior  for  tau\n",
    "  real <lower=1>  nu_global;      // degrees  of  freedom  for the half -t prior for tau\n",
    "  real <lower=1> nu_local;        // degrees  of  freedom  for  the half -t priors for  lambdas\n",
    "  real <lower=0>  slab_scale;     // slab  scale  for  the  regularized  horseshoe\n",
    "  real <lower=0> slab_df;         // slab  degrees  of  freedom  for the  regularized horseshoe\n",
    "\n",
    "  //int<lower=0> N_tilde;\n",
    "  //matrix[N_tilde, d] x_tilde;\n",
    "  //array[N_tilde] int<lower=0,upper=1> y_obs;\n",
    "}\n",
    "parameters {\n",
    "  real  beta0;\n",
    "  vector[d] z;\n",
    "  real <lower=0> tau;             // global  shrinkage  parameter\n",
    "  vector <lower =0>[d] lambda;    // local  shrinkage  parameter\n",
    "  real <lower=0> caux;\n",
    "}\n",
    "transformed  parameters {\n",
    "  vector <lower =0>[d] lambda_tilde;    // ’truncated ’ local  shrinkage  parameter\n",
    "  real <lower=0> c;                     // slab  scale\n",
    "  vector[d] beta;                       // regression  coefficients\n",
    "  vector[N] f;                          // latent  function  values\n",
    "  c = slab_scale * sqrt(caux);\n",
    "  lambda_tilde = sqrt( c^2 * square(lambda) ./ (c^2 + tau^2* square(lambda )) );\n",
    "  beta = z .*  lambda_tilde*tau;\n",
    "  f = beta0 + x*beta;\n",
    "}\n",
    "model {\n",
    "  z ~ normal(0.0, 1.0); // half -t priors  for  lambdas  and tau , and  inverse -gamma  for c^2\n",
    "  lambda ~ student_t(nu_local , 0.0, 1.0);\n",
    "  tau ~ student_t(nu_global , 0.0, scale_global);\n",
    "  caux ~ inv_gamma (0.5* slab_df , 0.5* slab_df );\n",
    "  beta0 ~ normal(0.0,  scale_icept );\n",
    "  y ~ bernoulli_logit(f);\n",
    "}\n",
    "generated quantities {\n",
    "  vector[N] log_lik;\n",
    "  // vector[N_tilde] loo_log_lik;\n",
    "\n",
    "  for (nn in 1:N)\n",
    "    log_lik[nn] = bernoulli_logit_lpmf(y[nn] | x[nn] * beta + beta0);\n",
    "\n",
    "  //for (nn in 1:N_tilde)\n",
    "  //  loo_log_lik[nn] = bernoulli_logit_lpmf(y_obs[nn] | x_tilde[nn] * beta + beta0);\n",
    "}\n",
    "\"\"\"\n",
    "\n",
    "with open(\"ovarian_model.stan\", 'w') as f:\n",
    "  f.writelines(logistic_horseshoe_code)\n"
   ]
  },
  {
   "cell_type": "code",
   "execution_count": 5,
   "metadata": {},
   "outputs": [
    {
     "name": "stderr",
     "output_type": "stream",
     "text": [
      "05:18:56 - cmdstanpy - INFO - compiling stan file /home/josh/workspace/bayesianquilts/ovarian_model.stan to exe file /home/josh/workspace/bayesianquilts/ovarian_model\n",
      "05:19:13 - cmdstanpy - INFO - compiled model executable: /home/josh/workspace/bayesianquilts/ovarian_model\n"
     ]
    }
   ],
   "source": [
    "sm = CmdStanModel(stan_file=\"ovarian_model.stan\")"
   ]
  },
  {
   "cell_type": "code",
   "execution_count": 6,
   "metadata": {},
   "outputs": [],
   "source": [
    "guessnumrelevcov = N / 10  # 20.\n",
    "slab_scale = 2.5\n",
    "scale_icept = 5.0\n",
    "nu_global = 1\n",
    "nu_local = 1\n",
    "slab_df = 1\n",
    "scale_global = guessnumrelevcov / ((d - guessnumrelevcov) * np.sqrt(N))\n",
    "\n",
    "control = {\"adapt_delta\": 0.9999, \"max_treedepth\": 15}\n",
    "\n",
    "# shuffle\n",
    "\n",
    "# shuffled_ndx = np.random.shuffle(np.arange(N))\n",
    "\n",
    "ovarian_data = {\n",
    "    \"N\": N,\n",
    "    \"d\": d,\n",
    "    \"slab_df\": slab_df,\n",
    "    \"slab_scale\": slab_scale,\n",
    "    \"scale_icept\": scale_icept,\n",
    "    \"nu_global\": 1,\n",
    "    \"nu_local\": 1,\n",
    "    \"scale_global\": scale_global,\n",
    "    \"y\": y_.astype(int)[:, 0].tolist(),\n",
    "    \"x\": X_scaled.tolist(),\n",
    "}\n",
    "\n",
    "import json\n",
    "\n",
    "with open(\"ovarian_data.json\", \"w\") as f:\n",
    "    json.dump(ovarian_data, f)"
   ]
  },
  {
   "cell_type": "code",
   "execution_count": 7,
   "metadata": {},
   "outputs": [
    {
     "name": "stdout",
     "output_type": "stream",
     "text": [
      "1536\n"
     ]
    }
   ],
   "source": [
    "print(d)"
   ]
  },
  {
   "cell_type": "code",
   "execution_count": 8,
   "metadata": {},
   "outputs": [
    {
     "name": "stderr",
     "output_type": "stream",
     "text": [
      "05:19:13 - cmdstanpy - INFO - CmdStan start processing\n"
     ]
    },
    {
     "data": {
      "application/vnd.jupyter.widget-view+json": {
       "model_id": "31ecba636cd64e91b785eceb43928258",
       "version_major": 2,
       "version_minor": 0
      },
      "text/plain": [
       "chain 1 |          | 00:00 Status"
      ]
     },
     "metadata": {},
     "output_type": "display_data"
    },
    {
     "data": {
      "application/vnd.jupyter.widget-view+json": {
       "model_id": "a2488f122cbe4b50a03727bbff5b1cad",
       "version_major": 2,
       "version_minor": 0
      },
      "text/plain": [
       "chain 2 |          | 00:00 Status"
      ]
     },
     "metadata": {},
     "output_type": "display_data"
    },
    {
     "data": {
      "application/vnd.jupyter.widget-view+json": {
       "model_id": "ea08eb90f711438aa6e05faa245d2f95",
       "version_major": 2,
       "version_minor": 0
      },
      "text/plain": [
       "chain 3 |          | 00:00 Status"
      ]
     },
     "metadata": {},
     "output_type": "display_data"
    },
    {
     "data": {
      "application/vnd.jupyter.widget-view+json": {
       "model_id": "19ba0a854db6487b8b2f094aa4d84316",
       "version_major": 2,
       "version_minor": 0
      },
      "text/plain": [
       "chain 4 |          | 00:00 Status"
      ]
     },
     "metadata": {},
     "output_type": "display_data"
    },
    {
     "name": "stdout",
     "output_type": "stream",
     "text": [
      "                                                                                                                                                                                                                                                                                                                                "
     ]
    },
    {
     "name": "stderr",
     "output_type": "stream",
     "text": [
      "05:43:52 - cmdstanpy - INFO - CmdStan done processing.\n",
      "05:43:52 - cmdstanpy - WARNING - Non-fatal error during sampling:\n",
      "Exception: ovarian_model_model_namespace::log_prob: lambda_tilde[137] is -nan, but must be greater than or equal to 0.000000 (in 'ovarian_model.stan', line 26, column 2 to column 36)\n",
      "Exception: ovarian_model_model_namespace::log_prob: lambda_tilde[93] is -nan, but must be greater than or equal to 0.000000 (in 'ovarian_model.stan', line 26, column 2 to column 36)\n",
      "Consider re-running with show_console=True if the above output is unclear!\n"
     ]
    },
    {
     "name": "stdout",
     "output_type": "stream",
     "text": [
      "\n"
     ]
    },
    {
     "name": "stderr",
     "output_type": "stream",
     "text": [
      "05:43:53 - cmdstanpy - WARNING - Some chains may have failed to converge.\n",
      "\tChain 3 had 1 divergent transitions (0.1%)\n",
      "\tUse the \"diagnose()\" method on the CmdStanMCMC object to see further information.\n"
     ]
    }
   ],
   "source": [
    "S = 1800\n",
    "fit = sm.sample(\n",
    "    data=\"ovarian_data.json\",\n",
    "    iter_warmup=15000,\n",
    "    iter_sampling=S,\n",
    "    thin=2,\n",
    "    **control\n",
    ")"
   ]
  },
  {
   "cell_type": "code",
   "execution_count": 9,
   "metadata": {},
   "outputs": [
    {
     "name": "stdout",
     "output_type": "stream",
     "text": [
      "CmdStanMCMC: model=ovarian_model chains=4['method=sample', 'num_samples=1500', 'num_warmup=15000', 'thin=2', 'algorithm=hmc', 'engine=nuts', 'max_depth=15', 'adapt', 'engaged=1', 'delta=0.9995']\n",
      " csv_files:\n",
      "\t/tmp/tmpbt2atxq1/ovarian_modelv159bofb/ovarian_model-20241009051913_1.csv\n",
      "\t/tmp/tmpbt2atxq1/ovarian_modelv159bofb/ovarian_model-20241009051913_2.csv\n",
      "\t/tmp/tmpbt2atxq1/ovarian_modelv159bofb/ovarian_model-20241009051913_3.csv\n",
      "\t/tmp/tmpbt2atxq1/ovarian_modelv159bofb/ovarian_model-20241009051913_4.csv\n",
      " output_files:\n",
      "\t/tmp/tmpbt2atxq1/ovarian_modelv159bofb/ovarian_model-20241009051913_0-stdout.txt\n",
      "\t/tmp/tmpbt2atxq1/ovarian_modelv159bofb/ovarian_model-20241009051913_1-stdout.txt\n",
      "\t/tmp/tmpbt2atxq1/ovarian_modelv159bofb/ovarian_model-20241009051913_2-stdout.txt\n",
      "\t/tmp/tmpbt2atxq1/ovarian_modelv159bofb/ovarian_model-20241009051913_3-stdout.txt\n"
     ]
    }
   ],
   "source": [
    "print(fit)"
   ]
  },
  {
   "cell_type": "code",
   "execution_count": 10,
   "metadata": {},
   "outputs": [
    {
     "name": "stdout",
     "output_type": "stream",
     "text": [
      "Processing csv files: /tmp/tmpbt2atxq1/ovarian_modelv159bofb/ovarian_model-20241009051913_1.csv, /tmp/tmpbt2atxq1/ovarian_modelv159bofb/ovarian_model-20241009051913_2.csv, /tmp/tmpbt2atxq1/ovarian_modelv159bofb/ovarian_model-20241009051913_3.csv, /tmp/tmpbt2atxq1/ovarian_modelv159bofb/ovarian_model-20241009051913_4.csv\n",
      "\n",
      "Checking sampler transitions treedepth.\n",
      "Treedepth satisfactory for all transitions.\n",
      "\n",
      "Checking sampler transitions for divergences.\n",
      "1 of 3000 (0.03%) transitions ended with a divergence.\n",
      "These divergent transitions indicate that HMC is not fully able to explore the posterior distribution.\n",
      "Try increasing adapt delta closer to 1.\n",
      "If this doesn't remove all divergences, try to reparameterize the model.\n",
      "\n",
      "Checking E-BFMI - sampler transitions HMC potential energy.\n",
      "E-BFMI satisfactory.\n",
      "\n",
      "Effective sample size satisfactory.\n",
      "\n",
      "Split R-hat values satisfactory all parameters.\n",
      "\n",
      "Processing complete.\n",
      "\n"
     ]
    }
   ],
   "source": [
    "print(fit.diagnose())"
   ]
  },
  {
   "cell_type": "code",
   "execution_count": 11,
   "metadata": {},
   "outputs": [],
   "source": [
    "params = fit.stan_variables()\n",
    "params.keys()\n",
    "params['c'] = params['c'][:, tf.newaxis]\n",
    "params['tau'] = params['tau'][:, tf.newaxis]\n",
    "params['caux'] = params['caux'][:, tf.newaxis]\n",
    "params['beta0'] = params['beta0'][:, tf.newaxis]\n"
   ]
  },
  {
   "cell_type": "code",
   "execution_count": 12,
   "metadata": {},
   "outputs": [
    {
     "data": {
      "text/plain": [
       "TensorShape([3000, 1536])"
      ]
     },
     "execution_count": 12,
     "metadata": {},
     "output_type": "execute_result"
    }
   ],
   "source": [
    "\n",
    "c = slab_scale * tf.math.sqrt(params[\"caux\"])\n",
    "lambda_tilde = tf.math.sqrt(\n",
    "    c**2\n",
    "    * params[\"lambda\"] ** 2\n",
    "    / (c**2 + params[\"tau\"] ** 2 * params[\"lambda\"] ** 2)\n",
    ")\n",
    "beta_fitted = params[\"z\"] * lambda_tilde * params[\"tau\"]\n",
    "beta_fitted.shape"
   ]
  },
  {
   "cell_type": "code",
   "execution_count": 13,
   "metadata": {},
   "outputs": [
    {
     "data": {
      "image/png": "[encoded data removed]",
      "text/plain": [
       "<Figure size 800x100 with 2 Axes>"
      ]
     },
     "metadata": {},
     "output_type": "display_data"
    }
   ],
   "source": [
    "beta_fitted = np.mean(beta_fitted, axis=0, keepdims=True)\n",
    "fig, ax = plt.subplots(1, 1, figsize=(8, 1))\n",
    "im = ax.pcolormesh(beta_fitted, cmap='seismic_r', vmin=-0.2, vmax=0.2)\n",
    "_ = plt.ylabel(\"covariate\")\n",
    "\n",
    "plt.colorbar(im)\n",
    "plt.savefig(\"ovarian_mcmc_fit.pdf\", bbox_inches='tight')"
   ]
  },
  {
   "cell_type": "code",
   "execution_count": 14,
   "metadata": {},
   "outputs": [],
   "source": [
    "lr_model = LogisticRegression2(\n",
    "    dim_regressors=d,\n",
    "    slab_df=slab_df,\n",
    "    slab_scale=slab_scale,\n",
    "    scale_icept=scale_icept,\n",
    "    nu_global=1,\n",
    "    nu_local=1,\n",
    "    scale_global=scale_global,\n",
    ")"
   ]
  },
  {
   "cell_type": "code",
   "execution_count": 15,
   "metadata": {},
   "outputs": [],
   "source": [
    "tfdata = tf.data.Dataset.from_tensor_slices({'X': X_scaled, 'y':y_})\n",
    "batch_size = N\n",
    "def data_factory_factory(batch_size=batch_size, repeat=False, shuffle=False):\n",
    "    def data_factory(batch_size=batch_size):\n",
    "        if shuffle:\n",
    "            out = tfdata.shuffle(batch_size*10)\n",
    "        else:\n",
    "            out = tfdata\n",
    "        \n",
    "        if repeat:\n",
    "            out = out.repeat()\n",
    "        return out.batch(batch_size)\n",
    "    return data_factory\n",
    "\n",
    "batch = next(iter(data_factory_factory()()))"
   ]
  },
  {
   "cell_type": "code",
   "execution_count": 16,
   "metadata": {},
   "outputs": [
    {
     "name": "stderr",
     "output_type": "stream",
     "text": [
      "1it [00:00,  2.30it/s]\n"
     ]
    },
    {
     "data": {
      "text/plain": [
       "(0.0, 1.0)"
      ]
     },
     "execution_count": 16,
     "metadata": {},
     "output_type": "execute_result"
    },
    {
     "data": {
      "image/png": "[encoded data removed]",
      "text/plain": [
       "<Figure size 900x200 with 2 Axes>"
      ]
     },
     "metadata": {},
     "output_type": "display_data"
    }
   ],
   "source": [
    "def prediction_fn(data):\n",
    "    pred = lr_model.predictive_distribution(data, **params)[\"logits\"]\n",
    "    return tf.reduce_mean(pred, axis=0)\n",
    "\n",
    "bench = classification_metrics(\n",
    "    data_factory=data_factory_factory(),\n",
    "    prediction_fn=prediction_fn,\n",
    "    outcome_label='y',\n",
    "    by_vars=[]\n",
    ")\n",
    "\n",
    "fig, ax = plt.subplots(1, 2, figsize=(9, 2))\n",
    "ax[0].plot(bench['auroc']['fpr'], bench['auroc']['tpr'])\n",
    "ax[0].text(0.5, 0.1, f\"AUROC: {round(bench['auroc']['auroc'], 2)}\")\n",
    "ax[0].set_xlim((0, 1))\n",
    "ax[0].set_ylim((0, 1))\n",
    "ax[0].set_title(\"ROC\")\n",
    "\n",
    "ax[1].plot(bench['auprc']['recall'], bench['auprc']['precision'])\n",
    "ax[1].text(0.5, 0.8, f\"AUPRC: {round(bench['auprc']['auprc'], 2)}\")\n",
    "ax[1].set_title(\"Precision-Recall\")\n",
    "ax[1].set_xlim((0, 1))\n",
    "ax[1].set_ylim((0, 1))"
   ]
  },
  {
   "cell_type": "code",
   "execution_count": 54,
   "metadata": {},
   "outputs": [
    {
     "ename": "NameError",
     "evalue": "name 'log_pi' is not defined",
     "output_type": "error",
     "traceback": [
      "\u001b[0;31m---------------------------------------------------------------------------\u001b[0m",
      "\u001b[0;31mNameError\u001b[0m                                 Traceback (most recent call last)",
      "Cell \u001b[0;32mIn[54], line 471\u001b[0m\n\u001b[1;32m    467\u001b[0m     \u001b[38;5;28;01mreturn\u001b[39;00m {\u001b[38;5;241m*\u001b[39m\u001b[38;5;241m*\u001b[39mout, \u001b[38;5;124m\"\u001b[39m\u001b[38;5;124mndx_transformed\u001b[39m\u001b[38;5;124m\"\u001b[39m: ndx_to_transform}\n\u001b[1;32m    470\u001b[0m nparams \u001b[38;5;241m=\u001b[39m \u001b[38;5;241m64\u001b[39m\n\u001b[0;32m--> 471\u001b[0m loo \u001b[38;5;241m=\u001b[39m \u001b[43madaptive_is_loo\u001b[49m\u001b[43m(\u001b[49m\n\u001b[1;32m    472\u001b[0m \u001b[43m    \u001b[49m\u001b[43mlr_model\u001b[49m\u001b[43m,\u001b[49m\n\u001b[1;32m    473\u001b[0m \u001b[43m    \u001b[49m\u001b[43mbatch\u001b[49m\u001b[43m,\u001b[49m\n\u001b[1;32m    474\u001b[0m \u001b[43m    \u001b[49m\u001b[43m{\u001b[49m\u001b[43mk\u001b[49m\u001b[43m:\u001b[49m\u001b[43m \u001b[49m\u001b[43mv\u001b[49m\u001b[43m[\u001b[49m\u001b[43m:\u001b[49m\u001b[43mnparams\u001b[49m\u001b[43m,\u001b[49m\u001b[43m \u001b[49m\u001b[38;5;241;43m.\u001b[39;49m\u001b[38;5;241;43m.\u001b[39;49m\u001b[38;5;241;43m.\u001b[39;49m\u001b[43m]\u001b[49m\u001b[43m \u001b[49m\u001b[38;5;28;43;01mfor\u001b[39;49;00m\u001b[43m \u001b[49m\u001b[43mk\u001b[49m\u001b[43m,\u001b[49m\u001b[43m \u001b[49m\u001b[43mv\u001b[49m\u001b[43m \u001b[49m\u001b[38;5;129;43;01min\u001b[39;49;00m\u001b[43m \u001b[49m\u001b[43mparams\u001b[49m\u001b[38;5;241;43m.\u001b[39;49m\u001b[43mitems\u001b[49m\u001b[43m(\u001b[49m\u001b[43m)\u001b[49m\u001b[43m}\u001b[49m\u001b[43m,\u001b[49m\n\u001b[1;32m    475\u001b[0m \u001b[43m    \u001b[49m\u001b[38;5;241;43m1e-5\u001b[39;49m\u001b[43m,\u001b[49m\n\u001b[1;32m    476\u001b[0m \u001b[43m    \u001b[49m\u001b[43mvariational\u001b[49m\u001b[38;5;241;43m=\u001b[39;49m\u001b[38;5;28;43;01mFalse\u001b[39;49;00m\u001b[43m,\u001b[49m\n\u001b[1;32m    477\u001b[0m \u001b[43m)\u001b[49m\n\u001b[1;32m    479\u001b[0m \u001b[38;5;66;03m# loo = adaptive_is_loo(lr_model, test_batch, param_test, 0.01, variational=False)\u001b[39;00m\n\u001b[1;32m    482\u001b[0m \u001b[38;5;28;01mfor\u001b[39;00m T \u001b[38;5;129;01min\u001b[39;00m [\u001b[38;5;124m\"\u001b[39m\u001b[38;5;124mI\u001b[39m\u001b[38;5;124m\"\u001b[39m, \u001b[38;5;124m\"\u001b[39m\u001b[38;5;124mLL\u001b[39m\u001b[38;5;124m\"\u001b[39m, \u001b[38;5;124m\"\u001b[39m\u001b[38;5;124mKL\u001b[39m\u001b[38;5;124m\"\u001b[39m, \u001b[38;5;124m\"\u001b[39m\u001b[38;5;124mVar\u001b[39m\u001b[38;5;124m\"\u001b[39m, \u001b[38;5;124m\"\u001b[39m\u001b[38;5;124mMM\u001b[39m\u001b[38;5;124m\"\u001b[39m]:\n",
      "Cell \u001b[0;32mIn[54], line 450\u001b[0m, in \u001b[0;36madaptive_is_loo\u001b[0;34m(self, data, params, hbar, variational)\u001b[0m\n\u001b[1;32m    437\u001b[0m y_ \u001b[38;5;241m=\u001b[39m tf\u001b[38;5;241m.\u001b[39mgather(_y, ndx_to_transform)\n\u001b[1;32m    438\u001b[0m \u001b[38;5;28;01mfor\u001b[39;00m lab, fun \u001b[38;5;129;01min\u001b[39;00m transforms\u001b[38;5;241m.\u001b[39mitems():\n\u001b[1;32m    439\u001b[0m     (\n\u001b[1;32m    440\u001b[0m         eta_,\n\u001b[1;32m    441\u001b[0m         eta_psis_,\n\u001b[1;32m    442\u001b[0m         p_loo_,\n\u001b[1;32m    443\u001b[0m         p_loo_sd_,\n\u001b[1;32m    444\u001b[0m         ll_loo_,\n\u001b[1;32m    445\u001b[0m         ll_loo_s_d,\n\u001b[1;32m    446\u001b[0m         S_,\n\u001b[1;32m    447\u001b[0m         k_,\n\u001b[1;32m    448\u001b[0m         p_psis_,\n\u001b[1;32m    449\u001b[0m         ll_psis_,\n\u001b[0;32m--> 450\u001b[0m     ) \u001b[38;5;241m=\u001b[39m \u001b[43mIS\u001b[49m\u001b[43m(\u001b[49m\u001b[43mfun\u001b[49m\u001b[43m,\u001b[49m\u001b[43m \u001b[49m\u001b[43mX_\u001b[49m\u001b[43m,\u001b[49m\u001b[43m \u001b[49m\u001b[43my_\u001b[49m\u001b[43m)\u001b[49m\n\u001b[1;32m    452\u001b[0m     out \u001b[38;5;241m=\u001b[39m {\n\u001b[1;32m    453\u001b[0m         \u001b[38;5;241m*\u001b[39m\u001b[38;5;241m*\u001b[39mout,\n\u001b[1;32m    454\u001b[0m         lab: {\n\u001b[0;32m   (...)\u001b[0m\n\u001b[1;32m    464\u001b[0m         },\n\u001b[1;32m    465\u001b[0m     }\n\u001b[1;32m    467\u001b[0m \u001b[38;5;28;01mreturn\u001b[39;00m {\u001b[38;5;241m*\u001b[39m\u001b[38;5;241m*\u001b[39mout, \u001b[38;5;124m\"\u001b[39m\u001b[38;5;124mndx_transformed\u001b[39m\u001b[38;5;124m\"\u001b[39m: ndx_to_transform}\n",
      "Cell \u001b[0;32mIn[54], line 319\u001b[0m, in \u001b[0;36madaptive_is_loo.<locals>.IS\u001b[0;34m(T, X, y)\u001b[0m\n\u001b[1;32m    313\u001b[0m     grad_log_prior \u001b[38;5;241m=\u001b[39m \u001b[38;5;241m-\u001b[39m\u001b[38;5;241m0.5\u001b[39m \u001b[38;5;241m*\u001b[39m tf\u001b[38;5;241m.\u001b[39mconcat(\n\u001b[1;32m    314\u001b[0m         [(params[\u001b[38;5;124m\"\u001b[39m\u001b[38;5;124mbeta0\u001b[39m\u001b[38;5;124m\"\u001b[39m] \u001b[38;5;241m/\u001b[39m \u001b[38;5;28mself\u001b[39m\u001b[38;5;241m.\u001b[39mscale_icept) \u001b[38;5;241m*\u001b[39m\u001b[38;5;241m*\u001b[39m \u001b[38;5;241m2\u001b[39m, (params[\u001b[38;5;124m\"\u001b[39m\u001b[38;5;124mz\u001b[39m\u001b[38;5;124m\"\u001b[39m]) \u001b[38;5;241m*\u001b[39m\u001b[38;5;241m*\u001b[39m \u001b[38;5;241m2\u001b[39m],\n\u001b[1;32m    315\u001b[0m         axis\u001b[38;5;241m=\u001b[39m\u001b[38;5;241m-\u001b[39m\u001b[38;5;241m1\u001b[39m,\n\u001b[1;32m    316\u001b[0m     )\n\u001b[1;32m    317\u001b[0m     grad_log_pi \u001b[38;5;241m+\u001b[39m\u001b[38;5;241m=\u001b[39m grad_log_prior[:, tf\u001b[38;5;241m.\u001b[39mnewaxis, :]\n\u001b[0;32m--> 319\u001b[0m beta_new, intercept_new, logJ \u001b[38;5;241m=\u001b[39m \u001b[43mT\u001b[49m\u001b[43m(\u001b[49m\u001b[43mX\u001b[49m\u001b[43m,\u001b[49m\u001b[43m \u001b[49m\u001b[43my\u001b[49m\u001b[43m)\u001b[49m\n\u001b[1;32m    320\u001b[0m mu_new \u001b[38;5;241m=\u001b[39m tf\u001b[38;5;241m.\u001b[39mreduce_sum(beta_new \u001b[38;5;241m*\u001b[39m X, axis\u001b[38;5;241m=\u001b[39m\u001b[38;5;241m-\u001b[39m\u001b[38;5;241m1\u001b[39m) \u001b[38;5;241m+\u001b[39m intercept_new[\u001b[38;5;241m.\u001b[39m\u001b[38;5;241m.\u001b[39m\u001b[38;5;241m.\u001b[39m, \u001b[38;5;241m0\u001b[39m]\n\u001b[1;32m    321\u001b[0m sigma_new \u001b[38;5;241m=\u001b[39m tf\u001b[38;5;241m.\u001b[39mmath\u001b[38;5;241m.\u001b[39msigmoid(mu_new)\n",
      "Cell \u001b[0;32mIn[54], line 89\u001b[0m, in \u001b[0;36madaptive_is_loo.<locals>.T_kl\u001b[0;34m(X, y)\u001b[0m\n\u001b[1;32m     88\u001b[0m \u001b[38;5;28;01mdef\u001b[39;00m \u001b[38;5;21mT_kl\u001b[39m(X, y):\n\u001b[0;32m---> 89\u001b[0m     log_pi_ \u001b[38;5;241m=\u001b[39m \u001b[43mlog_pi\u001b[49m \u001b[38;5;241m-\u001b[39m tf\u001b[38;5;241m.\u001b[39mreduce_max(log_pi, axis\u001b[38;5;241m=\u001b[39m\u001b[38;5;241m0\u001b[39m, keepdims\u001b[38;5;241m=\u001b[39m\u001b[38;5;28;01mTrue\u001b[39;00m)\n\u001b[1;32m     90\u001b[0m     mu \u001b[38;5;241m=\u001b[39m beta[\u001b[38;5;241m.\u001b[39m\u001b[38;5;241m.\u001b[39m\u001b[38;5;241m.\u001b[39m, tf\u001b[38;5;241m.\u001b[39mnewaxis, :] \u001b[38;5;241m*\u001b[39m X\n\u001b[1;32m     91\u001b[0m     mu \u001b[38;5;241m=\u001b[39m tf\u001b[38;5;241m.\u001b[39mreduce_sum(mu, \u001b[38;5;241m-\u001b[39m\u001b[38;5;241m1\u001b[39m) \u001b[38;5;241m+\u001b[39m params[\u001b[38;5;124m\"\u001b[39m\u001b[38;5;124mbeta0\u001b[39m\u001b[38;5;124m\"\u001b[39m]\n",
      "\u001b[0;31mNameError\u001b[0m: name 'log_pi' is not defined"
     ]
    }
   ],
   "source": [
    "def entropy(probs):\n",
    "    return -tf.math.xlogy(probs, probs)\n",
    "\n",
    "\n",
    "def adaptive_is_loo(\n",
    "    self: LogisticRegression2,\n",
    "    data: dict[str, tf.Tensor],\n",
    "    params,\n",
    "    hbar=1.0,\n",
    "    variational=True,\n",
    ") -> dict[str, Any]:\n",
    "    \"\"\"_summary_\n",
    "\n",
    "    Args:\n",
    "        data (_type_): _description_\n",
    "        params (_type_): _description_\n",
    "        hbar (float, optional): _description_. Defaults to 1.0.\n",
    "        variational (bool, optional):\n",
    "            Should we trust the variational approximation?\n",
    "            If False, assumes that one is passing in all the data at once in a single batch.\n",
    "            Defaults to True.\n",
    "\n",
    "    Returns:\n",
    "        _type_: _description_\n",
    "    \"\"\"\n",
    "\n",
    "    # scaled (theta - bar(theta))/Sigma\n",
    "    c = self.slab_scale * tf.math.sqrt(params[\"caux\"])\n",
    "    lambda_tilde = tf.math.sqrt(\n",
    "        c**2\n",
    "        * params[\"lambda\"] ** 2\n",
    "        / (c**2 + params[\"tau\"] ** 2 * params[\"lambda\"] ** 2)\n",
    "    )\n",
    "    beta = params[\"z\"] * lambda_tilde * params[\"tau\"]\n",
    "    intercept = params[\"beta0\"]\n",
    "    _X = tf.cast(data[\"X\"], self.dtype)\n",
    "    _y = tf.cast(data[\"y\"], self.dtype)[:, 0]\n",
    "    mu = beta[..., tf.newaxis, :] * _X\n",
    "    mu = tf.reduce_sum(mu, -1) + params[\"beta0\"]\n",
    "    sigma = tf.math.sigmoid(mu)\n",
    "    ell = _y * (sigma) + (1 - _y) * (1 - sigma)\n",
    "    log_ell = tf.math.xlogy(_y, sigma) + tf.math.xlogy(1 - _y, 1 - sigma)\n",
    "    log_ell_prime = _y * (1 - sigma) - (1 - _y) * sigma\n",
    "    log_ell_doubleprime = -sigma * (1 - sigma)\n",
    "    _, khat0 = nppsis.psislw(-log_ell)\n",
    "\n",
    "    \"\"\"\n",
    "    sigma.shape is samples x datapoints\n",
    "    \"\"\"\n",
    "\n",
    "    ndx_to_transform = np.where(khat0 > 0.7)[0]\n",
    "    ndx_to_leave = np.where((khat0 <= 0.7))[0]\n",
    "\n",
    "\n",
    "\n",
    "    # log-likelihood descent\n",
    "\n",
    "    def T_ll(X, y):\n",
    "        mu = beta[..., tf.newaxis, :] * X\n",
    "        mu = tf.reduce_sum(mu, -1) + params[\"beta0\"]\n",
    "        sigma = tf.math.sigmoid(mu)\n",
    "\n",
    "        log_ell_prime = y * (1 - sigma) - (1 - y) * sigma\n",
    "\n",
    "        Q_beta = -log_ell_prime[..., tf.newaxis] * X\n",
    "        Q_intercept = -log_ell_prime[..., tf.newaxis]\n",
    "\n",
    "        standardized = tf.concat(\n",
    "            [Q_beta / beta_sd, Q_intercept / intercept_sd], axis=-1\n",
    "        )\n",
    "        standardized = tf.reduce_max(tf.math.abs(standardized), axis=-1)\n",
    "        standardized = tf.reduce_max(standardized, axis=0, keepdims=True)[\n",
    "            ..., tf.newaxis\n",
    "        ]\n",
    "\n",
    "        h = hbar / standardized\n",
    "        logJ = tf.math.log1p(\n",
    "            tf.math.abs(\n",
    "                h\n",
    "                * (1 + tf.math.reduce_sum(X**2, -1, keepdims=True))[tf.newaxis, :, :]\n",
    "                * (sigma * (1 - sigma))[..., tf.newaxis]\n",
    "            )[..., 0]\n",
    "        )\n",
    "        beta_ll = beta[..., tf.newaxis, :] + h * Q_beta\n",
    "        intercept_ll = intercept[..., tf.newaxis, :] + h * Q_intercept\n",
    "        return beta_ll, intercept_ll, logJ\n",
    "\n",
    "    def T_kl(X, y):\n",
    "        log_pi_ = log_pi - tf.reduce_max(log_pi, axis=0, keepdims=True)\n",
    "        mu = beta[..., tf.newaxis, :] * X\n",
    "        mu = tf.reduce_sum(mu, -1) + params[\"beta0\"]\n",
    "        Q_beta = ((-1) ** y * tf.math.exp(log_pi_[..., tf.newaxis] + mu * (1 - 2 * y)))[\n",
    "            ..., tf.newaxis\n",
    "        ] * X\n",
    "        Q_intercept = (\n",
    "            ((-1) ** y) * tf.math.exp(log_pi_[..., tf.newaxis] + mu * (1 - 2 * y))\n",
    "        )[..., tf.newaxis]\n",
    "\n",
    "        dQ = (-1) ** y[tf.newaxis, :] * tf.math.exp(\n",
    "            log_pi_[..., tf.newaxis] + mu * (1 - 2 * y[tf.newaxis, :])\n",
    "        )\n",
    "        dQ *= (\n",
    "            grad_log_pi[..., 0]\n",
    "            + (1 - 2 * y)[tf.newaxis, :]\n",
    "            + tf.reduce_sum(\n",
    "                X\n",
    "                * (\n",
    "                    grad_log_pi[..., 1:]\n",
    "                    + (1 - 2 * y)[:, tf.newaxis] * X[tf.newaxis, ...]\n",
    "                ),\n",
    "                axis=-1,\n",
    "            )\n",
    "        )\n",
    "\n",
    "        standardized = tf.concat(\n",
    "            [Q_beta / beta_sd, Q_intercept / intercept_sd], axis=-1\n",
    "        )\n",
    "        standardized = tf.reduce_max(tf.math.abs(standardized), axis=-1)\n",
    "        standardized = tf.reduce_max(standardized, axis=0, keepdims=True)[\n",
    "            ..., tf.newaxis\n",
    "        ]\n",
    "\n",
    "        h = hbar / standardized\n",
    "\n",
    "        intercept_kl = intercept[..., tf.newaxis] + h * Q_intercept\n",
    "        beta_kl = beta[..., tf.newaxis, :] + h * Q_beta\n",
    "\n",
    "        logJ = tf.math.log1p(tf.math.abs(h[..., 0] * dQ))\n",
    "        return beta_kl, intercept_kl, logJ\n",
    "\n",
    "    def T_I(X, y):\n",
    "        mu = beta[..., tf.newaxis, :] * X\n",
    "        mu = tf.reduce_sum(mu, -1) + params[\"beta0\"]\n",
    "        sigma = tf.math.sigmoid(mu)\n",
    "\n",
    "        log_ell = tf.math.xlogy(y, sigma) + tf.math.xlogy(1 - y, 1 - sigma)\n",
    "        Q = tf.zeros_like(log_ell)\n",
    "        return (\n",
    "            beta[:, tf.newaxis, :] + Q[..., tf.newaxis],\n",
    "            intercept[..., tf.newaxis] + Q[..., tf.newaxis],\n",
    "            tf.zeros_like(Q),\n",
    "        )\n",
    "\n",
    "    def T_var(X, y):\n",
    "        log_pi_ = log_pi - tf.reduce_max(log_pi, axis=0, keepdims=True)\n",
    "        mu = beta[..., tf.newaxis, :] * X\n",
    "        mu = tf.reduce_sum(mu, -1) + params[\"beta0\"]\n",
    "        Q_beta = (\n",
    "            (-1) ** y * tf.math.exp(log_pi_[..., tf.newaxis] + 2 * mu * (1 - 2 * y))\n",
    "        )[..., tf.newaxis] * X\n",
    "        Q_intercept = (\n",
    "            (-1) ** y * tf.math.exp(log_pi_[..., tf.newaxis] + 2 * mu * (1 - 2 * y))\n",
    "        )[..., tf.newaxis]\n",
    "\n",
    "        dQ = (\n",
    "            (-1) ** y[tf.newaxis, :]\n",
    "            * tf.math.exp(\n",
    "                log_pi_[..., tf.newaxis] + 2 * mu * (1 - 2 * y[tf.newaxis, :])\n",
    "            )\n",
    "            * (\n",
    "                grad_log_pi[..., 0]\n",
    "                + (1 - 2 * y)[tf.newaxis, :]\n",
    "                + tf.reduce_sum(\n",
    "                    X * (grad_log_pi[..., 1:] + 2 * (1 - 2 * y)[:, tf.newaxis] * X),\n",
    "                    axis=-1,\n",
    "                )\n",
    "            )\n",
    "        )\n",
    "\n",
    "        standardized = tf.concat(\n",
    "            [Q_beta / beta_sd, Q_intercept / intercept_sd], axis=-1\n",
    "        )\n",
    "        standardized = tf.reduce_max(tf.math.abs(standardized), axis=-1)\n",
    "        standardized = tf.reduce_max(standardized, axis=0, keepdims=True)[\n",
    "            ..., tf.newaxis\n",
    "        ]\n",
    "\n",
    "        h = hbar / standardized\n",
    "\n",
    "        intercept_kl = intercept[..., tf.newaxis, :] + h * Q_intercept\n",
    "        beta_kl = beta[..., tf.newaxis, :] + h * Q_beta\n",
    "\n",
    "        logJ = tf.math.log1p(tf.math.abs(h[..., 0] * dQ))\n",
    "        return beta_kl, intercept_kl, logJ\n",
    "\n",
    "    def T_mean(X, y):\n",
    "        c = self.slab_scale * tf.math.sqrt(params[\"caux\"])\n",
    "        lambda_tilde = tf.math.abs(c) / tf.math.sqrt(\n",
    "            (c / params[\"lambda\"]) ** 2 + params[\"tau\"] ** 2\n",
    "        )\n",
    "        beta = params[\"z\"] * lambda_tilde * params[\"tau\"]\n",
    "        mu = beta[..., tf.newaxis, :] * X\n",
    "        mu = tf.reduce_sum(mu, -1) + params[\"beta0\"]\n",
    "        sigma = tf.math.sigmoid(mu)\n",
    "        ell = y * (sigma) + (1 - y) * (1 - sigma)  # S x N\n",
    "\n",
    "        weights = (\n",
    "            1\n",
    "            / ell[..., tf.newaxis]\n",
    "            / tf.reduce_sum(1 / ell[..., tf.newaxis], axis=0, keepdims=True)\n",
    "        )\n",
    "\n",
    "        def theta_hat(param):  # param is S x K\n",
    "            hat = tf.reduce_mean(param, axis=0, keepdims=True)\n",
    "            hat_w = param[:, tf.newaxis, ...] * weights\n",
    "            hat_w = tf.reduce_sum(hat_w, axis=0, keepdims=True)\n",
    "            return hat, hat_w\n",
    "\n",
    "        beta_hat, beta_hat_w = theta_hat(beta)\n",
    "        beta0_hat, beta0_hat_w = theta_hat(params[\"beta0\"])\n",
    "\n",
    "        dbeta = -beta_hat + beta_hat_w\n",
    "        dbeta0 = -beta0_hat + beta0_hat_w\n",
    "\n",
    "        beta_adj = beta[:, tf.newaxis, ...] + dbeta\n",
    "        beta0_adj = params[\"beta0\"][:, tf.newaxis, ...] + dbeta0\n",
    "\n",
    "        J = 1 - 1 / tf.reduce_sum(tf.ones_like(c)) + tf.reduce_sum(weights, axis=-1)\n",
    "\n",
    "        # shift by mean\n",
    "        return beta_adj, beta0_adj, tf.math.log(J)\n",
    "\n",
    "    def T_moment(X, y):\n",
    "        c = self.slab_scale * tf.math.sqrt(params[\"caux\"])\n",
    "        lambda_tilde = tf.math.abs(c) / tf.math.sqrt(\n",
    "            (c / params[\"lambda\"]) ** 2 + params[\"tau\"] ** 2\n",
    "        )\n",
    "        beta = params[\"z\"] * lambda_tilde * params[\"tau\"]\n",
    "        mu = beta[..., tf.newaxis, :] * X\n",
    "        mu = tf.reduce_sum(mu, -1) + params[\"beta0\"]\n",
    "        sigma = tf.math.sigmoid(mu)\n",
    "        ell = y * (sigma) + (1 - y) * (1 - sigma)  # S x N\n",
    "\n",
    "        weights = (\n",
    "            1\n",
    "            / ell[..., tf.newaxis]\n",
    "            / tf.reduce_sum(1 / ell[..., tf.newaxis], axis=0, keepdims=True)\n",
    "        )\n",
    "\n",
    "        def theta_hat(param):  # param is S x K\n",
    "            hat = tf.reduce_mean(param[:, tf.newaxis, ...], axis=0, keepdims=True)\n",
    "            hat_w = param[:, tf.newaxis, ...] * weights\n",
    "            hat_w = tf.reduce_sum(hat_w, axis=0, keepdims=True)\n",
    "            v = tf.reduce_mean((param[:, tf.newaxis, ...] - hat)**2)\n",
    "            v_w = tf.reduce_sum(weights*(param[:, tf.newaxis, ...] - hat)**2, axis=0, keepdims=True)\n",
    "            return hat, hat_w, v, v_w\n",
    "        \n",
    "\n",
    "        beta_hat, beta_hat_w, beta_v, beta_v_w = theta_hat(beta)\n",
    "        beta0_hat, beta0_hat_w, beta0_v, beta0_v_w = theta_hat(params[\"beta0\"])\n",
    "\n",
    "        beta_adj = tf.math.sqrt(beta_v_w/beta_v) * (beta[:, tf.newaxis, ...] - beta_hat) + beta_hat_w\n",
    "        beta0_adj = tf.math.sqrt(beta0_v_w/beta0_v) * (params[\"beta0\"][:, tf.newaxis, ...] - beta0_hat) + beta0_hat_w\n",
    "\n",
    "        J = 1 - 1 / tf.reduce_sum(tf.ones_like(c)) + tf.reduce_sum(weights, axis=-1)\n",
    "\n",
    "        # shift by mean\n",
    "        return beta_adj, beta0_adj, tf.math.log(J)\n",
    "\n",
    "    def IS(T, X, y):\n",
    "        mu = beta[..., tf.newaxis, :] * X\n",
    "        mu = tf.reduce_sum(mu, -1) + params[\"beta0\"]\n",
    "        sigma = tf.math.sigmoid(mu)\n",
    "        ell = y * (sigma) + (1 - y) * (1 - sigma)\n",
    "        log_ell = tf.math.xlogy(y, sigma) + tf.math.xlogy(1 - y, 1 - sigma)\n",
    "        log_ell_prime = y * (1 - sigma) - (1 - y) * sigma\n",
    "        log_ell_doubleprime = -sigma * (1 - sigma)\n",
    "        # compute # \\nabla\\log\\pi(\\btheta|\\calD)\n",
    "        if variational:\n",
    "            # \\nabla\\log\\pi = -\\Sigma^{-1}(theta - \\bar{\\theta})\n",
    "            grad_log_pi = tf.concat(\n",
    "                [\n",
    "                    -(intercept - self.surrogate_distribution.model[\"intercept__\"].mean())\n",
    "                    / self.surrogate_distribution.model[\"intercept__\"].variance(),\n",
    "                    -(beta - self.surrogate_distribution.model[\"beta__\"].mean())\n",
    "                    / self.surrogate_distribution.model[\"beta__\"].variance(),\n",
    "                ],\n",
    "                axis=-1,\n",
    "            )\n",
    "\n",
    "            log_pi = self.surrogate_distribution.model[\"beta__\"].log_prob(\n",
    "                params[\"beta__\"]\n",
    "            ) + self.surrogate_distribution.model[\"intercept__\"].log_prob(\n",
    "                params[\"intercept__\"]\n",
    "            )\n",
    "            log_pi -= tf.reduce_max(log_pi, axis=0)\n",
    "            # log_pi.shape: [samples]\n",
    "        else:\n",
    "            \"\"\"\n",
    "            Recall Bayes rule:\n",
    "            \\log pi(\\btheta|\\calD) = \\sum_i\\log ell_i(\\btheta) + \\log\\pi(\\btheta) + const\n",
    "\n",
    "            so\n",
    "            \\nabla\\log\\pi(\\btheta|\\calD) = \\sum_i (ell_i)'x + grad\\log\\pi(\\btheta)\n",
    "\n",
    "            \"\"\"\n",
    "            log_prior = self.prior_distribution.log_prob_parts(params)\n",
    "            log_prior = log_prior[\"z\"] + log_prior[\"beta0\"]\n",
    "\n",
    "            log_pi = tf.reduce_sum(log_ell, axis=1, keepdims=True)[:, 0]\n",
    "\n",
    "            # pi \\propto\n",
    "            grad_log_pi = tf.concat(\n",
    "                [\n",
    "                    tf.reduce_sum(log_ell_prime[..., tf.newaxis], axis=1, keepdims=True),\n",
    "                    tf.reduce_sum(\n",
    "                        log_ell_prime[..., tf.newaxis] * X, axis=1, keepdims=True\n",
    "                    ),\n",
    "                ],\n",
    "                axis=-1,\n",
    "            )\n",
    "\n",
    "            grad_log_prior = -0.5 * tf.concat(\n",
    "                [(params[\"beta0\"] / self.scale_icept) ** 2, (params[\"z\"]) ** 2],\n",
    "                axis=-1,\n",
    "            )\n",
    "            grad_log_pi += grad_log_prior[:, tf.newaxis, :]\n",
    "        \n",
    "        beta_new, intercept_new, logJ = T(X, y)\n",
    "        mu_new = tf.reduce_sum(beta_new * X, axis=-1) + intercept_new[..., 0]\n",
    "        sigma_new = tf.math.sigmoid(mu_new)\n",
    "        ell_new = y * (sigma_new) + (1 - y) * (1 - sigma_new)\n",
    "        log_ell_new = tf.math.xlogy(y, sigma_new) + tf.math.xlogy(1 - y, 1 - sigma_new)\n",
    "        c = self.slab_scale * tf.math.sqrt(params[\"caux\"])\n",
    "        lambda_tilde = tf.math.sqrt(\n",
    "            c**2\n",
    "            * params[\"lambda\"] ** 2\n",
    "            / (c**2 + params[\"tau\"] ** 2 * params[\"lambda\"] ** 2)\n",
    "        )\n",
    "        transformed = params.copy()\n",
    "        transformed[\"z\"] = beta_new / (\n",
    "            lambda_tilde[:, tf.newaxis, :] * params[\"tau\"][..., tf.newaxis]\n",
    "        )\n",
    "        transformed[\"beta0\"] = intercept_new\n",
    "\n",
    "        if variational:\n",
    "            # We trust the variational approximation, so \\hat{pi} = pi\n",
    "            # N_samples x N_data\n",
    "            delta_log_pi = (\n",
    "                self.surrogate_distribution.log_prob(transformed)\n",
    "                - log_pi[:, tf.newaxis]\n",
    "            )\n",
    "            delta_log_pi = delta_log_pi - tf.reduce_max(\n",
    "                delta_log_pi, axis=0, keepdims=True\n",
    "            )\n",
    "            pass\n",
    "        else:\n",
    "            # we don't trust the variational approximation\n",
    "            # Need to compute log_pi directly by summing over the likelihood\n",
    "\n",
    "            ell_cross = tf.math.sigmoid(\n",
    "                tf.reduce_sum(beta_new[..., tf.newaxis, :] * X, -1) + intercept_new\n",
    "            )\n",
    "            ell_cross = tf.math.xlogy(y, ell_cross) + tf.math.xlogy(\n",
    "                1 - y, 1 - ell_cross\n",
    "            )\n",
    "            ell_cross = tf.math.reduce_sum(ell_cross, axis=-1)\n",
    "\n",
    "            log_prior_new = self.prior_distribution.log_prob_parts(transformed)\n",
    "            log_prior_new = log_prior_new[\"z\"] + log_prior_new[\"beta0\"]\n",
    "            log_pi_new = ell_cross\n",
    "            delta_log_prior = log_prior_new - log_prior[:, tf.newaxis]\n",
    "            # Incorporate the prior\n",
    "            delta_log_pi = log_pi_new - log_pi[:, tf.newaxis] + delta_log_prior\n",
    "\n",
    "        log_eta_weights = delta_log_pi - log_ell_new + logJ\n",
    "        log_eta_weights = log_eta_weights - tf.reduce_max(log_eta_weights, axis=0)\n",
    "        psis_weights, khat = nppsis.psislw(log_eta_weights)\n",
    "\n",
    "        eta_weights = tf.math.exp(log_eta_weights)\n",
    "        eta_weights = eta_weights / tf.reduce_sum(eta_weights, axis=0, keepdims=True)\n",
    "\n",
    "        psis_weights = tf.math.exp(psis_weights)\n",
    "        psis_weights = psis_weights / tf.math.reduce_sum(\n",
    "            psis_weights, axis=0, keepdims=True\n",
    "        )\n",
    "\n",
    "        weight_entropy = self.entropy(eta_weights)\n",
    "        psis_entropy = self.entropy(psis_weights)\n",
    "\n",
    "        p_loo_new = tf.reduce_sum(sigma_new * eta_weights, axis=0)\n",
    "        p_loo_psis = tf.reduce_sum(sigma_new * psis_weights, axis=0)\n",
    "        p_loo_sd = tf.math.reduce_std(sigma_new * eta_weights, axis=0)\n",
    "        ll_loo_new = tf.reduce_sum(eta_weights * ell_new, axis=0)\n",
    "        ll_loo_psis = tf.reduce_sum(psis_weights * ell_new, axis=0)\n",
    "        ll_loo_sd = tf.math.reduce_std(eta_weights * ell_new, axis=0)\n",
    "        return (\n",
    "            eta_weights,\n",
    "            psis_weights,\n",
    "            p_loo_new,\n",
    "            p_loo_sd,\n",
    "            ll_loo_new,\n",
    "            ll_loo_sd,\n",
    "            weight_entropy,\n",
    "            khat,\n",
    "            p_loo_psis,\n",
    "            ll_loo_psis,\n",
    "        )\n",
    "    X_ = tf.gather(_X, ndx_to_leave) \n",
    "    y_ = tf.gather(_y, ndx_to_leave)\n",
    "    (\n",
    "        eta_I,\n",
    "        eta_I_psis,\n",
    "        p_loo_I,\n",
    "        p_loo_I_sd,\n",
    "        ll_loo_I,\n",
    "        ll_loo_I_sd,\n",
    "        S_I,\n",
    "        k_I,\n",
    "        p_psis_I,\n",
    "        ll_psis_I,\n",
    "    ) = IS(T_I, X_, y_)\n",
    "\n",
    "    out = {\n",
    "        \"I0\": {\n",
    "                \"p_loo\": p_loo_I,\n",
    "                \"p_loo_sd\": p_loo_I_sd,\n",
    "                \"ll_loo\": ll_loo_I,\n",
    "                \"ll_loo_sd\": ll_loo_I_sd,\n",
    "                \"S\": S_I,\n",
    "                \"khat\": k_I,\n",
    "                \"p_psis\": p_psis_I,\n",
    "                \"ll_psis\": ll_psis_I,\n",
    "                \"ndx\": ndx_to_leave\n",
    "            }\n",
    "    }\n",
    "    \n",
    "    transforms ={\n",
    "        \"I\": T_I,\n",
    "        \"KL\": T_kl,\n",
    "        \"Var\": T_var,\n",
    "        \"LL\": T_ll,\n",
    "        \"MM\": T_moment,\n",
    "    }\n",
    "    \n",
    "    X_ = tf.gather(_X, ndx_to_transform)\n",
    "    y_ = tf.gather(_y, ndx_to_transform)\n",
    "    for lab, fun in transforms.items():\n",
    "        (\n",
    "            eta_,\n",
    "            eta_psis_,\n",
    "            p_loo_,\n",
    "            p_loo_sd_,\n",
    "            ll_loo_,\n",
    "            ll_loo_s_d,\n",
    "            S_,\n",
    "            k_,\n",
    "            p_psis_,\n",
    "            ll_psis_,\n",
    "        ) = IS(fun, X_, y_)\n",
    "        \n",
    "        out = {\n",
    "            **out,\n",
    "            lab: {\n",
    "                \"p_loo\": p_loo_,\n",
    "                \"p_loo_sd\": p_loo_sd_,\n",
    "                \"ll_loo\": ll_loo_,\n",
    "                \"ll_loo_sd\": ll_loo_s_d,\n",
    "                \"S\": S_,\n",
    "                \"khat\": k_,\n",
    "                \"p_psis\": p_psis_,\n",
    "                \"ll_psis\": ll_psis_,\n",
    "                \"ndx\": ndx_to_transform\n",
    "            },\n",
    "        }\n",
    "\n",
    "    return {**out, \"ndx_transformed\": ndx_to_transform}\n",
    "\n",
    "\n",
    "nparams = 64\n",
    "loo = adaptive_is_loo(\n",
    "    lr_model,\n",
    "    batch,\n",
    "    {k: v[:nparams, ...] for k, v in params.items()},\n",
    "    1e-5,\n",
    "    variational=False,\n",
    ")\n",
    "\n",
    "# loo = adaptive_is_loo(lr_model, test_batch, param_test, 0.01, variational=False)\n",
    "\n",
    "\n",
    "for T in [\"I\", \"LL\", \"KL\", \"Var\", \"MM\"]:\n",
    "    print(\n",
    "        f\"{T}: {np.sqrt(np.sum(loo[T]['p_loo_sd']**2))} entropy: {np.sqrt(np.sum(loo[T]['S']))} khat>0.7: {np.sum(loo[T]['khat']>0.7)}\"\n",
    "    )"
   ]
  },
  {
   "cell_type": "code",
   "execution_count": 37,
   "metadata": {},
   "outputs": [
    {
     "name": "stderr",
     "output_type": "stream",
     "text": [
      "100%|██████████| 1/1 [03:14<00:00, 194.51s/it]"
     ]
    },
    {
     "name": "stdout",
     "output_type": "stream",
     "text": [
      "{500: {1: {'I': [], 'LL': [], 'KL': [], 'Var': [44], 'MM': []}, 0.25: {'I': [], 'LL': [], 'KL': [], 'Var': [], 'MM': []}, 0.0625: {'I': [], 'LL': [8, 25, 39, 44, 53], 'KL': [], 'Var': [], 'MM': []}, 0.015625: {'I': [], 'LL': [39, 49, 50, 53], 'KL': [], 'Var': [], 'MM': []}, 0.00390625: {'I': [], 'LL': [49], 'KL': [], 'Var': [], 'MM': []}, 0.0009765625: {'I': [], 'LL': [], 'KL': [], 'Var': [], 'MM': []}, 0.000244140625: {'I': [], 'LL': [], 'KL': [], 'Var': [], 'MM': []}, 6.103515625e-05: {'I': [], 'LL': [], 'KL': [], 'Var': [], 'MM': []}, 1.52587890625e-05: {'I': [], 'LL': [], 'KL': [], 'Var': [], 'MM': []}}, 1000: {1: {'I': [], 'LL': [1, 7], 'KL': [], 'Var': [], 'MM': []}, 0.25: {'I': [], 'LL': [1], 'KL': [], 'Var': [], 'MM': []}, 0.0625: {'I': [], 'LL': [], 'KL': [], 'Var': [], 'MM': []}, 0.015625: {'I': [], 'LL': [], 'KL': [], 'Var': [], 'MM': []}, 0.00390625: {'I': [], 'LL': [], 'KL': [], 'Var': [], 'MM': []}, 0.0009765625: {'I': [], 'LL': [], 'KL': [], 'Var': [], 'MM': []}, 0.000244140625: {'I': [], 'LL': [], 'KL': [], 'Var': [], 'MM': []}, 6.103515625e-05: {'I': [], 'LL': [], 'KL': [], 'Var': [], 'MM': []}, 1.52587890625e-05: {'I': [], 'LL': [], 'KL': [], 'Var': [], 'MM': []}}}\n"
     ]
    },
    {
     "name": "stderr",
     "output_type": "stream",
     "text": [
      "\n"
     ]
    }
   ],
   "source": [
    "base = 4\n",
    "h_vals = [4**-r for r in range(9)]\n",
    "\n",
    "loo_output = []\n",
    "\n",
    "for _ in tqdm(range(1)):\n",
    "    loo_khat = {}\n",
    "    reduced_ndx = {}\n",
    "    high_khat_ndx = {}\n",
    "    n_sample = [500, 1000]\n",
    "    records = []\n",
    "    for n_samples in n_sample:\n",
    "        sample_ndx = np.random.choice(range(fit.stan_variables()['beta0'].shape[0]), size=n_samples, replace=False)\n",
    "        reduced_ndx[n_samples] = {}\n",
    "        high_khat_ndx[n_samples] = {}\n",
    "        # print(f\"Samples: {n_samples}\")\n",
    "        loo_khat[n_samples] = {}\n",
    "        params_ = fit.stan_variables()\n",
    "        params_ = {k: v[sample_ndx] for k, v in params_.items()}\n",
    "\n",
    "        params_[\"c\"] = params_[\"c\"][:, tf.newaxis]\n",
    "        params_[\"tau\"] = params_[\"tau\"][:, tf.newaxis]\n",
    "        params_[\"caux\"] = params_[\"caux\"][:, tf.newaxis]\n",
    "        params_[\"beta0\"] = params_[\"beta0\"][:, tf.newaxis]\n",
    "\n",
    "        for h in h_vals:\n",
    "            loo_khat[n_samples][h] = {}\n",
    "            loo = adaptive_is_loo(lr_model, batch, params_, h, variational=False)\n",
    "            reduced_ndx[n_samples][h] = {}\n",
    "            # print(f\"rho={h}\\n\")\n",
    "            for T in [\"I\", \"LL\", \"KL\", \"Var\", \"MM\"]:\n",
    "                loo_khat[n_samples][h][T] = np.array(loo[T][\"khat\"])\n",
    "\n",
    "                records += [\n",
    "                    {\n",
    "                        \"h\": h,\n",
    "                        \"T\": T,\n",
    "                        \"S\": n_samples,\n",
    "                        \"khat\": loo[T][\"khat\"],\n",
    "                        \"p_psis\": loo[T][\"p_psis\"].numpy(),\n",
    "                        \"n>0.7\": (np.where((loo[T][\"khat\"] > 0.7))[0]).shape,\n",
    "                        \"ndx\": loo[T][\"ndx\"]\n",
    "                    }\n",
    "                ]\n",
    "                reduced_ndx[n_samples][h][T] = [loo[T][\"ndx\"][k] for k in np.where((loo[T][\"khat\"] <= 0.7))[0]]\n",
    "                # print(reduced_ndx[n_samples][h])\n",
    "\n",
    "\n",
    "print(reduced_ndx)"
   ]
  },
  {
   "cell_type": "code",
   "execution_count": 42,
   "metadata": {},
   "outputs": [
    {
     "data": {
      "text/plain": [
       "{500: {1: {'I': [], 'LL': [], 'KL': [], 'Var': [44], 'MM': []},\n",
       "  0.25: {'I': [], 'LL': [], 'KL': [], 'Var': [], 'MM': []},\n",
       "  0.0625: {'I': [], 'LL': [8, 25, 39, 44, 53], 'KL': [], 'Var': [], 'MM': []},\n",
       "  0.015625: {'I': [], 'LL': [39, 49, 50, 53], 'KL': [], 'Var': [], 'MM': []},\n",
       "  0.00390625: {'I': [], 'LL': [49], 'KL': [], 'Var': [], 'MM': []},\n",
       "  0.0009765625: {'I': [], 'LL': [], 'KL': [], 'Var': [], 'MM': []},\n",
       "  0.000244140625: {'I': [], 'LL': [], 'KL': [], 'Var': [], 'MM': []},\n",
       "  6.103515625e-05: {'I': [], 'LL': [], 'KL': [], 'Var': [], 'MM': []},\n",
       "  1.52587890625e-05: {'I': [], 'LL': [], 'KL': [], 'Var': [], 'MM': []}},\n",
       " 1000: {1: {'I': [], 'LL': [1, 7], 'KL': [], 'Var': [], 'MM': []},\n",
       "  0.25: {'I': [], 'LL': [1], 'KL': [], 'Var': [], 'MM': []},\n",
       "  0.0625: {'I': [], 'LL': [], 'KL': [], 'Var': [], 'MM': []},\n",
       "  0.015625: {'I': [], 'LL': [], 'KL': [], 'Var': [], 'MM': []},\n",
       "  0.00390625: {'I': [], 'LL': [], 'KL': [], 'Var': [], 'MM': []},\n",
       "  0.0009765625: {'I': [], 'LL': [], 'KL': [], 'Var': [], 'MM': []},\n",
       "  0.000244140625: {'I': [], 'LL': [], 'KL': [], 'Var': [], 'MM': []},\n",
       "  6.103515625e-05: {'I': [], 'LL': [], 'KL': [], 'Var': [], 'MM': []},\n",
       "  1.52587890625e-05: {'I': [], 'LL': [], 'KL': [], 'Var': [], 'MM': []}}}"
      ]
     },
     "execution_count": 42,
     "metadata": {},
     "output_type": "execute_result"
    }
   ],
   "source": [
    "reduced_ndx"
   ]
  },
  {
   "cell_type": "code",
   "execution_count": 39,
   "metadata": {},
   "outputs": [
    {
     "data": {
      "text/html": [
       "<div>\n",
       "<style scoped>\n",
       "    .dataframe tbody tr th:only-of-type {\n",
       "        vertical-align: middle;\n",
       "    }\n",
       "\n",
       "    .dataframe tbody tr th {\n",
       "        vertical-align: top;\n",
       "    }\n",
       "\n",
       "    .dataframe thead th {\n",
       "        text-align: right;\n",
       "    }\n",
       "</style>\n",
       "<table border=\"1\" class=\"dataframe\">\n",
       "  <thead>\n",
       "    <tr style=\"text-align: right;\">\n",
       "      <th></th>\n",
       "      <th>h</th>\n",
       "      <th>T</th>\n",
       "      <th>S</th>\n",
       "      <th>khat</th>\n",
       "      <th>p_psis</th>\n",
       "      <th>n&gt;0.7</th>\n",
       "      <th>ndx</th>\n",
       "      <th>rho_rank</th>\n",
       "    </tr>\n",
       "  </thead>\n",
       "  <tbody>\n",
       "    <tr>\n",
       "      <th>0</th>\n",
       "      <td>1.000000</td>\n",
       "      <td>I</td>\n",
       "      <td>500</td>\n",
       "      <td>[0.8996723641656623, 1.0036552450745986, 0.877...</td>\n",
       "      <td>[0.2830992111188045, 0.02827372414202521, 0.02...</td>\n",
       "      <td>(30,)</td>\n",
       "      <td>[0, 6, 8, 10, 15, 21, 23, 24, 25, 26, 28, 29, ...</td>\n",
       "      <td>0.0</td>\n",
       "    </tr>\n",
       "    <tr>\n",
       "      <th>1</th>\n",
       "      <td>1.000000</td>\n",
       "      <td>LL</td>\n",
       "      <td>500</td>\n",
       "      <td>[1.052365672204834, 1.066936917814332, 0.84311...</td>\n",
       "      <td>[0.00018774218952721496, 4.6239321874000816e-0...</td>\n",
       "      <td>(30,)</td>\n",
       "      <td>[0, 6, 8, 10, 15, 21, 23, 24, 25, 26, 28, 29, ...</td>\n",
       "      <td>0.0</td>\n",
       "    </tr>\n",
       "    <tr>\n",
       "      <th>2</th>\n",
       "      <td>1.000000</td>\n",
       "      <td>KL</td>\n",
       "      <td>500</td>\n",
       "      <td>[0.9311681500559388, 1.1229131927956992, 1.000...</td>\n",
       "      <td>[0.24953179604394873, 0.012136476181740375, 0....</td>\n",
       "      <td>(30,)</td>\n",
       "      <td>[0, 6, 8, 10, 15, 21, 23, 24, 25, 26, 28, 29, ...</td>\n",
       "      <td>0.0</td>\n",
       "    </tr>\n",
       "    <tr>\n",
       "      <th>3</th>\n",
       "      <td>1.000000</td>\n",
       "      <td>Var</td>\n",
       "      <td>500</td>\n",
       "      <td>[0.898724233749608, 0.9317822021262441, 0.8843...</td>\n",
       "      <td>[0.25712122924135794, 0.018598154699416482, 0....</td>\n",
       "      <td>(29,)</td>\n",
       "      <td>[0, 6, 8, 10, 15, 21, 23, 24, 25, 26, 28, 29, ...</td>\n",
       "      <td>0.0</td>\n",
       "    </tr>\n",
       "    <tr>\n",
       "      <th>4</th>\n",
       "      <td>1.000000</td>\n",
       "      <td>MM</td>\n",
       "      <td>500</td>\n",
       "      <td>[inf, inf, inf, inf, inf, inf, inf, inf, inf, ...</td>\n",
       "      <td>[nan, nan, nan, nan, nan, nan, nan, 0.00175882...</td>\n",
       "      <td>(30,)</td>\n",
       "      <td>[0, 6, 8, 10, 15, 21, 23, 24, 25, 26, 28, 29, ...</td>\n",
       "      <td>0.0</td>\n",
       "    </tr>\n",
       "    <tr>\n",
       "      <th>...</th>\n",
       "      <td>...</td>\n",
       "      <td>...</td>\n",
       "      <td>...</td>\n",
       "      <td>...</td>\n",
       "      <td>...</td>\n",
       "      <td>...</td>\n",
       "      <td>...</td>\n",
       "      <td>...</td>\n",
       "    </tr>\n",
       "    <tr>\n",
       "      <th>85</th>\n",
       "      <td>0.000015</td>\n",
       "      <td>I</td>\n",
       "      <td>1000</td>\n",
       "      <td>[0.7857181441240992, 0.9988713199794041, 0.947...</td>\n",
       "      <td>[0.3177854342291608, 0.39075950431301487, 0.03...</td>\n",
       "      <td>(36,)</td>\n",
       "      <td>[1, 3, 6, 7, 12, 15, 17, 18, 19, 21, 23, 25, 2...</td>\n",
       "      <td>-8.0</td>\n",
       "    </tr>\n",
       "    <tr>\n",
       "      <th>86</th>\n",
       "      <td>0.000015</td>\n",
       "      <td>LL</td>\n",
       "      <td>1000</td>\n",
       "      <td>[0.9469483890533887, 1.076120287894048, 0.9516...</td>\n",
       "      <td>[0.2986991287676004, 0.40552768704404213, 0.03...</td>\n",
       "      <td>(36,)</td>\n",
       "      <td>[1, 3, 6, 7, 12, 15, 17, 18, 19, 21, 23, 25, 2...</td>\n",
       "      <td>-8.0</td>\n",
       "    </tr>\n",
       "    <tr>\n",
       "      <th>87</th>\n",
       "      <td>0.000015</td>\n",
       "      <td>KL</td>\n",
       "      <td>1000</td>\n",
       "      <td>[0.7850081761158265, 1.0001864386632353, 0.948...</td>\n",
       "      <td>[0.31783118102340224, 0.3907802881380385, 0.03...</td>\n",
       "      <td>(36,)</td>\n",
       "      <td>[1, 3, 6, 7, 12, 15, 17, 18, 19, 21, 23, 25, 2...</td>\n",
       "      <td>-8.0</td>\n",
       "    </tr>\n",
       "    <tr>\n",
       "      <th>88</th>\n",
       "      <td>0.000015</td>\n",
       "      <td>Var</td>\n",
       "      <td>1000</td>\n",
       "      <td>[0.7856645885713671, 0.9990938808542957, 0.947...</td>\n",
       "      <td>[0.3178258059762198, 0.39079575532108707, 0.03...</td>\n",
       "      <td>(36,)</td>\n",
       "      <td>[1, 3, 6, 7, 12, 15, 17, 18, 19, 21, 23, 25, 2...</td>\n",
       "      <td>-8.0</td>\n",
       "    </tr>\n",
       "    <tr>\n",
       "      <th>89</th>\n",
       "      <td>0.000015</td>\n",
       "      <td>MM</td>\n",
       "      <td>1000</td>\n",
       "      <td>[inf, inf, inf, inf, inf, inf, inf, inf, inf, ...</td>\n",
       "      <td>[nan, nan, nan, nan, nan, nan, nan, nan, nan, ...</td>\n",
       "      <td>(36,)</td>\n",
       "      <td>[1, 3, 6, 7, 12, 15, 17, 18, 19, 21, 23, 25, 2...</td>\n",
       "      <td>-8.0</td>\n",
       "    </tr>\n",
       "  </tbody>\n",
       "</table>\n",
       "<p>90 rows × 8 columns</p>\n",
       "</div>"
      ],
      "text/plain": [
       "           h    T     S                                               khat  \\\n",
       "0   1.000000    I   500  [0.8996723641656623, 1.0036552450745986, 0.877...   \n",
       "1   1.000000   LL   500  [1.052365672204834, 1.066936917814332, 0.84311...   \n",
       "2   1.000000   KL   500  [0.9311681500559388, 1.1229131927956992, 1.000...   \n",
       "3   1.000000  Var   500  [0.898724233749608, 0.9317822021262441, 0.8843...   \n",
       "4   1.000000   MM   500  [inf, inf, inf, inf, inf, inf, inf, inf, inf, ...   \n",
       "..       ...  ...   ...                                                ...   \n",
       "85  0.000015    I  1000  [0.7857181441240992, 0.9988713199794041, 0.947...   \n",
       "86  0.000015   LL  1000  [0.9469483890533887, 1.076120287894048, 0.9516...   \n",
       "87  0.000015   KL  1000  [0.7850081761158265, 1.0001864386632353, 0.948...   \n",
       "88  0.000015  Var  1000  [0.7856645885713671, 0.9990938808542957, 0.947...   \n",
       "89  0.000015   MM  1000  [inf, inf, inf, inf, inf, inf, inf, inf, inf, ...   \n",
       "\n",
       "                                               p_psis  n>0.7  \\\n",
       "0   [0.2830992111188045, 0.02827372414202521, 0.02...  (30,)   \n",
       "1   [0.00018774218952721496, 4.6239321874000816e-0...  (30,)   \n",
       "2   [0.24953179604394873, 0.012136476181740375, 0....  (30,)   \n",
       "3   [0.25712122924135794, 0.018598154699416482, 0....  (29,)   \n",
       "4   [nan, nan, nan, nan, nan, nan, nan, 0.00175882...  (30,)   \n",
       "..                                                ...    ...   \n",
       "85  [0.3177854342291608, 0.39075950431301487, 0.03...  (36,)   \n",
       "86  [0.2986991287676004, 0.40552768704404213, 0.03...  (36,)   \n",
       "87  [0.31783118102340224, 0.3907802881380385, 0.03...  (36,)   \n",
       "88  [0.3178258059762198, 0.39079575532108707, 0.03...  (36,)   \n",
       "89  [nan, nan, nan, nan, nan, nan, nan, nan, nan, ...  (36,)   \n",
       "\n",
       "                                                  ndx  rho_rank  \n",
       "0   [0, 6, 8, 10, 15, 21, 23, 24, 25, 26, 28, 29, ...       0.0  \n",
       "1   [0, 6, 8, 10, 15, 21, 23, 24, 25, 26, 28, 29, ...       0.0  \n",
       "2   [0, 6, 8, 10, 15, 21, 23, 24, 25, 26, 28, 29, ...       0.0  \n",
       "3   [0, 6, 8, 10, 15, 21, 23, 24, 25, 26, 28, 29, ...       0.0  \n",
       "4   [0, 6, 8, 10, 15, 21, 23, 24, 25, 26, 28, 29, ...       0.0  \n",
       "..                                                ...       ...  \n",
       "85  [1, 3, 6, 7, 12, 15, 17, 18, 19, 21, 23, 25, 2...      -8.0  \n",
       "86  [1, 3, 6, 7, 12, 15, 17, 18, 19, 21, 23, 25, 2...      -8.0  \n",
       "87  [1, 3, 6, 7, 12, 15, 17, 18, 19, 21, 23, 25, 2...      -8.0  \n",
       "88  [1, 3, 6, 7, 12, 15, 17, 18, 19, 21, 23, 25, 2...      -8.0  \n",
       "89  [1, 3, 6, 7, 12, 15, 17, 18, 19, 21, 23, 25, 2...      -8.0  \n",
       "\n",
       "[90 rows x 8 columns]"
      ]
     },
     "execution_count": 39,
     "metadata": {},
     "output_type": "execute_result"
    }
   ],
   "source": [
    "df = pd.DataFrame(records)\n",
    "df['rho_rank'] = np.emath.logn(base, df['h']) \n",
    "df\n"
   ]
  },
  {
   "cell_type": "code",
   "execution_count": 40,
   "metadata": {},
   "outputs": [],
   "source": [
    "kl_ = df.loc[(df['S']==n_sample[-1]) & (df['T']==\"KL\")]\n",
    "var_ = df.loc[(df['S']==n_sample[-1]) & (df['T']==\"Var\")]\n",
    "ll_ = df.loc[(df['S']==n_sample[-1]) & (df['T']==\"LL\")]\n",
    "I_ = df.loc[(df['S']==n_sample[-1]) & (df['T']==\"I\")]\n",
    "\n",
    "kl_ = kl_.explode(['khat', 'ndx'])\n",
    "var_ = var_.explode(['khat', 'ndx'])\n",
    "ll_ = ll_.explode(['khat', 'ndx'])\n",
    "I = I_.explode(['khat', 'ndx'])\n"
   ]
  },
  {
   "cell_type": "code",
   "execution_count": 41,
   "metadata": {},
   "outputs": [],
   "source": [
    "recode = dict(zip(kl_['ndx'].unique(),np.arange(len(kl_['ndx'].unique())),))\n",
    "kl_ = kl_.replace({\"khat>0.7\": recode})\n",
    "var_ = var_.replace({\"khat>0.7\": recode})\n",
    "ll_ = ll_.replace({\"khat>0.7\": recode})\n",
    "I_ = I_.replace({\"khat>0.7\": recode})"
   ]
  },
  {
   "cell_type": "code",
   "execution_count": null,
   "metadata": {},
   "outputs": [],
   "source": []
  },
  {
   "cell_type": "code",
   "execution_count": 35,
   "metadata": {},
   "outputs": [
    {
     "ename": "NameError",
     "evalue": "name 'high_ndx_' is not defined",
     "output_type": "error",
     "traceback": [
      "\u001b[0;31m---------------------------------------------------------------------------\u001b[0m",
      "\u001b[0;31mNameError\u001b[0m                                 Traceback (most recent call last)",
      "Cell \u001b[0;32mIn[35], line 2\u001b[0m\n\u001b[1;32m      1\u001b[0m fig \u001b[38;5;241m=\u001b[39m plt\u001b[38;5;241m.\u001b[39mfigure(figsize\u001b[38;5;241m=\u001b[39m(\u001b[38;5;241m4\u001b[39m, \u001b[38;5;241m6\u001b[39m))\n\u001b[0;32m----> 2\u001b[0m ymax \u001b[38;5;241m=\u001b[39m (\u001b[38;5;28mlen\u001b[39m(\u001b[43mhigh_ndx_\u001b[49m))\n\u001b[1;32m      3\u001b[0m _ \u001b[38;5;241m=\u001b[39m plt\u001b[38;5;241m.\u001b[39mscatter( dfI[\u001b[38;5;124m\"\u001b[39m\u001b[38;5;124mkhat_high\u001b[39m\u001b[38;5;124m\"\u001b[39m], dfI[\u001b[38;5;124m\"\u001b[39m\u001b[38;5;124mkhat>0.7\u001b[39m\u001b[38;5;124m\"\u001b[39m],color\u001b[38;5;241m=\u001b[39m\u001b[38;5;124m\"\u001b[39m\u001b[38;5;124mblack\u001b[39m\u001b[38;5;124m\"\u001b[39m, s\u001b[38;5;241m=\u001b[39m\u001b[38;5;241m12\u001b[39m, alpha\u001b[38;5;241m=\u001b[39m\u001b[38;5;241m0.3\u001b[39m)\n\u001b[1;32m      4\u001b[0m _ \u001b[38;5;241m=\u001b[39m plt\u001b[38;5;241m.\u001b[39mscatter(kl_\u001b[38;5;241m.\u001b[39mkhat_high, kl_[\u001b[38;5;124m'\u001b[39m\u001b[38;5;124mkhat>0.7\u001b[39m\u001b[38;5;124m'\u001b[39m] \u001b[38;5;241m+\u001b[39m \u001b[38;5;241m0.2\u001b[39m, s\u001b[38;5;241m=\u001b[39m\u001b[38;5;241m1\u001b[39m, color\u001b[38;5;241m=\u001b[39m\u001b[38;5;124m'\u001b[39m\u001b[38;5;124mgreen\u001b[39m\u001b[38;5;124m'\u001b[39m, alpha\u001b[38;5;241m=\u001b[39m\u001b[38;5;241m0.3\u001b[39m)\n",
      "\u001b[0;31mNameError\u001b[0m: name 'high_ndx_' is not defined"
     ]
    },
    {
     "data": {
      "text/plain": [
       "<Figure size 400x600 with 0 Axes>"
      ]
     },
     "metadata": {},
     "output_type": "display_data"
    }
   ],
   "source": [
    "fig = plt.figure(figsize=(4, 6))\n",
    "ymax = (len(high_ndx_))\n",
    "#_ = plt.scatter( dfI[\"khat_high\"], dfI[\"khat>0.7\"],color=\"black\", s=12, alpha=0.3)\n",
    "_ = plt.scatter(kl_.khat_high, kl_['khat>0.7'] + 0.2, s=1, color='green', alpha=0.3)\n",
    "_ = plt.scatter(var_.khat_high, var_['khat>0.7'] - 0.2, s=1, color='purple', alpha=0.3)\n",
    "\n",
    "kl_ = kl_[kl_.khat_high<3]\n",
    "ll_ = ll_[ll_.khat_high<3]\n",
    "var_ = var_[var_.khat_high<3]\n",
    "_ = plt.axvline(x=0.7, linestyle='dashed', linewidth=2, color='red', alpha=0.5)\n",
    "\n",
    "kl_vals = defaultdict(list)\n",
    "var_vals = defaultdict(list)\n",
    "ll_vals = defaultdict(list)\n",
    "\n",
    "for x, y, s in zip( kl_.khat_high, kl_['khat>0.7'] + 0.2, kl_['hrank'].values.astype('int')):\n",
    "    kl_vals[y] += [x]\n",
    "    \n",
    "for x, y, s in zip( var_.khat_high, var_['khat>0.7']-0.2, var_['hrank'].values.astype('int')):\n",
    "    var_vals[y] += [x]\n",
    "\n",
    "for x, v in kl_vals.items():\n",
    "    plt.text(min(v), x, \"KL\",  ha='center', va='center', color='green', fontsize=8)\n",
    "    \n",
    "for x, v in var_vals.items():\n",
    "    plt.plot(min(v), x, color='purple', alpha=0.3)\n",
    "    plt.text(min(v), x, \"Var\",  ha='center', va='center', color='blue', fontsize=8)\n",
    "    \n",
    "    \n",
    "for x, v in var_vals.items():\n",
    "    plt.text(min(v), x, \"LL\",  ha='center', va='center', color='purple', fontsize=8)\n",
    "\n",
    "_ = plt.ylabel(\"observation\")\n",
    "_ = plt.ylim(-0.5, ymax - 0.5)\n",
    "_ = plt.xlabel(r'estimated Pareto tail shape $\\hat{k}$')\n",
    "_ = plt.yticks(ticks=np.arange(ymax), labels=ndx)\n",
    "_ = plt.xlim((-0.5, 2))\n",
    "_ = plt.xticks([-0.5, 0, 0.7, 1.5, 2])\n",
    "\n",
    "\n",
    "for y0, y1 in zip(np.arange(ymax+ 1)[::2]-0.5, np.arange(ymax + 1)[::2] + 0.5):\n",
    "    plt.axhspan(y0, y1, color='black', alpha=0.1, zorder=0)\n",
    "#_ = plt.xlim((-0.1, 2))\n",
    "_ = plt.savefig(\"khat.pdf\", bbox_inches='tight')"
   ]
  },
  {
   "cell_type": "code",
   "execution_count": 161,
   "metadata": {},
   "outputs": [
    {
     "data": {
      "image/png": "[encoded data removed]",
      "text/plain": [
       "<Figure size 600x800 with 1 Axes>"
      ]
     },
     "metadata": {},
     "output_type": "display_data"
    }
   ],
   "source": [
    "fig = plt.figure(figsize=(6, 8))\n",
    "ymax = (len(high_ndx_))\n",
    "_ = plt.scatter( dfI[\"khat_high\"], dfI[\"khat>0.7\"],color=\"black\", s=3)\n",
    "_ = plt.scatter(kl_.khat_high, kl_['khat>0.7'], s=0)\n",
    "_ = plt.scatter(ll_.khat_high, ll_['khat>0.7'], s=0)\n",
    "_ = plt.scatter(var_.khat_high, var_['khat>0.7'], s=0)\n",
    "\n",
    "kl_ = kl_[kl_.khat_high<3]\n",
    "ll_ = ll_[ll_.khat_high<3]\n",
    "var_ = var_[var_.khat_high<3]\n",
    "_ = plt.axvline(x=0.7, linestyle='dotted', linewidth=2, color='red')\n",
    "\n",
    "for x, y, s in zip( kl_.khat_high, kl_['khat>0.7'] + 0.25, kl_['hrank'].values.astype('int')):\n",
    "    if s > 7:\n",
    "        continue\n",
    "    plt.text(x, y, str(s),  ha='center', va='center', color='blue', fontsize=8)\n",
    "    \n",
    "for x, y, s in zip( var_.khat_high, var_['khat>0.7'], var_['hrank'].values.astype('int')):\n",
    "    if s > 7:\n",
    "        continue\n",
    "    plt.text(x, y, str(s),  ha='center', va='center', color='green', fontsize=8)\n",
    "\n",
    "for x, y, s in zip( ll_.khat_high, ll_['khat>0.7'] - 0.25, ll_['hrank'].values.astype('int')):\n",
    "    if s > 3:\n",
    "        continue\n",
    "    plt.text(x, y, str(s),  ha='center', va='center', color='purple', fontsize=8)\n",
    "    \n",
    "_ = plt.yticks(ticks=np.arange(ymax), labels=ndx)\n",
    "\n",
    "_ = plt.ylabel(\"observation\")\n",
    "_ = plt.ylim(-0.5, ymax - 0.5)\n",
    "_ = plt.xlabel(r'$\\hat{k}$')\n",
    "\n",
    "_ = plt.xlim((-1, 3))\n",
    "\n",
    "\n",
    "for y0, y1 in zip(np.arange(ymax+ 1)[::2]-0.5, np.arange(ymax + 1)[::2] + 0.5):\n",
    "    plt.axhspan(y0, y1, color='black', alpha=0.1, zorder=0)\n",
    "#_ = plt.xlim((-0.1, 2))\n",
    "_ = plt.savefig(\"khat_detailed.pdf\", bbox_inches='tight')"
   ]
  },
  {
   "cell_type": "code",
   "execution_count": 162,
   "metadata": {},
   "outputs": [
    {
     "data": {
      "text/plain": [
       "(29, 23)"
      ]
     },
     "execution_count": 162,
     "metadata": {},
     "output_type": "execute_result"
    }
   ],
   "source": [
    "len(df[['khat', \"p_psis\", 'ndx']].iloc[0, :].values[0]), len(ndx)"
   ]
  },
  {
   "cell_type": "code",
   "execution_count": 163,
   "metadata": {},
   "outputs": [
    {
     "ename": "ValueError",
     "evalue": "columns must have matching element counts",
     "output_type": "error",
     "traceback": [
      "\u001b[0;31m---------------------------------------------------------------------------\u001b[0m",
      "\u001b[0;31mValueError\u001b[0m                                Traceback (most recent call last)",
      "\u001b[0;32m/tmp/ipykernel_1663505/3649467360.py\u001b[0m in \u001b[0;36m?\u001b[0;34m()\u001b[0m\n\u001b[0;32m----> 1\u001b[0;31m \u001b[0mdf_\u001b[0m \u001b[0;34m=\u001b[0m \u001b[0mdf\u001b[0m\u001b[0;34m.\u001b[0m\u001b[0mexplode\u001b[0m\u001b[0;34m(\u001b[0m\u001b[0;34m[\u001b[0m\u001b[0;34m'khat'\u001b[0m\u001b[0;34m,\u001b[0m \u001b[0;34m\"p_psis\"\u001b[0m\u001b[0;34m,\u001b[0m \u001b[0;34m'ndx'\u001b[0m\u001b[0;34m]\u001b[0m\u001b[0;34m)\u001b[0m\u001b[0;34m[\u001b[0m\u001b[0;34m[\u001b[0m\u001b[0;34m'ndx'\u001b[0m\u001b[0;34m,\u001b[0m \u001b[0;34m'p_psis'\u001b[0m\u001b[0;34m,\u001b[0m \u001b[0;34m'khat'\u001b[0m\u001b[0;34m,\u001b[0m \u001b[0;34m'T'\u001b[0m\u001b[0;34m]\u001b[0m\u001b[0;34m]\u001b[0m\u001b[0;34m\u001b[0m\u001b[0;34m\u001b[0m\u001b[0m\n\u001b[0m\u001b[1;32m      2\u001b[0m \u001b[0mdf_\u001b[0m \u001b[0;34m=\u001b[0m \u001b[0mdf_\u001b[0m\u001b[0;34m.\u001b[0m\u001b[0mgroupby\u001b[0m\u001b[0;34m(\u001b[0m\u001b[0;34m'ndx'\u001b[0m\u001b[0;34m)\u001b[0m\u001b[0;34m[\u001b[0m\u001b[0;34m[\u001b[0m\u001b[0;34m'khat'\u001b[0m\u001b[0;34m,\u001b[0m \u001b[0;34m'p_psis'\u001b[0m\u001b[0;34m]\u001b[0m\u001b[0;34m]\u001b[0m\u001b[0;34m.\u001b[0m\u001b[0mmin\u001b[0m\u001b[0;34m(\u001b[0m\u001b[0;34m)\u001b[0m\u001b[0;34m\u001b[0m\u001b[0;34m\u001b[0m\u001b[0m\n\u001b[1;32m      3\u001b[0m \u001b[0mok_ndx\u001b[0m \u001b[0;34m=\u001b[0m \u001b[0mdf_\u001b[0m\u001b[0;34m[\u001b[0m\u001b[0mdf_\u001b[0m\u001b[0;34m.\u001b[0m\u001b[0mkhat\u001b[0m\u001b[0;34m<\u001b[0m\u001b[0;36m0.7\u001b[0m\u001b[0;34m]\u001b[0m\u001b[0;34m.\u001b[0m\u001b[0mindex\u001b[0m\u001b[0;34m\u001b[0m\u001b[0;34m\u001b[0m\u001b[0m\n",
      "\u001b[0;32m~/workspace/readmission/env/lib/python3.10/site-packages/pandas/core/frame.py\u001b[0m in \u001b[0;36m?\u001b[0;34m(self, column, ignore_index)\u001b[0m\n\u001b[1;32m   9545\u001b[0m             \u001b[0mmylen\u001b[0m \u001b[0;34m=\u001b[0m \u001b[0;32mlambda\u001b[0m \u001b[0mx\u001b[0m\u001b[0;34m:\u001b[0m \u001b[0mlen\u001b[0m\u001b[0;34m(\u001b[0m\u001b[0mx\u001b[0m\u001b[0;34m)\u001b[0m \u001b[0;32mif\u001b[0m \u001b[0;34m(\u001b[0m\u001b[0mis_list_like\u001b[0m\u001b[0;34m(\u001b[0m\u001b[0mx\u001b[0m\u001b[0;34m)\u001b[0m \u001b[0;32mand\u001b[0m \u001b[0mlen\u001b[0m\u001b[0;34m(\u001b[0m\u001b[0mx\u001b[0m\u001b[0;34m)\u001b[0m \u001b[0;34m>\u001b[0m \u001b[0;36m0\u001b[0m\u001b[0;34m)\u001b[0m \u001b[0;32melse\u001b[0m \u001b[0;36m1\u001b[0m\u001b[0;34m\u001b[0m\u001b[0;34m\u001b[0m\u001b[0m\n\u001b[1;32m   9546\u001b[0m             \u001b[0mcounts0\u001b[0m \u001b[0;34m=\u001b[0m \u001b[0mself\u001b[0m\u001b[0;34m[\u001b[0m\u001b[0mcolumns\u001b[0m\u001b[0;34m[\u001b[0m\u001b[0;36m0\u001b[0m\u001b[0;34m]\u001b[0m\u001b[0;34m]\u001b[0m\u001b[0;34m.\u001b[0m\u001b[0mapply\u001b[0m\u001b[0;34m(\u001b[0m\u001b[0mmylen\u001b[0m\u001b[0;34m)\u001b[0m\u001b[0;34m\u001b[0m\u001b[0;34m\u001b[0m\u001b[0m\n\u001b[1;32m   9547\u001b[0m             \u001b[0;32mfor\u001b[0m \u001b[0mc\u001b[0m \u001b[0;32min\u001b[0m \u001b[0mcolumns\u001b[0m\u001b[0;34m[\u001b[0m\u001b[0;36m1\u001b[0m\u001b[0;34m:\u001b[0m\u001b[0;34m]\u001b[0m\u001b[0;34m:\u001b[0m\u001b[0;34m\u001b[0m\u001b[0;34m\u001b[0m\u001b[0m\n\u001b[1;32m   9548\u001b[0m                 \u001b[0;32mif\u001b[0m \u001b[0;32mnot\u001b[0m \u001b[0mall\u001b[0m\u001b[0;34m(\u001b[0m\u001b[0mcounts0\u001b[0m \u001b[0;34m==\u001b[0m \u001b[0mself\u001b[0m\u001b[0;34m[\u001b[0m\u001b[0mc\u001b[0m\u001b[0;34m]\u001b[0m\u001b[0;34m.\u001b[0m\u001b[0mapply\u001b[0m\u001b[0;34m(\u001b[0m\u001b[0mmylen\u001b[0m\u001b[0;34m)\u001b[0m\u001b[0;34m)\u001b[0m\u001b[0;34m:\u001b[0m\u001b[0;34m\u001b[0m\u001b[0;34m\u001b[0m\u001b[0m\n\u001b[0;32m-> 9549\u001b[0;31m                     \u001b[0;32mraise\u001b[0m \u001b[0mValueError\u001b[0m\u001b[0;34m(\u001b[0m\u001b[0;34m\"columns must have matching element counts\"\u001b[0m\u001b[0;34m)\u001b[0m\u001b[0;34m\u001b[0m\u001b[0;34m\u001b[0m\u001b[0m\n\u001b[0m\u001b[1;32m   9550\u001b[0m             \u001b[0mresult\u001b[0m \u001b[0;34m=\u001b[0m \u001b[0mDataFrame\u001b[0m\u001b[0;34m(\u001b[0m\u001b[0;34m{\u001b[0m\u001b[0mc\u001b[0m\u001b[0;34m:\u001b[0m \u001b[0mdf\u001b[0m\u001b[0;34m[\u001b[0m\u001b[0mc\u001b[0m\u001b[0;34m]\u001b[0m\u001b[0;34m.\u001b[0m\u001b[0mexplode\u001b[0m\u001b[0;34m(\u001b[0m\u001b[0;34m)\u001b[0m \u001b[0;32mfor\u001b[0m \u001b[0mc\u001b[0m \u001b[0;32min\u001b[0m \u001b[0mcolumns\u001b[0m\u001b[0;34m}\u001b[0m\u001b[0;34m)\u001b[0m\u001b[0;34m\u001b[0m\u001b[0;34m\u001b[0m\u001b[0m\n\u001b[1;32m   9551\u001b[0m         \u001b[0mresult\u001b[0m \u001b[0;34m=\u001b[0m \u001b[0mdf\u001b[0m\u001b[0;34m.\u001b[0m\u001b[0mdrop\u001b[0m\u001b[0;34m(\u001b[0m\u001b[0mcolumns\u001b[0m\u001b[0;34m,\u001b[0m \u001b[0maxis\u001b[0m\u001b[0;34m=\u001b[0m\u001b[0;36m1\u001b[0m\u001b[0;34m)\u001b[0m\u001b[0;34m.\u001b[0m\u001b[0mjoin\u001b[0m\u001b[0;34m(\u001b[0m\u001b[0mresult\u001b[0m\u001b[0;34m)\u001b[0m\u001b[0;34m\u001b[0m\u001b[0;34m\u001b[0m\u001b[0m\n\u001b[1;32m   9552\u001b[0m         \u001b[0;32mif\u001b[0m \u001b[0mignore_index\u001b[0m\u001b[0;34m:\u001b[0m\u001b[0;34m\u001b[0m\u001b[0;34m\u001b[0m\u001b[0m\n",
      "\u001b[0;31mValueError\u001b[0m: columns must have matching element counts"
     ]
    }
   ],
   "source": [
    "df_ = df.explode(['khat', \"p_psis\", 'ndx'])[['ndx', 'p_psis', 'khat', 'T']]\n",
    "df_ = df_.groupby('ndx')[['khat', 'p_psis']].min()\n",
    "ok_ndx = df_[df_.khat<0.7].index"
   ]
  },
  {
   "cell_type": "code",
   "execution_count": 90,
   "metadata": {},
   "outputs": [
    {
     "ename": "ValueError",
     "evalue": "columns must have matching element counts",
     "output_type": "error",
     "traceback": [
      "\u001b[0;31m---------------------------------------------------------------------------\u001b[0m",
      "\u001b[0;31mValueError\u001b[0m                                Traceback (most recent call last)",
      "\u001b[0;32m/tmp/ipykernel_1663505/2354097657.py\u001b[0m in \u001b[0;36m?\u001b[0;34m()\u001b[0m\n\u001b[0;32m----> 1\u001b[0;31m \u001b[0mdf_\u001b[0m \u001b[0;34m=\u001b[0m \u001b[0mdf\u001b[0m\u001b[0;34m.\u001b[0m\u001b[0mexplode\u001b[0m\u001b[0;34m(\u001b[0m\u001b[0;34m[\u001b[0m\u001b[0;34m'khat'\u001b[0m\u001b[0;34m,\u001b[0m \u001b[0;34m\"p_psis\"\u001b[0m\u001b[0;34m,\u001b[0m \u001b[0;34m'ndx'\u001b[0m\u001b[0;34m]\u001b[0m\u001b[0;34m)\u001b[0m\u001b[0;34m[\u001b[0m\u001b[0;34m[\u001b[0m\u001b[0;34m'ndx'\u001b[0m\u001b[0;34m,\u001b[0m \u001b[0;34m'p_psis'\u001b[0m\u001b[0;34m,\u001b[0m \u001b[0;34m'khat'\u001b[0m\u001b[0;34m,\u001b[0m \u001b[0;34m'T'\u001b[0m\u001b[0;34m]\u001b[0m\u001b[0;34m]\u001b[0m\u001b[0;34m\u001b[0m\u001b[0;34m\u001b[0m\u001b[0m\n\u001b[0m\u001b[1;32m      2\u001b[0m \u001b[0mdf_\u001b[0m \u001b[0;34m=\u001b[0m \u001b[0mdf_\u001b[0m\u001b[0;34m.\u001b[0m\u001b[0mgroupby\u001b[0m\u001b[0;34m(\u001b[0m\u001b[0;34m'ndx'\u001b[0m\u001b[0;34m)\u001b[0m\u001b[0;34m[\u001b[0m\u001b[0;34m[\u001b[0m\u001b[0;34m'khat'\u001b[0m\u001b[0;34m,\u001b[0m \u001b[0;34m'p_psis'\u001b[0m\u001b[0;34m]\u001b[0m\u001b[0;34m]\u001b[0m\u001b[0;34m.\u001b[0m\u001b[0mmin\u001b[0m\u001b[0;34m(\u001b[0m\u001b[0;34m)\u001b[0m\u001b[0;34m\u001b[0m\u001b[0;34m\u001b[0m\u001b[0m\n\u001b[1;32m      3\u001b[0m \u001b[0mok_ndx\u001b[0m \u001b[0;34m=\u001b[0m \u001b[0mdf_\u001b[0m\u001b[0;34m[\u001b[0m\u001b[0mdf_\u001b[0m\u001b[0;34m.\u001b[0m\u001b[0mkhat\u001b[0m\u001b[0;34m<\u001b[0m\u001b[0;36m0.7\u001b[0m\u001b[0;34m]\u001b[0m\u001b[0;34m.\u001b[0m\u001b[0mindex\u001b[0m\u001b[0;34m\u001b[0m\u001b[0;34m\u001b[0m\u001b[0m\n\u001b[1;32m      4\u001b[0m \u001b[0;34m\u001b[0m\u001b[0m\n",
      "\u001b[0;32m~/workspace/readmission/env/lib/python3.10/site-packages/pandas/core/frame.py\u001b[0m in \u001b[0;36m?\u001b[0;34m(self, column, ignore_index)\u001b[0m\n\u001b[1;32m   9545\u001b[0m             \u001b[0mmylen\u001b[0m \u001b[0;34m=\u001b[0m \u001b[0;32mlambda\u001b[0m \u001b[0mx\u001b[0m\u001b[0;34m:\u001b[0m \u001b[0mlen\u001b[0m\u001b[0;34m(\u001b[0m\u001b[0mx\u001b[0m\u001b[0;34m)\u001b[0m \u001b[0;32mif\u001b[0m \u001b[0;34m(\u001b[0m\u001b[0mis_list_like\u001b[0m\u001b[0;34m(\u001b[0m\u001b[0mx\u001b[0m\u001b[0;34m)\u001b[0m \u001b[0;32mand\u001b[0m \u001b[0mlen\u001b[0m\u001b[0;34m(\u001b[0m\u001b[0mx\u001b[0m\u001b[0;34m)\u001b[0m \u001b[0;34m>\u001b[0m \u001b[0;36m0\u001b[0m\u001b[0;34m)\u001b[0m \u001b[0;32melse\u001b[0m \u001b[0;36m1\u001b[0m\u001b[0;34m\u001b[0m\u001b[0;34m\u001b[0m\u001b[0m\n\u001b[1;32m   9546\u001b[0m             \u001b[0mcounts0\u001b[0m \u001b[0;34m=\u001b[0m \u001b[0mself\u001b[0m\u001b[0;34m[\u001b[0m\u001b[0mcolumns\u001b[0m\u001b[0;34m[\u001b[0m\u001b[0;36m0\u001b[0m\u001b[0;34m]\u001b[0m\u001b[0;34m]\u001b[0m\u001b[0;34m.\u001b[0m\u001b[0mapply\u001b[0m\u001b[0;34m(\u001b[0m\u001b[0mmylen\u001b[0m\u001b[0;34m)\u001b[0m\u001b[0;34m\u001b[0m\u001b[0;34m\u001b[0m\u001b[0m\n\u001b[1;32m   9547\u001b[0m             \u001b[0;32mfor\u001b[0m \u001b[0mc\u001b[0m \u001b[0;32min\u001b[0m \u001b[0mcolumns\u001b[0m\u001b[0;34m[\u001b[0m\u001b[0;36m1\u001b[0m\u001b[0;34m:\u001b[0m\u001b[0;34m]\u001b[0m\u001b[0;34m:\u001b[0m\u001b[0;34m\u001b[0m\u001b[0;34m\u001b[0m\u001b[0m\n\u001b[1;32m   9548\u001b[0m                 \u001b[0;32mif\u001b[0m \u001b[0;32mnot\u001b[0m \u001b[0mall\u001b[0m\u001b[0;34m(\u001b[0m\u001b[0mcounts0\u001b[0m \u001b[0;34m==\u001b[0m \u001b[0mself\u001b[0m\u001b[0;34m[\u001b[0m\u001b[0mc\u001b[0m\u001b[0;34m]\u001b[0m\u001b[0;34m.\u001b[0m\u001b[0mapply\u001b[0m\u001b[0;34m(\u001b[0m\u001b[0mmylen\u001b[0m\u001b[0;34m)\u001b[0m\u001b[0;34m)\u001b[0m\u001b[0;34m:\u001b[0m\u001b[0;34m\u001b[0m\u001b[0;34m\u001b[0m\u001b[0m\n\u001b[0;32m-> 9549\u001b[0;31m                     \u001b[0;32mraise\u001b[0m \u001b[0mValueError\u001b[0m\u001b[0;34m(\u001b[0m\u001b[0;34m\"columns must have matching element counts\"\u001b[0m\u001b[0;34m)\u001b[0m\u001b[0;34m\u001b[0m\u001b[0;34m\u001b[0m\u001b[0m\n\u001b[0m\u001b[1;32m   9550\u001b[0m             \u001b[0mresult\u001b[0m \u001b[0;34m=\u001b[0m \u001b[0mDataFrame\u001b[0m\u001b[0;34m(\u001b[0m\u001b[0;34m{\u001b[0m\u001b[0mc\u001b[0m\u001b[0;34m:\u001b[0m \u001b[0mdf\u001b[0m\u001b[0;34m[\u001b[0m\u001b[0mc\u001b[0m\u001b[0;34m]\u001b[0m\u001b[0;34m.\u001b[0m\u001b[0mexplode\u001b[0m\u001b[0;34m(\u001b[0m\u001b[0;34m)\u001b[0m \u001b[0;32mfor\u001b[0m \u001b[0mc\u001b[0m \u001b[0;32min\u001b[0m \u001b[0mcolumns\u001b[0m\u001b[0;34m}\u001b[0m\u001b[0;34m)\u001b[0m\u001b[0;34m\u001b[0m\u001b[0;34m\u001b[0m\u001b[0m\n\u001b[1;32m   9551\u001b[0m         \u001b[0mresult\u001b[0m \u001b[0;34m=\u001b[0m \u001b[0mdf\u001b[0m\u001b[0;34m.\u001b[0m\u001b[0mdrop\u001b[0m\u001b[0;34m(\u001b[0m\u001b[0mcolumns\u001b[0m\u001b[0;34m,\u001b[0m \u001b[0maxis\u001b[0m\u001b[0;34m=\u001b[0m\u001b[0;36m1\u001b[0m\u001b[0;34m)\u001b[0m\u001b[0;34m.\u001b[0m\u001b[0mjoin\u001b[0m\u001b[0;34m(\u001b[0m\u001b[0mresult\u001b[0m\u001b[0;34m)\u001b[0m\u001b[0;34m\u001b[0m\u001b[0;34m\u001b[0m\u001b[0m\n\u001b[1;32m   9552\u001b[0m         \u001b[0;32mif\u001b[0m \u001b[0mignore_index\u001b[0m\u001b[0;34m:\u001b[0m\u001b[0;34m\u001b[0m\u001b[0;34m\u001b[0m\u001b[0m\n",
      "\u001b[0;31mValueError\u001b[0m: columns must have matching element counts"
     ]
    }
   ],
   "source": [
    "df_ = df.explode(['khat', \"p_psis\", 'ndx'])[['ndx', 'p_psis', 'khat', 'T']]\n",
    "df_ = df_.groupby('ndx')[['khat', 'p_psis']].min()\n",
    "ok_ndx = df_[df_.khat<0.7].index\n",
    "\n",
    "from sklearn import metrics\n",
    "\n",
    "fpr, tpr, thresholds = metrics.roc_curve(y__[ok_ndx], df_.iloc[ok_ndx, :].p_psis, pos_label=1)\n"
   ]
  },
  {
   "cell_type": "code",
   "execution_count": 107,
   "metadata": {},
   "outputs": [
    {
     "data": {
      "text/plain": [
       "[<matplotlib.lines.Line2D at 0x7f31d5a4a110>]"
      ]
     },
     "execution_count": 107,
     "metadata": {},
     "output_type": "execute_result"
    },
    {
     "data": {
      "image/png": "[encoded data removed]",
      "text/plain": [
       "<Figure size 640x480 with 1 Axes>"
      ]
     },
     "metadata": {},
     "output_type": "display_data"
    }
   ],
   "source": [
    "plt.plot(fpr, tpr)"
   ]
  },
  {
   "cell_type": "code",
   "execution_count": 108,
   "metadata": {},
   "outputs": [],
   "source": [
    "step_size = 1e-3\n",
    "def prediction_fn_stepaway(data):\n",
    "    loo = adaptive_is_loo(lr_model, data, params, step_size, variational=False)\n",
    "    return loo[\"KL\"]['p_loo']\n",
    "\n",
    "def prediction_fn_loo(data):\n",
    "    pred = adaptive_is_loo(lr_model, data, params, step_size, variational=False)[\"LL\"]['p_loo']\n",
    "    return pred\n",
    "\n"
   ]
  },
  {
   "cell_type": "code",
   "execution_count": 109,
   "metadata": {},
   "outputs": [
    {
     "name": "stderr",
     "output_type": "stream",
     "text": [
      "1it [00:06,  6.39s/it]\n",
      "1it [00:06,  6.20s/it]\n"
     ]
    }
   ],
   "source": [
    "bench_stepaway_loo = classification_metrics(\n",
    "    data_factory=data_factory_factory(),\n",
    "    prediction_fn=prediction_fn_stepaway,\n",
    "    outcome_label='y',\n",
    "    by_vars=[]\n",
    ")\n",
    "\n",
    "bench_loo = classification_metrics(\n",
    "    data_factory=data_factory_factory(),\n",
    "    prediction_fn=prediction_fn_loo,\n",
    "    outcome_label='y',\n",
    "    by_vars=[]\n",
    ")\n",
    "\n"
   ]
  },
  {
   "cell_type": "code",
   "execution_count": 110,
   "metadata": {},
   "outputs": [
    {
     "data": {
      "image/png": "[encoded data removed]",
      "text/plain": [
       "<Figure size 900x200 with 2 Axes>"
      ]
     },
     "metadata": {},
     "output_type": "display_data"
    }
   ],
   "source": [
    "fig, ax = plt.subplots(1, 2, figsize=(9, 2))\n",
    "ax[0].plot(bench_loo['auroc']['fpr'], bench_loo['auroc']['tpr'])\n",
    "ax[0].text(0.5, 0.1, f\"AUROC: {round(bench_loo['auroc']['auroc'], 2)}\")\n",
    "ax[0].set_xlim((0, 1))\n",
    "ax[0].set_ylim((0, 1))\n",
    "ax[0].set_title(\"ROC\")\n",
    "\n",
    "ax[1].plot(bench_loo['auprc']['recall'], bench_loo['auprc']['precision'])\n",
    "ax[1].text(0.5, 0.8, f\"AUPRC: {round(bench_loo['auprc']['auprc'], 2)}\")\n",
    "ax[1].set_title(\"Precision-Recall\")\n",
    "ax[1].set_xlim((0, 1))\n",
    "ax[1].set_ylim((0, 1))\n",
    "\n",
    "_ = plt.savefig('roc_mcmc.pdf', bbox_inches='tight')"
   ]
  },
  {
   "cell_type": "markdown",
   "metadata": {},
   "source": [
    "# Compare with variational model"
   ]
  },
  {
   "cell_type": "code",
   "execution_count": 62,
   "metadata": {},
   "outputs": [],
   "source": [
    "lr_model2 = LogisticRegression2(\n",
    "    dim_regressors=d,\n",
    "    slab_df=slab_df,\n",
    "    slab_scale=slab_scale,\n",
    "    scale_icept=scale_icept,\n",
    "    nu_global=1,\n",
    "    nu_local=1,\n",
    "    scale_global=scale_global,\n",
    ")"
   ]
  },
  {
   "cell_type": "code",
   "execution_count": null,
   "metadata": {},
   "outputs": [],
   "source": []
  }
 ],
 "metadata": {
  "kernelspec": {
   "display_name": "env",
   "language": "python",
   "name": "python3"
  },
  "language_info": {
   "codemirror_mode": {
    "name": "ipython",
    "version": 3
   },
   "file_extension": ".py",
   "mimetype": "text/x-python",
   "name": "python",
   "nbconvert_exporter": "python",
   "pygments_lexer": "ipython3",
   "version": "3.10.12"
  }
 },
 "nbformat": 4,
 "nbformat_minor": 2
}
