{
 "cells": [
  {
   "cell_type": "code",
   "execution_count": 1,
   "metadata": {},
   "outputs": [],
   "source": [
    "%matplotlib inline\n",
    "from collections import defaultdict\n",
    "\n",
    "import matplotlib.pylab as plt\n",
    "from skimpy import skim\n",
    "import numpy as np\n",
    "import pandas as pd\n",
    "from IPython.display import display, HTML\n",
    "import seaborn as sns\n",
    "\n",
    "from tqdm import tqdm\n",
    "\n",
    "from pathlib import Path\n"
   ]
  },
  {
   "cell_type": "code",
   "execution_count": 2,
   "metadata": {},
   "outputs": [
    {
     "name": "stderr",
     "output_type": "stream",
     "text": [
      "2024-02-08 03:48:13.260341: I external/local_tsl/tsl/cuda/cudart_stub.cc:31] Could not find cuda drivers on your machine, GPU will not be used.\n",
      "2024-02-08 03:48:13.298035: E external/local_xla/xla/stream_executor/cuda/cuda_dnn.cc:9261] Unable to register cuDNN factory: Attempting to register factory for plugin cuDNN when one has already been registered\n",
      "2024-02-08 03:48:13.298077: E external/local_xla/xla/stream_executor/cuda/cuda_fft.cc:607] Unable to register cuFFT factory: Attempting to register factory for plugin cuFFT when one has already been registered\n",
      "2024-02-08 03:48:13.299497: E external/local_xla/xla/stream_executor/cuda/cuda_blas.cc:1515] Unable to register cuBLAS factory: Attempting to register factory for plugin cuBLAS when one has already been registered\n",
      "2024-02-08 03:48:13.306137: I external/local_tsl/tsl/cuda/cudart_stub.cc:31] Could not find cuda drivers on your machine, GPU will not be used.\n",
      "2024-02-08 03:48:13.306590: I tensorflow/core/platform/cpu_feature_guard.cc:182] This TensorFlow binary is optimized to use available CPU instructions in performance-critical operations.\n",
      "To enable the following instructions: AVX2 FMA, in other operations, rebuild TensorFlow with the appropriate compiler flags.\n",
      "2024-02-08 03:48:14.211722: W tensorflow/compiler/tf2tensorrt/utils/py_utils.cc:38] TF-TRT Warning: Could not find TensorRT\n"
     ]
    }
   ],
   "source": [
    "\n",
    "import tensorflow as tf\n",
    "import tensorflow_probability as tfp\n",
    "\n",
    "from bayesianquilts.models.logistic_regression import LogisticRegression\n",
    "from bayesianquilts.models.logistic_regression_reparam import LogisticRegression2\n",
    "\n",
    "from bayesianquilts.metrics.classification import classification_metrics\n",
    "from bayesianquilts.sampler import psis, nppsis"
   ]
  },
  {
   "cell_type": "code",
   "execution_count": 3,
   "metadata": {},
   "outputs": [
    {
     "name": "stdout",
     "output_type": "stream",
     "text": [
      "2.15.0 0.23.0\n"
     ]
    }
   ],
   "source": [
    "print(tf.__version__, tfp.__version__)"
   ]
  },
  {
   "cell_type": "markdown",
   "metadata": {},
   "source": [
    "# Load the dataset\n",
    "\n",
    "Using the example from here: https://www.tensorflow.org/guide/core/logistic_regression_core"
   ]
  },
  {
   "cell_type": "code",
   "execution_count": 4,
   "metadata": {},
   "outputs": [],
   "source": [
    "from ucimlrepo import fetch_ucirepo \n"
   ]
  },
  {
   "cell_type": "code",
   "execution_count": 5,
   "metadata": {},
   "outputs": [
    {
     "name": "stdout",
     "output_type": "stream",
     "text": [
      "(128000, 21)\n"
     ]
    }
   ],
   "source": [
    "use_saved = False\n",
    "\n",
    "cdc_diabetes_health_indicators = fetch_ucirepo(id=891) \n",
    "\n",
    "\n",
    "# data (as pandas dataframes) \n",
    "batch_size=128\n",
    "X_ = cdc_diabetes_health_indicators.data.features[:batch_size*1000]\n",
    "y_ = cdc_diabetes_health_indicators.data.targets[:batch_size*1000]\n",
    "\n",
    "X_ = X_.fillna(0)\n",
    "\n",
    "X_scaled = (X_ - X_.mean())/X_.std()\n",
    "X_scaled = X_scaled.fillna(0)\n",
    "n = X_scaled.shape[0]\n",
    "p = X_scaled.shape[1]\n",
    "\n",
    "print((n, p))\n"
   ]
  },
  {
   "cell_type": "code",
   "execution_count": 6,
   "metadata": {},
   "outputs": [
    {
     "data": {
      "text/plain": [
       "Index(['HighBP', 'HighChol', 'CholCheck', 'BMI', 'Smoker', 'Stroke',\n",
       "       'HeartDiseaseorAttack', 'PhysActivity', 'Fruits', 'Veggies',\n",
       "       'HvyAlcoholConsump', 'AnyHealthcare', 'NoDocbcCost', 'GenHlth',\n",
       "       'MentHlth', 'PhysHlth', 'DiffWalk', 'Sex', 'Age', 'Education',\n",
       "       'Income'],\n",
       "      dtype='object')"
      ]
     },
     "execution_count": 6,
     "metadata": {},
     "output_type": "execute_result"
    }
   ],
   "source": [
    "X_.columns"
   ]
  },
  {
   "cell_type": "code",
   "execution_count": 7,
   "metadata": {},
   "outputs": [
    {
     "data": {
      "text/html": [
       "<div>\n",
       "<style scoped>\n",
       "    .dataframe tbody tr th:only-of-type {\n",
       "        vertical-align: middle;\n",
       "    }\n",
       "\n",
       "    .dataframe tbody tr th {\n",
       "        vertical-align: top;\n",
       "    }\n",
       "\n",
       "    .dataframe thead th {\n",
       "        text-align: right;\n",
       "    }\n",
       "</style>\n",
       "<table border=\"1\" class=\"dataframe\">\n",
       "  <thead>\n",
       "    <tr style=\"text-align: right;\">\n",
       "      <th></th>\n",
       "      <th>HighBP</th>\n",
       "      <th>HighChol</th>\n",
       "      <th>CholCheck</th>\n",
       "      <th>BMI</th>\n",
       "      <th>Smoker</th>\n",
       "      <th>Stroke</th>\n",
       "      <th>HeartDiseaseorAttack</th>\n",
       "      <th>PhysActivity</th>\n",
       "      <th>Fruits</th>\n",
       "      <th>Veggies</th>\n",
       "      <th>...</th>\n",
       "      <th>AnyHealthcare</th>\n",
       "      <th>NoDocbcCost</th>\n",
       "      <th>GenHlth</th>\n",
       "      <th>MentHlth</th>\n",
       "      <th>PhysHlth</th>\n",
       "      <th>DiffWalk</th>\n",
       "      <th>Sex</th>\n",
       "      <th>Age</th>\n",
       "      <th>Education</th>\n",
       "      <th>Income</th>\n",
       "    </tr>\n",
       "  </thead>\n",
       "  <tbody>\n",
       "    <tr>\n",
       "      <th>127530</th>\n",
       "      <td>1.151445</td>\n",
       "      <td>1.159334</td>\n",
       "      <td>0.194288</td>\n",
       "      <td>0.506774</td>\n",
       "      <td>1.110418</td>\n",
       "      <td>-0.2073</td>\n",
       "      <td>-0.320922</td>\n",
       "      <td>-1.78214</td>\n",
       "      <td>0.75337</td>\n",
       "      <td>0.482402</td>\n",
       "      <td>...</td>\n",
       "      <td>0.224735</td>\n",
       "      <td>3.346593</td>\n",
       "      <td>-0.47076</td>\n",
       "      <td>0.522648</td>\n",
       "      <td>0.320183</td>\n",
       "      <td>2.241884</td>\n",
       "      <td>1.129615</td>\n",
       "      <td>-2.310598</td>\n",
       "      <td>-1.102525</td>\n",
       "      <td>-1.022175</td>\n",
       "    </tr>\n",
       "  </tbody>\n",
       "</table>\n",
       "<p>1 rows × 21 columns</p>\n",
       "</div>"
      ],
      "text/plain": [
       "          HighBP  HighChol  CholCheck       BMI    Smoker  Stroke  \\\n",
       "127530  1.151445  1.159334   0.194288  0.506774  1.110418 -0.2073   \n",
       "\n",
       "        HeartDiseaseorAttack  PhysActivity   Fruits   Veggies  ...  \\\n",
       "127530             -0.320922      -1.78214  0.75337  0.482402  ...   \n",
       "\n",
       "        AnyHealthcare  NoDocbcCost  GenHlth  MentHlth  PhysHlth  DiffWalk  \\\n",
       "127530       0.224735     3.346593 -0.47076  0.522648  0.320183  2.241884   \n",
       "\n",
       "             Sex       Age  Education    Income  \n",
       "127530  1.129615 -2.310598  -1.102525 -1.022175  \n",
       "\n",
       "[1 rows x 21 columns]"
      ]
     },
     "execution_count": 7,
     "metadata": {},
     "output_type": "execute_result"
    }
   ],
   "source": [
    "n_outliers = 1\n",
    "ndx = np.abs(X_scaled[['HighBP', 'Age',\"DiffWalk\"]]).sum(axis=1).sort_values(ascending=False)[:n_outliers].index\n",
    "outliers = X_scaled.loc[ndx]\n",
    "outliers"
   ]
  },
  {
   "cell_type": "code",
   "execution_count": 8,
   "metadata": {},
   "outputs": [
    {
     "data": {
      "text/html": [
       "<div>\n",
       "<style scoped>\n",
       "    .dataframe tbody tr th:only-of-type {\n",
       "        vertical-align: middle;\n",
       "    }\n",
       "\n",
       "    .dataframe tbody tr th {\n",
       "        vertical-align: top;\n",
       "    }\n",
       "\n",
       "    .dataframe thead th {\n",
       "        text-align: right;\n",
       "    }\n",
       "</style>\n",
       "<table border=\"1\" class=\"dataframe\">\n",
       "  <thead>\n",
       "    <tr style=\"text-align: right;\">\n",
       "      <th></th>\n",
       "      <th>Diabetes_binary</th>\n",
       "    </tr>\n",
       "  </thead>\n",
       "  <tbody>\n",
       "    <tr>\n",
       "      <th>127530</th>\n",
       "      <td>0</td>\n",
       "    </tr>\n",
       "  </tbody>\n",
       "</table>\n",
       "</div>"
      ],
      "text/plain": [
       "        Diabetes_binary\n",
       "127530                0"
      ]
     },
     "execution_count": 8,
     "metadata": {},
     "output_type": "execute_result"
    }
   ],
   "source": [
    "outliers_y = y_.loc[ndx]\n",
    "outliers_y"
   ]
  },
  {
   "cell_type": "code",
   "execution_count": 9,
   "metadata": {},
   "outputs": [
    {
     "data": {
      "text/html": [
       "<div>\n",
       "<style scoped>\n",
       "    .dataframe tbody tr th:only-of-type {\n",
       "        vertical-align: middle;\n",
       "    }\n",
       "\n",
       "    .dataframe tbody tr th {\n",
       "        vertical-align: top;\n",
       "    }\n",
       "\n",
       "    .dataframe thead th {\n",
       "        text-align: right;\n",
       "    }\n",
       "</style>\n",
       "<table border=\"1\" class=\"dataframe\">\n",
       "  <thead>\n",
       "    <tr style=\"text-align: right;\">\n",
       "      <th></th>\n",
       "      <th>HighBP</th>\n",
       "      <th>HighChol</th>\n",
       "      <th>CholCheck</th>\n",
       "      <th>BMI</th>\n",
       "      <th>Smoker</th>\n",
       "      <th>Stroke</th>\n",
       "      <th>HeartDiseaseorAttack</th>\n",
       "      <th>PhysActivity</th>\n",
       "      <th>Fruits</th>\n",
       "      <th>Veggies</th>\n",
       "      <th>...</th>\n",
       "      <th>AnyHealthcare</th>\n",
       "      <th>NoDocbcCost</th>\n",
       "      <th>GenHlth</th>\n",
       "      <th>MentHlth</th>\n",
       "      <th>PhysHlth</th>\n",
       "      <th>DiffWalk</th>\n",
       "      <th>Sex</th>\n",
       "      <th>Age</th>\n",
       "      <th>Education</th>\n",
       "      <th>Income</th>\n",
       "    </tr>\n",
       "  </thead>\n",
       "  <tbody>\n",
       "    <tr>\n",
       "      <th>127530</th>\n",
       "      <td>-11.514446</td>\n",
       "      <td>-11.593335</td>\n",
       "      <td>0.194288</td>\n",
       "      <td>-5.067738</td>\n",
       "      <td>1.110418</td>\n",
       "      <td>2.073004</td>\n",
       "      <td>3.209222</td>\n",
       "      <td>-1.78214</td>\n",
       "      <td>0.75337</td>\n",
       "      <td>0.482402</td>\n",
       "      <td>...</td>\n",
       "      <td>0.224735</td>\n",
       "      <td>-33.465929</td>\n",
       "      <td>-0.47076</td>\n",
       "      <td>0.522648</td>\n",
       "      <td>0.320183</td>\n",
       "      <td>2.241884</td>\n",
       "      <td>1.129615</td>\n",
       "      <td>23.105976</td>\n",
       "      <td>11.025248</td>\n",
       "      <td>10.22175</td>\n",
       "    </tr>\n",
       "  </tbody>\n",
       "</table>\n",
       "<p>1 rows × 21 columns</p>\n",
       "</div>"
      ],
      "text/plain": [
       "           HighBP   HighChol  CholCheck       BMI    Smoker    Stroke  \\\n",
       "127530 -11.514446 -11.593335   0.194288 -5.067738  1.110418  2.073004   \n",
       "\n",
       "        HeartDiseaseorAttack  PhysActivity   Fruits   Veggies  ...  \\\n",
       "127530              3.209222      -1.78214  0.75337  0.482402  ...   \n",
       "\n",
       "        AnyHealthcare  NoDocbcCost  GenHlth  MentHlth  PhysHlth  DiffWalk  \\\n",
       "127530       0.224735   -33.465929 -0.47076  0.522648  0.320183  2.241884   \n",
       "\n",
       "             Sex        Age  Education    Income  \n",
       "127530  1.129615  23.105976  11.025248  10.22175  \n",
       "\n",
       "[1 rows x 21 columns]"
      ]
     },
     "execution_count": 9,
     "metadata": {},
     "output_type": "execute_result"
    }
   ],
   "source": [
    "outliers[['HighBP', 'HighChol', 'BMI', 'Stroke',\n",
    "       'HeartDiseaseorAttack', 'NoDocbcCost', \n",
    "       'Age', 'Education',\n",
    "       'Income']] *= -10\n",
    "\n",
    "outliers"
   ]
  },
  {
   "cell_type": "code",
   "execution_count": null,
   "metadata": {},
   "outputs": [],
   "source": []
  },
  {
   "cell_type": "code",
   "execution_count": 10,
   "metadata": {},
   "outputs": [],
   "source": [
    "X_scaled = pd.concat([outliers, X_scaled], axis=0)\n",
    "y_ = pd.concat([outliers_y, y_], axis=0)"
   ]
  },
  {
   "cell_type": "code",
   "execution_count": 11,
   "metadata": {},
   "outputs": [
    {
     "name": "stdout",
     "output_type": "stream",
     "text": [
      "(128001, 21)\n"
     ]
    }
   ],
   "source": [
    "X_scaled = (X_scaled - X_scaled.mean())/X_scaled.std()\n",
    "X_scaled = X_scaled.fillna(0)\n",
    "n = X_scaled.shape[0]\n",
    "p = X_scaled.shape[1]\n",
    "\n",
    "print((n, p))\n"
   ]
  },
  {
   "cell_type": "code",
   "execution_count": 12,
   "metadata": {},
   "outputs": [],
   "source": [
    "\n",
    "\n",
    "tfdata = tf.data.Dataset.from_tensor_slices({'X': X_scaled, 'y':y_})\n",
    "\n",
    "def data_factory_factory(batch_size=batch_size, repeat=False, shuffle=False, omit_outlier=False):\n",
    "    if omit_outlier:\n",
    "        tfdata_ = tfdata.skip(n_outliers)\n",
    "    else:\n",
    "        tfdata_ = tfdata\n",
    "    def data_factory(batch_size=batch_size):\n",
    "        if shuffle:\n",
    "            out = tfdata_.shuffle(batch_size*10)\n",
    "        else:\n",
    "            out = tfdata_\n",
    "        \n",
    "        if repeat:\n",
    "            out = out.repeat()\n",
    "        return out.batch(batch_size)\n",
    "    return data_factory"
   ]
  },
  {
   "cell_type": "markdown",
   "metadata": {},
   "source": [
    "Instantiate the model object"
   ]
  },
  {
   "cell_type": "code",
   "execution_count": 13,
   "metadata": {},
   "outputs": [],
   "source": [
    "if not use_saved:\n",
    "    lr_model = LogisticRegression2(dim_regressors=p)\n",
    "        \n",
    "else:\n",
    "    import dill as pickle\n",
    "    import gzip\n",
    "    with gzip.open(\"breast.gz\", 'rb') as f:\n",
    "        lr_model = pickle.load(f)"
   ]
  },
  {
   "cell_type": "markdown",
   "metadata": {},
   "source": [
    "Set up Bayesian minibatch ADVI inference"
   ]
  },
  {
   "cell_type": "code",
   "execution_count": 14,
   "metadata": {},
   "outputs": [
    {
     "name": "stdout",
     "output_type": "stream",
     "text": [
      "Running optimization for 6000 steps of 20 accumulated batches, checking every 1000 steps\n",
      "Saved a checkpoint: /tmp/tfcheckpoints/c56f535c-8312-4601-8cc5-7272f7d0b065/c56f535c-8312-4601-8cc5-7272f7d0b065-1\n"
     ]
    },
    {
     "name": "stderr",
     "output_type": "stream",
     "text": [
      "  0%|          | 0/6000 [00:00<?, ?it/s]"
     ]
    },
    {
     "name": "stderr",
     "output_type": "stream",
     "text": []
    },
    {
     "ename": "ValueError",
     "evalue": "Dimensions must be equal, but are 32 and 128 for '{{node mul_5}} = Mul[T=DT_DOUBLE](mul_4, strided_slice)' with input shapes: [32,21], [1,128,21].",
     "output_type": "error",
     "traceback": [
      "\u001b[0;31m---------------------------------------------------------------------------\u001b[0m",
      "\u001b[0;31mValueError\u001b[0m                                Traceback (most recent call last)",
      "Cell \u001b[0;32mIn[14], line 3\u001b[0m\n\u001b[1;32m      1\u001b[0m \u001b[38;5;28;01mif\u001b[39;00m \u001b[38;5;129;01mnot\u001b[39;00m use_saved:\n\u001b[0;32m----> 3\u001b[0m     losses \u001b[38;5;241m=\u001b[39m \u001b[43mlr_model\u001b[49m\u001b[38;5;241;43m.\u001b[39;49m\u001b[43mfit\u001b[49m\u001b[43m(\u001b[49m\n\u001b[1;32m      4\u001b[0m \u001b[43m        \u001b[49m\u001b[43mdata_factory_factory\u001b[49m\u001b[43m(\u001b[49m\u001b[43mshuffle\u001b[49m\u001b[38;5;241;43m=\u001b[39;49m\u001b[38;5;28;43;01mTrue\u001b[39;49;00m\u001b[43m,\u001b[49m\u001b[43m \u001b[49m\u001b[43mrepeat\u001b[49m\u001b[38;5;241;43m=\u001b[39;49m\u001b[38;5;28;43;01mTrue\u001b[39;49;00m\u001b[43m,\u001b[49m\u001b[43m \u001b[49m\u001b[43momit_outlier\u001b[49m\u001b[38;5;241;43m=\u001b[39;49m\u001b[38;5;28;43;01mTrue\u001b[39;49;00m\u001b[43m)\u001b[49m\u001b[43m,\u001b[49m\n\u001b[1;32m      5\u001b[0m \u001b[43m        \u001b[49m\u001b[43mdataset_size\u001b[49m\u001b[38;5;241;43m=\u001b[39;49m\u001b[43mn\u001b[49m\u001b[43m,\u001b[49m\n\u001b[1;32m      6\u001b[0m \u001b[43m        \u001b[49m\u001b[43mbatches_per_step\u001b[49m\u001b[38;5;241;43m=\u001b[39;49m\u001b[38;5;241;43m20\u001b[39;49m\u001b[43m,\u001b[49m\n\u001b[1;32m      7\u001b[0m \u001b[43m        \u001b[49m\u001b[43mcheck_every\u001b[49m\u001b[38;5;241;43m=\u001b[39;49m\u001b[38;5;28;43mint\u001b[39;49m\u001b[43m(\u001b[49m\u001b[43mn\u001b[49m\u001b[38;5;241;43m/\u001b[39;49m\u001b[43mbatch_size\u001b[49m\u001b[43m)\u001b[49m\u001b[43m,\u001b[49m\n\u001b[1;32m      8\u001b[0m \u001b[43m        \u001b[49m\u001b[43mbatch_size\u001b[49m\u001b[38;5;241;43m=\u001b[39;49m\u001b[43mbatch_size\u001b[49m\u001b[43m,\u001b[49m\n\u001b[1;32m      9\u001b[0m \u001b[43m        \u001b[49m\u001b[43mnum_steps\u001b[49m\u001b[38;5;241;43m=\u001b[39;49m\u001b[38;5;241;43m6000\u001b[39;49m\u001b[43m,\u001b[49m\n\u001b[1;32m     10\u001b[0m \u001b[43m        \u001b[49m\u001b[43mmax_decay_steps\u001b[49m\u001b[38;5;241;43m=\u001b[39;49m\u001b[38;5;241;43m20\u001b[39;49m\u001b[43m,\u001b[49m\n\u001b[1;32m     11\u001b[0m \u001b[43m        \u001b[49m\u001b[43mmax_plateau_epochs\u001b[49m\u001b[38;5;241;43m=\u001b[39;49m\u001b[38;5;241;43m20\u001b[39;49m\u001b[43m,\u001b[49m\n\u001b[1;32m     12\u001b[0m \u001b[43m        \u001b[49m\u001b[43msample_size\u001b[49m\u001b[38;5;241;43m=\u001b[39;49m\u001b[38;5;241;43m32\u001b[39;49m\u001b[43m,\u001b[49m\n\u001b[1;32m     13\u001b[0m \u001b[43m        \u001b[49m\u001b[43mlearning_rate\u001b[49m\u001b[38;5;241;43m=\u001b[39;49m\u001b[38;5;241;43m0.0005\u001b[39;49m\u001b[43m)\u001b[49m\n\u001b[1;32m     16\u001b[0m     lr_model\u001b[38;5;241m.\u001b[39msave(\u001b[38;5;124m\"\u001b[39m\u001b[38;5;124mdiabetes\u001b[39m\u001b[38;5;124m\"\u001b[39m)\n",
      "File \u001b[0;32m~/workspace/bayesianquilts/bayesianquilts/model.py:70\u001b[0m, in \u001b[0;36mBayesianModel.fit\u001b[0;34m(self, *args, **kwargs)\u001b[0m\n\u001b[1;32m     69\u001b[0m \u001b[38;5;28;01mdef\u001b[39;00m \u001b[38;5;21mfit\u001b[39m(\u001b[38;5;28mself\u001b[39m, \u001b[38;5;241m*\u001b[39margs, \u001b[38;5;241m*\u001b[39m\u001b[38;5;241m*\u001b[39mkwargs):\n\u001b[0;32m---> 70\u001b[0m     \u001b[38;5;28;01mreturn\u001b[39;00m \u001b[38;5;28;43mself\u001b[39;49m\u001b[38;5;241;43m.\u001b[39;49m\u001b[43m_calibrate_minibatch_advi\u001b[49m\u001b[43m(\u001b[49m\u001b[38;5;241;43m*\u001b[39;49m\u001b[43margs\u001b[49m\u001b[43m,\u001b[49m\u001b[43m \u001b[49m\u001b[38;5;241;43m*\u001b[39;49m\u001b[38;5;241;43m*\u001b[39;49m\u001b[43mkwargs\u001b[49m\u001b[43m)\u001b[49m\n",
      "File \u001b[0;32m~/workspace/bayesianquilts/bayesianquilts/model.py:153\u001b[0m, in \u001b[0;36mBayesianModel._calibrate_minibatch_advi\u001b[0;34m(self, batched_data_factory, batch_size, dataset_size, num_steps, learning_rate, opt, abs_tol, rel_tol, clip_value, clip_by, max_decay_steps, lr_decay_factor, check_every, set_expectations, sample_size, sample_batches, trainable_variables, unormalized_log_prob_fn, accumulate_batches, batches_per_step, temp_dir, test_fn, **kwargs)\u001b[0m\n\u001b[1;32m    125\u001b[0m     losses \u001b[38;5;241m=\u001b[39m minibatch_fit_surrogate_posterior(\n\u001b[1;32m    126\u001b[0m         target_log_prob_fn\u001b[38;5;241m=\u001b[39munormalized_log_prob_fn\n\u001b[1;32m    127\u001b[0m         \u001b[38;5;28;01mif\u001b[39;00m unormalized_log_prob_fn \u001b[38;5;129;01mis\u001b[39;00m \u001b[38;5;129;01mnot\u001b[39;00m \u001b[38;5;28;01mNone\u001b[39;00m\n\u001b[0;32m   (...)\u001b[0m\n\u001b[1;32m    149\u001b[0m         \u001b[38;5;241m*\u001b[39m\u001b[38;5;241m*\u001b[39mkwargs,\n\u001b[1;32m    150\u001b[0m     )\n\u001b[1;32m    151\u001b[0m     \u001b[38;5;28;01mreturn\u001b[39;00m losses\n\u001b[0;32m--> 153\u001b[0m losses \u001b[38;5;241m=\u001b[39m \u001b[43mrun_approximation\u001b[49m\u001b[43m(\u001b[49m\u001b[43mnum_steps\u001b[49m\u001b[43m)\u001b[49m\n\u001b[1;32m    154\u001b[0m \u001b[38;5;28;01mif\u001b[39;00m set_expectations:\n\u001b[1;32m    155\u001b[0m     \u001b[38;5;28;01mif\u001b[39;00m (\u001b[38;5;129;01mnot\u001b[39;00m np\u001b[38;5;241m.\u001b[39misnan(losses[\u001b[38;5;241m-\u001b[39m\u001b[38;5;241m1\u001b[39m])) \u001b[38;5;129;01mand\u001b[39;00m (\u001b[38;5;129;01mnot\u001b[39;00m np\u001b[38;5;241m.\u001b[39misinf(losses[\u001b[38;5;241m-\u001b[39m\u001b[38;5;241m1\u001b[39m])):\n",
      "File \u001b[0;32m~/workspace/bayesianquilts/bayesianquilts/model.py:125\u001b[0m, in \u001b[0;36mBayesianModel._calibrate_minibatch_advi.<locals>.run_approximation\u001b[0;34m(num_steps)\u001b[0m\n\u001b[1;32m    124\u001b[0m \u001b[38;5;28;01mdef\u001b[39;00m \u001b[38;5;21mrun_approximation\u001b[39m(num_steps):\n\u001b[0;32m--> 125\u001b[0m     losses \u001b[38;5;241m=\u001b[39m \u001b[43mminibatch_fit_surrogate_posterior\u001b[49m\u001b[43m(\u001b[49m\n\u001b[1;32m    126\u001b[0m \u001b[43m        \u001b[49m\u001b[43mtarget_log_prob_fn\u001b[49m\u001b[38;5;241;43m=\u001b[39;49m\u001b[43munormalized_log_prob_fn\u001b[49m\n\u001b[1;32m    127\u001b[0m \u001b[43m        \u001b[49m\u001b[38;5;28;43;01mif\u001b[39;49;00m\u001b[43m \u001b[49m\u001b[43munormalized_log_prob_fn\u001b[49m\u001b[43m \u001b[49m\u001b[38;5;129;43;01mis\u001b[39;49;00m\u001b[43m \u001b[49m\u001b[38;5;129;43;01mnot\u001b[39;49;00m\u001b[43m \u001b[49m\u001b[38;5;28;43;01mNone\u001b[39;49;00m\n\u001b[1;32m    128\u001b[0m \u001b[43m        \u001b[49m\u001b[38;5;28;43;01melse\u001b[39;49;00m\u001b[43m \u001b[49m\u001b[38;5;28;43mself\u001b[39;49m\u001b[38;5;241;43m.\u001b[39;49m\u001b[43munormalized_log_prob\u001b[49m\u001b[43m,\u001b[49m\n\u001b[1;32m    129\u001b[0m \u001b[43m        \u001b[49m\u001b[43msurrogate_posterior\u001b[49m\u001b[38;5;241;43m=\u001b[39;49m\u001b[38;5;28;43mself\u001b[39;49m\u001b[38;5;241;43m.\u001b[39;49m\u001b[43msurrogate_distribution\u001b[49m\u001b[43m,\u001b[49m\n\u001b[1;32m    130\u001b[0m \u001b[43m        \u001b[49m\u001b[43mdataset_size\u001b[49m\u001b[38;5;241;43m=\u001b[39;49m\u001b[43mdataset_size\u001b[49m\u001b[43m,\u001b[49m\n\u001b[1;32m    131\u001b[0m \u001b[43m        \u001b[49m\u001b[43mbatch_size\u001b[49m\u001b[38;5;241;43m=\u001b[39;49m\u001b[43mbatch_size\u001b[49m\u001b[43m,\u001b[49m\n\u001b[1;32m    132\u001b[0m \u001b[43m        \u001b[49m\u001b[43mnum_steps\u001b[49m\u001b[38;5;241;43m=\u001b[39;49m\u001b[43mnum_steps\u001b[49m\u001b[43m,\u001b[49m\n\u001b[1;32m    133\u001b[0m \u001b[43m        \u001b[49m\u001b[43msample_size\u001b[49m\u001b[38;5;241;43m=\u001b[39;49m\u001b[43msample_size\u001b[49m\u001b[43m,\u001b[49m\n\u001b[1;32m    134\u001b[0m \u001b[43m        \u001b[49m\u001b[43msample_batches\u001b[49m\u001b[38;5;241;43m=\u001b[39;49m\u001b[43msample_batches\u001b[49m\u001b[43m,\u001b[49m\n\u001b[1;32m    135\u001b[0m \u001b[43m        \u001b[49m\u001b[43mlearning_rate\u001b[49m\u001b[38;5;241;43m=\u001b[39;49m\u001b[43mlearning_rate\u001b[49m\u001b[43m,\u001b[49m\n\u001b[1;32m    136\u001b[0m \u001b[43m        \u001b[49m\u001b[43mmax_decay_steps\u001b[49m\u001b[38;5;241;43m=\u001b[39;49m\u001b[43mmax_decay_steps\u001b[49m\u001b[43m,\u001b[49m\n\u001b[1;32m    137\u001b[0m \u001b[43m        \u001b[49m\u001b[43mdecay_rate\u001b[49m\u001b[38;5;241;43m=\u001b[39;49m\u001b[43mlr_decay_factor\u001b[49m\u001b[43m,\u001b[49m\n\u001b[1;32m    138\u001b[0m \u001b[43m        \u001b[49m\u001b[43mabs_tol\u001b[49m\u001b[38;5;241;43m=\u001b[39;49m\u001b[43mabs_tol\u001b[49m\u001b[43m,\u001b[49m\n\u001b[1;32m    139\u001b[0m \u001b[43m        \u001b[49m\u001b[43mrel_tol\u001b[49m\u001b[38;5;241;43m=\u001b[39;49m\u001b[43mrel_tol\u001b[49m\u001b[43m,\u001b[49m\n\u001b[1;32m    140\u001b[0m \u001b[43m        \u001b[49m\u001b[43mclip_value\u001b[49m\u001b[38;5;241;43m=\u001b[39;49m\u001b[43mclip_value\u001b[49m\u001b[43m,\u001b[49m\n\u001b[1;32m    141\u001b[0m \u001b[43m        \u001b[49m\u001b[43mclip_by\u001b[49m\u001b[38;5;241;43m=\u001b[39;49m\u001b[43mclip_by\u001b[49m\u001b[43m,\u001b[49m\n\u001b[1;32m    142\u001b[0m \u001b[43m        \u001b[49m\u001b[43mcheck_every\u001b[49m\u001b[38;5;241;43m=\u001b[39;49m\u001b[43mcheck_every\u001b[49m\u001b[43m,\u001b[49m\n\u001b[1;32m    143\u001b[0m \u001b[43m        \u001b[49m\u001b[43mstrategy\u001b[49m\u001b[38;5;241;43m=\u001b[39;49m\u001b[38;5;28;43mself\u001b[39;49m\u001b[38;5;241;43m.\u001b[39;49m\u001b[43mstrategy\u001b[49m\u001b[43m,\u001b[49m\n\u001b[1;32m    144\u001b[0m \u001b[43m        \u001b[49m\u001b[43maccumulate_batches\u001b[49m\u001b[38;5;241;43m=\u001b[39;49m\u001b[43maccumulate_batches\u001b[49m\u001b[43m,\u001b[49m\n\u001b[1;32m    145\u001b[0m \u001b[43m        \u001b[49m\u001b[43mbatches_per_step\u001b[49m\u001b[38;5;241;43m=\u001b[39;49m\u001b[43mbatches_per_step\u001b[49m\u001b[43m,\u001b[49m\n\u001b[1;32m    146\u001b[0m \u001b[43m        \u001b[49m\u001b[43mtrainable_variables\u001b[49m\u001b[38;5;241;43m=\u001b[39;49m\u001b[43mtrainable_variables\u001b[49m\u001b[43m,\u001b[49m\n\u001b[1;32m    147\u001b[0m \u001b[43m        \u001b[49m\u001b[43mbatched_data_factory\u001b[49m\u001b[38;5;241;43m=\u001b[39;49m\u001b[43mbatched_data_factory\u001b[49m\u001b[43m,\u001b[49m\n\u001b[1;32m    148\u001b[0m \u001b[43m        \u001b[49m\u001b[43mtest_fn\u001b[49m\u001b[38;5;241;43m=\u001b[39;49m\u001b[43mtest_fn\u001b[49m\u001b[43m,\u001b[49m\n\u001b[1;32m    149\u001b[0m \u001b[43m        \u001b[49m\u001b[38;5;241;43m*\u001b[39;49m\u001b[38;5;241;43m*\u001b[39;49m\u001b[43mkwargs\u001b[49m\u001b[43m,\u001b[49m\n\u001b[1;32m    150\u001b[0m \u001b[43m    \u001b[49m\u001b[43m)\u001b[49m\n\u001b[1;32m    151\u001b[0m     \u001b[38;5;28;01mreturn\u001b[39;00m losses\n",
      "File \u001b[0;32m~/workspace/bayesianquilts/bayesianquilts/vi/minibatch.py:181\u001b[0m, in \u001b[0;36mminibatch_fit_surrogate_posterior\u001b[0;34m(target_log_prob_fn, surrogate_posterior, batched_data_factory, batch_size, dataset_size, num_steps, trace_fn, sample_size, sample_batches, check_every, decay_rate, learning_rate, clip_value, clip_by, trainable_variables, jit_compile, accumulate_batches, batches_per_step, abs_tol, rel_tol, strategy, name, test_fn, **kwargs)\u001b[0m\n\u001b[1;32m    159\u001b[0m \u001b[38;5;250m    \u001b[39m\u001b[38;5;124;03m\"\"\"This becomes the loss function called in the\u001b[39;00m\n\u001b[1;32m    160\u001b[0m \u001b[38;5;124;03m    optimization loop\u001b[39;00m\n\u001b[1;32m    161\u001b[0m \n\u001b[0;32m   (...)\u001b[0m\n\u001b[1;32m    166\u001b[0m \u001b[38;5;124;03m        [type] -- [description]\u001b[39;00m\n\u001b[1;32m    167\u001b[0m \u001b[38;5;124;03m    \"\"\"\u001b[39;00m\n\u001b[1;32m    168\u001b[0m     \u001b[38;5;28;01mreturn\u001b[39;00m minibatch_mc_variational_loss(\n\u001b[1;32m    169\u001b[0m         target_log_prob_fn,\n\u001b[1;32m    170\u001b[0m         surrogate_posterior,\n\u001b[0;32m   (...)\u001b[0m\n\u001b[1;32m    178\u001b[0m         \u001b[38;5;241m*\u001b[39m\u001b[38;5;241m*\u001b[39mkwargs,\n\u001b[1;32m    179\u001b[0m     )\n\u001b[0;32m--> 181\u001b[0m \u001b[38;5;28;01mreturn\u001b[39;00m \u001b[43mbatched_minimize\u001b[49m\u001b[43m(\u001b[49m\n\u001b[1;32m    182\u001b[0m \u001b[43m    \u001b[49m\u001b[43mcomplete_variational_loss_fn\u001b[49m\u001b[43m,\u001b[49m\n\u001b[1;32m    183\u001b[0m \u001b[43m    \u001b[49m\u001b[43mbatched_data_factory\u001b[49m\u001b[38;5;241;43m=\u001b[39;49m\u001b[43mbatched_data_factory\u001b[49m\u001b[43m,\u001b[49m\n\u001b[1;32m    184\u001b[0m \u001b[43m    \u001b[49m\u001b[43mnum_steps\u001b[49m\u001b[38;5;241;43m=\u001b[39;49m\u001b[43mnum_steps\u001b[49m\u001b[43m,\u001b[49m\n\u001b[1;32m    185\u001b[0m \u001b[43m    \u001b[49m\u001b[43mtrace_fn\u001b[49m\u001b[38;5;241;43m=\u001b[39;49m\u001b[43mtrace_fn\u001b[49m\u001b[43m,\u001b[49m\n\u001b[1;32m    186\u001b[0m \u001b[43m    \u001b[49m\u001b[43mlearning_rate\u001b[49m\u001b[38;5;241;43m=\u001b[39;49m\u001b[43mlearning_rate\u001b[49m\u001b[43m,\u001b[49m\n\u001b[1;32m    187\u001b[0m \u001b[43m    \u001b[49m\u001b[43mtrainable_variables\u001b[49m\u001b[38;5;241;43m=\u001b[39;49m\u001b[43mtrainable_variables\u001b[49m\u001b[43m,\u001b[49m\n\u001b[1;32m    188\u001b[0m \u001b[43m    \u001b[49m\u001b[43mabs_tol\u001b[49m\u001b[38;5;241;43m=\u001b[39;49m\u001b[43mabs_tol\u001b[49m\u001b[43m,\u001b[49m\n\u001b[1;32m    189\u001b[0m \u001b[43m    \u001b[49m\u001b[43mrel_tol\u001b[49m\u001b[38;5;241;43m=\u001b[39;49m\u001b[43mrel_tol\u001b[49m\u001b[43m,\u001b[49m\n\u001b[1;32m    190\u001b[0m \u001b[43m    \u001b[49m\u001b[43mclip_value\u001b[49m\u001b[38;5;241;43m=\u001b[39;49m\u001b[43mclip_value\u001b[49m\u001b[43m,\u001b[49m\n\u001b[1;32m    191\u001b[0m \u001b[43m    \u001b[49m\u001b[43mclip_by\u001b[49m\u001b[38;5;241;43m=\u001b[39;49m\u001b[43mclip_by\u001b[49m\u001b[43m,\u001b[49m\n\u001b[1;32m    192\u001b[0m \u001b[43m    \u001b[49m\u001b[43maccumulate_batches\u001b[49m\u001b[38;5;241;43m=\u001b[39;49m\u001b[43maccumulate_batches\u001b[49m\u001b[43m,\u001b[49m\n\u001b[1;32m    193\u001b[0m \u001b[43m    \u001b[49m\u001b[43mbatches_per_step\u001b[49m\u001b[38;5;241;43m=\u001b[39;49m\u001b[43mbatches_per_step\u001b[49m\u001b[43m,\u001b[49m\n\u001b[1;32m    194\u001b[0m \u001b[43m    \u001b[49m\u001b[43mdecay_rate\u001b[49m\u001b[38;5;241;43m=\u001b[39;49m\u001b[43mdecay_rate\u001b[49m\u001b[43m,\u001b[49m\n\u001b[1;32m    195\u001b[0m \u001b[43m    \u001b[49m\u001b[43mcheck_every\u001b[49m\u001b[38;5;241;43m=\u001b[39;49m\u001b[43mcheck_every\u001b[49m\u001b[43m,\u001b[49m\n\u001b[1;32m    196\u001b[0m \u001b[43m    \u001b[49m\u001b[43mtest_fn\u001b[49m\u001b[38;5;241;43m=\u001b[39;49m\u001b[43mtest_fn\u001b[49m\u001b[43m,\u001b[49m\n\u001b[1;32m    197\u001b[0m \u001b[43m    \u001b[49m\u001b[38;5;241;43m*\u001b[39;49m\u001b[38;5;241;43m*\u001b[39;49m\u001b[43mkwargs\u001b[49m\u001b[43m,\u001b[49m\n\u001b[1;32m    198\u001b[0m \u001b[43m\u001b[49m\u001b[43m)\u001b[49m\n",
      "File \u001b[0;32m~/workspace/bayesianquilts/bayesianquilts/util.py:209\u001b[0m, in \u001b[0;36mbatched_minimize\u001b[0;34m(loss_fn, batched_data_factory, batches_per_step, num_steps, max_plateau_epochs, plateau_epochs_til_restore, abs_tol, rel_tol, trainable_variables, trace_fn, learning_rate, decay_rate, max_decay_steps, checkpoint_name, processing_fn, name, check_every, clip_value, clip_norm, test_fn, verbose, debug, temp_dir, **kwargs)\u001b[0m\n\u001b[1;32m    206\u001b[0m \u001b[38;5;28;01mif\u001b[39;00m processing_fn \u001b[38;5;129;01mis\u001b[39;00m \u001b[38;5;129;01mnot\u001b[39;00m \u001b[38;5;28;01mNone\u001b[39;00m:\n\u001b[1;32m    207\u001b[0m     data \u001b[38;5;241m=\u001b[39m processing_fn(data)\n\u001b[0;32m--> 209\u001b[0m batch_loss, grads \u001b[38;5;241m=\u001b[39m \u001b[43maccumulate_grads\u001b[49m\u001b[43m(\u001b[49m\n\u001b[1;32m    210\u001b[0m \u001b[43m    \u001b[49m\u001b[43mdata\u001b[49m\u001b[43m,\u001b[49m\u001b[43m \u001b[49m\u001b[43mgradient_accumulation\u001b[49m\u001b[43m,\u001b[49m\u001b[43m \u001b[49m\u001b[43mwatched_variables\u001b[49m\n\u001b[1;32m    211\u001b[0m \u001b[43m\u001b[49m\u001b[43m)\u001b[49m\n\u001b[1;32m    212\u001b[0m pbar\u001b[38;5;241m.\u001b[39mupdate(\u001b[38;5;241m1\u001b[39m)\n\u001b[1;32m    214\u001b[0m \u001b[38;5;28;01mif\u001b[39;00m np\u001b[38;5;241m.\u001b[39misfinite(batch_loss\u001b[38;5;241m.\u001b[39mnumpy()):\n",
      "File \u001b[0;32m~/workspace/readmission/env/lib/python3.10/site-packages/tensorflow/python/util/traceback_utils.py:153\u001b[0m, in \u001b[0;36mfilter_traceback.<locals>.error_handler\u001b[0;34m(*args, **kwargs)\u001b[0m\n\u001b[1;32m    151\u001b[0m \u001b[38;5;28;01mexcept\u001b[39;00m \u001b[38;5;167;01mException\u001b[39;00m \u001b[38;5;28;01mas\u001b[39;00m e:\n\u001b[1;32m    152\u001b[0m   filtered_tb \u001b[38;5;241m=\u001b[39m _process_traceback_frames(e\u001b[38;5;241m.\u001b[39m__traceback__)\n\u001b[0;32m--> 153\u001b[0m   \u001b[38;5;28;01mraise\u001b[39;00m e\u001b[38;5;241m.\u001b[39mwith_traceback(filtered_tb) \u001b[38;5;28;01mfrom\u001b[39;00m \u001b[38;5;28;01mNone\u001b[39;00m\n\u001b[1;32m    154\u001b[0m \u001b[38;5;28;01mfinally\u001b[39;00m:\n\u001b[1;32m    155\u001b[0m   \u001b[38;5;28;01mdel\u001b[39;00m filtered_tb\n",
      "File \u001b[0;32m~/workspace/bayesianquilts/bayesianquilts/util.py:106\u001b[0m, in \u001b[0;36mbatched_minimize.<locals>.accumulate_grads\u001b[0;34m(data, gradient_accumulation, trainable_variables)\u001b[0m\n\u001b[1;32m    104\u001b[0m     \u001b[38;5;28;01mfor\u001b[39;00m v \u001b[38;5;129;01min\u001b[39;00m trainable_variables \u001b[38;5;129;01mor\u001b[39;00m []:\n\u001b[1;32m    105\u001b[0m         tape\u001b[38;5;241m.\u001b[39mwatch(v)\n\u001b[0;32m--> 106\u001b[0m     loss \u001b[38;5;241m=\u001b[39m \u001b[43mloss_fn\u001b[49m\u001b[43m(\u001b[49m\u001b[43mdata\u001b[49m\u001b[38;5;241;43m=\u001b[39;49m\u001b[43mdata\u001b[49m\u001b[43m)\u001b[49m\n\u001b[1;32m    107\u001b[0m \u001b[38;5;66;03m# watched_variables = tape.watched_variables()\u001b[39;00m\n\u001b[1;32m    108\u001b[0m grads \u001b[38;5;241m=\u001b[39m tape\u001b[38;5;241m.\u001b[39mgradient(loss, trainable_variables)\n",
      "File \u001b[0;32m~/workspace/bayesianquilts/bayesianquilts/vi/minibatch.py:168\u001b[0m, in \u001b[0;36mminibatch_fit_surrogate_posterior.<locals>.complete_variational_loss_fn\u001b[0;34m(data)\u001b[0m\n\u001b[1;32m    158\u001b[0m \u001b[38;5;28;01mdef\u001b[39;00m \u001b[38;5;21mcomplete_variational_loss_fn\u001b[39m(data\u001b[38;5;241m=\u001b[39m\u001b[38;5;28;01mNone\u001b[39;00m):\n\u001b[1;32m    159\u001b[0m \u001b[38;5;250m    \u001b[39m\u001b[38;5;124;03m\"\"\"This becomes the loss function called in the\u001b[39;00m\n\u001b[1;32m    160\u001b[0m \u001b[38;5;124;03m    optimization loop\u001b[39;00m\n\u001b[1;32m    161\u001b[0m \n\u001b[0;32m   (...)\u001b[0m\n\u001b[1;32m    166\u001b[0m \u001b[38;5;124;03m        [type] -- [description]\u001b[39;00m\n\u001b[1;32m    167\u001b[0m \u001b[38;5;124;03m    \"\"\"\u001b[39;00m\n\u001b[0;32m--> 168\u001b[0m     \u001b[38;5;28;01mreturn\u001b[39;00m \u001b[43mminibatch_mc_variational_loss\u001b[49m\u001b[43m(\u001b[49m\n\u001b[1;32m    169\u001b[0m \u001b[43m        \u001b[49m\u001b[43mtarget_log_prob_fn\u001b[49m\u001b[43m,\u001b[49m\n\u001b[1;32m    170\u001b[0m \u001b[43m        \u001b[49m\u001b[43msurrogate_posterior\u001b[49m\u001b[43m,\u001b[49m\n\u001b[1;32m    171\u001b[0m \u001b[43m        \u001b[49m\u001b[43msample_size\u001b[49m\u001b[38;5;241;43m=\u001b[39;49m\u001b[43msample_size\u001b[49m\u001b[43m,\u001b[49m\n\u001b[1;32m    172\u001b[0m \u001b[43m        \u001b[49m\u001b[43msample_batches\u001b[49m\u001b[38;5;241;43m=\u001b[39;49m\u001b[43msample_batches\u001b[49m\u001b[43m,\u001b[49m\n\u001b[1;32m    173\u001b[0m \u001b[43m        \u001b[49m\u001b[43mdata\u001b[49m\u001b[38;5;241;43m=\u001b[39;49m\u001b[43mdata\u001b[49m\u001b[43m,\u001b[49m\n\u001b[1;32m    174\u001b[0m \u001b[43m        \u001b[49m\u001b[43mdataset_size\u001b[49m\u001b[38;5;241;43m=\u001b[39;49m\u001b[43mdataset_size\u001b[49m\u001b[43m,\u001b[49m\n\u001b[1;32m    175\u001b[0m \u001b[43m        \u001b[49m\u001b[43mbatch_size\u001b[49m\u001b[38;5;241;43m=\u001b[39;49m\u001b[43mbatch_size\u001b[49m\u001b[43m,\u001b[49m\n\u001b[1;32m    176\u001b[0m \u001b[43m        \u001b[49m\u001b[43mstrategy\u001b[49m\u001b[38;5;241;43m=\u001b[39;49m\u001b[43mstrategy\u001b[49m\u001b[43m,\u001b[49m\n\u001b[1;32m    177\u001b[0m \u001b[43m        \u001b[49m\u001b[43mname\u001b[49m\u001b[38;5;241;43m=\u001b[39;49m\u001b[43mname\u001b[49m\u001b[43m,\u001b[49m\n\u001b[1;32m    178\u001b[0m \u001b[43m        \u001b[49m\u001b[38;5;241;43m*\u001b[39;49m\u001b[38;5;241;43m*\u001b[39;49m\u001b[43mkwargs\u001b[49m\u001b[43m,\u001b[49m\n\u001b[1;32m    179\u001b[0m \u001b[43m    \u001b[49m\u001b[43m)\u001b[49m\n",
      "File \u001b[0;32m~/workspace/bayesianquilts/bayesianquilts/vi/minibatch.py:124\u001b[0m, in \u001b[0;36mminibatch_mc_variational_loss\u001b[0;34m(target_log_prob_fn, surrogate_posterior, dataset_size, batch_size, data, sample_size, sample_batches, importance_sample_size, discrepancy_fn, use_reparameterization, gradient_estimator, stopped_surrogate_posterior, seed, cost, **kwargs)\u001b[0m\n\u001b[1;32m    104\u001b[0m         batch_expectations \u001b[38;5;241m+\u001b[39m\u001b[38;5;241m=\u001b[39m [\n\u001b[1;32m    105\u001b[0m             monte_carlo\u001b[38;5;241m.\u001b[39mexpectation(\n\u001b[1;32m    106\u001b[0m                 f\u001b[38;5;241m=\u001b[39mcsiszar_divergence\u001b[38;5;241m.\u001b[39m_make_importance_weighted_divergence_fn(\n\u001b[0;32m   (...)\u001b[0m\n\u001b[1;32m    121\u001b[0m             )\n\u001b[1;32m    122\u001b[0m         ]\n\u001b[1;32m    123\u001b[0m     \u001b[38;5;28;01melse\u001b[39;00m:\n\u001b[0;32m--> 124\u001b[0m         batch_expectations \u001b[38;5;241m+\u001b[39m\u001b[38;5;241m=\u001b[39m [\u001b[43msample_expected_elbo\u001b[49m\u001b[43m(\u001b[49m\u001b[43mq_samples\u001b[49m\u001b[43m,\u001b[49m\u001b[43m \u001b[49m\u001b[43mq_lp\u001b[49m\u001b[43m)\u001b[49m]\n\u001b[1;32m    125\u001b[0m batch_expectations \u001b[38;5;241m=\u001b[39m tf\u001b[38;5;241m.\u001b[39mreduce_mean(batch_expectations, axis\u001b[38;5;241m=\u001b[39m\u001b[38;5;241m0\u001b[39m)\n\u001b[1;32m    126\u001b[0m \u001b[38;5;28;01mreturn\u001b[39;00m batch_expectations\n",
      "File \u001b[0;32m~/workspace/bayesianquilts/bayesianquilts/vi/minibatch.py:92\u001b[0m, in \u001b[0;36mminibatch_mc_variational_loss.<locals>.sample_expected_elbo\u001b[0;34m(q_samples, q_lp)\u001b[0m\n\u001b[1;32m     90\u001b[0m \u001b[38;5;28;01mdef\u001b[39;00m \u001b[38;5;21msample_expected_elbo\u001b[39m(q_samples, q_lp):\n\u001b[0;32m---> 92\u001b[0m     penalized_ll \u001b[38;5;241m=\u001b[39m \u001b[43mtarget_log_prob_fn\u001b[49m\u001b[43m(\u001b[49m\n\u001b[1;32m     93\u001b[0m \u001b[43m        \u001b[49m\u001b[43mdata\u001b[49m\u001b[38;5;241;43m=\u001b[39;49m\u001b[43mdata\u001b[49m\u001b[43m,\u001b[49m\n\u001b[1;32m     94\u001b[0m \u001b[43m        \u001b[49m\u001b[43mprior_weight\u001b[49m\u001b[38;5;241;43m=\u001b[39;49m\u001b[43mtf\u001b[49m\u001b[38;5;241;43m.\u001b[39;49m\u001b[43mconstant\u001b[49m\u001b[43m(\u001b[49m\u001b[43mbatch_size\u001b[49m\u001b[43m \u001b[49m\u001b[38;5;241;43m/\u001b[39;49m\u001b[43m \u001b[49m\u001b[43mdataset_size\u001b[49m\u001b[43m)\u001b[49m\u001b[43m,\u001b[49m\n\u001b[1;32m     95\u001b[0m \u001b[43m        \u001b[49m\u001b[38;5;241;43m*\u001b[39;49m\u001b[38;5;241;43m*\u001b[39;49m\u001b[43mq_samples\u001b[49m\u001b[43m,\u001b[49m\n\u001b[1;32m     96\u001b[0m \u001b[43m    \u001b[49m\u001b[43m)\u001b[49m\n\u001b[1;32m     97\u001b[0m     expected_elbo \u001b[38;5;241m=\u001b[39m tf\u001b[38;5;241m.\u001b[39mreduce_mean(q_lp \u001b[38;5;241m*\u001b[39m batch_size \u001b[38;5;241m/\u001b[39m dataset_size \u001b[38;5;241m-\u001b[39m penalized_ll)\n\u001b[1;32m     99\u001b[0m     \u001b[38;5;28;01mreturn\u001b[39;00m expected_elbo\n",
      "File \u001b[0;32m~/workspace/bayesianquilts/bayesianquilts/models/logistic_regression_reparam.py:146\u001b[0m, in \u001b[0;36mLogisticRegression2.unormalized_log_prob\u001b[0;34m(self, data, **params)\u001b[0m\n\u001b[1;32m    145\u001b[0m \u001b[38;5;28;01mdef\u001b[39;00m \u001b[38;5;21munormalized_log_prob\u001b[39m(\u001b[38;5;28mself\u001b[39m, data\u001b[38;5;241m=\u001b[39m\u001b[38;5;28;01mNone\u001b[39;00m, \u001b[38;5;241m*\u001b[39m\u001b[38;5;241m*\u001b[39mparams):\n\u001b[0;32m--> 146\u001b[0m     prediction \u001b[38;5;241m=\u001b[39m \u001b[38;5;28;43mself\u001b[39;49m\u001b[38;5;241;43m.\u001b[39;49m\u001b[43mpredictive_distribution\u001b[49m\u001b[43m(\u001b[49m\u001b[43mdata\u001b[49m\u001b[43m,\u001b[49m\u001b[43m \u001b[49m\u001b[38;5;241;43m*\u001b[39;49m\u001b[38;5;241;43m*\u001b[39;49m\u001b[43mparams\u001b[49m\u001b[43m)\u001b[49m\n\u001b[1;32m    147\u001b[0m     log_likelihood \u001b[38;5;241m=\u001b[39m prediction[\u001b[38;5;124m\"\u001b[39m\u001b[38;5;124mlog_likelihood\u001b[39m\u001b[38;5;124m\"\u001b[39m]\n\u001b[1;32m    148\u001b[0m     max_val \u001b[38;5;241m=\u001b[39m tf\u001b[38;5;241m.\u001b[39mreduce_max(log_likelihood)\n",
      "File \u001b[0;32m~/workspace/bayesianquilts/bayesianquilts/models/logistic_regression_reparam.py:122\u001b[0m, in \u001b[0;36mLogisticRegression2.predictive_distribution\u001b[0;34m(self, data, **params)\u001b[0m\n\u001b[1;32m    117\u001b[0m \u001b[38;5;66;03m# compute regression product\u001b[39;00m\n\u001b[1;32m    118\u001b[0m X \u001b[38;5;241m=\u001b[39m tf\u001b[38;5;241m.\u001b[39mcast(\n\u001b[1;32m    119\u001b[0m     processed[\u001b[38;5;124m\"\u001b[39m\u001b[38;5;124mX\u001b[39m\u001b[38;5;124m\"\u001b[39m],\n\u001b[1;32m    120\u001b[0m     \u001b[38;5;28mself\u001b[39m\u001b[38;5;241m.\u001b[39mdtype,\n\u001b[1;32m    121\u001b[0m )\n\u001b[0;32m--> 122\u001b[0m mu \u001b[38;5;241m=\u001b[39m \u001b[43mbeta\u001b[49m\u001b[43m \u001b[49m\u001b[38;5;241;43m*\u001b[39;49m\u001b[43m \u001b[49m\u001b[43mX\u001b[49m\u001b[43m[\u001b[49m\u001b[43mtf\u001b[49m\u001b[38;5;241;43m.\u001b[39;49m\u001b[43mnewaxis\u001b[49m\u001b[43m,\u001b[49m\u001b[43m \u001b[49m\u001b[38;5;241;43m.\u001b[39;49m\u001b[38;5;241;43m.\u001b[39;49m\u001b[38;5;241;43m.\u001b[39;49m\u001b[43m]\u001b[49m\n\u001b[1;32m    123\u001b[0m mu \u001b[38;5;241m=\u001b[39m tf\u001b[38;5;241m.\u001b[39mreduce_sum(mu, \u001b[38;5;241m-\u001b[39m\u001b[38;5;241m1\u001b[39m) \u001b[38;5;241m+\u001b[39m params[\u001b[38;5;124m\"\u001b[39m\u001b[38;5;124mbeta0\u001b[39m\u001b[38;5;124m\"\u001b[39m]\n\u001b[1;32m    125\u001b[0m \u001b[38;5;66;03m# assemble outcome random vars\u001b[39;00m\n",
      "\u001b[0;31mValueError\u001b[0m: Dimensions must be equal, but are 32 and 128 for '{{node mul_5}} = Mul[T=DT_DOUBLE](mul_4, strided_slice)' with input shapes: [32,21], [1,128,21]."
     ]
    }
   ],
   "source": [
    "if not use_saved:\n",
    "\n",
    "    losses = lr_model.fit(\n",
    "        data_factory_factory(shuffle=True, repeat=True, omit_outlier=True),\n",
    "        dataset_size=n,\n",
    "        batches_per_step=20,\n",
    "        check_every=int(n/batch_size),\n",
    "        batch_size=batch_size,\n",
    "        num_steps=6000,\n",
    "        max_decay_steps=20,\n",
    "        max_plateau_epochs=20,\n",
    "        sample_size=32,\n",
    "        learning_rate=0.0005)\n",
    "        \n",
    "\n",
    "    lr_model.save(\"diabetes\")\n"
   ]
  },
  {
   "cell_type": "code",
   "execution_count": 15,
   "metadata": {},
   "outputs": [
    {
     "name": "stderr",
     "output_type": "stream",
     "text": [
      "0it [00:00, ?it/s]"
     ]
    },
    {
     "name": "stderr",
     "output_type": "stream",
     "text": [
      "1001it [01:18, 12.75it/s]\n"
     ]
    },
    {
     "ename": "ValueError",
     "evalue": "all the input arrays must have same number of dimensions, but the array at index 0 has 1 dimension(s) and the array at index 1000 has 0 dimension(s)",
     "output_type": "error",
     "traceback": [
      "\u001b[0;31m---------------------------------------------------------------------------\u001b[0m",
      "\u001b[0;31mValueError\u001b[0m                                Traceback (most recent call last)",
      "Cell \u001b[0;32mIn[15], line 6\u001b[0m\n\u001b[1;32m      3\u001b[0m     pred \u001b[38;5;241m=\u001b[39m lr_model\u001b[38;5;241m.\u001b[39mpredictive_distribution(data, \u001b[38;5;241m*\u001b[39m\u001b[38;5;241m*\u001b[39mparams)[\u001b[38;5;124m\"\u001b[39m\u001b[38;5;124mlogits\u001b[39m\u001b[38;5;124m\"\u001b[39m]\n\u001b[1;32m      4\u001b[0m     \u001b[38;5;28;01mreturn\u001b[39;00m tf\u001b[38;5;241m.\u001b[39mreduce_mean(pred, axis\u001b[38;5;241m=\u001b[39m\u001b[38;5;241m0\u001b[39m)\n\u001b[0;32m----> 6\u001b[0m bench \u001b[38;5;241m=\u001b[39m \u001b[43mclassification_metrics\u001b[49m\u001b[43m(\u001b[49m\n\u001b[1;32m      7\u001b[0m \u001b[43m    \u001b[49m\u001b[43mdata_factory\u001b[49m\u001b[38;5;241;43m=\u001b[39;49m\u001b[43mdata_factory_factory\u001b[49m\u001b[43m(\u001b[49m\u001b[43m)\u001b[49m\u001b[43m,\u001b[49m\n\u001b[1;32m      8\u001b[0m \u001b[43m    \u001b[49m\u001b[43mprediction_fn\u001b[49m\u001b[38;5;241;43m=\u001b[39;49m\u001b[43mprediction_fn\u001b[49m\u001b[43m,\u001b[49m\n\u001b[1;32m      9\u001b[0m \u001b[43m    \u001b[49m\u001b[43moutcome_label\u001b[49m\u001b[38;5;241;43m=\u001b[39;49m\u001b[38;5;124;43m'\u001b[39;49m\u001b[38;5;124;43my\u001b[39;49m\u001b[38;5;124;43m'\u001b[39;49m\u001b[43m,\u001b[49m\n\u001b[1;32m     10\u001b[0m \u001b[43m    \u001b[49m\u001b[43mby_vars\u001b[49m\u001b[38;5;241;43m=\u001b[39;49m\u001b[43m[\u001b[49m\u001b[43m]\u001b[49m\n\u001b[1;32m     11\u001b[0m \u001b[43m)\u001b[49m\n\u001b[1;32m     13\u001b[0m fig, ax \u001b[38;5;241m=\u001b[39m plt\u001b[38;5;241m.\u001b[39msubplots(\u001b[38;5;241m1\u001b[39m, \u001b[38;5;241m2\u001b[39m, figsize\u001b[38;5;241m=\u001b[39m(\u001b[38;5;241m9\u001b[39m, \u001b[38;5;241m2\u001b[39m))\n\u001b[1;32m     14\u001b[0m ax[\u001b[38;5;241m0\u001b[39m]\u001b[38;5;241m.\u001b[39mplot(bench[\u001b[38;5;124m'\u001b[39m\u001b[38;5;124mauroc\u001b[39m\u001b[38;5;124m'\u001b[39m][\u001b[38;5;124m'\u001b[39m\u001b[38;5;124mfpr\u001b[39m\u001b[38;5;124m'\u001b[39m], bench[\u001b[38;5;124m'\u001b[39m\u001b[38;5;124mauroc\u001b[39m\u001b[38;5;124m'\u001b[39m][\u001b[38;5;124m'\u001b[39m\u001b[38;5;124mtpr\u001b[39m\u001b[38;5;124m'\u001b[39m])\n",
      "File \u001b[0;32m~/workspace/bayesianquilts/bayesianquilts/metrics/classification.py:102\u001b[0m, in \u001b[0;36mclassification_metrics\u001b[0;34m(data_factory, prediction_fn, preprocessing_fn, by_vars, outcome_label, method, save_file)\u001b[0m\n\u001b[1;32m    100\u001b[0m probs \u001b[38;5;241m=\u001b[39m np\u001b[38;5;241m.\u001b[39mconcatenate(probs, axis\u001b[38;5;241m=\u001b[39m\u001b[38;5;241m0\u001b[39m)\n\u001b[1;32m    101\u001b[0m \u001b[38;5;28;01mfor\u001b[39;00m k \u001b[38;5;129;01min\u001b[39;00m collected_data\u001b[38;5;241m.\u001b[39mkeys():\n\u001b[0;32m--> 102\u001b[0m     collected_data[k] \u001b[38;5;241m=\u001b[39m np\u001b[38;5;241m.\u001b[39msqueeze(\u001b[43mnp\u001b[49m\u001b[38;5;241;43m.\u001b[39;49m\u001b[43mconcatenate\u001b[49m\u001b[43m(\u001b[49m\u001b[43mcollected_data\u001b[49m\u001b[43m[\u001b[49m\u001b[43mk\u001b[49m\u001b[43m]\u001b[49m\u001b[43m,\u001b[49m\u001b[43m \u001b[49m\u001b[43maxis\u001b[49m\u001b[38;5;241;43m=\u001b[39;49m\u001b[38;5;241;43m0\u001b[39;49m\u001b[43m)\u001b[49m)\n\u001b[1;32m    104\u001b[0m computed \u001b[38;5;241m=\u001b[39m pd\u001b[38;5;241m.\u001b[39mDataFrame({\u001b[38;5;124m\"\u001b[39m\u001b[38;5;124mprobs\u001b[39m\u001b[38;5;124m\"\u001b[39m: probs, \u001b[38;5;241m*\u001b[39m\u001b[38;5;241m*\u001b[39mcollected_data})\n\u001b[1;32m    105\u001b[0m \u001b[38;5;28;01mif\u001b[39;00m save_file:\n",
      "File \u001b[0;32m<__array_function__ internals>:200\u001b[0m, in \u001b[0;36mconcatenate\u001b[0;34m(*args, **kwargs)\u001b[0m\n",
      "\u001b[0;31mValueError\u001b[0m: all the input arrays must have same number of dimensions, but the array at index 0 has 1 dimension(s) and the array at index 1000 has 0 dimension(s)"
     ]
    }
   ],
   "source": [
    "def prediction_fn(data):\n",
    "    params = lr_model.sample(128)\n",
    "    pred = lr_model.predictive_distribution(data, **params)[\"logits\"]\n",
    "    return tf.reduce_mean(pred, axis=0)\n",
    "\n",
    "bench = classification_metrics(\n",
    "    data_factory=data_factory_factory(),\n",
    "    prediction_fn=prediction_fn,\n",
    "    outcome_label='y',\n",
    "    by_vars=[]\n",
    ")\n",
    "\n",
    "fig, ax = plt.subplots(1, 2, figsize=(9, 2))\n",
    "ax[0].plot(bench['auroc']['fpr'], bench['auroc']['tpr'])\n",
    "ax[0].text(0.5, 0.1, f\"AUROC: {round(bench['auroc']['auroc'], 2)}\")\n",
    "ax[0].set_xlim((0, 1))\n",
    "ax[0].set_ylim((0, 1))\n",
    "ax[0].set_title(\"ROC\")\n",
    "\n",
    "ax[1].plot(bench['auprc']['recall'], bench['auprc']['precision'])\n",
    "ax[1].text(0.5, 0.8, f\"AUPRC: {round(bench['auprc']['auprc'], 2)}\")\n",
    "ax[1].set_title(\"Precision-Recall\")\n",
    "ax[1].set_xlim((0, 1))\n",
    "ax[1].set_ylim((0, 1))"
   ]
  },
  {
   "cell_type": "code",
   "execution_count": null,
   "metadata": {},
   "outputs": [],
   "source": [
    "test_batch = next(iter(data_factory_factory()()))\n",
    "param_test = lr_model.sample(128)\n"
   ]
  },
  {
   "cell_type": "code",
   "execution_count": null,
   "metadata": {},
   "outputs": [
    {
     "data": {
      "text/plain": [
       "<matplotlib.colorbar.Colorbar at 0x7f1ec83ba800>"
      ]
     },
     "execution_count": 17,
     "metadata": {},
     "output_type": "execute_result"
    },
    {
     "data": {
      "image/png": "[encoded data removed]",
      "text/plain": [
       "<Figure size 700x100 with 2 Axes>"
      ]
     },
     "metadata": {},
     "output_type": "display_data"
    }
   ],
   "source": [
    "beta = tf.reduce_mean(param_test['beta__'], axis=0)\n",
    "fig, ax = plt.subplots(1, 1, figsize=(7, 1 ))\n",
    "im = ax.pcolormesh(beta, cmap='seismic_r')\n",
    "_ = ax.set_xticks(0.5 + np.arange(len(X_.columns)), X_.columns, rotation=90)\n",
    "plt.colorbar(im)"
   ]
  },
  {
   "cell_type": "code",
   "execution_count": null,
   "metadata": {},
   "outputs": [
    {
     "name": "stdout",
     "output_type": "stream",
     "text": [
      "I: 0.010800396641628542 entropy: 25.064170753278198 khat>0.5: 0\n",
      "LL: 0.0117818149574106 entropy: 22.15398336437576 khat>0.5: 88\n",
      "KL: 0.0117818149574106 entropy: 24.963409687143496 khat>0.5: 0\n",
      "Var: 0.011773132325698004 entropy: 24.96410382811141 khat>0.5: 0\n"
     ]
    }
   ],
   "source": [
    "def entropy(probs):\n",
    "    return -tf.math.xlogy(probs, probs)\n",
    "\n",
    "\n",
    "def adaptive_is_loo(self, data, params, hbar=1.0, variational=True):\n",
    "    \"\"\"_summary_\n",
    "\n",
    "    Args:\n",
    "        data (_type_): _description_\n",
    "        params (_type_): _description_\n",
    "        hbar (float, optional): _description_. Defaults to 1.0.\n",
    "        variational (bool, optional):\n",
    "            Should we trust the variational approximation?\n",
    "            If False, assumes that one is passing in all the data at once in a single batch.\n",
    "            Defaults to True.\n",
    "\n",
    "    Returns:\n",
    "        _type_: _description_\n",
    "    \"\"\"\n",
    "\n",
    "    # scaled (theta - bar(theta))/Sigma\n",
    "    beta = params[\"beta__\"]\n",
    "    intercept = params[\"intercept__\"]\n",
    "    X = tf.cast(data[\"X\"], self.dtype)\n",
    "    y = tf.cast(data[\"y\"], self.dtype)[:, 0]\n",
    "    mu = tf.reduce_sum(beta * X, axis=-1) + intercept[..., 0]\n",
    "    sigma = tf.math.sigmoid(mu)\n",
    "    ell = y * (sigma) + (1 - y) * (1 - sigma)\n",
    "    log_ell = tf.math.xlogy(y, sigma) + tf.math.xlogy(1 - y, 1 - sigma)\n",
    "    log_ell_prime = y * (1 - sigma) - (1 - y) * sigma\n",
    "    log_ell_doubleprime = -sigma * (1 - sigma)\n",
    "\n",
    "    \"\"\"\n",
    "    sigma.shape is samples x datapoints\n",
    "    \"\"\"\n",
    "\n",
    "    # compute # \\nabla\\log\\pi(\\btheta|\\calD)\n",
    "    if variational:\n",
    "        # \\nabla\\log\\pi = -\\Sigma^{-1}(theta - \\bar{\\theta})\n",
    "        grad_log_pi = tf.concat(\n",
    "            [\n",
    "                -(intercept - self.surrogate_distribution.model[\"intercept__\"].mean())\n",
    "                / self.surrogate_distribution.model[\"intercept__\"].variance(),\n",
    "                -(beta - self.surrogate_distribution.model[\"beta__\"].mean())\n",
    "                / self.surrogate_distribution.model[\"beta__\"].variance(),\n",
    "            ],\n",
    "            axis=-1,\n",
    "        )\n",
    "        intercept_sd = (\n",
    "            self.surrogate_distribution.model[\"intercept__\"].variance() ** 0.5\n",
    "        )\n",
    "        beta_sd = self.surrogate_distribution.model[\"beta__\"].variance() ** 0.5\n",
    "\n",
    "        log_pi = self.surrogate_distribution.model[\"beta__\"].log_prob(\n",
    "            params[\"beta__\"]\n",
    "        ) + self.surrogate_distribution.model[\"intercept__\"].log_prob(\n",
    "            params[\"intercept__\"]\n",
    "        )\n",
    "        log_pi -= tf.reduce_max(log_pi, axis=0)\n",
    "        # log_pi.shape: [samples]\n",
    "    else:\n",
    "        \"\"\"\n",
    "        Recall Bayes rule:\n",
    "        \\log pi(\\btheta|\\calD) = \\sum_i\\log ell_i(\\btheta) + \\log\\pi(\\btheta) + const\n",
    "\n",
    "        so\n",
    "        \\nabla\\log\\pi(\\btheta|\\calD) = \\sum_i (ell_i)'x + grad\\log\\pi(\\btheta)\n",
    "\n",
    "        \"\"\"\n",
    "        log_pi = tf.reduce_sum(log_ell, axis=1, keepdims=True)[:, 0]\n",
    "        log_pi += self.prior_distribution.log_prob(\n",
    "            {\n",
    "                \"regression_model\": {\n",
    "                    k: tf.cast(params[k], self.dtype) for k in self.regression_var_list\n",
    "                },\n",
    "                \"intercept_model\": {\n",
    "                    k: tf.cast(params[k], self.dtype) for k in self.intercept_var_list\n",
    "                },\n",
    "            }\n",
    "        )\n",
    "        # pi \\propto\n",
    "        grad_log_pi = tf.reduce_sum(\n",
    "            log_ell[..., tf.newaxis] * X, axis=1, keepdims=True\n",
    "        )  # TODO NEED PRIOR TERM\n",
    "\n",
    "        prior_intercept_sd = (\n",
    "            self.prior_distribution.model[\"intercept_model\"]\n",
    "            .model[\"intercept__\"]\n",
    "            .variance()\n",
    "            ** 0.5\n",
    "        )\n",
    "        prior_beta_sd = params[\"global_scale\"]\n",
    "\n",
    "        intercept_sd = tf.math.reduce_std(intercept, 0, keepdims=True)\n",
    "        beta_sd = tf.math.reduce_std(beta, 0, keepdims=True)\n",
    "\n",
    "    # log-likelihood descent\n",
    "\n",
    "    def T_ll():\n",
    "        Q_beta = -log_ell_prime[..., tf.newaxis] * X\n",
    "        Q_intercept = -log_ell_prime[..., tf.newaxis]\n",
    "\n",
    "        standardized = tf.concat(\n",
    "            [Q_beta / beta_sd, Q_intercept / intercept_sd], axis=-1\n",
    "        )\n",
    "        standardized = tf.reduce_max(tf.math.abs(standardized), axis=-1)\n",
    "        standardized = tf.reduce_max(standardized, axis=0, keepdims=True)[\n",
    "            ..., tf.newaxis\n",
    "        ]\n",
    "\n",
    "        h = hbar / standardized\n",
    "        logJ = tf.math.log1p(\n",
    "            tf.math.abs(\n",
    "                h\n",
    "                * (1 + tf.math.reduce_sum(X**2, -1, keepdims=True))[tf.newaxis, :, :]\n",
    "                * (sigma * (1 - sigma))[..., tf.newaxis]\n",
    "            )[..., 0]\n",
    "        )\n",
    "        beta_ll = beta + h * Q_beta\n",
    "        intercept_ll = intercept + h * Q_intercept\n",
    "        return beta_ll, intercept_ll, logJ\n",
    "\n",
    "    def T_kl():\n",
    "\n",
    "        Q_beta = ((-1) ** y * tf.math.exp(log_pi[..., tf.newaxis] + mu * (1 - 2 * y)))[\n",
    "            ..., tf.newaxis\n",
    "        ] * data[\"X\"]\n",
    "        Q_intercept = (\n",
    "            (-1) ** y * tf.math.exp(log_pi[..., tf.newaxis] + mu * (1 - 2 * y))\n",
    "        )[..., tf.newaxis]\n",
    "\n",
    "        dQ = (\n",
    "            (-1) ** y[tf.newaxis, :]\n",
    "            * tf.math.exp(log_pi[..., tf.newaxis] + mu * (1 - 2 * y[tf.newaxis, :]))\n",
    "            * (\n",
    "                grad_log_pi[..., 0]\n",
    "                + (1 - 2 * y)[tf.newaxis, :]\n",
    "                + tf.reduce_sum(\n",
    "                    X * (grad_log_pi[..., 1:] + (1 - 2 * y)[:, tf.newaxis] * X), axis=-1\n",
    "                )\n",
    "            )\n",
    "        )\n",
    "\n",
    "        standardized = tf.concat(\n",
    "            [Q_beta / beta_sd, Q_intercept / intercept_sd], axis=-1\n",
    "        )\n",
    "        standardized = tf.reduce_max(tf.math.abs(standardized), axis=-1)\n",
    "        standardized = tf.reduce_max(standardized, axis=0, keepdims=True)[\n",
    "            ..., tf.newaxis\n",
    "        ]\n",
    "\n",
    "        h = hbar / standardized\n",
    "\n",
    "        intercept_kl = intercept + h * Q_intercept\n",
    "        beta_kl = beta + h * Q_beta\n",
    "\n",
    "        logJ = tf.math.log1p(tf.math.abs(h[..., 0] * dQ))\n",
    "        return beta_kl, intercept_kl, logJ\n",
    "\n",
    "    # variance descent -(log ell)'/l\n",
    "\n",
    "    def T_I():\n",
    "        Q = tf.zeros_like(log_ell)\n",
    "        return (\n",
    "            beta + Q[..., tf.newaxis],\n",
    "            intercept + Q[..., tf.newaxis],\n",
    "            tf.zeros_like(Q),\n",
    "        )\n",
    "\n",
    "    def T_var():\n",
    "\n",
    "        Q_beta = (\n",
    "            (-1) ** y * tf.math.exp(log_pi[..., tf.newaxis] + 2 * mu * (1 - 2 * y))\n",
    "        )[..., tf.newaxis] * data[\"X\"]\n",
    "        Q_intercept = (\n",
    "            (-1) ** y * tf.math.exp(log_pi[..., tf.newaxis] + 2 * mu * (1 - 2 * y))\n",
    "        )[..., tf.newaxis]\n",
    "\n",
    "        dQ = (\n",
    "            (-1) ** y[tf.newaxis, :]\n",
    "            * tf.math.exp(log_pi[..., tf.newaxis] + 2 * mu * (1 - 2 * y[tf.newaxis, :]))\n",
    "            * (\n",
    "                grad_log_pi[..., 0]\n",
    "                + (1 - 2 * y)[tf.newaxis, :]\n",
    "                + tf.reduce_sum(\n",
    "                    X * (grad_log_pi[..., 1:] + 2 * (1 - 2 * y)[:, tf.newaxis] * X),\n",
    "                    axis=-1,\n",
    "                )\n",
    "            )\n",
    "        )\n",
    "\n",
    "        standardized = tf.concat(\n",
    "            [Q_beta / beta_sd, Q_intercept / intercept_sd], axis=-1\n",
    "        )\n",
    "        standardized = tf.reduce_max(tf.math.abs(standardized), axis=-1)\n",
    "        standardized = tf.reduce_max(standardized, axis=0, keepdims=True)[\n",
    "            ..., tf.newaxis\n",
    "        ]\n",
    "\n",
    "        h = hbar / standardized\n",
    "\n",
    "        intercept_kl = intercept + h * Q_intercept\n",
    "        beta_kl = beta + h * Q_beta\n",
    "\n",
    "        logJ = tf.math.log1p(tf.math.abs(h[..., 0] * dQ))\n",
    "        return beta_kl, intercept_kl, logJ\n",
    "\n",
    "    def IS(Q):\n",
    "        beta_new, intercept_new, logJ = Q()\n",
    "        mu_new = tf.reduce_sum(beta_new * X, axis=-1) + intercept_new[..., 0]\n",
    "        sigma_new = tf.math.sigmoid(mu_new)\n",
    "        ell_new = y * (sigma_new) + (1 - y) * (1 - sigma_new)\n",
    "        log_ell_new = tf.math.xlogy(y, sigma_new) + tf.math.xlogy(1 - y, 1 - sigma_new)\n",
    "        transformed = params.copy()\n",
    "        transformed[\"beta__\"] = beta_new[..., tf.newaxis, :]\n",
    "        transformed[\"intercept__\"] = intercept_new[..., tf.newaxis, :]\n",
    "        transformed[\"global_scale\"] = transformed[\"global_scale\"][..., tf.newaxis, :]\n",
    "        transformed[\"global_scale_aux\"] = transformed[\"global_scale_aux\"][\n",
    "            ..., tf.newaxis, :\n",
    "        ]\n",
    "\n",
    "        if variational:\n",
    "            # We trust the variational approximation, so \\hat{pi} = pi\n",
    "            # N_samples x N_data\n",
    "            delta_log_pi = (\n",
    "                self.surrogate_distribution.log_prob(transformed)\n",
    "                - log_pi[:, tf.newaxis]\n",
    "            )\n",
    "            delta_log_pi = delta_log_pi - tf.reduce_max(\n",
    "                delta_log_pi, axis=0, keepdims=True\n",
    "            )\n",
    "            pass\n",
    "        else:\n",
    "            # we don't trust the variational approximation\n",
    "            # Need to compute log_pi directly by summing over the likelihood\n",
    "\n",
    "            ell_cross = (\n",
    "                tf.reduce_sum(beta_new[..., tf.newaxis, :] * data[\"X\"], -1)\n",
    "                + intercept_new\n",
    "            )\n",
    "            ell_cross = tf.reduce_sum(\n",
    "                ell_cross, -1\n",
    "            )  # this is the likelihood portion of pi(T(theta))\n",
    "\n",
    "            log_pi_new = self.prior_distribution.log_prob(\n",
    "                {\n",
    "                    \"regression_model\": {\n",
    "                        k: tf.cast(transformed[k], self.dtype)\n",
    "                        for k in self.regression_var_list\n",
    "                    },\n",
    "                    \"intercept_model\": {\n",
    "                        k: tf.cast(transformed[k], self.dtype)\n",
    "                        for k in self.intercept_var_list\n",
    "                    },\n",
    "                }\n",
    "            )[:, tf.newaxis]\n",
    "            log_pi_new += ell_cross\n",
    "            log_pi_old = self.surrogate_distribution.log_prob(params)\n",
    "            # Incorporate the prior\n",
    "            delta_log_pi = log_pi_new - log_pi_old[:, tf.newaxis]\n",
    "            delta_log_pi = delta_log_pi - tf.reduce_max(\n",
    "                delta_log_pi, axis=0, keepdims=True\n",
    "            )\n",
    "\n",
    "        log_eta_weights = delta_log_pi - log_ell_new + logJ\n",
    "        psis_weights, khat = nppsis.psislw(log_eta_weights)\n",
    "        \n",
    "        eta_weights = tf.math.exp(log_eta_weights)\n",
    "        eta_weights = eta_weights / tf.reduce_sum(eta_weights, axis=0, keepdims=True)\n",
    "\n",
    "        psis_weights = tf.math.exp(psis_weights)\n",
    "        psis_weights = psis_weights / tf.math.reduce_sum(\n",
    "            psis_weights, axis=0, keepdims=True\n",
    "        )\n",
    "\n",
    "        weight_entropy = self.entropy(eta_weights)\n",
    "        psis_entropy = self.entropy(psis_weights)\n",
    "\n",
    "        p_loo_new = tf.reduce_sum(sigma_new * eta_weights, axis=0)\n",
    "        p_loo_psis = tf.reduce_sum(sigma_new * psis_weights, axis=0)\n",
    "        p_loo_sd = tf.math.reduce_std(sigma_new * eta_weights, axis=0)\n",
    "        ll_loo_new = tf.reduce_sum(eta_weights * ell_new, axis=0)\n",
    "        ll_loo_psis = tf.reduce_sum(psis_weights * ell_new, axis=0)\n",
    "        ll_loo_sd = tf.math.reduce_std(eta_weights * ell_new, axis=0)\n",
    "        return (\n",
    "            eta_weights,\n",
    "            psis_weights,\n",
    "            p_loo_new,\n",
    "            p_loo_sd,\n",
    "            ll_loo_new,\n",
    "            ll_loo_sd,\n",
    "            weight_entropy,\n",
    "            khat,\n",
    "            p_loo_psis,\n",
    "            ll_loo_psis,\n",
    "        )\n",
    "    (\n",
    "        eta_I,\n",
    "        eta_I_psis,\n",
    "        p_loo_I,\n",
    "        p_loo_I_sd,\n",
    "        ll_loo_I,\n",
    "        ll_loo_I_sd,\n",
    "        S_I,\n",
    "        k_I,\n",
    "        p_psis_I,\n",
    "        ll_psis_I,\n",
    "    ) = IS(T_I)\n",
    "    (\n",
    "        eta_ll,\n",
    "        eta_ll_psis,\n",
    "        p_loo_ll,\n",
    "        p_loo_ll_sd,\n",
    "        ll_loo_ll,\n",
    "        ll_loo_ll_sd,\n",
    "        S_ll,\n",
    "        k_ll,\n",
    "        p_psis_ll,\n",
    "        ll_psis_ll,\n",
    "    ) = IS(T_ll)\n",
    "\n",
    "    (\n",
    "        eta_kl,\n",
    "        eta_kl_psis,\n",
    "        p_loo_kl,\n",
    "        p_loo_kl_sd,\n",
    "        ll_loo_kl,\n",
    "        ll_loo_kl_sd,\n",
    "        S_kl,\n",
    "        k_kl,\n",
    "        p_psis_kl,\n",
    "        ll_psis_kl,\n",
    "    ) = IS(T_kl)\n",
    "\n",
    "    (\n",
    "        eta_var,\n",
    "        eta_var_psis,\n",
    "        p_loo_var,\n",
    "        p_loo_var_sd,\n",
    "        ll_loo_var,\n",
    "        ll_loo_var_sd,\n",
    "        S_var,\n",
    "        k_var,\n",
    "        p_psis_var,\n",
    "        ll_psis_var,\n",
    "    ) = IS(T_var)\n",
    "\n",
    "    # kl descent\n",
    "\n",
    "    return {\n",
    "        \"I\": {\n",
    "            \"p_loo\": p_loo_I,\n",
    "            \"p_loo_sd\": p_loo_I_sd,\n",
    "            \"ll_loo\": ll_loo_I,\n",
    "            \"ll_loo_sd\": ll_loo_I_sd,\n",
    "            \"S\": S_I,\n",
    "            \"khat\": k_I,\n",
    "            \"p_psis\": p_psis_I,\n",
    "            \"ll_psis\": ll_psis_I,\n",
    "        },\n",
    "        \"KL\": {\n",
    "            \"p_loo\": p_loo_kl,\n",
    "            \"p_loo_sd\": p_loo_kl_sd,\n",
    "            \"ll_loo\": ll_loo_kl,\n",
    "            \"ll_loo_sd\": ll_loo_kl_sd,\n",
    "            \"S\": S_kl,\n",
    "            \"khat\": k_kl,\n",
    "            \"p_psis\": p_psis_kl,\n",
    "            \"ll_psis\": ll_psis_kl,\n",
    "        },\n",
    "        \"LL\": {\n",
    "            \"p_loo\": p_loo_kl,\n",
    "            \"p_loo_sd\": p_loo_kl_sd,\n",
    "            \"ll_loo\": ll_loo_kl,\n",
    "            \"ll_loo_sd\": ll_loo_kl_sd,\n",
    "            \"S\": S_ll,\n",
    "            \"khat\": k_ll,\n",
    "            \"p_psis\": p_psis_ll,\n",
    "            \"ll_psis\": ll_psis_ll,\n",
    "        },\n",
    "        \"Var\": {\n",
    "            \"p_loo\": p_loo_var,\n",
    "            \"p_loo_sd\": p_loo_var_sd,\n",
    "            \"ll_loo\": ll_loo_var,\n",
    "            \"ll_loo_sd\": ll_loo_var_sd,\n",
    "            \"S\": S_var,\n",
    "            \"khat\": k_var,\n",
    "            \"p_psis\": p_psis_var,\n",
    "            \"ll_psis\": ll_psis_var,\n",
    "        },\n",
    "    }\n",
    "\n",
    "\n",
    "param_test = lr_model.sample(256)\n",
    "\n",
    "loo = adaptive_is_loo(lr_model, test_batch, param_test, 1., variational=True)\n",
    "\n",
    "# loo = adaptive_is_loo(lr_model, test_batch, param_test, 0.01, variational=False)\n",
    "\n",
    "\n",
    "for T in [\"I\", \"LL\", \"KL\", \"Var\"]:\n",
    "    print(\n",
    "        f\"{T}: {np.sqrt(np.sum(loo[T]['p_loo_sd']**2))} entropy: {np.sqrt(np.sum(loo[T]['S']))} khat>0.5: {np.sum(loo[T]['khat']>0.5)}\"\n",
    "    )"
   ]
  },
  {
   "cell_type": "code",
   "execution_count": null,
   "metadata": {},
   "outputs": [
    {
     "data": {
      "text/plain": [
       "array([-0.38360719, -0.3366498 , -0.09147351, -0.46308591, -0.46164129,\n",
       "       -0.4631648 , -0.46338338, -0.46322904, -0.45611439, -0.46269072,\n",
       "       -0.46355763, -0.44720727, -0.46537298, -0.47336659, -0.4582852 ,\n",
       "       -0.4617715 , -0.4646178 , -0.45840417, -0.46647197, -0.4637153 ,\n",
       "       -0.48268654, -0.46309451, -0.46635706, -0.46249215, -0.45803209,\n",
       "       -0.46076229, -0.49204473, -0.4608339 , -0.46303152, -0.44760817,\n",
       "       -0.45636867, -0.46064504, -0.4560904 , -0.48339656, -0.46231431,\n",
       "       -0.46299921, -0.46510051, -0.48331022, -0.46344042, -0.46080898,\n",
       "       -0.46229899, -0.45881087, -0.45564762, -0.46375812, -0.48408271,\n",
       "       -0.4575559 , -0.46149264, -0.45941096, -0.46243295, -0.46534056,\n",
       "       -0.45468591, -0.46108092, -0.48548817, -0.46079575, -0.45965428,\n",
       "       -0.47337742, -0.46625113, -0.46254619, -0.46249486, -0.46379081,\n",
       "       -0.45856293, -0.45721323, -0.46234579, -0.48716158, -0.46482762,\n",
       "       -0.45930243, -0.46658623, -0.46117797, -0.45480915, -0.45678265,\n",
       "       -0.46551657, -0.48665277, -0.48667353, -0.45967649, -0.47236504,\n",
       "       -0.46736938, -0.46130803, -0.46461608, -0.45997092, -0.48228668,\n",
       "       -0.46441237, -0.45967022, -0.46387193, -0.46374704, -0.46469656,\n",
       "       -0.46184884, -0.47507982, -0.46082773, -0.47493566, -0.46295546,\n",
       "       -0.46213417, -0.45654166, -0.46602117, -0.4616434 , -0.46647197,\n",
       "       -0.47187082, -0.46226872, -0.45859599, -0.4557676 , -0.45697187,\n",
       "       -0.46326033, -0.4651491 , -0.45996438, -0.46212018, -0.45457925,\n",
       "       -0.45677699, -0.48172683, -0.46358445, -0.46004007, -0.46325192,\n",
       "       -0.47524629, -0.46520778, -0.46644254, -0.45644042, -0.46361918,\n",
       "       -0.4613912 , -0.46099915, -0.46380914, -0.45481168, -0.45452289,\n",
       "       -0.45688332, -0.46268088, -0.46432121, -0.46586141, -0.48228813,\n",
       "       -0.46281747, -0.46288463, -0.46075119])"
      ]
     },
     "execution_count": 19,
     "metadata": {},
     "output_type": "execute_result"
    }
   ],
   "source": [
    "loo['I']['khat']"
   ]
  },
  {
   "cell_type": "markdown",
   "metadata": {},
   "source": [
    "# Compute LOO AU ROC/PRC"
   ]
  },
  {
   "cell_type": "code",
   "execution_count": null,
   "metadata": {},
   "outputs": [],
   "source": [
    "step_size = 0.2\n",
    "def prediction_fn_stepaway(data):\n",
    "    params = lr_model.sample(100)\n",
    "    loo = adaptive_is_loo(lr_model, data, params, step_size)\n",
    "    return loo[\"KL\"]['p_psis']\n",
    "\n",
    "def prediction_fn_loo(data):\n",
    "    params = lr_model.sample(100)\n",
    "    pred = adaptive_is_loo(lr_model, data, params, step_size)[\"I\"]['p_psis']\n",
    "    return pred\n",
    "\n"
   ]
  },
  {
   "cell_type": "code",
   "execution_count": null,
   "metadata": {},
   "outputs": [
    {
     "name": "stderr",
     "output_type": "stream",
     "text": [
      "13it [00:22,  1.75s/it]\n",
      "13it [00:22,  1.72s/it]\n"
     ]
    }
   ],
   "source": [
    "bench_stepaway_loo = classification_metrics(\n",
    "    data_factory=data_factory_factory(batch_size=2000),\n",
    "    prediction_fn=prediction_fn_stepaway,\n",
    "    outcome_label='y',\n",
    "    by_vars=[]\n",
    ")\n",
    "\n",
    "bench_loo = classification_metrics(\n",
    "    data_factory=data_factory_factory(batch_size=2000),\n",
    "    prediction_fn=prediction_fn_loo,\n",
    "    outcome_label='y',\n",
    "    by_vars=[]\n",
    ")\n",
    "\n"
   ]
  },
  {
   "cell_type": "markdown",
   "metadata": {},
   "source": [
    "Step-away LOO"
   ]
  },
  {
   "cell_type": "code",
   "execution_count": null,
   "metadata": {},
   "outputs": [
    {
     "data": {
      "text/plain": [
       "(0.0, 1.0)"
      ]
     },
     "execution_count": 22,
     "metadata": {},
     "output_type": "execute_result"
    },
    {
     "data": {
      "image/png": "[encoded data removed]",
      "text/plain": [
       "<Figure size 900x200 with 2 Axes>"
      ]
     },
     "metadata": {},
     "output_type": "display_data"
    }
   ],
   "source": [
    "fig, ax = plt.subplots(1, 2, figsize=(9, 2))\n",
    "ax[0].plot(bench_stepaway_loo['auroc']['fpr'], bench_stepaway_loo['auroc']['tpr'])\n",
    "ax[0].text(0.5, 0.1, f\"AUROC: {round(bench_stepaway_loo['auroc']['auroc'], 2)}\")\n",
    "ax[0].set_xlim((0, 1))\n",
    "ax[0].set_ylim((0, 1))\n",
    "ax[0].set_title(\"ROC\")\n",
    "\n",
    "ax[1].plot(bench_stepaway_loo['auprc']['recall'], bench_stepaway_loo['auprc']['precision'])\n",
    "ax[1].text(0.5, 0.8, f\"AUPRC: {round(bench_stepaway_loo['auprc']['auprc'], 2)}\")\n",
    "ax[1].set_title(\"Precision-Recall\")\n",
    "ax[1].set_xlim((0, 1))\n",
    "ax[1].set_ylim((0, 1))"
   ]
  },
  {
   "cell_type": "markdown",
   "metadata": {},
   "source": [
    "LOO w/o stepaway"
   ]
  },
  {
   "cell_type": "code",
   "execution_count": null,
   "metadata": {},
   "outputs": [
    {
     "data": {
      "text/plain": [
       "(0.0, 1.0)"
      ]
     },
     "execution_count": 23,
     "metadata": {},
     "output_type": "execute_result"
    },
    {
     "data": {
      "image/png": "[encoded data removed]",
      "text/plain": [
       "<Figure size 900x200 with 2 Axes>"
      ]
     },
     "metadata": {},
     "output_type": "display_data"
    }
   ],
   "source": [
    "fig, ax = plt.subplots(1, 2, figsize=(9, 2))\n",
    "ax[0].plot(bench_loo['auroc']['fpr'], bench_loo['auroc']['tpr'])\n",
    "ax[0].text(0.5, 0.1, f\"AUROC: {round(bench_loo['auroc']['auroc'], 2)}\")\n",
    "ax[0].set_xlim((0, 1))\n",
    "ax[0].set_ylim((0, 1))\n",
    "ax[0].set_title(\"ROC\")\n",
    "\n",
    "ax[1].plot(bench_loo['auprc']['recall'], bench_loo['auprc']['precision'])\n",
    "ax[1].text(0.5, 0.8, f\"AUPRC: {round(bench_loo['auprc']['auprc'], 2)}\")\n",
    "ax[1].set_title(\"Precision-Recall\")\n",
    "ax[1].set_xlim((0, 1))\n",
    "ax[1].set_ylim((0, 1))"
   ]
  },
  {
   "cell_type": "markdown",
   "metadata": {},
   "source": [
    "Training data metrics"
   ]
  },
  {
   "cell_type": "code",
   "execution_count": null,
   "metadata": {},
   "outputs": [
    {
     "data": {
      "text/plain": [
       "0.49432691215890473"
      ]
     },
     "execution_count": 24,
     "metadata": {},
     "output_type": "execute_result"
    }
   ],
   "source": [
    "bench['auroc']['auroc']"
   ]
  },
  {
   "cell_type": "code",
   "execution_count": null,
   "metadata": {},
   "outputs": [
    {
     "name": "stderr",
     "output_type": "stream",
     "text": [
      "0it [00:00, ?it/s]"
     ]
    },
    {
     "name": "stderr",
     "output_type": "stream",
     "text": [
      "26it [00:31,  1.22s/it]\n"
     ]
    }
   ],
   "source": [
    "params = lr_model.sample(200)\n",
    "loo_out = []\n",
    "for batch in tqdm(iter(data_factory_factory(batch_size=1000, repeat=False)())):\n",
    "    loo_out += [adaptive_is_loo(lr_model, batch, params, 0.5, variational=True)]"
   ]
  },
  {
   "cell_type": "code",
   "execution_count": null,
   "metadata": {},
   "outputs": [
    {
     "data": {
      "text/plain": [
       "dict_keys(['I', 'KL', 'LL', 'Var'])"
      ]
     },
     "execution_count": 26,
     "metadata": {},
     "output_type": "execute_result"
    }
   ],
   "source": [
    "loo_out[0].keys()"
   ]
  },
  {
   "cell_type": "code",
   "execution_count": null,
   "metadata": {},
   "outputs": [],
   "source": [
    "khat = {}\n",
    "p_loo = {}\n",
    "for method in [\"I\", \"LL\", \"KL\", \"Var\"]:\n",
    "    khat[method] = np.concatenate([out[method][\"khat\"] for out in loo_out], axis=0)\n",
    "    p_loo[method] = np.concatenate([out[method][\"p_loo\"] for out in loo_out], axis=0)"
   ]
  },
  {
   "cell_type": "code",
   "execution_count": null,
   "metadata": {},
   "outputs": [
    {
     "data": {
      "image/png": "[encoded data removed]",
      "text/plain": [
       "<Figure size 640x480 with 16 Axes>"
      ]
     },
     "metadata": {},
     "output_type": "display_data"
    }
   ],
   "source": [
    "khat = pd.DataFrame(khat)\n",
    "_ = pd.plotting.scatter_matrix(khat)\n"
   ]
  },
  {
   "cell_type": "code",
   "execution_count": null,
   "metadata": {},
   "outputs": [
    {
     "data": {
      "image/png": "[encoded data removed]",
      "text/plain": [
       "<Figure size 640x480 with 16 Axes>"
      ]
     },
     "metadata": {},
     "output_type": "display_data"
    }
   ],
   "source": [
    "p_loo = pd.DataFrame(p_loo)\n",
    "_ = pd.plotting.scatter_matrix(p_loo)"
   ]
  },
  {
   "cell_type": "code",
   "execution_count": null,
   "metadata": {},
   "outputs": [
    {
     "data": {
      "text/html": [
       "<div>\n",
       "<style scoped>\n",
       "    .dataframe tbody tr th:only-of-type {\n",
       "        vertical-align: middle;\n",
       "    }\n",
       "\n",
       "    .dataframe tbody tr th {\n",
       "        vertical-align: top;\n",
       "    }\n",
       "\n",
       "    .dataframe thead th {\n",
       "        text-align: right;\n",
       "    }\n",
       "</style>\n",
       "<table border=\"1\" class=\"dataframe\">\n",
       "  <thead>\n",
       "    <tr style=\"text-align: right;\">\n",
       "      <th></th>\n",
       "      <th>I</th>\n",
       "      <th>LL</th>\n",
       "      <th>KL</th>\n",
       "      <th>Var</th>\n",
       "    </tr>\n",
       "  </thead>\n",
       "  <tbody>\n",
       "    <tr>\n",
       "      <th>count</th>\n",
       "      <td>25603.000000</td>\n",
       "      <td>25603.000000</td>\n",
       "      <td>25603.000000</td>\n",
       "      <td>25603.000000</td>\n",
       "    </tr>\n",
       "    <tr>\n",
       "      <th>mean</th>\n",
       "      <td>-0.415910</td>\n",
       "      <td>0.352778</td>\n",
       "      <td>-0.421031</td>\n",
       "      <td>-0.421438</td>\n",
       "    </tr>\n",
       "    <tr>\n",
       "      <th>std</th>\n",
       "      <td>0.008193</td>\n",
       "      <td>0.185918</td>\n",
       "      <td>0.018959</td>\n",
       "      <td>0.019119</td>\n",
       "    </tr>\n",
       "    <tr>\n",
       "      <th>min</th>\n",
       "      <td>-0.467905</td>\n",
       "      <td>-0.411758</td>\n",
       "      <td>-0.484327</td>\n",
       "      <td>-0.485928</td>\n",
       "    </tr>\n",
       "    <tr>\n",
       "      <th>25%</th>\n",
       "      <td>-0.420307</td>\n",
       "      <td>0.224020</td>\n",
       "      <td>-0.434526</td>\n",
       "      <td>-0.435084</td>\n",
       "    </tr>\n",
       "    <tr>\n",
       "      <th>50%</th>\n",
       "      <td>-0.416587</td>\n",
       "      <td>0.341794</td>\n",
       "      <td>-0.423728</td>\n",
       "      <td>-0.424109</td>\n",
       "    </tr>\n",
       "    <tr>\n",
       "      <th>75%</th>\n",
       "      <td>-0.412974</td>\n",
       "      <td>0.488785</td>\n",
       "      <td>-0.408362</td>\n",
       "      <td>-0.408713</td>\n",
       "    </tr>\n",
       "    <tr>\n",
       "      <th>max</th>\n",
       "      <td>-0.089841</td>\n",
       "      <td>1.126701</td>\n",
       "      <td>-0.089777</td>\n",
       "      <td>-0.080689</td>\n",
       "    </tr>\n",
       "  </tbody>\n",
       "</table>\n",
       "</div>"
      ],
      "text/plain": [
       "                  I            LL            KL           Var\n",
       "count  25603.000000  25603.000000  25603.000000  25603.000000\n",
       "mean      -0.415910      0.352778     -0.421031     -0.421438\n",
       "std        0.008193      0.185918      0.018959      0.019119\n",
       "min       -0.467905     -0.411758     -0.484327     -0.485928\n",
       "25%       -0.420307      0.224020     -0.434526     -0.435084\n",
       "50%       -0.416587      0.341794     -0.423728     -0.424109\n",
       "75%       -0.412974      0.488785     -0.408362     -0.408713\n",
       "max       -0.089841      1.126701     -0.089777     -0.080689"
      ]
     },
     "execution_count": 30,
     "metadata": {},
     "output_type": "execute_result"
    }
   ],
   "source": [
    "khat.describe()"
   ]
  },
  {
   "cell_type": "code",
   "execution_count": null,
   "metadata": {},
   "outputs": [
    {
     "data": {
      "text/html": [
       "<div>\n",
       "<style scoped>\n",
       "    .dataframe tbody tr th:only-of-type {\n",
       "        vertical-align: middle;\n",
       "    }\n",
       "\n",
       "    .dataframe tbody tr th {\n",
       "        vertical-align: top;\n",
       "    }\n",
       "\n",
       "    .dataframe thead th {\n",
       "        text-align: right;\n",
       "    }\n",
       "</style>\n",
       "<table border=\"1\" class=\"dataframe\">\n",
       "  <thead>\n",
       "    <tr style=\"text-align: right;\">\n",
       "      <th></th>\n",
       "      <th>I</th>\n",
       "      <th>LL</th>\n",
       "      <th>KL</th>\n",
       "      <th>Var</th>\n",
       "    </tr>\n",
       "  </thead>\n",
       "  <tbody>\n",
       "  </tbody>\n",
       "</table>\n",
       "</div>"
      ],
      "text/plain": [
       "Empty DataFrame\n",
       "Columns: [I, LL, KL, Var]\n",
       "Index: []"
      ]
     },
     "execution_count": 31,
     "metadata": {},
     "output_type": "execute_result"
    }
   ],
   "source": [
    "khat[khat.I > 0.5]"
   ]
  },
  {
   "cell_type": "code",
   "execution_count": null,
   "metadata": {},
   "outputs": [
    {
     "data": {
      "text/html": [
       "<div>\n",
       "<style scoped>\n",
       "    .dataframe tbody tr th:only-of-type {\n",
       "        vertical-align: middle;\n",
       "    }\n",
       "\n",
       "    .dataframe tbody tr th {\n",
       "        vertical-align: top;\n",
       "    }\n",
       "\n",
       "    .dataframe thead th {\n",
       "        text-align: right;\n",
       "    }\n",
       "</style>\n",
       "<table border=\"1\" class=\"dataframe\">\n",
       "  <thead>\n",
       "    <tr style=\"text-align: right;\">\n",
       "      <th></th>\n",
       "      <th>I</th>\n",
       "      <th>LL</th>\n",
       "      <th>KL</th>\n",
       "      <th>Var</th>\n",
       "    </tr>\n",
       "  </thead>\n",
       "  <tbody>\n",
       "    <tr>\n",
       "      <th>count</th>\n",
       "      <td>25603</td>\n",
       "      <td>25603</td>\n",
       "      <td>25603</td>\n",
       "      <td>25603</td>\n",
       "    </tr>\n",
       "    <tr>\n",
       "      <th>unique</th>\n",
       "      <td>1</td>\n",
       "      <td>2</td>\n",
       "      <td>1</td>\n",
       "      <td>1</td>\n",
       "    </tr>\n",
       "    <tr>\n",
       "      <th>top</th>\n",
       "      <td>False</td>\n",
       "      <td>False</td>\n",
       "      <td>False</td>\n",
       "      <td>False</td>\n",
       "    </tr>\n",
       "    <tr>\n",
       "      <th>freq</th>\n",
       "      <td>25603</td>\n",
       "      <td>19616</td>\n",
       "      <td>25603</td>\n",
       "      <td>25603</td>\n",
       "    </tr>\n",
       "  </tbody>\n",
       "</table>\n",
       "</div>"
      ],
      "text/plain": [
       "            I     LL     KL    Var\n",
       "count   25603  25603  25603  25603\n",
       "unique      1      2      1      1\n",
       "top     False  False  False  False\n",
       "freq    25603  19616  25603  25603"
      ]
     },
     "execution_count": 32,
     "metadata": {},
     "output_type": "execute_result"
    }
   ],
   "source": [
    "(khat>0.5).describe()"
   ]
  },
  {
   "cell_type": "code",
   "execution_count": null,
   "metadata": {},
   "outputs": [],
   "source": []
  },
  {
   "cell_type": "code",
   "execution_count": null,
   "metadata": {},
   "outputs": [],
   "source": []
  },
  {
   "cell_type": "code",
   "execution_count": null,
   "metadata": {},
   "outputs": [],
   "source": []
  },
  {
   "cell_type": "code",
   "execution_count": null,
   "metadata": {},
   "outputs": [],
   "source": []
  }
 ],
 "metadata": {
  "kernelspec": {
   "display_name": "env",
   "language": "python",
   "name": "python3"
  },
  "language_info": {
   "codemirror_mode": {
    "name": "ipython",
    "version": 3
   },
   "file_extension": ".py",
   "mimetype": "text/x-python",
   "name": "python",
   "nbconvert_exporter": "python",
   "pygments_lexer": "ipython3",
   "version": "3.10.12"
  }
 },
 "nbformat": 4,
 "nbformat_minor": 2
}
